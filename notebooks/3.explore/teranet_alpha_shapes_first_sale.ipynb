{
 "cells": [
  {
   "cell_type": "markdown",
   "metadata": {
    "collapsed": true,
    "pycharm": {
     "name": "#%% md\n"
    }
   },
   "source": [
    "# GTHA housing market database\n",
    "# OSEMN methodology Step 3: Explore\n",
    "# Exploratory Spatial Data Analysis (ESDA) of the Teranet dataset\n",
    "# Alpha-shapes by first sale\n",
    "\n",
    "This notebook describes the process of generating [alpha shapes](https://en.wikipedia.org/wiki/Alpha_shape) colored by attribute `first_sale` from Teranet records by year. This is intended to represent annual supply of new land use, as represented by transactions on the real estate market.  "
   ]
  },
  {
   "cell_type": "markdown",
   "metadata": {
    "pycharm": {
     "metadata": false,
     "name": "#%% md\n"
    }
   },
   "source": [
    "## Alpha shapes\n",
    "From [wikipedia](https://en.wikipedia.org/wiki/Alpha_shape):  \n",
    "In computational geometry, an alpha shape, or α-shape, is a family of piecewise linear simple curves in the Euclidean plane associated with the shape of a finite set of points. They were first defined by [Edelsbrunner, Kirkpatrick & Seidel (1983)](https://ieeexplore.ieee.org/document/1056714). The alpha-shape associated with a set of points is a generalization of the concept of the convex hull, i.e. every convex hull is an alpha-shape but not every alpha shape is a convex hull.\n",
    "\n",
    "<img src='img/alpha_shapes.png'>\n",
    "\n",
    "In this notebook, alpha shapes (polygons) will be generated from Teranet point data using PySal library in Python."
   ]
  },
  {
   "cell_type": "markdown",
   "metadata": {},
   "source": [
    "## Import dependencies"
   ]
  },
  {
   "cell_type": "code",
   "execution_count": 1,
   "metadata": {
    "pycharm": {
     "is_executing": false,
     "metadata": false,
     "name": "#%%\n"
    }
   },
   "outputs": [
    {
     "name": "stderr",
     "output_type": "stream",
     "text": [
      "/home/stepan/anaconda3/envs/gds/lib/python3.6/site-packages/pysal/model/spvcm/abstracts.py:10: UserWarning: The `dill` module is required to use the sqlite backend fully.\n",
      "  from .sqlite import head_to_sql, start_sql\n"
     ]
    }
   ],
   "source": [
    "import matplotlib.pyplot as plt\n",
    "import pandas as pd\n",
    "import geopandas as gpd\n",
    "import contextily as ctx\n",
    "import seaborn as sns\n",
    "import os\n",
    "import sys\n",
    "from pysal.lib.cg import alpha_shape_auto\n",
    "from shapely.geometry import Point\n",
    "from time import time"
   ]
  },
  {
   "cell_type": "markdown",
   "metadata": {},
   "source": [
    "## Load Teranet data"
   ]
  },
  {
   "cell_type": "code",
   "execution_count": 2,
   "metadata": {},
   "outputs": [
    {
     "data": {
      "text/plain": [
       "['1.1_Teranet_DA.csv',\n",
       " '1.3_Teranet_DA_TAZ_PG_FSA.csv',\n",
       " '2_Teranet_consistent.csv',\n",
       " 'parcel16_epoi13.csv',\n",
       " '1.2_Teranet_DA_TAZ.csv',\n",
       " '4_Teranet_lu_encode.csv',\n",
       " '1.4_Teranet_DA_TAZ_FSA_LU_LUDMTI.csv',\n",
       " '1.4_Teranet_DA_TAZ_FSA_LU.csv',\n",
       " '.ipynb_checkpoints',\n",
       " 'ParcelLandUse.zip',\n",
       " 'ParcelLandUse',\n",
       " 'HHSaleHistory.csv',\n",
       " '3_Teranet_nonan_new_cols.csv',\n",
       " 'GTAjoinedLanduseSales']"
      ]
     },
     "execution_count": 2,
     "metadata": {},
     "output_type": "execute_result"
    }
   ],
   "source": [
    "teranet_path = '../../data/teranet/'\n",
    "os.listdir(teranet_path)"
   ]
  },
  {
   "cell_type": "code",
   "execution_count": 3,
   "metadata": {
    "pycharm": {
     "is_executing": false,
     "metadata": false,
     "name": "#%%\n"
    }
   },
   "outputs": [
    {
     "name": "stderr",
     "output_type": "stream",
     "text": [
      "/home/stepan/anaconda3/envs/gds/lib/python3.6/site-packages/IPython/core/interactiveshell.py:3058: DtypeWarning: Columns (6,11,24) have mixed types. Specify dtype option on import or set low_memory=False.\n",
      "  interactivity=interactivity, compiler=compiler, result=result)\n"
     ]
    },
    {
     "name": "stdout",
     "output_type": "stream",
     "text": [
      "----- DataFrame loaded\n",
      "in 61.70 seconds\n",
      "with 5,188,513 rows\n",
      "and 76 columns\n",
      "-- Column names:\n",
      " Index(['transaction_id', 'lro_num', 'pin', 'consideration_amt',\n",
      "       'registration_date', 'postal_code', 'unitno', 'street_name',\n",
      "       'street_designation', 'street_direction', 'municipality',\n",
      "       'street_number', 'x', 'y', 'dauid', 'csduid', 'csdname', 'taz_o', 'fsa',\n",
      "       'pca_id', 'postal_code_dmti', 'pin_lu', 'landuse', 'prop_code',\n",
      "       'dmti_lu', 'street_name_raw', 'year', 'year_month', 'year3',\n",
      "       'census_year', 'census2001_year', 'tts_year', 'tts1991_year', 'xy',\n",
      "       'pin_total_sales', 'xy_total_sales', 'pin_prev_sales', 'xy_prev_sales',\n",
      "       'xy_first_sale', 'pin_years_since_last_sale',\n",
      "       'xy_years_since_last_sale', 'da_days_since_last_sale',\n",
      "       'da_years_since_last_sale', 'pin_sale_next_6m', 'pin_sale_next_1y',\n",
      "       'pin_sale_next_3y', 'xy_sale_next_6m', 'xy_sale_next_1y',\n",
      "       'xy_sale_next_3y', 'price_2016', 'pin_price_cum_sum',\n",
      "       'xy_price_cum_sum', 'pin_price_pct_change', 'xy_price_pct_change',\n",
      "       'price_da_pct_change', 'med_price_xy', 'med_price_year',\n",
      "       'price_to_med_xy', 'price_to_med_year', 'outlier', 'code', 'lu_class',\n",
      "       'luc_detached', 'luc_condo', 'luc_strata', 'luc_duplex',\n",
      "       'luc_townhouse', 'luc_mixuse', 'luc_underdeveloped', 'luc_mixedcomplex',\n",
      "       'luc_industrial', 'luc_commercial', 'lucr_house', 'lucr', 'lucr_condo',\n",
      "       'lucr_other'],\n",
      "      dtype='object')\n"
     ]
    }
   ],
   "source": [
    "# load DataFrame with Teranet records\n",
    "t = time()\n",
    "teranet_df = pd.read_csv(teranet_path + '4_Teranet_lu_encode.csv',\n",
    "                         parse_dates=['registration_date'])\n",
    "elapsed = time() - t\n",
    "print(\"----- DataFrame loaded\"\n",
    "      \"\\nin {0:.2f} seconds\".format(elapsed) + \n",
    "      \"\\nwith {0:,} rows\\nand {1:,} columns\"\n",
    "      .format(teranet_df.shape[0], teranet_df.shape[1]) + \n",
    "      \"\\n-- Column names:\\n\", teranet_df.columns)"
   ]
  },
  {
   "cell_type": "markdown",
   "metadata": {},
   "source": [
    "## Generate maps of alpha shapes by municipality from Teranet records"
   ]
  },
  {
   "cell_type": "code",
   "execution_count": 4,
   "metadata": {},
   "outputs": [
    {
     "data": {
      "text/plain": [
       "['teranet_alpha_1988.png',\n",
       " 'teranet_alpha_2001.png',\n",
       " 'teranet_alpha_1993.png',\n",
       " 'teranet_alpha_1996.png',\n",
       " 'teranet_alpha_1995.png',\n",
       " 'teranet_alpha_1989.png',\n",
       " 'teranet_alpha_2005.png',\n",
       " 'teranet_alpha_1987.png',\n",
       " 'teranet_alpha_2007.png',\n",
       " 'teranet_alpha_2012.png',\n",
       " 'teranet_alpha_1998.png',\n",
       " 'teranet_alpha_1986.png',\n",
       " 'lucr',\n",
       " 'teranet_alpha_2010.png',\n",
       " 'teranet_alpha_2014.png',\n",
       " 'teranet_alpha_2009.png',\n",
       " 'teranet_alpha_1985.png',\n",
       " 'teranet_alpha_2016.png',\n",
       " 'teranet_alpha_2002.png',\n",
       " 'teranet_alpha_2008.png',\n",
       " 'teranet_alpha_1990.png',\n",
       " 'first_sale',\n",
       " 'teranet_alpha_2004.png',\n",
       " 'teranet_alpha_2011.png',\n",
       " 'teranet_alpha_1994.png',\n",
       " 'teranet_alpha_2006.png',\n",
       " 'first_saleteranet_alpha_xy_first_sale_1998.png',\n",
       " 'teranet_alpha_1999.png',\n",
       " 'teranet_alpha_2015.png',\n",
       " 'teranet_alpha_2017.png',\n",
       " '.ipynb_checkpoints',\n",
       " 'teranet_alpha_1992.png',\n",
       " 'teranet_alpha_2000.png',\n",
       " 'teranet_alpha_1997.png',\n",
       " 'teranet_alpha_2013.png',\n",
       " 'teranet_alpha_2003.png',\n",
       " 'teranet_alpha_1991.png']"
      ]
     },
     "execution_count": 4,
     "metadata": {},
     "output_type": "execute_result"
    }
   ],
   "source": [
    "save_dir = 'results/maps/alpha_shapes/'\n",
    "os.listdir(save_dir)"
   ]
  },
  {
   "cell_type": "markdown",
   "metadata": {},
   "source": [
    "### Colored by `first_sale`"
   ]
  },
  {
   "cell_type": "code",
   "execution_count": 5,
   "metadata": {
    "scrolled": false
   },
   "outputs": [
    {
     "name": "stdout",
     "output_type": "stream",
     "text": [
      "Generating alpha shapes from the 19,912 Teranet records from 1985...\n"
     ]
    },
    {
     "name": "stderr",
     "output_type": "stream",
     "text": [
      "/home/stepan/anaconda3/envs/gds/lib/python3.6/site-packages/geopandas/plotting.py:405: UserWarning: The GeoDataFrame you are attempting to plot is empty. Nothing has been displayed.\n",
      "  \"empty. Nothing has been displayed.\", UserWarning)\n"
     ]
    },
    {
     "name": "stdout",
     "output_type": "stream",
     "text": [
      "Generating alpha shapes from the 35,291 Teranet records from 1986...\n",
      "Generating alpha shapes from the 36,529 Teranet records from 1987...\n",
      "Generating alpha shapes from the 51,180 Teranet records from 1988...\n",
      "Generating alpha shapes from the 81,903 Teranet records from 1989...\n",
      "Generating alpha shapes from the 80,297 Teranet records from 1990...\n",
      "Generating alpha shapes from the 81,096 Teranet records from 1991...\n",
      "Generating alpha shapes from the 87,769 Teranet records from 1992...\n",
      "Generating alpha shapes from the 80,936 Teranet records from 1993...\n",
      "Generating alpha shapes from the 100,207 Teranet records from 1994...\n",
      "Generating alpha shapes from the 88,685 Teranet records from 1995...\n",
      "Generating alpha shapes from the 141,955 Teranet records from 1996...\n",
      "Generating alpha shapes from the 154,189 Teranet records from 1997...\n",
      "Generating alpha shapes from the 145,558 Teranet records from 1998...\n",
      "Generating alpha shapes from the 166,631 Teranet records from 1999...\n",
      "Generating alpha shapes from the 171,575 Teranet records from 2000...\n",
      "Generating alpha shapes from the 181,933 Teranet records from 2001...\n",
      "Generating alpha shapes from the 208,558 Teranet records from 2002...\n",
      "Generating alpha shapes from the 218,332 Teranet records from 2003...\n",
      "Generating alpha shapes from the 220,309 Teranet records from 2004...\n",
      "Generating alpha shapes from the 218,184 Teranet records from 2005...\n",
      "Generating alpha shapes from the 222,078 Teranet records from 2006...\n",
      "Generating alpha shapes from the 231,703 Teranet records from 2007...\n",
      "Generating alpha shapes from the 201,800 Teranet records from 2008...\n",
      "Generating alpha shapes from the 193,519 Teranet records from 2009...\n",
      "Generating alpha shapes from the 216,492 Teranet records from 2010...\n",
      "Generating alpha shapes from the 219,130 Teranet records from 2011...\n",
      "Generating alpha shapes from the 205,341 Teranet records from 2012...\n",
      "Generating alpha shapes from the 207,686 Teranet records from 2013...\n",
      "Generating alpha shapes from the 225,739 Teranet records from 2014...\n",
      "Generating alpha shapes from the 244,787 Teranet records from 2015...\n",
      "Generating alpha shapes from the 253,465 Teranet records from 2016...\n",
      "Generating alpha shapes from the 183,039 Teranet records from 2017...\n",
      "\n",
      "----- Finished plotting, took 2,043.81 seconds (34.06 minutes), 26 errors when generating alpha shapes.\n"
     ]
    }
   ],
   "source": [
    "start_year = 1985\n",
    "end_year = 2017\n",
    "teranet_crs = {'proj': 'latlong', 'ellps': 'WGS84', 'datum': 'WGS84', 'no_defs': True}\n",
    "mun_col = 'csdname'\n",
    "color_col = 'xy_first_sale'\n",
    "path = 'first_sale/'\n",
    "\n",
    "t = time()\n",
    "error_count = 0\n",
    "\n",
    "for year in range(start_year, end_year + 1):\n",
    "    s_year = teranet_df.query('year == {0}'.format(year))\n",
    "    print(\"Generating alpha shapes from the {0:,} Teranet records from {1}...\".format(len(s_year), year))\n",
    "\n",
    "    f, ax = plt.subplots(1, figsize=(12, 12))\n",
    "\n",
    "    mun_list = s_year[mun_col].unique()\n",
    "\n",
    "    for mun in mun_list:\n",
    "        mask2 = s_year[mun_col] == mun\n",
    "        s_mun = s_year[mask2]\n",
    "        \n",
    "        # try generating and mapping alpha shapes from the subset\n",
    "        try: \n",
    "            alpha = s_mun.groupby(color_col)[['x', 'y']].apply(lambda x: alpha_shape_auto(x.values))\n",
    "            alpha = gpd.GeoDataFrame({'geometry': alpha}, crs=teranet_crs).to_crs(epsg=3857).reset_index()\n",
    "            mask3 = alpha[color_col] == True\n",
    "            alpha[mask3].plot(ax=ax, color='yellow') # map first sales\n",
    "            alpha[~mask3].plot(ax=ax, color='purple') # map subsequent sales\n",
    "                        \n",
    "        # exception for QhullErrors when not enough points in the subset to form alpha shapes\n",
    "        except:\n",
    "            error_count += 1\n",
    "            \n",
    "    # add a basemap\n",
    "    ctx.add_basemap(ax=ax, url=ctx.sources.ST_TONER_BACKGROUND)\n",
    "    # configure axis parameters\n",
    "    ax.set_xlim(-8940996.776086302, -8723064.623629777)\n",
    "    ax.set_ylim(5313237.739935117, 5555494.494204169)\n",
    "    ax.set_title(\"Alpha shapes produced from {0:,} Teranet records from {1}\"\\\n",
    "                 .format(len(s_year), year) + \"\\ncolored by {0}\".format(color_col), fontsize=20)\n",
    "    ax.set_axis_off()\n",
    "    \n",
    "    plt.savefig(save_dir + path + 'teranet_alpha_' + color_col + '_' + str(year) + '.png', dpi=400, bbox_inches='tight')\n",
    "    plt.close(f)\n",
    "    \n",
    "elapsed = time() - t\n",
    "print(\"\\n----- Finished plotting, took {0:,.2f} seconds ({1:,.2f} minutes), {2} errors when generating alpha shapes.\"\n",
    "      .format(elapsed, elapsed / 60, error_count))"
   ]
  },
  {
   "cell_type": "markdown",
   "metadata": {},
   "source": [
    "### Colored by relabeled land use (\"house\", \"condo\", \"other\")"
   ]
  },
  {
   "cell_type": "code",
   "execution_count": 8,
   "metadata": {},
   "outputs": [
    {
     "data": {
      "text/plain": [
       "array(['other', 'house', 'condo'], dtype=object)"
      ]
     },
     "execution_count": 8,
     "metadata": {},
     "output_type": "execute_result"
    }
   ],
   "source": [
    "teranet_df['lucr'].unique()"
   ]
  },
  {
   "cell_type": "code",
   "execution_count": 9,
   "metadata": {
    "scrolled": false
   },
   "outputs": [
    {
     "name": "stdout",
     "output_type": "stream",
     "text": [
      "Generating alpha shapes from the 19,912 Teranet records from 1985...\n",
      "Generating alpha shapes from the 35,291 Teranet records from 1986...\n",
      "Generating alpha shapes from the 36,529 Teranet records from 1987...\n",
      "Generating alpha shapes from the 51,180 Teranet records from 1988...\n",
      "Generating alpha shapes from the 81,903 Teranet records from 1989...\n",
      "Generating alpha shapes from the 80,297 Teranet records from 1990...\n",
      "Generating alpha shapes from the 81,096 Teranet records from 1991...\n",
      "Generating alpha shapes from the 87,769 Teranet records from 1992...\n",
      "Generating alpha shapes from the 80,936 Teranet records from 1993...\n",
      "Generating alpha shapes from the 100,207 Teranet records from 1994...\n",
      "Generating alpha shapes from the 88,685 Teranet records from 1995...\n",
      "Generating alpha shapes from the 141,955 Teranet records from 1996...\n",
      "Generating alpha shapes from the 154,189 Teranet records from 1997...\n",
      "Generating alpha shapes from the 145,558 Teranet records from 1998...\n",
      "Generating alpha shapes from the 166,631 Teranet records from 1999...\n",
      "Generating alpha shapes from the 171,575 Teranet records from 2000...\n",
      "Generating alpha shapes from the 181,933 Teranet records from 2001...\n",
      "Generating alpha shapes from the 208,558 Teranet records from 2002...\n",
      "Generating alpha shapes from the 218,332 Teranet records from 2003...\n",
      "Generating alpha shapes from the 220,309 Teranet records from 2004...\n",
      "Generating alpha shapes from the 218,184 Teranet records from 2005...\n",
      "Generating alpha shapes from the 222,078 Teranet records from 2006...\n",
      "Generating alpha shapes from the 231,703 Teranet records from 2007...\n",
      "Generating alpha shapes from the 201,800 Teranet records from 2008...\n",
      "Generating alpha shapes from the 193,519 Teranet records from 2009...\n",
      "Generating alpha shapes from the 216,492 Teranet records from 2010...\n",
      "Generating alpha shapes from the 219,130 Teranet records from 2011...\n",
      "Generating alpha shapes from the 205,341 Teranet records from 2012...\n",
      "Generating alpha shapes from the 207,686 Teranet records from 2013...\n",
      "Generating alpha shapes from the 225,739 Teranet records from 2014...\n",
      "Generating alpha shapes from the 244,787 Teranet records from 2015...\n",
      "Generating alpha shapes from the 253,465 Teranet records from 2016...\n",
      "Generating alpha shapes from the 183,039 Teranet records from 2017...\n",
      "\n",
      "----- Finished plotting, took 2,100.35 seconds (35.01 minutes), 149 errors when generating alpha shapes.\n"
     ]
    }
   ],
   "source": [
    "start_year = 1985\n",
    "end_year = 2017\n",
    "teranet_crs = {'proj': 'latlong', 'ellps': 'WGS84', 'datum': 'WGS84', 'no_defs': True}\n",
    "mun_col = 'csdname'\n",
    "color_col = 'lucr'\n",
    "path = 'lucr/'\n",
    "color_col_values = ['house', 'condo', 'other']\n",
    "colors = ['blue', 'purple', 'red']\n",
    "\n",
    "t = time()\n",
    "error_count = 0\n",
    "\n",
    "for year in range(start_year, end_year + 1):\n",
    "    s_year = teranet_df.query('year == {0}'.format(year))\n",
    "    print(\"Generating alpha shapes from the {0:,} Teranet records from {1}...\".format(len(s_year), year))\n",
    "\n",
    "    f, ax = plt.subplots(1, figsize=(12, 12))\n",
    "\n",
    "    mun_list = s_year[mun_col].unique()\n",
    "\n",
    "    for mun in mun_list:\n",
    "        mask2 = s_year[mun_col] == mun\n",
    "        s_mun = s_year[mask2]\n",
    "        \n",
    "        # try generating and mapping alpha shapes from the subset\n",
    "        try: \n",
    "            alpha = s_mun.groupby(color_col)[['x', 'y']].apply(lambda x: alpha_shape_auto(x.values))\n",
    "            alpha = gpd.GeoDataFrame({'geometry': alpha}, crs=teranet_crs).to_crs(epsg=3857).reset_index()\n",
    "            for i in range(len(color_col_values)):\n",
    "                mask3 = alpha[color_col] == color_col_values[i]\n",
    "                alpha[mask3].plot(ax=ax, color=colors[i]) # map first sales\n",
    "                        \n",
    "        # exception for QhullErrors when not enough points in the subset to form alpha shapes\n",
    "        except:\n",
    "            error_count += 1\n",
    "            \n",
    "    # add a basemap\n",
    "    ctx.add_basemap(ax=ax, url=ctx.sources.ST_TONER_BACKGROUND)\n",
    "    # configure axis parameters\n",
    "    ax.set_xlim(-8940996.776086302, -8723064.623629777)\n",
    "    ax.set_ylim(5313237.739935117, 5555494.494204169)\n",
    "    ax.set_title(\"Alpha shapes produced from {0:,} Teranet records from {1}\"\\\n",
    "                 .format(len(s_year), year) + \"\\ncolored by {0}\".format(color_col), fontsize=20)\n",
    "    ax.set_axis_off()\n",
    "    \n",
    "    plt.savefig(save_dir + path + 'teranet_alpha_' + color_col + '_' + str(year) + '.png', dpi=400, bbox_inches='tight')\n",
    "    plt.close(f)\n",
    "    \n",
    "elapsed = time() - t\n",
    "print(\"\\n----- Finished plotting, took {0:,.2f} seconds ({1:,.2f} minutes), {2} errors when generating alpha shapes.\"\n",
    "      .format(elapsed, elapsed / 60, error_count))"
   ]
  },
  {
   "cell_type": "code",
   "execution_count": null,
   "metadata": {},
   "outputs": [],
   "source": []
  }
 ],
 "metadata": {
  "kernelspec": {
   "display_name": "Python 3",
   "language": "python",
   "name": "python3"
  },
  "language_info": {
   "codemirror_mode": {
    "name": "ipython",
    "version": 3
   },
   "file_extension": ".py",
   "mimetype": "text/x-python",
   "name": "python",
   "nbconvert_exporter": "python",
   "pygments_lexer": "ipython3",
   "version": "3.6.9"
  },
  "pycharm": {
   "stem_cell": {
    "cell_type": "raw",
    "metadata": {
     "collapsed": false
    },
    "source": []
   }
  }
 },
 "nbformat": 4,
 "nbformat_minor": 1
}
