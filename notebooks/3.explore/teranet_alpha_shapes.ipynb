{
 "cells": [
  {
   "cell_type": "markdown",
   "metadata": {
    "collapsed": true,
    "pycharm": {
     "name": "#%% md\n"
    }
   },
   "source": [
    "# GTHA housing market database\n",
    "# OSEMN methodology Step 3: Explore\n",
    "# Exploratory Spatial Data Analysis (ESDA) of the Teranet dataset\n",
    "# Alpha-shapes\n",
    "\n",
    "This notebook describes the process of generating [alpha shapes](https://en.wikipedia.org/wiki/Alpha_shape) from Teranet records.  \n"
   ]
  },
  {
   "cell_type": "markdown",
   "metadata": {
    "pycharm": {
     "metadata": false
    }
   },
   "source": [
    "## Previous steps\n",
    "Previous steps included: \n",
    "\n",
    "**Step 2: Scrub:**\n",
    "\n",
    "* **Step 2.1:** spatial join between the Teranet points and the polygons of GTHA Dissemination Areas (DAs)\n",
    "    \n",
    "    * During step 2.1, Teranet records whose coordinates fall outside of the GTHA boundary (as defined by the DA geometry) have been filtered out (6,803,691 of the original 9,039,241 Teranet records remain in the dataset)\n",
    "     \n",
    "    * In addition to that, three new columns (`OBJECTID`, `DAUID`, and `CSDNAME`) derived from DA attributes have been added to each Teranet transaction\n",
    "\n",
    "    * for details, see `notebooks/2.scrub/2.1_teranet_gtha_spatial_join.ipynb`\n",
    "\n",
    "* **Step 2.2:** correction for consistency of the Teranet records\n",
    "\n",
    "    * column names were converted to lower case\n",
    "    \n",
    "    * inconsistent capitalizations were fixed for columns\n",
    "    \n",
    "        * `municipality`    \n",
    "        * `street_name`\n",
    "        * `street_designation`\n",
    "        * `postal_code` (did not show problems, converted as a preventive measure)\n",
    "        \n",
    "    * columns `province` and `street_suffix` were removed from the dataset\n",
    "    \n",
    "    * new column `street_name_raw` was created: reserve copy of unmodified `street_name`\n",
    "    \n",
    "    * column `street_name` was parsed and cleaned for:\n",
    "    \n",
    "        * `postal_code`\n",
    "        * `unitno`\n",
    "        * `street_number`\n",
    "        * `street_direction`\n",
    "        * `street_designation`\n",
    "        \n",
    "    * plots of the count and percentage of missing values per column were produced\n",
    "    \n",
    "    * inconsistent entries were fixed in the following columns:\n",
    "        \n",
    "        * `street_direction`\n",
    "        * `street_designation`\n",
    "        * `municipality`\n",
    "        * `street_name`\n",
    "        * `unitno`\n",
    "        \n",
    "    * for details, see `notebooks/2.scrub/2.2_teranet_consistency.ipynb`\n",
    "\n",
    "* **Step 2.3:** addition of new attributes to the Teranet dataset\n",
    "\n",
    "* during Step 2.3, **two versions of the Teranet dataset were produced**:\n",
    "\n",
    "    * one where `consideration_amt` was left unmodified\n",
    "    \n",
    "    * one where `consideration_amt` < 10'000 CAD was reset to NaN and these records were removed from the dataset (1,615,178 records (23.74% of the total) have been removed. 5,188,513 records remain in the Teranet dataset).\n",
    "\n",
    "New attributes were added to both versions of the Teranet dataset:\n",
    " \n",
    "* surrogate key:\n",
    "\n",
    "    * `transaction_id`: unique identifier for each Teranet transaction \n",
    "    \n",
    "Essentially, a simple range index, which represents the row number of a record in the full Teranet dataset (filtered to include only GTHA records), ordered by date (from earliest to latest) and `pin`\n",
    "    \n",
    "* attributes for display\n",
    "\n",
    "    * `date_disp`: `registration_date` converted to `datetime.date` data type to exclude the timestamp (original `registration_date` is stored in NumPy's `datetime64` format to allow more efficient datetime operations)\n",
    "    \n",
    "    * `price_disp`: `consideration_amt` formatted to include thousands separator (_e.g.,_ '3,455,122') and stored as a string, for display purposes\n",
    "    \n",
    "* attributes for record grouping\n",
    "    \n",
    "    * `year`: year parsed from `registration_date`, to simplify record grouping\n",
    "    \n",
    "    * `3year`: `registration_date` parsed for 3-year intervals (_e.g.,_ '2014-2016'), to simplify record grouping\n",
    "    \n",
    "    * `5year`: `registration_date` parsed for 5-year intervals (_e.g.,_ '2012-2016'), to simplify record grouping\n",
    "    \n",
    "    * `10year`: `registration_date` parsed for 3-year intervals (_e.g.,_ '2007-2017'), to simplify record grouping\n",
    "    \n",
    "    * `xy`: `x` and `y` coordinates concatenated together (_e.g.,_ '43.098324_-79.234235'), can be used to identify and group records by their coordinate pairs\n",
    "    \n",
    "* correction of `consideration_amt` for inflation    \n",
    "    \n",
    "    * `price_infl`: `consideration_amt` corrected for inflation\n",
    "    \n",
    "* exploratory attributes\n",
    "\n",
    "    * `pin/xy_total_sales`: total records for this `pin`/`xy`\n",
    "\n",
    "    * `pin/xy_prev_sales`: previous records from this `pin`/`xy` (not counting current transaction)\n",
    "\n",
    "    * `pin/xy_price_cum_sum`: cumulative price of all records to date from this `pin`/`xy`\n",
    "\n",
    "    * `pin/xy_price_pct_change`: price percentage change compared to previous record from this `pin`/`xy`\n",
    "\n",
    "    * `price_da_pct_change`: price percentage change compared to previous record from this DA (by `da_id`)\n",
    "\n",
    "    * `pin/xy_years_since_last_sale`: years since last sale from this `pin`/`xy`\n",
    "\n",
    "    * `da_days_since_last_sale`, `da_years_since_last_sale`: days or years since last sale from this DA (by `da_id`)\n",
    "\n",
    "    * `sale_next_6m/1y/3y`: \"looks into the future\" to see whether there is another transaction from this `pin`/`xy` within the given time horizon (6 months, 1 year, 3 years)\n",
    "\n",
    "    * for details, see `notebooks/2.scrub/2.3_teranet_new_cols.ipynb` and `notebooks/2.scrub/2.3_teranet_nonan_new_cols.ipynb`\n",
    "\n",
    "---\n",
    "\n",
    "For description of OSEMN methodology, see `methodology/0.osemn/osemn.pdf`.\n",
    "\n",
    "For background information, description of the Teranet dataset, and its attributes, see `methodology/1.obtain/obtain.pdf`.\n",
    "\n",
    "For description of _Step 3: Explore_ of OSEMN methodology, see `methodology/2.scrub/scrub.pdf`."
   ]
  },
  {
   "cell_type": "markdown",
   "metadata": {
    "pycharm": {
     "metadata": false,
     "name": "#%% md\n"
    }
   },
   "source": [
    "## Alpha shapes\n",
    "From [wikipedia](https://en.wikipedia.org/wiki/Alpha_shape):  \n",
    "In computational geometry, an alpha shape, or α-shape, is a family of piecewise linear simple curves in the Euclidean plane associated with the shape of a finite set of points. They were first defined by [Edelsbrunner, Kirkpatrick & Seidel (1983)](https://ieeexplore.ieee.org/document/1056714). The alpha-shape associated with a set of points is a generalization of the concept of the convex hull, i.e. every convex hull is an alpha-shape but not every alpha shape is a convex hull.\n",
    "\n",
    "<img src='img/alpha_shapes.png'>\n",
    "\n",
    "In this notebook, alpha shapes (polygons) will be generated from Teranet point data using PySal library in Python."
   ]
  },
  {
   "cell_type": "markdown",
   "metadata": {},
   "source": [
    "## Import dependencies"
   ]
  },
  {
   "cell_type": "code",
   "execution_count": 16,
   "metadata": {
    "pycharm": {
     "is_executing": false,
     "metadata": false,
     "name": "#%%\n"
    }
   },
   "outputs": [],
   "source": [
    "import matplotlib.pyplot as plt\n",
    "import pandas as pd\n",
    "import geopandas as gpd\n",
    "import contextily as ctx\n",
    "import seaborn as sns\n",
    "import os\n",
    "import sys\n",
    "from pysal.lib.cg import alpha_shape_auto\n",
    "from shapely.geometry import Point\n",
    "from time import time"
   ]
  },
  {
   "cell_type": "code",
   "execution_count": 2,
   "metadata": {
    "pycharm": {
     "is_executing": false,
     "metadata": false,
     "name": "#%%\n"
    }
   },
   "outputs": [],
   "source": [
    "sys.path.append('../../src')\n",
    "from plot_utils import map_alpha"
   ]
  },
  {
   "cell_type": "markdown",
   "metadata": {},
   "source": [
    "## Load Teranet data"
   ]
  },
  {
   "cell_type": "code",
   "execution_count": 3,
   "metadata": {},
   "outputs": [
    {
     "data": {
      "text/plain": [
       "['1.1_Teranet_DA.csv',\n",
       " '1.3_Teranet_DA_TAZ_PG_FSA.csv',\n",
       " '2_Teranet_consistent.csv',\n",
       " 'parcel16_epoi13.csv',\n",
       " '1.2_Teranet_DA_TAZ.csv',\n",
       " '1.4_Teranet_DA_TAZ_FSA_LU_LUDMTI.csv',\n",
       " '1.4_Teranet_DA_TAZ_FSA_LU.csv',\n",
       " '.ipynb_checkpoints',\n",
       " 'ParcelLandUse.zip',\n",
       " 'ParcelLandUse',\n",
       " 'HHSaleHistory.csv',\n",
       " '3_Teranet_nonan_new_cols.csv',\n",
       " 'GTAjoinedLanduseSales']"
      ]
     },
     "execution_count": 3,
     "metadata": {},
     "output_type": "execute_result"
    }
   ],
   "source": [
    "teranet_path = '../../data/teranet/'\n",
    "os.listdir(teranet_path)"
   ]
  },
  {
   "cell_type": "code",
   "execution_count": 4,
   "metadata": {
    "pycharm": {
     "is_executing": false,
     "metadata": false,
     "name": "#%%\n"
    }
   },
   "outputs": [
    {
     "name": "stderr",
     "output_type": "stream",
     "text": [
      "/home/stepan/anaconda3/envs/gds/lib/python3.6/site-packages/IPython/core/interactiveshell.py:3058: DtypeWarning: Columns (6,11) have mixed types. Specify dtype option on import or set low_memory=False.\n",
      "  interactivity=interactivity, compiler=compiler, result=result)\n"
     ]
    },
    {
     "name": "stdout",
     "output_type": "stream",
     "text": [
      "----- DataFrame loaded\n",
      "in 44.55 seconds\n",
      "with 5,188,513 rows\n",
      "and 54 columns\n",
      "-- Column names:\n",
      " Index(['transaction_id', 'lro_num', 'pin', 'consideration_amt',\n",
      "       'registration_date', 'postal_code', 'unitno', 'street_name',\n",
      "       'street_designation', 'street_direction', 'municipality',\n",
      "       'street_number', 'x', 'y', 'dauid', 'csduid', 'csdname', 'taz_o', 'fsa',\n",
      "       'pca_id', 'postal_code_dmti', 'pin_lu', 'landuse', 'prop_code',\n",
      "       'dmti_lu', 'street_name_raw', 'year', 'year_month', 'year3',\n",
      "       'census_year', 'census2001_year', 'tts_year', 'tts1991_year', 'xy',\n",
      "       'pin_total_sales', 'xy_total_sales', 'pin_prev_sales', 'xy_prev_sales',\n",
      "       'pin_price_cum_sum', 'xy_price_cum_sum', 'pin_price_pct_change',\n",
      "       'xy_price_pct_change', 'price_da_pct_change',\n",
      "       'pin_years_since_last_sale', 'xy_years_since_last_sale',\n",
      "       'da_days_since_last_sale', 'da_years_since_last_sale',\n",
      "       'pin_sale_next_6m', 'pin_sale_next_1y', 'pin_sale_next_3y',\n",
      "       'xy_sale_next_6m', 'xy_sale_next_1y', 'xy_sale_next_3y', 'price_2016'],\n",
      "      dtype='object')\n"
     ]
    }
   ],
   "source": [
    "# load DataFrame with Teranet records\n",
    "t = time()\n",
    "teranet_df = pd.read_csv(teranet_path + '3_Teranet_nonan_new_cols.csv',\n",
    "                         parse_dates=['registration_date'])\n",
    "elapsed = time() - t\n",
    "print(\"----- DataFrame loaded\"\n",
    "      \"\\nin {0:.2f} seconds\".format(elapsed) + \n",
    "      \"\\nwith {0:,} rows\\nand {1:,} columns\"\n",
    "      .format(teranet_df.shape[0], teranet_df.shape[1]) + \n",
    "      \"\\n-- Column names:\\n\", teranet_df.columns)"
   ]
  },
  {
   "cell_type": "markdown",
   "metadata": {},
   "source": [
    "## Generate maps of alpha shapes by municipality from Teranet records"
   ]
  },
  {
   "cell_type": "code",
   "execution_count": 40,
   "metadata": {},
   "outputs": [
    {
     "data": {
      "text/plain": [
       "[]"
      ]
     },
     "execution_count": 40,
     "metadata": {},
     "output_type": "execute_result"
    }
   ],
   "source": [
    "as_dir = 'results/maps/alpha_shapes/'\n",
    "os.listdir(as_dir)"
   ]
  },
  {
   "cell_type": "code",
   "execution_count": 41,
   "metadata": {
    "scrolled": false
   },
   "outputs": [
    {
     "name": "stdout",
     "output_type": "stream",
     "text": [
      "Generating alpha shapes from the 19,912 Teranet records from 1985...\n",
      "Generating alpha shapes from the 35,291 Teranet records from 1986...\n",
      "Generating alpha shapes from the 36,529 Teranet records from 1987...\n",
      "Generating alpha shapes from the 51,180 Teranet records from 1988...\n",
      "Generating alpha shapes from the 81,903 Teranet records from 1989...\n",
      "Generating alpha shapes from the 80,297 Teranet records from 1990...\n",
      "Generating alpha shapes from the 81,096 Teranet records from 1991...\n",
      "Generating alpha shapes from the 87,769 Teranet records from 1992...\n",
      "Generating alpha shapes from the 80,936 Teranet records from 1993...\n",
      "Generating alpha shapes from the 100,207 Teranet records from 1994...\n",
      "Generating alpha shapes from the 88,685 Teranet records from 1995...\n",
      "Generating alpha shapes from the 141,955 Teranet records from 1996...\n",
      "Generating alpha shapes from the 154,189 Teranet records from 1997...\n",
      "Generating alpha shapes from the 145,558 Teranet records from 1998...\n",
      "Generating alpha shapes from the 166,631 Teranet records from 1999...\n",
      "Generating alpha shapes from the 171,575 Teranet records from 2000...\n",
      "Generating alpha shapes from the 181,933 Teranet records from 2001...\n",
      "Generating alpha shapes from the 208,558 Teranet records from 2002...\n",
      "Generating alpha shapes from the 218,332 Teranet records from 2003...\n",
      "Generating alpha shapes from the 220,309 Teranet records from 2004...\n",
      "Generating alpha shapes from the 218,184 Teranet records from 2005...\n",
      "Generating alpha shapes from the 222,078 Teranet records from 2006...\n",
      "Generating alpha shapes from the 231,703 Teranet records from 2007...\n",
      "Generating alpha shapes from the 201,800 Teranet records from 2008...\n",
      "Generating alpha shapes from the 193,519 Teranet records from 2009...\n",
      "Generating alpha shapes from the 216,492 Teranet records from 2010...\n",
      "Generating alpha shapes from the 219,130 Teranet records from 2011...\n",
      "Generating alpha shapes from the 205,341 Teranet records from 2012...\n",
      "Generating alpha shapes from the 207,686 Teranet records from 2013...\n",
      "Generating alpha shapes from the 225,739 Teranet records from 2014...\n",
      "Generating alpha shapes from the 244,787 Teranet records from 2015...\n",
      "Generating alpha shapes from the 253,465 Teranet records from 2016...\n",
      "Generating alpha shapes from the 183,039 Teranet records from 2017...\n"
     ]
    }
   ],
   "source": [
    "start_year = 1985\n",
    "end_year = 2017\n",
    "min_count = 8\n",
    "teranet_crs = {'proj': 'latlong', 'ellps': 'WGS84', 'datum': 'WGS84', 'no_defs': True}\n",
    "\n",
    "#plot alpha shapes produced from Teranet records taken by year\n",
    "for year in range(start_year, end_year + 1):\n",
    "    \n",
    "    s = teranet_df.query('year == {0}'.format(year))\n",
    "    print(\"Generating alpha shapes from the {0:,} Teranet records from {1}...\".format(len(s), year))\n",
    "    \n",
    "    # filter Teranet records for minimum count per municipality required to produce alpha shapes\n",
    "    mun_counts = s.groupby(color_col)['price_2016'].count()\n",
    "    mun_counts = mun_counts[mun_counts > min_count]\n",
    "    mask1 = s[color_col].isin(mun_counts.index)\n",
    "    s = s[mask1]\n",
    "\n",
    "    # generate alpha shapes from Teranet records as a GeoDataFrame\n",
    "    alpha = s.groupby(color_col)[['x', 'y']].apply(lambda x: alpha_shape_auto(x.values))\n",
    "    alpha = gpd.GeoDataFrame({'geometry': alpha}, crs=teranet_crs)\\\n",
    "        .to_crs(epsg=3857).reset_index()\n",
    "    \n",
    "    # plot alpha shapes created from the Teranet subset\n",
    "    f, ax = plt.subplots(1, figsize=(12, 12))\n",
    "    alpha.plot(column=color_col, legend=True, legend_kwds={'loc': 'lower right'}, ax=ax, alpha=0.5)\n",
    "\n",
    "    # add municipality counts\n",
    "    for idx, mun in alpha.iterrows():\n",
    "        mun_centroid = mun['geometry'].centroid\n",
    "        ax.text(mun_centroid.x, mun_centroid.y, mun['csdname'] + \n",
    "                \"\\n{:,} records\".format(mun_counts[idx]),\n",
    "                va='center', ha='center')\n",
    "\n",
    "    # add a basemap\n",
    "    ctx.add_basemap(ax=ax, url=ctx.sources.ST_TONER_BACKGROUND)\n",
    "\n",
    "    # configure axis parameters\n",
    "    ax.set_xlim(-8940996.776086302, -8723064.623629777)\n",
    "    ax.set_ylim(5313237.739935117, 5555494.494204169)\n",
    "    ax.set_title(\"Alpha shapes produced from {0:,} Teranet records from {1}\"\\\n",
    "                 .format(len(s), year), fontsize=20)\n",
    "    ax.set_axis_off()\n",
    "    plt.savefig(as_dir + 'teranet_alpha_' + str(year) + '.png', dpi=400, bbox_inches='tight')\n",
    "    plt.close(f)"
   ]
  }
 ],
 "metadata": {
  "kernelspec": {
   "display_name": "Python 3",
   "language": "python",
   "name": "python3"
  },
  "language_info": {
   "codemirror_mode": {
    "name": "ipython",
    "version": 3
   },
   "file_extension": ".py",
   "mimetype": "text/x-python",
   "name": "python",
   "nbconvert_exporter": "python",
   "pygments_lexer": "ipython3",
   "version": "3.6.9"
  },
  "pycharm": {
   "stem_cell": {
    "cell_type": "raw",
    "metadata": {
     "collapsed": false
    },
    "source": []
   }
  }
 },
 "nbformat": 4,
 "nbformat_minor": 1
}
