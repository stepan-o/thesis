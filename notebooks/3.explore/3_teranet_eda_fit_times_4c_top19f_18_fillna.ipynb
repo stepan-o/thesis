{
 "cells": [
  {
   "cell_type": "markdown",
   "metadata": {},
   "source": [
    "# GTHA housing market database\n",
    "# OSEMN methodology Step 3: Explore\n",
    "# Explore correlations between the features and target classes\n",
    "# Top 19 (18) selected features, fill NaN\n",
    "\n",
    "Top 19 features without `pin_years_since_last_sale` and with NaN past/future xy sales filled with mean\n",
    "future/past xy sales.\n",
    "\n",
    "---\n",
    "\n",
    "This notebook describes _Step 4: Model_ of OSEMN methodology performed on the Teranet dataset."
   ]
  },
  {
   "cell_type": "markdown",
   "metadata": {},
   "source": [
    "## Import dependencies"
   ]
  },
  {
   "cell_type": "code",
   "execution_count": 32,
   "metadata": {},
   "outputs": [],
   "source": [
    "random_state = 1"
   ]
  },
  {
   "cell_type": "code",
   "execution_count": 33,
   "metadata": {},
   "outputs": [],
   "source": [
    "import numpy as np\n",
    "import matplotlib.pyplot as plt\n",
    "import matplotlib\n",
    "import seaborn as sns\n",
    "import pandas as pd\n",
    "import os\n",
    "from scipy import stats\n",
    "from sklearn.model_selection import train_test_split\n",
    "from sklearn.preprocessing import StandardScaler, MinMaxScaler, LabelEncoder\n",
    "from sklearn.linear_model import Perceptron, LogisticRegression\n",
    "from sklearn.tree import DecisionTreeClassifier, export_graphviz\n",
    "from sklearn.ensemble import RandomForestClassifier\n",
    "from sklearn.neighbors import KNeighborsClassifier\n",
    "from sklearn.metrics import accuracy_score\n",
    "from sklearn.pipeline import make_pipeline\n",
    "from sklearn.base import clone\n",
    "# from pydotplus import graph_from_dot_data\n",
    "from time import time\n",
    "\n",
    "sns.set()"
   ]
  },
  {
   "cell_type": "code",
   "execution_count": 34,
   "metadata": {},
   "outputs": [],
   "source": [
    "import sys\n",
    "\n",
    "sys.path.append('../../src')\n",
    "\n",
    "from io_utils import df_from_csv\n",
    "from plot_utils import plot_hist, log_hist\n",
    "from model_utils import fit_model, targets_corr "
   ]
  },
  {
   "cell_type": "markdown",
   "metadata": {},
   "source": [
    "## Load Teranet data"
   ]
  },
  {
   "cell_type": "code",
   "execution_count": 35,
   "metadata": {},
   "outputs": [
    {
     "data": {
      "text/plain": [
       "['4_Teranet_lu_predict.csv',\n",
       " '1.1_Teranet_DA.csv',\n",
       " '1.3_Teranet_DA_TAZ_PG_FSA.csv',\n",
       " '2_Teranet_consistent.csv',\n",
       " 'parcel16_epoi13.csv',\n",
       " '1.2_Teranet_DA_TAZ.csv',\n",
       " '1.4_Teranet_DA_TAZ_FSA_LU_LUDMTI.csv',\n",
       " '4_Teranet_lu_predict.zip',\n",
       " '1.4_Teranet_DA_TAZ_FSA_LU.csv',\n",
       " '.ipynb_checkpoints',\n",
       " 'ParcelLandUse.zip',\n",
       " 'ParcelLandUse',\n",
       " 'HHSaleHistory.csv',\n",
       " '3_Teranet_nonan_new_cols.csv',\n",
       " 'GTAjoinedLanduseSales']"
      ]
     },
     "execution_count": 35,
     "metadata": {},
     "output_type": "execute_result"
    }
   ],
   "source": [
    "data_path = '../../data/'\n",
    "teranet_path = data_path + 'teranet/'\n",
    "os.listdir(teranet_path)"
   ]
  },
  {
   "cell_type": "code",
   "execution_count": 36,
   "metadata": {},
   "outputs": [
    {
     "name": "stdout",
     "output_type": "stream",
     "text": [
      "----- DataFrame loaded\n",
      "in 125.88 seconds\n",
      "with 5,188,513 rows\n",
      "and 81 columns\n",
      "-- Column names:\n",
      " Index(['transaction_id', 'lro_num', 'pin', 'consideration_amt',\n",
      "       'registration_date', 'postal_code', 'unitno', 'street_name',\n",
      "       'street_designation', 'street_direction', 'municipality',\n",
      "       'street_number', 'x', 'y', 'dauid', 'csduid', 'csdname', 'taz_o', 'fsa',\n",
      "       'pca_id', 'postal_code_dmti', 'pin_lu', 'landuse', 'prop_code',\n",
      "       'dmti_lu', 'street_name_raw', 'year', 'year_month', 'year3',\n",
      "       'census_year', 'census2001_year', 'tts_year', 'tts1991_year', 'xy',\n",
      "       'pin_total_sales', 'xy_total_sales', 'pin_prev_sales', 'xy_prev_sales',\n",
      "       'xy_first_sale', 'pin_years_since_last_sale',\n",
      "       'xy_years_since_last_sale', 'xy_years_to_next_sale',\n",
      "       'da_days_since_last_sale', 'da_years_since_last_sale',\n",
      "       'xy_sale_next_6m', 'price_2016', 'pin_price_cum_sum',\n",
      "       'xy_price_cum_sum', 'pin_price_pct_change', 'xy_price_pct_change',\n",
      "       'price_da_pct_change', 'med_price_xy', 'med_price_year',\n",
      "       'price_to_med_xy', 'price_to_med_year', 'outlier_y_3', 'outlier_y_5',\n",
      "       'outlier_y_10', 'outlier_y_20', 'outlier_xy_2', 'outlier_xy_4',\n",
      "       'outlier_xy_10', 'code', 'lu_class', 'luc_detached', 'luc_condo',\n",
      "       'luc_strata', 'luc_duplex', 'luc_townhouse', 'luc_mixuse',\n",
      "       'luc_underdeveloped', 'luc_mixedcomplex', 'luc_industrial',\n",
      "       'luc_commercial', 'lucr_detached', 'lucr', 'lucr_duplex_townhouse',\n",
      "       'lucr_condo', 'lucr_other', 'lucr_predict_af', 'lucr_predict_9f'],\n",
      "      dtype='object')\n"
     ]
    }
   ],
   "source": [
    "teranet_df = df_from_csv(teranet_path + '4_Teranet_lu_predict.csv', parse_dates=['registration_date'])"
   ]
  },
  {
   "cell_type": "markdown",
   "metadata": {},
   "source": [
    "## Load Census data"
   ]
  },
  {
   "cell_type": "code",
   "execution_count": 37,
   "metadata": {},
   "outputs": [
    {
     "data": {
      "text/plain": [
       "['da_census_income.csv',\n",
       " 'Census data availability.xlsx',\n",
       " 'da_census.xls',\n",
       " 'da_census_select_tidy.csv',\n",
       " 'da_census_income_shapefile',\n",
       " 'da_census_select.csv']"
      ]
     },
     "execution_count": 37,
     "metadata": {},
     "output_type": "execute_result"
    }
   ],
   "source": [
    "census_path = data_path + 'census/'\n",
    "os.listdir(census_path)"
   ]
  },
  {
   "cell_type": "code",
   "execution_count": 38,
   "metadata": {},
   "outputs": [
    {
     "name": "stdout",
     "output_type": "stream",
     "text": [
      "----- DataFrame loaded\n",
      "in 0.15 seconds\n",
      "with 36,728 rows\n",
      "and 32 columns\n",
      "-- Column names:\n",
      " Index(['DAUID', 'year', 'Avg_HHsize', 'Avg_HHinc', 'Avg_own_payt',\n",
      "       'Avg_val_dwel', 'Avg_rent', 'Pop', 'PopDens', 'Dwel', 'DwelDens',\n",
      "       'Sgl_det', 'Apt_5plus', 'Sgl_att', 'Owned', 'Rented', 'CarTrVan_d',\n",
      "       'CarTrVan_p', 'PT', 'Walk', 'Bike', 'Lbrfrc', 'Emp', 'Unemp',\n",
      "       'Not_lbrfrc', 'Employee', 'Self_emp', 'At_home', 'No_fix_wkpl',\n",
      "       'Usl_wkpl', 'Blue_cljob', 'White_cljob'],\n",
      "      dtype='object')\n"
     ]
    }
   ],
   "source": [
    "census_df = df_from_csv(census_path + 'da_census_select_tidy.csv')"
   ]
  },
  {
   "cell_type": "markdown",
   "metadata": {},
   "source": [
    "## Load TTS data"
   ]
  },
  {
   "cell_type": "code",
   "execution_count": 39,
   "metadata": {},
   "outputs": [
    {
     "data": {
      "text/plain": [
       "['tts_num_jobs_tidy.csv',\n",
       " 'TAZ_2001shp.zip',\n",
       " 'TAZ_2001shp',\n",
       " 'taz_tts_tidy.csv',\n",
       " 'taz_info.csv',\n",
       " 'TTS_variables.xlsx',\n",
       " 'taz_tts.xlsx',\n",
       " 'Num_of_Jobs.xlsx']"
      ]
     },
     "execution_count": 39,
     "metadata": {},
     "output_type": "execute_result"
    }
   ],
   "source": [
    "tts_path = data_path + 'tts/'\n",
    "os.listdir(tts_path)"
   ]
  },
  {
   "cell_type": "code",
   "execution_count": 40,
   "metadata": {},
   "outputs": [
    {
     "name": "stdout",
     "output_type": "stream",
     "text": [
      "----- DataFrame loaded\n",
      "in 0.02 seconds\n",
      "with 12,012 rows\n",
      "and 8 columns\n",
      "-- Column names:\n",
      " Index(['TAZ_O', 'year', 'Pop', 'FT_wrk', 'Stu', 'HH', 'Jobs', 'Cars'], dtype='object')\n"
     ]
    }
   ],
   "source": [
    "tts_df = df_from_csv(tts_path + 'taz_tts_tidy.csv')"
   ]
  },
  {
   "cell_type": "markdown",
   "metadata": {},
   "source": [
    "## Join Census data to Teranet data"
   ]
  },
  {
   "cell_type": "code",
   "execution_count": 41,
   "metadata": {},
   "outputs": [
    {
     "name": "stdout",
     "output_type": "stream",
     "text": [
      "----- Census variables were joined to the DataFrame\n",
      "in 52.49 seconds (0.87 minutes)\n",
      "with 5,188,513 rows\n",
      "and 111 columns\n",
      "-- Column names:\n",
      " Index(['transaction_id', 'lro_num', 'pin', 'consideration_amt',\n",
      "       'registration_date', 'postal_code', 'unitno', 'street_name',\n",
      "       'street_designation', 'street_direction',\n",
      "       ...\n",
      "       'Emp', 'Unemp', 'Not_lbrfrc', 'Employee', 'Self_emp', 'At_home',\n",
      "       'No_fix_wkpl', 'Usl_wkpl', 'Blue_cljob', 'White_cljob'],\n",
      "      dtype='object', length=111)\n"
     ]
    }
   ],
   "source": [
    "t = time()\n",
    "df = pd.merge(teranet_df, census_df, how='left',\n",
    "              left_on=['dauid', 'census2001_year'], right_on=['DAUID', 'year'])\n",
    "df = df.drop(['DAUID', 'year_y'], axis=1).rename(columns={'year_x': 'year'})\n",
    "elapsed = time() - t\n",
    "print(\"----- Census variables were joined to the DataFrame\"\n",
    "      \"\\nin {0:,.2f} seconds ({1:.2f} minutes)\".format(elapsed, elapsed / 60) + \n",
    "      \"\\nwith {0:,} rows\\nand {1:,} columns\"\n",
    "      .format(df.shape[0], df.shape[1]) + \n",
    "      \"\\n-- Column names:\\n\", df.columns)"
   ]
  },
  {
   "cell_type": "markdown",
   "metadata": {},
   "source": [
    "## Join TTS data to Teranet data"
   ]
  },
  {
   "cell_type": "code",
   "execution_count": 42,
   "metadata": {},
   "outputs": [
    {
     "name": "stdout",
     "output_type": "stream",
     "text": [
      "----- TTS variables were joined to the DataFrame\n",
      "in 57.44 seconds (0.96 minutes)\n",
      "with 5,188,513 rows\n",
      "and 117 columns\n",
      "-- Column names:\n",
      " Index(['transaction_id', 'lro_num', 'pin', 'consideration_amt',\n",
      "       'registration_date', 'postal_code', 'unitno', 'street_name',\n",
      "       'street_designation', 'street_direction',\n",
      "       ...\n",
      "       'Usl_wkpl', 'Blue_cljob', 'White_cljob', 'TAZ_O', 'Pop_y', 'FT_wrk',\n",
      "       'Stu', 'HH', 'Jobs', 'Cars'],\n",
      "      dtype='object', length=117)\n"
     ]
    }
   ],
   "source": [
    "t = time()\n",
    "df = pd.merge(df, tts_df, how='left',\n",
    "              left_on=['taz_o', 'tts_year'], right_on=['TAZ_O', 'year'])\n",
    "df = df.drop(['taz_o', 'year_y'], axis=1).rename(columns={'year_x': 'year'})\n",
    "elapsed = time() - t\n",
    "print(\"----- TTS variables were joined to the DataFrame\"\n",
    "      \"\\nin {0:,.2f} seconds ({1:.2f} minutes)\".format(elapsed, elapsed / 60) + \n",
    "      \"\\nwith {0:,} rows\\nand {1:,} columns\"\n",
    "      .format(df.shape[0], df.shape[1]) + \n",
    "      \"\\n-- Column names:\\n\", df.columns)"
   ]
  },
  {
   "cell_type": "markdown",
   "metadata": {},
   "source": [
    "## Take a train-test subset of Teranet records"
   ]
  },
  {
   "cell_type": "code",
   "execution_count": 43,
   "metadata": {},
   "outputs": [
    {
     "name": "stdout",
     "output_type": "stream",
     "text": [
      "205,341 Teranet records in the train-test subset (records from 2012).\n",
      "219,130 Teranet records in the validation subset #1 (records from 2011).\n",
      "207,686 Teranet records in the validation subset #2 (records from 2013).\n"
     ]
    }
   ],
   "source": [
    "year_train_test = 2012\n",
    "year_val1 = 2011\n",
    "year_val2 = 2013\n",
    "\n",
    "s = df.query('year == @year_train_test')\n",
    "s_val1 = df.query('year == @year_val1')\n",
    "s_val2 = df.query('year == @year_val2')\n",
    "\n",
    "print(\"{0:,} Teranet records in the train-test subset (records from {1}).\".format(len(s), year_train_test))\n",
    "print(\"{0:,} Teranet records in the validation subset #1 (records from {1}).\".format(len(s_val1), year_val1))\n",
    "print(\"{0:,} Teranet records in the validation subset #2 (records from {1}).\".format(len(s_val2), year_val2))"
   ]
  },
  {
   "cell_type": "markdown",
   "metadata": {},
   "source": [
    "## Select features and fill missing values"
   ]
  },
  {
   "cell_type": "code",
   "execution_count": 44,
   "metadata": {},
   "outputs": [
    {
     "data": {
      "text/plain": [
       "Index(['transaction_id', 'lro_num', 'pin', 'consideration_amt',\n",
       "       'registration_date', 'postal_code', 'unitno', 'street_name',\n",
       "       'street_designation', 'street_direction',\n",
       "       ...\n",
       "       'Usl_wkpl', 'Blue_cljob', 'White_cljob', 'TAZ_O', 'Pop_y', 'FT_wrk',\n",
       "       'Stu', 'HH', 'Jobs', 'Cars'],\n",
       "      dtype='object', length=117)"
      ]
     },
     "execution_count": 44,
     "metadata": {},
     "output_type": "execute_result"
    }
   ],
   "source": [
    "s.columns"
   ]
  },
  {
   "cell_type": "code",
   "execution_count": 45,
   "metadata": {},
   "outputs": [
    {
     "name": "stdout",
     "output_type": "stream",
     "text": [
      "<class 'pandas.core.frame.DataFrame'>\n",
      "Int64Index: 205341 entries, 0 to 205340\n",
      "Data columns (total 23 columns):\n",
      "xy_total_sales              205341 non-null int64\n",
      "xy_prev_sales               205341 non-null int64\n",
      "xy_years_since_last_sale    176503 non-null float64\n",
      "xy_years_to_next_sale       137302 non-null float64\n",
      "xy_sale_next_6m             205341 non-null bool\n",
      "xy_price_cum_sum            205341 non-null float64\n",
      "med_price_xy                205341 non-null float64\n",
      "Avg_HHsize                  204722 non-null float64\n",
      "Avg_rent                    204736 non-null float64\n",
      "PopDens                     205341 non-null float64\n",
      "Dwel                        204722 non-null float64\n",
      "DwelDens                    205341 non-null float64\n",
      "Sgl_det                     204722 non-null float64\n",
      "Sgl_att                     204722 non-null float64\n",
      "PT                          204736 non-null float64\n",
      "Walk                        204736 non-null float64\n",
      "Jobs                        205324 non-null float64\n",
      "Cars                        205324 non-null float64\n",
      "lucr_detached               205341 non-null bool\n",
      "lucr                        205341 non-null object\n",
      "lucr_duplex_townhouse       205341 non-null bool\n",
      "lucr_condo                  205341 non-null bool\n",
      "lucr_other                  205341 non-null bool\n",
      "dtypes: bool(5), float64(15), int64(2), object(1)\n",
      "memory usage: 30.7+ MB\n"
     ]
    }
   ],
   "source": [
    "top19f_18 = ['xy_total_sales', 'xy_prev_sales', \n",
    "             'xy_years_since_last_sale', 'xy_years_to_next_sale', 'xy_sale_next_6m',\n",
    "             'xy_price_cum_sum', 'med_price_xy', 'Avg_HHsize', 'Avg_rent', 'PopDens',\n",
    "             'Dwel', 'DwelDens', 'Sgl_det', 'Sgl_att', 'PT', 'Walk', 'Jobs', 'Cars',\n",
    "             'lucr_detached', 'lucr', 'lucr_duplex_townhouse',\n",
    "             'lucr_condo', 'lucr_other']\n",
    "s = s[top19f_18]\n",
    "s_val1 = s_val1[top19f_18]\n",
    "s_val2 = s_val2[top19f_18]\n",
    "s.info(null_counts=True)"
   ]
  },
  {
   "cell_type": "code",
   "execution_count": 46,
   "metadata": {},
   "outputs": [
    {
     "data": {
      "text/plain": [
       "7.589470289940691"
      ]
     },
     "execution_count": 46,
     "metadata": {},
     "output_type": "execute_result"
    }
   ],
   "source": [
    "mask1 = s['xy_years_to_next_sale'].isnull()\n",
    "s.loc[mask1, 'xy_years_since_last_sale'].mean()"
   ]
  },
  {
   "cell_type": "code",
   "execution_count": 47,
   "metadata": {},
   "outputs": [
    {
     "data": {
      "text/plain": [
       "2.073792132299928"
      ]
     },
     "execution_count": 47,
     "metadata": {},
     "output_type": "execute_result"
    }
   ],
   "source": [
    "mask1 = s['xy_years_since_last_sale'].isnull()\n",
    "s.loc[mask1, 'xy_years_to_next_sale'].mean()"
   ]
  },
  {
   "cell_type": "code",
   "execution_count": 48,
   "metadata": {},
   "outputs": [
    {
     "name": "stdout",
     "output_type": "stream",
     "text": [
      "<class 'pandas.core.frame.DataFrame'>\n",
      "Int64Index: 205341 entries, 0 to 205340\n",
      "Data columns (total 23 columns):\n",
      "xy_total_sales              205341 non-null int64\n",
      "xy_prev_sales               205341 non-null int64\n",
      "xy_years_since_last_sale    205341 non-null float64\n",
      "xy_years_to_next_sale       205341 non-null float64\n",
      "xy_sale_next_6m             205341 non-null bool\n",
      "xy_price_cum_sum            205341 non-null float64\n",
      "med_price_xy                205341 non-null float64\n",
      "Avg_HHsize                  204722 non-null float64\n",
      "Avg_rent                    204736 non-null float64\n",
      "PopDens                     205341 non-null float64\n",
      "Dwel                        204722 non-null float64\n",
      "DwelDens                    205341 non-null float64\n",
      "Sgl_det                     204722 non-null float64\n",
      "Sgl_att                     204722 non-null float64\n",
      "PT                          204736 non-null float64\n",
      "Walk                        204736 non-null float64\n",
      "Jobs                        205324 non-null float64\n",
      "Cars                        205324 non-null float64\n",
      "lucr_detached               205341 non-null bool\n",
      "lucr                        205341 non-null object\n",
      "lucr_duplex_townhouse       205341 non-null bool\n",
      "lucr_condo                  205341 non-null bool\n",
      "lucr_other                  205341 non-null bool\n",
      "dtypes: bool(5), float64(15), int64(2), object(1)\n",
      "memory usage: 30.7+ MB\n"
     ]
    }
   ],
   "source": [
    "# missing year to next sale is replaced with mean year since last sale (for subset with missing year to next sale)\n",
    "mask1 = s['xy_years_to_next_sale'].isnull()\n",
    "s.loc[mask1, 'xy_years_to_next_sale'] = \\\n",
    "    s.loc[mask1, 'xy_years_to_next_sale'].fillna(s.loc[mask1, 'xy_years_since_last_sale']).mean()\n",
    "mask1 = s_val1['xy_years_to_next_sale'].isnull()\n",
    "s_val1.loc[mask1, 'xy_years_to_next_sale'] = \\\n",
    "    s_val1.loc[mask1, 'xy_years_to_next_sale'].fillna(s_val1.loc[mask1, 'xy_years_since_last_sale']).mean()\n",
    "mask1 = s_val2['xy_years_to_next_sale'].isnull()\n",
    "s_val2.loc[mask1, 'xy_years_to_next_sale'] = \\\n",
    "    s_val2.loc[mask1, 'xy_years_to_next_sale'].fillna(s_val2.loc[mask1, 'xy_years_since_last_sale']).mean()\n",
    "\n",
    "# missing year since last sale is replaced with mean year to next sale (for subset with missing year since last sale)\n",
    "mask1 = s['xy_years_since_last_sale'].isnull()\n",
    "s.loc[mask1, 'xy_years_since_last_sale'] = \\\n",
    "    s.loc[mask1, 'xy_years_since_last_sale'].fillna(s.loc[mask1, 'xy_years_to_next_sale']).mean()\n",
    "mask1 = s_val1['xy_years_since_last_sale'].isnull()\n",
    "s_val1.loc[mask1, 'xy_years_since_last_sale'] = \\\n",
    "    s_val1.loc[mask1, 'xy_years_since_last_sale'].fillna(s_val1.loc[mask1, 'xy_years_to_next_sale']).mean()\n",
    "mask1 = s_val2['xy_years_since_last_sale'].isnull()\n",
    "s_val2.loc[mask1, 'xy_years_since_last_sale'] = \\\n",
    "    s_val2.loc[mask1, 'xy_years_since_last_sale'].fillna(s_val2.loc[mask1, 'xy_years_to_next_sale']).mean()\n",
    "\n",
    "s.info(null_counts=True)"
   ]
  },
  {
   "cell_type": "code",
   "execution_count": 49,
   "metadata": {},
   "outputs": [
    {
     "name": "stdout",
     "output_type": "stream",
     "text": [
      "204,705 rows in train-test subset, 217,943 rows in validation subset #1, 207,255 rows in validation subset #2\n"
     ]
    }
   ],
   "source": [
    "s = s.dropna()\n",
    "s_val1 = s_val1.dropna()\n",
    "s_val2 = s_val2.dropna()\n",
    "print(\"{0:,} rows in train-test subset, {1:,} rows in validation subset #1, {2:,} rows in validation subset #2\"\n",
    "      .format(len(s), len(s_val1), len(s_val2)))"
   ]
  },
  {
   "cell_type": "code",
   "execution_count": 50,
   "metadata": {},
   "outputs": [
    {
     "data": {
      "text/plain": [
       "Index(['xy_total_sales', 'xy_prev_sales', 'xy_years_since_last_sale',\n",
       "       'xy_years_to_next_sale', 'xy_sale_next_6m', 'xy_price_cum_sum',\n",
       "       'med_price_xy', 'Avg_HHsize', 'Avg_rent', 'PopDens', 'Dwel', 'DwelDens',\n",
       "       'Sgl_det', 'Sgl_att', 'PT', 'Walk', 'Jobs', 'Cars'],\n",
       "      dtype='object')"
      ]
     },
     "execution_count": 50,
     "metadata": {},
     "output_type": "execute_result"
    }
   ],
   "source": [
    "target_cols = 5\n",
    "feat_cols = s.columns[:-target_cols]\n",
    "feat_cols"
   ]
  },
  {
   "cell_type": "code",
   "execution_count": 51,
   "metadata": {},
   "outputs": [],
   "source": [
    "feat_set_name = 'top19f_18_fillna'"
   ]
  },
  {
   "cell_type": "markdown",
   "metadata": {},
   "source": [
    "## Encode target"
   ]
  },
  {
   "cell_type": "code",
   "execution_count": 52,
   "metadata": {},
   "outputs": [
    {
     "name": "stdout",
     "output_type": "stream",
     "text": [
      "condo               55527\n",
      "detached            59670\n",
      "duplex_townhouse    13251\n",
      "other               76257\n",
      "Name: lucr, dtype: int64\n",
      "0    55527\n",
      "1    59670\n",
      "2    13251\n",
      "3    76257\n",
      "Name: lucr_e, dtype: int64\n",
      "condo               62648\n",
      "detached            60403\n",
      "duplex_townhouse    13709\n",
      "other               81183\n",
      "Name: lucr, dtype: int64\n",
      "0    62648\n",
      "1    60403\n",
      "2    13709\n",
      "3    81183\n",
      "Name: lucr_e, dtype: int64\n",
      "condo               48276\n",
      "detached            57104\n",
      "duplex_townhouse    12539\n",
      "other               89336\n",
      "Name: lucr, dtype: int64\n",
      "0    48276\n",
      "1    57104\n",
      "2    12539\n",
      "3    89336\n",
      "Name: lucr_e, dtype: int64\n",
      "Land use encoded!\n"
     ]
    }
   ],
   "source": [
    "le = LabelEncoder()\n",
    "\n",
    "s['lucr_e'] = le.fit_transform(s['lucr'])\n",
    "s_val1['lucr_e'] = le.transform(s_val1['lucr'])\n",
    "s_val2['lucr_e'] = le.transform(s_val2['lucr'])\n",
    "\n",
    "s['lucr_detached_e'] = le.fit_transform(s['lucr_detached'])\n",
    "s_val1['lucr_detached_e'] = le.transform(s_val1['lucr_detached'])\n",
    "s_val2['lucr_detached_e'] = le.transform(s_val2['lucr_detached'])\n",
    "\n",
    "s['lucr_duplex_townhouse_e'] = le.fit_transform(s['lucr_duplex_townhouse'])\n",
    "s_val1['lucr_duplex_townhouse_e'] = le.transform(s_val1['lucr_duplex_townhouse'])\n",
    "s_val2['lucr_duplex_townhouse_e'] = le.transform(s_val2['lucr_duplex_townhouse'])\n",
    "\n",
    "s['lucr_condo_e'] = le.fit_transform(s['lucr_condo'])\n",
    "s_val1['lucr_condo_e'] = le.transform(s_val1['lucr_condo'])\n",
    "s_val2['lucr_condo_e'] = le.transform(s_val2['lucr_condo'])\n",
    "\n",
    "s['lucr_other_e'] = le.fit_transform(s['lucr_other'])\n",
    "s_val1['lucr_other_e'] = le.transform(s_val1['lucr_other'])\n",
    "s_val2['lucr_other_e'] = le.transform(s_val2['lucr_other'])\n",
    "\n",
    "print(s['lucr'].value_counts().sort_index())\n",
    "print(s['lucr_e'].value_counts().sort_index())\n",
    "print(s_val1['lucr'].value_counts().sort_index())\n",
    "print(s_val1['lucr_e'].value_counts().sort_index())\n",
    "print(s_val2['lucr'].value_counts().sort_index())\n",
    "print(s_val2['lucr_e'].value_counts().sort_index())\n",
    "\n",
    "s = s.drop(['lucr', 'lucr_detached', 'lucr_duplex_townhouse', 'lucr_condo', 'lucr_other'], axis=1)\n",
    "s_val1 = s_val1.drop(['lucr', 'lucr_detached', 'lucr_duplex_townhouse', 'lucr_condo', 'lucr_other'], axis=1)\n",
    "s_val2 = s_val2.drop(['lucr', 'lucr_detached', 'lucr_duplex_townhouse', 'lucr_condo', 'lucr_other'], axis=1)\n",
    "print(\"Land use encoded!\")\n",
    "labels_list = ['condo', 'detached', 'duplex_townhouse', 'other']"
   ]
  },
  {
   "cell_type": "markdown",
   "metadata": {},
   "source": [
    "## Prepare features"
   ]
  },
  {
   "cell_type": "code",
   "execution_count": 53,
   "metadata": {},
   "outputs": [],
   "source": [
    "def prep_features_val(df, df_val1, df_val2, feat_cols, target_col, norm=True, std=True, \n",
    "                      random_state=random_state, test_size=0.3, stratify=True):\n",
    "    \n",
    "    X = df[feat_cols].values\n",
    "    X_val1 = df_val1[feat_cols].values\n",
    "    X_val2 = df_val2[feat_cols].values\n",
    "    \n",
    "    y = df[target_col].values\n",
    "    y_val1 = df_val1[target_col].values\n",
    "    y_val2 = df_val2[target_col].values\n",
    "    if stratify:\n",
    "        X_train, X_test, y_train, y_test = train_test_split(X, y, test_size=test_size, \n",
    "                                                            random_state=random_state, stratify=y)\n",
    "    else:\n",
    "        X_train, X_test, y_train, y_test = train_test_split(X, y, test_size=test_size, random_state=random_state)\n",
    "    \n",
    "    print(\"Performed train-test split.\")\n",
    "    print('Labels counts in y:', np.bincount(y))\n",
    "    print('Labels counts in y_train:', np.bincount(y_train))\n",
    "    print('Labels counts in y_test:', np.bincount(y_test))\n",
    "    print('Labels counts in y_val1:', np.bincount(y_val1))\n",
    "    print('Labels counts in y_val2:', np.bincount(y_val2))"
   ]
  },
  {
   "cell_type": "markdown",
   "metadata": {},
   "source": [
    "#### Select features and target"
   ]
  },
  {
   "cell_type": "code",
   "execution_count": 54,
   "metadata": {},
   "outputs": [],
   "source": [
    "X_val1 = s_val1[feat_cols].values\n",
    "X_val2 = s_val2[feat_cols].values"
   ]
  },
  {
   "cell_type": "code",
   "execution_count": 55,
   "metadata": {},
   "outputs": [
    {
     "name": "stdout",
     "output_type": "stream",
     "text": [
      "Features and target selected.\n"
     ]
    }
   ],
   "source": [
    "X = s[feat_cols].values\n",
    "X_val1 = s_val1[feat_cols].values\n",
    "X_val2 = s_val2[feat_cols].values\n",
    "y = s['lucr_e'].values\n",
    "y_val1 = s_val1['lucr_e'].values\n",
    "y_val2 = s_val2['lucr_e'].values\n",
    "print(\"Features and target selected.\")"
   ]
  },
  {
   "cell_type": "markdown",
   "metadata": {},
   "source": [
    "#### Perform the train-test split"
   ]
  },
  {
   "cell_type": "code",
   "execution_count": 56,
   "metadata": {},
   "outputs": [
    {
     "name": "stdout",
     "output_type": "stream",
     "text": [
      "Performed train-test split.\n",
      "Labels counts in y: [55527 59670 13251 76257]\n",
      "Labels counts in y_train: [38869 41769  9275 53380]\n",
      "Labels counts in y_test: [16658 17901  3976 22877]\n",
      "Labels counts in y_val1: [62648 60403 13709 81183]\n",
      "Labels counts in y_val2: [48276 57104 12539 89336]\n"
     ]
    }
   ],
   "source": [
    "X_train, X_test, y_train, y_test = train_test_split(X, y, test_size=0.3, random_state=random_state, stratify=y)\n",
    "print(\"Performed train-test split.\")\n",
    "print('Labels counts in y:', np.bincount(y))\n",
    "print('Labels counts in y_train:', np.bincount(y_train))\n",
    "print('Labels counts in y_test:', np.bincount(y_test))\n",
    "print('Labels counts in y_val1:', np.bincount(y_val1))\n",
    "print('Labels counts in y_val2:', np.bincount(y_val2))"
   ]
  },
  {
   "cell_type": "markdown",
   "metadata": {},
   "source": [
    "#### Standardize features"
   ]
  },
  {
   "cell_type": "code",
   "execution_count": 57,
   "metadata": {},
   "outputs": [
    {
     "name": "stdout",
     "output_type": "stream",
     "text": [
      "Input features were standardized.\n"
     ]
    }
   ],
   "source": [
    "sc = StandardScaler()\n",
    "sc.fit(X_train)\n",
    "X_train_std = sc.transform(X_train)\n",
    "X_test_std = sc.transform(X_test)\n",
    "X_val1_std = sc.transform(X_val1)\n",
    "X_val2_std = sc.transform(X_val2)\n",
    "print(\"Input features were standardized.\")"
   ]
  },
  {
   "cell_type": "markdown",
   "metadata": {},
   "source": [
    "#### Normalize features"
   ]
  },
  {
   "cell_type": "code",
   "execution_count": 58,
   "metadata": {},
   "outputs": [
    {
     "name": "stdout",
     "output_type": "stream",
     "text": [
      "Input features were normalized.\n"
     ]
    }
   ],
   "source": [
    "sc = MinMaxScaler()\n",
    "sc.fit(X_train)\n",
    "X_train_norm = sc.transform(X_train)\n",
    "X_test_norm = sc.transform(X_test)\n",
    "X_val1_norm = sc.transform(X_val1)\n",
    "X_val2_norm = sc.transform(X_val2)\n",
    "print(\"Input features were normalized.\")"
   ]
  },
  {
   "cell_type": "markdown",
   "metadata": {},
   "source": [
    "## Estimate model fit times"
   ]
  },
  {
   "cell_type": "code",
   "execution_count": 5,
   "metadata": {},
   "outputs": [
    {
     "ename": "NameError",
     "evalue": "name 'model' is not defined",
     "output_type": "error",
     "traceback": [
      "\u001b[0;31m---------------------------------------------------------------------------\u001b[0m",
      "\u001b[0;31mNameError\u001b[0m                                 Traceback (most recent call last)",
      "\u001b[0;32m<ipython-input-5-956e9c26eec8>\u001b[0m in \u001b[0;36m<module>\u001b[0;34m\u001b[0m\n\u001b[1;32m     26\u001b[0m \u001b[0;34m\u001b[0m\u001b[0m\n\u001b[1;32m     27\u001b[0m     \u001b[0;32mreturn\u001b[0m \u001b[0mfit_times\u001b[0m\u001b[0;34m\u001b[0m\u001b[0;34m\u001b[0m\u001b[0m\n\u001b[0;32m---> 28\u001b[0;31m \u001b[0mpipe_norm\u001b[0m \u001b[0;34m=\u001b[0m \u001b[0mmake_pipeline\u001b[0m\u001b[0;34m(\u001b[0m\u001b[0mMinMaxScaler\u001b[0m\u001b[0;34m(\u001b[0m\u001b[0;34m)\u001b[0m\u001b[0;34m,\u001b[0m \u001b[0mmodel\u001b[0m\u001b[0;34m)\u001b[0m\u001b[0;34m\u001b[0m\u001b[0;34m\u001b[0m\u001b[0m\n\u001b[0m\u001b[1;32m     29\u001b[0m \u001b[0;34m\u001b[0m\u001b[0m\n\u001b[1;32m     30\u001b[0m \u001b[0mpipe_std\u001b[0m \u001b[0;34m=\u001b[0m \u001b[0mmake_pipeline\u001b[0m\u001b[0;34m(\u001b[0m\u001b[0mStandardScaler\u001b[0m\u001b[0;34m(\u001b[0m\u001b[0;34m)\u001b[0m\u001b[0;34m,\u001b[0m \u001b[0mmodel\u001b[0m\u001b[0;34m)\u001b[0m\u001b[0;34m\u001b[0m\u001b[0;34m\u001b[0m\u001b[0m\n",
      "\u001b[0;31mNameError\u001b[0m: name 'model' is not defined"
     ]
    }
   ],
   "source": [
    "def get_fit_times(model, X_train, y_train, X_test, y_test):\n",
    "    \n",
    "    fit_times = {}\n",
    "    scores = {}\n",
    "    \n",
    "    tt = time()\n",
    "    \n",
    "    t = time()\n",
    "    model.fit(X_train, y_train)\n",
    "    fit_times['raw'] = time() - t\n",
    "    scores['raw'] = model.score(X_)\n",
    "    \n",
    "    t = time()\n",
    "    sc = MinMaxScaler()\n",
    "    sc.fit_trans\n",
    "    model.fit(X_train_norm, y_train)\n",
    "    fit_times['norm'] = time() - t\n",
    "    \n",
    "    t = time()\n",
    "    model.fit(X_train_std, y_train)\n",
    "    fit_times['std'] = time() - t\n",
    "    \n",
    "    elapsed = time() - tt\n",
    "    print(\"Model fit ({0} jobs), took {1:,.2f} seconds ({2:,.2f} minutes) in total.\"\n",
    "          .format(n_jobs, elapsed, elapsed / 60))\n",
    "    \n",
    "    return fit_times\n",
    "    pipe_norm = make_pipeline(MinMaxScaler(), model)\n",
    "\n",
    "pipe_std = make_pipeline(StandardScaler(), model)\n",
    "pipe.fit(X_train, y_train)\n",
    "print('Test Accuracy: %.3f' % pipe_lr.score(X_test, y_test))"
   ]
  },
  {
   "cell_type": "markdown",
   "metadata": {},
   "source": [
    "### Perceptron"
   ]
  },
  {
   "cell_type": "code",
   "execution_count": 62,
   "metadata": {},
   "outputs": [],
   "source": [
    "fit_times_df = pd.DataFrame()"
   ]
  },
  {
   "cell_type": "code",
   "execution_count": 59,
   "metadata": {},
   "outputs": [
    {
     "ename": "TypeError",
     "evalue": "get_fit_times() missing 2 required positional arguments: 'X_test' and 'y_test'",
     "output_type": "error",
     "traceback": [
      "\u001b[0;31m---------------------------------------------------------------------------\u001b[0m",
      "\u001b[0;31mTypeError\u001b[0m                                 Traceback (most recent call last)",
      "\u001b[0;32m<ipython-input-59-800697251e85>\u001b[0m in \u001b[0;36m<module>\u001b[0;34m\u001b[0m\n\u001b[1;32m      4\u001b[0m \u001b[0mmodel_name\u001b[0m \u001b[0;34m=\u001b[0m \u001b[0;34m'ppn'\u001b[0m\u001b[0;34m\u001b[0m\u001b[0;34m\u001b[0m\u001b[0m\n\u001b[1;32m      5\u001b[0m \u001b[0mmodel\u001b[0m \u001b[0;34m=\u001b[0m \u001b[0mPerceptron\u001b[0m\u001b[0;34m(\u001b[0m\u001b[0mrandom_state\u001b[0m\u001b[0;34m=\u001b[0m\u001b[0mrandom_state\u001b[0m\u001b[0;34m,\u001b[0m \u001b[0meta0\u001b[0m\u001b[0;34m=\u001b[0m\u001b[0meta\u001b[0m\u001b[0;34m,\u001b[0m \u001b[0mmax_iter\u001b[0m\u001b[0;34m=\u001b[0m\u001b[0mmax_iter\u001b[0m\u001b[0;34m,\u001b[0m \u001b[0mn_jobs\u001b[0m\u001b[0;34m=\u001b[0m\u001b[0mn_jobs\u001b[0m\u001b[0;34m)\u001b[0m\u001b[0;34m\u001b[0m\u001b[0;34m\u001b[0m\u001b[0m\n\u001b[0;32m----> 6\u001b[0;31m \u001b[0mfit_times\u001b[0m \u001b[0;34m=\u001b[0m \u001b[0mget_fit_times\u001b[0m\u001b[0;34m(\u001b[0m\u001b[0mmodel\u001b[0m\u001b[0;34m,\u001b[0m \u001b[0mX_train\u001b[0m\u001b[0;34m,\u001b[0m \u001b[0my_train\u001b[0m\u001b[0;34m)\u001b[0m\u001b[0;34m\u001b[0m\u001b[0;34m\u001b[0m\u001b[0m\n\u001b[0m\u001b[1;32m      7\u001b[0m \u001b[0mfit_times_df\u001b[0m \u001b[0;34m=\u001b[0m \u001b[0mfit_times_df\u001b[0m\u001b[0;34m.\u001b[0m\u001b[0mappend\u001b[0m\u001b[0;34m(\u001b[0m\u001b[0mpd\u001b[0m\u001b[0;34m.\u001b[0m\u001b[0mDataFrame\u001b[0m\u001b[0;34m(\u001b[0m\u001b[0mfit_times\u001b[0m\u001b[0;34m,\u001b[0m \u001b[0mindex\u001b[0m\u001b[0;34m=\u001b[0m\u001b[0;34m[\u001b[0m\u001b[0mmodel_name\u001b[0m\u001b[0;34m]\u001b[0m\u001b[0;34m)\u001b[0m\u001b[0;34m)\u001b[0m\u001b[0;34m\u001b[0m\u001b[0;34m\u001b[0m\u001b[0m\n",
      "\u001b[0;31mTypeError\u001b[0m: get_fit_times() missing 2 required positional arguments: 'X_test' and 'y_test'"
     ]
    }
   ],
   "source": [
    "eta = 0.22\n",
    "max_iter = 100\n",
    "n_jobs = 8\n",
    "model_name = 'ppn'\n",
    "model = Perceptron(random_state=random_state, eta0=eta, max_iter=max_iter, n_jobs=n_jobs)\n",
    "fit_times = get_fit_times(model, X_train, y_train)\n",
    "fit_times_df = fit_times_df.append(pd.DataFrame(fit_times, index=[model_name]))"
   ]
  },
  {
   "cell_type": "markdown",
   "metadata": {},
   "source": [
    "### Logistic regression with L2 regularization"
   ]
  },
  {
   "cell_type": "code",
   "execution_count": 66,
   "metadata": {},
   "outputs": [
    {
     "name": "stdout",
     "output_type": "stream",
     "text": [
      "Model fit (8 jobs), took 28.55 seconds (0.48 minutes) in total.\n"
     ]
    }
   ],
   "source": [
    "c = 0.1\n",
    "penalty='l2'\n",
    "n_jobs = 8\n",
    "model_name = 'lr_{0}_c{1}'.format(penalty, c)\n",
    "\n",
    "model = LogisticRegression(penalty=penalty, random_state=random_state, \n",
    "                           solver='lbfgs', multi_class='auto', C=c, n_jobs=n_jobs)\n",
    "fit_times = get_fit_times(model, X_train, y_train)\n",
    "fit_times_df = fit_times_df.append(pd.DataFrame(fit_times, index=[model_name]))"
   ]
  },
  {
   "cell_type": "markdown",
   "metadata": {},
   "source": [
    "### Logistic regression with L1 regularization"
   ]
  },
  {
   "cell_type": "code",
   "execution_count": 68,
   "metadata": {},
   "outputs": [
    {
     "name": "stderr",
     "output_type": "stream",
     "text": [
      "/home/stepan/anaconda3/envs/gds/lib/python3.6/site-packages/sklearn/svm/base.py:929: ConvergenceWarning: Liblinear failed to converge, increase the number of iterations.\n",
      "  \"the number of iterations.\", ConvergenceWarning)\n"
     ]
    },
    {
     "name": "stdout",
     "output_type": "stream",
     "text": [
      "Model fit (8 jobs), took 1,182.07 seconds (19.70 minutes) in total.\n"
     ]
    }
   ],
   "source": [
    "c = 0.1\n",
    "penalty='l1'\n",
    "model_name = 'lr_{0}_c{1}'.format(penalty, c)\n",
    "\n",
    "model = LogisticRegression(penalty=penalty, random_state=random_state, solver='liblinear', multi_class='auto', C=c)\n",
    "fit_times = get_fit_times(model, X_train, y_train)\n",
    "fit_times_df = fit_times_df.append(pd.DataFrame(fit_times, index=[model_name]))"
   ]
  },
  {
   "cell_type": "markdown",
   "metadata": {},
   "source": []
  },
  {
   "cell_type": "code",
   "execution_count": 30,
   "metadata": {},
   "outputs": [
    {
     "ename": "NameError",
     "evalue": "name 'fit_times_df' is not defined",
     "output_type": "error",
     "traceback": [
      "\u001b[0;31m---------------------------------------------------------------------------\u001b[0m",
      "\u001b[0;31mNameError\u001b[0m                                 Traceback (most recent call last)",
      "\u001b[0;32m<ipython-input-30-a18ab0446f12>\u001b[0m in \u001b[0;36m<module>\u001b[0;34m\u001b[0m\n\u001b[0;32m----> 1\u001b[0;31m \u001b[0max\u001b[0m \u001b[0;34m=\u001b[0m \u001b[0mfit_times_df\u001b[0m\u001b[0;34m.\u001b[0m\u001b[0mplot\u001b[0m\u001b[0;34m(\u001b[0m\u001b[0mkind\u001b[0m\u001b[0;34m=\u001b[0m\u001b[0;34m'bar'\u001b[0m\u001b[0;34m)\u001b[0m\u001b[0;34m\u001b[0m\u001b[0;34m\u001b[0m\u001b[0m\n\u001b[0m\u001b[1;32m      2\u001b[0m \u001b[0max\u001b[0m\u001b[0;34m.\u001b[0m\u001b[0mset_ylim\u001b[0m\u001b[0;34m(\u001b[0m\u001b[0;36m20\u001b[0m\u001b[0;34m)\u001b[0m\u001b[0;34m\u001b[0m\u001b[0;34m\u001b[0m\u001b[0m\n",
      "\u001b[0;31mNameError\u001b[0m: name 'fit_times_df' is not defined"
     ]
    }
   ],
   "source": [
    "ax = fit_times_df.plot(kind='bar')\n",
    "ax.set_ylim(20)"
   ]
  },
  {
   "cell_type": "markdown",
   "metadata": {},
   "source": [
    "## Outliers"
   ]
  },
  {
   "cell_type": "markdown",
   "metadata": {},
   "source": [
    "### Temporal"
   ]
  },
  {
   "cell_type": "code",
   "execution_count": 166,
   "metadata": {},
   "outputs": [
    {
     "data": {
      "image/png": "[encoded data removed]",
      "text/plain": [
       "<Figure size 432x288 with 2 Axes>"
      ]
     },
     "metadata": {},
     "output_type": "display_data"
    }
   ],
   "source": [
    "col_name = 'xy_total_sales'\n",
    "log_hist(df[col_name], title=col_name, bins=100)"
   ]
  },
  {
   "cell_type": "code",
   "execution_count": 174,
   "metadata": {},
   "outputs": [],
   "source": [
    "sns.catplot?"
   ]
  },
  {
   "cell_type": "code",
   "execution_count": 180,
   "metadata": {},
   "outputs": [
    {
     "data": {
      "text/plain": [
       "Index(['xy_total_sales', 'xy_prev_sales', 'xy_years_since_last_sale',\n",
       "       'xy_years_to_next_sale', 'xy_sale_next_6m', 'xy_price_cum_sum',\n",
       "       'med_price_xy', 'Avg_HHsize', 'Avg_rent', 'PopDens', 'Dwel', 'DwelDens',\n",
       "       'Sgl_det', 'Sgl_att', 'PT', 'Walk', 'Jobs', 'Cars', 'lucr_e',\n",
       "       'lucr_detached_e', 'lucr_duplex_townhouse_e', 'lucr_condo_e',\n",
       "       'lucr_other_e'],\n",
       "      dtype='object')"
      ]
     },
     "execution_count": 180,
     "metadata": {},
     "output_type": "execute_result"
    }
   ],
   "source": [
    "s.columns"
   ]
  },
  {
   "cell_type": "code",
   "execution_count": 182,
   "metadata": {},
   "outputs": [
    {
     "data": {
      "text/plain": [
       "<matplotlib.axes._subplots.AxesSubplot at 0x7f8a689a52e8>"
      ]
     },
     "execution_count": 182,
     "metadata": {},
     "output_type": "execute_result"
    },
    {
     "data": {
      "image/png": "[encoded data removed]",
      "text/plain": [
       "<Figure size 432x288 with 1 Axes>"
      ]
     },
     "metadata": {},
     "output_type": "display_data"
    }
   ],
   "source": [
    "col = 'xy_prev_sales'\n",
    "sns.stripplot(data=s, y=col, x='lucr_e')"
   ]
  },
  {
   "cell_type": "code",
   "execution_count": 181,
   "metadata": {},
   "outputs": [
    {
     "ename": "TypeError",
     "evalue": "'NoneType' object is not iterable",
     "output_type": "error",
     "traceback": [
      "\u001b[0;31m---------------------------------------------------------------------------\u001b[0m",
      "\u001b[0;31mTypeError\u001b[0m                                 Traceback (most recent call last)",
      "\u001b[0;32m<ipython-input-181-3eb26f7e8b63>\u001b[0m in \u001b[0;36m<module>\u001b[0;34m\u001b[0m\n\u001b[1;32m      1\u001b[0m \u001b[0mcol\u001b[0m \u001b[0;34m=\u001b[0m \u001b[0;34m'xy_prev_sales'\u001b[0m\u001b[0;34m\u001b[0m\u001b[0;34m\u001b[0m\u001b[0m\n\u001b[0;32m----> 2\u001b[0;31m \u001b[0msns\u001b[0m\u001b[0;34m.\u001b[0m\u001b[0mcatplot\u001b[0m\u001b[0;34m(\u001b[0m\u001b[0mdata\u001b[0m\u001b[0;34m=\u001b[0m\u001b[0ms\u001b[0m\u001b[0;34m,\u001b[0m \u001b[0my\u001b[0m\u001b[0;34m=\u001b[0m\u001b[0mcol\u001b[0m\u001b[0;34m,\u001b[0m \u001b[0mhue\u001b[0m\u001b[0;34m=\u001b[0m\u001b[0;34m'lucr_e'\u001b[0m\u001b[0;34m)\u001b[0m\u001b[0;34m\u001b[0m\u001b[0;34m\u001b[0m\u001b[0m\n\u001b[0m",
      "\u001b[0;32m~/anaconda3/envs/gds/lib/python3.6/site-packages/seaborn/categorical.py\u001b[0m in \u001b[0;36mcatplot\u001b[0;34m(x, y, hue, data, row, col, col_wrap, estimator, ci, n_boot, units, order, hue_order, row_order, col_order, kind, height, aspect, orient, color, palette, legend, legend_out, sharex, sharey, margin_titles, facet_kws, **kwargs)\u001b[0m\n\u001b[1;32m   3763\u001b[0m \u001b[0;34m\u001b[0m\u001b[0m\n\u001b[1;32m   3764\u001b[0m     \u001b[0;32mif\u001b[0m \u001b[0mlegend\u001b[0m \u001b[0;32mand\u001b[0m \u001b[0;34m(\u001b[0m\u001b[0mhue\u001b[0m \u001b[0;32mis\u001b[0m \u001b[0;32mnot\u001b[0m \u001b[0;32mNone\u001b[0m\u001b[0;34m)\u001b[0m \u001b[0;32mand\u001b[0m \u001b[0;34m(\u001b[0m\u001b[0mhue\u001b[0m \u001b[0;32mnot\u001b[0m \u001b[0;32min\u001b[0m \u001b[0;34m[\u001b[0m\u001b[0mx\u001b[0m\u001b[0;34m,\u001b[0m \u001b[0mrow\u001b[0m\u001b[0;34m,\u001b[0m \u001b[0mcol\u001b[0m\u001b[0;34m]\u001b[0m\u001b[0;34m)\u001b[0m\u001b[0;34m:\u001b[0m\u001b[0;34m\u001b[0m\u001b[0;34m\u001b[0m\u001b[0m\n\u001b[0;32m-> 3765\u001b[0;31m         \u001b[0mhue_order\u001b[0m \u001b[0;34m=\u001b[0m \u001b[0mlist\u001b[0m\u001b[0;34m(\u001b[0m\u001b[0mmap\u001b[0m\u001b[0;34m(\u001b[0m\u001b[0mutils\u001b[0m\u001b[0;34m.\u001b[0m\u001b[0mto_utf8\u001b[0m\u001b[0;34m,\u001b[0m \u001b[0mhue_order\u001b[0m\u001b[0;34m)\u001b[0m\u001b[0;34m)\u001b[0m\u001b[0;34m\u001b[0m\u001b[0;34m\u001b[0m\u001b[0m\n\u001b[0m\u001b[1;32m   3766\u001b[0m         \u001b[0mg\u001b[0m\u001b[0;34m.\u001b[0m\u001b[0madd_legend\u001b[0m\u001b[0;34m(\u001b[0m\u001b[0mtitle\u001b[0m\u001b[0;34m=\u001b[0m\u001b[0mhue\u001b[0m\u001b[0;34m,\u001b[0m \u001b[0mlabel_order\u001b[0m\u001b[0;34m=\u001b[0m\u001b[0mhue_order\u001b[0m\u001b[0;34m)\u001b[0m\u001b[0;34m\u001b[0m\u001b[0;34m\u001b[0m\u001b[0m\n\u001b[1;32m   3767\u001b[0m \u001b[0;34m\u001b[0m\u001b[0m\n",
      "\u001b[0;31mTypeError\u001b[0m: 'NoneType' object is not iterable"
     ]
    },
    {
     "data": {
      "image/png": "[encoded data removed]",
      "text/plain": [
       "<Figure size 360x360 with 1 Axes>"
      ]
     },
     "metadata": {},
     "output_type": "display_data"
    }
   ],
   "source": [
    "col = 'xy_prev_sales'\n",
    "sns.catplot(data=s, y=col, hue='lucr_e')"
   ]
  },
  {
   "cell_type": "code",
   "execution_count": 167,
   "metadata": {},
   "outputs": [
    {
     "data": {
      "image/png": "[encoded data removed]",
      "text/plain": [
       "<Figure size 432x288 with 2 Axes>"
      ]
     },
     "metadata": {},
     "output_type": "display_data"
    }
   ],
   "source": [
    "col = 'xy_prev_sales'\n",
    "mask1 = df[col] != 0 # to plot the log scale\n",
    "mask2 = df[col].isnull()\n",
    "log_hist(df.loc[mask1 & ~mask2, col], title=col_name, bins=100)"
   ]
  },
  {
   "cell_type": "code",
   "execution_count": 168,
   "metadata": {},
   "outputs": [
    {
     "data": {
      "image/png": "[encoded data removed]",
      "text/plain": [
       "<Figure size 432x288 with 2 Axes>"
      ]
     },
     "metadata": {},
     "output_type": "display_data"
    }
   ],
   "source": [
    "col_name = 'xy_years_since_last_sale'\n",
    "mask1 = df[col_name] != 0 # to plot the log scale\n",
    "mask2 = df[col_name].isnull()\n",
    "log_hist(df.loc[mask1 & ~mask2, col_name], title=col_name, bins=100)"
   ]
  },
  {
   "cell_type": "markdown",
   "metadata": {},
   "source": [
    "### Price"
   ]
  },
  {
   "cell_type": "code",
   "execution_count": 164,
   "metadata": {},
   "outputs": [
    {
     "data": {
      "image/png": "[encoded data removed]",
      "text/plain": [
       "<Figure size 432x288 with 2 Axes>"
      ]
     },
     "metadata": {},
     "output_type": "display_data"
    }
   ],
   "source": [
    "col_name = 'price_2016'\n",
    "log_hist(df[col_name].dropna(), title=col_name, bins=100)"
   ]
  },
  {
   "cell_type": "code",
   "execution_count": 165,
   "metadata": {},
   "outputs": [
    {
     "data": {
      "image/png": "[encoded data removed]",
      "text/plain": [
       "<Figure size 432x288 with 2 Axes>"
      ]
     },
     "metadata": {},
     "output_type": "display_data"
    }
   ],
   "source": [
    "col_name = 'price_2016'\n",
    "max_zscore = 0.01\n",
    "mask1 = np.abs(stats.zscore(df[col_name].dropna())) < max_zscore\n",
    "log_hist(df[col_name].dropna()[mask1], title=col_name + ' (zscore < {0})'.format(max_zscore), bins=100)"
   ]
  },
  {
   "cell_type": "code",
   "execution_count": 135,
   "metadata": {},
   "outputs": [
    {
     "data": {
      "image/png": "[encoded data removed]",
      "text/plain": [
       "<Figure size 432x288 with 2 Axes>"
      ]
     },
     "metadata": {},
     "output_type": "display_data"
    }
   ],
   "source": [
    "col_name = 'med_price_xy'\n",
    "mask1 = df[col_name] != 0 # to plot the log scale\n",
    "mask2 = df[col_name].isnull()\n",
    "log_hist(df.loc[mask1 & ~mask2, col_name], title=col_name, bins=100)"
   ]
  },
  {
   "cell_type": "code",
   "execution_count": 120,
   "metadata": {},
   "outputs": [
    {
     "data": {
      "image/png": "[encoded data removed]",
      "text/plain": [
       "<Figure size 432x288 with 2 Axes>"
      ]
     },
     "metadata": {},
     "output_type": "display_data"
    }
   ],
   "source": [
    "col_name = 'med_price_xy'\n",
    "mask1 = df[col_name] != 0 # to plot the log scale\n",
    "mask2 = df[col_name].isnull()\n",
    "log_hist(df.loc[mask1 & ~mask2, col_name], title=col_name, bins=20)"
   ]
  },
  {
   "cell_type": "code",
   "execution_count": 132,
   "metadata": {},
   "outputs": [
    {
     "data": {
      "image/png": "[encoded data removed]",
      "text/plain": [
       "<Figure size 432x288 with 2 Axes>"
      ]
     },
     "metadata": {},
     "output_type": "display_data"
    }
   ],
   "source": [
    "col_name = 'price_to_med_xy'\n",
    "mask1 = df[col_name] != 0 # to plot the log scale\n",
    "mask2 = df[col_name].isnull()\n",
    "log_hist(df.loc[mask1 & ~mask2, col_name], title=col_name, bins=100)"
   ]
  },
  {
   "cell_type": "code",
   "execution_count": 133,
   "metadata": {},
   "outputs": [
    {
     "data": {
      "image/png": "[encoded data removed]",
      "text/plain": [
       "<Figure size 432x288 with 2 Axes>"
      ]
     },
     "metadata": {},
     "output_type": "display_data"
    }
   ],
   "source": [
    "col_name = 'price_to_med_year'\n",
    "mask1 = df[col_name] != 0 # to plot the log scale\n",
    "mask2 = df[col_name].isnull()\n",
    "log_hist(df.loc[mask1 & ~mask2, col_name], title=col_name, bins=100)"
   ]
  },
  {
   "cell_type": "code",
   "execution_count": null,
   "metadata": {},
   "outputs": [],
   "source": []
  }
 ],
 "metadata": {
  "kernelspec": {
   "display_name": "Python 3",
   "language": "python",
   "name": "python3"
  },
  "language_info": {
   "codemirror_mode": {
    "name": "ipython",
    "version": 3
   },
   "file_extension": ".py",
   "mimetype": "text/x-python",
   "name": "python",
   "nbconvert_exporter": "python",
   "pygments_lexer": "ipython3",
   "version": "3.6.9"
  }
 },
 "nbformat": 4,
 "nbformat_minor": 2
}
