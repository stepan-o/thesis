{
 "cells": [
  {
   "cell_type": "markdown",
   "metadata": {
    "pycharm": {
     "name": "#%% md\n"
    }
   },
   "source": [
    "# GTHA housing market database\n",
    "# OSEMN methodology Step 3: Explore\n",
    "# Exploratory Data Analysis (EDA) of the Teranet dataset\n",
    "---\n",
    "\n",
    "This notebook describes _Step 3: Explore_  of OSEMN methodology performed on the Teranet dataset.\n",
    "\n",
    "Previous steps included: \n",
    "\n",
    "**Step 2: Scrub:**\n",
    "\n",
    "* **Step 2.1:** spatial join between the Teranet points and the polygons of GTHA Dissemination Areas (DAs)\n",
    "    \n",
    "    * During step 2.1, Teranet records whose coordinates fall outside of the GTHA boundary (as defined by the DA geometry) have been filtered out (6,803,691 of the original 9,039,241 Teranet records remain in the dataset)\n",
    "     \n",
    "    * In addition to that, three new columns (`OBJECTID`, `DAUID`, and `CSDNAME`) derived from DA attributes have been added to each Teranet transaction\n",
    "\n",
    "    * for details, see `notebooks/2.scrub/2.1_teranet_gtha_spatial_join.ipynb`\n",
    "\n",
    "* **Step 2.2:** correction for consistency of the Teranet records\n",
    "\n",
    "    * column names were converted to lower case\n",
    "    \n",
    "    * inconsistent capitalizations were fixed for columns\n",
    "    \n",
    "        * `municipality`    \n",
    "        * `street_name`\n",
    "        * `street_designation`\n",
    "        * `postal_code` (did not show problems, converted as a preventive measure)\n",
    "        \n",
    "    * columns `province` and `street_suffix` were removed from the dataset\n",
    "    \n",
    "    * new column `street_name_raw` was created: reserve copy of unmodified `street_name`\n",
    "    \n",
    "    * column `street_name` was parsed and cleaned for:\n",
    "    \n",
    "        * `postal_code`\n",
    "        * `unitno`\n",
    "        * `street_number`\n",
    "        * `street_direction`\n",
    "        * `street_designation`\n",
    "        \n",
    "    * plots of the count and percentage of missing values per column were produced\n",
    "    \n",
    "    * inconsistent entries were fixed in the following columns:\n",
    "        \n",
    "        * `street_direction`\n",
    "        * `street_designation`\n",
    "        * `municipality`\n",
    "        * `street_name`\n",
    "        * `unitno`\n",
    "        \n",
    "    * for details, see `notebooks/2.scrub/2.2_teranet_consistency.ipynb`\n",
    "\n",
    "* **Step 2.3:** addition of new attributes to the Teranet dataset\n",
    "\n",
    "* during Step 2.3, **two versions of the Teranet dataset were produced**:\n",
    "\n",
    "    * one where `consideration_amt` was left unmodified\n",
    "    \n",
    "    * one where `consideration_amt` < 10'000 CAD was reset to NaN and these records were removed from the dataset (1,615,178 records (23.74% of the total) have been removed. 5,188,513 records remain in the Teranet dataset).\n",
    "\n",
    "New attributes were added to both versions of the Teranet dataset:\n",
    " \n",
    "* surrogate key:\n",
    "\n",
    "    * `transaction_id`: unique identifier for each Teranet transaction \n",
    "    \n",
    "Essentially, a simple range index, which represents the row number of a record in the full Teranet dataset (filtered to include only GTHA records), ordered by date (from earliest to latest) and `pin`\n",
    "    \n",
    "* attributes for display\n",
    "\n",
    "    * `date_disp`: `registration_date` converted to `datetime.date` data type to exclude the timestamp (original `registration_date` is stored in NumPy's `datetime64` format to allow more efficient datetime operations)\n",
    "    \n",
    "    * `price_disp`: `consideration_amt` formatted to include thousands separator (_e.g.,_ '3,455,122') and stored as a string, for display purposes\n",
    "    \n",
    "* attributes for record grouping\n",
    "    \n",
    "    * `year`: year parsed from `registration_date`, to simplify record grouping\n",
    "    \n",
    "    * `3year`: `registration_date` parsed for 3-year intervals (_e.g.,_ '2014-2016'), to simplify record grouping\n",
    "    \n",
    "    * `5year`: `registration_date` parsed for 5-year intervals (_e.g.,_ '2012-2016'), to simplify record grouping\n",
    "    \n",
    "    * `10year`: `registration_date` parsed for 3-year intervals (_e.g.,_ '2007-2017'), to simplify record grouping\n",
    "    \n",
    "    * `xy`: `x` and `y` coordinates concatenated together (_e.g.,_ '43.098324_-79.234235'), can be used to identify and group records by their coordinate pairs\n",
    "    \n",
    "* correction of `consideration_amt` for inflation    \n",
    "    \n",
    "    * `price_infl`: `consideration_amt` corrected for inflation\n",
    "    \n",
    "* exploratory attributes\n",
    "\n",
    "    * `pin/xy_total_sales`: total records for this `pin`/`xy`\n",
    "\n",
    "    * `pin/xy_prev_sales`: previous records from this `pin`/`xy` (not counting current transaction)\n",
    "\n",
    "    * `pin/xy_price_cum_sum`: cumulative price of all records to date from this `pin`/`xy`\n",
    "\n",
    "    * `pin/xy_price_pct_change`: price percentage change compared to previous record from this `pin`/`xy`\n",
    "\n",
    "    * `price_da_pct_change`: price percentage change compared to previous record from this DA (by `da_id`)\n",
    "\n",
    "    * `pin/xy_years_since_last_sale`: years since last sale from this `pin`/`xy`\n",
    "\n",
    "    * `da_days_since_last_sale`, `da_years_since_last_sale`: days or years since last sale from this DA (by `da_id`)\n",
    "\n",
    "    * `sale_next_6m/1y/3y`: \"looks into the future\" to see whether there is another transaction from this `pin`/`xy` within the given time horizon (6 months, 1 year, 3 years)\n",
    "\n",
    "    * for details, see `notebooks/2.scrub/2.3_teranet_new_cols.ipynb` and `notebooks/2.scrub/2.3_teranet_nonan_new_cols.ipynb`\n",
    "\n",
    "---\n",
    "\n",
    "For description of OSEMN methodology, see `methodology/0.osemn/osemn.pdf`.\n",
    "\n",
    "For background information, description of the Teranet dataset, and its attributes, see `methodology/1.obtain/obtain.pdf`.\n",
    "\n",
    "For description of _Step 3: Explore_ of OSEMN methodology, see `methodology/2.scrub/scrub.pdf`."
   ]
  },
  {
   "cell_type": "markdown",
   "metadata": {},
   "source": [
    "## Import dependencies"
   ]
  },
  {
   "cell_type": "code",
   "execution_count": 1,
   "metadata": {
    "pycharm": {
     "is_executing": false,
     "name": "#%%\n"
    }
   },
   "outputs": [],
   "source": [
    "import matplotlib.pyplot as plt\n",
    "import matplotlib\n",
    "import pandas as pd\n",
    "import seaborn as sns\n",
    "import os\n",
    "from time import time\n",
    "\n",
    "sns.set()"
   ]
  },
  {
   "cell_type": "code",
   "execution_count": 2,
   "metadata": {
    "pycharm": {
     "is_executing": false,
     "name": "#%%\n"
    }
   },
   "outputs": [
    {
     "data": {
      "text/plain": [
       "['Teranet_consistent.csv',\n",
       " 'Teranet_with_DA_cols.csv',\n",
       " 'Teranet_new_cols.csv',\n",
       " 'Teranet_nonan_new_cols.csv',\n",
       " 'HHSaleHistory.csv']"
      ]
     },
     "execution_count": 2,
     "metadata": {},
     "output_type": "execute_result"
    }
   ],
   "source": [
    "data_path = '../../data/teranet/'\n",
    "os.listdir(data_path)"
   ]
  },
  {
   "cell_type": "markdown",
   "metadata": {},
   "source": [
    "## Load Teranet data"
   ]
  },
  {
   "cell_type": "code",
   "execution_count": 3,
   "metadata": {
    "pycharm": {
     "is_executing": true,
     "name": "#%%\n"
    }
   },
   "outputs": [
    {
     "name": "stdout",
     "output_type": "stream",
     "text": [
      "----- DataFrame loaded\n",
      "in 63.80 seconds (1.06 minutes)\n",
      "with 5,188,513 rows\n",
      "and 44 columns\n",
      "-- Column names:\n",
      " Index(['transaction_id', 'lro_num', 'pin', 'consideration_amt',\n",
      "       'registration_date', 'postal_code', 'unitno', 'street_name',\n",
      "       'street_designation', 'street_direction', 'municipality',\n",
      "       'street_number', 'x', 'y', 'objectid', 'dauid', 'csdname',\n",
      "       'street_name_raw', 'date_disp', 'price_disp', 'year', '3year', '5year',\n",
      "       '10year', 'xy', 'pin_total_sales', 'xy_total_sales', 'pin_prev_sales',\n",
      "       'xy_prev_sales', 'pin_price_cum_sum', 'xy_price_cum_sum',\n",
      "       'pin_price_pct_change', 'xy_price_pct_change', 'price_da_pct_change',\n",
      "       'pin_years_since_last_sale', 'xy_years_since_last_sale',\n",
      "       'da_days_since_last_sale', 'da_years_since_last_sale',\n",
      "       'pin_sale_next_6m', 'pin_sale_next_1y', 'pin_sale_next_3y',\n",
      "       'xy_sale_next_6m', 'xy_sale_next_1y', 'xy_sale_next_3y'],\n",
      "      dtype='object')\n"
     ]
    }
   ],
   "source": [
    "t = time()\n",
    "\n",
    "df = pd.read_csv(data_path + 'Teranet_nonan_new_cols.csv',\n",
    "                 parse_dates=['registration_date'], low_memory=False)\n",
    "elapsed = time() - t\n",
    "print(\"----- DataFrame loaded\"\n",
    "      \"\\nin {0:,.2f} seconds ({1:.2f} minutes)\".format(elapsed, elapsed / 60) + \n",
    "      \"\\nwith {0:,} rows\\nand {1:,} columns\"\n",
    "      .format(df.shape[0], df.shape[1]) + \n",
    "      \"\\n-- Column names:\\n\", df.columns)"
   ]
  },
  {
   "cell_type": "code",
   "execution_count": 4,
   "metadata": {
    "pycharm": {
     "name": "#%%\n"
    }
   },
   "outputs": [
    {
     "name": "stdout",
     "output_type": "stream",
     "text": [
      "<class 'pandas.core.frame.DataFrame'>\n",
      "RangeIndex: 5188513 entries, 0 to 5188512\n",
      "Data columns (total 44 columns):\n",
      "transaction_id               5188513 non-null int64\n",
      "lro_num                      5188513 non-null int64\n",
      "pin                          5188513 non-null int64\n",
      "consideration_amt            5188513 non-null float64\n",
      "registration_date            5188513 non-null datetime64[ns]\n",
      "postal_code                  4881914 non-null object\n",
      "unitno                       1332614 non-null object\n",
      "street_name                  5144061 non-null object\n",
      "street_designation           5090453 non-null object\n",
      "street_direction             550657 non-null object\n",
      "municipality                 5187161 non-null object\n",
      "street_number                5142790 non-null object\n",
      "x                            5188513 non-null float64\n",
      "y                            5188513 non-null float64\n",
      "objectid                     5188513 non-null int64\n",
      "dauid                        5188513 non-null int64\n",
      "csdname                      5188513 non-null object\n",
      "street_name_raw              5144061 non-null object\n",
      "date_disp                    5188513 non-null object\n",
      "price_disp                   5188513 non-null object\n",
      "year                         5188513 non-null int64\n",
      "3year                        5188513 non-null object\n",
      "5year                        5188513 non-null object\n",
      "10year                       5188513 non-null object\n",
      "xy                           5188513 non-null object\n",
      "pin_total_sales              5188513 non-null int64\n",
      "xy_total_sales               5188513 non-null int64\n",
      "pin_prev_sales               5188513 non-null int64\n",
      "xy_prev_sales                5188513 non-null int64\n",
      "pin_price_cum_sum            5188513 non-null float64\n",
      "xy_price_cum_sum             5188513 non-null float64\n",
      "pin_price_pct_change         2760740 non-null float64\n",
      "xy_price_pct_change          3808087 non-null float64\n",
      "price_da_pct_change          5179390 non-null float64\n",
      "pin_years_since_last_sale    2760740 non-null float64\n",
      "xy_years_since_last_sale     3808087 non-null float64\n",
      "da_days_since_last_sale      5179390 non-null float64\n",
      "da_years_since_last_sale     5179390 non-null float64\n",
      "pin_sale_next_6m             5188513 non-null bool\n",
      "pin_sale_next_1y             5188513 non-null bool\n",
      "pin_sale_next_3y             5188513 non-null bool\n",
      "xy_sale_next_6m              5188513 non-null bool\n",
      "xy_sale_next_1y              5188513 non-null bool\n",
      "xy_sale_next_3y              5188513 non-null bool\n",
      "dtypes: bool(6), datetime64[ns](1), float64(12), int64(10), object(15)\n",
      "memory usage: 1.5+ GB\n"
     ]
    }
   ],
   "source": [
    "df.info(null_counts=True)"
   ]
  },
  {
   "cell_type": "markdown",
   "metadata": {},
   "source": [
    "## Count of records by Land Registry Office"
   ]
  },
  {
   "cell_type": "code",
   "execution_count": 5,
   "metadata": {},
   "outputs": [
    {
     "data": {
      "image/png": "[encoded data removed]",
      "text/plain": [
       "<Figure size 576x576 with 1 Axes>"
      ]
     },
     "metadata": {
      "needs_background": "light"
     },
     "output_type": "display_data"
    }
   ],
   "source": [
    "ax = df['lro_num'].value_counts().plot(kind='bar', figsize=(8, 8))\n",
    "ax.get_yaxis().set_major_formatter(\n",
    "    matplotlib.ticker.FuncFormatter(lambda x, p: format(int(x), ',')))\n",
    "ax.set_xlabel(\"Land Registry Office\", fontsize=16)\n",
    "ax.set_ylabel(\"Count of records\", fontsize=16)\n",
    "ax.set_title(\"Count of records by Land Registry Office\", fontsize=20)\n",
    "plt.xticks(rotation=0, fontsize=16)\n",
    "plt.yticks(fontsize=14)\n",
    "plt.show()"
   ]
  },
  {
   "cell_type": "code",
   "execution_count": 6,
   "metadata": {},
   "outputs": [
    {
     "data": {
      "image/png": "[encoded data removed]",
      "text/plain": [
       "<Figure size 864x864 with 1 Axes>"
      ]
     },
     "metadata": {
      "needs_background": "light"
     },
     "output_type": "display_data"
    }
   ],
   "source": [
    "ax = df.query('consideration_amt < 2000000')['consideration_amt']\\\n",
    "    .hist(bins=100, figsize=(12,12))\n",
    "ax.get_xaxis().set_major_formatter(\n",
    "    matplotlib.ticker.FuncFormatter(lambda x, p: format(int(x), ',')))\n",
    "ax.get_yaxis().set_major_formatter(\n",
    "    matplotlib.ticker.FuncFormatter(lambda x, p: format(int(x), ',')))\n",
    "ax.set_xlabel(\"Consideration amount\", fontsize=16)\n",
    "ax.set_ylabel(\"Count of records\", fontsize=16)\n",
    "ax.set_title(\"Distribution of 'consideration_amt', from 0 to 2'000'000 CAD\", fontsize=20)\n",
    "plt.xticks(rotation=45, fontsize=16)\n",
    "plt.yticks(fontsize=14)\n",
    "plt.savefig('results/teranet_price_dist.png', dpi=300, bbox_inches='tight')"
   ]
  },
  {
   "cell_type": "code",
   "execution_count": 30,
   "metadata": {},
   "outputs": [
    {
     "data": {
      "text/plain": [
       "37"
      ]
     },
     "execution_count": 30,
     "metadata": {},
     "output_type": "execute_result"
    }
   ],
   "source": [
    "df['xy'].str.len().max()"
   ]
  },
  {
   "cell_type": "code",
   "execution_count": null,
   "metadata": {},
   "outputs": [],
   "source": []
  },
  {
   "cell_type": "code",
   "execution_count": null,
   "metadata": {},
   "outputs": [],
   "source": []
  }
 ],
 "metadata": {
  "kernelspec": {
   "display_name": "Python 3",
   "language": "python",
   "name": "python3"
  },
  "language_info": {
   "codemirror_mode": {
    "name": "ipython",
    "version": 3
   },
   "file_extension": ".py",
   "mimetype": "text/x-python",
   "name": "python",
   "nbconvert_exporter": "python",
   "pygments_lexer": "ipython3",
   "version": "3.6.7"
  },
  "pycharm": {
   "stem_cell": {
    "cell_type": "raw",
    "metadata": {
     "collapsed": false
    },
    "source": []
   }
  }
 },
 "nbformat": 4,
 "nbformat_minor": 1
}
