{
 "cells": [
  {
   "cell_type": "markdown",
   "metadata": {},
   "source": [
    "# GTHA housing market database\n",
    "# OSEMN methodology Step 1: Obtain\n",
    "# Obtain Enhanced Points of Interest (DMTI)\n",
    "\n",
    "---\n",
    "\n",
    "This notebook describes _Step 1: Obtain_ of OSEMN methodology, the process of obtaining EPOI from DMTI.\n",
    "\n",
    "---\n",
    "\n",
    "For description of OSEMN methodology, see `methodology/0.osemn/osemn.pdf`.\n",
    "# GTHA housing market database\n",
    "# OSEMN methodology Step 1: Obtain\n",
    "# Step 1.1 Spatial join of EPOI from DMTI to parcel polygons\n",
    "\n",
    "---\n",
    "\n",
    "\n",
    "## Enhanced Points of Interest (DMTI)\n",
    "\n",
    "[McGill library](https://www.mcgill.ca/library/find/maps/epoi):\n",
    "The Enhanced Points of Interest files are produced by DMTI Spatial Inc. The Enhanced Points of Interest (EPOI) file is a national database of over 1 million Canadian business and recreational points of interest. Engineered using CanMap® Streetfiles, each EPOI has been accurately geocoded and precisely placed. This location enriched point of interest database allows users to see and analyze selected point of interest data in a given geographic area, enabling applications such as retail site analysis, competitive and market research, business and tourism analysis. Features Include: Coordinate location (X, Y), Standard industry classification code (SIC), Business or recreational names with address information, and Common Address Flags (CAF) allowing users to identify records with identical addresses. It is recommended to use this with the dataset with CanMap Streetfiles (DMTI).\n",
    "\n",
    "\n",
    "## Import dependencies\n",
    "## Import dependencies"
   ]
  },
  {
   "cell_type": "code",
   "execution_count": 1,
   "metadata": {
    "pycharm": {
     "name": "#%%\n"
    }
   },
   "outputs": [],
   "source": [
    "import pandas as pd\n",
    "import geopandas as gpd\n",
    "import os\n",
    "from time import time"
   ]
  },
  {
   "cell_type": "code",
   "execution_count": 2,
   "metadata": {},
   "outputs": [
    {
     "data": {
      "text/plain": [
       "['epoi_gtha13.sbx',\n",
       " 'epoi_gtha13.sbn',\n",
       " 'epoi_gtha13.dbf',\n",
       " 'epoi_gtha13.shp.xml',\n",
       " 'epoi_gtha13.cpg',\n",
       " 'epoi_gtha13.shp',\n",
       " 'epoi_gtha13.prj',\n",
       " 'epoi_gtha13.shx']"
      ]
     },
     "execution_count": 2,
     "metadata": {},
     "output_type": "execute_result"
    }
   ],
   "source": [
    "data_path = '../../../data/'\n",
    "epoi_path = data_path + 'dmti/epoi_gtha13/'\n",
    "os.listdir(epoi_path)"
   ]
  },
  {
   "cell_type": "code",
   "execution_count": 3,
   "metadata": {},
   "outputs": [
    {
     "data": {
      "text/plain": [
       "['lu_gtha.dbf', 'lu_gtha.cpg', 'lu_gtha.shp', 'lu_gtha.prj', 'lu_gtha.shx']"
      ]
     },
     "execution_count": 3,
     "metadata": {},
     "output_type": "execute_result"
    }
   ],
   "source": [
    "lu_path = data_path + 'teranet/ParcelLandUse/lu_gtha_shapefile/'\n",
    "os.listdir(lu_path)"
   ]
  },
  {
   "cell_type": "markdown",
   "metadata": {},
   "source": [
    "## Load geometry of Enhanced Points of Interest (EPOI)"
   ]
  },
  {
   "cell_type": "code",
   "execution_count": 4,
   "metadata": {
    "pycharm": {
     "name": "#%%\n"
    }
   },
   "outputs": [
    {
     "name": "stdout",
     "output_type": "stream",
     "text": [
      "\n",
      "----- DataFrame loaded\n",
      "in 39.04 seconds\n",
      "with 317,874 rows\n",
      "and 38 columns\n",
      "-- Column names:\n",
      " Index(['OBJECTID', 'POI_ID', 'NAME', 'UNIT_SUITE', 'ADDRESS', 'DELIV_MODE',\n",
      "       'CITY', 'MAF', 'PROV', 'POST_CODE', 'LOCATION', 'PHONE', 'FAX',\n",
      "       'TOLL_FREE', 'WEBSITE', 'EPOI_TYPE', 'CAF', 'SIC_1', 'SIC_2', 'SIC_3',\n",
      "       'SIC_4', 'SIC_5', 'SIC_6', 'NAICS_1', 'NAICS_2', 'NAICS_3', 'NAICS_4',\n",
      "       'NAICS_5', 'SIC_MJ_GRP', 'SIC_DIV', 'X', 'Y', 'PREC_CODE', 'ATTRIBCODE',\n",
      "       'STATUS', 'COMM_NAME', 'GRP_IND', 'geometry'],\n",
      "      dtype='object')\n"
     ]
    }
   ],
   "source": [
    "t = time()\n",
    "epoi_gdf = gpd.read_file(epoi_path + 'epoi_gtha13.shp')\n",
    "elapsed = time() - t\n",
    "print(\"\\n----- DataFrame loaded\"\n",
    "      \"\\nin {0:.2f} seconds\".format(elapsed) + \n",
    "      \"\\nwith {0:,} rows\\nand {1:,} columns\"\n",
    "      .format(epoi_gdf.shape[0], epoi_gdf.shape[1]) + \n",
    "      \"\\n-- Column names:\\n\", epoi_gdf.columns)"
   ]
  },
  {
   "cell_type": "code",
   "execution_count": 5,
   "metadata": {},
   "outputs": [],
   "source": [
    "epoi_gdf.plot();"
   ]
  },
  {
   "cell_type": "markdown",
   "metadata": {},
   "source": [
    "## Load geometry of land use (PIN-indexed parcels)"
   ]
  },
  {
   "cell_type": "code",
   "execution_count": 6,
   "metadata": {},
   "outputs": [
    {
     "name": "stdout",
     "output_type": "stream",
     "text": [
      "----- GeoDataFrame loaded\n",
      "in 156.57 seconds (2.61 minutes)\n",
      "with 1,664,862 rows\n",
      "and 18 columns\n",
      "-- Column names:\n",
      " Index(['AreaM2', 'DEPTH', 'Distance', 'FID_1', 'FID_2', 'FRONTAGE', 'ID',\n",
      "       'LANDUSE', 'LengthM', 'OBJECTID', 'PIN', 'PIN_1', 'PROP_CODE',\n",
      "       'SHAPE_Area', 'SHAPE_Leng', 'SITE_AREA', 'municipali', 'geometry'],\n",
      "      dtype='object')\n",
      "Taking the subset with columns\n",
      ": ['PIN', 'geometry']\n",
      "\n",
      "-- New column names:\n",
      " Index(['PIN', 'geometry'], dtype='object')\n"
     ]
    },
    {
     "data": {
      "image/svg+xml": [
       "<svg xmlns=\"http://www.w3.org/2000/svg\" xmlns:xlink=\"http://www.w3.org/1999/xlink\" width=\"100.0\" height=\"100.0\" viewBox=\"-79.27224352417663 43.83891160005582 0.0004648867404455359 0.00017108640603424874\" preserveAspectRatio=\"xMinYMin meet\"><g transform=\"matrix(1,0,0,-1,0,87.67799428651767)\"><path fill-rule=\"evenodd\" fill=\"#66cc99\" stroke=\"#555555\" stroke-width=\"9.297734808910719e-06\" opacity=\"0.6\" d=\"M -79.27221242610426,43.839065468434434 L -79.27179585546361,43.839008003601265 L -79.27180789550232,43.83892881808325 L -79.27222630614921,43.83897433501603 L -79.27221405800456,43.83905470699243 L -79.27221242610426,43.839065468434434 z\" /></g></svg>"
      ],
      "text/plain": [
       "<shapely.geometry.polygon.Polygon at 0x7fe075c8b208>"
      ]
     },
     "execution_count": 6,
     "metadata": {},
     "output_type": "execute_result"
    }
   ],
   "source": [
    "t = time()\n",
    "lu_gdf = gpd.read_file(lu_path + 'lu_gtha.shp')\n",
    "elapsed = time() - t\n",
    "\n",
    "print(\"----- GeoDataFrame loaded\"\n",
    "      \"\\nin {0:.2f} seconds ({1:.2f} minutes)\".format(elapsed, elapsed / 60) + \n",
    "      \"\\nwith {0:,} rows\\nand {1:,} columns\"\n",
    "      .format(lu_gdf.shape[0], lu_gdf.shape[1]) + \n",
    "      \"\\n-- Column names:\\n\", lu_gdf.columns)\n",
    "\n",
    "cols = ['PIN', 'geometry']\n",
    "\n",
    "print(\"Taking the subset with columns\\n:\", cols)\n",
    "\n",
    "lu_gdf = lu_gdf[cols]\n",
    "\n",
    "print(\"\\n-- New column names:\\n\", lu_gdf.columns)\n",
    "\n",
    "# lu_gta_gdf.plot(); # plotting the whole GeoDataFrame can take a very long time\n",
    "lu_gdf.iloc[0].geometry"
   ]
  },
  {
   "cell_type": "markdown",
   "metadata": {},
   "source": [
    "## Perform the spatial join of Teranet points with DA polygons\n",
    "### Validate projections"
   ]
  },
  {
   "cell_type": "code",
   "execution_count": 7,
   "metadata": {},
   "outputs": [
    {
     "data": {
      "text/plain": [
       "{'init': 'epsg:4326'}"
      ]
     },
     "execution_count": 7,
     "metadata": {},
     "output_type": "execute_result"
    }
   ],
   "source": [
    "epoi_gdf.crs"
   ]
  },
  {
   "cell_type": "code",
   "execution_count": 8,
   "metadata": {},
   "outputs": [
    {
     "data": {
      "text/plain": [
       "{'init': 'epsg:4326'}"
      ]
     },
     "execution_count": 8,
     "metadata": {},
     "output_type": "execute_result"
    }
   ],
   "source": [
    "lu_gdf.crs"
   ]
  },
  {
   "cell_type": "markdown",
   "metadata": {},
   "source": [
    "### Perform the spatial joins\n",
    ">Note: EPSG:4326 and WGS 84 represent the [same projection](https://spatialreference.org/ref/epsg/wgs-84/)."
   ]
  },
  {
   "cell_type": "code",
   "execution_count": 9,
   "metadata": {},
   "outputs": [
    {
     "name": "stdout",
     "output_type": "stream",
     "text": [
      "\n",
      "----- Spatial join completed, new GeoDataFrame created\n",
      "in 236.24 seconds (3.94 minutes)\n",
      "with 317,874 rows\n",
      "and 40 columns\n",
      "-- Column names:\n",
      " Index(['OBJECTID', 'POI_ID', 'NAME', 'UNIT_SUITE', 'ADDRESS', 'DELIV_MODE',\n",
      "       'CITY', 'MAF', 'PROV', 'POST_CODE', 'LOCATION', 'PHONE', 'FAX',\n",
      "       'TOLL_FREE', 'WEBSITE', 'EPOI_TYPE', 'CAF', 'SIC_1', 'SIC_2', 'SIC_3',\n",
      "       'SIC_4', 'SIC_5', 'SIC_6', 'NAICS_1', 'NAICS_2', 'NAICS_3', 'NAICS_4',\n",
      "       'NAICS_5', 'SIC_MJ_GRP', 'SIC_DIV', 'X', 'Y', 'PREC_CODE', 'ATTRIBCODE',\n",
      "       'STATUS', 'COMM_NAME', 'GRP_IND', 'geometry', 'index_right', 'PIN'],\n",
      "      dtype='object')\n"
     ]
    }
   ],
   "source": [
    "t = time()\n",
    "epoi_pin_gdf = gpd.sjoin(epoi_gdf, lu_gdf, \n",
    "                         how='left', op='intersects')\n",
    "elapsed = time() - t\n",
    "print(\"\\n----- Spatial join completed, new GeoDataFrame created\"\n",
    "      \"\\nin {0:.2f} seconds ({1:.2f} minutes)\".format(elapsed, elapsed / 60) + \n",
    "      \"\\nwith {0:,} rows\\nand {1:,} columns\"\n",
    "      .format(epoi_pin_gdf.shape[0], epoi_pin_gdf.shape[1]) + \n",
    "      \"\\n-- Column names:\\n\", epoi_pin_gdf.columns)"
   ]
  },
  {
   "cell_type": "markdown",
   "metadata": {},
   "source": [
    "### Validate results"
   ]
  },
  {
   "cell_type": "code",
   "execution_count": 10,
   "metadata": {},
   "outputs": [
    {
     "name": "stdout",
     "output_type": "stream",
     "text": [
      "<class 'geopandas.geodataframe.GeoDataFrame'>\n",
      "Int64Index: 317874 entries, 0 to 317873\n",
      "Data columns (total 40 columns):\n",
      "OBJECTID       317874 non-null int64\n",
      "POI_ID         317874 non-null object\n",
      "NAME           317864 non-null object\n",
      "UNIT_SUITE     6175 non-null object\n",
      "ADDRESS        290169 non-null object\n",
      "DELIV_MODE     503 non-null object\n",
      "CITY           317874 non-null object\n",
      "MAF            317874 non-null object\n",
      "PROV           317874 non-null object\n",
      "POST_CODE      271121 non-null object\n",
      "LOCATION       481 non-null object\n",
      "PHONE          300494 non-null object\n",
      "FAX            44820 non-null object\n",
      "TOLL_FREE      20244 non-null object\n",
      "WEBSITE        48127 non-null object\n",
      "EPOI_TYPE      20470 non-null object\n",
      "CAF            216613 non-null object\n",
      "SIC_1          317874 non-null object\n",
      "SIC_2          317874 non-null object\n",
      "SIC_3          317874 non-null object\n",
      "SIC_4          317874 non-null object\n",
      "SIC_5          317874 non-null object\n",
      "SIC_6          317874 non-null object\n",
      "NAICS_1        317874 non-null object\n",
      "NAICS_2        317874 non-null object\n",
      "NAICS_3        317874 non-null object\n",
      "NAICS_4        317874 non-null object\n",
      "NAICS_5        317874 non-null object\n",
      "SIC_MJ_GRP     317874 non-null object\n",
      "SIC_DIV        317874 non-null object\n",
      "X              317874 non-null float64\n",
      "Y              317874 non-null float64\n",
      "PREC_CODE      317874 non-null object\n",
      "ATTRIBCODE     317874 non-null object\n",
      "STATUS         5479 non-null object\n",
      "COMM_NAME      0 non-null object\n",
      "GRP_IND        9859 non-null object\n",
      "geometry       317874 non-null object\n",
      "index_right    315938 non-null float64\n",
      "PIN            315938 non-null object\n",
      "dtypes: float64(3), int64(1), object(36)\n",
      "memory usage: 99.4+ MB\n"
     ]
    }
   ],
   "source": [
    "epoi_pin_gdf.info()"
   ]
  },
  {
   "cell_type": "code",
   "execution_count": 11,
   "metadata": {},
   "outputs": [
    {
     "name": "stdout",
     "output_type": "stream",
     "text": [
      "<class 'geopandas.geodataframe.GeoDataFrame'>\n",
      "RangeIndex: 317874 entries, 0 to 317873\n",
      "Data columns (total 38 columns):\n",
      "OBJECTID      317874 non-null int64\n",
      "POI_ID        317874 non-null object\n",
      "NAME          317864 non-null object\n",
      "UNIT_SUITE    6175 non-null object\n",
      "ADDRESS       290169 non-null object\n",
      "DELIV_MODE    503 non-null object\n",
      "CITY          317874 non-null object\n",
      "MAF           317874 non-null object\n",
      "PROV          317874 non-null object\n",
      "POST_CODE     271121 non-null object\n",
      "LOCATION      481 non-null object\n",
      "PHONE         300494 non-null object\n",
      "FAX           44820 non-null object\n",
      "TOLL_FREE     20244 non-null object\n",
      "WEBSITE       48127 non-null object\n",
      "EPOI_TYPE     20470 non-null object\n",
      "CAF           216613 non-null object\n",
      "SIC_1         317874 non-null object\n",
      "SIC_2         317874 non-null object\n",
      "SIC_3         317874 non-null object\n",
      "SIC_4         317874 non-null object\n",
      "SIC_5         317874 non-null object\n",
      "SIC_6         317874 non-null object\n",
      "NAICS_1       317874 non-null object\n",
      "NAICS_2       317874 non-null object\n",
      "NAICS_3       317874 non-null object\n",
      "NAICS_4       317874 non-null object\n",
      "NAICS_5       317874 non-null object\n",
      "SIC_MJ_GRP    317874 non-null object\n",
      "SIC_DIV       317874 non-null object\n",
      "X             317874 non-null float64\n",
      "Y             317874 non-null float64\n",
      "PREC_CODE     317874 non-null object\n",
      "ATTRIBCODE    317874 non-null object\n",
      "STATUS        5479 non-null object\n",
      "COMM_NAME     0 non-null object\n",
      "GRP_IND       9859 non-null object\n",
      "geometry      317874 non-null object\n",
      "dtypes: float64(2), int64(1), object(35)\n",
      "memory usage: 92.2+ MB\n"
     ]
    }
   ],
   "source": [
    "epoi_gdf.info(null_counts=True)"
   ]
  },
  {
   "cell_type": "code",
   "execution_count": 12,
   "metadata": {},
   "outputs": [
    {
     "data": {
      "text/plain": [
       "212000009    14501\n",
       "171710133     2179\n",
       "163530162     1410\n",
       "140680100     1338\n",
       "030220360     1288\n",
       "             ...  \n",
       "104270400        1\n",
       "074510109        1\n",
       "102350403        1\n",
       "102360329        1\n",
       "064080155        1\n",
       "Name: PIN, Length: 85476, dtype: int64"
      ]
     },
     "execution_count": 12,
     "metadata": {},
     "output_type": "execute_result"
    }
   ],
   "source": [
    "epoi_pin_gdf['PIN'].value_counts()"
   ]
  },
  {
   "cell_type": "code",
   "execution_count": 13,
   "metadata": {},
   "outputs": [
    {
     "data": {
      "text/plain": [
       "POI5031318     1\n",
       "POI4513873     1\n",
       "POI5108943     1\n",
       "POI3496592     1\n",
       "POI10300056    1\n",
       "              ..\n",
       "POI4938869     1\n",
       "POI10188529    1\n",
       "POI4880025     1\n",
       "POI4508025     1\n",
       "POI10301860    1\n",
       "Name: POI_ID, Length: 14501, dtype: int64"
      ]
     },
     "execution_count": 13,
     "metadata": {},
     "output_type": "execute_result"
    }
   ],
   "source": [
    "mask1 = epoi_pin_gdf['PIN'] == '212000009'\n",
    "epoi_pin_gdf.loc[mask1, 'POI_ID'].value_counts()"
   ]
  },
  {
   "cell_type": "markdown",
   "metadata": {
    "pycharm": {
     "name": "#%% md\n"
    }
   },
   "source": [
    "## Save results to a .csv file"
   ]
  },
  {
   "cell_type": "code",
   "execution_count": 14,
   "metadata": {},
   "outputs": [
    {
     "data": {
      "text/plain": [
       "Index(['OBJECTID', 'POI_ID', 'NAME', 'UNIT_SUITE', 'ADDRESS', 'DELIV_MODE',\n",
       "       'CITY', 'MAF', 'PROV', 'POST_CODE', 'LOCATION', 'PHONE', 'FAX',\n",
       "       'TOLL_FREE', 'WEBSITE', 'EPOI_TYPE', 'CAF', 'SIC_1', 'SIC_2', 'SIC_3',\n",
       "       'SIC_4', 'SIC_5', 'SIC_6', 'NAICS_1', 'NAICS_2', 'NAICS_3', 'NAICS_4',\n",
       "       'NAICS_5', 'SIC_MJ_GRP', 'SIC_DIV', 'X', 'Y', 'PREC_CODE', 'ATTRIBCODE',\n",
       "       'STATUS', 'COMM_NAME', 'GRP_IND', 'geometry', 'index_right', 'PIN'],\n",
       "      dtype='object')"
      ]
     },
     "execution_count": 14,
     "metadata": {},
     "output_type": "execute_result"
    }
   ],
   "source": [
    "epoi_pin_gdf.columns"
   ]
  },
  {
   "cell_type": "code",
   "execution_count": 17,
   "metadata": {
    "pycharm": {
     "name": "#%%\n"
    }
   },
   "outputs": [
    {
     "name": "stdout",
     "output_type": "stream",
     "text": [
      "DataFrame saved to file:\n",
      " ../../../data/dmti/epoi_gtha13/../dmti_epoi13_pin.csv \n",
      "took 21.66 seconds (0.36 minutes)\n"
     ]
    }
   ],
   "source": [
    "save_path = epoi_path + '../dmti_epoi13_pin.csv'\n",
    "t = time()\n",
    "epoi_pin_gdf.drop('index_right', axis=1).to_csv(save_path, index=False)\n",
    "elapsed = time() - t\n",
    "print(\"DataFrame saved to file:\\n\", save_path,\n",
    "      \"\\ntook {0:.2f} seconds ({1:.2f} minutes)\".format(elapsed, elapsed / 60))"
   ]
  }
 ],
 "metadata": {
  "kernelspec": {
   "display_name": "Python 3",
   "language": "python",
   "name": "python3"
  },
  "language_info": {
   "codemirror_mode": {
    "name": "ipython",
    "version": 3
   },
   "file_extension": ".py",
   "mimetype": "text/x-python",
   "name": "python",
   "nbconvert_exporter": "python",
   "pygments_lexer": "ipython3",
   "version": "3.6.9"
  },
  "pycharm": {
   "stem_cell": {
    "cell_type": "raw",
    "metadata": {
     "collapsed": false
    },
    "source": []
   }
  }
 },
 "nbformat": 4,
 "nbformat_minor": 1
}
