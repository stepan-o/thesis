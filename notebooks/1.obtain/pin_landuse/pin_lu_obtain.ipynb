{
 "cells": [
  {
   "cell_type": "markdown",
   "metadata": {},
   "source": [
    "# GTHA housing market database\n",
    "# OSEMN methodology Step 1: Obtain\n",
    "# Obtain parcel-level land use\n",
    "\n",
    "---\n",
    "\n",
    "This notebook describes _Step 1: Obtain_ of OSEMN methodology, the process of obtaining parcel-level land use info.\n",
    "\n",
    "---\n",
    "\n",
    "For description of OSEMN methodology, see `methodology/0.osemn/osemn.pdf`.\n",
    "\n",
    "## Import dependencies"
   ]
  },
  {
   "cell_type": "code",
   "execution_count": 19,
   "metadata": {
    "pycharm": {
     "name": "#%%\n"
    }
   },
   "outputs": [],
   "source": [
    "import pandas as pd\n",
    "import geopandas as gpd\n",
    "import os\n",
    "from time import time"
   ]
  },
  {
   "cell_type": "code",
   "execution_count": 20,
   "metadata": {},
   "outputs": [
    {
     "data": {
      "text/plain": [
       "['GTA_land_use_code.txt',\n",
       " 'GTAparcel16LU12.shx',\n",
       " 'with_epoi',\n",
       " 'GTAparcel16LU12.prj',\n",
       " 'GTAparcel16LU12.cpg',\n",
       " 'GTAparcel16LU12.shp',\n",
       " 'GTAparcel16LU12.dbf']"
      ]
     },
     "execution_count": 20,
     "metadata": {},
     "output_type": "execute_result"
    }
   ],
   "source": [
    "data_path = '../../data/'\n",
    "gta_lu_path = data_path + 'teranet/ParcelLandUse/GTA/'\n",
    "os.listdir(gta_lu_path)"
   ]
  },
  {
   "cell_type": "code",
   "execution_count": 21,
   "metadata": {},
   "outputs": [
    {
     "data": {
      "text/plain": [
       "['Hparcel16LU10.prj',\n",
       " 'Halmilton_Land_Use_Codes_2009_Original.pdf',\n",
       " 'with_epoi',\n",
       " 'HalLanduse_converted.csv',\n",
       " 'Hparcel16LU10.cpg',\n",
       " 'Hparcel16LU10.shp',\n",
       " 'Hparcel16LU10.dbf',\n",
       " 'Hparcel16LU10.shx']"
      ]
     },
     "execution_count": 21,
     "metadata": {},
     "output_type": "execute_result"
    }
   ],
   "source": [
    "ham_lu_path = data_path + 'teranet/ParcelLandUse/Halmilton/'\n",
    "os.listdir(ham_lu_path)"
   ]
  },
  {
   "cell_type": "markdown",
   "metadata": {},
   "source": [
    "## Load geometry of land use"
   ]
  },
  {
   "cell_type": "code",
   "execution_count": 4,
   "metadata": {
    "pycharm": {
     "name": "#%%\n"
    }
   },
   "outputs": [
    {
     "name": "stdout",
     "output_type": "stream",
     "text": [
      "----- GeoDataFrame loaded\n",
      "in 121.58 seconds (2.03 minutes)\n",
      "with 1,490,138 rows\n",
      "and 13 columns\n",
      "-- Column names:\n",
      " Index(['FID_1', 'PIN', 'SHAPE_Leng', 'SHAPE_Area', 'FID_2', 'OBJECTID',\n",
      "       'PIN_1', 'municipali', 'LANDUSE', 'LengthM', 'AreaM2', 'Distance',\n",
      "       'geometry'],\n",
      "      dtype='object')\n"
     ]
    },
    {
     "data": {
      "image/svg+xml": [
       "<svg xmlns=\"http://www.w3.org/2000/svg\" xmlns:xlink=\"http://www.w3.org/1999/xlink\" width=\"100.0\" height=\"100.0\" viewBox=\"1380362.9895703124 5511370.786384277 37.098435058724135 15.872055664658546\" preserveAspectRatio=\"xMinYMin meet\"><g transform=\"matrix(1,0,0,-1,0,11022757.444824219)\"><path fill-rule=\"evenodd\" fill=\"#66cc99\" stroke=\"#555555\" stroke-width=\"0.7419687011744827\" opacity=\"0.6\" d=\"M 1380364.8424072268,5511385.284423828 L 1380398.7139892578,5511381.011230469 L 1380398.2996215823,5511372.160400391 L 1380364.3635864258,5511375.098022461 L 1380364.7864379885,5511384.081604004 L 1380364.8424072268,5511385.284423828 z\" /></g></svg>"
      ],
      "text/plain": [
       "<shapely.geometry.polygon.Polygon at 0x7fe03c75af60>"
      ]
     },
     "execution_count": 4,
     "metadata": {},
     "output_type": "execute_result"
    }
   ],
   "source": [
    "t = time()\n",
    "lu_gta_gdf = gpd.read_file(gta_lu_path + 'GTAparcel16LU12.shp')\n",
    "elapsed = time() - t\n",
    "\n",
    "print(\"----- GeoDataFrame loaded\"\n",
    "      \"\\nin {0:.2f} seconds ({1:.2f} minutes)\".format(elapsed, elapsed / 60) + \n",
    "      \"\\nwith {0:,} rows\\nand {1:,} columns\"\n",
    "      .format(lu_gta_gdf.shape[0], lu_gta_gdf.shape[1]) + \n",
    "      \"\\n-- Column names:\\n\", lu_gta_gdf.columns)\n",
    "\n",
    "lu_gta_gdf.iloc[0].geometry"
   ]
  },
  {
   "cell_type": "code",
   "execution_count": null,
   "metadata": {},
   "outputs": [],
   "source": [
    "t = time()\n",
    "lu_gta_gdf = gpd.read_file(gta_lu_path + 'GTAparcel16LU12.shp')\n",
    "elapsed = time() - t\n",
    "\n",
    "print(\"----- GeoDataFrame loaded\"\n",
    "      \"\\nin {0:.2f} seconds ({1:.2f} minutes)\".format(elapsed, elapsed / 60) + \n",
    "      \"\\nwith {0:,} rows\\nand {1:,} columns\"\n",
    "      .format(lu_gta_gdf.shape[0], lu_gta_gdf.shape[1]) + \n",
    "      \"\\n-- Column names:\\n\", lu_gta_gdf.columns)\n",
    "\n",
    "lu_gta_gdf.iloc[0].geometry"
   ]
  },
  {
   "cell_type": "code",
   "execution_count": 22,
   "metadata": {},
   "outputs": [
    {
     "name": "stdout",
     "output_type": "stream",
     "text": [
      "----- GeoDataFrame loaded\n",
      "in 14.52 seconds (0.24 minutes)\n",
      "with 174,729 rows\n",
      "and 13 columns\n",
      "-- Column names:\n",
      " Index(['FID_1', 'PIN', 'SHAPE_Area', 'OBJECTID', 'FRONTAGE', 'DEPTH',\n",
      "       'PROP_CODE', 'SITE_AREA', 'PIN_1', 'ID', 'SHAPE_Leng', 'Shape_Ar_1',\n",
      "       'geometry'],\n",
      "      dtype='object')\n"
     ]
    },
    {
     "data": {
      "image/svg+xml": [
       "<svg xmlns=\"http://www.w3.org/2000/svg\" xmlns:xlink=\"http://www.w3.org/1999/xlink\" width=\"100.0\" height=\"100.0\" viewBox=\"1354310.092878418 5440160.977705078 22.65549072250724 51.44943603500724\" preserveAspectRatio=\"xMinYMin meet\"><g transform=\"matrix(1,0,0,-1,0,10880373.404846191)\"><path fill-rule=\"evenodd\" fill=\"#66cc99\" stroke=\"#555555\" stroke-width=\"1.0289887207001447\" opacity=\"0.6\" d=\"M 1354323.998413086,5440210.521606445 L 1354325.814819336,5440210.045593262 L 1354330.8428344727,5440208.727416992 L 1354318.84362793,5440162.883239746 L 1354311.998413086,5440164.6748046875 L 1354323.998413086,5440210.521606445 z\" /></g></svg>"
      ],
      "text/plain": [
       "<shapely.geometry.polygon.Polygon at 0x7fe03bab4438>"
      ]
     },
     "execution_count": 22,
     "metadata": {},
     "output_type": "execute_result"
    }
   ],
   "source": [
    "t = time()\n",
    "lu_ham_gdf = gpd.read_file(ham_lu_path + 'Hparcel16LU10.shp')\n",
    "elapsed = time() - t\n",
    "\n",
    "lu_ham_gdf = lu_ham_gdf.rename(columns={'Shape_Le_1': 'SHAPE_Leng'})\n",
    "\n",
    "print(\"----- GeoDataFrame loaded\"\n",
    "      \"\\nin {0:.2f} seconds ({1:.2f} minutes)\".format(elapsed, elapsed / 60) + \n",
    "      \"\\nwith {0:,} rows\\nand {1:,} columns\"\n",
    "      .format(lu_ham_gdf.shape[0], lu_ham_gdf.shape[1]) + \n",
    "      \"\\n-- Column names:\\n\", lu_ham_gdf.columns)\n",
    "\n",
    "# lu_gta_gdf.plot(); # plotting the whole GeoDataFrame can take a very long time\n",
    "lu_ham_gdf.iloc[0].geometry"
   ]
  },
  {
   "cell_type": "markdown",
   "metadata": {},
   "source": [
    "## Overlap of PINs between GTA and Hamilton parcels\n",
    "5 PINs seem to overlap between Hamilton and GTA parcel data. As representations in the GTA dataset have more meaningful attributes, records from the GTA dataset are kept for these 5 PINs."
   ]
  },
  {
   "cell_type": "markdown",
   "metadata": {},
   "source": [
    "### Overlap of PINs"
   ]
  },
  {
   "cell_type": "code",
   "execution_count": 6,
   "metadata": {},
   "outputs": [
    {
     "data": {
      "text/html": [
       "<div>\n",
       "<style scoped>\n",
       "    .dataframe tbody tr th:only-of-type {\n",
       "        vertical-align: middle;\n",
       "    }\n",
       "\n",
       "    .dataframe tbody tr th {\n",
       "        vertical-align: top;\n",
       "    }\n",
       "\n",
       "    .dataframe thead th {\n",
       "        text-align: right;\n",
       "    }\n",
       "</style>\n",
       "<table border=\"1\" class=\"dataframe\">\n",
       "  <thead>\n",
       "    <tr style=\"text-align: right;\">\n",
       "      <th></th>\n",
       "      <th>FID_1</th>\n",
       "      <th>PIN</th>\n",
       "      <th>SHAPE_Leng</th>\n",
       "      <th>SHAPE_Area</th>\n",
       "      <th>FID_2</th>\n",
       "      <th>OBJECTID</th>\n",
       "      <th>PIN_1</th>\n",
       "      <th>municipali</th>\n",
       "      <th>LANDUSE</th>\n",
       "      <th>LengthM</th>\n",
       "      <th>AreaM2</th>\n",
       "      <th>Distance</th>\n",
       "      <th>geometry</th>\n",
       "    </tr>\n",
       "  </thead>\n",
       "  <tbody>\n",
       "    <tr>\n",
       "      <th>1128722</th>\n",
       "      <td>1128494</td>\n",
       "      <td>070930070</td>\n",
       "      <td>138.191399</td>\n",
       "      <td>426.820430</td>\n",
       "      <td>654673</td>\n",
       "      <td>654674</td>\n",
       "      <td>070930070</td>\n",
       "      <td>BURLINGTON/E FLAM TWP</td>\n",
       "      <td>99</td>\n",
       "      <td>138.191438</td>\n",
       "      <td>426.820531</td>\n",
       "      <td>0.0</td>\n",
       "      <td>POLYGON ((1338112.754821777 5449281.164001465,...</td>\n",
       "    </tr>\n",
       "    <tr>\n",
       "      <th>1128720</th>\n",
       "      <td>1128491</td>\n",
       "      <td>070930081</td>\n",
       "      <td>128.127024</td>\n",
       "      <td>749.493468</td>\n",
       "      <td>634153</td>\n",
       "      <td>634154</td>\n",
       "      <td>070930081</td>\n",
       "      <td>None</td>\n",
       "      <td>1</td>\n",
       "      <td>128.127049</td>\n",
       "      <td>749.495349</td>\n",
       "      <td>0.0</td>\n",
       "      <td>POLYGON ((1338423.250793457 5449556.442382812,...</td>\n",
       "    </tr>\n",
       "    <tr>\n",
       "      <th>1128721</th>\n",
       "      <td>1128492</td>\n",
       "      <td>071160056</td>\n",
       "      <td>242.240206</td>\n",
       "      <td>865.353065</td>\n",
       "      <td>646365</td>\n",
       "      <td>646366</td>\n",
       "      <td>071160056</td>\n",
       "      <td>BURLINGTON</td>\n",
       "      <td>99</td>\n",
       "      <td>242.240206</td>\n",
       "      <td>865.355662</td>\n",
       "      <td>0.0</td>\n",
       "      <td>POLYGON ((1337357.395996094 5448840.98840332, ...</td>\n",
       "    </tr>\n",
       "    <tr>\n",
       "      <th>1128724</th>\n",
       "      <td>1128495</td>\n",
       "      <td>071930041</td>\n",
       "      <td>998.378425</td>\n",
       "      <td>5401.586550</td>\n",
       "      <td>669853</td>\n",
       "      <td>669854</td>\n",
       "      <td>071930041</td>\n",
       "      <td>BURLINGTON</td>\n",
       "      <td>28</td>\n",
       "      <td>998.219747</td>\n",
       "      <td>5375.520422</td>\n",
       "      <td>0.0</td>\n",
       "      <td>POLYGON ((1334283.849182129 5451861.067993164,...</td>\n",
       "    </tr>\n",
       "    <tr>\n",
       "      <th>1128723</th>\n",
       "      <td>1128493</td>\n",
       "      <td>071940013</td>\n",
       "      <td>337.248937</td>\n",
       "      <td>6177.316376</td>\n",
       "      <td>659970</td>\n",
       "      <td>659971</td>\n",
       "      <td>071940013</td>\n",
       "      <td>BURLINGTON/E FLAM TWP</td>\n",
       "      <td>1</td>\n",
       "      <td>337.249027</td>\n",
       "      <td>6177.321385</td>\n",
       "      <td>0.0</td>\n",
       "      <td>POLYGON ((1334936.773193359 5451894.122436523,...</td>\n",
       "    </tr>\n",
       "  </tbody>\n",
       "</table>\n",
       "</div>"
      ],
      "text/plain": [
       "           FID_1        PIN  SHAPE_Leng   SHAPE_Area   FID_2  OBJECTID  \\\n",
       "1128722  1128494  070930070  138.191399   426.820430  654673    654674   \n",
       "1128720  1128491  070930081  128.127024   749.493468  634153    634154   \n",
       "1128721  1128492  071160056  242.240206   865.353065  646365    646366   \n",
       "1128724  1128495  071930041  998.378425  5401.586550  669853    669854   \n",
       "1128723  1128493  071940013  337.248937  6177.316376  659970    659971   \n",
       "\n",
       "             PIN_1             municipali  LANDUSE     LengthM       AreaM2  \\\n",
       "1128722  070930070  BURLINGTON/E FLAM TWP       99  138.191438   426.820531   \n",
       "1128720  070930081                   None        1  128.127049   749.495349   \n",
       "1128721  071160056             BURLINGTON       99  242.240206   865.355662   \n",
       "1128724  071930041             BURLINGTON       28  998.219747  5375.520422   \n",
       "1128723  071940013  BURLINGTON/E FLAM TWP        1  337.249027  6177.321385   \n",
       "\n",
       "         Distance                                           geometry  \n",
       "1128722       0.0  POLYGON ((1338112.754821777 5449281.164001465,...  \n",
       "1128720       0.0  POLYGON ((1338423.250793457 5449556.442382812,...  \n",
       "1128721       0.0  POLYGON ((1337357.395996094 5448840.98840332, ...  \n",
       "1128724       0.0  POLYGON ((1334283.849182129 5451861.067993164,...  \n",
       "1128723       0.0  POLYGON ((1334936.773193359 5451894.122436523,...  "
      ]
     },
     "execution_count": 6,
     "metadata": {},
     "output_type": "execute_result"
    }
   ],
   "source": [
    "mask1 = lu_gta_gdf['PIN'].isin(lu_ham_gdf['PIN'])\n",
    "lu_gta_gdf[mask1].sort_values('PIN')"
   ]
  },
  {
   "cell_type": "code",
   "execution_count": 7,
   "metadata": {},
   "outputs": [
    {
     "data": {
      "text/html": [
       "<div>\n",
       "<style scoped>\n",
       "    .dataframe tbody tr th:only-of-type {\n",
       "        vertical-align: middle;\n",
       "    }\n",
       "\n",
       "    .dataframe tbody tr th {\n",
       "        vertical-align: top;\n",
       "    }\n",
       "\n",
       "    .dataframe thead th {\n",
       "        text-align: right;\n",
       "    }\n",
       "</style>\n",
       "<table border=\"1\" class=\"dataframe\">\n",
       "  <thead>\n",
       "    <tr style=\"text-align: right;\">\n",
       "      <th></th>\n",
       "      <th>FID_1</th>\n",
       "      <th>PIN</th>\n",
       "      <th>SHAPE_Area</th>\n",
       "      <th>OBJECTID</th>\n",
       "      <th>FRONTAGE</th>\n",
       "      <th>DEPTH</th>\n",
       "      <th>PROP_CODE</th>\n",
       "      <th>SITE_AREA</th>\n",
       "      <th>PIN_1</th>\n",
       "      <th>ID</th>\n",
       "      <th>SHAPE_Leng</th>\n",
       "      <th>Shape_Ar_1</th>\n",
       "      <th>geometry</th>\n",
       "    </tr>\n",
       "  </thead>\n",
       "  <tbody>\n",
       "    <tr>\n",
       "      <th>6031</th>\n",
       "      <td>79</td>\n",
       "      <td>070930070</td>\n",
       "      <td>426.820430</td>\n",
       "      <td>0</td>\n",
       "      <td>0.0</td>\n",
       "      <td>0.0</td>\n",
       "      <td>0.0</td>\n",
       "      <td>0.0</td>\n",
       "      <td>0.0</td>\n",
       "      <td>0.0</td>\n",
       "      <td>0.000000</td>\n",
       "      <td>0.000000</td>\n",
       "      <td>POLYGON ((1338112.754821777 5449281.164001465,...</td>\n",
       "    </tr>\n",
       "    <tr>\n",
       "      <th>6029</th>\n",
       "      <td>76</td>\n",
       "      <td>070930081</td>\n",
       "      <td>749.493468</td>\n",
       "      <td>0</td>\n",
       "      <td>0.0</td>\n",
       "      <td>0.0</td>\n",
       "      <td>0.0</td>\n",
       "      <td>0.0</td>\n",
       "      <td>0.0</td>\n",
       "      <td>0.0</td>\n",
       "      <td>0.000000</td>\n",
       "      <td>0.000000</td>\n",
       "      <td>POLYGON ((1338423.250793457 5449556.442382812,...</td>\n",
       "    </tr>\n",
       "    <tr>\n",
       "      <th>6030</th>\n",
       "      <td>77</td>\n",
       "      <td>071160056</td>\n",
       "      <td>865.353065</td>\n",
       "      <td>0</td>\n",
       "      <td>0.0</td>\n",
       "      <td>0.0</td>\n",
       "      <td>0.0</td>\n",
       "      <td>0.0</td>\n",
       "      <td>0.0</td>\n",
       "      <td>0.0</td>\n",
       "      <td>0.000000</td>\n",
       "      <td>0.000000</td>\n",
       "      <td>POLYGON ((1337357.395996094 5448840.98840332, ...</td>\n",
       "    </tr>\n",
       "    <tr>\n",
       "      <th>148187</th>\n",
       "      <td>148175</td>\n",
       "      <td>071930041</td>\n",
       "      <td>5401.586550</td>\n",
       "      <td>288883</td>\n",
       "      <td>0.0</td>\n",
       "      <td>0.0</td>\n",
       "      <td>0.0</td>\n",
       "      <td>0.0</td>\n",
       "      <td>71930041.0</td>\n",
       "      <td>3652.0</td>\n",
       "      <td>998.378500</td>\n",
       "      <td>5401.589054</td>\n",
       "      <td>POLYGON ((1334283.849182129 5451861.067993164,...</td>\n",
       "    </tr>\n",
       "    <tr>\n",
       "      <th>507</th>\n",
       "      <td>78</td>\n",
       "      <td>071940013</td>\n",
       "      <td>6177.316376</td>\n",
       "      <td>288853</td>\n",
       "      <td>0.0</td>\n",
       "      <td>0.0</td>\n",
       "      <td>0.0</td>\n",
       "      <td>0.0</td>\n",
       "      <td>71940013.0</td>\n",
       "      <td>3662.0</td>\n",
       "      <td>337.248951</td>\n",
       "      <td>6177.317169</td>\n",
       "      <td>POLYGON ((1334936.773193359 5451894.122436523,...</td>\n",
       "    </tr>\n",
       "  </tbody>\n",
       "</table>\n",
       "</div>"
      ],
      "text/plain": [
       "         FID_1        PIN   SHAPE_Area  OBJECTID  FRONTAGE  DEPTH  PROP_CODE  \\\n",
       "6031        79  070930070   426.820430         0       0.0    0.0        0.0   \n",
       "6029        76  070930081   749.493468         0       0.0    0.0        0.0   \n",
       "6030        77  071160056   865.353065         0       0.0    0.0        0.0   \n",
       "148187  148175  071930041  5401.586550    288883       0.0    0.0        0.0   \n",
       "507         78  071940013  6177.316376    288853       0.0    0.0        0.0   \n",
       "\n",
       "        SITE_AREA       PIN_1      ID  SHAPE_Leng   Shape_Ar_1  \\\n",
       "6031          0.0         0.0     0.0    0.000000     0.000000   \n",
       "6029          0.0         0.0     0.0    0.000000     0.000000   \n",
       "6030          0.0         0.0     0.0    0.000000     0.000000   \n",
       "148187        0.0  71930041.0  3652.0  998.378500  5401.589054   \n",
       "507           0.0  71940013.0  3662.0  337.248951  6177.317169   \n",
       "\n",
       "                                                 geometry  \n",
       "6031    POLYGON ((1338112.754821777 5449281.164001465,...  \n",
       "6029    POLYGON ((1338423.250793457 5449556.442382812,...  \n",
       "6030    POLYGON ((1337357.395996094 5448840.98840332, ...  \n",
       "148187  POLYGON ((1334283.849182129 5451861.067993164,...  \n",
       "507     POLYGON ((1334936.773193359 5451894.122436523,...  "
      ]
     },
     "execution_count": 7,
     "metadata": {},
     "output_type": "execute_result"
    }
   ],
   "source": [
    "mask1 = lu_ham_gdf['PIN'].isin(lu_gta_gdf['PIN'])\n",
    "lu_ham_gdf[mask1].sort_values('PIN')"
   ]
  },
  {
   "cell_type": "markdown",
   "metadata": {},
   "source": [
    "### Remove these PINs from Hamilton dataset"
   ]
  },
  {
   "cell_type": "code",
   "execution_count": 8,
   "metadata": {},
   "outputs": [
    {
     "name": "stdout",
     "output_type": "stream",
     "text": [
      "5 rows have been removed. 174,724 records remaining.\n"
     ]
    }
   ],
   "source": [
    "mask1 = lu_ham_gdf['PIN'].isin(lu_gta_gdf['PIN'])\n",
    "old_len = len(lu_ham_gdf)\n",
    "lu_ham_gdf = lu_ham_gdf[~mask1]\n",
    "print(\"{0:,} rows have been removed. {1:,} records remaining.\".format(old_len - len(lu_ham_gdf), len(lu_ham_gdf)))"
   ]
  },
  {
   "cell_type": "markdown",
   "metadata": {},
   "source": [
    "## Drop column `Shape_Ar_1` from Hamilton GeoDataFrame\n",
    "Column `Shape_Ar_1` in Hamilton GeoDataFrame has values that are close to values found in column `SHAPE_Area`, so `Shape_Ar_1` is removed to avoid redundancy."
   ]
  },
  {
   "cell_type": "code",
   "execution_count": 9,
   "metadata": {},
   "outputs": [
    {
     "name": "stdout",
     "output_type": "stream",
     "text": [
      "Column dropped.\n"
     ]
    },
    {
     "data": {
      "text/plain": [
       "Index(['FID_1', 'PIN', 'SHAPE_Area', 'OBJECTID', 'FRONTAGE', 'DEPTH',\n",
       "       'PROP_CODE', 'SITE_AREA', 'PIN_1', 'ID', 'SHAPE_Leng', 'geometry'],\n",
       "      dtype='object')"
      ]
     },
     "execution_count": 9,
     "metadata": {},
     "output_type": "execute_result"
    }
   ],
   "source": [
    "lu_ham_gdf = lu_ham_gdf.drop('Shape_Ar_1', axis=1)\n",
    "print(\"Column dropped.\")\n",
    "lu_ham_gdf.columns"
   ]
  },
  {
   "cell_type": "markdown",
   "metadata": {},
   "source": [
    "## Concatenate GTA and Hamilton GeoDataFrames"
   ]
  },
  {
   "cell_type": "markdown",
   "metadata": {},
   "source": [
    "#### Validate CRS"
   ]
  },
  {
   "cell_type": "code",
   "execution_count": 10,
   "metadata": {},
   "outputs": [
    {
     "data": {
      "text/plain": [
       "{'init': 'epsg:5320'}"
      ]
     },
     "execution_count": 10,
     "metadata": {},
     "output_type": "execute_result"
    }
   ],
   "source": [
    "lu_gta_gdf.crs"
   ]
  },
  {
   "cell_type": "code",
   "execution_count": 11,
   "metadata": {},
   "outputs": [
    {
     "data": {
      "text/plain": [
       "{'init': 'epsg:5320'}"
      ]
     },
     "execution_count": 11,
     "metadata": {},
     "output_type": "execute_result"
    }
   ],
   "source": [
    "lu_ham_gdf.crs"
   ]
  },
  {
   "cell_type": "markdown",
   "metadata": {},
   "source": [
    "#### Create a new GeoDataFrame from concatenated GTA and Hamilton GeoDataFrames"
   ]
  },
  {
   "cell_type": "code",
   "execution_count": 12,
   "metadata": {},
   "outputs": [
    {
     "name": "stderr",
     "output_type": "stream",
     "text": [
      "/home/stepan/anaconda3/envs/gds/lib/python3.6/site-packages/ipykernel_launcher.py:1: FutureWarning: Sorting because non-concatenation axis is not aligned. A future version\n",
      "of pandas will change to not sort by default.\n",
      "\n",
      "To accept the future behavior, pass 'sort=False'.\n",
      "\n",
      "To retain the current behavior and silence the warning, pass 'sort=True'.\n",
      "\n",
      "  \"\"\"Entry point for launching an IPython kernel.\n"
     ]
    },
    {
     "name": "stdout",
     "output_type": "stream",
     "text": [
      "DataFrames concatenated!\n",
      "--- 1,490,138 + 174,724 = 1,664,862 rows\n",
      "--- 13 + 12 = 18 columns (only not overlapping columns are added)\n",
      "\n",
      "\n",
      "----- GeoDataFrame created\n",
      "with 1,664,862 rows\n",
      "and 18 columns\n",
      "\n",
      "-- Column names:\n",
      " Index(['AreaM2', 'DEPTH', 'Distance', 'FID_1', 'FID_2', 'FRONTAGE', 'ID',\n",
      "       'LANDUSE', 'LengthM', 'OBJECTID', 'PIN', 'PIN_1', 'PROP_CODE',\n",
      "       'SHAPE_Area', 'SHAPE_Leng', 'SITE_AREA', 'geometry', 'municipali'],\n",
      "      dtype='object') \n",
      "\n",
      " --- CRS: {'init': 'epsg:5320'}\n"
     ]
    }
   ],
   "source": [
    "lu_df = pd.concat([lu_gta_gdf, lu_ham_gdf])\n",
    "print(\"DataFrames concatenated!\\n--- {0:,} + {1:,} = {2:,} rows\"\n",
    "      .format(len(lu_gta_gdf), len(lu_ham_gdf), len(lu_df)) + \n",
    "      \"\\n--- {0:,} + {1:,} = {2:,} columns (only not overlapping columns are added)\"\n",
    "      .format(len(lu_gta_gdf.columns), len(lu_ham_gdf.columns), len(lu_df.columns)))\n",
    "\n",
    "lu_gdf = gpd.GeoDataFrame(lu_df, geometry=lu_df['geometry'])\n",
    "lu_gdf.crs = lu_gta_gdf.crs\n",
    "print(\"\\n\\n----- GeoDataFrame created\"\n",
    "      \"\\nwith {0:,} rows\\nand {1:,} columns\"\n",
    "      .format(lu_gdf.shape[0], lu_gdf.shape[1]) + \n",
    "      \"\\n\\n-- Column names:\\n\", lu_gdf.columns, \n",
    "      \"\\n\\n --- CRS:\", lu_gdf.crs)"
   ]
  },
  {
   "cell_type": "markdown",
   "metadata": {},
   "source": [
    "#### Validate that projections match with original GeoDataFrame\n",
    "The two plots completely overlap."
   ]
  },
  {
   "cell_type": "code",
   "execution_count": 13,
   "metadata": {},
   "outputs": [
    {
     "data": {
      "image/png": "[encoded data removed]",
      "text/plain": [
       "<Figure size 432x288 with 1 Axes>"
      ]
     },
     "metadata": {
      "needs_background": "light"
     },
     "output_type": "display_data"
    }
   ],
   "source": [
    "%matplotlib inline\n",
    "pin = '070930070'\n",
    "mask1 = lu_gdf['PIN'] == pin\n",
    "ax = lu_gdf.loc[mask1, 'geometry'].plot()\n",
    "mask2 = lu_gta_gdf['PIN'] == pin\n",
    "lu_gta_gdf.loc[mask2, 'geometry'].plot(ax=ax, color='red', alpha=0.3);"
   ]
  },
  {
   "cell_type": "markdown",
   "metadata": {},
   "source": [
    "#### Change CRS to EPSG:4326"
   ]
  },
  {
   "cell_type": "code",
   "execution_count": 14,
   "metadata": {},
   "outputs": [
    {
     "name": "stdout",
     "output_type": "stream",
     "text": [
      "New CRS:\n",
      " {'init': 'epsg:4326', 'no_defs': True} \n",
      "\n",
      "took 244.66 seconds (4.08 minutes)\n"
     ]
    }
   ],
   "source": [
    "t = time()\n",
    "lu_gdf = lu_gdf.to_crs(epsg=4326)\n",
    "elapsed = time() - t\n",
    "print(\"New CRS:\\n\", lu_gdf.crs, \"\\n\\ntook {0:,.2f} seconds ({1:,.2f} minutes)\".format(elapsed, elapsed / 60))"
   ]
  },
  {
   "cell_type": "markdown",
   "metadata": {
    "pycharm": {
     "name": "#%% md\n"
    }
   },
   "source": [
    "## Save results to a .csv file"
   ]
  },
  {
   "cell_type": "code",
   "execution_count": 15,
   "metadata": {},
   "outputs": [
    {
     "data": {
      "text/plain": [
       "['lu_info_gta.csv', 'GTA', 'lu_info_ham.csv', 'Halmilton', 'lu_gtha_shapefile']"
      ]
     },
     "execution_count": 15,
     "metadata": {},
     "output_type": "execute_result"
    }
   ],
   "source": [
    "save_path = data_path + 'teranet/ParcelLandUse/'\n",
    "os.listdir(save_path)"
   ]
  },
  {
   "cell_type": "code",
   "execution_count": 16,
   "metadata": {
    "pycharm": {
     "name": "#%%\n"
    }
   },
   "outputs": [
    {
     "name": "stdout",
     "output_type": "stream",
     "text": [
      "DataFrame saved to file:\n",
      " ../../data/teranet/ParcelLandUse/ \n",
      "took 32.70 seconds (0.54 minutes)\n"
     ]
    }
   ],
   "source": [
    "t = time()\n",
    "lu_gdf.drop('geometry', axis=1).to_csv(save_path + 'lu_gtha.csv', index=False)\n",
    "elapsed = time() - t\n",
    "print(\"DataFrame saved to file:\\n\", save_path,\n",
    "      \"\\ntook {0:.2f} seconds ({1:,.2f} minutes)\".format(elapsed, elapsed / 60))"
   ]
  },
  {
   "cell_type": "markdown",
   "metadata": {
    "pycharm": {
     "name": "#%% md\n"
    }
   },
   "source": [
    "## Save results to a new shapefile"
   ]
  },
  {
   "cell_type": "code",
   "execution_count": 18,
   "metadata": {
    "pycharm": {
     "name": "#%%\n"
    },
    "scrolled": true
   },
   "outputs": [
    {
     "name": "stdout",
     "output_type": "stream",
     "text": [
      "DataFrame saved to file:\n",
      " ../../data/teranet/ParcelLandUse/ \n",
      "took 1656.13 seconds (27.60 minutes)\n"
     ]
    }
   ],
   "source": [
    "t = time()\n",
    "lu_gdf.to_file(save_path + '/lu_gtha_shapefile/lu_gtha.shp', index=False)\n",
    "elapsed = time() - t\n",
    "print(\"DataFrame saved to file:\\n\", save_path,\n",
    "      \"\\ntook {0:.2f} seconds ({1:,.2f} minutes)\".format(elapsed, elapsed / 60))"
   ]
  }
 ],
 "metadata": {
  "kernelspec": {
   "display_name": "Python 3",
   "language": "python",
   "name": "python3"
  },
  "language_info": {
   "codemirror_mode": {
    "name": "ipython",
    "version": 3
   },
   "file_extension": ".py",
   "mimetype": "text/x-python",
   "name": "python",
   "nbconvert_exporter": "python",
   "pygments_lexer": "ipython3",
   "version": "3.6.9"
  },
  "pycharm": {
   "stem_cell": {
    "cell_type": "raw",
    "metadata": {
     "collapsed": false
    },
    "source": []
   }
  }
 },
 "nbformat": 4,
 "nbformat_minor": 1
}
