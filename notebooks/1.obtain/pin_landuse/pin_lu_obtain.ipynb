{
 "cells": [
  {
   "cell_type": "markdown",
   "metadata": {},
   "source": [
    "# GTHA housing market database\n",
    "# OSEMN methodology Step 1: Obtain\n",
    "# Obtain dataset of parcels\n",
    "\n",
    "---\n",
    "\n",
    "This notebook describes _Step 1: Obtain_ of OSEMN methodology, the process of obtaining the dataset of parcels, based on the Land Use datasets.\n",
    "\n",
    "---\n",
    "\n",
    "For description of OSEMN methodology, see `methodology/0.osemn/osemn.pdf`.\n",
    "# GTHA housing market database\n",
    "# OSEMN methodology Step 1: Obtain\n",
    "# Obtain dataset of parcels\n",
    "\n",
    "---\n",
    "\n",
    "## Import dependencies"
   ]
  },
  {
   "cell_type": "code",
   "execution_count": 18,
   "metadata": {
    "pycharm": {
     "name": "#%%\n"
    }
   },
   "outputs": [],
   "source": [
    "import pandas as pd\n",
    "import geopandas as gpd\n",
    "import os\n",
    "from shapely.geometry import Point\n",
    "from time import time"
   ]
  },
  {
   "cell_type": "code",
   "execution_count": 3,
   "metadata": {},
   "outputs": [
    {
     "data": {
      "text/plain": [
       "['GTA_land_use_code.txt',\n",
       " 'GTAparcel16LU12.shx',\n",
       " 'with_epoi',\n",
       " 'GTAparcel16LU12.prj',\n",
       " 'GTAparcel16LU12.cpg',\n",
       " 'GTAparcel16LU12.shp',\n",
       " 'GTAparcel16LU12.dbf']"
      ]
     },
     "execution_count": 3,
     "metadata": {},
     "output_type": "execute_result"
    }
   ],
   "source": [
    "data_path = '../../data/'\n",
    "gta_lu_path = data_path + 'teranet/ParcelLandUse/GTA/'\n",
    "os.listdir(gta_lu_path)"
   ]
  },
  {
   "cell_type": "code",
   "execution_count": 4,
   "metadata": {},
   "outputs": [
    {
     "data": {
      "text/plain": [
       "['Hparcel16LU10.prj',\n",
       " 'Halmilton_Land_Use_Codes_2009_Original.pdf',\n",
       " 'with_epoi',\n",
       " 'HalLanduse_converted.csv',\n",
       " 'Hparcel16LU10.cpg',\n",
       " 'Hparcel16LU10.shp',\n",
       " 'Hparcel16LU10.dbf',\n",
       " 'Hparcel16LU10.shx']"
      ]
     },
     "execution_count": 4,
     "metadata": {},
     "output_type": "execute_result"
    }
   ],
   "source": [
    "ham_lu_path = data_path + 'teranet/ParcelLandUse/Halmilton/'\n",
    "os.listdir(ham_lu_path)"
   ]
  },
  {
   "cell_type": "markdown",
   "metadata": {},
   "source": [
    "## Load geometry of land use"
   ]
  },
  {
   "cell_type": "code",
   "execution_count": 5,
   "metadata": {},
   "outputs": [
    {
     "name": "stdout",
     "output_type": "stream",
     "text": [
      "----- GeoDataFrame loaded\n",
      "in 121.77 seconds (2.03 minutes)\n",
      "with 1,490,138 rows\n",
      "and 13 columns\n",
      "-- Column names:\n",
      " Index(['FID_1', 'PIN', 'SHAPE_Leng', 'SHAPE_Area', 'FID_2', 'OBJECTID',\n",
      "       'PIN_1', 'municipali', 'LANDUSE', 'LengthM', 'AreaM2', 'Distance',\n",
      "       'geometry'],\n",
      "      dtype='object')\n",
      "Taking the subset with columns\n",
      ": ['PIN', 'LANDUSE', 'geometry']\n",
      "\n",
      "-- New column names:\n",
      " Index(['PIN', 'LANDUSE', 'geometry'], dtype='object')\n"
     ]
    },
    {
     "data": {
      "image/svg+xml": [
       "<svg xmlns=\"http://www.w3.org/2000/svg\" xmlns:xlink=\"http://www.w3.org/1999/xlink\" width=\"100.0\" height=\"100.0\" viewBox=\"1380362.9895703124 5511370.786384277 37.098435058724135 15.872055664658546\" preserveAspectRatio=\"xMinYMin meet\"><g transform=\"matrix(1,0,0,-1,0,11022757.444824219)\"><path fill-rule=\"evenodd\" fill=\"#66cc99\" stroke=\"#555555\" stroke-width=\"0.7419687011744827\" opacity=\"0.6\" d=\"M 1380364.8424072268,5511385.284423828 L 1380398.7139892578,5511381.011230469 L 1380398.2996215823,5511372.160400391 L 1380364.3635864258,5511375.098022461 L 1380364.7864379885,5511384.081604004 L 1380364.8424072268,5511385.284423828 z\" /></g></svg>"
      ],
      "text/plain": [
       "<shapely.geometry.polygon.Polygon at 0x7f5b3d355978>"
      ]
     },
     "execution_count": 5,
     "metadata": {},
     "output_type": "execute_result"
    }
   ],
   "source": [
    "t = time()\n",
    "lu_gta_gdf = gpd.read_file(gta_lu_path + 'GTAparcel16LU12.shp')\n",
    "elapsed = time() - t\n",
    "\n",
    "print(\"----- GeoDataFrame loaded\"\n",
    "      \"\\nin {0:.2f} seconds ({1:.2f} minutes)\".format(elapsed, elapsed / 60) + \n",
    "      \"\\nwith {0:,} rows\\nand {1:,} columns\"\n",
    "      .format(lu_gta_gdf.shape[0], lu_gta_gdf.shape[1]) + \n",
    "      \"\\n-- Column names:\\n\", lu_gta_gdf.columns)\n",
    "\n",
    "cols = ['PIN', 'LANDUSE', 'geometry']\n",
    "\n",
    "print(\"Taking the subset with columns\\n:\", cols)\n",
    "\n",
    "lu_gta_gdf = lu_gta_gdf[cols]\n",
    "\n",
    "print(\"\\n-- New column names:\\n\", lu_gta_gdf.columns)\n",
    "\n",
    "# lu_gta_gdf.plot(); # plotting the whole GeoDataFrame can take a very long time\n",
    "lu_gta_gdf.iloc[0].geometry"
   ]
  },
  {
   "cell_type": "code",
   "execution_count": 6,
   "metadata": {},
   "outputs": [
    {
     "name": "stdout",
     "output_type": "stream",
     "text": [
      "----- GeoDataFrame loaded\n",
      "in 14.51 seconds (0.24 minutes)\n",
      "with 174,729 rows\n",
      "and 13 columns\n",
      "-- Column names:\n",
      " Index(['FID_1', 'PIN', 'SHAPE_Area', 'OBJECTID', 'FRONTAGE', 'DEPTH',\n",
      "       'PROP_CODE', 'SITE_AREA', 'PIN_1', 'ID', 'Shape_Le_1', 'Shape_Ar_1',\n",
      "       'geometry'],\n",
      "      dtype='object')\n",
      "Taking the subset with columns\n",
      ": ['PIN', 'PROP_CODE', 'geometry']\n",
      "\n",
      "-- New column names:\n",
      " Index(['PIN', 'PROP_CODE', 'geometry'], dtype='object')\n"
     ]
    },
    {
     "data": {
      "image/svg+xml": [
       "<svg xmlns=\"http://www.w3.org/2000/svg\" xmlns:xlink=\"http://www.w3.org/1999/xlink\" width=\"100.0\" height=\"100.0\" viewBox=\"1354310.092878418 5440160.977705078 22.65549072250724 51.44943603500724\" preserveAspectRatio=\"xMinYMin meet\"><g transform=\"matrix(1,0,0,-1,0,10880373.404846191)\"><path fill-rule=\"evenodd\" fill=\"#66cc99\" stroke=\"#555555\" stroke-width=\"1.0289887207001447\" opacity=\"0.6\" d=\"M 1354323.998413086,5440210.521606445 L 1354325.814819336,5440210.045593262 L 1354330.8428344727,5440208.727416992 L 1354318.84362793,5440162.883239746 L 1354311.998413086,5440164.6748046875 L 1354323.998413086,5440210.521606445 z\" /></g></svg>"
      ],
      "text/plain": [
       "<shapely.geometry.polygon.Polygon at 0x7f5b3d359da0>"
      ]
     },
     "execution_count": 6,
     "metadata": {},
     "output_type": "execute_result"
    }
   ],
   "source": [
    "t = time()\n",
    "lu_ham_gdf = gpd.read_file(ham_lu_path + 'Hparcel16LU10.shp')\n",
    "elapsed = time() - t\n",
    "\n",
    "print(\"----- GeoDataFrame loaded\"\n",
    "      \"\\nin {0:.2f} seconds ({1:.2f} minutes)\".format(elapsed, elapsed / 60) + \n",
    "      \"\\nwith {0:,} rows\\nand {1:,} columns\"\n",
    "      .format(lu_ham_gdf.shape[0], lu_ham_gdf.shape[1]) + \n",
    "      \"\\n-- Column names:\\n\", lu_ham_gdf.columns)\n",
    "\n",
    "cols = ['PIN', 'PROP_CODE', 'geometry']\n",
    "\n",
    "print(\"Taking the subset with columns\\n:\", cols)\n",
    "\n",
    "lu_ham_gdf = lu_ham_gdf[cols]\n",
    "\n",
    "print(\"\\n-- New column names:\\n\", lu_ham_gdf.columns)\n",
    "\n",
    "# lu_gta_gdf.plot(); # plotting the whole GeoDataFrame can take a very long time\n",
    "lu_ham_gdf.iloc[0].geometry"
   ]
  },
  {
   "cell_type": "markdown",
   "metadata": {},
   "source": [
    "## Save parcel centroids geometry as column 'pin_ctr'"
   ]
  },
  {
   "cell_type": "code",
   "execution_count": 23,
   "metadata": {},
   "outputs": [
    {
     "name": "stdout",
     "output_type": "stream",
     "text": [
      "Parcel cetroids were saved to column 'pin_ctr_xy'.\n"
     ]
    }
   ],
   "source": [
    "lu_gta_gdf['pin_ctr_xy'] = lu_gta_gdf['geometry'].centroid.x.astype('str') + \\\n",
    "    '_' + lu_gta_gdf['geometry'].centroid.y.astype('str')\n",
    "lu_ham_gdf['pin_ctr_xy'] = lu_ham_gdf['geometry'].centroid.x.astype('str') + \\\n",
    "    '_' + lu_ham_gdf['geometry'].centroid.y.astype('str')\n",
    "print(\"Parcel cetroids were saved to column 'pin_ctr_xy'.\")"
   ]
  },
  {
   "cell_type": "code",
   "execution_count": 24,
   "metadata": {},
   "outputs": [
    {
     "data": {
      "text/plain": [
       "1490138"
      ]
     },
     "execution_count": 24,
     "metadata": {},
     "output_type": "execute_result"
    }
   ],
   "source": [
    "len(lu_gta_gdf)"
   ]
  },
  {
   "cell_type": "code",
   "execution_count": 25,
   "metadata": {},
   "outputs": [
    {
     "data": {
      "text/plain": [
       "1490138"
      ]
     },
     "execution_count": 25,
     "metadata": {},
     "output_type": "execute_result"
    }
   ],
   "source": [
    "lu_gta_gdf['PIN'].nunique()"
   ]
  },
  {
   "cell_type": "code",
   "execution_count": 26,
   "metadata": {},
   "outputs": [
    {
     "data": {
      "text/plain": [
       "1490138"
      ]
     },
     "execution_count": 26,
     "metadata": {},
     "output_type": "execute_result"
    }
   ],
   "source": [
    "lu_gta_gdf['pin_ctr_xy'].nunique()"
   ]
  },
  {
   "cell_type": "code",
   "execution_count": 27,
   "metadata": {},
   "outputs": [
    {
     "data": {
      "text/plain": [
       "174729"
      ]
     },
     "execution_count": 27,
     "metadata": {},
     "output_type": "execute_result"
    }
   ],
   "source": [
    "len(lu_ham_gdf)"
   ]
  },
  {
   "cell_type": "code",
   "execution_count": 28,
   "metadata": {},
   "outputs": [
    {
     "data": {
      "text/plain": [
       "174729"
      ]
     },
     "execution_count": 28,
     "metadata": {},
     "output_type": "execute_result"
    }
   ],
   "source": [
    "lu_ham_gdf['PIN'].nunique()"
   ]
  },
  {
   "cell_type": "code",
   "execution_count": 29,
   "metadata": {},
   "outputs": [
    {
     "data": {
      "text/plain": [
       "174729"
      ]
     },
     "execution_count": 29,
     "metadata": {},
     "output_type": "execute_result"
    }
   ],
   "source": [
    "lu_ham_gdf['pin_ctr_xy'].nunique()"
   ]
  },
  {
   "cell_type": "markdown",
   "metadata": {},
   "source": [
    "# All records have unique PINs and coordinates\n",
    "# No modification is needed\n",
    "Land use dataset is left unmodified, every PIN corresponds to a unique coordinate pair and can be used as a **_primary key_**."
   ]
  }
 ],
 "metadata": {
  "kernelspec": {
   "display_name": "Python 3",
   "language": "python",
   "name": "python3"
  },
  "language_info": {
   "codemirror_mode": {
    "name": "ipython",
    "version": 3
   },
   "file_extension": ".py",
   "mimetype": "text/x-python",
   "name": "python",
   "nbconvert_exporter": "python",
   "pygments_lexer": "ipython3",
   "version": "3.6.9"
  },
  "pycharm": {
   "stem_cell": {
    "cell_type": "raw",
    "metadata": {
     "collapsed": false
    },
    "source": []
   }
  }
 },
 "nbformat": 4,
 "nbformat_minor": 1
}
