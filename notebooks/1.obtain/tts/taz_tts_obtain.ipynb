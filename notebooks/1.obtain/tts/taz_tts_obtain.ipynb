{
 "cells": [
  {
   "cell_type": "markdown",
   "metadata": {},
   "source": [
    "# GTHA housing market database\n",
    "# OSEMN methodology Step 1: Obtain\n",
    "# Obtain Select TAZ-level TTS Variables\n",
    "\n",
    "---\n",
    "\n",
    "This notebook describes _Step 1: Obtain_ of OSEMN methodology, the process of obtaininng select TAZ-level TTS variables.\n",
    "\n",
    "---\n",
    "\n",
    "For description of OSEMN methodology, see `methodology/0.osemn/osemn.pdf`.\n",
    "\n",
    "## Import dependencies"
   ]
  },
  {
   "cell_type": "code",
   "execution_count": 1,
   "metadata": {
    "pycharm": {
     "name": "#%%\n"
    }
   },
   "outputs": [],
   "source": [
    "import pandas as pd\n",
    "import os\n",
    "from time import time"
   ]
  },
  {
   "cell_type": "code",
   "execution_count": 2,
   "metadata": {},
   "outputs": [
    {
     "data": {
      "text/plain": [
       "['tts_num_jobs_tidy.csv',\n",
       " 'TAZ_2001shp.zip',\n",
       " 'TAZ_2001shp',\n",
       " 'taz_info.csv',\n",
       " 'TTS_variables.xlsx',\n",
       " 'taz_tts.xlsx',\n",
       " 'Num_of_Jobs.xlsx']"
      ]
     },
     "execution_count": 2,
     "metadata": {},
     "output_type": "execute_result"
    }
   ],
   "source": [
    "data_path = '../../../data/tts/'\n",
    "os.listdir(data_path)"
   ]
  },
  {
   "cell_type": "markdown",
   "metadata": {},
   "source": [
    "## Load geometry of GTHA Dissemination Areas (DAs)"
   ]
  },
  {
   "cell_type": "code",
   "execution_count": 3,
   "metadata": {
    "pycharm": {
     "name": "#%%\n"
    }
   },
   "outputs": [
    {
     "name": "stdout",
     "output_type": "stream",
     "text": [
      "\n",
      "----- DataFrame loaded\n",
      "in 1.54 seconds\n",
      "with 1,716 rows\n",
      "and 42 columns\n",
      "-- Column names:\n",
      " Index(['TAZ_O', 'Pop16', 'FT_wrk16', 'Stu16', 'HH16', 'Jobs16', 'Cars16',\n",
      "       'Pop11', 'FT_wrk11', 'Stu11', 'HH11', 'Jobs11', 'Cars11', 'Pop06',\n",
      "       'FT_wrk06', 'Stu06', 'HH06', 'Jobs06', 'Cars06', 'Pop01', 'FT_wrk01',\n",
      "       'Stu01', 'HH01', 'Jobs01', 'Cars01', 'Pop96', 'FT_wrk96', 'HH96',\n",
      "       'Stu96', 'Jobs96', 'Cars96', 'Pop91', 'FT_wrk91', 'Stu91', 'HH91',\n",
      "       'Jobs91', 'Cars91', 'Pop86', 'FT_wrk86', 'Stu86', 'HH86', 'Cars86'],\n",
      "      dtype='object')\n"
     ]
    }
   ],
   "source": [
    "t = time()\n",
    "df = pd.read_excel(data_path + 'taz_tts.xlsx')\n",
    "elapsed = time() - t\n",
    "print(\"\\n----- DataFrame loaded\"\n",
    "      \"\\nin {0:.2f} seconds\".format(elapsed) + \n",
    "      \"\\nwith {0:,} rows\\nand {1:,} columns\"\n",
    "      .format(df.shape[0], df.shape[1]) + \n",
    "      \"\\n-- Column names:\\n\", df.columns)"
   ]
  },
  {
   "cell_type": "code",
   "execution_count": 5,
   "metadata": {},
   "outputs": [
    {
     "data": {
      "text/plain": [
       "Index(['Cars01', 'Cars06', 'Cars11', 'Cars16', 'Cars86', 'Cars91', 'Cars96',\n",
       "       'FT_wrk01', 'FT_wrk06', 'FT_wrk11', 'FT_wrk16', 'FT_wrk86', 'FT_wrk91',\n",
       "       'FT_wrk96', 'HH01', 'HH06', 'HH11', 'HH16', 'HH86', 'HH91', 'HH96',\n",
       "       'Jobs01', 'Jobs06', 'Jobs11', 'Jobs16', 'Jobs91', 'Jobs96', 'Pop01',\n",
       "       'Pop06', 'Pop11', 'Pop16', 'Pop86', 'Pop91', 'Pop96', 'Stu01', 'Stu06',\n",
       "       'Stu11', 'Stu16', 'Stu86', 'Stu91', 'Stu96', 'TAZ_O'],\n",
       "      dtype='object')"
      ]
     },
     "execution_count": 5,
     "metadata": {},
     "output_type": "execute_result"
    }
   ],
   "source": [
    "df.columns.sort_values()"
   ]
  },
  {
   "cell_type": "markdown",
   "metadata": {},
   "source": [
    "## Convert data to tidy format\n",
    "Same variables are stored in several columns corresponding to different TTS years, which violates one of the conditions of Tidy Data. To correct this, a new column `year` will be added to be used as a part of a **_primary key_** along with `taz_o` for the `taz_tts` table in the database. DataFrame will be melted for each variable to be stored in a single column additionally referenced by the column `year`."
   ]
  },
  {
   "cell_type": "markdown",
   "metadata": {},
   "source": [
    "### Desired shape of the DataFrame\n",
    "There are 6 unique variables for each Census year but 1986, variable `Jobs` was not present in 1986. There are 7 separate TTS years: 1986, 1991, 1996, 2001, 2006, 2011, 2016."
   ]
  },
  {
   "cell_type": "code",
   "execution_count": 32,
   "metadata": {},
   "outputs": [
    {
     "data": {
      "text/plain": [
       "Index(['Pop86', 'FT_wrk86', 'Stu86', 'HH86', 'Cars86'], dtype='object')"
      ]
     },
     "execution_count": 32,
     "metadata": {},
     "output_type": "execute_result"
    }
   ],
   "source": [
    "mask1 = df.columns.str.contains('86')\n",
    "cols = df.columns[mask1]\n",
    "cols"
   ]
  },
  {
   "cell_type": "code",
   "execution_count": 22,
   "metadata": {},
   "outputs": [
    {
     "data": {
      "text/plain": [
       "Index(['Pop01', 'FT_wrk01', 'Stu01', 'HH01', 'Jobs01', 'Cars01'], dtype='object')"
      ]
     },
     "execution_count": 22,
     "metadata": {},
     "output_type": "execute_result"
    }
   ],
   "source": [
    "mask1 = df.columns.str.contains('01')\n",
    "cols = df.columns[mask1]\n",
    "cols"
   ]
  },
  {
   "cell_type": "code",
   "execution_count": 29,
   "metadata": {},
   "outputs": [
    {
     "data": {
      "text/plain": [
       "Index(['Jobs01', 'Jobs06', 'Jobs11', 'Jobs16', 'Jobs91', 'Jobs96'], dtype='object')"
      ]
     },
     "execution_count": 29,
     "metadata": {},
     "output_type": "execute_result"
    }
   ],
   "source": [
    "mask1 = df.columns.str.contains('Jobs')\n",
    "cols = df.columns[mask1]\n",
    "cols.sort_values()"
   ]
  },
  {
   "cell_type": "code",
   "execution_count": 31,
   "metadata": {},
   "outputs": [
    {
     "data": {
      "text/plain": [
       "Index(['Cars01', 'Cars06', 'Cars11', 'Cars16', 'Cars86', 'Cars91', 'Cars96'], dtype='object')"
      ]
     },
     "execution_count": 31,
     "metadata": {},
     "output_type": "execute_result"
    }
   ],
   "source": [
    "mask1 = df.columns.str.contains('Cars')\n",
    "cols = df.columns[mask1]\n",
    "cols.sort_values()"
   ]
  },
  {
   "cell_type": "markdown",
   "metadata": {},
   "source": [
    "#### All Census variables in the original table"
   ]
  },
  {
   "cell_type": "code",
   "execution_count": 33,
   "metadata": {},
   "outputs": [
    {
     "data": {
      "text/plain": [
       "6"
      ]
     },
     "execution_count": 33,
     "metadata": {},
     "output_type": "execute_result"
    }
   ],
   "source": [
    "var_names = df.columns[df.columns.str.contains('\\d')]\n",
    "var_names = var_names.str.slice(stop=-2)\n",
    "var_names = var_names.unique()\n",
    "len(var_names)"
   ]
  },
  {
   "cell_type": "code",
   "execution_count": 34,
   "metadata": {},
   "outputs": [
    {
     "data": {
      "text/plain": [
       "Index(['Pop', 'FT_wrk', 'Stu', 'HH', 'Jobs', 'Cars'], dtype='object')"
      ]
     },
     "execution_count": 34,
     "metadata": {},
     "output_type": "execute_result"
    }
   ],
   "source": [
    "var_names"
   ]
  },
  {
   "cell_type": "markdown",
   "metadata": {},
   "source": [
    "There are seven different TTS years:"
   ]
  },
  {
   "cell_type": "code",
   "execution_count": 37,
   "metadata": {},
   "outputs": [
    {
     "data": {
      "text/plain": [
       "Index(['HH01', 'HH06', 'HH11', 'HH16', 'HH86', 'HH91', 'HH96'], dtype='object')"
      ]
     },
     "execution_count": 37,
     "metadata": {},
     "output_type": "execute_result"
    }
   ],
   "source": [
    "mask1 = df.columns.str.contains('HH')\n",
    "cols = df.columns[mask1]\n",
    "cols.sort_values()"
   ]
  },
  {
   "cell_type": "markdown",
   "metadata": {},
   "source": [
    "There are 1'716 Transportation Analysis Zones."
   ]
  },
  {
   "cell_type": "code",
   "execution_count": 38,
   "metadata": {},
   "outputs": [
    {
     "data": {
      "text/plain": [
       "1716"
      ]
     },
     "execution_count": 38,
     "metadata": {},
     "output_type": "execute_result"
    }
   ],
   "source": [
    "df.index.nunique()"
   ]
  },
  {
   "cell_type": "code",
   "execution_count": 39,
   "metadata": {},
   "outputs": [
    {
     "data": {
      "text/plain": [
       "1716"
      ]
     },
     "execution_count": 39,
     "metadata": {},
     "output_type": "execute_result"
    }
   ],
   "source": [
    "len(df)"
   ]
  },
  {
   "cell_type": "code",
   "execution_count": 40,
   "metadata": {},
   "outputs": [
    {
     "data": {
      "text/plain": [
       "12012"
      ]
     },
     "execution_count": 40,
     "metadata": {},
     "output_type": "execute_result"
    }
   ],
   "source": [
    "len(df) * 7"
   ]
  },
  {
   "cell_type": "markdown",
   "metadata": {},
   "source": [
    "That means, that after melting we should get a table with 1'716 x 7 = 12'012 rows and 8 columns (`TAZ_O`, `year`, and 6 columns with TTS variables)."
   ]
  },
  {
   "cell_type": "markdown",
   "metadata": {},
   "source": [
    "### Melt all the variables in the table"
   ]
  },
  {
   "cell_type": "code",
   "execution_count": 47,
   "metadata": {
    "scrolled": true
   },
   "outputs": [
    {
     "data": {
      "text/html": [
       "<div>\n",
       "<style scoped>\n",
       "    .dataframe tbody tr th:only-of-type {\n",
       "        vertical-align: middle;\n",
       "    }\n",
       "\n",
       "    .dataframe tbody tr th {\n",
       "        vertical-align: top;\n",
       "    }\n",
       "\n",
       "    .dataframe thead th {\n",
       "        text-align: right;\n",
       "    }\n",
       "</style>\n",
       "<table border=\"1\" class=\"dataframe\">\n",
       "  <thead>\n",
       "    <tr style=\"text-align: right;\">\n",
       "      <th></th>\n",
       "      <th>TAZ_O</th>\n",
       "      <th>year</th>\n",
       "      <th>Pop</th>\n",
       "      <th>FT_wrk</th>\n",
       "      <th>Stu</th>\n",
       "      <th>HH</th>\n",
       "      <th>Jobs</th>\n",
       "      <th>Cars</th>\n",
       "    </tr>\n",
       "  </thead>\n",
       "  <tbody>\n",
       "    <tr>\n",
       "      <td>1</td>\n",
       "      <td>1</td>\n",
       "      <td>1986</td>\n",
       "      <td>4885</td>\n",
       "      <td>2322</td>\n",
       "      <td>2943</td>\n",
       "      <td>1889.0</td>\n",
       "      <td>NaN</td>\n",
       "      <td>2295</td>\n",
       "    </tr>\n",
       "    <tr>\n",
       "      <td>5</td>\n",
       "      <td>1</td>\n",
       "      <td>1991</td>\n",
       "      <td>5396</td>\n",
       "      <td>2790</td>\n",
       "      <td>744</td>\n",
       "      <td>2233.0</td>\n",
       "      <td>1211.0</td>\n",
       "      <td>2977</td>\n",
       "    </tr>\n",
       "    <tr>\n",
       "      <td>3</td>\n",
       "      <td>1</td>\n",
       "      <td>1996</td>\n",
       "      <td>4967</td>\n",
       "      <td>2257</td>\n",
       "      <td>3027</td>\n",
       "      <td>2177.0</td>\n",
       "      <td>888.0</td>\n",
       "      <td>2750</td>\n",
       "    </tr>\n",
       "    <tr>\n",
       "      <td>2</td>\n",
       "      <td>1</td>\n",
       "      <td>2001</td>\n",
       "      <td>3932</td>\n",
       "      <td>1820</td>\n",
       "      <td>1376</td>\n",
       "      <td>1829.0</td>\n",
       "      <td>1509.0</td>\n",
       "      <td>2151</td>\n",
       "    </tr>\n",
       "    <tr>\n",
       "      <td>4</td>\n",
       "      <td>1</td>\n",
       "      <td>2006</td>\n",
       "      <td>4607</td>\n",
       "      <td>2086</td>\n",
       "      <td>1316</td>\n",
       "      <td>1931.0</td>\n",
       "      <td>1142.0</td>\n",
       "      <td>2261</td>\n",
       "    </tr>\n",
       "    <tr>\n",
       "      <td>...</td>\n",
       "      <td>...</td>\n",
       "      <td>...</td>\n",
       "      <td>...</td>\n",
       "      <td>...</td>\n",
       "      <td>...</td>\n",
       "      <td>...</td>\n",
       "      <td>...</td>\n",
       "      <td>...</td>\n",
       "    </tr>\n",
       "    <tr>\n",
       "      <td>12008</td>\n",
       "      <td>2670</td>\n",
       "      <td>1996</td>\n",
       "      <td>42</td>\n",
       "      <td>21</td>\n",
       "      <td>0</td>\n",
       "      <td>21.0</td>\n",
       "      <td>2829.0</td>\n",
       "      <td>21</td>\n",
       "    </tr>\n",
       "    <tr>\n",
       "      <td>12010</td>\n",
       "      <td>2670</td>\n",
       "      <td>2001</td>\n",
       "      <td>143</td>\n",
       "      <td>41</td>\n",
       "      <td>328</td>\n",
       "      <td>61.0</td>\n",
       "      <td>2354.0</td>\n",
       "      <td>81</td>\n",
       "    </tr>\n",
       "    <tr>\n",
       "      <td>12007</td>\n",
       "      <td>2670</td>\n",
       "      <td>2006</td>\n",
       "      <td>0</td>\n",
       "      <td>0</td>\n",
       "      <td>0</td>\n",
       "      <td>NaN</td>\n",
       "      <td>2797.0</td>\n",
       "      <td>0</td>\n",
       "    </tr>\n",
       "    <tr>\n",
       "      <td>12009</td>\n",
       "      <td>2670</td>\n",
       "      <td>2011</td>\n",
       "      <td>0</td>\n",
       "      <td>0</td>\n",
       "      <td>0</td>\n",
       "      <td>NaN</td>\n",
       "      <td>2965.0</td>\n",
       "      <td>0</td>\n",
       "    </tr>\n",
       "    <tr>\n",
       "      <td>12006</td>\n",
       "      <td>2670</td>\n",
       "      <td>2016</td>\n",
       "      <td>0</td>\n",
       "      <td>0</td>\n",
       "      <td>0</td>\n",
       "      <td>NaN</td>\n",
       "      <td>2756.0</td>\n",
       "      <td>0</td>\n",
       "    </tr>\n",
       "  </tbody>\n",
       "</table>\n",
       "<p>12012 rows × 8 columns</p>\n",
       "</div>"
      ],
      "text/plain": [
       "       TAZ_O  year   Pop  FT_wrk   Stu      HH    Jobs  Cars\n",
       "1          1  1986  4885    2322  2943  1889.0     NaN  2295\n",
       "5          1  1991  5396    2790   744  2233.0  1211.0  2977\n",
       "3          1  1996  4967    2257  3027  2177.0   888.0  2750\n",
       "2          1  2001  3932    1820  1376  1829.0  1509.0  2151\n",
       "4          1  2006  4607    2086  1316  1931.0  1142.0  2261\n",
       "...      ...   ...   ...     ...   ...     ...     ...   ...\n",
       "12008   2670  1996    42      21     0    21.0  2829.0    21\n",
       "12010   2670  2001   143      41   328    61.0  2354.0    81\n",
       "12007   2670  2006     0       0     0     NaN  2797.0     0\n",
       "12009   2670  2011     0       0     0     NaN  2965.0     0\n",
       "12006   2670  2016     0       0     0     NaN  2756.0     0\n",
       "\n",
       "[12012 rows x 8 columns]"
      ]
     },
     "execution_count": 47,
     "metadata": {},
     "output_type": "execute_result"
    }
   ],
   "source": [
    "i = 0\n",
    "id_col = 'TAZ_O'\n",
    "\n",
    "for var_name in var_names:\n",
    "\n",
    "    # select a subset of columns containing different years of a Census variable\n",
    "    mask1 = df.columns.str.contains('{0}\\d'.format(var_name))\n",
    "    var_cols = df.columns[mask1]\n",
    "    s = df[[id_col] + list(var_cols)]\n",
    "\n",
    "    df_melt = pd.melt(s, id_vars=id_col, value_name=var_name)\n",
    "    \n",
    "    df_melt['variable'] = df_melt['variable'].str.slice(-2)\n",
    "    mask1 =  df_melt['variable'].isin(['01', '06', '11', '16'])\n",
    "    df_melt.loc[mask1, 'variable'] = '20' + df_melt.loc[mask1, 'variable']\n",
    "    df_melt.loc[~mask1, 'variable'] = '19' + df_melt.loc[~mask1, 'variable']\n",
    "    df_melt = df_melt.rename(columns={'variable': 'year'})\n",
    "    df_melt['year'] = df_melt['year'].astype('int')\n",
    "    \n",
    "    if i  == 0:\n",
    "        df_tidy = df_melt.sort_values(id_col)\n",
    "    else:\n",
    "        df_tidy = pd.merge(df_tidy, df_melt, how='left', \n",
    "                           left_on=[id_col, 'year'], right_on=[id_col, 'year'])\n",
    "    i += 1\n",
    "\n",
    "df_tidy.sort_values([id_col, 'year'])"
   ]
  },
  {
   "cell_type": "markdown",
   "metadata": {},
   "source": [
    "#### Validate the shape of the melted DataFrame"
   ]
  },
  {
   "cell_type": "code",
   "execution_count": 48,
   "metadata": {},
   "outputs": [
    {
     "data": {
      "text/plain": [
       "(1716, 42)"
      ]
     },
     "execution_count": 48,
     "metadata": {},
     "output_type": "execute_result"
    }
   ],
   "source": [
    "df.shape"
   ]
  },
  {
   "cell_type": "code",
   "execution_count": 49,
   "metadata": {},
   "outputs": [
    {
     "data": {
      "text/plain": [
       "(12012, 8)"
      ]
     },
     "execution_count": 49,
     "metadata": {},
     "output_type": "execute_result"
    }
   ],
   "source": [
    "df_tidy.shape"
   ]
  },
  {
   "cell_type": "markdown",
   "metadata": {
    "pycharm": {
     "name": "#%% md\n"
    }
   },
   "source": [
    "## Save results to a .csv file"
   ]
  },
  {
   "cell_type": "code",
   "execution_count": 50,
   "metadata": {
    "pycharm": {
     "name": "#%%\n"
    }
   },
   "outputs": [
    {
     "name": "stdout",
     "output_type": "stream",
     "text": [
      "DataFrame saved to file:\n",
      " ../../../data/tts/taz_tts_tidy.csv \n",
      "took 0.26 seconds\n"
     ]
    }
   ],
   "source": [
    "save_path = data_path + 'taz_tts_tidy.csv'\n",
    "t = time()\n",
    "df_tidy.sort_values(['TAZ_O', 'year']).to_csv(save_path, index=False)\n",
    "elapsed = time() - t\n",
    "print(\"DataFrame saved to file:\\n\", save_path,\n",
    "      \"\\ntook {0:.2f} seconds\".format(elapsed))"
   ]
  }
 ],
 "metadata": {
  "kernelspec": {
   "display_name": "Python 3",
   "language": "python",
   "name": "python3"
  },
  "language_info": {
   "codemirror_mode": {
    "name": "ipython",
    "version": 3
   },
   "file_extension": ".py",
   "mimetype": "text/x-python",
   "name": "python",
   "nbconvert_exporter": "python",
   "pygments_lexer": "ipython3",
   "version": "3.6.9"
  },
  "pycharm": {
   "stem_cell": {
    "cell_type": "raw",
    "metadata": {
     "collapsed": false
    },
    "source": []
   }
  }
 },
 "nbformat": 4,
 "nbformat_minor": 1
}
