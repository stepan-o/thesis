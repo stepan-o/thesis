{
 "cells": [
  {
   "cell_type": "markdown",
   "metadata": {},
   "source": [
    "# GTHA housing market database\n",
    "# OSEMN methodology Step 1: Obtain\n",
    "# Obtain Enhanced Points of Interest (DMTI)\n",
    "\n",
    "---\n",
    "\n",
    "This notebook describes _Step 1: Obtain_ of OSEMN methodology, the process of obtaining EPOI from DMTI.\n",
    "\n",
    "---\n",
    "\n",
    "For description of OSEMN methodology, see `methodology/0.osemn/osemn.pdf`.\n",
    "# GTHA housing market database\n",
    "# OSEMN methodology Step 1: Obtain\n",
    "# Step 1.1 Spatial join of EPOI from DMTI to parcel polygons\n",
    "\n",
    "---\n",
    "\n",
    "\n",
    "## Enhanced Points of Interest (DMTI)\n",
    "\n",
    "[McGill library](https://www.mcgill.ca/library/find/maps/epoi):\n",
    "The Enhanced Points of Interest files are produced by DMTI Spatial Inc. The Enhanced Points of Interest (EPOI) file is a national database of over 1 million Canadian business and recreational points of interest. Engineered using CanMap® Streetfiles, each EPOI has been accurately geocoded and precisely placed. This location enriched point of interest database allows users to see and analyze selected point of interest data in a given geographic area, enabling applications such as retail site analysis, competitive and market research, business and tourism analysis. Features Include: Coordinate location (X, Y), Standard industry classification code (SIC), Business or recreational names with address information, and Common Address Flags (CAF) allowing users to identify records with identical addresses. It is recommended to use this with the dataset with CanMap Streetfiles (DMTI).\n",
    "\n",
    "\n",
    "## Import dependencies\n",
    "## Import dependencies"
   ]
  },
  {
   "cell_type": "code",
   "execution_count": 1,
   "metadata": {
    "pycharm": {
     "name": "#%%\n"
    }
   },
   "outputs": [],
   "source": [
    "import pandas as pd\n",
    "import geopandas as gpd\n",
    "import os\n",
    "from time import time"
   ]
  },
  {
   "cell_type": "code",
   "execution_count": 2,
   "metadata": {},
   "outputs": [
    {
     "data": {
      "text/plain": [
       "['epoi_gtha13.sbx',\n",
       " 'epoi_gtha13.sbn',\n",
       " 'epoi_gtha13.dbf',\n",
       " 'epoi_gtha13.shp.xml',\n",
       " 'epoi_gtha13.cpg',\n",
       " 'epoi_gtha13.shp',\n",
       " 'epoi_gtha13.prj',\n",
       " 'epoi_gtha13.shx']"
      ]
     },
     "execution_count": 2,
     "metadata": {},
     "output_type": "execute_result"
    }
   ],
   "source": [
    "data_path = '../../data/'\n",
    "epoi_path = data_path + 'teranet/epoi_gtha13/'\n",
    "os.listdir(epoi_path)"
   ]
  },
  {
   "cell_type": "code",
   "execution_count": 3,
   "metadata": {},
   "outputs": [
    {
     "data": {
      "text/plain": [
       "['GTA_land_use_code.txt',\n",
       " 'GTAparcel16LU12.shx',\n",
       " 'with_epoi',\n",
       " 'GTAparcel16LU12.prj',\n",
       " 'GTAparcel16LU12.cpg',\n",
       " 'GTAparcel16LU12.shp',\n",
       " 'GTAparcel16LU12.dbf']"
      ]
     },
     "execution_count": 3,
     "metadata": {},
     "output_type": "execute_result"
    }
   ],
   "source": [
    "gta_lu_path = data_path + 'teranet/ParcelLandUse/GTA/'\n",
    "os.listdir(gta_lu_path)"
   ]
  },
  {
   "cell_type": "code",
   "execution_count": 4,
   "metadata": {},
   "outputs": [
    {
     "data": {
      "text/plain": [
       "['Hparcel16LU10.prj',\n",
       " 'Halmilton_Land_Use_Codes_2009_Original.pdf',\n",
       " 'with_epoi',\n",
       " 'HalLanduse_converted.csv',\n",
       " 'Hparcel16LU10.cpg',\n",
       " 'Hparcel16LU10.shp',\n",
       " 'Hparcel16LU10.dbf',\n",
       " 'Hparcel16LU10.shx']"
      ]
     },
     "execution_count": 4,
     "metadata": {},
     "output_type": "execute_result"
    }
   ],
   "source": [
    "ham_lu_path = data_path + 'teranet/ParcelLandUse/Halmilton/'\n",
    "os.listdir(ham_lu_path)"
   ]
  },
  {
   "cell_type": "markdown",
   "metadata": {},
   "source": [
    "## Load geometry of land use"
   ]
  },
  {
   "cell_type": "code",
   "execution_count": 5,
   "metadata": {},
   "outputs": [
    {
     "name": "stdout",
     "output_type": "stream",
     "text": [
      "----- GeoDataFrame loaded\n",
      "in 126.35 seconds (2.11 minutes)\n",
      "with 1,490,138 rows\n",
      "and 13 columns\n",
      "-- Column names:\n",
      " Index(['FID_1', 'PIN', 'SHAPE_Leng', 'SHAPE_Area', 'FID_2', 'OBJECTID',\n",
      "       'PIN_1', 'municipali', 'LANDUSE', 'LengthM', 'AreaM2', 'Distance',\n",
      "       'geometry'],\n",
      "      dtype='object')\n",
      "Taking the subset with columns\n",
      ": ['PIN', 'geometry']\n",
      "\n",
      "-- New column names:\n",
      " Index(['PIN', 'geometry'], dtype='object')\n"
     ]
    },
    {
     "data": {
      "image/svg+xml": [
       "<svg xmlns=\"http://www.w3.org/2000/svg\" xmlns:xlink=\"http://www.w3.org/1999/xlink\" width=\"100.0\" height=\"100.0\" viewBox=\"1380362.9895703124 5511370.786384277 37.098435058724135 15.872055664658546\" preserveAspectRatio=\"xMinYMin meet\"><g transform=\"matrix(1,0,0,-1,0,11022757.444824219)\"><path fill-rule=\"evenodd\" fill=\"#66cc99\" stroke=\"#555555\" stroke-width=\"0.7419687011744827\" opacity=\"0.6\" d=\"M 1380364.8424072268,5511385.284423828 L 1380398.7139892578,5511381.011230469 L 1380398.2996215823,5511372.160400391 L 1380364.3635864258,5511375.098022461 L 1380364.7864379885,5511384.081604004 L 1380364.8424072268,5511385.284423828 z\" /></g></svg>"
      ],
      "text/plain": [
       "<shapely.geometry.polygon.Polygon at 0x7f646fffeb38>"
      ]
     },
     "execution_count": 5,
     "metadata": {},
     "output_type": "execute_result"
    }
   ],
   "source": [
    "t = time()\n",
    "lu_gta_gdf = gpd.read_file(gta_lu_path + 'GTAparcel16LU12.shp')\n",
    "elapsed = time() - t\n",
    "\n",
    "print(\"----- GeoDataFrame loaded\"\n",
    "      \"\\nin {0:.2f} seconds ({1:.2f} minutes)\".format(elapsed, elapsed / 60) + \n",
    "      \"\\nwith {0:,} rows\\nand {1:,} columns\"\n",
    "      .format(lu_gta_gdf.shape[0], lu_gta_gdf.shape[1]) + \n",
    "      \"\\n-- Column names:\\n\", lu_gta_gdf.columns)\n",
    "\n",
    "cols = ['PIN', 'geometry']\n",
    "\n",
    "print(\"Taking the subset with columns\\n:\", cols)\n",
    "\n",
    "lu_gta_gdf = lu_gta_gdf[cols]\n",
    "\n",
    "print(\"\\n-- New column names:\\n\", lu_gta_gdf.columns)\n",
    "\n",
    "# lu_gta_gdf.plot(); # plotting the whole GeoDataFrame can take a very long time\n",
    "lu_gta_gdf.iloc[0].geometry"
   ]
  },
  {
   "cell_type": "code",
   "execution_count": 6,
   "metadata": {},
   "outputs": [
    {
     "name": "stdout",
     "output_type": "stream",
     "text": [
      "----- GeoDataFrame loaded\n",
      "in 14.17 seconds (0.24 minutes)\n",
      "with 174,729 rows\n",
      "and 13 columns\n",
      "-- Column names:\n",
      " Index(['FID_1', 'PIN', 'SHAPE_Area', 'OBJECTID', 'FRONTAGE', 'DEPTH',\n",
      "       'PROP_CODE', 'SITE_AREA', 'PIN_1', 'ID', 'Shape_Le_1', 'Shape_Ar_1',\n",
      "       'geometry'],\n",
      "      dtype='object')\n",
      "Taking the subset with columns\n",
      ": ['PIN', 'geometry']\n",
      "\n",
      "-- New column names:\n",
      " Index(['PIN', 'geometry'], dtype='object')\n"
     ]
    },
    {
     "data": {
      "image/svg+xml": [
       "<svg xmlns=\"http://www.w3.org/2000/svg\" xmlns:xlink=\"http://www.w3.org/1999/xlink\" width=\"100.0\" height=\"100.0\" viewBox=\"1354310.092878418 5440160.977705078 22.65549072250724 51.44943603500724\" preserveAspectRatio=\"xMinYMin meet\"><g transform=\"matrix(1,0,0,-1,0,10880373.404846191)\"><path fill-rule=\"evenodd\" fill=\"#66cc99\" stroke=\"#555555\" stroke-width=\"1.0289887207001447\" opacity=\"0.6\" d=\"M 1354323.998413086,5440210.521606445 L 1354325.814819336,5440210.045593262 L 1354330.8428344727,5440208.727416992 L 1354318.84362793,5440162.883239746 L 1354311.998413086,5440164.6748046875 L 1354323.998413086,5440210.521606445 z\" /></g></svg>"
      ],
      "text/plain": [
       "<shapely.geometry.polygon.Polygon at 0x7f646f42c160>"
      ]
     },
     "execution_count": 6,
     "metadata": {},
     "output_type": "execute_result"
    }
   ],
   "source": [
    "t = time()\n",
    "lu_ham_gdf = gpd.read_file(ham_lu_path + 'Hparcel16LU10.shp')\n",
    "elapsed = time() - t\n",
    "\n",
    "print(\"----- GeoDataFrame loaded\"\n",
    "      \"\\nin {0:.2f} seconds ({1:.2f} minutes)\".format(elapsed, elapsed / 60) + \n",
    "      \"\\nwith {0:,} rows\\nand {1:,} columns\"\n",
    "      .format(lu_ham_gdf.shape[0], lu_ham_gdf.shape[1]) + \n",
    "      \"\\n-- Column names:\\n\", lu_ham_gdf.columns)\n",
    "\n",
    "cols = ['PIN', 'geometry']\n",
    "\n",
    "print(\"Taking the subset with columns\\n:\", cols)\n",
    "\n",
    "lu_ham_gdf = lu_ham_gdf[cols]\n",
    "\n",
    "print(\"\\n-- New column names:\\n\", lu_ham_gdf.columns)\n",
    "\n",
    "# lu_gta_gdf.plot(); # plotting the whole GeoDataFrame can take a very long time\n",
    "lu_ham_gdf.iloc[0].geometry"
   ]
  },
  {
   "cell_type": "markdown",
   "metadata": {},
   "source": [
    "## Load geometry of Enhanced Points of Interest (EPOI)"
   ]
  },
  {
   "cell_type": "code",
   "execution_count": 7,
   "metadata": {
    "pycharm": {
     "name": "#%%\n"
    }
   },
   "outputs": [
    {
     "name": "stdout",
     "output_type": "stream",
     "text": [
      "\n",
      "----- DataFrame loaded\n",
      "in 38.90 seconds\n",
      "with 317,874 rows\n",
      "and 38 columns\n",
      "-- Column names:\n",
      " Index(['OBJECTID', 'POI_ID', 'NAME', 'UNIT_SUITE', 'ADDRESS', 'DELIV_MODE',\n",
      "       'CITY', 'MAF', 'PROV', 'POST_CODE', 'LOCATION', 'PHONE', 'FAX',\n",
      "       'TOLL_FREE', 'WEBSITE', 'EPOI_TYPE', 'CAF', 'SIC_1', 'SIC_2', 'SIC_3',\n",
      "       'SIC_4', 'SIC_5', 'SIC_6', 'NAICS_1', 'NAICS_2', 'NAICS_3', 'NAICS_4',\n",
      "       'NAICS_5', 'SIC_MJ_GRP', 'SIC_DIV', 'X', 'Y', 'PREC_CODE', 'ATTRIBCODE',\n",
      "       'STATUS', 'COMM_NAME', 'GRP_IND', 'geometry'],\n",
      "      dtype='object')\n",
      "Taking the subset with columns\n",
      ": ['POI_ID', 'geometry']\n",
      "\n",
      "-- New column names:\n",
      " Index(['POI_ID', 'geometry'], dtype='object')\n"
     ]
    }
   ],
   "source": [
    "t = time()\n",
    "epoi_gdf = gpd.read_file(epoi_path + 'epoi_gtha13.shp')\n",
    "elapsed = time() - t\n",
    "print(\"\\n----- DataFrame loaded\"\n",
    "      \"\\nin {0:.2f} seconds\".format(elapsed) + \n",
    "      \"\\nwith {0:,} rows\\nand {1:,} columns\"\n",
    "      .format(epoi_gdf.shape[0], epoi_gdf.shape[1]) + \n",
    "      \"\\n-- Column names:\\n\", epoi_gdf.columns)\n",
    "\n",
    "cols = ['POI_ID', 'geometry']\n",
    "\n",
    "print(\"Taking the subset with columns\\n:\", cols)\n",
    "\n",
    "epoi_gdf = epoi_gdf[cols]\n",
    "\n",
    "print(\"\\n-- New column names:\\n\", epoi_gdf.columns)"
   ]
  },
  {
   "cell_type": "code",
   "execution_count": 9,
   "metadata": {},
   "outputs": [
    {
     "data": {
      "image/png": "[encoded data removed]",
      "text/plain": [
       "<Figure size 432x288 with 1 Axes>"
      ]
     },
     "metadata": {
      "needs_background": "light"
     },
     "output_type": "display_data"
    }
   ],
   "source": [
    "epoi_gdf.plot();"
   ]
  },
  {
   "cell_type": "markdown",
   "metadata": {},
   "source": [
    "## Perform the spatial join of Teranet points with DA polygons\n",
    "### Validate projections"
   ]
  },
  {
   "cell_type": "code",
   "execution_count": 10,
   "metadata": {},
   "outputs": [
    {
     "data": {
      "text/plain": [
       "{'init': 'epsg:4326'}"
      ]
     },
     "execution_count": 10,
     "metadata": {},
     "output_type": "execute_result"
    }
   ],
   "source": [
    "epoi_gdf.crs"
   ]
  },
  {
   "cell_type": "code",
   "execution_count": 11,
   "metadata": {},
   "outputs": [
    {
     "data": {
      "text/plain": [
       "{'init': 'epsg:5320'}"
      ]
     },
     "execution_count": 11,
     "metadata": {},
     "output_type": "execute_result"
    }
   ],
   "source": [
    "lu_gta_gdf.crs"
   ]
  },
  {
   "cell_type": "code",
   "execution_count": 12,
   "metadata": {},
   "outputs": [
    {
     "data": {
      "text/plain": [
       "{'init': 'epsg:5320'}"
      ]
     },
     "execution_count": 12,
     "metadata": {},
     "output_type": "execute_result"
    }
   ],
   "source": [
    "lu_ham_gdf.crs"
   ]
  },
  {
   "cell_type": "markdown",
   "metadata": {},
   "source": [
    "### Convert Land Use CRS to EPSG:4326"
   ]
  },
  {
   "cell_type": "code",
   "execution_count": 13,
   "metadata": {},
   "outputs": [
    {
     "name": "stdout",
     "output_type": "stream",
     "text": [
      "New CRS:\n",
      " {'init': 'epsg:4326', 'no_defs': True} \n",
      "took 221.83 seconds (3.70 minutes)\n"
     ]
    }
   ],
   "source": [
    "t = time()\n",
    "lu_gta_gdf = lu_gta_gdf.to_crs(epsg=4326)\n",
    "elapsed = time() - t\n",
    "print(\"New CRS:\\n\", lu_gta_gdf.crs, \"\\ntook {0:.2f} seconds ({1:.2f} minutes)\".format(elapsed, elapsed / 60))"
   ]
  },
  {
   "cell_type": "code",
   "execution_count": 14,
   "metadata": {},
   "outputs": [
    {
     "name": "stdout",
     "output_type": "stream",
     "text": [
      "New CRS:\n",
      " {'init': 'epsg:4326', 'no_defs': True} \n",
      "took 24.90 seconds (0.41 minutes)\n"
     ]
    }
   ],
   "source": [
    "t = time()\n",
    "lu_ham_gdf = lu_ham_gdf.to_crs(epsg=4326)\n",
    "elapsed = time() - t\n",
    "print(\"New CRS:\\n\", lu_ham_gdf.crs, \"\\ntook {0:.2f} seconds ({1:.2f} minutes)\".format(elapsed, elapsed / 60))"
   ]
  },
  {
   "cell_type": "markdown",
   "metadata": {},
   "source": [
    "### Perform the spatial joins\n",
    ">Note: EPSG:4326 and WGS 84 represent the [same projection](https://spatialreference.org/ref/epsg/wgs-84/)."
   ]
  },
  {
   "cell_type": "code",
   "execution_count": 15,
   "metadata": {},
   "outputs": [
    {
     "name": "stderr",
     "output_type": "stream",
     "text": [
      "/home/stepan/anaconda3/envs/gds/lib/python3.6/site-packages/geopandas/tools/sjoin.py:56: UserWarning: CRS of frames being joined does not match!({'init': 'epsg:4326', 'no_defs': True} != {'init': 'epsg:4326'})\n",
      "  '(%s != %s)' % (left_df.crs, right_df.crs))\n"
     ]
    },
    {
     "name": "stdout",
     "output_type": "stream",
     "text": [
      "\n",
      "----- Spatial join completed, new GeoDataFrame created\n",
      "in 268.32 seconds (4.47 minutes)\n",
      "with 1,706,372 rows\n",
      "and 3 columns\n",
      "-- Column names:\n",
      " Index(['PIN', 'geometry', 'POI_ID'], dtype='object')\n"
     ]
    }
   ],
   "source": [
    "t = time()\n",
    "lu_gta_epoi_gdf = gpd.sjoin(lu_gta_gdf, epoi_gdf, \n",
    "                            how='left', op='intersects')\n",
    "lu_gta_epoi_gdf = lu_gta_epoi_gdf.drop('index_right', axis=1)\n",
    "elapsed = time() - t\n",
    "print(\"\\n----- Spatial join completed, new GeoDataFrame created\"\n",
    "      \"\\nin {0:.2f} seconds ({1:.2f} minutes)\".format(elapsed, elapsed / 60) + \n",
    "      \"\\nwith {0:,} rows\\nand {1:,} columns\"\n",
    "      .format(lu_gta_epoi_gdf.shape[0], lu_gta_epoi_gdf.shape[1]) + \n",
    "      \"\\n-- Column names:\\n\", lu_gta_epoi_gdf.columns)"
   ]
  },
  {
   "cell_type": "code",
   "execution_count": 16,
   "metadata": {},
   "outputs": [
    {
     "name": "stdout",
     "output_type": "stream",
     "text": [
      "\n",
      "----- Spatial join completed, new GeoDataFrame created\n",
      "in 41.56 seconds (0.69 minutes)\n",
      "with 188,957 rows\n",
      "and 4 columns\n",
      "-- Column names:\n",
      " Index(['PIN', 'geometry', 'index_right', 'POI_ID'], dtype='object')\n"
     ]
    }
   ],
   "source": [
    "t = time()\n",
    "lu_ham_epoi_gdf = gpd.sjoin(lu_ham_gdf, epoi_gdf, \n",
    "                            how='left', op='intersects')\n",
    "elapsed = time() - t\n",
    "print(\"\\n----- Spatial join completed, new GeoDataFrame created\"\n",
    "      \"\\nin {0:.2f} seconds ({1:.2f} minutes)\".format(elapsed, elapsed / 60) + \n",
    "      \"\\nwith {0:,} rows\\nand {1:,} columns\"\n",
    "      .format(lu_ham_epoi_gdf.shape[0], lu_ham_epoi_gdf.shape[1]) + \n",
    "      \"\\n-- Column names:\\n\", lu_ham_epoi_gdf.columns)"
   ]
  },
  {
   "cell_type": "markdown",
   "metadata": {},
   "source": [
    "### Validate results"
   ]
  },
  {
   "cell_type": "code",
   "execution_count": 22,
   "metadata": {},
   "outputs": [
    {
     "name": "stdout",
     "output_type": "stream",
     "text": [
      "<class 'geopandas.geodataframe.GeoDataFrame'>\n",
      "RangeIndex: 317874 entries, 0 to 317873\n",
      "Data columns (total 2 columns):\n",
      "POI_ID      317874 non-null object\n",
      "geometry    317874 non-null object\n",
      "dtypes: object(2)\n",
      "memory usage: 4.9+ MB\n"
     ]
    }
   ],
   "source": [
    "epoi_gdf.info()"
   ]
  },
  {
   "cell_type": "code",
   "execution_count": 23,
   "metadata": {},
   "outputs": [
    {
     "name": "stdout",
     "output_type": "stream",
     "text": [
      "<class 'geopandas.geodataframe.GeoDataFrame'>\n",
      "Int64Index: 1706372 entries, 0 to 1490137\n",
      "Data columns (total 3 columns):\n",
      "PIN         1706372 non-null object\n",
      "geometry    1706372 non-null object\n",
      "POI_ID      293293 non-null object\n",
      "dtypes: object(3)\n",
      "memory usage: 52.1+ MB\n"
     ]
    }
   ],
   "source": [
    "lu_gta_epoi_gdf.info(null_counts=True)"
   ]
  },
  {
   "cell_type": "code",
   "execution_count": 24,
   "metadata": {},
   "outputs": [
    {
     "name": "stdout",
     "output_type": "stream",
     "text": [
      "<class 'geopandas.geodataframe.GeoDataFrame'>\n",
      "Int64Index: 188957 entries, 0 to 174728\n",
      "Data columns (total 4 columns):\n",
      "PIN            188957 non-null object\n",
      "geometry       188957 non-null object\n",
      "index_right    22645 non-null float64\n",
      "POI_ID         22645 non-null object\n",
      "dtypes: float64(1), object(3)\n",
      "memory usage: 7.2+ MB\n"
     ]
    }
   ],
   "source": [
    "lu_ham_epoi_gdf.info()"
   ]
  },
  {
   "cell_type": "code",
   "execution_count": 17,
   "metadata": {},
   "outputs": [
    {
     "data": {
      "text/plain": [
       "212000009    14501\n",
       "163530162     1410\n",
       "140680100     1338\n",
       "030220360     1288\n",
       "248840893     1078\n",
       "070820163      957\n",
       "131410201      896\n",
       "131510101      883\n",
       "264550400      881\n",
       "031570004      769\n",
       "035560770      763\n",
       "131960711      610\n",
       "210979505      542\n",
       "030340033      461\n",
       "029760358      444\n",
       "101440081      435\n",
       "132530001      371\n",
       "036410883      360\n",
       "249530021      360\n",
       "131420065      345\n",
       "265290217      305\n",
       "263350030      297\n",
       "250560076      295\n",
       "033010420      272\n",
       "141700156      271\n",
       "060000518      265\n",
       "100489501      256\n",
       "294210000      248\n",
       "211710363      246\n",
       "135120035      244\n",
       "             ...  \n",
       "140800515        1\n",
       "073410022        1\n",
       "134060379        1\n",
       "103120121        1\n",
       "700010008        1\n",
       "032191125        1\n",
       "140460182        1\n",
       "720350115        1\n",
       "143540062        1\n",
       "075850192        1\n",
       "029850184        1\n",
       "132280026        1\n",
       "250432004        1\n",
       "104570110        1\n",
       "103540211        1\n",
       "250791181        1\n",
       "267430104        1\n",
       "133970031        1\n",
       "164190599        1\n",
       "132060193        1\n",
       "032830130        1\n",
       "103680015        1\n",
       "061770418        1\n",
       "264970347        1\n",
       "076020107        1\n",
       "212830831        1\n",
       "132900270        1\n",
       "250300161        1\n",
       "100910688        1\n",
       "031090914        1\n",
       "Name: PIN, Length: 1490138, dtype: int64"
      ]
     },
     "execution_count": 17,
     "metadata": {},
     "output_type": "execute_result"
    }
   ],
   "source": [
    "lu_gta_epoi_gdf['PIN'].value_counts()"
   ]
  },
  {
   "cell_type": "code",
   "execution_count": 27,
   "metadata": {},
   "outputs": [
    {
     "data": {
      "text/plain": [
       "POI4935435     1\n",
       "POI4523642     1\n",
       "POI10312894    1\n",
       "POI3150362     1\n",
       "POI5022441     1\n",
       "POI5066894     1\n",
       "POI5013917     1\n",
       "POI4052336     1\n",
       "POI4595732     1\n",
       "POI3992857     1\n",
       "POI3198911     1\n",
       "POI4492927     1\n",
       "POI10298006    1\n",
       "POI10284038    1\n",
       "POI5076744     1\n",
       "POI5016479     1\n",
       "POI5010386     1\n",
       "POI10297511    1\n",
       "POI3879788     1\n",
       "POI5107087     1\n",
       "POI5204365     1\n",
       "POI4676040     1\n",
       "POI3189812     1\n",
       "POI4939413     1\n",
       "POI3495121     1\n",
       "POI4242047     1\n",
       "POI3150637     1\n",
       "POI3002619     1\n",
       "POI10296171    1\n",
       "POI10189149    1\n",
       "              ..\n",
       "POI4851390     1\n",
       "POI5010389     1\n",
       "POI4938164     1\n",
       "POI10297450    1\n",
       "POI5011160     1\n",
       "POI5011094     1\n",
       "POI10294501    1\n",
       "POI10301096    1\n",
       "POI4590680     1\n",
       "POI4939491     1\n",
       "POI10309022    1\n",
       "POI10187850    1\n",
       "POI4595437     1\n",
       "POI3470002     1\n",
       "POI5014023     1\n",
       "POI4939134     1\n",
       "POI4239056     1\n",
       "POI5032443     1\n",
       "POI5111052     1\n",
       "POI4938761     1\n",
       "POI4046172     1\n",
       "POI5147814     1\n",
       "POI10207872    1\n",
       "POI4938749     1\n",
       "POI5025839     1\n",
       "POI10299780    1\n",
       "POI10189023    1\n",
       "POI4740106     1\n",
       "POI10187963    1\n",
       "POI4489672     1\n",
       "Name: POI_ID, Length: 14501, dtype: int64"
      ]
     },
     "execution_count": 27,
     "metadata": {},
     "output_type": "execute_result"
    }
   ],
   "source": [
    "mask1 = lu_gta_epoi_gdf['PIN'] == '212000009'\n",
    "lu_gta_epoi_gdf.loc[mask1, 'POI_ID'].value_counts()"
   ]
  },
  {
   "cell_type": "markdown",
   "metadata": {
    "pycharm": {
     "name": "#%% md\n"
    }
   },
   "source": [
    "## Save results to a .csv file"
   ]
  },
  {
   "cell_type": "code",
   "execution_count": 25,
   "metadata": {},
   "outputs": [
    {
     "data": {
      "text/plain": [
       "Index(['PIN', 'geometry', 'POI_ID'], dtype='object')"
      ]
     },
     "execution_count": 25,
     "metadata": {},
     "output_type": "execute_result"
    }
   ],
   "source": [
    "lu_gta_epoi_gdf.columns"
   ]
  },
  {
   "cell_type": "code",
   "execution_count": 29,
   "metadata": {
    "pycharm": {
     "name": "#%%\n"
    }
   },
   "outputs": [
    {
     "name": "stdout",
     "output_type": "stream",
     "text": [
      "DataFrame saved to file:\n",
      " ../../data/teranet/ParcelLandUse/GTA//with_epoi/GTAparcel16LU12_epoi.shp \n",
      "took 3.74 seconds (0.06 minutes)\n"
     ]
    }
   ],
   "source": [
    "save_path = gta_lu_path + '/with_epoi/GTAparcel16LU12_epoi.shp'\n",
    "t = time()\n",
    "lu_gta_epoi_gdf.drop('geometry', axis=1).to_csv(save_path, index=False)\n",
    "elapsed = time() - t\n",
    "print(\"DataFrame saved to file:\\n\", save_path,\n",
    "      \"\\ntook {0:.2f} seconds ({1:.2f} minutes)\".format(elapsed, elapsed / 60))"
   ]
  },
  {
   "cell_type": "code",
   "execution_count": 26,
   "metadata": {},
   "outputs": [
    {
     "data": {
      "text/plain": [
       "Index(['PIN', 'geometry', 'index_right', 'POI_ID'], dtype='object')"
      ]
     },
     "execution_count": 26,
     "metadata": {},
     "output_type": "execute_result"
    }
   ],
   "source": [
    "lu_ham_epoi_gdf.columns"
   ]
  },
  {
   "cell_type": "code",
   "execution_count": 30,
   "metadata": {
    "pycharm": {
     "name": "#%%\n"
    }
   },
   "outputs": [
    {
     "name": "stdout",
     "output_type": "stream",
     "text": [
      "DataFrame saved to file:\n",
      " ../../data/teranet/ParcelLandUse/Halmilton//with_epoi/Hparcel16LU10_epoi.shp \n",
      "took 0.61 seconds (0.01 minutes)\n"
     ]
    }
   ],
   "source": [
    "save_path = ham_lu_path + '/with_epoi/Hparcel16LU10_epoi.shp'\n",
    "t = time()\n",
    "lu_ham_epoi_gdf.drop(['geometry', 'index_right'], axis=1).to_csv(save_path, index=False)\n",
    "elapsed = time() - t\n",
    "print(\"DataFrame saved to file:\\n\", save_path,\n",
    "      \"\\ntook {0:.2f} seconds ({1:.2f} minutes)\".format(elapsed, elapsed / 60))"
   ]
  }
 ],
 "metadata": {
  "kernelspec": {
   "display_name": "Python 3",
   "language": "python",
   "name": "python3"
  },
  "language_info": {
   "codemirror_mode": {
    "name": "ipython",
    "version": 3
   },
   "file_extension": ".py",
   "mimetype": "text/x-python",
   "name": "python",
   "nbconvert_exporter": "python",
   "pygments_lexer": "ipython3",
   "version": "3.6.9"
  },
  "pycharm": {
   "stem_cell": {
    "cell_type": "raw",
    "metadata": {
     "collapsed": false
    },
    "source": []
   }
  }
 },
 "nbformat": 4,
 "nbformat_minor": 1
}
