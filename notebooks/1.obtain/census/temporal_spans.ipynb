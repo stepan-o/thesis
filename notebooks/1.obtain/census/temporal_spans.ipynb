{
 "cells": [
  {
   "cell_type": "markdown",
   "metadata": {},
   "source": [
    "# GTHA housing market database\n",
    "# OSEMN methodology Step 1: Obtain\n",
    "# Obtain the \"adapter\" table with temporal spans for various data sources\n",
    "\n",
    "---\n",
    "\n",
    "This notebook describes _Step 1: Obtain_ of OSEMN methodology, the process of obtaining an \"adapter\" table that shows matching temporal spans for different data sources.\n",
    "\n",
    "---\n",
    "\n",
    "For description of OSEMN methodology, see `methodology/0.osemn/osemn.pdf`.\n",
    "\n",
    "## Temporal matching of data sources in the GTHA housing market database\n",
    "\n",
    "The proposed GTHA housing market database includes datasets with variables that are measured in different time intervals. Records in Teranet's dataset of real estate transactions are dated at the time scale of a day, which can be considered an approximately continuous measurement at the time scale of years and decades, given the annual frequency of Teranet records past 1985. On the other hand, Census and TTS surveys are conducted in 5 year intervals, with no information available in between the Census years, and thus these measurements are distinctly discrete in nature. Due to this fact, temporal matching of Teranet data with other sources, such as Census or TTS tables, presents an additional challenge. This challenge is addressed in the proposed GTHA housing market database via an \"adapter\" table specifying the temporal spans to be used when matching various data sources.\n",
    "\n",
    "## Teranet records and Census / TTS variables\n",
    "\n",
    "Teranet and Census / TTS variables can be matched in a number of ways:\n",
    "\n",
    "### Direct match with appropriate Teranet subsets\n",
    "\n",
    "* use subsets of Teranet records from the Census / TTS years and match only with data directly recorded for that year \n",
    "* for example, take a subset of Teranet records from 2016 and match it with 2016 Census / TTS variables\n",
    "* technically, any date span can be specified when creating a Teranet subset, but in this case, appropriate Census / TTS variables must be selected manually\n",
    "    * benefits:\n",
    "        * precision of match: variables from Census would be composed of the actual values produced by the survey, rather than an interpolation based on assumptions\n",
    "        * flexilibity of use: a new Census table can be added and its variables can be match with appropriate Teranet records via simple SQL queries\n",
    "    * disadvantages:\n",
    "        * limited match: only Teranet data from Census years can be used, records from between Census years cannot be matched with the Census vairables\n",
    "        * hard to generalize SQL queries: need custom SQL queries to match data to different tables, several queries to match Teranet data from different Census years\n",
    "\n",
    "### Interpolation of discrete Census / TTS variables\n",
    "\n",
    "* discrete Census / TTS variables can be turned into continuous via interpolation\n",
    "* Teranet records can be matched to real recorded and interpolated values by year, or finer time scale\n",
    "    * benefits:\n",
    "        * most Teranet records used: all Teranet records within the Census / TTS range can be used (within the interpolation region)\n",
    "        * closest match: closest temporal match between Teranet records and Census / TTS variables\n",
    "        * precise, if correctly assessed: in the case where correct assumptions are made while interpolating values, the most precise match\n",
    "    * disadvantages\n",
    "        * more assumptions: assumtions need to be made about the dynamics of each Census / TTS variables between Census years\n",
    "        * inaccurate, if incorrectly assessed: in case of incorrect assumptions, there is a risk of lower accuracy compared with other matching methods\n",
    "        * interpolated rather then recorded: Teranet values from non-Census years will be matched to variables that are interpolated rather then recorded\n",
    "        * more data pre-processing needed: each Census / TTS variable needs to be processed in order to produce interpolated values\n",
    "        \n",
    "### Use \"adapter\" table with temporal spans for each Census / TTS survey\n",
    "\n",
    "* each Census / TTS survey can be assigned a temporal span of 5 years representing a group of Teranet records to which its variables can be matched\n",
    "* Teranet records are matched by year, each year would yield an appropriate Census or TTS variable from an appropriate temporal span\n",
    "* for example, the Census of 2016 would have a temporal span of 2014-2018, and thus a Teranet record from 2015 would be matched to variables from 2016 Census. Census of 1991 would have a temporal span of 1989-1993, and thus a Teranet record from 1993 would be matched with variables from 1991 Census.\n",
    "* TTS survey would be matched in a similar manner\n",
    "    * benefits:\n",
    "        * most Teranet records used: all Teranet / TTS records that fall within the specified temporal spans range can be matche to appropriate Census / TTS variables\n",
    "        * recorded rather than interpolated: Teranet records are matched to actual recorded Census / TTS values\n",
    "        * avoid interpolation assumptions: since no interpolation is performed, no additional assumptions are needed\n",
    "        * no additional data pre-processing: all matching is done through an \"adapter\" table, original Census / TTS variables do not need to be changed\n",
    "    * disadvantages:\n",
    "        * step-change in Census / TTS variables: when matchin Teranet sources from non-Census years, instead of using interpolation, same Census / TTS varibales are used for a group of 5 years centered at each Census year\n",
    "        * varying accuracy: accuracy of match further away from the Census years (+/- 2 years) probably will be lower. In addition, there would be a step change from every +2 to -2 Census year (i.e., 1998 to 1999)\n",
    "        * need \"adapter\" table: an additional \"adapter\" table specifying the matching groups of Census / TTS variables to years of Teranet records needs to be added to the database to facilitate temporal integrity of the joining operations\n",
    "\n",
    "## Temporal spans of data sources\n",
    "\n",
    "Temporal spans of data sources used in the proposed GTHA housing market database are presented in the table below:\n",
    "\n",
    "\n",
    "## Import dependencies"
   ]
  },
  {
   "cell_type": "code",
   "execution_count": null,
   "metadata": {},
   "outputs": [],
   "source": [
    "import pandas as pd"
   ]
  }
 ],
 "metadata": {
  "kernelspec": {
   "display_name": "Python 3",
   "language": "python",
   "name": "python3"
  },
  "language_info": {
   "codemirror_mode": {
    "name": "ipython",
    "version": 3
   },
   "file_extension": ".py",
   "mimetype": "text/x-python",
   "name": "python",
   "nbconvert_exporter": "python",
   "pygments_lexer": "ipython3",
   "version": "3.6.9"
  }
 },
 "nbformat": 4,
 "nbformat_minor": 2
}
