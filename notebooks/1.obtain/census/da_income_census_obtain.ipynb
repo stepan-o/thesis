{
 "cells": [
  {
   "cell_type": "markdown",
   "metadata": {},
   "source": [
    "# GTHA housing market database\n",
    "# OSEMN methodology Step 1: Obtain\n",
    "# Obtain DA-level Census Income Data\n",
    "\n",
    "---\n",
    "\n",
    "This notebook describes _Step 1: Obtain_ of OSEMN methodology, the process of obtaining DA-level Census Income Data.\n",
    "\n",
    "---\n",
    "\n",
    "For description of OSEMN methodology, see `methodology/0.osemn/osemn.pdf`.\n",
    "\n",
    "## Profile of Income by Dissemination Area - Greater Toronto Area, 2016 Census\n",
    "\n",
    "The dataset with profiles of Income by Dissemination Area provided by York Municipal Government can be found on Esri's Open Data Portal.\n",
    "\n",
    "Shared By: YorkMunicipalGovt   \n",
    "Data Source: services1.arcgis.com \n",
    "\n",
    "https://hub.arcgis.com/datasets/9d262f8a576842fbb2afbc8c51a64178_1\n",
    "\n",
    "## Description of the dataset\n",
    "\n",
    "This table of Income profile information for dissemination area was downloaded from the Statistics Canada website and joined with bndDisseminationAreaGTHA2016 in DEM. It contains the information gathered during the 2016 Census with respect to the population within a dissemination area and the population breakdown of income and earnings by family, individuals, people in economic families, and the prevalence of low income and household income. This data covers the dissemination area in the Greater Toronto Hamilton Area.\n",
    "\n",
    "Statistics Canada has suppressed the profiles for certain areas due to very low population count. Suppressed areas will appear as NULL values in the attribute table.\n",
    "\n",
    "For more information regarding this data, please refer to the reference document here:   \n",
    "http://www12.statcan.gc.ca/census-recensement/2016/ref/98-501/98-501-x2016006-eng.cfm\n",
    "\n",
    "## Import dependencies"
   ]
  },
  {
   "cell_type": "code",
   "execution_count": 1,
   "metadata": {
    "pycharm": {
     "name": "#%%\n"
    }
   },
   "outputs": [],
   "source": [
    "import pandas as pd\n",
    "import geopandas as gpd\n",
    "import os\n",
    "from time import time"
   ]
  },
  {
   "cell_type": "code",
   "execution_count": 5,
   "metadata": {},
   "outputs": [
    {
     "data": {
      "text/plain": [
       "[]"
      ]
     },
     "execution_count": 5,
     "metadata": {},
     "output_type": "execute_result"
    }
   ],
   "source": [
    "data_path = '../../data/da_census/'\n",
    "os.listdir(data_path)"
   ]
  },
  {
   "cell_type": "markdown",
   "metadata": {},
   "source": [
    "## Load geometry of GTHA Dissemination Areas (DAs)"
   ]
  },
  {
   "cell_type": "code",
   "execution_count": 4,
   "metadata": {
    "pycharm": {
     "name": "#%%\n"
    }
   },
   "outputs": [
    {
     "name": "stdout",
     "output_type": "stream",
     "text": [
      "----- GeoDataFrame loaded\n",
      "in 19.88 seconds\n",
      "with 9,182 rows\n",
      "and 218 columns\n",
      "-- Column names:\n",
      " Index(['OBJECTID', 'DAUID', 'CSDUID', 'CSDNAME', 'POP_TOT_INC',\n",
      "       'NUM_TOT_INC_PVT_HH', 'MEDIAN_TOT_INC', 'NUM_AFT_TAX_INC_PVT_HH',\n",
      "       'MEDIAN_AFT_INC', 'NUM_MKT_INC_PVT_HH',\n",
      "       ...\n",
      "       'AVG_AFTER_TAX_INC_CPL_W_CHILD', 'TOT_INC_LONE_PARENT_25_SAMP',\n",
      "       'AVG_INC_LONE_PARENT', 'AVG_AFTER_TAX_LONE_PARENT',\n",
      "       'TOT_INC_NOT_IN_ECF_25_SAMP', 'AVG_INC_NOT_IN_ECF',\n",
      "       'AVG_AFTER_TAX_INC_NOT_IN_ECF', 'Shape__Area', 'Shape__Length',\n",
      "       'geometry'],\n",
      "      dtype='object', length=218)\n"
     ]
    }
   ],
   "source": [
    "t = time()\n",
    "api_url = 'https://opendata.arcgis.com/datasets/9d262f8a576842fbb2afbc8c51a64178_1.geojson'\n",
    "gdf = gpd.read_file(api_url)\n",
    "elapsed = time() - t\n",
    "\n",
    "print(\"----- GeoDataFrame loaded\"\n",
    "      \"\\nin {0:.2f} seconds\".format(elapsed) + \n",
    "      \"\\nwith {0:,} rows\\nand {1:,} columns\"\n",
    "      .format(gdf.shape[0], gdf.shape[1]) + \n",
    "      \"\\n-- Column names:\\n\", gdf.columns)\n",
    "gdf.plot();"
   ]
  },
  {
   "cell_type": "markdown",
   "metadata": {
    "pycharm": {
     "name": "#%% md\n"
    }
   },
   "source": [
    "## Save results to a .csv file"
   ]
  },
  {
   "cell_type": "code",
   "execution_count": 7,
   "metadata": {
    "pycharm": {
     "name": "#%%\n"
    }
   },
   "outputs": [
    {
     "name": "stdout",
     "output_type": "stream",
     "text": [
      "DataFrame saved to file:\n",
      " ../../data/da_census/da_census_profiles_income.csv \n",
      "took 6.91 seconds\n"
     ]
    }
   ],
   "source": [
    "save_path = data_path + 'da_census_profiles_income.csv'\n",
    "t = time()\n",
    "gdf.to_csv(save_path, index=False)\n",
    "elapsed = time() - t\n",
    "print(\"DataFrame saved to file:\\n\", save_path,\n",
    "      \"\\ntook {0:.2f} seconds\".format(elapsed))"
   ]
  }
 ],
 "metadata": {
  "kernelspec": {
   "display_name": "Python 3",
   "language": "python",
   "name": "python3"
  },
  "language_info": {
   "codemirror_mode": {
    "name": "ipython",
    "version": 3
   },
   "file_extension": ".py",
   "mimetype": "text/x-python",
   "name": "python",
   "nbconvert_exporter": "python",
   "pygments_lexer": "ipython3",
   "version": "3.6.7"
  },
  "pycharm": {
   "stem_cell": {
    "cell_type": "raw",
    "metadata": {
     "collapsed": false
    },
    "source": []
   }
  }
 },
 "nbformat": 4,
 "nbformat_minor": 1
}
