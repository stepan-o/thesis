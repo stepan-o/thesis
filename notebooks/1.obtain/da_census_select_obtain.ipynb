{
 "cells": [
  {
   "cell_type": "markdown",
   "metadata": {},
   "source": [
    "# GTHA housing market database\n",
    "# OSEMN methodology Step 1: Obtain\n",
    "# Obtain Select DA-level Census Variables\n",
    "\n",
    "---\n",
    "\n",
    "This notebook describes _Step 1: Obtain_ of OSEMN methodology, the process of select DA-level Census variables.\n",
    "\n",
    "---\n",
    "\n",
    "For description of OSEMN methodology, see `methodology/0.osemn/osemn.pdf`.\n",
    "\n",
    "## Import dependencies"
   ]
  },
  {
   "cell_type": "code",
   "execution_count": 1,
   "metadata": {
    "pycharm": {
     "name": "#%%\n"
    }
   },
   "outputs": [],
   "source": [
    "import pandas as pd\n",
    "import os\n",
    "from time import time"
   ]
  },
  {
   "cell_type": "code",
   "execution_count": 3,
   "metadata": {},
   "outputs": [
    {
     "data": {
      "text/plain": [
       "['Census data availability.xlsx', 'da_census.xls']"
      ]
     },
     "execution_count": 3,
     "metadata": {},
     "output_type": "execute_result"
    }
   ],
   "source": [
    "data_path = '../../data/da_census/'\n",
    "os.listdir(data_path)"
   ]
  },
  {
   "cell_type": "markdown",
   "metadata": {},
   "source": [
    "## Load geometry of GTHA Dissemination Areas (DAs)"
   ]
  },
  {
   "cell_type": "code",
   "execution_count": 4,
   "metadata": {
    "pycharm": {
     "name": "#%%\n"
    }
   },
   "outputs": [
    {
     "name": "stdout",
     "output_type": "stream",
     "text": [
      "\n",
      "----- DataFrame loaded\n",
      "in 4.76 seconds\n",
      "with 9,182 rows\n",
      "and 124 columns\n",
      "-- Column names:\n",
      " Index(['OBJECTID', 'DAUID', 'Municipality', 'area', 'Avg_HHsize16',\n",
      "       'Avg_HHinc16', 'Avg_own_payt16', 'Avg_val_dwel16', 'Avg_rent16',\n",
      "       'Pop16',\n",
      "       ...\n",
      "       'Emp01', 'Unemp01', 'Not_lbrfrc01', 'Employee01', 'Self-emp01',\n",
      "       'Usl_wkpl01', 'At_home01', 'No_fix_wkpl01', 'Blue_cljob01',\n",
      "       'White_cljob01'],\n",
      "      dtype='object', length=124)\n"
     ]
    }
   ],
   "source": [
    "t = time()\n",
    "df = pd.read_excel(data_path + 'da_census.xls')\n",
    "elapsed = time() - t\n",
    "print(\"\\n----- DataFrame loaded\"\n",
    "      \"\\nin {0:.2f} seconds\".format(elapsed) + \n",
    "      \"\\nwith {0:,} rows\\nand {1:,} columns\"\n",
    "      .format(df.shape[0], df.shape[1]) + \n",
    "      \"\\n-- Column names:\\n\", df.columns)"
   ]
  },
  {
   "cell_type": "markdown",
   "metadata": {
    "pycharm": {
     "name": "#%% md\n"
    }
   },
   "source": [
    "## Save results to a .csv file"
   ]
  },
  {
   "cell_type": "code",
   "execution_count": 9,
   "metadata": {
    "pycharm": {
     "name": "#%%\n"
    }
   },
   "outputs": [
    {
     "name": "stdout",
     "output_type": "stream",
     "text": [
      "DataFrame saved to file:\n",
      " ../../data/da_census/da_census_select.csv \n",
      "took 1.71 seconds\n"
     ]
    }
   ],
   "source": [
    "save_path = data_path + 'da_census_select.csv'\n",
    "t = time()\n",
    "df.to_csv(save_path, index=False)\n",
    "elapsed = time() - t\n",
    "print(\"DataFrame saved to file:\\n\", save_path,\n",
    "      \"\\ntook {0:.2f} seconds\".format(elapsed))"
   ]
  }
 ],
 "metadata": {
  "kernelspec": {
   "display_name": "Python 3",
   "language": "python",
   "name": "python3"
  },
  "language_info": {
   "codemirror_mode": {
    "name": "ipython",
    "version": 3
   },
   "file_extension": ".py",
   "mimetype": "text/x-python",
   "name": "python",
   "nbconvert_exporter": "python",
   "pygments_lexer": "ipython3",
   "version": "3.6.7"
  },
  "pycharm": {
   "stem_cell": {
    "cell_type": "raw",
    "metadata": {
     "collapsed": false
    },
    "source": []
   }
  }
 },
 "nbformat": 4,
 "nbformat_minor": 1
}
