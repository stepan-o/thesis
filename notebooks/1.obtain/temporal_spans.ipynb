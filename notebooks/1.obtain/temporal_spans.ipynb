{
 "cells": [
  {
   "cell_type": "markdown",
   "metadata": {},
   "source": [
    "# GTHA housing market database\n",
    "# OSEMN methodology Step 1: Obtain\n",
    "# Obtain the \"adapter\" table with temporal spans for various data sources\n",
    "\n",
    "---\n",
    "\n",
    "This notebook describes _Step 1: Obtain_ of OSEMN methodology, the process of obtaining an \"adapter\" table that shows matching temporal spans for different data sources.\n",
    "\n",
    "---\n",
    "\n",
    "For description of OSEMN methodology, see `methodology/0.osemn/osemn.pdf`.\n",
    "\n",
    "## Temporal matching of data sources in the GTHA housing market database\n",
    "\n",
    "The proposed GTHA housing market database includes datasets with variables that are measured in different time intervals. Records in Teranet's dataset of real estate transactions are dated at the time scale of a day, which can be considered an approximately continuous measurement at the time scale of years and decades, given the annual frequency of Teranet records past 1985. On the other hand, Census and TTS surveys are conducted in 5 year intervals, with no information available in between the Census years, and thus these measurements are distinctly discrete in nature. Due to this fact, temporal matching of Teranet data with other sources, such as Census or TTS tables, presents an additional challenge. This challenge is addressed in the proposed GTHA housing market database via an \"adapter\" table specifying the temporal spans to be used when matching various data sources.\n",
    "\n",
    "## Teranet records and Census / TTS variables\n",
    "\n",
    "Teranet and Census / TTS variables can be matched in a number of ways:\n",
    "\n",
    "### Direct match with appropriate Teranet subsets\n",
    "\n",
    "* use subsets of Teranet records from the Census / TTS years and match only with data directly recorded for that year \n",
    "* for example, take a subset of Teranet records from 2016 and match it with 2016 Census / TTS variables\n",
    "* technically, any date span can be specified when creating a Teranet subset, but in this case, appropriate Census / TTS variables must be selected manually\n",
    "    * benefits:\n",
    "        * precision of match: variables from Census would be composed of the actual values produced by the survey, rather than an interpolation based on assumptions\n",
    "        * flexilibity of use: a new Census table can be added and its variables can be match with appropriate Teranet records via simple SQL queries\n",
    "    * disadvantages:\n",
    "        * limited match: only Teranet data from Census years can be used, records from between Census years cannot be matched with the Census vairables\n",
    "        * hard to generalize SQL queries: need custom SQL queries to match data to different tables, several queries to match Teranet data from different Census years\n",
    "\n",
    "### Interpolation of discrete Census / TTS variables\n",
    "\n",
    "* discrete Census / TTS variables can be turned into continuous via interpolation\n",
    "* Teranet records can be matched to real recorded and interpolated values by year, or finer time scale\n",
    "    * benefits:\n",
    "        * most Teranet records used: all Teranet records within the Census / TTS range can be used (within the interpolation region)\n",
    "        * closest match: closest temporal match between Teranet records and Census / TTS variables\n",
    "        * precise, if correctly assessed: in the case where correct assumptions are made while interpolating values, the most precise match\n",
    "    * disadvantages\n",
    "        * more assumptions: assumtions need to be made about the dynamics of each Census / TTS variables between Census years\n",
    "        * inaccurate, if incorrectly assessed: in case of incorrect assumptions, there is a risk of lower accuracy compared with other matching methods\n",
    "        * interpolated rather then recorded: Teranet values from non-Census years will be matched to variables that are interpolated rather then recorded\n",
    "        * more data pre-processing needed: each Census / TTS variable needs to be processed in order to produce interpolated values\n",
    "        \n",
    "### Use \"adapter\" table with temporal spans for each Census / TTS survey\n",
    "\n",
    "* each Census / TTS survey can be assigned a temporal span of 5 years representing a group of Teranet records to which its variables can be matched\n",
    "* Teranet records are matched by year, each year would yield an appropriate Census or TTS variable from an appropriate temporal span\n",
    "* for example, the Census of 2016 would have a temporal span of 2014-2018, and thus a Teranet record from 2015 would be matched to variables from 2016 Census. Census of 1991 would have a temporal span of 1989-1993, and thus a Teranet record from 1993 would be matched with variables from 1991 Census.\n",
    "* TTS survey would be matched in a similar manner\n",
    "    * benefits:\n",
    "        * most Teranet records used: all Teranet / TTS records that fall within the specified temporal spans range can be matche to appropriate Census / TTS variables\n",
    "        * recorded rather than interpolated: Teranet records are matched to actual recorded Census / TTS values\n",
    "        * avoid interpolation assumptions: since no interpolation is performed, no additional assumptions are needed\n",
    "        * no additional data pre-processing: all matching is done through an \"adapter\" table, original Census / TTS variables do not need to be changed\n",
    "    * disadvantages:\n",
    "        * step-change in Census / TTS variables: when matchin Teranet sources from non-Census years, instead of using interpolation, same Census / TTS varibales are used for a group of 5 years centered at each Census year\n",
    "        * varying accuracy: accuracy of match further away from the Census years (+/- 2 years) probably will be lower. In addition, there would be a step change from every +2 to -2 Census year (i.e., 1998 to 1999)\n",
    "        * need \"adapter\" table: an additional \"adapter\" table specifying the matching groups of Census / TTS variables to years of Teranet records needs to be added to the database to facilitate temporal integrity of the joining operations\n",
    "\n",
    "## Temporal spans of data sources\n",
    "\n",
    "Temporal spans of data sources used in the proposed GTHA housing market database are presented in the table below (not including datasets prior to 1984):\n",
    "\n",
    "<img src=\"../../../methodology/2.scrub/temporal_spans.png\">\n",
    "\n",
    "## Import dependencies"
   ]
  },
  {
   "cell_type": "code",
   "execution_count": 1,
   "metadata": {},
   "outputs": [],
   "source": [
    "import pandas as pd\n",
    "import os"
   ]
  },
  {
   "cell_type": "markdown",
   "metadata": {},
   "source": [
    "## Construct the \"adapter\" table with temporal spans"
   ]
  },
  {
   "cell_type": "markdown",
   "metadata": {},
   "source": [
    "### Add primary key: range of years in Teranet records"
   ]
  },
  {
   "cell_type": "code",
   "execution_count": 2,
   "metadata": {},
   "outputs": [
    {
     "data": {
      "text/plain": [
       "0      1865\n",
       "1      1866\n",
       "2      1867\n",
       "3      1868\n",
       "4      1869\n",
       "       ... \n",
       "148    2013\n",
       "149    2014\n",
       "150    2015\n",
       "151    2016\n",
       "152    2017\n",
       "Name: year, Length: 153, dtype: int64"
      ]
     },
     "execution_count": 2,
     "metadata": {},
     "output_type": "execute_result"
    }
   ],
   "source": [
    "df = pd.DataFrame(data={'year': range(1865, 2018)})\n",
    "df['year']"
   ]
  },
  {
   "cell_type": "markdown",
   "metadata": {},
   "source": [
    "### Add foreign key: Census years"
   ]
  },
  {
   "cell_type": "code",
   "execution_count": 3,
   "metadata": {},
   "outputs": [
    {
     "data": {
      "text/plain": [
       "[1971, 1976, 1981, 1986, 1991, 1996, 2001, 2006, 2011, 2016]"
      ]
     },
     "execution_count": 3,
     "metadata": {},
     "output_type": "execute_result"
    }
   ],
   "source": [
    "min_year = 1971\n",
    "max_year = 2017\n",
    "census_years = list(range(min_year, max_year + 1, 5))\n",
    "census_years"
   ]
  },
  {
   "cell_type": "code",
   "execution_count": 5,
   "metadata": {},
   "outputs": [
    {
     "data": {
      "text/plain": [
       "1971.0    5\n",
       "1976.0    5\n",
       "1981.0    5\n",
       "1986.0    5\n",
       "1991.0    5\n",
       "1996.0    5\n",
       "2001.0    5\n",
       "2006.0    5\n",
       "2011.0    5\n",
       "2016.0    4\n",
       "Name: census_year, dtype: int64"
      ]
     },
     "execution_count": 5,
     "metadata": {},
     "output_type": "execute_result"
    }
   ],
   "source": [
    "for census_year in census_years:\n",
    "    mask1 = census_year - 2 <= df['year']\n",
    "    mask2 = df['year'] <= census_year + 2\n",
    "    df.loc[mask1 & mask2, 'census_year'] = census_year\n",
    "    \n",
    "df['census_year'].value_counts().sort_index()"
   ]
  },
  {
   "cell_type": "markdown",
   "metadata": {},
   "source": [
    "### Add foreign key: TTS years"
   ]
  },
  {
   "cell_type": "code",
   "execution_count": 7,
   "metadata": {},
   "outputs": [
    {
     "data": {
      "text/plain": [
       "[1986, 1991, 1996, 2001, 2006, 2011, 2016]"
      ]
     },
     "execution_count": 7,
     "metadata": {},
     "output_type": "execute_result"
    }
   ],
   "source": [
    "min_year = 1986\n",
    "max_year = 2017\n",
    "tts_years = list(range(min_year, max_year + 1, 5))\n",
    "tts_years"
   ]
  },
  {
   "cell_type": "code",
   "execution_count": 8,
   "metadata": {},
   "outputs": [
    {
     "data": {
      "text/plain": [
       "1986.0    5\n",
       "1991.0    5\n",
       "1996.0    5\n",
       "2001.0    5\n",
       "2006.0    5\n",
       "2011.0    5\n",
       "2016.0    4\n",
       "Name: tts_year, dtype: int64"
      ]
     },
     "execution_count": 8,
     "metadata": {},
     "output_type": "execute_result"
    }
   ],
   "source": [
    "for tts_year in tts_years:\n",
    "    mask1 = tts_year - 2 <= df['year']\n",
    "    mask2 = df['year'] <= tts_year + 2\n",
    "    df.loc[mask1 & mask2, 'tts_year'] = tts_year\n",
    "    \n",
    "df['tts_year'].value_counts().sort_index()"
   ]
  },
  {
   "cell_type": "markdown",
   "metadata": {},
   "source": [
    "## Save results to a .csv file"
   ]
  },
  {
   "cell_type": "code",
   "execution_count": 10,
   "metadata": {},
   "outputs": [
    {
     "data": {
      "text/html": [
       "<div>\n",
       "<style scoped>\n",
       "    .dataframe tbody tr th:only-of-type {\n",
       "        vertical-align: middle;\n",
       "    }\n",
       "\n",
       "    .dataframe tbody tr th {\n",
       "        vertical-align: top;\n",
       "    }\n",
       "\n",
       "    .dataframe thead th {\n",
       "        text-align: right;\n",
       "    }\n",
       "</style>\n",
       "<table border=\"1\" class=\"dataframe\">\n",
       "  <thead>\n",
       "    <tr style=\"text-align: right;\">\n",
       "      <th></th>\n",
       "      <th>year</th>\n",
       "      <th>census_year</th>\n",
       "      <th>tts_year</th>\n",
       "    </tr>\n",
       "  </thead>\n",
       "  <tbody>\n",
       "    <tr>\n",
       "      <th>148</th>\n",
       "      <td>2013</td>\n",
       "      <td>2011.0</td>\n",
       "      <td>2011.0</td>\n",
       "    </tr>\n",
       "    <tr>\n",
       "      <th>149</th>\n",
       "      <td>2014</td>\n",
       "      <td>2016.0</td>\n",
       "      <td>2016.0</td>\n",
       "    </tr>\n",
       "    <tr>\n",
       "      <th>150</th>\n",
       "      <td>2015</td>\n",
       "      <td>2016.0</td>\n",
       "      <td>2016.0</td>\n",
       "    </tr>\n",
       "    <tr>\n",
       "      <th>151</th>\n",
       "      <td>2016</td>\n",
       "      <td>2016.0</td>\n",
       "      <td>2016.0</td>\n",
       "    </tr>\n",
       "    <tr>\n",
       "      <th>152</th>\n",
       "      <td>2017</td>\n",
       "      <td>2016.0</td>\n",
       "      <td>2016.0</td>\n",
       "    </tr>\n",
       "  </tbody>\n",
       "</table>\n",
       "</div>"
      ],
      "text/plain": [
       "     year  census_year  tts_year\n",
       "148  2013       2011.0    2011.0\n",
       "149  2014       2016.0    2016.0\n",
       "150  2015       2016.0    2016.0\n",
       "151  2016       2016.0    2016.0\n",
       "152  2017       2016.0    2016.0"
      ]
     },
     "execution_count": 10,
     "metadata": {},
     "output_type": "execute_result"
    }
   ],
   "source": [
    "df.tail()"
   ]
  },
  {
   "cell_type": "code",
   "execution_count": 9,
   "metadata": {},
   "outputs": [
    {
     "name": "stdout",
     "output_type": "stream",
     "text": [
      "<class 'pandas.core.frame.DataFrame'>\n",
      "RangeIndex: 153 entries, 0 to 152\n",
      "Data columns (total 3 columns):\n",
      "year           153 non-null int64\n",
      "census_year    49 non-null float64\n",
      "tts_year       34 non-null float64\n",
      "dtypes: float64(2), int64(1)\n",
      "memory usage: 3.7 KB\n"
     ]
    }
   ],
   "source": [
    "df.info()"
   ]
  },
  {
   "cell_type": "code",
   "execution_count": 11,
   "metadata": {},
   "outputs": [
    {
     "data": {
      "text/plain": [
       "['Infl_adjustment.xlsx',\n",
       " 'temporal_spans.csv',\n",
       " 'fuel_prices_StatsCan.xlsx',\n",
       " 'Data_sources_years.xlsx',\n",
       " 'fuel_price.csv']"
      ]
     },
     "execution_count": 11,
     "metadata": {},
     "output_type": "execute_result"
    }
   ],
   "source": [
    "misc_data_path = '../../../data/misc/'\n",
    "os.listdir(misc_data_path)"
   ]
  },
  {
   "cell_type": "code",
   "execution_count": 12,
   "metadata": {},
   "outputs": [
    {
     "name": "stdout",
     "output_type": "stream",
     "text": [
      "DataFrame saved to file:\n",
      " ../../../data/misc/temporal_spans.csv\n"
     ]
    }
   ],
   "source": [
    "save_path = misc_data_path + 'temporal_spans.csv'\n",
    "df.to_csv(save_path, index=False)\n",
    "print(\"DataFrame saved to file:\\n\", save_path)"
   ]
  }
 ],
 "metadata": {
  "kernelspec": {
   "display_name": "Python 3",
   "language": "python",
   "name": "python3"
  },
  "language_info": {
   "codemirror_mode": {
    "name": "ipython",
    "version": 3
   },
   "file_extension": ".py",
   "mimetype": "text/x-python",
   "name": "python",
   "nbconvert_exporter": "python",
   "pygments_lexer": "ipython3",
   "version": "3.6.9"
  }
 },
 "nbformat": 4,
 "nbformat_minor": 2
}
