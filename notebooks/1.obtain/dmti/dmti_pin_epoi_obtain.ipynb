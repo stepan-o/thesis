{
 "cells": [
  {
   "cell_type": "markdown",
   "metadata": {},
   "source": [
    "# GTHA housing market database\n",
    "# OSEMN methodology Step 1: Obtain\n",
    "# Obtain Enhanced Points of Interest (EPOI) data from DMTI\n",
    "\n",
    "\n",
    "---\n",
    "\n",
    "This notebook describes _Step 1: Obtain_ of OSEMN methodology, the process of obtaining of Forward Sortation Areas (FSA) from the Platinum Postal Code Suite created by DMTI Spatial Inc.\n",
    "\n",
    "\n",
    "Files used in this notebook are downloaded from the [Map and Data Library database](https://mdl.library.utoronto.ca/collections/geospatial-data/platinum-postal-code-suite-4) of the University of Toronto.\n",
    "\n",
    "## Enhanced Points of Interest (EPOI)\n",
    "[McGill library](https://www.mcgill.ca/library/find/maps/epoi):\n",
    "The Enhanced Points of Interest files are produced by DMTI Spatial Inc. The Enhanced Points of Interest (EPOI) file is a national database of over 1 million Canadian business and recreational points of interest. Engineered using CanMap® Streetfiles, each EPOI has been accurately geocoded and precisely placed. This location enriched point of interest database allows users to see and analyze selected point of interest data in a given geographic area, enabling applications such as retail site analysis, competitive and market research, business and tourism analysis. Features Include: Coordinate location (X, Y), Standard industry classification code (SIC), Business or recreational names with address information, and Common Address Flags (CAF) allowing users to identify records with identical addresses. It is recommended to use this with the dataset with CanMap Streetfiles (DMTI).\n",
    "\n",
    "---\n",
    "\n",
    "For description of OSEMN methodology, see `methodology/0.osemn/osemn.pdf`.\n",
    "\n",
    "## Import dependencies"
   ]
  },
  {
   "cell_type": "code",
   "execution_count": 1,
   "metadata": {
    "pycharm": {
     "name": "#%%\n"
    }
   },
   "outputs": [],
   "source": [
    "%matplotlib inline\n",
    "import pandas as pd \n",
    "import geopandas as gpd\n",
    "import os\n",
    "from time import time"
   ]
  },
  {
   "cell_type": "code",
   "execution_count": 2,
   "metadata": {},
   "outputs": [
    {
     "data": {
      "text/plain": [
       "['epoi_gtha13.sbx',\n",
       " 'epoi_gtha13.sbn',\n",
       " 'epoi_gtha13.dbf',\n",
       " 'epoi_gtha13.shp.xml',\n",
       " 'epoi_gtha13.cpg',\n",
       " 'epoi_descriptions',\n",
       " 'epoi_gtha13.shp',\n",
       " 'epoi_gtha13.prj',\n",
       " 'epoi_gtha13.shx']"
      ]
     },
     "execution_count": 2,
     "metadata": {},
     "output_type": "execute_result"
    }
   ],
   "source": [
    "epoi_path = '../../../data/dmti/epoi_gtha13/'\n",
    "os.listdir(epoi_path)"
   ]
  },
  {
   "cell_type": "markdown",
   "metadata": {},
   "source": [
    "## Load geometry of Enhanced Points of Interest (EPOI)"
   ]
  },
  {
   "cell_type": "code",
   "execution_count": 3,
   "metadata": {
    "pycharm": {
     "name": "#%%\n"
    }
   },
   "outputs": [
    {
     "name": "stdout",
     "output_type": "stream",
     "text": [
      "----- GeoDataFrame loaded\n",
      "in 38.55 seconds (0.64 minutes)\n",
      "with 317,874 rows\n",
      "and 38 columns\n",
      "-- Column names:\n",
      " Index(['OBJECTID', 'POI_ID', 'NAME', 'UNIT_SUITE', 'ADDRESS', 'DELIV_MODE',\n",
      "       'CITY', 'MAF', 'PROV', 'POST_CODE', 'LOCATION', 'PHONE', 'FAX',\n",
      "       'TOLL_FREE', 'WEBSITE', 'EPOI_TYPE', 'CAF', 'SIC_1', 'SIC_2', 'SIC_3',\n",
      "       'SIC_4', 'SIC_5', 'SIC_6', 'NAICS_1', 'NAICS_2', 'NAICS_3', 'NAICS_4',\n",
      "       'NAICS_5', 'SIC_MJ_GRP', 'SIC_DIV', 'X', 'Y', 'PREC_CODE', 'ATTRIBCODE',\n",
      "       'STATUS', 'COMM_NAME', 'GRP_IND', 'geometry'],\n",
      "      dtype='object')\n"
     ]
    },
    {
     "data": {
      "image/png": "[encoded data removed]",
      "text/plain": [
       "<Figure size 432x288 with 1 Axes>"
      ]
     },
     "metadata": {
      "needs_background": "light"
     },
     "output_type": "display_data"
    }
   ],
   "source": [
    "t = time()\n",
    "epoi_gdf = gpd.read_file(epoi_path + 'epoi_gtha13.shp')\n",
    "epoi_gdf['SIC_MJ_GRP'] = epoi_gdf['SIC_MJ_GRP'].astype('int')\n",
    "elapsed = time() - t\n",
    "\n",
    "print(\"----- GeoDataFrame loaded\"\n",
    "      \"\\nin {0:.2f} seconds ({1:.2f} minutes)\".format(elapsed, elapsed / 60) + \n",
    "      \"\\nwith {0:,} rows\\nand {1:,} columns\"\n",
    "      .format(epoi_gdf.shape[0], epoi_gdf.shape[1]) + \n",
    "      \"\\n-- Column names:\\n\", epoi_gdf.columns)\n",
    "\n",
    "epoi_gdf.plot();"
   ]
  },
  {
   "cell_type": "code",
   "execution_count": 4,
   "metadata": {},
   "outputs": [
    {
     "name": "stdout",
     "output_type": "stream",
     "text": [
      "<class 'geopandas.geodataframe.GeoDataFrame'>\n",
      "RangeIndex: 317874 entries, 0 to 317873\n",
      "Data columns (total 38 columns):\n",
      "OBJECTID      317874 non-null int64\n",
      "POI_ID        317874 non-null object\n",
      "NAME          317864 non-null object\n",
      "UNIT_SUITE    6175 non-null object\n",
      "ADDRESS       290169 non-null object\n",
      "DELIV_MODE    503 non-null object\n",
      "CITY          317874 non-null object\n",
      "MAF           317874 non-null object\n",
      "PROV          317874 non-null object\n",
      "POST_CODE     271121 non-null object\n",
      "LOCATION      481 non-null object\n",
      "PHONE         300494 non-null object\n",
      "FAX           44820 non-null object\n",
      "TOLL_FREE     20244 non-null object\n",
      "WEBSITE       48127 non-null object\n",
      "EPOI_TYPE     20470 non-null object\n",
      "CAF           216613 non-null object\n",
      "SIC_1         317874 non-null object\n",
      "SIC_2         317874 non-null object\n",
      "SIC_3         317874 non-null object\n",
      "SIC_4         317874 non-null object\n",
      "SIC_5         317874 non-null object\n",
      "SIC_6         317874 non-null object\n",
      "NAICS_1       317874 non-null object\n",
      "NAICS_2       317874 non-null object\n",
      "NAICS_3       317874 non-null object\n",
      "NAICS_4       317874 non-null object\n",
      "NAICS_5       317874 non-null object\n",
      "SIC_MJ_GRP    317874 non-null int64\n",
      "SIC_DIV       317874 non-null object\n",
      "X             317874 non-null float64\n",
      "Y             317874 non-null float64\n",
      "PREC_CODE     317874 non-null object\n",
      "ATTRIBCODE    317874 non-null object\n",
      "STATUS        5479 non-null object\n",
      "COMM_NAME     0 non-null object\n",
      "GRP_IND       9859 non-null object\n",
      "geometry      317874 non-null object\n",
      "dtypes: float64(2), int64(2), object(34)\n",
      "memory usage: 92.2+ MB\n"
     ]
    }
   ],
   "source": [
    "epoi_gdf.info()"
   ]
  },
  {
   "cell_type": "markdown",
   "metadata": {},
   "source": [
    "## Find candidate keys"
   ]
  },
  {
   "cell_type": "code",
   "execution_count": 5,
   "metadata": {},
   "outputs": [
    {
     "data": {
      "text/plain": [
       "317874"
      ]
     },
     "execution_count": 5,
     "metadata": {},
     "output_type": "execute_result"
    }
   ],
   "source": [
    "epoi_gdf['POI_ID'].nunique()"
   ]
  },
  {
   "cell_type": "code",
   "execution_count": 6,
   "metadata": {},
   "outputs": [
    {
     "data": {
      "text/plain": [
       "317874"
      ]
     },
     "execution_count": 6,
     "metadata": {},
     "output_type": "execute_result"
    }
   ],
   "source": [
    "len(epoi_gdf)"
   ]
  },
  {
   "cell_type": "markdown",
   "metadata": {},
   "source": [
    "## Add description columns for SIC Divisions and Major Groups"
   ]
  },
  {
   "cell_type": "markdown",
   "metadata": {},
   "source": [
    "### Read descriptions from files"
   ]
  },
  {
   "cell_type": "code",
   "execution_count": 7,
   "metadata": {},
   "outputs": [
    {
     "data": {
      "text/plain": [
       "['SIC_MJGRP_DESC.TXT', 'SIC_DIV_DESC.TXT']"
      ]
     },
     "execution_count": 7,
     "metadata": {},
     "output_type": "execute_result"
    }
   ],
   "source": [
    "desc_path = epoi_path + 'epoi_descriptions/'\n",
    "os.listdir(desc_path)"
   ]
  },
  {
   "cell_type": "code",
   "execution_count": 8,
   "metadata": {},
   "outputs": [
    {
     "name": "stdout",
     "output_type": "stream",
     "text": [
      "<class 'pandas.core.frame.DataFrame'>\n",
      "RangeIndex: 85 entries, 0 to 84\n",
      "Data columns (total 2 columns):\n",
      "MAJOR_GROUP    85 non-null int64\n",
      "DESCRIPTION    85 non-null object\n",
      "dtypes: int64(1), object(1)\n",
      "memory usage: 1.5+ KB\n",
      "None\n"
     ]
    },
    {
     "data": {
      "text/html": [
       "<div>\n",
       "<style scoped>\n",
       "    .dataframe tbody tr th:only-of-type {\n",
       "        vertical-align: middle;\n",
       "    }\n",
       "\n",
       "    .dataframe tbody tr th {\n",
       "        vertical-align: top;\n",
       "    }\n",
       "\n",
       "    .dataframe thead th {\n",
       "        text-align: right;\n",
       "    }\n",
       "</style>\n",
       "<table border=\"1\" class=\"dataframe\">\n",
       "  <thead>\n",
       "    <tr style=\"text-align: right;\">\n",
       "      <th></th>\n",
       "      <th>MAJOR_GROUP</th>\n",
       "      <th>DESCRIPTION</th>\n",
       "    </tr>\n",
       "  </thead>\n",
       "  <tbody>\n",
       "    <tr>\n",
       "      <th>0</th>\n",
       "      <td>1</td>\n",
       "      <td>AGRICULTURAL PRODUCTION CROPS</td>\n",
       "    </tr>\n",
       "    <tr>\n",
       "      <th>1</th>\n",
       "      <td>2</td>\n",
       "      <td>AGRICULTURAL PRODUCTION LIVESTOCK AND ANIMAL S...</td>\n",
       "    </tr>\n",
       "    <tr>\n",
       "      <th>2</th>\n",
       "      <td>7</td>\n",
       "      <td>AGRICULTURAL SERVICES</td>\n",
       "    </tr>\n",
       "    <tr>\n",
       "      <th>3</th>\n",
       "      <td>8</td>\n",
       "      <td>FORESTRY</td>\n",
       "    </tr>\n",
       "    <tr>\n",
       "      <th>4</th>\n",
       "      <td>9</td>\n",
       "      <td>FISHING, HUNTING, AND TRAPPING</td>\n",
       "    </tr>\n",
       "  </tbody>\n",
       "</table>\n",
       "</div>"
      ],
      "text/plain": [
       "   MAJOR_GROUP                                        DESCRIPTION\n",
       "0            1                     AGRICULTURAL PRODUCTION CROPS \n",
       "1            2  AGRICULTURAL PRODUCTION LIVESTOCK AND ANIMAL S...\n",
       "2            7                              AGRICULTURAL SERVICES\n",
       "3            8                                           FORESTRY\n",
       "4            9                     FISHING, HUNTING, AND TRAPPING"
      ]
     },
     "execution_count": 8,
     "metadata": {},
     "output_type": "execute_result"
    }
   ],
   "source": [
    "mjgrp_path = desc_path + 'SIC_MJGRP_DESC.TXT'\n",
    "mjgrp_df = pd.read_csv(mjgrp_path)\n",
    "print(mjgrp_df.info())\n",
    "mjgrp_df.head()"
   ]
  },
  {
   "cell_type": "code",
   "execution_count": 9,
   "metadata": {},
   "outputs": [
    {
     "name": "stdout",
     "output_type": "stream",
     "text": [
      "<class 'pandas.core.frame.DataFrame'>\n",
      "RangeIndex: 11 entries, 0 to 10\n",
      "Data columns (total 2 columns):\n",
      "DIVISION       11 non-null object\n",
      "DESCRIPTION    11 non-null object\n",
      "dtypes: object(2)\n",
      "memory usage: 304.0+ bytes\n",
      "None\n"
     ]
    },
    {
     "data": {
      "text/html": [
       "<div>\n",
       "<style scoped>\n",
       "    .dataframe tbody tr th:only-of-type {\n",
       "        vertical-align: middle;\n",
       "    }\n",
       "\n",
       "    .dataframe tbody tr th {\n",
       "        vertical-align: top;\n",
       "    }\n",
       "\n",
       "    .dataframe thead th {\n",
       "        text-align: right;\n",
       "    }\n",
       "</style>\n",
       "<table border=\"1\" class=\"dataframe\">\n",
       "  <thead>\n",
       "    <tr style=\"text-align: right;\">\n",
       "      <th></th>\n",
       "      <th>DIVISION</th>\n",
       "      <th>DESCRIPTION</th>\n",
       "    </tr>\n",
       "  </thead>\n",
       "  <tbody>\n",
       "    <tr>\n",
       "      <th>0</th>\n",
       "      <td>A</td>\n",
       "      <td>AGRICULTURE, FORESTRY, AND FISHING</td>\n",
       "    </tr>\n",
       "    <tr>\n",
       "      <th>1</th>\n",
       "      <td>B</td>\n",
       "      <td>MINING</td>\n",
       "    </tr>\n",
       "    <tr>\n",
       "      <th>2</th>\n",
       "      <td>C</td>\n",
       "      <td>CONSTRUCTION</td>\n",
       "    </tr>\n",
       "    <tr>\n",
       "      <th>3</th>\n",
       "      <td>D</td>\n",
       "      <td>MANUFACTURING</td>\n",
       "    </tr>\n",
       "    <tr>\n",
       "      <th>4</th>\n",
       "      <td>E</td>\n",
       "      <td>TRANSPORTATION, COMMUNICATIONS, ELECTRIC, GAS,...</td>\n",
       "    </tr>\n",
       "  </tbody>\n",
       "</table>\n",
       "</div>"
      ],
      "text/plain": [
       "  DIVISION                                        DESCRIPTION\n",
       "0        A                AGRICULTURE, FORESTRY, AND FISHING \n",
       "1        B                                            MINING \n",
       "2        C                                       CONSTRUCTION\n",
       "3        D                                     MANUFACTURING \n",
       "4        E  TRANSPORTATION, COMMUNICATIONS, ELECTRIC, GAS,..."
      ]
     },
     "execution_count": 9,
     "metadata": {},
     "output_type": "execute_result"
    }
   ],
   "source": [
    "div_path = desc_path + 'SIC_DIV_DESC.TXT'\n",
    "div_df = pd.read_csv(div_path)\n",
    "print(div_df.info())\n",
    "div_df.head()"
   ]
  },
  {
   "cell_type": "markdown",
   "metadata": {},
   "source": [
    "### Join descriptions to EPOI GeoDataFrame"
   ]
  },
  {
   "cell_type": "code",
   "execution_count": 10,
   "metadata": {},
   "outputs": [
    {
     "data": {
      "text/html": [
       "<div>\n",
       "<style scoped>\n",
       "    .dataframe tbody tr th:only-of-type {\n",
       "        vertical-align: middle;\n",
       "    }\n",
       "\n",
       "    .dataframe tbody tr th {\n",
       "        vertical-align: top;\n",
       "    }\n",
       "\n",
       "    .dataframe thead th {\n",
       "        text-align: right;\n",
       "    }\n",
       "</style>\n",
       "<table border=\"1\" class=\"dataframe\">\n",
       "  <thead>\n",
       "    <tr style=\"text-align: right;\">\n",
       "      <th></th>\n",
       "      <th>SIC_MJ_GRP</th>\n",
       "      <th>MJGRP_DESC</th>\n",
       "      <th>SIC_DIV</th>\n",
       "      <th>DIV_DESC</th>\n",
       "    </tr>\n",
       "  </thead>\n",
       "  <tbody>\n",
       "    <tr>\n",
       "      <th>0</th>\n",
       "      <td>72</td>\n",
       "      <td>PERSONAL SERVICES</td>\n",
       "      <td>I</td>\n",
       "      <td>SERVICES</td>\n",
       "    </tr>\n",
       "    <tr>\n",
       "      <th>1</th>\n",
       "      <td>76</td>\n",
       "      <td>MISCELLANEOUS REPAIR SERVICES</td>\n",
       "      <td>I</td>\n",
       "      <td>SERVICES</td>\n",
       "    </tr>\n",
       "    <tr>\n",
       "      <th>2</th>\n",
       "      <td>81</td>\n",
       "      <td>LEGAL SERVICES</td>\n",
       "      <td>I</td>\n",
       "      <td>SERVICES</td>\n",
       "    </tr>\n",
       "    <tr>\n",
       "      <th>3</th>\n",
       "      <td>73</td>\n",
       "      <td>BUSINESS SERVICES</td>\n",
       "      <td>I</td>\n",
       "      <td>SERVICES</td>\n",
       "    </tr>\n",
       "    <tr>\n",
       "      <th>4</th>\n",
       "      <td>59</td>\n",
       "      <td>MISCELLANEOUS RETAIL</td>\n",
       "      <td>G</td>\n",
       "      <td>RETAIL TRADE</td>\n",
       "    </tr>\n",
       "  </tbody>\n",
       "</table>\n",
       "</div>"
      ],
      "text/plain": [
       "   SIC_MJ_GRP                      MJGRP_DESC SIC_DIV       DIV_DESC\n",
       "0          72              PERSONAL SERVICES        I      SERVICES \n",
       "1          76  MISCELLANEOUS REPAIR SERVICES        I      SERVICES \n",
       "2          81                 LEGAL SERVICES        I      SERVICES \n",
       "3          73               BUSINESS SERVICES       I      SERVICES \n",
       "4          59           MISCELLANEOUS RETAIL        G  RETAIL TRADE "
      ]
     },
     "execution_count": 10,
     "metadata": {},
     "output_type": "execute_result"
    }
   ],
   "source": [
    "epoi_crs = epoi_gdf.crs\n",
    "epoi_gdf = pd.merge(epoi_gdf, mjgrp_df, left_on='SIC_MJ_GRP', right_on='MAJOR_GROUP', how='left')\n",
    "epoi_gdf = epoi_gdf.drop('MAJOR_GROUP', axis=1).rename(columns={'DESCRIPTION': 'MJGRP_DESC'})\n",
    "epoi_gdf = pd.merge(epoi_gdf, div_df, left_on='SIC_DIV', right_on='DIVISION', how='left')\n",
    "epoi_gdf = epoi_gdf.drop('DIVISION', axis=1).rename(columns={'DESCRIPTION': 'DIV_DESC'})\n",
    "epoi_gdf[['SIC_MJ_GRP', 'MJGRP_DESC', 'SIC_DIV', 'DIV_DESC']].head()"
   ]
  },
  {
   "cell_type": "markdown",
   "metadata": {
    "pycharm": {
     "name": "#%% md\n"
    }
   },
   "source": [
    "## Save results to a .csv file"
   ]
  },
  {
   "cell_type": "code",
   "execution_count": 11,
   "metadata": {
    "pycharm": {
     "name": "#%%\n"
    }
   },
   "outputs": [
    {
     "name": "stdout",
     "output_type": "stream",
     "text": [
      "DataFrame saved to file:\n",
      " ../../../data/dmti/epoi_gtha13/../dmti_epoi_gtha13.csv \n",
      "took 22.40 seconds (0.37 minutes)\n"
     ]
    }
   ],
   "source": [
    "save_path = epoi_path + '../dmti_epoi_gtha13.csv'\n",
    "t = time()\n",
    "epoi_gdf.to_csv(save_path, index=False)\n",
    "elapsed = time() - t\n",
    "print(\"DataFrame saved to file:\\n\", save_path,\n",
    "      \"\\ntook {0:.2f} seconds ({1:,.2f} minutes)\".format(elapsed, elapsed / 60))"
   ]
  }
 ],
 "metadata": {
  "kernelspec": {
   "display_name": "Python 3",
   "language": "python",
   "name": "python3"
  },
  "language_info": {
   "codemirror_mode": {
    "name": "ipython",
    "version": 3
   },
   "file_extension": ".py",
   "mimetype": "text/x-python",
   "name": "python",
   "nbconvert_exporter": "python",
   "pygments_lexer": "ipython3",
   "version": "3.6.9"
  },
  "pycharm": {
   "stem_cell": {
    "cell_type": "raw",
    "metadata": {
     "collapsed": false
    },
    "source": []
   }
  }
 },
 "nbformat": 4,
 "nbformat_minor": 1
}
