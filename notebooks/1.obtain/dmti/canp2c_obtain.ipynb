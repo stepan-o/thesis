{
 "cells": [
  {
   "cell_type": "markdown",
   "metadata": {},
   "source": [
    "# GTHA housing market database\n",
    "# OSEMN methodology Step 1: Obtain\n",
    "# Obtain Postal Geography to census conversion\n",
    "# from Platinum Postal Code Suite from DMTI\n",
    "\n",
    "---\n",
    "\n",
    "This notebook describes _Step 1: Obtain_ of OSEMN methodology, the process of obtaining Postal Geography to census conversion from the Platinum Postal Code Suite created by DMTI Spatial Inc.\n",
    "\n",
    "\n",
    "Files used in this notebook are downloaded from the [Map and Data Library database](https://mdl.library.utoronto.ca/collections/geospatial-data/platinum-postal-code-suite-4) of the University of Toronto.\n",
    "\n",
    "---\n",
    "\n",
    "For description of OSEMN methodology, see `methodology/0.osemn/osemn.pdf`.\n",
    "\n",
    "## Import dependencies"
   ]
  },
  {
   "cell_type": "code",
   "execution_count": 2,
   "metadata": {
    "pycharm": {
     "name": "#%%\n"
    }
   },
   "outputs": [],
   "source": [
    "import pandas as pd\n",
    "import os\n",
    "from time import time\n",
    "from simpledbf import Dbf5"
   ]
  },
  {
   "cell_type": "code",
   "execution_count": 3,
   "metadata": {},
   "outputs": [
    {
     "data": {
      "text/plain": [
       "['CANp2c.zip', 'CANfsa.zip', 'CANp2c', 'ONldu', 'ONldu.zip', 'CANfsa']"
      ]
     },
     "execution_count": 3,
     "metadata": {},
     "output_type": "execute_result"
    }
   ],
   "source": [
    "data_path = '../../data/dmti/'\n",
    "os.listdir(data_path)"
   ]
  },
  {
   "cell_type": "code",
   "execution_count": 5,
   "metadata": {},
   "outputs": [
    {
     "data": {
      "text/plain": [
       "['CANp2c.dbf.xml',\n",
       " 'CANp2c_retired.htm',\n",
       " 'CANp2c.dbf',\n",
       " 'CANp2c.htm',\n",
       " 'CANp2c_retired.dbf.xml',\n",
       " 'CANp2c_retired.dbf']"
      ]
     },
     "execution_count": 5,
     "metadata": {},
     "output_type": "execute_result"
    }
   ],
   "source": [
    "canp2c_path = data_path + 'CANp2c/'\n",
    "os.listdir(canp2c_path)"
   ]
  },
  {
   "cell_type": "markdown",
   "metadata": {},
   "source": [
    "## Load Postal Geography to census conversion"
   ]
  },
  {
   "cell_type": "code",
   "execution_count": 6,
   "metadata": {
    "pycharm": {
     "name": "#%%\n"
    }
   },
   "outputs": [
    {
     "name": "stdout",
     "output_type": "stream",
     "text": [
      "----- DataFrame loaded\n",
      "in 58.22 seconds (0.97 minutes)\n",
      "with 1,944,698 rows\n",
      "and 18 columns\n",
      "-- Column names:\n",
      " Index(['MEP_ID', 'PRFEDEA_96', 'PRCDDA_01', 'PRCDDA_06', 'PRCDDA_11',\n",
      "       'CMACT_96', 'CTNAME_01', 'CTNAME_06', 'CTNAME_11', 'PRCDCSD_96',\n",
      "       'PRCDCSD_01', 'PRCDCSD_06', 'PRCDCSD_11', 'PRCD_96', 'PRCD_01',\n",
      "       'PRCD_06', 'PRCD_11', 'PROV'],\n",
      "      dtype='object')\n"
     ]
    }
   ],
   "source": [
    "t = time()\n",
    "canp2c_dbf = Dbf5(canp2c_path + 'CANp2c.dbf')\n",
    "canp2c_df = canp2c_dbf.to_dataframe()\n",
    "elapsed = time() - t\n",
    "\n",
    "print(\"----- DataFrame loaded\"\n",
    "      \"\\nin {0:.2f} seconds ({1:.2f} minutes)\".format(elapsed, elapsed / 60) + \n",
    "      \"\\nwith {0:,} rows\\nand {1:,} columns\"\n",
    "      .format(canp2c_df.shape[0], canp2c_df.shape[1]) + \n",
    "      \"\\n-- Column names:\\n\", canp2c_df.columns)"
   ]
  },
  {
   "cell_type": "code",
   "execution_count": 8,
   "metadata": {},
   "outputs": [
    {
     "data": {
      "text/plain": [
       "ON    678218\n",
       "QC    546792\n",
       "BC    253887\n",
       "AB    179318\n",
       "NB     92113\n",
       "NS     82442\n",
       "MB     39484\n",
       "SK     35882\n",
       "NL     20800\n",
       "PE     12755\n",
       "YT      1903\n",
       "NT      1066\n",
       "NU        38\n",
       "Name: PROV, dtype: int64"
      ]
     },
     "execution_count": 8,
     "metadata": {},
     "output_type": "execute_result"
    }
   ],
   "source": [
    "canp2c_df['PROV'].value_counts()"
   ]
  },
  {
   "cell_type": "code",
   "execution_count": 10,
   "metadata": {},
   "outputs": [
    {
     "name": "stdout",
     "output_type": "stream",
     "text": [
      "678,218 records in the subset.\n"
     ]
    }
   ],
   "source": [
    "onp2c_df = canp2c_df.query('PROV == \"ON\"')\n",
    "print(\"{0:,} records in the subset.\".format(len(onp2c_df)))"
   ]
  },
  {
   "cell_type": "code",
   "execution_count": 12,
   "metadata": {},
   "outputs": [
    {
     "data": {
      "text/html": [
       "<div>\n",
       "<style scoped>\n",
       "    .dataframe tbody tr th:only-of-type {\n",
       "        vertical-align: middle;\n",
       "    }\n",
       "\n",
       "    .dataframe tbody tr th {\n",
       "        vertical-align: top;\n",
       "    }\n",
       "\n",
       "    .dataframe thead th {\n",
       "        text-align: right;\n",
       "    }\n",
       "</style>\n",
       "<table border=\"1\" class=\"dataframe\">\n",
       "  <thead>\n",
       "    <tr style=\"text-align: right;\">\n",
       "      <th></th>\n",
       "      <th>MEP_ID</th>\n",
       "      <th>PRFEDEA_96</th>\n",
       "      <th>PRCDDA_01</th>\n",
       "      <th>PRCDDA_06</th>\n",
       "      <th>PRCDDA_11</th>\n",
       "      <th>CMACT_96</th>\n",
       "      <th>CTNAME_01</th>\n",
       "      <th>CTNAME_06</th>\n",
       "      <th>CTNAME_11</th>\n",
       "      <th>PRCDCSD_96</th>\n",
       "      <th>PRCDCSD_01</th>\n",
       "      <th>PRCDCSD_06</th>\n",
       "      <th>PRCDCSD_11</th>\n",
       "      <th>PRCD_96</th>\n",
       "      <th>PRCD_01</th>\n",
       "      <th>PRCD_06</th>\n",
       "      <th>PRCD_11</th>\n",
       "      <th>PROV</th>\n",
       "    </tr>\n",
       "  </thead>\n",
       "  <tbody>\n",
       "    <tr>\n",
       "      <th>5651</th>\n",
       "      <td>7956353</td>\n",
       "      <td>35056253</td>\n",
       "      <td>35180367</td>\n",
       "      <td>35180367</td>\n",
       "      <td>35180367</td>\n",
       "      <td>5350812.00</td>\n",
       "      <td>5350812.00</td>\n",
       "      <td>5350812.00</td>\n",
       "      <td>5350812.00</td>\n",
       "      <td>3518005</td>\n",
       "      <td>3518005</td>\n",
       "      <td>3518005</td>\n",
       "      <td>3518005</td>\n",
       "      <td>3518</td>\n",
       "      <td>3518</td>\n",
       "      <td>3518</td>\n",
       "      <td>3518</td>\n",
       "      <td>ON</td>\n",
       "    </tr>\n",
       "    <tr>\n",
       "      <th>5652</th>\n",
       "      <td>7956354</td>\n",
       "      <td>35056104</td>\n",
       "      <td>35180591</td>\n",
       "      <td>35180591</td>\n",
       "      <td>35180591</td>\n",
       "      <td>5350805.01</td>\n",
       "      <td>5350805.04</td>\n",
       "      <td>5350805.04</td>\n",
       "      <td>5350805.04</td>\n",
       "      <td>3518005</td>\n",
       "      <td>3518005</td>\n",
       "      <td>3518005</td>\n",
       "      <td>3518005</td>\n",
       "      <td>3518</td>\n",
       "      <td>3518</td>\n",
       "      <td>3518</td>\n",
       "      <td>3518</td>\n",
       "      <td>ON</td>\n",
       "    </tr>\n",
       "    <tr>\n",
       "      <th>5653</th>\n",
       "      <td>7956355</td>\n",
       "      <td>35056458</td>\n",
       "      <td>35180355</td>\n",
       "      <td>35180887</td>\n",
       "      <td>35180887</td>\n",
       "      <td>5350806.00</td>\n",
       "      <td>5350805.07</td>\n",
       "      <td>5350805.08</td>\n",
       "      <td>5350805.08</td>\n",
       "      <td>3518005</td>\n",
       "      <td>3518005</td>\n",
       "      <td>3518005</td>\n",
       "      <td>3518005</td>\n",
       "      <td>3518</td>\n",
       "      <td>3518</td>\n",
       "      <td>3518</td>\n",
       "      <td>3518</td>\n",
       "      <td>ON</td>\n",
       "    </tr>\n",
       "    <tr>\n",
       "      <th>5654</th>\n",
       "      <td>7956356</td>\n",
       "      <td>35056104</td>\n",
       "      <td>35180591</td>\n",
       "      <td>35180591</td>\n",
       "      <td>35180591</td>\n",
       "      <td>5350805.01</td>\n",
       "      <td>5350805.04</td>\n",
       "      <td>5350805.04</td>\n",
       "      <td>5350805.04</td>\n",
       "      <td>3518005</td>\n",
       "      <td>3518005</td>\n",
       "      <td>3518005</td>\n",
       "      <td>3518005</td>\n",
       "      <td>3518</td>\n",
       "      <td>3518</td>\n",
       "      <td>3518</td>\n",
       "      <td>3518</td>\n",
       "      <td>ON</td>\n",
       "    </tr>\n",
       "    <tr>\n",
       "      <th>5655</th>\n",
       "      <td>7956358</td>\n",
       "      <td>35079106</td>\n",
       "      <td>35430312</td>\n",
       "      <td>35430827</td>\n",
       "      <td>35430827</td>\n",
       "      <td>5350485.00</td>\n",
       "      <td>5350485.02</td>\n",
       "      <td>5350485.02</td>\n",
       "      <td>5350485.02</td>\n",
       "      <td>3543007</td>\n",
       "      <td>3543007</td>\n",
       "      <td>3543007</td>\n",
       "      <td>3543007</td>\n",
       "      <td>3543</td>\n",
       "      <td>3543</td>\n",
       "      <td>3543</td>\n",
       "      <td>3543</td>\n",
       "      <td>ON</td>\n",
       "    </tr>\n",
       "  </tbody>\n",
       "</table>\n",
       "</div>"
      ],
      "text/plain": [
       "       MEP_ID PRFEDEA_96 PRCDDA_01 PRCDDA_06 PRCDDA_11    CMACT_96  \\\n",
       "5651  7956353   35056253  35180367  35180367  35180367  5350812.00   \n",
       "5652  7956354   35056104  35180591  35180591  35180591  5350805.01   \n",
       "5653  7956355   35056458  35180355  35180887  35180887  5350806.00   \n",
       "5654  7956356   35056104  35180591  35180591  35180591  5350805.01   \n",
       "5655  7956358   35079106  35430312  35430827  35430827  5350485.00   \n",
       "\n",
       "       CTNAME_01   CTNAME_06   CTNAME_11 PRCDCSD_96 PRCDCSD_01 PRCDCSD_06  \\\n",
       "5651  5350812.00  5350812.00  5350812.00    3518005    3518005    3518005   \n",
       "5652  5350805.04  5350805.04  5350805.04    3518005    3518005    3518005   \n",
       "5653  5350805.07  5350805.08  5350805.08    3518005    3518005    3518005   \n",
       "5654  5350805.04  5350805.04  5350805.04    3518005    3518005    3518005   \n",
       "5655  5350485.02  5350485.02  5350485.02    3543007    3543007    3543007   \n",
       "\n",
       "     PRCDCSD_11 PRCD_96 PRCD_01 PRCD_06 PRCD_11 PROV  \n",
       "5651    3518005    3518    3518    3518    3518   ON  \n",
       "5652    3518005    3518    3518    3518    3518   ON  \n",
       "5653    3518005    3518    3518    3518    3518   ON  \n",
       "5654    3518005    3518    3518    3518    3518   ON  \n",
       "5655    3543007    3543    3543    3543    3543   ON  "
      ]
     },
     "execution_count": 12,
     "metadata": {},
     "output_type": "execute_result"
    }
   ],
   "source": [
    "onp2c_df.head()"
   ]
  },
  {
   "cell_type": "markdown",
   "metadata": {
    "pycharm": {
     "name": "#%% md\n"
    }
   },
   "source": [
    "## Save results to a .csv file"
   ]
  },
  {
   "cell_type": "code",
   "execution_count": 11,
   "metadata": {
    "pycharm": {
     "name": "#%%\n"
    }
   },
   "outputs": [
    {
     "name": "stdout",
     "output_type": "stream",
     "text": [
      "DataFrame saved to file:\n",
      " ../../data/dmti/onp2c.csv \n",
      "took 7.16 seconds (0.12 minutes)\n"
     ]
    }
   ],
   "source": [
    "save_path = data_path + 'onp2c.csv'\n",
    "t = time()\n",
    "onp2c_df.to_csv(save_path, index=False)\n",
    "elapsed = time() - t\n",
    "print(\"DataFrame saved to file:\\n\", save_path,\n",
    "      \"\\ntook {0:.2f} seconds ({1:,.2f} minutes)\".format(elapsed, elapsed / 60))"
   ]
  }
 ],
 "metadata": {
  "kernelspec": {
   "display_name": "Python 3",
   "language": "python",
   "name": "python3"
  },
  "language_info": {
   "codemirror_mode": {
    "name": "ipython",
    "version": 3
   },
   "file_extension": ".py",
   "mimetype": "text/x-python",
   "name": "python",
   "nbconvert_exporter": "python",
   "pygments_lexer": "ipython3",
   "version": "3.6.9"
  },
  "pycharm": {
   "stem_cell": {
    "cell_type": "raw",
    "metadata": {
     "collapsed": false
    },
    "source": []
   }
  }
 },
 "nbformat": 4,
 "nbformat_minor": 1
}
