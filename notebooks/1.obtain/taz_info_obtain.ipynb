{
 "cells": [
  {
   "cell_type": "markdown",
   "metadata": {},
   "source": [
    "# GTHA housing market database\n",
    "# OSEMN methodology Step 1: Obtain\n",
    "# Obtain TAZ info\n",
    "\n",
    "---\n",
    "\n",
    "This notebook describes _Step 1: Obtain_ of OSEMN methodology, the process of obtaining TAZ info.\n",
    "\n",
    "---\n",
    "\n",
    "For description of OSEMN methodology, see `methodology/0.osemn/osemn.pdf`.\n",
    "\n",
    "## Import dependencies"
   ]
  },
  {
   "cell_type": "code",
   "execution_count": 3,
   "metadata": {
    "pycharm": {
     "name": "#%%\n"
    }
   },
   "outputs": [],
   "source": [
    "import pandas as pd\n",
    "import geopandas as gpd\n",
    "import os\n",
    "from time import time"
   ]
  },
  {
   "cell_type": "code",
   "execution_count": 2,
   "metadata": {},
   "outputs": [
    {
     "data": {
      "text/plain": [
       "['TAZ_2001.dbf',\n",
       " 'TAZ_2001.sbn',\n",
       " 'TAZ_2001.shp',\n",
       " 'TAZ_2001.shx',\n",
       " 'TAZ_2001.cpg',\n",
       " 'TAZ_2001.prj',\n",
       " 'TAZ_2001.sbx']"
      ]
     },
     "execution_count": 2,
     "metadata": {},
     "output_type": "execute_result"
    }
   ],
   "source": [
    "data_path = '../../data/taz/TAZ_2001shp/'\n",
    "os.listdir(data_path)"
   ]
  },
  {
   "cell_type": "markdown",
   "metadata": {},
   "source": [
    "## Load geometry of Transportation Analysis Zones (TAZ)"
   ]
  },
  {
   "cell_type": "code",
   "execution_count": 5,
   "metadata": {
    "pycharm": {
     "name": "#%%\n"
    }
   },
   "outputs": [
    {
     "name": "stdout",
     "output_type": "stream",
     "text": [
      "\n",
      "----- GeoDataFrame loaded\n",
      "in 0.26 seconds\n",
      "with 1,716 rows\n",
      "and 5 columns\n",
      "-- Column names:\n",
      " Index(['OBJECTID', 'Shape_Leng', 'Shape_Area', 'TAZ_O', 'geometry'], dtype='object')\n"
     ]
    }
   ],
   "source": [
    "t = time()\n",
    "df = gpd.read_file(data_path + 'TAZ_2001.shp')\n",
    "elapsed = time() - t\n",
    "print(\"\\n----- GeoDataFrame loaded\"\n",
    "      \"\\nin {0:.2f} seconds\".format(elapsed) + \n",
    "      \"\\nwith {0:,} rows\\nand {1:,} columns\"\n",
    "      .format(df.shape[0], df.shape[1]) + \n",
    "      \"\\n-- Column names:\\n\", df.columns)"
   ]
  },
  {
   "cell_type": "code",
   "execution_count": 6,
   "metadata": {},
   "outputs": [
    {
     "name": "stdout",
     "output_type": "stream",
     "text": [
      "<class 'geopandas.geodataframe.GeoDataFrame'>\n",
      "RangeIndex: 1716 entries, 0 to 1715\n",
      "Data columns (total 5 columns):\n",
      "OBJECTID      1716 non-null int64\n",
      "Shape_Leng    1716 non-null float64\n",
      "Shape_Area    1716 non-null float64\n",
      "TAZ_O         1716 non-null int64\n",
      "geometry      1716 non-null object\n",
      "dtypes: float64(2), int64(2), object(1)\n",
      "memory usage: 67.2+ KB\n"
     ]
    }
   ],
   "source": [
    "df.info()"
   ]
  },
  {
   "cell_type": "markdown",
   "metadata": {
    "pycharm": {
     "name": "#%% md\n"
    }
   },
   "source": [
    "## Save results to a .csv file"
   ]
  },
  {
   "cell_type": "code",
   "execution_count": 7,
   "metadata": {
    "pycharm": {
     "name": "#%%\n"
    }
   },
   "outputs": [
    {
     "name": "stdout",
     "output_type": "stream",
     "text": [
      "DataFrame saved to file:\n",
      " ../../data/taz/TAZ_2001shp/../taz_info.csv \n",
      "took 0.05 seconds\n"
     ]
    }
   ],
   "source": [
    "save_path = data_path + '../taz_info.csv'\n",
    "t = time()\n",
    "df.drop('geometry', axis=1).to_csv(save_path, index=False)\n",
    "elapsed = time() - t\n",
    "print(\"DataFrame saved to file:\\n\", save_path,\n",
    "      \"\\ntook {0:.2f} seconds\".format(elapsed))"
   ]
  }
 ],
 "metadata": {
  "kernelspec": {
   "display_name": "Python 3",
   "language": "python",
   "name": "python3"
  },
  "language_info": {
   "codemirror_mode": {
    "name": "ipython",
    "version": 3
   },
   "file_extension": ".py",
   "mimetype": "text/x-python",
   "name": "python",
   "nbconvert_exporter": "python",
   "pygments_lexer": "ipython3",
   "version": "3.6.9"
  },
  "pycharm": {
   "stem_cell": {
    "cell_type": "raw",
    "metadata": {
     "collapsed": false
    },
    "source": []
   }
  }
 },
 "nbformat": 4,
 "nbformat_minor": 1
}
