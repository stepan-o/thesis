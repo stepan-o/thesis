{
 "cells": [
  {
   "cell_type": "markdown",
   "metadata": {},
   "source": [
    "# GTHA housing market database\n",
    "# OSEMN methodology Step 4: Model\n",
    "# Classify land use from new features in Teranet (3 classes)\n",
    "# Top 11 selected features\n",
    "# Model selection\n",
    "\n",
    "Top 11 selected features and with missing past/future xy sales filled with mean future/past xy sales.\n",
    "\n",
    "---\n",
    "\n",
    "This notebook describes _Step 4: Model_ of OSEMN methodology performed on the Teranet dataset."
   ]
  },
  {
   "cell_type": "markdown",
   "metadata": {},
   "source": [
    "## Import dependencies"
   ]
  },
  {
   "cell_type": "code",
   "execution_count": 1,
   "metadata": {},
   "outputs": [],
   "source": [
    "random_state = 1"
   ]
  },
  {
   "cell_type": "code",
   "execution_count": 2,
   "metadata": {},
   "outputs": [],
   "source": [
    "import numpy as np\n",
    "import matplotlib.pyplot as plt\n",
    "import matplotlib\n",
    "import seaborn as sns\n",
    "import pandas as pd\n",
    "import os\n",
    "from sklearn.model_selection import train_test_split\n",
    "from sklearn.preprocessing import MinMaxScaler, minmax_scale, MaxAbsScaler, StandardScaler, RobustScaler, Normalizer\n",
    "from sklearn.preprocessing import QuantileTransformer, PowerTransformer, LabelEncoder\n",
    "from sklearn.linear_model import Perceptron, LogisticRegression\n",
    "from sklearn.discriminant_analysis import LinearDiscriminantAnalysis, QuadraticDiscriminantAnalysis\n",
    "from sklearn.svm import LinearSVC\n",
    "from sklearn.naive_bayes import GaussianNB\n",
    "from sklearn.tree import DecisionTreeClassifier, export_graphviz\n",
    "from sklearn.ensemble import RandomForestClassifier\n",
    "from sklearn.neighbors import KNeighborsClassifier\n",
    "from sklearn.metrics import accuracy_score, confusion_matrix, classification_report\n",
    "# from pydotplus import graph_from_dot_data\n",
    "from time import time\n",
    "\n",
    "sns.set()"
   ]
  },
  {
   "cell_type": "code",
   "execution_count": 3,
   "metadata": {},
   "outputs": [],
   "source": [
    "import sys\n",
    "\n",
    "sys.path.append('../../../../src')\n",
    "\n",
    "from io_utils import df_from_csv\n",
    "from plot_utils import plot_hist\n",
    "from model_utils import fit_model, targets_corr, plot_learning_curve, plot_validation_curve, plot_confusion_matrix"
   ]
  },
  {
   "cell_type": "markdown",
   "metadata": {},
   "source": [
    "## Load Teranet data"
   ]
  },
  {
   "cell_type": "code",
   "execution_count": 4,
   "metadata": {},
   "outputs": [
    {
     "data": {
      "text/plain": [
       "['1.1_Teranet_DA.csv',\n",
       " '1.3_Teranet_DA_TAZ_PG_FSA.csv',\n",
       " '4_Teranet_lu_predict_3c.csv',\n",
       " '2_Teranet_consistent.csv',\n",
       " 'parcel16_epoi13.csv',\n",
       " '1.2_Teranet_DA_TAZ.csv',\n",
       " '1.4_Teranet_DA_TAZ_FSA_LU_LUDMTI.csv',\n",
       " '1.4_Teranet_DA_TAZ_FSA_LU.csv',\n",
       " '4_Teranet_lu_predict_4c.csv',\n",
       " '.ipynb_checkpoints',\n",
       " 'ParcelLandUse.zip',\n",
       " 'ParcelLandUse',\n",
       " 'HHSaleHistory.csv',\n",
       " '3_Teranet_nonan_new_cols.csv',\n",
       " 'GTAjoinedLanduseSales']"
      ]
     },
     "execution_count": 4,
     "metadata": {},
     "output_type": "execute_result"
    }
   ],
   "source": [
    "data_path = '../../../../data/'\n",
    "teranet_path = data_path + 'teranet/'\n",
    "os.listdir(teranet_path)"
   ]
  },
  {
   "cell_type": "code",
   "execution_count": 5,
   "metadata": {},
   "outputs": [
    {
     "name": "stdout",
     "output_type": "stream",
     "text": [
      "----- DataFrame loaded\n",
      "in 96.07 seconds\n",
      "with 5,188,513 rows\n",
      "and 79 columns\n",
      "-- Column names:\n",
      " Index(['transaction_id', 'lro_num', 'pin', 'consideration_amt',\n",
      "       'registration_date', 'postal_code', 'unitno', 'street_name',\n",
      "       'street_designation', 'street_direction', 'municipality',\n",
      "       'street_number', 'x', 'y', 'dauid', 'csduid', 'csdname', 'taz_o', 'fsa',\n",
      "       'pca_id', 'postal_code_dmti', 'pin_lu', 'landuse', 'prop_code',\n",
      "       'dmti_lu', 'street_name_raw', 'year', 'year_month', 'year3',\n",
      "       'census_year', 'census2001_year', 'tts_year', 'tts1991_year', 'xy',\n",
      "       'pin_total_sales', 'xy_total_sales', 'pin_prev_sales', 'xy_prev_sales',\n",
      "       'xy_first_sale', 'pin_years_since_last_sale',\n",
      "       'xy_years_since_last_sale', 'xy_years_to_next_sale',\n",
      "       'da_days_since_last_sale', 'da_years_since_last_sale',\n",
      "       'xy_sale_next_6m', 'price_2016', 'pin_price_cum_sum',\n",
      "       'xy_price_cum_sum', 'pin_price_pct_change', 'xy_price_pct_change',\n",
      "       'price_da_pct_change', 'med_price_xy', 'med_price_year',\n",
      "       'price_to_med_xy', 'price_to_med_year', 'outlier_y_3', 'outlier_y_5',\n",
      "       'outlier_y_10', 'outlier_y_20', 'outlier_xy_2', 'outlier_xy_4',\n",
      "       'outlier_xy_10', 'code', 'lu_class', 'luc_detached', 'luc_condo',\n",
      "       'luc_strata', 'luc_duplex', 'luc_townhouse', 'luc_mixuse',\n",
      "       'luc_underdeveloped', 'luc_mixedcomplex', 'luc_industrial',\n",
      "       'luc_commercial', 'lucr_house', 'lucr', 'lucr_condo', 'lucr_other',\n",
      "       'lucr_predict'],\n",
      "      dtype='object')\n"
     ]
    }
   ],
   "source": [
    "teranet_df = df_from_csv(teranet_path + '4_Teranet_lu_predict_3c.csv', parse_dates=['registration_date'])"
   ]
  },
  {
   "cell_type": "markdown",
   "metadata": {},
   "source": [
    "## Load Census data"
   ]
  },
  {
   "cell_type": "code",
   "execution_count": 6,
   "metadata": {},
   "outputs": [
    {
     "data": {
      "text/plain": [
       "['da_census_income.csv',\n",
       " 'Census data availability.xlsx',\n",
       " 'da_census.xls',\n",
       " 'da_census_select_tidy.csv',\n",
       " 'da_census_income_shapefile',\n",
       " 'da_census_select.csv']"
      ]
     },
     "execution_count": 6,
     "metadata": {},
     "output_type": "execute_result"
    }
   ],
   "source": [
    "census_path = data_path + 'census/'\n",
    "os.listdir(census_path)"
   ]
  },
  {
   "cell_type": "code",
   "execution_count": 7,
   "metadata": {},
   "outputs": [
    {
     "name": "stdout",
     "output_type": "stream",
     "text": [
      "----- DataFrame loaded\n",
      "in 0.17 seconds\n",
      "with 36,728 rows\n",
      "and 32 columns\n",
      "-- Column names:\n",
      " Index(['DAUID', 'year', 'Avg_HHsize', 'Avg_HHinc', 'Avg_own_payt',\n",
      "       'Avg_val_dwel', 'Avg_rent', 'Pop', 'PopDens', 'Dwel', 'DwelDens',\n",
      "       'Sgl_det', 'Apt_5plus', 'Sgl_att', 'Owned', 'Rented', 'CarTrVan_d',\n",
      "       'CarTrVan_p', 'PT', 'Walk', 'Bike', 'Lbrfrc', 'Emp', 'Unemp',\n",
      "       'Not_lbrfrc', 'Employee', 'Self_emp', 'At_home', 'No_fix_wkpl',\n",
      "       'Usl_wkpl', 'Blue_cljob', 'White_cljob'],\n",
      "      dtype='object')\n"
     ]
    }
   ],
   "source": [
    "census_df = df_from_csv(census_path + 'da_census_select_tidy.csv')"
   ]
  },
  {
   "cell_type": "markdown",
   "metadata": {},
   "source": [
    "## Load TTS data"
   ]
  },
  {
   "cell_type": "code",
   "execution_count": 8,
   "metadata": {},
   "outputs": [
    {
     "data": {
      "text/plain": [
       "['tts_num_jobs_tidy.csv',\n",
       " 'TAZ_2001shp.zip',\n",
       " 'TAZ_2001shp',\n",
       " 'taz_tts_tidy.csv',\n",
       " 'taz_info.csv',\n",
       " 'TTS_variables.xlsx',\n",
       " 'taz_tts.xlsx',\n",
       " 'Num_of_Jobs.xlsx']"
      ]
     },
     "execution_count": 8,
     "metadata": {},
     "output_type": "execute_result"
    }
   ],
   "source": [
    "tts_path = data_path + 'tts/'\n",
    "os.listdir(tts_path)"
   ]
  },
  {
   "cell_type": "code",
   "execution_count": 9,
   "metadata": {},
   "outputs": [
    {
     "name": "stdout",
     "output_type": "stream",
     "text": [
      "----- DataFrame loaded\n",
      "in 0.02 seconds\n",
      "with 12,012 rows\n",
      "and 8 columns\n",
      "-- Column names:\n",
      " Index(['TAZ_O', 'year', 'Pop', 'FT_wrk', 'Stu', 'HH', 'Jobs', 'Cars'], dtype='object')\n"
     ]
    }
   ],
   "source": [
    "tts_df = df_from_csv(tts_path + 'taz_tts_tidy.csv')"
   ]
  },
  {
   "cell_type": "markdown",
   "metadata": {},
   "source": [
    "## Join Census data to Teranet data"
   ]
  },
  {
   "cell_type": "code",
   "execution_count": 10,
   "metadata": {},
   "outputs": [
    {
     "name": "stdout",
     "output_type": "stream",
     "text": [
      "----- Census variables were joined to the DataFrame\n",
      "in 42.05 seconds (0.70 minutes)\n",
      "with 5,188,513 rows\n",
      "and 109 columns\n",
      "-- Column names:\n",
      " Index(['transaction_id', 'lro_num', 'pin', 'consideration_amt',\n",
      "       'registration_date', 'postal_code', 'unitno', 'street_name',\n",
      "       'street_designation', 'street_direction',\n",
      "       ...\n",
      "       'Emp', 'Unemp', 'Not_lbrfrc', 'Employee', 'Self_emp', 'At_home',\n",
      "       'No_fix_wkpl', 'Usl_wkpl', 'Blue_cljob', 'White_cljob'],\n",
      "      dtype='object', length=109)\n"
     ]
    }
   ],
   "source": [
    "t = time()\n",
    "df = pd.merge(teranet_df, census_df, how='left',\n",
    "              left_on=['dauid', 'census2001_year'], right_on=['DAUID', 'year'])\n",
    "df = df.drop(['DAUID', 'year_y'], axis=1).rename(columns={'year_x': 'year'})\n",
    "elapsed = time() - t\n",
    "print(\"----- Census variables were joined to the DataFrame\"\n",
    "      \"\\nin {0:,.2f} seconds ({1:.2f} minutes)\".format(elapsed, elapsed / 60) + \n",
    "      \"\\nwith {0:,} rows\\nand {1:,} columns\"\n",
    "      .format(df.shape[0], df.shape[1]) + \n",
    "      \"\\n-- Column names:\\n\", df.columns)"
   ]
  },
  {
   "cell_type": "markdown",
   "metadata": {},
   "source": [
    "## Join TTS data to Teranet data"
   ]
  },
  {
   "cell_type": "code",
   "execution_count": 11,
   "metadata": {},
   "outputs": [
    {
     "name": "stdout",
     "output_type": "stream",
     "text": [
      "----- TTS variables were joined to the DataFrame\n",
      "in 56.72 seconds (0.95 minutes)\n",
      "with 5,188,513 rows\n",
      "and 115 columns\n",
      "-- Column names:\n",
      " Index(['transaction_id', 'lro_num', 'pin', 'consideration_amt',\n",
      "       'registration_date', 'postal_code', 'unitno', 'street_name',\n",
      "       'street_designation', 'street_direction',\n",
      "       ...\n",
      "       'Usl_wkpl', 'Blue_cljob', 'White_cljob', 'TAZ_O', 'Pop_y', 'FT_wrk',\n",
      "       'Stu', 'HH', 'Jobs', 'Cars'],\n",
      "      dtype='object', length=115)\n"
     ]
    }
   ],
   "source": [
    "t = time()\n",
    "df = pd.merge(df, tts_df, how='left',\n",
    "              left_on=['taz_o', 'tts_year'], right_on=['TAZ_O', 'year'])\n",
    "df = df.drop(['taz_o', 'year_y'], axis=1).rename(columns={'year_x': 'year'})\n",
    "elapsed = time() - t\n",
    "print(\"----- TTS variables were joined to the DataFrame\"\n",
    "      \"\\nin {0:,.2f} seconds ({1:.2f} minutes)\".format(elapsed, elapsed / 60) + \n",
    "      \"\\nwith {0:,} rows\\nand {1:,} columns\"\n",
    "      .format(df.shape[0], df.shape[1]) + \n",
    "      \"\\n-- Column names:\\n\", df.columns)"
   ]
  },
  {
   "cell_type": "markdown",
   "metadata": {},
   "source": [
    "## Take a train-test subset of Teranet records"
   ]
  },
  {
   "cell_type": "code",
   "execution_count": 12,
   "metadata": {},
   "outputs": [
    {
     "name": "stdout",
     "output_type": "stream",
     "text": [
      "857,896 Teranet records in the train-test subset (records from 2011 to 2014).\n",
      "216,492 Teranet records in the validation subset #1 (records from 2010).\n",
      "244,787 Teranet records in the validation subset #2 (records from 2015).\n"
     ]
    }
   ],
   "source": [
    "year_train_test_min = 2011\n",
    "year_train_test_max = 2014\n",
    "year_val1 = 2010\n",
    "year_val2 = 2015\n",
    "\n",
    "s = df.query('year >= @year_train_test_min & year <= @year_train_test_max')\n",
    "s_val1 = df.query('year == @year_val1')\n",
    "s_val2 = df.query('year == @year_val2')\n",
    "\n",
    "print(\"{0:,} Teranet records in the train-test subset (records from {1} to {2}).\"\n",
    "      .format(len(s), year_train_test_min, year_train_test_max))\n",
    "print(\"{0:,} Teranet records in the validation subset #1 (records from {1}).\".format(len(s_val1), year_val1))\n",
    "print(\"{0:,} Teranet records in the validation subset #2 (records from {1}).\".format(len(s_val2), year_val2))"
   ]
  },
  {
   "cell_type": "markdown",
   "metadata": {},
   "source": [
    "## Select features"
   ]
  },
  {
   "cell_type": "code",
   "execution_count": 13,
   "metadata": {},
   "outputs": [
    {
     "data": {
      "text/plain": [
       "Index(['transaction_id', 'lro_num', 'pin', 'consideration_amt',\n",
       "       'registration_date', 'postal_code', 'unitno', 'street_name',\n",
       "       'street_designation', 'street_direction',\n",
       "       ...\n",
       "       'Usl_wkpl', 'Blue_cljob', 'White_cljob', 'TAZ_O', 'Pop_y', 'FT_wrk',\n",
       "       'Stu', 'HH', 'Jobs', 'Cars'],\n",
       "      dtype='object', length=115)"
      ]
     },
     "execution_count": 13,
     "metadata": {},
     "output_type": "execute_result"
    }
   ],
   "source": [
    "s.columns"
   ]
  },
  {
   "cell_type": "code",
   "execution_count": 14,
   "metadata": {},
   "outputs": [
    {
     "name": "stdout",
     "output_type": "stream",
     "text": [
      "<class 'pandas.core.frame.DataFrame'>\n",
      "Int64Index: 857896 entries, 0 to 5002104\n",
      "Data columns (total 12 columns):\n",
      "xy_total_sales              857896 non-null int64\n",
      "xy_prev_sales               857896 non-null int64\n",
      "xy_first_sale               857896 non-null bool\n",
      "xy_years_since_last_sale    746796 non-null float64\n",
      "xy_years_to_next_sale       575944 non-null float64\n",
      "med_price_xy                857896 non-null float64\n",
      "Avg_HHsize                  855523 non-null float64\n",
      "Avg_rent                    855435 non-null float64\n",
      "PopDens                     857896 non-null float64\n",
      "DwelDens                    857896 non-null float64\n",
      "Apt_5plus                   855523 non-null float64\n",
      "lucr                        857896 non-null object\n",
      "dtypes: bool(1), float64(8), int64(2), object(1)\n",
      "memory usage: 79.4+ MB\n"
     ]
    }
   ],
   "source": [
    "top11f = ['xy_total_sales', 'xy_prev_sales', 'xy_first_sale',\n",
    "          'xy_years_since_last_sale', 'xy_years_to_next_sale', 'med_price_xy',\n",
    "          'Avg_HHsize', 'Avg_rent', 'PopDens', 'DwelDens', 'Apt_5plus',\n",
    "          'lucr']\n",
    "s = s[top11f]\n",
    "s_val1 = s_val1[top11f]\n",
    "s_val2 = s_val2[top11f]\n",
    "s.info(null_counts=True)"
   ]
  },
  {
   "cell_type": "markdown",
   "metadata": {},
   "source": [
    "## Fill missing values"
   ]
  },
  {
   "cell_type": "code",
   "execution_count": 15,
   "metadata": {},
   "outputs": [
    {
     "name": "stdout",
     "output_type": "stream",
     "text": [
      "For records with missing 'xy_years_to_next_sale', values of 'xy_years_since_last_sale' are: mean=7.72, median=6.02\n",
      "For records with missing 'xy_years_since_last_sale', values of 'xy_years_to_next_sale' are: mean=2.02, median=1.69\n"
     ]
    }
   ],
   "source": [
    "col1 = 'xy_years_to_next_sale'\n",
    "col2 = 'xy_years_since_last_sale'\n",
    "mask1 = s[col1].isnull()\n",
    "print(\"For records with missing '{0}', values of '{1}' are: mean={2:,.2f}, median={3:,.2f}\"\n",
    "      .format(col1, col2, s.loc[mask1, col2].mean(), s.loc[mask1, col2].median()))\n",
    "mask1 = s[col2].isnull()\n",
    "print(\"For records with missing '{0}', values of '{1}' are: mean={2:,.2f}, median={3:,.2f}\"\n",
    "      .format(col2, col1, s.loc[mask1, col1].mean(), s.loc[mask1, col1].median()))"
   ]
  },
  {
   "cell_type": "code",
   "execution_count": 16,
   "metadata": {},
   "outputs": [
    {
     "name": "stdout",
     "output_type": "stream",
     "text": [
      "<class 'pandas.core.frame.DataFrame'>\n",
      "Int64Index: 857896 entries, 0 to 5002104\n",
      "Data columns (total 12 columns):\n",
      "xy_total_sales              857896 non-null int64\n",
      "xy_prev_sales               857896 non-null int64\n",
      "xy_first_sale               857896 non-null bool\n",
      "xy_years_since_last_sale    857896 non-null float64\n",
      "xy_years_to_next_sale       857896 non-null float64\n",
      "med_price_xy                857896 non-null float64\n",
      "Avg_HHsize                  855523 non-null float64\n",
      "Avg_rent                    855435 non-null float64\n",
      "PopDens                     857896 non-null float64\n",
      "DwelDens                    857896 non-null float64\n",
      "Apt_5plus                   855523 non-null float64\n",
      "lucr                        857896 non-null object\n",
      "dtypes: bool(1), float64(8), int64(2), object(1)\n",
      "memory usage: 79.4+ MB\n"
     ]
    }
   ],
   "source": [
    "# missing year to next sale is replaced with median year since last sale and vice versa\n",
    "mask1 = s[col1].isnull()\n",
    "s.loc[mask1, col1] = s.loc[mask1, col2].median()\n",
    "mask1 = s_val1[col1].isnull()\n",
    "s_val1.loc[mask1, col1] = s_val1.loc[mask1, col2].median()\n",
    "mask1 = s_val2[col1].isnull()\n",
    "s_val2.loc[mask1, col1] = s_val2.loc[mask1, col2].median()\n",
    "\n",
    "mask1 = s[col2].isnull()\n",
    "s.loc[mask1, col2] = s.loc[mask1, col1].median()\n",
    "mask1 = s_val1[col2].isnull()\n",
    "s_val1.loc[mask1, col2] = s_val1.loc[mask1, col1].median()\n",
    "mask1 = s_val2[col2].isnull()\n",
    "s_val2.loc[mask1, col2] = s_val2.loc[mask1, col1].median()\n",
    "\n",
    "s.info(null_counts=True)"
   ]
  },
  {
   "cell_type": "code",
   "execution_count": 17,
   "metadata": {},
   "outputs": [
    {
     "name": "stdout",
     "output_type": "stream",
     "text": [
      "855,378 rows in train-test subset, 216,155 rows in validation subset #1, 244,425 rows in validation subset #2\n"
     ]
    }
   ],
   "source": [
    "s = s.dropna()\n",
    "s_val1 = s_val1.dropna()\n",
    "s_val2 = s_val2.dropna()\n",
    "print(\"{0:,} rows in train-test subset, {1:,} rows in validation subset #1, {2:,} rows in validation subset #2\"\n",
    "      .format(len(s), len(s_val1), len(s_val2)))"
   ]
  },
  {
   "cell_type": "code",
   "execution_count": 18,
   "metadata": {},
   "outputs": [
    {
     "data": {
      "text/plain": [
       "Index(['xy_total_sales', 'xy_prev_sales', 'xy_first_sale',\n",
       "       'xy_years_since_last_sale', 'xy_years_to_next_sale', 'med_price_xy',\n",
       "       'Avg_HHsize', 'Avg_rent', 'PopDens', 'DwelDens', 'Apt_5plus'],\n",
       "      dtype='object')"
      ]
     },
     "execution_count": 18,
     "metadata": {},
     "output_type": "execute_result"
    }
   ],
   "source": [
    "target_cols = 1\n",
    "feat_cols = s.columns[:-target_cols]\n",
    "feat_cols"
   ]
  },
  {
   "cell_type": "code",
   "execution_count": 19,
   "metadata": {},
   "outputs": [],
   "source": [
    "feat_set_name = 'top11f_3c'"
   ]
  },
  {
   "cell_type": "markdown",
   "metadata": {},
   "source": [
    "## Encode target"
   ]
  },
  {
   "cell_type": "code",
   "execution_count": 20,
   "metadata": {},
   "outputs": [
    {
     "name": "stdout",
     "output_type": "stream",
     "text": [
      "condo    222904\n",
      "house    288879\n",
      "other    343595\n",
      "Name: lucr, dtype: int64\n",
      "0    222904\n",
      "1    288879\n",
      "2    343595\n",
      "Name: lucr_e, dtype: int64\n",
      "condo    66944\n",
      "house    77497\n",
      "other    71714\n",
      "Name: lucr, dtype: int64\n",
      "0    66944\n",
      "1    77497\n",
      "2    71714\n",
      "Name: lucr_e, dtype: int64\n",
      "condo     57424\n",
      "house     76798\n",
      "other    110203\n",
      "Name: lucr, dtype: int64\n",
      "0     57424\n",
      "1     76798\n",
      "2    110203\n",
      "Name: lucr_e, dtype: int64\n",
      "Land use encoded!\n"
     ]
    }
   ],
   "source": [
    "le = LabelEncoder()\n",
    "\n",
    "s['lucr_e'] = le.fit_transform(s['lucr'])\n",
    "s_val1['lucr_e'] = le.transform(s_val1['lucr'])\n",
    "s_val2['lucr_e'] = le.transform(s_val2['lucr'])\n",
    "\n",
    "print(s['lucr'].value_counts().sort_index())\n",
    "print(s['lucr_e'].value_counts().sort_index())\n",
    "print(s_val1['lucr'].value_counts().sort_index())\n",
    "print(s_val1['lucr_e'].value_counts().sort_index())\n",
    "print(s_val2['lucr'].value_counts().sort_index())\n",
    "print(s_val2['lucr_e'].value_counts().sort_index())\n",
    "\n",
    "s = s.drop(['lucr'], axis=1)\n",
    "s_val1 = s_val1.drop(['lucr'], axis=1)\n",
    "s_val2 = s_val2.drop(['lucr'], axis=1)\n",
    "print(\"Land use encoded!\")"
   ]
  },
  {
   "cell_type": "markdown",
   "metadata": {},
   "source": [
    "## Prepare features"
   ]
  },
  {
   "cell_type": "markdown",
   "metadata": {},
   "source": [
    "### Select features and target"
   ]
  },
  {
   "cell_type": "code",
   "execution_count": 21,
   "metadata": {},
   "outputs": [
    {
     "name": "stdout",
     "output_type": "stream",
     "text": [
      "Features and target selected.\n"
     ]
    }
   ],
   "source": [
    "X = s[feat_cols].values\n",
    "X_val1 = s_val1[feat_cols].values\n",
    "X_val2 = s_val2[feat_cols].values\n",
    "y = s['lucr_e'].values\n",
    "y_val1 = s_val1['lucr_e'].values\n",
    "y_val2 = s_val2['lucr_e'].values\n",
    "print(\"Features and target selected.\")"
   ]
  },
  {
   "cell_type": "markdown",
   "metadata": {},
   "source": [
    "### Perform the train-test split"
   ]
  },
  {
   "cell_type": "code",
   "execution_count": 22,
   "metadata": {},
   "outputs": [
    {
     "name": "stdout",
     "output_type": "stream",
     "text": [
      "Performed train-test split.\n",
      "Labels counts in y: [222904 288879 343595]\n",
      "Labels counts in y_train: [156033 202215 240516]\n",
      "Labels counts in y_test: [ 66871  86664 103079]\n",
      "Labels counts in y_val1: [66944 77497 71714]\n",
      "Labels counts in y_val2: [ 57424  76798 110203]\n"
     ]
    }
   ],
   "source": [
    "X_train, X_test, y_train, y_test = train_test_split(X, y, test_size=0.3, random_state=random_state, stratify=y)\n",
    "print(\"Performed train-test split.\")\n",
    "print('Labels counts in y:', np.bincount(y))\n",
    "print('Labels counts in y_train:', np.bincount(y_train))\n",
    "print('Labels counts in y_test:', np.bincount(y_test))\n",
    "print('Labels counts in y_val1:', np.bincount(y_val1))\n",
    "print('Labels counts in y_val2:', np.bincount(y_val2))"
   ]
  },
  {
   "cell_type": "markdown",
   "metadata": {},
   "source": [
    "### Standardize features"
   ]
  },
  {
   "cell_type": "code",
   "execution_count": 23,
   "metadata": {},
   "outputs": [
    {
     "name": "stdout",
     "output_type": "stream",
     "text": [
      "Input features were standardized.\n"
     ]
    }
   ],
   "source": [
    "sc = StandardScaler()\n",
    "sc.fit(X_train)\n",
    "X_train_std = sc.transform(X_train)\n",
    "X_test_std = sc.transform(X_test)\n",
    "X_val1_std = sc.transform(X_val1)\n",
    "X_val2_std = sc.transform(X_val2)\n",
    "print(\"Input features were standardized.\")"
   ]
  },
  {
   "cell_type": "markdown",
   "metadata": {},
   "source": [
    "### Normalize features"
   ]
  },
  {
   "cell_type": "code",
   "execution_count": 24,
   "metadata": {},
   "outputs": [
    {
     "name": "stdout",
     "output_type": "stream",
     "text": [
      "Input features were normalized.\n"
     ]
    }
   ],
   "source": [
    "sc = MinMaxScaler()\n",
    "sc.fit(X_train)\n",
    "X_train_norm = sc.transform(X_train)\n",
    "X_test_norm = sc.transform(X_test)\n",
    "X_val1_norm = sc.transform(X_val1)\n",
    "X_val2_norm = sc.transform(X_val2)\n",
    "print(\"Input features were normalized.\")"
   ]
  },
  {
   "cell_type": "markdown",
   "metadata": {},
   "source": [
    "### Apply the quantile transformation (uniform pdf) to the features"
   ]
  },
  {
   "cell_type": "code",
   "execution_count": 25,
   "metadata": {},
   "outputs": [
    {
     "name": "stdout",
     "output_type": "stream",
     "text": [
      "Quantile transformation (uniform pdf) was applied to the features.\n"
     ]
    }
   ],
   "source": [
    "sc = QuantileTransformer(output_distribution='uniform')\n",
    "sc.fit(X_train)\n",
    "X_train_qu = sc.transform(X_train)\n",
    "X_test_qu = sc.transform(X_test)\n",
    "X_val1_qu = sc.transform(X_val1)\n",
    "X_val2_qu = sc.transform(X_val2)\n",
    "print(\"Quantile transformation (uniform pdf) was applied to the features.\")"
   ]
  },
  {
   "cell_type": "markdown",
   "metadata": {},
   "source": [
    "## Evaluate classification algorithms"
   ]
  },
  {
   "cell_type": "code",
   "execution_count": 26,
   "metadata": {},
   "outputs": [],
   "source": [
    "scores_df = pd.DataFrame(columns=['train', 'test', 'val1', 'val2'])"
   ]
  },
  {
   "cell_type": "markdown",
   "metadata": {},
   "source": [
    "### Linear models"
   ]
  },
  {
   "cell_type": "markdown",
   "metadata": {},
   "source": [
    "#### Perceptron learning algorithm"
   ]
  },
  {
   "cell_type": "code",
   "execution_count": 27,
   "metadata": {},
   "outputs": [
    {
     "name": "stdout",
     "output_type": "stream",
     "text": [
      "\n",
      "Perceptron\n",
      "(quantile transformation, uniform pdf) fit, took 1.43 seconds (0.02 minutes)\n",
      "accuracy: train=0.72, test=0.72, validation #1=0.68, validation #2=0.68\n"
     ]
    },
    {
     "name": "stderr",
     "output_type": "stream",
     "text": [
      "/home/stepan/anaconda3/envs/gds/lib/python3.6/site-packages/sklearn/linear_model/stochastic_gradient.py:561: ConvergenceWarning: Maximum number of iteration reached before convergence. Consider increasing max_iter to improve the fit.\n",
      "  ConvergenceWarning)\n"
     ]
    }
   ],
   "source": [
    "n_jobs=12\n",
    "eta = 0.5\n",
    "max_iter = 5\n",
    "model_name = \"Perceptron\\n(quantile transformation, uniform pdf)\"\n",
    "model_code = 'ppn_qu_eta{0}_maxiter{1}'.format(eta, max_iter)\n",
    "ppn = Perceptron( random_state=random_state, max_iter=max_iter, eta0=eta, n_jobs=n_jobs)\n",
    "scores_df.loc[model_code] = \\\n",
    "    fit_model(ppn, model_name, X_train_qu, y_train, X_test_qu, y_test, X_val1_qu, y_val1, X_val2_qu, y_val2,\n",
    "              return_scores=True)"
   ]
  },
  {
   "cell_type": "code",
   "execution_count": 28,
   "metadata": {},
   "outputs": [
    {
     "name": "stderr",
     "output_type": "stream",
     "text": [
      "/home/stepan/anaconda3/envs/gds/lib/python3.6/site-packages/sklearn/linear_model/stochastic_gradient.py:561: ConvergenceWarning: Maximum number of iteration reached before convergence. Consider increasing max_iter to improve the fit.\n",
      "  ConvergenceWarning)\n"
     ]
    },
    {
     "data": {
      "text/plain": [
       "0.7213246354446756"
      ]
     },
     "execution_count": 28,
     "metadata": {},
     "output_type": "execute_result"
    }
   ],
   "source": [
    "ppn = Perceptron( random_state=random_state, max_iter=max_iter, eta0=eta, n_jobs=n_jobs)\n",
    "ppn.fit(X_train_qu, y_train)\n",
    "ppn.score(X_test_qu, y_test)"
   ]
  },
  {
   "cell_type": "code",
   "execution_count": 29,
   "metadata": {},
   "outputs": [
    {
     "name": "stdout",
     "output_type": "stream",
     "text": [
      "Classification report for Perceptron\n",
      "(quantile transformation, uniform pdf)\n"
     ]
    },
    {
     "data": {
      "text/html": [
       "<div>\n",
       "<style scoped>\n",
       "    .dataframe tbody tr th:only-of-type {\n",
       "        vertical-align: middle;\n",
       "    }\n",
       "\n",
       "    .dataframe tbody tr th {\n",
       "        vertical-align: top;\n",
       "    }\n",
       "\n",
       "    .dataframe thead th {\n",
       "        text-align: right;\n",
       "    }\n",
       "</style>\n",
       "<table border=\"1\" class=\"dataframe\">\n",
       "  <thead>\n",
       "    <tr style=\"text-align: right;\">\n",
       "      <th></th>\n",
       "      <th>condo</th>\n",
       "      <th>house</th>\n",
       "      <th>other</th>\n",
       "      <th>accuracy</th>\n",
       "      <th>macro avg</th>\n",
       "      <th>weighted avg</th>\n",
       "    </tr>\n",
       "  </thead>\n",
       "  <tbody>\n",
       "    <tr>\n",
       "      <td>precision</td>\n",
       "      <td>0.575965</td>\n",
       "      <td>0.889633</td>\n",
       "      <td>0.717639</td>\n",
       "      <td>0.721325</td>\n",
       "      <td>0.727746</td>\n",
       "      <td>0.738806</td>\n",
       "    </tr>\n",
       "    <tr>\n",
       "      <td>recall</td>\n",
       "      <td>0.827863</td>\n",
       "      <td>0.869184</td>\n",
       "      <td>0.527896</td>\n",
       "      <td>0.721325</td>\n",
       "      <td>0.741648</td>\n",
       "      <td>0.721325</td>\n",
       "    </tr>\n",
       "    <tr>\n",
       "      <td>f1-score</td>\n",
       "      <td>0.679314</td>\n",
       "      <td>0.879290</td>\n",
       "      <td>0.608315</td>\n",
       "      <td>0.721325</td>\n",
       "      <td>0.722306</td>\n",
       "      <td>0.718331</td>\n",
       "    </tr>\n",
       "    <tr>\n",
       "      <td>support</td>\n",
       "      <td>66871.000000</td>\n",
       "      <td>86664.000000</td>\n",
       "      <td>103079.000000</td>\n",
       "      <td>0.721325</td>\n",
       "      <td>256614.000000</td>\n",
       "      <td>256614.000000</td>\n",
       "    </tr>\n",
       "  </tbody>\n",
       "</table>\n",
       "</div>"
      ],
      "text/plain": [
       "                  condo         house          other  accuracy      macro avg  \\\n",
       "precision      0.575965      0.889633       0.717639  0.721325       0.727746   \n",
       "recall         0.827863      0.869184       0.527896  0.721325       0.741648   \n",
       "f1-score       0.679314      0.879290       0.608315  0.721325       0.722306   \n",
       "support    66871.000000  86664.000000  103079.000000  0.721325  256614.000000   \n",
       "\n",
       "            weighted avg  \n",
       "precision       0.738806  \n",
       "recall          0.721325  \n",
       "f1-score        0.718331  \n",
       "support    256614.000000  "
      ]
     },
     "execution_count": 29,
     "metadata": {},
     "output_type": "execute_result"
    }
   ],
   "source": [
    "cr = classification_report(y_test, ppn.predict(X_test_qu), output_dict=True, target_names=le.classes_)\n",
    "print(\"Classification report for {0}\".format(model_name))\n",
    "pd.DataFrame(cr)"
   ]
  },
  {
   "cell_type": "code",
   "execution_count": 30,
   "metadata": {},
   "outputs": [
    {
     "name": "stdout",
     "output_type": "stream",
     "text": [
      "Perceptron\n",
      "(quantile transformation, uniform pdf)\n",
      "Normalized confusion matrix\n",
      "[[0.83 0.01 0.16]\n",
      " [0.01 0.87 0.12]\n",
      " [0.39 0.09 0.53]]\n"
     ]
    },
    {
     "data": {
      "image/png": "[encoded data removed]",
      "text/plain": [
       "<Figure size 504x504 with 2 Axes>"
      ]
     },
     "metadata": {
      "needs_background": "light"
     },
     "output_type": "display_data"
    }
   ],
   "source": [
    "np.set_printoptions(precision=2)\n",
    "plot_confusion_matrix(y_test, ppn.predict(X_test_qu), le.classes_, model_name, normalize=True, width=7)\n",
    "plt.show()"
   ]
  },
  {
   "cell_type": "markdown",
   "metadata": {},
   "source": [
    "#### Logistic regression (L2 regularization)"
   ]
  },
  {
   "cell_type": "code",
   "execution_count": 31,
   "metadata": {},
   "outputs": [
    {
     "name": "stdout",
     "output_type": "stream",
     "text": [
      "\n",
      "Logistic regression\n",
      "(l2 penalty, C=0.1,\n",
      "quantile transformation, uniform pdf) fit, took 25.18 seconds (0.42 minutes)\n",
      "accuracy: train=0.77, test=0.76, validation #1=0.71, validation #2=0.74\n"
     ]
    }
   ],
   "source": [
    "n_jobs = 8\n",
    "penalty = 'l2'\n",
    "c = 0.1\n",
    "max_iter = 100\n",
    "model_name = 'Logistic regression\\n({0} penalty, C={1},\\nquantile transformation, uniform pdf)'.format(penalty, c)\n",
    "model_code = 'lr_{0}_c{1}_maxiter{2}'.format(penalty, c, max_iter)\n",
    "lr = LogisticRegression(random_state=random_state, penalty=penalty, C=c, solver='lbfgs', \n",
    "                        multi_class='auto', max_iter=max_iter, n_jobs=n_jobs)\n",
    "scores_df.loc[model_code] = \\\n",
    "    fit_model(lr, model_name, X_train_qu, y_train, X_test_qu, y_test, X_val1_qu, y_val1, X_val2_qu, y_val2,\n",
    "              return_scores=True)"
   ]
  },
  {
   "cell_type": "code",
   "execution_count": 32,
   "metadata": {},
   "outputs": [
    {
     "data": {
      "text/plain": [
       "0.7644828419337995"
      ]
     },
     "execution_count": 32,
     "metadata": {},
     "output_type": "execute_result"
    }
   ],
   "source": [
    "lr = LogisticRegression(random_state=random_state, penalty=penalty, C=c, solver='lbfgs', \n",
    "                        multi_class='auto', max_iter=max_iter, n_jobs=n_jobs)\n",
    "lr.fit(X_train_qu, y_train)\n",
    "lr.score(X_test_qu, y_test)"
   ]
  },
  {
   "cell_type": "code",
   "execution_count": 33,
   "metadata": {},
   "outputs": [
    {
     "name": "stdout",
     "output_type": "stream",
     "text": [
      "Classification report for Logistic regression\n",
      "(l2 penalty, C=0.1,\n",
      "quantile transformation, uniform pdf)\n"
     ]
    },
    {
     "data": {
      "text/html": [
       "<div>\n",
       "<style scoped>\n",
       "    .dataframe tbody tr th:only-of-type {\n",
       "        vertical-align: middle;\n",
       "    }\n",
       "\n",
       "    .dataframe tbody tr th {\n",
       "        vertical-align: top;\n",
       "    }\n",
       "\n",
       "    .dataframe thead th {\n",
       "        text-align: right;\n",
       "    }\n",
       "</style>\n",
       "<table border=\"1\" class=\"dataframe\">\n",
       "  <thead>\n",
       "    <tr style=\"text-align: right;\">\n",
       "      <th></th>\n",
       "      <th>condo</th>\n",
       "      <th>house</th>\n",
       "      <th>other</th>\n",
       "      <th>accuracy</th>\n",
       "      <th>macro avg</th>\n",
       "      <th>weighted avg</th>\n",
       "    </tr>\n",
       "  </thead>\n",
       "  <tbody>\n",
       "    <tr>\n",
       "      <td>precision</td>\n",
       "      <td>0.688978</td>\n",
       "      <td>0.881707</td>\n",
       "      <td>0.709945</td>\n",
       "      <td>0.764483</td>\n",
       "      <td>0.760210</td>\n",
       "      <td>0.762489</td>\n",
       "    </tr>\n",
       "    <tr>\n",
       "      <td>recall</td>\n",
       "      <td>0.654649</td>\n",
       "      <td>0.907874</td>\n",
       "      <td>0.715180</td>\n",
       "      <td>0.764483</td>\n",
       "      <td>0.759234</td>\n",
       "      <td>0.764483</td>\n",
       "    </tr>\n",
       "    <tr>\n",
       "      <td>f1-score</td>\n",
       "      <td>0.671375</td>\n",
       "      <td>0.894599</td>\n",
       "      <td>0.712553</td>\n",
       "      <td>0.764483</td>\n",
       "      <td>0.759509</td>\n",
       "      <td>0.763303</td>\n",
       "    </tr>\n",
       "    <tr>\n",
       "      <td>support</td>\n",
       "      <td>66871.000000</td>\n",
       "      <td>86664.000000</td>\n",
       "      <td>103079.000000</td>\n",
       "      <td>0.764483</td>\n",
       "      <td>256614.000000</td>\n",
       "      <td>256614.000000</td>\n",
       "    </tr>\n",
       "  </tbody>\n",
       "</table>\n",
       "</div>"
      ],
      "text/plain": [
       "                  condo         house          other  accuracy      macro avg  \\\n",
       "precision      0.688978      0.881707       0.709945  0.764483       0.760210   \n",
       "recall         0.654649      0.907874       0.715180  0.764483       0.759234   \n",
       "f1-score       0.671375      0.894599       0.712553  0.764483       0.759509   \n",
       "support    66871.000000  86664.000000  103079.000000  0.764483  256614.000000   \n",
       "\n",
       "            weighted avg  \n",
       "precision       0.762489  \n",
       "recall          0.764483  \n",
       "f1-score        0.763303  \n",
       "support    256614.000000  "
      ]
     },
     "execution_count": 33,
     "metadata": {},
     "output_type": "execute_result"
    }
   ],
   "source": [
    "cr = classification_report(y_test, lr.predict(X_test_qu), output_dict=True, target_names=le.classes_)\n",
    "print(\"Classification report for {0}\".format(model_name))\n",
    "pd.DataFrame(cr)"
   ]
  },
  {
   "cell_type": "code",
   "execution_count": 34,
   "metadata": {},
   "outputs": [
    {
     "name": "stdout",
     "output_type": "stream",
     "text": [
      "Logistic regression\n",
      "(l2 penalty, C=0.1,\n",
      "quantile transformation, uniform pdf)\n",
      "Normalized confusion matrix\n",
      "[[0.65 0.01 0.33]\n",
      " [0.   0.91 0.09]\n",
      " [0.19 0.09 0.72]]\n"
     ]
    },
    {
     "data": {
      "image/png": "[encoded data removed]",
      "text/plain": [
       "<Figure size 504x504 with 2 Axes>"
      ]
     },
     "metadata": {
      "needs_background": "light"
     },
     "output_type": "display_data"
    }
   ],
   "source": [
    "np.set_printoptions(precision=2)\n",
    "plot_confusion_matrix(y_test, lr.predict(X_test_qu), le.classes_, model_name, normalize=True, width=7)\n",
    "plt.show()"
   ]
  },
  {
   "cell_type": "code",
   "execution_count": 35,
   "metadata": {},
   "outputs": [
    {
     "data": {
      "image/png": "[encoded data removed]",
      "text/plain": [
       "<Figure size 720x360 with 1 Axes>"
      ]
     },
     "metadata": {
      "needs_background": "light"
     },
     "output_type": "display_data"
    }
   ],
   "source": [
    "lr_coef = pd.DataFrame()\n",
    "for cl in range(lr.coef_.shape[0]):\n",
    "    class_coef = pd.DataFrame(lr.coef_[cl], index=feat_cols).reset_index()\\\n",
    "                   .rename(columns={'index': 'var', 0: 'coefficient'})\n",
    "    class_coef['class'] = le.classes_[cl]\n",
    "    lr_coef = lr_coef.append(class_coef)\n",
    "\n",
    "f, ax = plt.subplots(1, figsize=(10, 5))\n",
    "sns.barplot(x=\"coefficient\", y=\"var\", hue=\"class\", data=lr_coef.sort_values('var'), palette=\"muted\", ax=ax)\n",
    "ax.set_ylabel(\"Features\", fontsize=16)\n",
    "ax.set_xlabel(\"Logistic regression model coefficient\", fontsize=16)\n",
    "ax.set_title(\"Logistic regression (L2 regularization)\\nmodel coefficients for each class, normalized features\", \n",
    "             fontsize=16)\n",
    "ax.grid(True)\n",
    "ax.legend(loc='center left', fontsize=14)\n",
    "plt.xticks(fontsize=14)\n",
    "plt.yticks(fontsize=14)\n",
    "plt.savefig('../../results/plots/{0}_{1}_feats_qu_coefs.png'\n",
    "            .format(model_code, feat_set_name), dpi=300, bbox_inches='tight')"
   ]
  },
  {
   "cell_type": "markdown",
   "metadata": {},
   "source": [
    "#### Logistic regression (L1 regularization)"
   ]
  },
  {
   "cell_type": "code",
   "execution_count": 36,
   "metadata": {},
   "outputs": [
    {
     "name": "stdout",
     "output_type": "stream",
     "text": [
      "\n",
      "Logistic regression\n",
      "(l1 penalty, C=0.1,\n",
      "quantile transformation, uniform pdf) fit, took 187.25 seconds (3.12 minutes)\n",
      "accuracy: train=0.76, test=0.76, validation #1=0.71, validation #2=0.74\n"
     ]
    }
   ],
   "source": [
    "penalty = 'l1'\n",
    "c = 0.1\n",
    "max_iter = 100\n",
    "model_name = 'Logistic regression\\n({0} penalty, C={1},\\nquantile transformation, uniform pdf)'.format(penalty, c)\n",
    "model_code = 'lr_{0}_c{1}_maxiter{2}'.format(penalty, c, max_iter)\n",
    "lr = LogisticRegression(random_state=random_state, penalty=penalty, C=c, solver='liblinear', \n",
    "                        multi_class='auto', max_iter=max_iter)\n",
    "scores_df.loc[model_code] = \\\n",
    "    fit_model(lr, model_name, X_train_qu, y_train, X_test_qu, y_test, X_val1_qu, y_val1, X_val2_qu, y_val2,\n",
    "              return_scores=True)"
   ]
  },
  {
   "cell_type": "code",
   "execution_count": 37,
   "metadata": {},
   "outputs": [
    {
     "data": {
      "text/plain": [
       "0.7611782677484471"
      ]
     },
     "execution_count": 37,
     "metadata": {},
     "output_type": "execute_result"
    }
   ],
   "source": [
    "lr = LogisticRegression(random_state=random_state, penalty=penalty, C=c, solver='liblinear', \n",
    "                        multi_class='auto', max_iter=max_iter)\n",
    "lr.fit(X_train_qu, y_train)\n",
    "lr.score(X_test_qu, y_test)"
   ]
  },
  {
   "cell_type": "code",
   "execution_count": 38,
   "metadata": {},
   "outputs": [
    {
     "name": "stdout",
     "output_type": "stream",
     "text": [
      "Classification report for Logistic regression\n",
      "(l1 penalty, C=0.1,\n",
      "quantile transformation, uniform pdf)\n"
     ]
    },
    {
     "data": {
      "text/html": [
       "<div>\n",
       "<style scoped>\n",
       "    .dataframe tbody tr th:only-of-type {\n",
       "        vertical-align: middle;\n",
       "    }\n",
       "\n",
       "    .dataframe tbody tr th {\n",
       "        vertical-align: top;\n",
       "    }\n",
       "\n",
       "    .dataframe thead th {\n",
       "        text-align: right;\n",
       "    }\n",
       "</style>\n",
       "<table border=\"1\" class=\"dataframe\">\n",
       "  <thead>\n",
       "    <tr style=\"text-align: right;\">\n",
       "      <th></th>\n",
       "      <th>condo</th>\n",
       "      <th>house</th>\n",
       "      <th>other</th>\n",
       "      <th>accuracy</th>\n",
       "      <th>macro avg</th>\n",
       "      <th>weighted avg</th>\n",
       "    </tr>\n",
       "  </thead>\n",
       "  <tbody>\n",
       "    <tr>\n",
       "      <td>precision</td>\n",
       "      <td>0.688330</td>\n",
       "      <td>0.870060</td>\n",
       "      <td>0.709931</td>\n",
       "      <td>0.761178</td>\n",
       "      <td>0.756107</td>\n",
       "      <td>0.758381</td>\n",
       "    </tr>\n",
       "    <tr>\n",
       "      <td>recall</td>\n",
       "      <td>0.652704</td>\n",
       "      <td>0.910378</td>\n",
       "      <td>0.706109</td>\n",
       "      <td>0.761178</td>\n",
       "      <td>0.756397</td>\n",
       "      <td>0.761178</td>\n",
       "    </tr>\n",
       "    <tr>\n",
       "      <td>f1-score</td>\n",
       "      <td>0.670044</td>\n",
       "      <td>0.889762</td>\n",
       "      <td>0.708015</td>\n",
       "      <td>0.761178</td>\n",
       "      <td>0.755940</td>\n",
       "      <td>0.759500</td>\n",
       "    </tr>\n",
       "    <tr>\n",
       "      <td>support</td>\n",
       "      <td>66871.000000</td>\n",
       "      <td>86664.000000</td>\n",
       "      <td>103079.000000</td>\n",
       "      <td>0.761178</td>\n",
       "      <td>256614.000000</td>\n",
       "      <td>256614.000000</td>\n",
       "    </tr>\n",
       "  </tbody>\n",
       "</table>\n",
       "</div>"
      ],
      "text/plain": [
       "                  condo         house          other  accuracy      macro avg  \\\n",
       "precision      0.688330      0.870060       0.709931  0.761178       0.756107   \n",
       "recall         0.652704      0.910378       0.706109  0.761178       0.756397   \n",
       "f1-score       0.670044      0.889762       0.708015  0.761178       0.755940   \n",
       "support    66871.000000  86664.000000  103079.000000  0.761178  256614.000000   \n",
       "\n",
       "            weighted avg  \n",
       "precision       0.758381  \n",
       "recall          0.761178  \n",
       "f1-score        0.759500  \n",
       "support    256614.000000  "
      ]
     },
     "execution_count": 38,
     "metadata": {},
     "output_type": "execute_result"
    }
   ],
   "source": [
    "cr = classification_report(y_test, lr.predict(X_test_qu), output_dict=True, target_names=le.classes_)\n",
    "print(\"Classification report for {0}\".format(model_name))\n",
    "pd.DataFrame(cr)"
   ]
  },
  {
   "cell_type": "code",
   "execution_count": 39,
   "metadata": {},
   "outputs": [
    {
     "name": "stdout",
     "output_type": "stream",
     "text": [
      "Logistic regression\n",
      "(l1 penalty, C=0.1,\n",
      "quantile transformation, uniform pdf)\n",
      "Normalized confusion matrix\n",
      "[[6.53e-01 1.80e-02 3.29e-01]\n",
      " [5.19e-04 9.10e-01 8.91e-02]\n",
      " [1.91e-01 1.03e-01 7.06e-01]]\n"
     ]
    },
    {
     "data": {
      "image/png": "[encoded data removed]",
      "text/plain": [
       "<Figure size 504x504 with 2 Axes>"
      ]
     },
     "metadata": {
      "needs_background": "light"
     },
     "output_type": "display_data"
    }
   ],
   "source": [
    "np.set_printoptions(precision=2)\n",
    "plot_confusion_matrix(y_test, lr.predict(X_test_qu), le.classes_, model_name, normalize=True, width=7)\n",
    "plt.show()"
   ]
  },
  {
   "cell_type": "code",
   "execution_count": 40,
   "metadata": {},
   "outputs": [
    {
     "data": {
      "image/png": "[encoded data removed]",
      "text/plain": [
       "<Figure size 720x360 with 1 Axes>"
      ]
     },
     "metadata": {
      "needs_background": "light"
     },
     "output_type": "display_data"
    }
   ],
   "source": [
    "lr_coef = pd.DataFrame()\n",
    "for cl in range(lr.coef_.shape[0]):\n",
    "    class_coef = pd.DataFrame(lr.coef_[cl], index=feat_cols).reset_index()\\\n",
    "                   .rename(columns={'index': 'var', 0: 'coefficient'})\n",
    "    class_coef['class'] = le.classes_[cl]\n",
    "    lr_coef = lr_coef.append(class_coef)\n",
    "\n",
    "f, ax = plt.subplots(1, figsize=(10, 5))\n",
    "sns.barplot(x=\"coefficient\", y=\"var\", hue=\"class\", data=lr_coef.sort_values('var'), palette=\"muted\", ax=ax)\n",
    "ax.set_ylabel(\"Features\", fontsize=16)\n",
    "ax.set_xlabel(\"Logistic regression model coefficient\", fontsize=16)\n",
    "ax.set_title(\"Logistic regression (L1 regularization)\\nmodel coefficients for each class, normalized features\", \n",
    "             fontsize=16)\n",
    "ax.grid(True)\n",
    "ax.legend(loc='center left', fontsize=14)\n",
    "plt.xticks(fontsize=14)\n",
    "plt.yticks(fontsize=14)\n",
    "plt.savefig('../../results/plots/{0}_{1}_feats_qu_coefs.png'\n",
    "            .format(model_code, feat_set_name), dpi=300, bbox_inches='tight')"
   ]
  },
  {
   "cell_type": "markdown",
   "metadata": {},
   "source": [
    "#### Linear Discriminant Analysis (LDA)"
   ]
  },
  {
   "cell_type": "code",
   "execution_count": 41,
   "metadata": {},
   "outputs": [
    {
     "name": "stdout",
     "output_type": "stream",
     "text": [
      "\n",
      "Linear Discriminant Analysis (LDA) fit, took 1.78 seconds (0.03 minutes)\n",
      "accuracy: train=0.73, test=0.73, validation #1=0.70, validation #2=0.72\n"
     ]
    }
   ],
   "source": [
    "model_name = 'Linear Discriminant Analysis (LDA)'\n",
    "model_code = 'lda'\n",
    "lda = LinearDiscriminantAnalysis()\n",
    "scores_df.loc[model_code] = \\\n",
    "    fit_model(lda, model_name, X_train_qu, y_train, X_test_qu, y_test, X_val1_qu, y_val1, X_val2_qu, y_val2,\n",
    "              return_scores=True)"
   ]
  },
  {
   "cell_type": "code",
   "execution_count": 42,
   "metadata": {},
   "outputs": [
    {
     "data": {
      "text/plain": [
       "0.7310668942458323"
      ]
     },
     "execution_count": 42,
     "metadata": {},
     "output_type": "execute_result"
    }
   ],
   "source": [
    "lda = LinearDiscriminantAnalysis()\n",
    "lda.fit(X_train_qu, y_train)\n",
    "lda.score(X_test_qu, y_test)"
   ]
  },
  {
   "cell_type": "code",
   "execution_count": 43,
   "metadata": {},
   "outputs": [
    {
     "name": "stdout",
     "output_type": "stream",
     "text": [
      "Classification report for Linear Discriminant Analysis (LDA)\n"
     ]
    },
    {
     "data": {
      "text/html": [
       "<div>\n",
       "<style scoped>\n",
       "    .dataframe tbody tr th:only-of-type {\n",
       "        vertical-align: middle;\n",
       "    }\n",
       "\n",
       "    .dataframe tbody tr th {\n",
       "        vertical-align: top;\n",
       "    }\n",
       "\n",
       "    .dataframe thead th {\n",
       "        text-align: right;\n",
       "    }\n",
       "</style>\n",
       "<table border=\"1\" class=\"dataframe\">\n",
       "  <thead>\n",
       "    <tr style=\"text-align: right;\">\n",
       "      <th></th>\n",
       "      <th>condo</th>\n",
       "      <th>house</th>\n",
       "      <th>other</th>\n",
       "      <th>accuracy</th>\n",
       "      <th>macro avg</th>\n",
       "      <th>weighted avg</th>\n",
       "    </tr>\n",
       "  </thead>\n",
       "  <tbody>\n",
       "    <tr>\n",
       "      <td>precision</td>\n",
       "      <td>0.650403</td>\n",
       "      <td>0.822698</td>\n",
       "      <td>0.698230</td>\n",
       "      <td>0.731067</td>\n",
       "      <td>0.723777</td>\n",
       "      <td>0.727802</td>\n",
       "    </tr>\n",
       "    <tr>\n",
       "      <td>recall</td>\n",
       "      <td>0.662813</td>\n",
       "      <td>0.891247</td>\n",
       "      <td>0.640674</td>\n",
       "      <td>0.731067</td>\n",
       "      <td>0.731578</td>\n",
       "      <td>0.731067</td>\n",
       "    </tr>\n",
       "    <tr>\n",
       "      <td>f1-score</td>\n",
       "      <td>0.656549</td>\n",
       "      <td>0.855602</td>\n",
       "      <td>0.668215</td>\n",
       "      <td>0.731067</td>\n",
       "      <td>0.726789</td>\n",
       "      <td>0.728459</td>\n",
       "    </tr>\n",
       "    <tr>\n",
       "      <td>support</td>\n",
       "      <td>66871.000000</td>\n",
       "      <td>86664.000000</td>\n",
       "      <td>103079.000000</td>\n",
       "      <td>0.731067</td>\n",
       "      <td>256614.000000</td>\n",
       "      <td>256614.000000</td>\n",
       "    </tr>\n",
       "  </tbody>\n",
       "</table>\n",
       "</div>"
      ],
      "text/plain": [
       "                  condo         house          other  accuracy      macro avg  \\\n",
       "precision      0.650403      0.822698       0.698230  0.731067       0.723777   \n",
       "recall         0.662813      0.891247       0.640674  0.731067       0.731578   \n",
       "f1-score       0.656549      0.855602       0.668215  0.731067       0.726789   \n",
       "support    66871.000000  86664.000000  103079.000000  0.731067  256614.000000   \n",
       "\n",
       "            weighted avg  \n",
       "precision       0.727802  \n",
       "recall          0.731067  \n",
       "f1-score        0.728459  \n",
       "support    256614.000000  "
      ]
     },
     "execution_count": 43,
     "metadata": {},
     "output_type": "execute_result"
    }
   ],
   "source": [
    "cr = classification_report(y_test, lda.predict(X_test_qu), output_dict=True, target_names=le.classes_)\n",
    "print(\"Classification report for {0}\".format(model_name))\n",
    "pd.DataFrame(cr)"
   ]
  },
  {
   "cell_type": "code",
   "execution_count": 44,
   "metadata": {},
   "outputs": [
    {
     "name": "stdout",
     "output_type": "stream",
     "text": [
      "Linear Discriminant Analysis (LDA)\n",
      "Normalized confusion matrix\n",
      "[[6.63e-01 5.10e-02 2.86e-01]\n",
      " [2.42e-04 8.91e-01 1.09e-01]\n",
      " [2.31e-01 1.28e-01 6.41e-01]]\n"
     ]
    },
    {
     "data": {
      "image/png": "[encoded data removed]",
      "text/plain": [
       "<Figure size 504x504 with 2 Axes>"
      ]
     },
     "metadata": {
      "needs_background": "light"
     },
     "output_type": "display_data"
    }
   ],
   "source": [
    "plot_confusion_matrix(y_test, lda.predict(X_test_qu), le.classes_, model_name, normalize=True, width=7)\n",
    "plt.show()"
   ]
  },
  {
   "cell_type": "markdown",
   "metadata": {},
   "source": [
    "#### Quadratic Discriminant Analysis (QDA)"
   ]
  },
  {
   "cell_type": "code",
   "execution_count": 45,
   "metadata": {},
   "outputs": [
    {
     "name": "stdout",
     "output_type": "stream",
     "text": [
      "\n",
      "Quadratic Discriminant Analysis fit, took 1.21 seconds (0.02 minutes)\n",
      "accuracy: train=0.66, test=0.66, validation #1=0.67, validation #2=0.60\n"
     ]
    }
   ],
   "source": [
    "model_name = 'Quadratic Discriminant Analysis'\n",
    "model_code = 'qda'\n",
    "qda = QuadraticDiscriminantAnalysis()\n",
    "scores_df.loc[model_code] = \\\n",
    "    fit_model(qda, model_name, X_train_qu, y_train, X_test_qu, y_test, X_val1_qu, y_val1, X_val2_qu, y_val2,\n",
    "              return_scores=True)"
   ]
  },
  {
   "cell_type": "code",
   "execution_count": 46,
   "metadata": {},
   "outputs": [
    {
     "data": {
      "text/plain": [
       "0.6568698512162235"
      ]
     },
     "execution_count": 46,
     "metadata": {},
     "output_type": "execute_result"
    }
   ],
   "source": [
    "qda = QuadraticDiscriminantAnalysis()\n",
    "qda.fit(X_train_qu, y_train)\n",
    "qda.score(X_test_qu, y_test)"
   ]
  },
  {
   "cell_type": "code",
   "execution_count": 47,
   "metadata": {},
   "outputs": [
    {
     "name": "stdout",
     "output_type": "stream",
     "text": [
      "Classification report for Quadratic Discriminant Analysis\n"
     ]
    },
    {
     "data": {
      "text/html": [
       "<div>\n",
       "<style scoped>\n",
       "    .dataframe tbody tr th:only-of-type {\n",
       "        vertical-align: middle;\n",
       "    }\n",
       "\n",
       "    .dataframe tbody tr th {\n",
       "        vertical-align: top;\n",
       "    }\n",
       "\n",
       "    .dataframe thead th {\n",
       "        text-align: right;\n",
       "    }\n",
       "</style>\n",
       "<table border=\"1\" class=\"dataframe\">\n",
       "  <thead>\n",
       "    <tr style=\"text-align: right;\">\n",
       "      <th></th>\n",
       "      <th>condo</th>\n",
       "      <th>house</th>\n",
       "      <th>other</th>\n",
       "      <th>accuracy</th>\n",
       "      <th>macro avg</th>\n",
       "      <th>weighted avg</th>\n",
       "    </tr>\n",
       "  </thead>\n",
       "  <tbody>\n",
       "    <tr>\n",
       "      <td>precision</td>\n",
       "      <td>0.509802</td>\n",
       "      <td>0.796142</td>\n",
       "      <td>0.789632</td>\n",
       "      <td>0.65687</td>\n",
       "      <td>0.698525</td>\n",
       "      <td>0.718910</td>\n",
       "    </tr>\n",
       "    <tr>\n",
       "      <td>recall</td>\n",
       "      <td>0.946569</td>\n",
       "      <td>0.953452</td>\n",
       "      <td>0.219579</td>\n",
       "      <td>0.65687</td>\n",
       "      <td>0.706533</td>\n",
       "      <td>0.656870</td>\n",
       "    </tr>\n",
       "    <tr>\n",
       "      <td>f1-score</td>\n",
       "      <td>0.662692</td>\n",
       "      <td>0.867725</td>\n",
       "      <td>0.343608</td>\n",
       "      <td>0.65687</td>\n",
       "      <td>0.624675</td>\n",
       "      <td>0.603764</td>\n",
       "    </tr>\n",
       "    <tr>\n",
       "      <td>support</td>\n",
       "      <td>66871.000000</td>\n",
       "      <td>86664.000000</td>\n",
       "      <td>103079.000000</td>\n",
       "      <td>0.65687</td>\n",
       "      <td>256614.000000</td>\n",
       "      <td>256614.000000</td>\n",
       "    </tr>\n",
       "  </tbody>\n",
       "</table>\n",
       "</div>"
      ],
      "text/plain": [
       "                  condo         house          other  accuracy      macro avg  \\\n",
       "precision      0.509802      0.796142       0.789632   0.65687       0.698525   \n",
       "recall         0.946569      0.953452       0.219579   0.65687       0.706533   \n",
       "f1-score       0.662692      0.867725       0.343608   0.65687       0.624675   \n",
       "support    66871.000000  86664.000000  103079.000000   0.65687  256614.000000   \n",
       "\n",
       "            weighted avg  \n",
       "precision       0.718910  \n",
       "recall          0.656870  \n",
       "f1-score        0.603764  \n",
       "support    256614.000000  "
      ]
     },
     "execution_count": 47,
     "metadata": {},
     "output_type": "execute_result"
    }
   ],
   "source": [
    "cr = classification_report(y_test, qda.predict(X_test_qu), output_dict=True, target_names=le.classes_)\n",
    "print(\"Classification report for {0}\".format(model_name))\n",
    "pd.DataFrame(cr)"
   ]
  },
  {
   "cell_type": "code",
   "execution_count": 48,
   "metadata": {},
   "outputs": [
    {
     "name": "stdout",
     "output_type": "stream",
     "text": [
      "Quadratic Discriminant Analysis\n",
      "Normalized confusion matrix\n",
      "[[0.95 0.01 0.05]\n",
      " [0.01 0.95 0.03]\n",
      " [0.58 0.2  0.22]]\n"
     ]
    },
    {
     "data": {
      "image/png": "[encoded data removed]",
      "text/plain": [
       "<Figure size 504x504 with 2 Axes>"
      ]
     },
     "metadata": {
      "needs_background": "light"
     },
     "output_type": "display_data"
    }
   ],
   "source": [
    "plot_confusion_matrix(y_test, qda.predict(X_test_qu), le.classes_, model_name, normalize=True, width=7)\n",
    "plt.show()"
   ]
  },
  {
   "cell_type": "markdown",
   "metadata": {},
   "source": [
    "#### Linear Support Vector Classification (L2)"
   ]
  },
  {
   "cell_type": "code",
   "execution_count": 49,
   "metadata": {},
   "outputs": [
    {
     "name": "stdout",
     "output_type": "stream",
     "text": [
      "\n",
      "Linear Support Vector Classification\n",
      "(l2 penalty, C=0.1,\n",
      "quantile transformation, uniform pdf) fit, took 10.76 seconds (0.18 minutes)\n",
      "accuracy: train=0.76, test=0.76, validation #1=0.71, validation #2=0.74\n"
     ]
    }
   ],
   "source": [
    "penalty = 'l2'\n",
    "max_iter = 100\n",
    "c = 0.1\n",
    "model_name = 'Linear Support Vector Classification' +\\\n",
    "             '\\n({0} penalty, C={1},\\nquantile transformation, uniform pdf)'.format(penalty, c)\n",
    "model_code = 'lsvc_{0}_c{1}_maxiter{2}'.format(penalty, c, max_iter)\n",
    "lsvc = LinearSVC(random_state=random_state, penalty=penalty, loss='squared_hinge', max_iter=max_iter, C=c)\n",
    "scores_df.loc[model_code] = \\\n",
    "    fit_model(lsvc, model_name, X_train_qu, y_train, X_test_qu, y_test, X_val1_qu, y_val1, X_val2_qu, y_val2,\n",
    "              return_scores=True)"
   ]
  },
  {
   "cell_type": "code",
   "execution_count": null,
   "metadata": {},
   "outputs": [],
   "source": [
    "lsvc = LinearSVC(random_state=random_state, penalty=penalty, loss='squared_hinge', max_iter=max_iter, C=c)\n",
    "lsvc.fit(X_train_qu, y_train)\n",
    "lsvc.score(X_test_qu, y_test)"
   ]
  },
  {
   "cell_type": "code",
   "execution_count": null,
   "metadata": {},
   "outputs": [],
   "source": [
    "cr = classification_report(y_test, lsvc.predict(X_test_qu), output_dict=True, target_names=le.classes_)\n",
    "print(\"Classification report for {0}\".format(model_name))\n",
    "pd.DataFrame(cr)"
   ]
  },
  {
   "cell_type": "code",
   "execution_count": null,
   "metadata": {},
   "outputs": [],
   "source": [
    "np.set_printoptions(precision=2)\n",
    "plot_confusion_matrix(y_test, lsvc.predict(X_test_qu), le.classes_, model_name, normalize=True, width=7)\n",
    "plt.show()"
   ]
  },
  {
   "cell_type": "code",
   "execution_count": null,
   "metadata": {},
   "outputs": [],
   "source": [
    "lsvc_coef = pd.DataFrame()\n",
    "for cl in range(lsvc.coef_.shape[0]):\n",
    "    class_coef = pd.DataFrame(lsvc.coef_[cl], index=feat_cols).reset_index()\\\n",
    "                   .rename(columns={'index': 'var', 0: 'coefficient'})\n",
    "    class_coef['class'] = le.classes_[cl]\n",
    "    lsvc_coef = lsvc_coef.append(class_coef)\n",
    "\n",
    "f, ax = plt.subplots(1, figsize=(10, 5))\n",
    "sns.barplot(x=\"coefficient\", y=\"var\", hue=\"class\", data=lsvc_coef.sort_values('var'), palette=\"muted\", ax=ax)\n",
    "ax.set_ylabel(\"Features\", fontsize=16)\n",
    "ax.set_xlabel(\"LSVC model coefficient\", fontsize=16)\n",
    "ax.set_title(\"{0}\\nmodel coefficients for each class, normalized features\".format(model_name), \n",
    "             fontsize=16)\n",
    "ax.grid(True)\n",
    "ax.legend(loc='center left', fontsize=14)\n",
    "plt.xticks(fontsize=14)\n",
    "plt.yticks(fontsize=14)\n",
    "plt.savefig('../../results/plots/{0}_{1}_feats_qu_coefs.png'\n",
    "            .format(feat_set_name, model_code), bbox_inches='tight')"
   ]
  },
  {
   "cell_type": "markdown",
   "metadata": {},
   "source": [
    "#### Linear Support Vector Classification (L1)"
   ]
  },
  {
   "cell_type": "code",
   "execution_count": null,
   "metadata": {},
   "outputs": [],
   "source": [
    "penalty = 'l1'\n",
    "max_iter = 100\n",
    "c = 0.1\n",
    "model_name = 'Linear Support Vector Classification' +\\\n",
    "             '\\n({0} penalty, C={1},\\nquantile transformation, uniform pdf)'.format(penalty, c)\n",
    "model_code = 'lsvc_{0}_c{1}_maxiter{2}'.format(penalty, c, max_iter)\n",
    "lsvc = LinearSVC(random_state=random_state, penalty=penalty, loss='squared_hinge', max_iter=max_iter, C=c, dual=False)\n",
    "scores_df.loc[model_code] = \\\n",
    "    fit_model(lsvc, model_name, X_train_qu, y_train, X_test_qu, y_test, X_val1_qu, y_val1, X_val2_qu, y_val2,\n",
    "              return_scores=True)"
   ]
  },
  {
   "cell_type": "code",
   "execution_count": null,
   "metadata": {},
   "outputs": [],
   "source": [
    "lsvc = LinearSVC(random_state=random_state, penalty=penalty, loss='squared_hinge', max_iter=max_iter, C=c, dual=False)\n",
    "lsvc.fit(X_train_qu, y_train)\n",
    "lsvc.score(X_test_qu, y_test)"
   ]
  },
  {
   "cell_type": "code",
   "execution_count": null,
   "metadata": {},
   "outputs": [],
   "source": [
    "cr = classification_report(y_test, lsvc.predict(X_test_qu), output_dict=True, target_names=le.classes_)\n",
    "print(\"Classification report for {0}\".format(model_name))\n",
    "pd.DataFrame(cr)"
   ]
  },
  {
   "cell_type": "code",
   "execution_count": null,
   "metadata": {},
   "outputs": [],
   "source": [
    "np.set_printoptions(precision=2)\n",
    "plot_confusion_matrix(y_test, lsvc.predict(X_test_qu), le.classes_, model_name, normalize=True, width=7)\n",
    "plt.show()"
   ]
  },
  {
   "cell_type": "code",
   "execution_count": null,
   "metadata": {},
   "outputs": [],
   "source": [
    "lsvc_coef = pd.DataFrame()\n",
    "for cl in range(lsvc.coef_.shape[0]):\n",
    "    class_coef = pd.DataFrame(lsvc.coef_[cl], index=feat_cols).reset_index()\\\n",
    "                   .rename(columns={'index': 'var', 0: 'coefficient'})\n",
    "    class_coef['class'] = le.classes_[cl]\n",
    "    lsvc_coef = lsvc_coef.append(class_coef)\n",
    "\n",
    "f, ax = plt.subplots(1, figsize=(10, 5))\n",
    "sns.barplot(x=\"coefficient\", y=\"var\", hue=\"class\", data=lsvc_coef.sort_values('var'), palette=\"muted\", ax=ax)\n",
    "ax.set_ylabel(\"Features\", fontsize=16)\n",
    "ax.set_xlabel(\"LSVC model coefficient\", fontsize=16)\n",
    "ax.set_title(\"{0}\\nmodel coefficients for each class, normalized features\".format(model_name), \n",
    "             fontsize=16)\n",
    "ax.grid(True)\n",
    "ax.legend(loc='center left', fontsize=14)\n",
    "plt.xticks(fontsize=14)\n",
    "plt.yticks(fontsize=14)\n",
    "plt.savefig('../../results/plots/{0}_{1}_feats_qu_coefs.png'\n",
    "            .format(feat_set_name, model_code), bbox_inches='tight')"
   ]
  },
  {
   "cell_type": "markdown",
   "metadata": {},
   "source": [
    "#### Gaussian Naive Bayes"
   ]
  },
  {
   "cell_type": "code",
   "execution_count": null,
   "metadata": {},
   "outputs": [],
   "source": [
    "model_name = \"Gaussian Naive Bayes,\\n(quantile transformation, gaussian pdf)\"\n",
    "model_code = 'nb_qn'\n",
    "nb = GaussianNB()\n",
    "scores_df.loc[model_code] = \\\n",
    "    fit_model(nb, model_name, X_train_qn, y_train, X_test_qn, y_test, X_val1_qn, y_val1, X_val2_qn, y_val2,\n",
    "              return_scores=True)"
   ]
  },
  {
   "cell_type": "code",
   "execution_count": null,
   "metadata": {},
   "outputs": [],
   "source": [
    "nb = GaussianNB()\n",
    "nb.fit(X_train_qn, y_train)\n",
    "nb.score(X_test_qn, y_test)"
   ]
  },
  {
   "cell_type": "code",
   "execution_count": null,
   "metadata": {},
   "outputs": [],
   "source": [
    "cr = classification_report(y_test, nb.predict(X_test_qn), output_dict=True, target_names=le.classes_)\n",
    "print(\"Classification report for {0}\".format(model_name))\n",
    "pd.DataFrame(cr)"
   ]
  },
  {
   "cell_type": "code",
   "execution_count": null,
   "metadata": {},
   "outputs": [],
   "source": [
    "plot_confusion_matrix(y_test, nb.predict(X_test_qn), le.classes_, model_name, normalize=True, width=7)\n",
    "plt.show()"
   ]
  },
  {
   "cell_type": "markdown",
   "metadata": {},
   "source": [
    "### Tree-based models"
   ]
  },
  {
   "cell_type": "markdown",
   "metadata": {},
   "source": [
    "#### Decision Tree"
   ]
  },
  {
   "cell_type": "code",
   "execution_count": 59,
   "metadata": {},
   "outputs": [
    {
     "name": "stdout",
     "output_type": "stream",
     "text": [
      "\n",
      "Decision Tree\n",
      "('gini' criterion, max_depth=25) fit, took 9.21 seconds (0.15 minutes)\n",
      "accuracy: train=0.99, test=0.96, validation #1=0.93, validation #2=0.86\n"
     ]
    }
   ],
   "source": [
    "max_depth = 25\n",
    "model_name = \"Decision Tree\\n('gini' criterion, max_depth={0})\".format(max_depth)\n",
    "model_code = 'tree{0}'.format(max_depth)\n",
    "tree = DecisionTreeClassifier(criterion='gini', random_state=random_state, max_depth=max_depth)\n",
    "scores_df.loc[model_code] = \\\n",
    "    fit_model(tree, model_name, X_train, y_train, X_test, y_test, X_val1, y_val1, X_val2, y_val2,\n",
    "              return_scores=True)"
   ]
  },
  {
   "cell_type": "code",
   "execution_count": 60,
   "metadata": {},
   "outputs": [
    {
     "data": {
      "text/plain": [
       "0.9583421013662544"
      ]
     },
     "execution_count": 60,
     "metadata": {},
     "output_type": "execute_result"
    }
   ],
   "source": [
    "tree = DecisionTreeClassifier(criterion='gini', random_state=random_state, max_depth=max_depth)\n",
    "tree.fit(X_train, y_train)\n",
    "tree.score(X_test, y_test)"
   ]
  },
  {
   "cell_type": "code",
   "execution_count": 61,
   "metadata": {},
   "outputs": [
    {
     "name": "stdout",
     "output_type": "stream",
     "text": [
      "Classification report for Decision Tree\n",
      "('gini' criterion, max_depth=25)\n"
     ]
    },
    {
     "data": {
      "text/html": [
       "<div>\n",
       "<style scoped>\n",
       "    .dataframe tbody tr th:only-of-type {\n",
       "        vertical-align: middle;\n",
       "    }\n",
       "\n",
       "    .dataframe tbody tr th {\n",
       "        vertical-align: top;\n",
       "    }\n",
       "\n",
       "    .dataframe thead th {\n",
       "        text-align: right;\n",
       "    }\n",
       "</style>\n",
       "<table border=\"1\" class=\"dataframe\">\n",
       "  <thead>\n",
       "    <tr style=\"text-align: right;\">\n",
       "      <th></th>\n",
       "      <th>condo</th>\n",
       "      <th>house</th>\n",
       "      <th>other</th>\n",
       "      <th>accuracy</th>\n",
       "      <th>macro avg</th>\n",
       "      <th>weighted avg</th>\n",
       "    </tr>\n",
       "  </thead>\n",
       "  <tbody>\n",
       "    <tr>\n",
       "      <td>precision</td>\n",
       "      <td>0.991807</td>\n",
       "      <td>0.937332</td>\n",
       "      <td>0.954484</td>\n",
       "      <td>0.958342</td>\n",
       "      <td>0.961207</td>\n",
       "      <td>0.958417</td>\n",
       "    </tr>\n",
       "    <tr>\n",
       "      <td>recall</td>\n",
       "      <td>0.990235</td>\n",
       "      <td>0.946979</td>\n",
       "      <td>0.947206</td>\n",
       "      <td>0.958342</td>\n",
       "      <td>0.961473</td>\n",
       "      <td>0.958342</td>\n",
       "    </tr>\n",
       "    <tr>\n",
       "      <td>f1-score</td>\n",
       "      <td>0.991020</td>\n",
       "      <td>0.942131</td>\n",
       "      <td>0.950831</td>\n",
       "      <td>0.958342</td>\n",
       "      <td>0.961327</td>\n",
       "      <td>0.958366</td>\n",
       "    </tr>\n",
       "    <tr>\n",
       "      <td>support</td>\n",
       "      <td>66871.000000</td>\n",
       "      <td>86664.000000</td>\n",
       "      <td>103079.000000</td>\n",
       "      <td>0.958342</td>\n",
       "      <td>256614.000000</td>\n",
       "      <td>256614.000000</td>\n",
       "    </tr>\n",
       "  </tbody>\n",
       "</table>\n",
       "</div>"
      ],
      "text/plain": [
       "                  condo         house          other  accuracy      macro avg  \\\n",
       "precision      0.991807      0.937332       0.954484  0.958342       0.961207   \n",
       "recall         0.990235      0.946979       0.947206  0.958342       0.961473   \n",
       "f1-score       0.991020      0.942131       0.950831  0.958342       0.961327   \n",
       "support    66871.000000  86664.000000  103079.000000  0.958342  256614.000000   \n",
       "\n",
       "            weighted avg  \n",
       "precision       0.958417  \n",
       "recall          0.958342  \n",
       "f1-score        0.958366  \n",
       "support    256614.000000  "
      ]
     },
     "execution_count": 61,
     "metadata": {},
     "output_type": "execute_result"
    }
   ],
   "source": [
    "cr = classification_report(y_test, tree.predict(X_test), output_dict=True, target_names=le.classes_)\n",
    "print(\"Classification report for {0}\".format(model_name))\n",
    "pd.DataFrame(cr)"
   ]
  },
  {
   "cell_type": "code",
   "execution_count": 62,
   "metadata": {},
   "outputs": [
    {
     "name": "stdout",
     "output_type": "stream",
     "text": [
      "Decision Tree\n",
      "('gini' criterion, max_depth=25)\n",
      "Normalized confusion matrix\n",
      "[[0.99 0.01 0.  ]\n",
      " [0.   0.95 0.05]\n",
      " [0.   0.05 0.95]]\n"
     ]
    },
    {
     "data": {
      "image/png": "[encoded data removed]",
      "text/plain": [
       "<Figure size 504x504 with 2 Axes>"
      ]
     },
     "metadata": {
      "needs_background": "light"
     },
     "output_type": "display_data"
    }
   ],
   "source": [
    "np.set_printoptions(precision=2)\n",
    "plot_confusion_matrix(y_test, tree.predict(X_test), le.classes_, model_name, normalize=True, width=7)\n",
    "plt.show()"
   ]
  },
  {
   "cell_type": "code",
   "execution_count": 63,
   "metadata": {},
   "outputs": [],
   "source": [
    "dot_data = export_graphviz(tree, filled=True, rounded=True, class_names=le.classes_,\n",
    "                           feature_names=feat_cols, out_file='../../results/{0}_tree{1}_visualization.dot'\n",
    "                                                             .format(feat_set_name, max_depth))\n",
    "# graph = graph_from_dot_data(dot_data)\n",
    "# graph.set('dpi', '500')\n",
    "# graph.write_png('../../results/plots/tree_teranet_census_tts_4c.png')"
   ]
  },
  {
   "cell_type": "markdown",
   "metadata": {},
   "source": [
    "#### Random Forest"
   ]
  },
  {
   "cell_type": "code",
   "execution_count": 64,
   "metadata": {},
   "outputs": [
    {
     "name": "stdout",
     "output_type": "stream",
     "text": [
      "\n",
      "Random Forest\n",
      "('gini' criterion, n_estimators=50) fit, took 21.17 seconds (0.35 minutes)\n",
      "accuracy: train=1.00, test=0.97, validation #1=0.95, validation #2=0.88\n"
     ]
    }
   ],
   "source": [
    "n_jobs = 12\n",
    "n_estimators = 50\n",
    "model_name = \"Random Forest\\n('gini' criterion, n_estimators={0})\".format(n_estimators)\n",
    "model_code = 'forest{0}'.format(n_estimators)\n",
    "forest = RandomForestClassifier(criterion='gini', random_state=random_state, n_jobs=n_jobs, n_estimators=n_estimators)\n",
    "scores_df.loc[model_code] = \\\n",
    "    fit_model(forest, model_name, X_train, y_train, X_test, y_test, X_val1, y_val1, X_val2, y_val2,\n",
    "              return_scores=True)"
   ]
  },
  {
   "cell_type": "code",
   "execution_count": 65,
   "metadata": {},
   "outputs": [
    {
     "data": {
      "text/plain": [
       "0.9687546275729305"
      ]
     },
     "execution_count": 65,
     "metadata": {},
     "output_type": "execute_result"
    }
   ],
   "source": [
    "forest = RandomForestClassifier(criterion='gini', random_state=random_state, n_jobs=n_jobs, n_estimators=n_estimators)\n",
    "forest.fit(X_train, y_train)\n",
    "forest.score(X_test, y_test)"
   ]
  },
  {
   "cell_type": "code",
   "execution_count": 66,
   "metadata": {},
   "outputs": [
    {
     "name": "stdout",
     "output_type": "stream",
     "text": [
      "Classification report for Random Forest\n",
      "('gini' criterion, n_estimators=50)\n"
     ]
    },
    {
     "data": {
      "text/html": [
       "<div>\n",
       "<style scoped>\n",
       "    .dataframe tbody tr th:only-of-type {\n",
       "        vertical-align: middle;\n",
       "    }\n",
       "\n",
       "    .dataframe tbody tr th {\n",
       "        vertical-align: top;\n",
       "    }\n",
       "\n",
       "    .dataframe thead th {\n",
       "        text-align: right;\n",
       "    }\n",
       "</style>\n",
       "<table border=\"1\" class=\"dataframe\">\n",
       "  <thead>\n",
       "    <tr style=\"text-align: right;\">\n",
       "      <th></th>\n",
       "      <th>condo</th>\n",
       "      <th>house</th>\n",
       "      <th>other</th>\n",
       "      <th>accuracy</th>\n",
       "      <th>macro avg</th>\n",
       "      <th>weighted avg</th>\n",
       "    </tr>\n",
       "  </thead>\n",
       "  <tbody>\n",
       "    <tr>\n",
       "      <td>precision</td>\n",
       "      <td>0.996800</td>\n",
       "      <td>0.940099</td>\n",
       "      <td>0.975766</td>\n",
       "      <td>0.968755</td>\n",
       "      <td>0.970888</td>\n",
       "      <td>0.969202</td>\n",
       "    </tr>\n",
       "    <tr>\n",
       "      <td>recall</td>\n",
       "      <td>0.992179</td>\n",
       "      <td>0.973011</td>\n",
       "      <td>0.949980</td>\n",
       "      <td>0.968755</td>\n",
       "      <td>0.971723</td>\n",
       "      <td>0.968755</td>\n",
       "    </tr>\n",
       "    <tr>\n",
       "      <td>f1-score</td>\n",
       "      <td>0.994484</td>\n",
       "      <td>0.956272</td>\n",
       "      <td>0.962700</td>\n",
       "      <td>0.968755</td>\n",
       "      <td>0.971152</td>\n",
       "      <td>0.968812</td>\n",
       "    </tr>\n",
       "    <tr>\n",
       "      <td>support</td>\n",
       "      <td>66871.000000</td>\n",
       "      <td>86664.000000</td>\n",
       "      <td>103079.000000</td>\n",
       "      <td>0.968755</td>\n",
       "      <td>256614.000000</td>\n",
       "      <td>256614.000000</td>\n",
       "    </tr>\n",
       "  </tbody>\n",
       "</table>\n",
       "</div>"
      ],
      "text/plain": [
       "                  condo         house          other  accuracy      macro avg  \\\n",
       "precision      0.996800      0.940099       0.975766  0.968755       0.970888   \n",
       "recall         0.992179      0.973011       0.949980  0.968755       0.971723   \n",
       "f1-score       0.994484      0.956272       0.962700  0.968755       0.971152   \n",
       "support    66871.000000  86664.000000  103079.000000  0.968755  256614.000000   \n",
       "\n",
       "            weighted avg  \n",
       "precision       0.969202  \n",
       "recall          0.968755  \n",
       "f1-score        0.968812  \n",
       "support    256614.000000  "
      ]
     },
     "execution_count": 66,
     "metadata": {},
     "output_type": "execute_result"
    }
   ],
   "source": [
    "cr = classification_report(y_test, forest.predict(X_test), output_dict=True, target_names=le.classes_)\n",
    "print(\"Classification report for {0}\".format(model_name))\n",
    "pd.DataFrame(cr)"
   ]
  },
  {
   "cell_type": "code",
   "execution_count": 67,
   "metadata": {},
   "outputs": [
    {
     "name": "stdout",
     "output_type": "stream",
     "text": [
      "Random Forest\n",
      "('gini' criterion, n_estimators=50)\n",
      "Normalized confusion matrix\n",
      "[[9.92e-01 6.07e-03 1.75e-03]\n",
      " [2.77e-04 9.73e-01 2.67e-02]\n",
      " [1.83e-03 4.82e-02 9.50e-01]]\n"
     ]
    },
    {
     "data": {
      "image/png": "[encoded data removed]",
      "text/plain": [
       "<Figure size 504x504 with 2 Axes>"
      ]
     },
     "metadata": {
      "needs_background": "light"
     },
     "output_type": "display_data"
    }
   ],
   "source": [
    "np.set_printoptions(precision=2)\n",
    "plot_confusion_matrix(y_test, forest.predict(X_test), le.classes_, model_name, normalize=True, width=7)\n",
    "plt.show()"
   ]
  },
  {
   "cell_type": "code",
   "execution_count": 68,
   "metadata": {},
   "outputs": [
    {
     "data": {
      "image/png": "[encoded data removed]",
      "text/plain": [
       "<Figure size 720x288 with 1 Axes>"
      ]
     },
     "metadata": {
      "needs_background": "light"
     },
     "output_type": "display_data"
    }
   ],
   "source": [
    "# plot feature importances from Random Forest\n",
    "importances = forest.feature_importances_\n",
    "\n",
    "indices = np.argsort(importances)[::-1]\n",
    "\n",
    "f, ax = plt.subplots(1, figsize=(10, 4))\n",
    "ax.set_title('{0}, feature Importance'.format(model_name))\n",
    "plt.barh(feat_cols, importances[indices], align='center')\n",
    "ax.set_xlabel('Feature Importance')\n",
    "ax.set_ylabel('Feature')\n",
    "f.savefig('../../results/plots/{0}_{1}_feature_importance.png'.format(feat_set_name, model_code))"
   ]
  },
  {
   "cell_type": "markdown",
   "metadata": {},
   "source": [
    "### Nearest neighbors"
   ]
  },
  {
   "cell_type": "markdown",
   "metadata": {},
   "source": [
    "#### K-nearest neighbors"
   ]
  },
  {
   "cell_type": "code",
   "execution_count": 69,
   "metadata": {},
   "outputs": [
    {
     "name": "stdout",
     "output_type": "stream",
     "text": [
      "\n",
      "K-nearest neighbors (p=1, k=4, standardized) fit, took 273.32 seconds (4.56 minutes)\n",
      "accuracy: train=0.97, test=0.95, validation #1=0.92, validation #2=0.83\n"
     ]
    }
   ],
   "source": [
    "n_jobs = 12\n",
    "p = 1\n",
    "k = 4\n",
    "model_name = \"K-nearest neighbors (p={0}, k={1}, standardized)\".format(p, k)\n",
    "model_code = 'knn_p{0}_k{1}'.format(p, k)\n",
    "knn = KNeighborsClassifier(metric='minkowski', p=p, n_neighbors=k, n_jobs=n_jobs)\n",
    "scores_df.loc[model_code] = \\\n",
    "    fit_model(knn, model_name, X_train_std, y_train, X_test_std, y_test, X_val1_std, y_val1, X_val2_std, y_val2,\n",
    "              return_scores=True)"
   ]
  },
  {
   "cell_type": "code",
   "execution_count": 70,
   "metadata": {},
   "outputs": [
    {
     "data": {
      "text/plain": [
       "0.95274614791087"
      ]
     },
     "execution_count": 70,
     "metadata": {},
     "output_type": "execute_result"
    }
   ],
   "source": [
    "knn = KNeighborsClassifier(metric='minkowski', p=p, n_neighbors=k, n_jobs=n_jobs)\n",
    "knn.fit(X_train_std, y_train)\n",
    "knn.score(X_test_std, y_test)"
   ]
  },
  {
   "cell_type": "code",
   "execution_count": 71,
   "metadata": {},
   "outputs": [
    {
     "name": "stdout",
     "output_type": "stream",
     "text": [
      "Classification report for K-nearest neighbors (p=1, k=4, standardized)\n"
     ]
    },
    {
     "data": {
      "text/html": [
       "<div>\n",
       "<style scoped>\n",
       "    .dataframe tbody tr th:only-of-type {\n",
       "        vertical-align: middle;\n",
       "    }\n",
       "\n",
       "    .dataframe tbody tr th {\n",
       "        vertical-align: top;\n",
       "    }\n",
       "\n",
       "    .dataframe thead th {\n",
       "        text-align: right;\n",
       "    }\n",
       "</style>\n",
       "<table border=\"1\" class=\"dataframe\">\n",
       "  <thead>\n",
       "    <tr style=\"text-align: right;\">\n",
       "      <th></th>\n",
       "      <th>condo</th>\n",
       "      <th>house</th>\n",
       "      <th>other</th>\n",
       "      <th>accuracy</th>\n",
       "      <th>macro avg</th>\n",
       "      <th>weighted avg</th>\n",
       "    </tr>\n",
       "  </thead>\n",
       "  <tbody>\n",
       "    <tr>\n",
       "      <td>precision</td>\n",
       "      <td>0.987881</td>\n",
       "      <td>0.910705</td>\n",
       "      <td>0.968066</td>\n",
       "      <td>0.952746</td>\n",
       "      <td>0.955550</td>\n",
       "      <td>0.953857</td>\n",
       "    </tr>\n",
       "    <tr>\n",
       "      <td>recall</td>\n",
       "      <td>0.988560</td>\n",
       "      <td>0.963110</td>\n",
       "      <td>0.920799</td>\n",
       "      <td>0.952746</td>\n",
       "      <td>0.957490</td>\n",
       "      <td>0.952746</td>\n",
       "    </tr>\n",
       "    <tr>\n",
       "      <td>f1-score</td>\n",
       "      <td>0.988220</td>\n",
       "      <td>0.936175</td>\n",
       "      <td>0.943841</td>\n",
       "      <td>0.952746</td>\n",
       "      <td>0.956079</td>\n",
       "      <td>0.952817</td>\n",
       "    </tr>\n",
       "    <tr>\n",
       "      <td>support</td>\n",
       "      <td>66871.000000</td>\n",
       "      <td>86664.000000</td>\n",
       "      <td>103079.000000</td>\n",
       "      <td>0.952746</td>\n",
       "      <td>256614.000000</td>\n",
       "      <td>256614.000000</td>\n",
       "    </tr>\n",
       "  </tbody>\n",
       "</table>\n",
       "</div>"
      ],
      "text/plain": [
       "                  condo         house          other  accuracy      macro avg  \\\n",
       "precision      0.987881      0.910705       0.968066  0.952746       0.955550   \n",
       "recall         0.988560      0.963110       0.920799  0.952746       0.957490   \n",
       "f1-score       0.988220      0.936175       0.943841  0.952746       0.956079   \n",
       "support    66871.000000  86664.000000  103079.000000  0.952746  256614.000000   \n",
       "\n",
       "            weighted avg  \n",
       "precision       0.953857  \n",
       "recall          0.952746  \n",
       "f1-score        0.952817  \n",
       "support    256614.000000  "
      ]
     },
     "execution_count": 71,
     "metadata": {},
     "output_type": "execute_result"
    }
   ],
   "source": [
    "y_pred = knn.predict(X_test_std)\n",
    "cr = classification_report(y_test, y_pred, output_dict=True, target_names=le.classes_)\n",
    "print(\"Classification report for {0}\".format(model_name))\n",
    "pd.DataFrame(cr)"
   ]
  },
  {
   "cell_type": "code",
   "execution_count": 72,
   "metadata": {},
   "outputs": [
    {
     "name": "stdout",
     "output_type": "stream",
     "text": [
      "K-nearest neighbors (p=1, k=4, standardized)\n",
      "Normalized confusion matrix\n",
      "[[0.99 0.01 0.  ]\n",
      " [0.   0.96 0.03]\n",
      " [0.01 0.07 0.92]]\n"
     ]
    },
    {
     "data": {
      "image/png": "[encoded data removed]",
      "text/plain": [
       "<Figure size 504x504 with 2 Axes>"
      ]
     },
     "metadata": {
      "needs_background": "light"
     },
     "output_type": "display_data"
    }
   ],
   "source": [
    "np.set_printoptions(precision=2)\n",
    "plot_confusion_matrix(y_test, y_pred, le.classes_, model_name, normalize=True, width=7)\n",
    "plt.show()"
   ]
  },
  {
   "cell_type": "markdown",
   "metadata": {},
   "source": [
    "## Compare perfomance of models"
   ]
  },
  {
   "cell_type": "code",
   "execution_count": 73,
   "metadata": {},
   "outputs": [
    {
     "data": {
      "image/png": "[encoded data removed]",
      "text/plain": [
       "<Figure size 720x576 with 1 Axes>"
      ]
     },
     "metadata": {
      "needs_background": "light"
     },
     "output_type": "display_data"
    }
   ],
   "source": [
    "scores_tidy = scores_df.reset_index().rename(columns={'index': 'model'})\\\n",
    "                       .melt(id_vars='model', var_name='subset', value_name='score').sort_values(['model', 'subset'])\n",
    "\n",
    "f, ax = plt.subplots(1, figsize=(10, 8))\n",
    "sns.barplot(x=\"subset\", y=\"score\", hue=\"model\", order=['train', 'test', 'val1', 'val2'],\n",
    "                                                       data=scores_tidy, palette=\"muted\", ax=ax)\n",
    "ax.set_ylabel(\"Model accuracy\", fontsize=16)\n",
    "ax.set_xlabel(\"Subset of Teranet records\", fontsize=16)\n",
    "ax.set_title(\"Accuracy of models of train, test and 2 validation sets\\n'{0}' feature set\".format(feat_set_name), \n",
    "             fontsize=16)\n",
    "ax.grid(True)\n",
    "ax.legend(loc='center left', fontsize=14)\n",
    "plt.xticks(fontsize=14)\n",
    "plt.yticks(fontsize=14)\n",
    "ax.set_ylim(0.6, 1.0)\n",
    "plt.savefig('../../results/plots/{0}_model_performance.png'.format(feat_set_name), bbox_inches='tight')"
   ]
  }
 ],
 "metadata": {
  "kernelspec": {
   "display_name": "Python 3",
   "language": "python",
   "name": "python3"
  },
  "language_info": {
   "codemirror_mode": {
    "name": "ipython",
    "version": 3
   },
   "file_extension": ".py",
   "mimetype": "text/x-python",
   "name": "python",
   "nbconvert_exporter": "python",
   "pygments_lexer": "ipython3",
   "version": "3.6.9"
  }
 },
 "nbformat": 4,
 "nbformat_minor": 2
}
