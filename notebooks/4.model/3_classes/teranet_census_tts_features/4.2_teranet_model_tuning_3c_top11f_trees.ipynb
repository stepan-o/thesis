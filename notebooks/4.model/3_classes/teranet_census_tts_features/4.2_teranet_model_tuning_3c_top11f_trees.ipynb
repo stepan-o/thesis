{
 "cells": [
  {
   "cell_type": "markdown",
   "metadata": {},
   "source": [
    "# GTHA housing market database\n",
    "# OSEMN methodology Step 4: Model\n",
    "# Classify land use from new features in Teranet (3 classes)\n",
    "# Top 11 selected features\n",
    "# Tree-based models\n",
    "\n",
    "Top 11 selected features and with missing past/future xy sales filled with mean future/past xy sales.\n",
    "\n",
    "---\n",
    "\n",
    "This notebook describes _Step 4: Model_ of OSEMN methodology performed on the Teranet dataset."
   ]
  },
  {
   "cell_type": "markdown",
   "metadata": {},
   "source": [
    "## Import dependencies"
   ]
  },
  {
   "cell_type": "code",
   "execution_count": 22,
   "metadata": {},
   "outputs": [],
   "source": [
    "random_state = 1"
   ]
  },
  {
   "cell_type": "code",
   "execution_count": 1,
   "metadata": {},
   "outputs": [],
   "source": [
    "import numpy as np\n",
    "import matplotlib.pyplot as plt\n",
    "import matplotlib\n",
    "import seaborn as sns\n",
    "import pandas as pd\n",
    "import os\n",
    "from sklearn.base import clone\n",
    "from sklearn.model_selection import train_test_split, GridSearchCV\n",
    "from sklearn.preprocessing import MinMaxScaler, minmax_scale, MaxAbsScaler, StandardScaler, RobustScaler, Normalizer\n",
    "from sklearn.preprocessing import QuantileTransformer, PowerTransformer, LabelEncoder\n",
    "from sklearn.tree import DecisionTreeClassifier\n",
    "from sklearn.ensemble import RandomForestClassifier\n",
    "from time import time\n",
    "\n",
    "sns.set()"
   ]
  },
  {
   "cell_type": "code",
   "execution_count": 2,
   "metadata": {},
   "outputs": [],
   "source": [
    "import sys\n",
    "\n",
    "sys.path.append('../../../../src')\n",
    "\n",
    "from io_utils import df_from_csv\n",
    "from plot_utils import plot_hist\n",
    "from model_utils import get_fit_times, fit_model, plot_learning_curve, plot_validation_curve"
   ]
  },
  {
   "cell_type": "markdown",
   "metadata": {},
   "source": [
    "## Load Teranet data"
   ]
  },
  {
   "cell_type": "code",
   "execution_count": 3,
   "metadata": {},
   "outputs": [
    {
     "data": {
      "text/plain": [
       "['1.1_Teranet_DA.csv',\n",
       " '1.3_Teranet_DA_TAZ_PG_FSA.csv',\n",
       " '4_Teranet_lu_predict_3c.csv',\n",
       " '2_Teranet_consistent.csv',\n",
       " 'parcel16_epoi13.csv',\n",
       " '1.2_Teranet_DA_TAZ.csv',\n",
       " '1.4_Teranet_DA_TAZ_FSA_LU_LUDMTI.csv',\n",
       " '1.4_Teranet_DA_TAZ_FSA_LU.csv',\n",
       " '4_Teranet_lu_predict_4c.csv',\n",
       " '.ipynb_checkpoints',\n",
       " 'ParcelLandUse.zip',\n",
       " 'ParcelLandUse',\n",
       " 'HHSaleHistory.csv',\n",
       " '3_Teranet_nonan_new_cols.csv',\n",
       " 'GTAjoinedLanduseSales']"
      ]
     },
     "execution_count": 3,
     "metadata": {},
     "output_type": "execute_result"
    }
   ],
   "source": [
    "data_path = '../../../../data/'\n",
    "teranet_path = data_path + 'teranet/'\n",
    "os.listdir(teranet_path)"
   ]
  },
  {
   "cell_type": "code",
   "execution_count": 4,
   "metadata": {},
   "outputs": [
    {
     "name": "stdout",
     "output_type": "stream",
     "text": [
      "----- DataFrame loaded\n",
      "in 94.86 seconds\n",
      "with 5,188,513 rows\n",
      "and 79 columns\n",
      "-- Column names:\n",
      " Index(['transaction_id', 'lro_num', 'pin', 'consideration_amt',\n",
      "       'registration_date', 'postal_code', 'unitno', 'street_name',\n",
      "       'street_designation', 'street_direction', 'municipality',\n",
      "       'street_number', 'x', 'y', 'dauid', 'csduid', 'csdname', 'taz_o', 'fsa',\n",
      "       'pca_id', 'postal_code_dmti', 'pin_lu', 'landuse', 'prop_code',\n",
      "       'dmti_lu', 'street_name_raw', 'year', 'year_month', 'year3',\n",
      "       'census_year', 'census2001_year', 'tts_year', 'tts1991_year', 'xy',\n",
      "       'pin_total_sales', 'xy_total_sales', 'pin_prev_sales', 'xy_prev_sales',\n",
      "       'xy_first_sale', 'pin_years_since_last_sale',\n",
      "       'xy_years_since_last_sale', 'xy_years_to_next_sale',\n",
      "       'da_days_since_last_sale', 'da_years_since_last_sale',\n",
      "       'xy_sale_next_6m', 'price_2016', 'pin_price_cum_sum',\n",
      "       'xy_price_cum_sum', 'pin_price_pct_change', 'xy_price_pct_change',\n",
      "       'price_da_pct_change', 'med_price_xy', 'med_price_year',\n",
      "       'price_to_med_xy', 'price_to_med_year', 'outlier_y_3', 'outlier_y_5',\n",
      "       'outlier_y_10', 'outlier_y_20', 'outlier_xy_2', 'outlier_xy_4',\n",
      "       'outlier_xy_10', 'code', 'lu_class', 'luc_detached', 'luc_condo',\n",
      "       'luc_strata', 'luc_duplex', 'luc_townhouse', 'luc_mixuse',\n",
      "       'luc_underdeveloped', 'luc_mixedcomplex', 'luc_industrial',\n",
      "       'luc_commercial', 'lucr_house', 'lucr', 'lucr_condo', 'lucr_other',\n",
      "       'lucr_predict'],\n",
      "      dtype='object')\n"
     ]
    }
   ],
   "source": [
    "teranet_df = df_from_csv(teranet_path + '4_Teranet_lu_predict_3c.csv', parse_dates=['registration_date'])"
   ]
  },
  {
   "cell_type": "markdown",
   "metadata": {},
   "source": [
    "## Load Census data"
   ]
  },
  {
   "cell_type": "code",
   "execution_count": 5,
   "metadata": {},
   "outputs": [
    {
     "data": {
      "text/plain": [
       "['da_census_income.csv',\n",
       " 'Census data availability.xlsx',\n",
       " 'da_census.xls',\n",
       " 'da_census_select_tidy.csv',\n",
       " 'da_census_income_shapefile',\n",
       " 'da_census_select.csv']"
      ]
     },
     "execution_count": 5,
     "metadata": {},
     "output_type": "execute_result"
    }
   ],
   "source": [
    "census_path = data_path + 'census/'\n",
    "os.listdir(census_path)"
   ]
  },
  {
   "cell_type": "code",
   "execution_count": 6,
   "metadata": {},
   "outputs": [
    {
     "name": "stdout",
     "output_type": "stream",
     "text": [
      "----- DataFrame loaded\n",
      "in 0.16 seconds\n",
      "with 36,728 rows\n",
      "and 32 columns\n",
      "-- Column names:\n",
      " Index(['DAUID', 'year', 'Avg_HHsize', 'Avg_HHinc', 'Avg_own_payt',\n",
      "       'Avg_val_dwel', 'Avg_rent', 'Pop', 'PopDens', 'Dwel', 'DwelDens',\n",
      "       'Sgl_det', 'Apt_5plus', 'Sgl_att', 'Owned', 'Rented', 'CarTrVan_d',\n",
      "       'CarTrVan_p', 'PT', 'Walk', 'Bike', 'Lbrfrc', 'Emp', 'Unemp',\n",
      "       'Not_lbrfrc', 'Employee', 'Self_emp', 'At_home', 'No_fix_wkpl',\n",
      "       'Usl_wkpl', 'Blue_cljob', 'White_cljob'],\n",
      "      dtype='object')\n"
     ]
    }
   ],
   "source": [
    "census_df = df_from_csv(census_path + 'da_census_select_tidy.csv')"
   ]
  },
  {
   "cell_type": "markdown",
   "metadata": {},
   "source": [
    "## Load TTS data"
   ]
  },
  {
   "cell_type": "code",
   "execution_count": 7,
   "metadata": {},
   "outputs": [
    {
     "data": {
      "text/plain": [
       "['tts_num_jobs_tidy.csv',\n",
       " 'TAZ_2001shp.zip',\n",
       " 'TAZ_2001shp',\n",
       " 'taz_tts_tidy.csv',\n",
       " 'taz_info.csv',\n",
       " 'TTS_variables.xlsx',\n",
       " 'taz_tts.xlsx',\n",
       " 'Num_of_Jobs.xlsx']"
      ]
     },
     "execution_count": 7,
     "metadata": {},
     "output_type": "execute_result"
    }
   ],
   "source": [
    "tts_path = data_path + 'tts/'\n",
    "os.listdir(tts_path)"
   ]
  },
  {
   "cell_type": "code",
   "execution_count": 8,
   "metadata": {},
   "outputs": [
    {
     "name": "stdout",
     "output_type": "stream",
     "text": [
      "----- DataFrame loaded\n",
      "in 0.01 seconds\n",
      "with 12,012 rows\n",
      "and 8 columns\n",
      "-- Column names:\n",
      " Index(['TAZ_O', 'year', 'Pop', 'FT_wrk', 'Stu', 'HH', 'Jobs', 'Cars'], dtype='object')\n"
     ]
    }
   ],
   "source": [
    "tts_df = df_from_csv(tts_path + 'taz_tts_tidy.csv')"
   ]
  },
  {
   "cell_type": "markdown",
   "metadata": {},
   "source": [
    "## Join Census data to Teranet data"
   ]
  },
  {
   "cell_type": "code",
   "execution_count": 9,
   "metadata": {},
   "outputs": [
    {
     "name": "stdout",
     "output_type": "stream",
     "text": [
      "----- Census variables were joined to the DataFrame\n",
      "in 55.70 seconds (0.93 minutes)\n",
      "with 5,188,513 rows\n",
      "and 109 columns\n",
      "-- Column names:\n",
      " Index(['transaction_id', 'lro_num', 'pin', 'consideration_amt',\n",
      "       'registration_date', 'postal_code', 'unitno', 'street_name',\n",
      "       'street_designation', 'street_direction',\n",
      "       ...\n",
      "       'Emp', 'Unemp', 'Not_lbrfrc', 'Employee', 'Self_emp', 'At_home',\n",
      "       'No_fix_wkpl', 'Usl_wkpl', 'Blue_cljob', 'White_cljob'],\n",
      "      dtype='object', length=109)\n"
     ]
    }
   ],
   "source": [
    "t = time()\n",
    "df = pd.merge(teranet_df, census_df, how='left',\n",
    "              left_on=['dauid', 'census2001_year'], right_on=['DAUID', 'year'])\n",
    "df = df.drop(['DAUID', 'year_y'], axis=1).rename(columns={'year_x': 'year'})\n",
    "elapsed = time() - t\n",
    "print(\"----- Census variables were joined to the DataFrame\"\n",
    "      \"\\nin {0:,.2f} seconds ({1:.2f} minutes)\".format(elapsed, elapsed / 60) + \n",
    "      \"\\nwith {0:,} rows\\nand {1:,} columns\"\n",
    "      .format(df.shape[0], df.shape[1]) + \n",
    "      \"\\n-- Column names:\\n\", df.columns)"
   ]
  },
  {
   "cell_type": "markdown",
   "metadata": {},
   "source": [
    "## Join TTS data to Teranet data"
   ]
  },
  {
   "cell_type": "code",
   "execution_count": 10,
   "metadata": {},
   "outputs": [
    {
     "name": "stdout",
     "output_type": "stream",
     "text": [
      "----- TTS variables were joined to the DataFrame\n",
      "in 62.15 seconds (1.04 minutes)\n",
      "with 5,188,513 rows\n",
      "and 115 columns\n",
      "-- Column names:\n",
      " Index(['transaction_id', 'lro_num', 'pin', 'consideration_amt',\n",
      "       'registration_date', 'postal_code', 'unitno', 'street_name',\n",
      "       'street_designation', 'street_direction',\n",
      "       ...\n",
      "       'Usl_wkpl', 'Blue_cljob', 'White_cljob', 'TAZ_O', 'Pop_y', 'FT_wrk',\n",
      "       'Stu', 'HH', 'Jobs', 'Cars'],\n",
      "      dtype='object', length=115)\n"
     ]
    }
   ],
   "source": [
    "t = time()\n",
    "df = pd.merge(df, tts_df, how='left',\n",
    "              left_on=['taz_o', 'tts_year'], right_on=['TAZ_O', 'year'])\n",
    "df = df.drop(['taz_o', 'year_y'], axis=1).rename(columns={'year_x': 'year'})\n",
    "elapsed = time() - t\n",
    "print(\"----- TTS variables were joined to the DataFrame\"\n",
    "      \"\\nin {0:,.2f} seconds ({1:.2f} minutes)\".format(elapsed, elapsed / 60) + \n",
    "      \"\\nwith {0:,} rows\\nand {1:,} columns\"\n",
    "      .format(df.shape[0], df.shape[1]) + \n",
    "      \"\\n-- Column names:\\n\", df.columns)"
   ]
  },
  {
   "cell_type": "markdown",
   "metadata": {},
   "source": [
    "## Take a train-test subset of Teranet records"
   ]
  },
  {
   "cell_type": "code",
   "execution_count": 11,
   "metadata": {},
   "outputs": [
    {
     "name": "stdout",
     "output_type": "stream",
     "text": [
      "205,341 Teranet records in the train-test subset (records from 2012).\n",
      "219,130 Teranet records in the validation subset #1 (records from 2011).\n",
      "207,686 Teranet records in the validation subset #2 (records from 2013).\n"
     ]
    }
   ],
   "source": [
    "year_train_test = 2012\n",
    "year_val1 = 2011\n",
    "year_val2 = 2013\n",
    "\n",
    "s = df.query('year == @year_train_test')\n",
    "s_val1 = df.query('year == @year_val1')\n",
    "s_val2 = df.query('year == @year_val2')\n",
    "\n",
    "print(\"{0:,} Teranet records in the train-test subset (records from {1}).\"\n",
    "      .format(len(s), year_train_test))\n",
    "print(\"{0:,} Teranet records in the validation subset #1 (records from {1}).\".format(len(s_val1), year_val1))\n",
    "print(\"{0:,} Teranet records in the validation subset #2 (records from {1}).\".format(len(s_val2), year_val2))"
   ]
  },
  {
   "cell_type": "markdown",
   "metadata": {},
   "source": [
    "## Select features"
   ]
  },
  {
   "cell_type": "code",
   "execution_count": 12,
   "metadata": {},
   "outputs": [
    {
     "data": {
      "text/plain": [
       "Index(['transaction_id', 'lro_num', 'pin', 'consideration_amt',\n",
       "       'registration_date', 'postal_code', 'unitno', 'street_name',\n",
       "       'street_designation', 'street_direction',\n",
       "       ...\n",
       "       'Usl_wkpl', 'Blue_cljob', 'White_cljob', 'TAZ_O', 'Pop_y', 'FT_wrk',\n",
       "       'Stu', 'HH', 'Jobs', 'Cars'],\n",
       "      dtype='object', length=115)"
      ]
     },
     "execution_count": 12,
     "metadata": {},
     "output_type": "execute_result"
    }
   ],
   "source": [
    "s.columns"
   ]
  },
  {
   "cell_type": "code",
   "execution_count": 13,
   "metadata": {},
   "outputs": [
    {
     "name": "stdout",
     "output_type": "stream",
     "text": [
      "<class 'pandas.core.frame.DataFrame'>\n",
      "Int64Index: 205341 entries, 0 to 205340\n",
      "Data columns (total 12 columns):\n",
      "xy_total_sales              205341 non-null int64\n",
      "xy_prev_sales               205341 non-null int64\n",
      "xy_first_sale               205341 non-null bool\n",
      "xy_years_since_last_sale    176503 non-null float64\n",
      "xy_years_to_next_sale       137302 non-null float64\n",
      "med_price_xy                205341 non-null float64\n",
      "Avg_HHsize                  204722 non-null float64\n",
      "Avg_rent                    204736 non-null float64\n",
      "PopDens                     205341 non-null float64\n",
      "DwelDens                    205341 non-null float64\n",
      "Apt_5plus                   204722 non-null float64\n",
      "lucr                        205341 non-null object\n",
      "dtypes: bool(1), float64(8), int64(2), object(1)\n",
      "memory usage: 19.0+ MB\n"
     ]
    }
   ],
   "source": [
    "top11f = ['xy_total_sales', 'xy_prev_sales', 'xy_first_sale',\n",
    "          'xy_years_since_last_sale', 'xy_years_to_next_sale', 'med_price_xy',\n",
    "          'Avg_HHsize', 'Avg_rent', 'PopDens', 'DwelDens', 'Apt_5plus',\n",
    "          'lucr']\n",
    "s = s[top11f]\n",
    "s_val1 = s_val1[top11f]\n",
    "s_val2 = s_val2[top11f]\n",
    "s.info(null_counts=True)"
   ]
  },
  {
   "cell_type": "markdown",
   "metadata": {},
   "source": [
    "## Fill missing values"
   ]
  },
  {
   "cell_type": "code",
   "execution_count": 14,
   "metadata": {},
   "outputs": [
    {
     "name": "stdout",
     "output_type": "stream",
     "text": [
      "For records with missing 'xy_years_to_next_sale', values of 'xy_years_since_last_sale' are: mean=7.59, median=5.89\n",
      "For records with missing 'xy_years_since_last_sale', values of 'xy_years_to_next_sale' are: mean=2.07, median=1.72\n"
     ]
    }
   ],
   "source": [
    "col1 = 'xy_years_to_next_sale'\n",
    "col2 = 'xy_years_since_last_sale'\n",
    "mask1 = s[col1].isnull()\n",
    "print(\"For records with missing '{0}', values of '{1}' are: mean={2:,.2f}, median={3:,.2f}\"\n",
    "      .format(col1, col2, s.loc[mask1, col2].mean(), s.loc[mask1, col2].median()))\n",
    "mask1 = s[col2].isnull()\n",
    "print(\"For records with missing '{0}', values of '{1}' are: mean={2:,.2f}, median={3:,.2f}\"\n",
    "      .format(col2, col1, s.loc[mask1, col1].mean(), s.loc[mask1, col1].median()))"
   ]
  },
  {
   "cell_type": "code",
   "execution_count": 15,
   "metadata": {},
   "outputs": [
    {
     "name": "stdout",
     "output_type": "stream",
     "text": [
      "<class 'pandas.core.frame.DataFrame'>\n",
      "Int64Index: 205341 entries, 0 to 205340\n",
      "Data columns (total 12 columns):\n",
      "xy_total_sales              205341 non-null int64\n",
      "xy_prev_sales               205341 non-null int64\n",
      "xy_first_sale               205341 non-null bool\n",
      "xy_years_since_last_sale    205341 non-null float64\n",
      "xy_years_to_next_sale       205341 non-null float64\n",
      "med_price_xy                205341 non-null float64\n",
      "Avg_HHsize                  204722 non-null float64\n",
      "Avg_rent                    204736 non-null float64\n",
      "PopDens                     205341 non-null float64\n",
      "DwelDens                    205341 non-null float64\n",
      "Apt_5plus                   204722 non-null float64\n",
      "lucr                        205341 non-null object\n",
      "dtypes: bool(1), float64(8), int64(2), object(1)\n",
      "memory usage: 19.0+ MB\n"
     ]
    }
   ],
   "source": [
    "# missing year to next sale is replaced with median year since last sale and vice versa\n",
    "mask1 = s[col1].isnull()\n",
    "s.loc[mask1, col1] = s.loc[mask1, col2].median()\n",
    "mask1 = s_val1[col1].isnull()\n",
    "s_val1.loc[mask1, col1] = s_val1.loc[mask1, col2].median()\n",
    "mask1 = s_val2[col1].isnull()\n",
    "s_val2.loc[mask1, col1] = s_val2.loc[mask1, col2].median()\n",
    "\n",
    "mask1 = s[col2].isnull()\n",
    "s.loc[mask1, col2] = s.loc[mask1, col1].median()\n",
    "mask1 = s_val1[col2].isnull()\n",
    "s_val1.loc[mask1, col2] = s_val1.loc[mask1, col1].median()\n",
    "mask1 = s_val2[col2].isnull()\n",
    "s_val2.loc[mask1, col2] = s_val2.loc[mask1, col1].median()\n",
    "\n",
    "s.info(null_counts=True)"
   ]
  },
  {
   "cell_type": "code",
   "execution_count": 16,
   "metadata": {},
   "outputs": [
    {
     "name": "stdout",
     "output_type": "stream",
     "text": [
      "204,722 rows in train-test subset, 217,955 rows in validation subset #1, 207,281 rows in validation subset #2\n"
     ]
    }
   ],
   "source": [
    "s = s.dropna()\n",
    "s_val1 = s_val1.dropna()\n",
    "s_val2 = s_val2.dropna()\n",
    "print(\"{0:,} rows in train-test subset, {1:,} rows in validation subset #1, {2:,} rows in validation subset #2\"\n",
    "      .format(len(s), len(s_val1), len(s_val2)))"
   ]
  },
  {
   "cell_type": "code",
   "execution_count": 17,
   "metadata": {},
   "outputs": [
    {
     "data": {
      "text/plain": [
       "Index(['xy_total_sales', 'xy_prev_sales', 'xy_first_sale',\n",
       "       'xy_years_since_last_sale', 'xy_years_to_next_sale', 'med_price_xy',\n",
       "       'Avg_HHsize', 'Avg_rent'],\n",
       "      dtype='object')"
      ]
     },
     "execution_count": 17,
     "metadata": {},
     "output_type": "execute_result"
    }
   ],
   "source": [
    "target_cols = 4\n",
    "feat_cols = s.columns[:-target_cols]\n",
    "feat_cols"
   ]
  },
  {
   "cell_type": "code",
   "execution_count": 18,
   "metadata": {},
   "outputs": [],
   "source": [
    "feat_set_name = 'top11f_3c'"
   ]
  },
  {
   "cell_type": "markdown",
   "metadata": {},
   "source": [
    "## Encode target"
   ]
  },
  {
   "cell_type": "code",
   "execution_count": 19,
   "metadata": {},
   "outputs": [
    {
     "name": "stdout",
     "output_type": "stream",
     "text": [
      "condo    55527\n",
      "house    72935\n",
      "other    76260\n",
      "Name: lucr, dtype: int64\n",
      "0    55527\n",
      "1    72935\n",
      "2    76260\n",
      "Name: lucr_e, dtype: int64\n",
      "condo    62648\n",
      "house    74123\n",
      "other    81184\n",
      "Name: lucr, dtype: int64\n",
      "0    62648\n",
      "1    74123\n",
      "2    81184\n",
      "Name: lucr_e, dtype: int64\n",
      "condo    48276\n",
      "house    69660\n",
      "other    89345\n",
      "Name: lucr, dtype: int64\n",
      "0    48276\n",
      "1    69660\n",
      "2    89345\n",
      "Name: lucr_e, dtype: int64\n",
      "Land use encoded!\n"
     ]
    }
   ],
   "source": [
    "le = LabelEncoder()\n",
    "\n",
    "s['lucr_e'] = le.fit_transform(s['lucr'])\n",
    "s_val1['lucr_e'] = le.transform(s_val1['lucr'])\n",
    "s_val2['lucr_e'] = le.transform(s_val2['lucr'])\n",
    "\n",
    "print(s['lucr'].value_counts().sort_index())\n",
    "print(s['lucr_e'].value_counts().sort_index())\n",
    "print(s_val1['lucr'].value_counts().sort_index())\n",
    "print(s_val1['lucr_e'].value_counts().sort_index())\n",
    "print(s_val2['lucr'].value_counts().sort_index())\n",
    "print(s_val2['lucr_e'].value_counts().sort_index())\n",
    "\n",
    "s = s.drop(['lucr'], axis=1)\n",
    "s_val1 = s_val1.drop(['lucr'], axis=1)\n",
    "s_val2 = s_val2.drop(['lucr'], axis=1)\n",
    "print(\"Land use encoded!\")"
   ]
  },
  {
   "cell_type": "markdown",
   "metadata": {},
   "source": [
    "## Prepare features"
   ]
  },
  {
   "cell_type": "markdown",
   "metadata": {},
   "source": [
    "### Select features and target"
   ]
  },
  {
   "cell_type": "code",
   "execution_count": 20,
   "metadata": {},
   "outputs": [
    {
     "name": "stdout",
     "output_type": "stream",
     "text": [
      "Features and target selected.\n"
     ]
    }
   ],
   "source": [
    "X = s[feat_cols].values\n",
    "X_val1 = s_val1[feat_cols].values\n",
    "X_val2 = s_val2[feat_cols].values\n",
    "y = s['lucr_e'].values\n",
    "y_val1 = s_val1['lucr_e'].values\n",
    "y_val2 = s_val2['lucr_e'].values\n",
    "print(\"Features and target selected.\")"
   ]
  },
  {
   "cell_type": "markdown",
   "metadata": {},
   "source": [
    "### Perform the train-test split"
   ]
  },
  {
   "cell_type": "code",
   "execution_count": 23,
   "metadata": {},
   "outputs": [
    {
     "name": "stdout",
     "output_type": "stream",
     "text": [
      "Performed train-test split.\n",
      "Labels counts in y: [55527 72935 76260]\n",
      "Labels counts in y_train: [38869 51054 53382]\n",
      "Labels counts in y_test: [16658 21881 22878]\n",
      "Labels counts in y_val1: [62648 74123 81184]\n",
      "Labels counts in y_val2: [48276 69660 89345]\n"
     ]
    }
   ],
   "source": [
    "X_train, X_test, y_train, y_test = train_test_split(X, y, test_size=0.3, random_state=random_state, stratify=y)\n",
    "print(\"Performed train-test split.\")\n",
    "print('Labels counts in y:', np.bincount(y))\n",
    "print('Labels counts in y_train:', np.bincount(y_train))\n",
    "print('Labels counts in y_test:', np.bincount(y_test))\n",
    "print('Labels counts in y_val1:', np.bincount(y_val1))\n",
    "print('Labels counts in y_val2:', np.bincount(y_val2))"
   ]
  },
  {
   "cell_type": "markdown",
   "metadata": {},
   "source": [
    "### Standardize features"
   ]
  },
  {
   "cell_type": "code",
   "execution_count": 24,
   "metadata": {},
   "outputs": [
    {
     "name": "stdout",
     "output_type": "stream",
     "text": [
      "Input features were standardized.\n"
     ]
    }
   ],
   "source": [
    "sc = StandardScaler()\n",
    "sc.fit(X_train)\n",
    "X_train_std = sc.transform(X_train)\n",
    "X_test_std = sc.transform(X_test)\n",
    "X_val1_std = sc.transform(X_val1)\n",
    "X_val2_std = sc.transform(X_val2)\n",
    "print(\"Input features were standardized.\")"
   ]
  },
  {
   "cell_type": "markdown",
   "metadata": {},
   "source": [
    "### Normalize features (Min-Max scaling)"
   ]
  },
  {
   "cell_type": "code",
   "execution_count": 25,
   "metadata": {},
   "outputs": [
    {
     "name": "stdout",
     "output_type": "stream",
     "text": [
      "Input features were normalized.\n"
     ]
    }
   ],
   "source": [
    "sc = MinMaxScaler()\n",
    "sc.fit(X_train)\n",
    "X_train_norm = sc.transform(X_train)\n",
    "X_test_norm = sc.transform(X_test)\n",
    "X_val1_norm = sc.transform(X_val1)\n",
    "X_val2_norm = sc.transform(X_val2)\n",
    "print(\"Input features were normalized.\")"
   ]
  },
  {
   "cell_type": "markdown",
   "metadata": {},
   "source": [
    "### Max-Abs scaling"
   ]
  },
  {
   "cell_type": "code",
   "execution_count": 26,
   "metadata": {},
   "outputs": [
    {
     "name": "stdout",
     "output_type": "stream",
     "text": [
      "Max-Abs scaling was applied to the features.\n"
     ]
    }
   ],
   "source": [
    "sc = MaxAbsScaler()\n",
    "sc.fit(X_train)\n",
    "X_train_ma = sc.transform(X_train)\n",
    "X_test_ma = sc.transform(X_test)\n",
    "X_val1_ma = sc.transform(X_val1)\n",
    "X_val2_ma = sc.transform(X_val2)\n",
    "print(\"Max-Abs scaling was applied to the features.\")"
   ]
  },
  {
   "cell_type": "markdown",
   "metadata": {},
   "source": [
    "### Robust scaling"
   ]
  },
  {
   "cell_type": "code",
   "execution_count": 27,
   "metadata": {},
   "outputs": [
    {
     "name": "stdout",
     "output_type": "stream",
     "text": [
      "Robust scaling was applied to the features.\n"
     ]
    }
   ],
   "source": [
    "sc = RobustScaler(quantile_range=(25, 75))\n",
    "sc.fit(X_train)\n",
    "X_train_r = sc.transform(X_train)\n",
    "X_test_r = sc.transform(X_test)\n",
    "X_val1_r = sc.transform(X_val1)\n",
    "X_val2_r = sc.transform(X_val2)\n",
    "print(\"Robust scaling was applied to the features.\")"
   ]
  },
  {
   "cell_type": "markdown",
   "metadata": {},
   "source": [
    "### Apply the power (Yeo-Johnson) transormation to the features"
   ]
  },
  {
   "cell_type": "code",
   "execution_count": 28,
   "metadata": {},
   "outputs": [
    {
     "name": "stderr",
     "output_type": "stream",
     "text": [
      "/home/stepan/anaconda3/envs/gds/lib/python3.6/site-packages/sklearn/preprocessing/data.py:2863: RuntimeWarning: divide by zero encountered in log\n",
      "  loglike = -n_samples / 2 * np.log(x_trans.var())\n"
     ]
    },
    {
     "name": "stdout",
     "output_type": "stream",
     "text": [
      "Power (Yeo-Johnson) transformation was applied to the features.\n"
     ]
    }
   ],
   "source": [
    "sc = PowerTransformer(method='yeo-johnson')\n",
    "sc.fit(X_train)\n",
    "X_train_yj = sc.transform(X_train)\n",
    "X_test_yj = sc.transform(X_test)\n",
    "X_val1_yj = sc.transform(X_val1)\n",
    "X_val2_yj = sc.transform(X_val2)\n",
    "print(\"Power (Yeo-Johnson) transformation was applied to the features.\")"
   ]
  },
  {
   "cell_type": "markdown",
   "metadata": {},
   "source": [
    "### Apply the power (Box-Cox) transormation to the features"
   ]
  },
  {
   "cell_type": "code",
   "execution_count": 28,
   "metadata": {},
   "outputs": [
    {
     "ename": "ValueError",
     "evalue": "The Box-Cox transformation can only be applied to strictly positive data",
     "output_type": "error",
     "traceback": [
      "\u001b[0;31m---------------------------------------------------------------------------\u001b[0m",
      "\u001b[0;31mValueError\u001b[0m                                Traceback (most recent call last)",
      "\u001b[0;32m<ipython-input-28-9b51b01e5a3a>\u001b[0m in \u001b[0;36m<module>\u001b[0;34m\u001b[0m\n\u001b[1;32m      1\u001b[0m \u001b[0msc\u001b[0m \u001b[0;34m=\u001b[0m \u001b[0mPowerTransformer\u001b[0m\u001b[0;34m(\u001b[0m\u001b[0mmethod\u001b[0m\u001b[0;34m=\u001b[0m\u001b[0;34m'box-cox'\u001b[0m\u001b[0;34m)\u001b[0m\u001b[0;34m\u001b[0m\u001b[0;34m\u001b[0m\u001b[0m\n\u001b[0;32m----> 2\u001b[0;31m \u001b[0msc\u001b[0m\u001b[0;34m.\u001b[0m\u001b[0mfit\u001b[0m\u001b[0;34m(\u001b[0m\u001b[0mX_train\u001b[0m\u001b[0;34m)\u001b[0m\u001b[0;34m\u001b[0m\u001b[0;34m\u001b[0m\u001b[0m\n\u001b[0m\u001b[1;32m      3\u001b[0m \u001b[0mX_train_bc\u001b[0m \u001b[0;34m=\u001b[0m \u001b[0msc\u001b[0m\u001b[0;34m.\u001b[0m\u001b[0mtransform\u001b[0m\u001b[0;34m(\u001b[0m\u001b[0mX_train\u001b[0m\u001b[0;34m)\u001b[0m\u001b[0;34m\u001b[0m\u001b[0;34m\u001b[0m\u001b[0m\n\u001b[1;32m      4\u001b[0m \u001b[0mX_test_bc\u001b[0m \u001b[0;34m=\u001b[0m \u001b[0msc\u001b[0m\u001b[0;34m.\u001b[0m\u001b[0mtransform\u001b[0m\u001b[0;34m(\u001b[0m\u001b[0mX_test\u001b[0m\u001b[0;34m)\u001b[0m\u001b[0;34m\u001b[0m\u001b[0;34m\u001b[0m\u001b[0m\n\u001b[1;32m      5\u001b[0m \u001b[0mX_val1_bc\u001b[0m \u001b[0;34m=\u001b[0m \u001b[0msc\u001b[0m\u001b[0;34m.\u001b[0m\u001b[0mtransform\u001b[0m\u001b[0;34m(\u001b[0m\u001b[0mX_val1\u001b[0m\u001b[0;34m)\u001b[0m\u001b[0;34m\u001b[0m\u001b[0;34m\u001b[0m\u001b[0m\n",
      "\u001b[0;32m~/anaconda3/envs/gds/lib/python3.6/site-packages/sklearn/preprocessing/data.py\u001b[0m in \u001b[0;36mfit\u001b[0;34m(self, X, y)\u001b[0m\n\u001b[1;32m   2672\u001b[0m         \u001b[0mself\u001b[0m \u001b[0;34m:\u001b[0m \u001b[0mobject\u001b[0m\u001b[0;34m\u001b[0m\u001b[0;34m\u001b[0m\u001b[0m\n\u001b[1;32m   2673\u001b[0m         \"\"\"\n\u001b[0;32m-> 2674\u001b[0;31m         \u001b[0mself\u001b[0m\u001b[0;34m.\u001b[0m\u001b[0m_fit\u001b[0m\u001b[0;34m(\u001b[0m\u001b[0mX\u001b[0m\u001b[0;34m,\u001b[0m \u001b[0my\u001b[0m\u001b[0;34m=\u001b[0m\u001b[0my\u001b[0m\u001b[0;34m,\u001b[0m \u001b[0mforce_transform\u001b[0m\u001b[0;34m=\u001b[0m\u001b[0;32mFalse\u001b[0m\u001b[0;34m)\u001b[0m\u001b[0;34m\u001b[0m\u001b[0;34m\u001b[0m\u001b[0m\n\u001b[0m\u001b[1;32m   2675\u001b[0m         \u001b[0;32mreturn\u001b[0m \u001b[0mself\u001b[0m\u001b[0;34m\u001b[0m\u001b[0;34m\u001b[0m\u001b[0m\n\u001b[1;32m   2676\u001b[0m \u001b[0;34m\u001b[0m\u001b[0m\n",
      "\u001b[0;32m~/anaconda3/envs/gds/lib/python3.6/site-packages/sklearn/preprocessing/data.py\u001b[0m in \u001b[0;36m_fit\u001b[0;34m(self, X, y, force_transform)\u001b[0m\n\u001b[1;32m   2679\u001b[0m \u001b[0;34m\u001b[0m\u001b[0m\n\u001b[1;32m   2680\u001b[0m     \u001b[0;32mdef\u001b[0m \u001b[0m_fit\u001b[0m\u001b[0;34m(\u001b[0m\u001b[0mself\u001b[0m\u001b[0;34m,\u001b[0m \u001b[0mX\u001b[0m\u001b[0;34m,\u001b[0m \u001b[0my\u001b[0m\u001b[0;34m=\u001b[0m\u001b[0;32mNone\u001b[0m\u001b[0;34m,\u001b[0m \u001b[0mforce_transform\u001b[0m\u001b[0;34m=\u001b[0m\u001b[0;32mFalse\u001b[0m\u001b[0;34m)\u001b[0m\u001b[0;34m:\u001b[0m\u001b[0;34m\u001b[0m\u001b[0;34m\u001b[0m\u001b[0m\n\u001b[0;32m-> 2681\u001b[0;31m         \u001b[0mX\u001b[0m \u001b[0;34m=\u001b[0m \u001b[0mself\u001b[0m\u001b[0;34m.\u001b[0m\u001b[0m_check_input\u001b[0m\u001b[0;34m(\u001b[0m\u001b[0mX\u001b[0m\u001b[0;34m,\u001b[0m \u001b[0mcheck_positive\u001b[0m\u001b[0;34m=\u001b[0m\u001b[0;32mTrue\u001b[0m\u001b[0;34m,\u001b[0m \u001b[0mcheck_method\u001b[0m\u001b[0;34m=\u001b[0m\u001b[0;32mTrue\u001b[0m\u001b[0;34m)\u001b[0m\u001b[0;34m\u001b[0m\u001b[0;34m\u001b[0m\u001b[0m\n\u001b[0m\u001b[1;32m   2682\u001b[0m \u001b[0;34m\u001b[0m\u001b[0m\n\u001b[1;32m   2683\u001b[0m         \u001b[0;32mif\u001b[0m \u001b[0;32mnot\u001b[0m \u001b[0mself\u001b[0m\u001b[0;34m.\u001b[0m\u001b[0mcopy\u001b[0m \u001b[0;32mand\u001b[0m \u001b[0;32mnot\u001b[0m \u001b[0mforce_transform\u001b[0m\u001b[0;34m:\u001b[0m  \u001b[0;31m# if call from fit()\u001b[0m\u001b[0;34m\u001b[0m\u001b[0;34m\u001b[0m\u001b[0m\n",
      "\u001b[0;32m~/anaconda3/envs/gds/lib/python3.6/site-packages/sklearn/preprocessing/data.py\u001b[0m in \u001b[0;36m_check_input\u001b[0;34m(self, X, check_positive, check_shape, check_method)\u001b[0m\n\u001b[1;32m   2898\u001b[0m             if (check_positive and self.method == 'box-cox' and\n\u001b[1;32m   2899\u001b[0m                     np.nanmin(X) <= 0):\n\u001b[0;32m-> 2900\u001b[0;31m                 raise ValueError(\"The Box-Cox transformation can only be \"\n\u001b[0m\u001b[1;32m   2901\u001b[0m                                  \"applied to strictly positive data\")\n\u001b[1;32m   2902\u001b[0m \u001b[0;34m\u001b[0m\u001b[0m\n",
      "\u001b[0;31mValueError\u001b[0m: The Box-Cox transformation can only be applied to strictly positive data"
     ]
    }
   ],
   "source": [
    "sc = PowerTransformer(method='box-cox')\n",
    "sc.fit(X_train)\n",
    "X_train_bc = sc.transform(X_train)\n",
    "X_test_bc = sc.transform(X_test)\n",
    "X_val1_bc = sc.transform(X_val1)\n",
    "X_val2_bc = sc.transform(X_val2)\n",
    "print(\"Power (Box-Cox) transformation was applied to the features.\")"
   ]
  },
  {
   "cell_type": "markdown",
   "metadata": {},
   "source": [
    "### Apply the quantile transformation (gaussian pdf) to the features"
   ]
  },
  {
   "cell_type": "code",
   "execution_count": 29,
   "metadata": {},
   "outputs": [
    {
     "name": "stdout",
     "output_type": "stream",
     "text": [
      "Quantile transformation (gaussian pdf) was applied to the features.\n"
     ]
    }
   ],
   "source": [
    "sc = QuantileTransformer(output_distribution='normal')\n",
    "sc.fit(X_train)\n",
    "X_train_qn = sc.transform(X_train)\n",
    "X_test_qn = sc.transform(X_test)\n",
    "X_val1_qn = sc.transform(X_val1)\n",
    "X_val2_qn = sc.transform(X_val2)\n",
    "print(\"Quantile transformation (gaussian pdf) was applied to the features.\")"
   ]
  },
  {
   "cell_type": "markdown",
   "metadata": {},
   "source": [
    "### Apply the quantile transformation (uniform pdf) to the features"
   ]
  },
  {
   "cell_type": "code",
   "execution_count": 30,
   "metadata": {},
   "outputs": [
    {
     "name": "stdout",
     "output_type": "stream",
     "text": [
      "Quantile transformation (uniform pdf) was applied to the features.\n"
     ]
    }
   ],
   "source": [
    "sc = QuantileTransformer(output_distribution='uniform')\n",
    "sc.fit(X_train)\n",
    "X_train_qu = sc.transform(X_train)\n",
    "X_test_qu = sc.transform(X_test)\n",
    "X_val1_qu = sc.transform(X_val1)\n",
    "X_val2_qu = sc.transform(X_val2)\n",
    "print(\"Quantile transformation (uniform pdf) was applied to the features.\")"
   ]
  },
  {
   "cell_type": "markdown",
   "metadata": {},
   "source": [
    "### Apply sample-wise L2 normalizing to the features"
   ]
  },
  {
   "cell_type": "code",
   "execution_count": 31,
   "metadata": {},
   "outputs": [
    {
     "name": "stdout",
     "output_type": "stream",
     "text": [
      "Sample-wise L2 normalizing was applied to the features.\n"
     ]
    }
   ],
   "source": [
    "sc = Normalizer()\n",
    "sc.fit(X_train)\n",
    "X_train_l2 = sc.transform(X_train)\n",
    "X_test_l2 = sc.transform(X_test)\n",
    "X_val1_l2 = sc.transform(X_val1)\n",
    "X_val2_l2 = sc.transform(X_val2)\n",
    "print(\"Sample-wise L2 normalizing was applied to the features.\")"
   ]
  },
  {
   "cell_type": "markdown",
   "metadata": {},
   "source": [
    "### Construct feature dictionary"
   ]
  },
  {
   "cell_type": "code",
   "execution_count": 32,
   "metadata": {},
   "outputs": [],
   "source": [
    "feat_dict = {\n",
    "    'raw': {'train': X_train, 'test': X_test, 'val1': X_val1, 'val2': X_val2},\n",
    "    'std': {'train': X_train_std, 'test': X_test_std, 'val1': X_val1_std, 'val2': X_val2_std},\n",
    "    'norm': {'train': X_train_norm, 'test': X_test_norm, 'val1': X_val1_norm, 'val2': X_val2_norm},\n",
    "    'max-abs': {'train': X_train_ma, 'test': X_test_ma, 'val1': X_val1_ma, 'val2': X_val2_ma},\n",
    "    'robust': {'train': X_train_r, 'test': X_test_r, 'val1': X_val1_r, 'val2': X_val2_r},\n",
    "    'power-yj': {'train': X_train_yj, 'test': X_test_yj, 'val1': X_val1_yj, 'val2': X_val2_yj},\n",
    "    'quant-norm': {'train': X_train_qn, 'test': X_test_qn, 'val1': X_val1_qn, 'val2': X_val2_qn},\n",
    "    'quant-uni': {'train': X_train_qu, 'test': X_test_qu, 'val1': X_val1_qu, 'val2': X_val2_qu},    \n",
    "    'swl2': {'train': X_train_l2, 'test': X_test_l2, 'val1': X_val1_l2, 'val2': X_val2_l2}\n",
    "}"
   ]
  },
  {
   "cell_type": "code",
   "execution_count": 33,
   "metadata": {},
   "outputs": [],
   "source": [
    "target_dict = {'train': y_train, 'test': y_test, 'val1': y_val1, 'val2': y_val2}"
   ]
  },
  {
   "cell_type": "markdown",
   "metadata": {},
   "source": [
    "## Fit times"
   ]
  },
  {
   "cell_type": "code",
   "execution_count": 34,
   "metadata": {},
   "outputs": [],
   "source": [
    "times_scores_df = pd.DataFrame()"
   ]
  },
  {
   "cell_type": "markdown",
   "metadata": {},
   "source": [
    "### Decision Tree"
   ]
  },
  {
   "cell_type": "code",
   "execution_count": 35,
   "metadata": {},
   "outputs": [
    {
     "name": "stdout",
     "output_type": "stream",
     "text": [
      "Decision Tree (max_depth=23) fit, took 9.00 seconds (0.15 minutes) in total\n"
     ]
    }
   ],
   "source": [
    "n_jobs = 1\n",
    "max_depth = 23\n",
    "model_name = \"Decision Tree (max_depth={0})\".format(max_depth)\n",
    "model_code = 'tree{0}'.format(max_depth)\n",
    "model = DecisionTreeClassifier(criterion='gini',  random_state=random_state, max_depth=max_depth)\n",
    "\n",
    "model_times_scores_df = get_fit_times(model, feat_dict, target_dict, model_name, model_code, n_jobs)\n",
    "times_scores_df = times_scores_df.append(model_times_scores_df)"
   ]
  },
  {
   "cell_type": "markdown",
   "metadata": {},
   "source": [
    "### Random Forest"
   ]
  },
  {
   "cell_type": "code",
   "execution_count": 36,
   "metadata": {},
   "outputs": [
    {
     "name": "stdout",
     "output_type": "stream",
     "text": [
      "Random Forest fit, took 14.99 seconds (0.25 minutes) in total\n"
     ]
    }
   ],
   "source": [
    "n_jobs = 12\n",
    "n_estimators = 30\n",
    "model_name = \"Random Forest\"\n",
    "model_code = 'forest{0}'.format(n_estimators)\n",
    "model = RandomForestClassifier(criterion='gini', random_state=random_state, n_jobs=12, n_estimators=n_estimators)\n",
    "model_times_scores_df = get_fit_times(model, feat_dict, target_dict, model_name, model_code, n_jobs)\n",
    "times_scores_df = times_scores_df.append(model_times_scores_df)"
   ]
  },
  {
   "cell_type": "markdown",
   "metadata": {},
   "source": [
    "## Compare perfomance of models"
   ]
  },
  {
   "cell_type": "code",
   "execution_count": 37,
   "metadata": {},
   "outputs": [],
   "source": [
    "times_scores_df = times_scores_df.reset_index().rename(columns={'index': 'model'})"
   ]
  },
  {
   "cell_type": "code",
   "execution_count": 38,
   "metadata": {},
   "outputs": [],
   "source": [
    "times_scores_df = times_scores_df.set_index('result')"
   ]
  },
  {
   "cell_type": "code",
   "execution_count": 55,
   "metadata": {},
   "outputs": [
    {
     "data": {
      "image/png": "[encoded data removed]",
      "text/plain": [
       "<Figure size 1080x360 with 2 Axes>"
      ]
     },
     "metadata": {
      "needs_background": "light"
     },
     "output_type": "display_data"
    }
   ],
   "source": [
    "fit_times_df = pd.melt(times_scores_df.loc['fit_time'], id_vars=['model'], var_name='preprocessing', value_name='fit_time')\n",
    "acc_df = pd.melt(times_scores_df.loc['acc'], id_vars=['model'], var_name='preprocessing', value_name='acc')\n",
    "\n",
    "f, axes = plt.subplots(nrows=1, ncols=2, figsize=(15, 5))\n",
    "\n",
    "sns.barplot(y=\"model\", x=\"fit_time\", hue=\"preprocessing\", data=fit_times_df, palette=\"muted\", ax=axes[0])\n",
    "axes[0].set_ylabel(\"Model\", fontsize=18)\n",
    "axes[0].set_xlabel(\"Fit time (seconds)\", fontsize=18)\n",
    "axes[0].set_title(\"Fit times\", fontsize=18)\n",
    "axes[0].set_xlim(0.0, 20.0)\n",
    "axes[0].grid(axis='y')\n",
    "axes[0].legend(loc='lower right', fontsize=14)\n",
    "axes[0].xaxis.set_tick_params(labelsize=14)\n",
    "axes[0].yaxis.set_tick_params(labelrotation=45, labelsize=14)\n",
    "\n",
    "sns.barplot(y=\"model\", x=\"acc\", hue=\"preprocessing\", data=acc_df, palette=\"muted\", ax=axes[1])\n",
    "axes[1].set_ylabel(\"Model\", fontsize=18)\n",
    "axes[1].set_xlabel(\"Accuracy\", fontsize=18)\n",
    "axes[1].set_title(\"Model accuracy on test set\", fontsize=18)\n",
    "axes[1].set_xlim(0.8, 1.0)\n",
    "axes[1].grid(axis='y')\n",
    "axes[1].legend(loc='lower left', fontsize=14)\n",
    "axes[1].xaxis.set_tick_params(labelsize=14)\n",
    "axes[1].yaxis.set_tick_params(labelrotation=45, labelsize=14)\n",
    "\n",
    "plt.suptitle('Fit times and accuracy of Tree-based models, by preprocessing type', fontsize=20)\n",
    "plt.tight_layout(rect=[0, 0.03, 1, 0.95])\n",
    "\n",
    "plt.savefig('../../results/plots/trees_fit_times_' + feat_set_name + '.png'\n",
    "            .format(model_name), dpi=300, bbox_inches='tight')"
   ]
  },
  {
   "cell_type": "markdown",
   "metadata": {},
   "source": [
    "## Validation curves"
   ]
  },
  {
   "cell_type": "markdown",
   "metadata": {},
   "source": [
    "### Decision Tree"
   ]
  },
  {
   "cell_type": "code",
   "execution_count": 44,
   "metadata": {},
   "outputs": [
    {
     "name": "stdout",
     "output_type": "stream",
     "text": [
      "Validation curve for Decision Tree (max_depth=23) plotted, took 245.37 seconds (4.09 minutes)\n"
     ]
    },
    {
     "data": {
      "image/png": "[encoded data removed]",
      "text/plain": [
       "<Figure size 432x288 with 1 Axes>"
      ]
     },
     "metadata": {
      "needs_background": "light"
     },
     "output_type": "display_data"
    }
   ],
   "source": [
    "model_name = \"Decision Tree (max_depth={0})\".format(max_depth)\n",
    "param_name = 'max_depth'\n",
    "param_range = list(range(1, 30))\n",
    "\n",
    "model = DecisionTreeClassifier(criterion='gini', random_state=random_state)\n",
    "plot_validation_curve(model, model_name, X_train, y_train, param_name, param_range)"
   ]
  },
  {
   "cell_type": "markdown",
   "metadata": {},
   "source": [
    "### Random Forest"
   ]
  },
  {
   "cell_type": "code",
   "execution_count": 46,
   "metadata": {},
   "outputs": [
    {
     "name": "stdout",
     "output_type": "stream",
     "text": [
      "Validation curve for Random Forest plotted, took 427.13 seconds (7.12 minutes)\n"
     ]
    },
    {
     "data": {
      "image/png": "[encoded data removed]",
      "text/plain": [
       "<Figure size 432x288 with 1 Axes>"
      ]
     },
     "metadata": {
      "needs_background": "light"
     },
     "output_type": "display_data"
    }
   ],
   "source": [
    "n_jobs = 12\n",
    "model_name = \"Random Forest\"\n",
    "param_name = 'n_estimators'\n",
    "param_range = [1, 5, 10, 20, 50, 100, 200, 500]\n",
    "\n",
    "model = RandomForestClassifier(criterion='gini', random_state=random_state, n_jobs=n_jobs)\n",
    "plot_validation_curve(model, model_name, X_train, y_train, param_name, param_range)"
   ]
  },
  {
   "cell_type": "markdown",
   "metadata": {},
   "source": [
    "## Learning curves"
   ]
  },
  {
   "cell_type": "code",
   "execution_count": 57,
   "metadata": {
    "scrolled": true
   },
   "outputs": [
    {
     "data": {
      "image/png": "[encoded data removed]",
      "text/plain": [
       "<Figure size 432x288 with 1 Axes>"
      ]
     },
     "metadata": {
      "needs_background": "light"
     },
     "output_type": "display_data"
    }
   ],
   "source": [
    "n_jobs = 12\n",
    "max_depth = 23\n",
    "model_name = \"Decision Tree (max_depth={0})\".format(max_depth)\n",
    "model = DecisionTreeClassifier(criterion='gini', random_state=random_state, max_depth=max_depth)\n",
    "plot_learning_curve(model, model_name, X_train, y_train, n_jobs=n_jobs)"
   ]
  },
  {
   "cell_type": "code",
   "execution_count": 54,
   "metadata": {
    "scrolled": true
   },
   "outputs": [
    {
     "data": {
      "image/png": "[encoded data removed]",
      "text/plain": [
       "<Figure size 432x288 with 1 Axes>"
      ]
     },
     "metadata": {
      "needs_background": "light"
     },
     "output_type": "display_data"
    }
   ],
   "source": [
    "n_jobs = 12\n",
    "n_estimators = 30\n",
    "model_name = \"Random Forest (n_estimators={0})\".format(n_estimators)\n",
    "model = RandomForestClassifier(criterion='gini', random_state=random_state, n_jobs=n_jobs, n_estimators=n_estimators)\n",
    "plot_learning_curve(model, model_name, X_train, y_train, n_jobs=1)"
   ]
  }
 ],
 "metadata": {
  "kernelspec": {
   "display_name": "Python 3",
   "language": "python",
   "name": "python3"
  },
  "language_info": {
   "codemirror_mode": {
    "name": "ipython",
    "version": 3
   },
   "file_extension": ".py",
   "mimetype": "text/x-python",
   "name": "python",
   "nbconvert_exporter": "python",
   "pygments_lexer": "ipython3",
   "version": "3.6.9"
  }
 },
 "nbformat": 4,
 "nbformat_minor": 2
}
