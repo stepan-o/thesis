{
 "cells": [
  {
   "cell_type": "markdown",
   "metadata": {},
   "source": [
    "# GTHA housing market database\n",
    "# OSEMN methodology Step 4: Model\n",
    "# Predict land use from new features in Teranet\n",
    "# Feature Selection\n",
    "# Repeat application of Sequential Backwards Selection (SBS) algorithm\n",
    "\n",
    "---\n",
    "\n",
    "This notebook describes _Step 4: Model_ of OSEMN methodology performed on the Teranet dataset."
   ]
  },
  {
   "cell_type": "markdown",
   "metadata": {},
   "source": [
    "## Import dependencies"
   ]
  },
  {
   "cell_type": "code",
   "execution_count": 1,
   "metadata": {},
   "outputs": [],
   "source": [
    "import numpy as np\n",
    "import matplotlib.pyplot as plt\n",
    "import matplotlib\n",
    "import seaborn as sns\n",
    "import pandas as pd\n",
    "import os\n",
    "from sklearn.model_selection import train_test_split\n",
    "from sklearn.preprocessing import StandardScaler, MinMaxScaler, LabelEncoder\n",
    "from sklearn.linear_model import Perceptron, LogisticRegression\n",
    "from sklearn.tree import DecisionTreeClassifier, export_graphviz\n",
    "from sklearn.ensemble import RandomForestClassifier\n",
    "from sklearn.neighbors import KNeighborsClassifier\n",
    "from sklearn.metrics import accuracy_score\n",
    "# from pydotplus import graph_from_dot_data\n",
    "from time import time\n",
    "\n",
    "sns.set()"
   ]
  },
  {
   "cell_type": "code",
   "execution_count": 29,
   "metadata": {},
   "outputs": [],
   "source": [
    "import sys\n",
    "\n",
    "sys.path.append('../../../../src')\n",
    "\n",
    "from io_utils import df_from_csv\n",
    "from plot_utils import plot_hist\n",
    "from model_utils import fit_model, fit_sbs, SBS"
   ]
  },
  {
   "cell_type": "markdown",
   "metadata": {},
   "source": [
    "## Load Teranet data"
   ]
  },
  {
   "cell_type": "code",
   "execution_count": 3,
   "metadata": {},
   "outputs": [
    {
     "data": {
      "text/plain": [
       "['4_Teranet_lu_predict.csv',\n",
       " '1.1_Teranet_DA.csv',\n",
       " '1.3_Teranet_DA_TAZ_PG_FSA.csv',\n",
       " '2_Teranet_consistent.csv',\n",
       " 'parcel16_epoi13.csv',\n",
       " '1.2_Teranet_DA_TAZ.csv',\n",
       " '1.4_Teranet_DA_TAZ_FSA_LU_LUDMTI.csv',\n",
       " '1.4_Teranet_DA_TAZ_FSA_LU.csv',\n",
       " '.ipynb_checkpoints',\n",
       " 'ParcelLandUse.zip',\n",
       " 'ParcelLandUse',\n",
       " 'HHSaleHistory.csv',\n",
       " '3_Teranet_nonan_new_cols.csv',\n",
       " 'GTAjoinedLanduseSales']"
      ]
     },
     "execution_count": 3,
     "metadata": {},
     "output_type": "execute_result"
    }
   ],
   "source": [
    "data_path = '../../../../data/'\n",
    "teranet_path = data_path + 'teranet/'\n",
    "os.listdir(teranet_path)"
   ]
  },
  {
   "cell_type": "code",
   "execution_count": 4,
   "metadata": {},
   "outputs": [
    {
     "name": "stdout",
     "output_type": "stream",
     "text": [
      "----- DataFrame loaded\n",
      "in 108.84 seconds\n",
      "with 5,188,513 rows\n",
      "and 80 columns\n",
      "-- Column names:\n",
      " Index(['transaction_id', 'lro_num', 'pin', 'consideration_amt',\n",
      "       'registration_date', 'postal_code', 'unitno', 'street_name',\n",
      "       'street_designation', 'street_direction', 'municipality',\n",
      "       'street_number', 'x', 'y', 'dauid', 'csduid', 'csdname', 'taz_o', 'fsa',\n",
      "       'pca_id', 'postal_code_dmti', 'pin_lu', 'landuse', 'prop_code',\n",
      "       'dmti_lu', 'street_name_raw', 'year', 'year_month', 'year3',\n",
      "       'census_year', 'census2001_year', 'tts_year', 'tts1991_year', 'xy',\n",
      "       'pin_total_sales', 'xy_total_sales', 'pin_prev_sales', 'xy_prev_sales',\n",
      "       'xy_first_sale', 'pin_years_since_last_sale',\n",
      "       'xy_years_since_last_sale', 'xy_years_to_next_sale',\n",
      "       'da_days_since_last_sale', 'da_years_since_last_sale',\n",
      "       'xy_sale_next_6m', 'price_2016', 'pin_price_cum_sum',\n",
      "       'xy_price_cum_sum', 'pin_price_pct_change', 'xy_price_pct_change',\n",
      "       'price_da_pct_change', 'med_price_xy', 'med_price_year',\n",
      "       'price_to_med_xy', 'price_to_med_year', 'outlier_y_3', 'outlier_y_5',\n",
      "       'outlier_y_10', 'outlier_y_20', 'outlier_xy_2', 'outlier_xy_4',\n",
      "       'outlier_xy_10', 'code', 'lu_class', 'luc_detached', 'luc_condo',\n",
      "       'luc_strata', 'luc_duplex', 'luc_townhouse', 'luc_mixuse',\n",
      "       'luc_underdeveloped', 'luc_mixedcomplex', 'luc_industrial',\n",
      "       'luc_commercial', 'lucr_detached', 'lucr', 'lucr_duplex_townhouse',\n",
      "       'lucr_condo', 'lucr_other', 'lucr_predict'],\n",
      "      dtype='object')\n"
     ]
    }
   ],
   "source": [
    "teranet_df = df_from_csv(teranet_path + '4_Teranet_lu_predict.csv', parse_dates=['registration_date'])"
   ]
  },
  {
   "cell_type": "markdown",
   "metadata": {},
   "source": [
    "## Load Census data"
   ]
  },
  {
   "cell_type": "code",
   "execution_count": 5,
   "metadata": {},
   "outputs": [
    {
     "data": {
      "text/plain": [
       "['da_census_income.csv',\n",
       " 'Census data availability.xlsx',\n",
       " 'da_census.xls',\n",
       " 'da_census_select_tidy.csv',\n",
       " 'da_census_income_shapefile',\n",
       " 'da_census_select.csv']"
      ]
     },
     "execution_count": 5,
     "metadata": {},
     "output_type": "execute_result"
    }
   ],
   "source": [
    "census_path = data_path + 'census/'\n",
    "os.listdir(census_path)"
   ]
  },
  {
   "cell_type": "code",
   "execution_count": 6,
   "metadata": {},
   "outputs": [
    {
     "name": "stdout",
     "output_type": "stream",
     "text": [
      "----- DataFrame loaded\n",
      "in 0.22 seconds\n",
      "with 36,728 rows\n",
      "and 32 columns\n",
      "-- Column names:\n",
      " Index(['DAUID', 'year', 'Avg_HHsize', 'Avg_HHinc', 'Avg_own_payt',\n",
      "       'Avg_val_dwel', 'Avg_rent', 'Pop', 'PopDens', 'Dwel', 'DwelDens',\n",
      "       'Sgl_det', 'Apt_5plus', 'Sgl_att', 'Owned', 'Rented', 'CarTrVan_d',\n",
      "       'CarTrVan_p', 'PT', 'Walk', 'Bike', 'Lbrfrc', 'Emp', 'Unemp',\n",
      "       'Not_lbrfrc', 'Employee', 'Self_emp', 'At_home', 'No_fix_wkpl',\n",
      "       'Usl_wkpl', 'Blue_cljob', 'White_cljob'],\n",
      "      dtype='object')\n"
     ]
    }
   ],
   "source": [
    "census_df = df_from_csv(census_path + 'da_census_select_tidy.csv')"
   ]
  },
  {
   "cell_type": "markdown",
   "metadata": {},
   "source": [
    "## Load TTS data"
   ]
  },
  {
   "cell_type": "code",
   "execution_count": 7,
   "metadata": {},
   "outputs": [
    {
     "data": {
      "text/plain": [
       "['tts_num_jobs_tidy.csv',\n",
       " 'TAZ_2001shp.zip',\n",
       " 'TAZ_2001shp',\n",
       " 'taz_tts_tidy.csv',\n",
       " 'taz_info.csv',\n",
       " 'TTS_variables.xlsx',\n",
       " 'taz_tts.xlsx',\n",
       " 'Num_of_Jobs.xlsx']"
      ]
     },
     "execution_count": 7,
     "metadata": {},
     "output_type": "execute_result"
    }
   ],
   "source": [
    "tts_path = data_path + 'tts/'\n",
    "os.listdir(tts_path)"
   ]
  },
  {
   "cell_type": "code",
   "execution_count": 8,
   "metadata": {},
   "outputs": [
    {
     "name": "stdout",
     "output_type": "stream",
     "text": [
      "----- DataFrame loaded\n",
      "in 0.02 seconds\n",
      "with 12,012 rows\n",
      "and 8 columns\n",
      "-- Column names:\n",
      " Index(['TAZ_O', 'year', 'Pop', 'FT_wrk', 'Stu', 'HH', 'Jobs', 'Cars'], dtype='object')\n"
     ]
    }
   ],
   "source": [
    "tts_df = df_from_csv(tts_path + 'taz_tts_tidy.csv')"
   ]
  },
  {
   "cell_type": "markdown",
   "metadata": {},
   "source": [
    "## Join Census data to Teranet data"
   ]
  },
  {
   "cell_type": "code",
   "execution_count": 9,
   "metadata": {},
   "outputs": [
    {
     "name": "stdout",
     "output_type": "stream",
     "text": [
      "----- Census variables were joined to the DataFrame\n",
      "in 45.65 seconds (0.76 minutes)\n",
      "with 5,188,513 rows\n",
      "and 110 columns\n",
      "-- Column names:\n",
      " Index(['transaction_id', 'lro_num', 'pin', 'consideration_amt',\n",
      "       'registration_date', 'postal_code', 'unitno', 'street_name',\n",
      "       'street_designation', 'street_direction',\n",
      "       ...\n",
      "       'Emp', 'Unemp', 'Not_lbrfrc', 'Employee', 'Self_emp', 'At_home',\n",
      "       'No_fix_wkpl', 'Usl_wkpl', 'Blue_cljob', 'White_cljob'],\n",
      "      dtype='object', length=110)\n"
     ]
    }
   ],
   "source": [
    "t = time()\n",
    "df = pd.merge(teranet_df, census_df, how='left',\n",
    "              left_on=['dauid', 'census2001_year'], right_on=['DAUID', 'year'])\n",
    "df = df.drop(['DAUID', 'year_y'], axis=1).rename(columns={'year_x': 'year'})\n",
    "elapsed = time() - t\n",
    "print(\"----- Census variables were joined to the DataFrame\"\n",
    "      \"\\nin {0:,.2f} seconds ({1:.2f} minutes)\".format(elapsed, elapsed / 60) + \n",
    "      \"\\nwith {0:,} rows\\nand {1:,} columns\"\n",
    "      .format(df.shape[0], df.shape[1]) + \n",
    "      \"\\n-- Column names:\\n\", df.columns)"
   ]
  },
  {
   "cell_type": "markdown",
   "metadata": {},
   "source": [
    "## Join TTS data to Teranet data"
   ]
  },
  {
   "cell_type": "code",
   "execution_count": 10,
   "metadata": {},
   "outputs": [
    {
     "name": "stdout",
     "output_type": "stream",
     "text": [
      "----- TTS variables were joined to the DataFrame\n",
      "in 57.40 seconds (0.96 minutes)\n",
      "with 5,188,513 rows\n",
      "and 116 columns\n",
      "-- Column names:\n",
      " Index(['transaction_id', 'lro_num', 'pin', 'consideration_amt',\n",
      "       'registration_date', 'postal_code', 'unitno', 'street_name',\n",
      "       'street_designation', 'street_direction',\n",
      "       ...\n",
      "       'Usl_wkpl', 'Blue_cljob', 'White_cljob', 'TAZ_O', 'Pop_y', 'FT_wrk',\n",
      "       'Stu', 'HH', 'Jobs', 'Cars'],\n",
      "      dtype='object', length=116)\n"
     ]
    }
   ],
   "source": [
    "t = time()\n",
    "df = pd.merge(df, tts_df, how='left',\n",
    "              left_on=['taz_o', 'tts_year'], right_on=['TAZ_O', 'year'])\n",
    "df = df.drop(['taz_o', 'year_y'], axis=1).rename(columns={'year_x': 'year'})\n",
    "elapsed = time() - t\n",
    "print(\"----- TTS variables were joined to the DataFrame\"\n",
    "      \"\\nin {0:,.2f} seconds ({1:.2f} minutes)\".format(elapsed, elapsed / 60) + \n",
    "      \"\\nwith {0:,} rows\\nand {1:,} columns\"\n",
    "      .format(df.shape[0], df.shape[1]) + \n",
    "      \"\\n-- Column names:\\n\", df.columns)"
   ]
  },
  {
   "cell_type": "markdown",
   "metadata": {},
   "source": [
    "## Take a train-test subset of Teranet records"
   ]
  },
  {
   "cell_type": "code",
   "execution_count": 16,
   "metadata": {},
   "outputs": [
    {
     "name": "stdout",
     "output_type": "stream",
     "text": [
      "219,130 Teranet records in the train-test subset (records from 2011).\n",
      "216,492 Teranet records in the validation subset #1 (records from 2010).\n",
      "205,341 Teranet records in the validation subset #2 (records from 2012).\n"
     ]
    }
   ],
   "source": [
    "year_train_test = 2011\n",
    "year_val1 = 2010\n",
    "year_val2 = 2012\n",
    "\n",
    "s = df.query('year == @year_train_test')\n",
    "s_val1 = df.query('year == @year_val1')\n",
    "s_val2 = df.query('year == @year_val2')\n",
    "\n",
    "print(\"{0:,} Teranet records in the train-test subset (records from {1}).\".format(len(s), year_train_test))\n",
    "print(\"{0:,} Teranet records in the validation subset #1 (records from {1}).\".format(len(s_val1), year_val1))\n",
    "print(\"{0:,} Teranet records in the validation subset #2 (records from {1}).\".format(len(s_val2), year_val2))"
   ]
  },
  {
   "cell_type": "markdown",
   "metadata": {},
   "source": [
    "## Select features"
   ]
  },
  {
   "cell_type": "code",
   "execution_count": 17,
   "metadata": {},
   "outputs": [
    {
     "data": {
      "text/plain": [
       "Index(['transaction_id', 'lro_num', 'pin', 'consideration_amt',\n",
       "       'registration_date', 'postal_code', 'unitno', 'street_name',\n",
       "       'street_designation', 'street_direction',\n",
       "       ...\n",
       "       'Usl_wkpl', 'Blue_cljob', 'White_cljob', 'TAZ_O', 'Pop_y', 'FT_wrk',\n",
       "       'Stu', 'HH', 'Jobs', 'Cars'],\n",
       "      dtype='object', length=116)"
      ]
     },
     "execution_count": 17,
     "metadata": {},
     "output_type": "execute_result"
    }
   ],
   "source": [
    "s.columns"
   ]
  },
  {
   "cell_type": "code",
   "execution_count": 18,
   "metadata": {},
   "outputs": [
    {
     "name": "stdout",
     "output_type": "stream",
     "text": [
      "94,733 rows in train-test subset, 96,172 rows in validation subset #1, 86,642 rows in validation subset #2\n"
     ]
    }
   ],
   "source": [
    "sbs_k30 = ['pin_total_sales', 'xy_total_sales', 'pin_prev_sales', 'xy_prev_sales',\n",
    "       'xy_first_sale', 'pin_years_since_last_sale',\n",
    "       'xy_years_since_last_sale', 'xy_years_to_next_sale',\n",
    "       'da_days_since_last_sale', 'da_years_since_last_sale',\n",
    "       'xy_sale_next_6m', 'price_2016', 'pin_price_cum_sum',\n",
    "       'xy_price_cum_sum', 'pin_price_pct_change', 'xy_price_pct_change',\n",
    "       'price_da_pct_change', 'med_price_xy', 'med_price_year',\n",
    "       'price_to_med_xy', 'price_to_med_year', 'outlier_y_3', 'outlier_y_5',\n",
    "       'outlier_y_10', 'Avg_HHsize', 'Avg_rent', 'DwelDens', 'Sgl_det',\n",
    "       'CarTrVan_d', 'Pop_y', 'lucr_detached', 'lucr_duplex_townhouse', 'lucr', 'lucr_condo', 'lucr_other']\n",
    "s = s[sbs_k30]\n",
    "s_val1 = s_val1[sbs_k30]\n",
    "s_val2 = s_val2[sbs_k30]\n",
    "s = s.dropna()\n",
    "s_val1 = s_val1.dropna()\n",
    "s_val2 = s_val2.dropna()\n",
    "print(\"{0:,} rows in train-test subset, {1:,} rows in validation subset #1, {2:,} rows in validation subset #2\"\n",
    "      .format(len(s), len(s_val1), len(s_val2)))"
   ]
  },
  {
   "cell_type": "markdown",
   "metadata": {},
   "source": [
    "## Encode target"
   ]
  },
  {
   "cell_type": "code",
   "execution_count": 19,
   "metadata": {},
   "outputs": [
    {
     "name": "stdout",
     "output_type": "stream",
     "text": [
      "condo               45416\n",
      "detached            17484\n",
      "duplex_townhouse     5075\n",
      "other               26758\n",
      "Name: lucr, dtype: int64\n",
      "0    45416\n",
      "1    17484\n",
      "2     5075\n",
      "3    26758\n",
      "Name: lucr_e, dtype: int64\n",
      "condo               45961\n",
      "detached            19888\n",
      "duplex_townhouse     5889\n",
      "other               24434\n",
      "Name: lucr, dtype: int64\n",
      "0    45961\n",
      "1    19888\n",
      "2     5889\n",
      "3    24434\n",
      "Name: lucr_e, dtype: int64\n",
      "condo               41302\n",
      "detached            14895\n",
      "duplex_townhouse     4116\n",
      "other               26329\n",
      "Name: lucr, dtype: int64\n",
      "0    41302\n",
      "1    14895\n",
      "2     4116\n",
      "3    26329\n",
      "Name: lucr_e, dtype: int64\n",
      "Land use encoded!\n"
     ]
    }
   ],
   "source": [
    "le = LabelEncoder()\n",
    "\n",
    "s['lucr_e'] = le.fit_transform(s['lucr'])\n",
    "s_val1['lucr_e'] = le.transform(s_val1['lucr'])\n",
    "s_val2['lucr_e'] = le.transform(s_val2['lucr'])\n",
    "\n",
    "s['lucr_detached_e'] = le.fit_transform(s['lucr_detached'])\n",
    "s_val1['lucr_detached_e'] = le.transform(s_val1['lucr_detached'])\n",
    "s_val2['lucr_detached_e'] = le.transform(s_val2['lucr_detached'])\n",
    "\n",
    "s['lucr_duplex_townhouse_e'] = le.fit_transform(s['lucr_duplex_townhouse'])\n",
    "s_val1['lucr_duplex_townhouse_e'] = le.transform(s_val1['lucr_duplex_townhouse'])\n",
    "s_val2['lucr_duplex_townhouse_e'] = le.transform(s_val2['lucr_duplex_townhouse'])\n",
    "\n",
    "s['lucr_condo_e'] = le.fit_transform(s['lucr_condo'])\n",
    "s_val1['lucr_condo_e'] = le.transform(s_val1['lucr_condo'])\n",
    "s_val2['lucr_condo_e'] = le.transform(s_val2['lucr_condo'])\n",
    "\n",
    "s['lucr_other_e'] = le.fit_transform(s['lucr_other'])\n",
    "s_val1['lucr_other_e'] = le.transform(s_val1['lucr_other'])\n",
    "s_val2['lucr_other_e'] = le.transform(s_val2['lucr_other'])\n",
    "\n",
    "print(s['lucr'].value_counts().sort_index())\n",
    "print(s['lucr_e'].value_counts().sort_index())\n",
    "print(s_val1['lucr'].value_counts().sort_index())\n",
    "print(s_val1['lucr_e'].value_counts().sort_index())\n",
    "print(s_val2['lucr'].value_counts().sort_index())\n",
    "print(s_val2['lucr_e'].value_counts().sort_index())\n",
    "\n",
    "s = s.drop(['lucr', 'lucr_detached', 'lucr_duplex_townhouse', 'lucr_condo', 'lucr_other'], axis=1)\n",
    "s_val1 = s_val1.drop(['lucr', 'lucr_detached', 'lucr_duplex_townhouse', 'lucr_condo', 'lucr_other'], axis=1)\n",
    "s_val2 = s_val2.drop(['lucr', 'lucr_detached', 'lucr_duplex_townhouse', 'lucr_condo', 'lucr_other'], axis=1)\n",
    "print(\"Land use encoded!\")\n",
    "labels_list = ['condo', 'detached', 'duplex_townhouse', 'other']"
   ]
  },
  {
   "cell_type": "markdown",
   "metadata": {},
   "source": [
    "## Exploratory Data Analysis (EDA)"
   ]
  },
  {
   "cell_type": "code",
   "execution_count": 20,
   "metadata": {},
   "outputs": [
    {
     "name": "stdout",
     "output_type": "stream",
     "text": [
      "----- Pearson correlation coefficient between features and target classes\n",
      "\n",
      "         strongest negative correlation (top 10):\n",
      "                           var                 variable     value\n",
      "40            xy_sale_next_6m          lucr_detached_e -0.717591\n",
      "7       xy_years_to_next_sale             lucr_condo_e -0.495844\n",
      "55                   Avg_rent          lucr_detached_e -0.418134\n",
      "6    xy_years_since_last_sale             lucr_condo_e -0.412703\n",
      "70            xy_sale_next_6m  lucr_duplex_townhouse_e -0.363972\n",
      "31             xy_total_sales          lucr_detached_e -0.345584\n",
      "33              xy_prev_sales          lucr_detached_e -0.345240\n",
      "114                Avg_HHsize             lucr_other_e -0.297436\n",
      "56                   DwelDens          lucr_detached_e -0.260806\n",
      "27                    Sgl_det             lucr_condo_e -0.251827 \n",
      "\n",
      "         strongest positive correlation (top 10):\n",
      "                           var                 variable     value\n",
      "37      xy_years_to_next_sale          lucr_detached_e  0.662768\n",
      "36   xy_years_since_last_sale          lucr_detached_e  0.631365\n",
      "10            xy_sale_next_6m             lucr_condo_e  0.541671\n",
      "54                 Avg_HHsize          lucr_detached_e  0.407854\n",
      "67      xy_years_to_next_sale  lucr_duplex_townhouse_e  0.346341\n",
      "39   da_years_since_last_sale          lucr_detached_e  0.316520\n",
      "38    da_days_since_last_sale          lucr_detached_e  0.316520\n",
      "57                    Sgl_det          lucr_detached_e  0.306176\n",
      "115                  Avg_rent             lucr_other_e  0.271635\n",
      "66   xy_years_since_last_sale  lucr_duplex_townhouse_e  0.253038\n"
     ]
    }
   ],
   "source": [
    "condo_corr = s.corr()['lucr_condo_e'].reset_index().rename(columns={'index': 'var', 'variable': 'class'})\n",
    "detached_corr = s.corr()['lucr_detached_e'].reset_index().rename(columns={'index': 'var', 'variable': 'class'})\n",
    "duplex_townhouse_corr = \\\n",
    "    s.corr()['lucr_duplex_townhouse_e'].reset_index().rename(columns={'index': 'var', 'variable': 'class'})\n",
    "other_corr = s.corr()['lucr_other_e'].reset_index().rename(columns={'index': 'var', 'variable': 'class'})\n",
    "\n",
    "targets_corr = pd.merge(\n",
    "    pd.merge(\n",
    "        pd.merge(condo_corr, detached_corr, on='var'), \n",
    "    duplex_townhouse_corr, on='var'), \n",
    "               other_corr, on='var')\n",
    "mask1 = targets_corr['var'].isin(['lucr_e', 'lucr_detached_e', 'lucr_duplex_townhouse_e', 'lucr_condo_e', 'lucr_other_e'])\n",
    "targets_corr = targets_corr[~mask1]\n",
    "targets_corr_tidy = pd.melt(targets_corr, id_vars='var').sort_values('var')\n",
    "\n",
    "print_top = 10\n",
    "print(\"----- Pearson correlation coefficient between features and target classes\"\n",
    "      \"\\n\\n         strongest negative correlation (top {0}):\\n\".format(print_top),\n",
    "      targets_corr_tidy.sort_values('value').head(print_top),\n",
    "      \"\\n\\n         strongest positive correlation (top {0}):\\n\".format(print_top),\n",
    "      targets_corr_tidy.sort_values('value', ascending=False).head(print_top))"
   ]
  },
  {
   "cell_type": "code",
   "execution_count": 22,
   "metadata": {},
   "outputs": [
    {
     "data": {
      "image/png": "[encoded data removed]",
      "text/plain": [
       "<Figure size 720x720 with 1 Axes>"
      ]
     },
     "metadata": {
      "needs_background": "light"
     },
     "output_type": "display_data"
    }
   ],
   "source": [
    "f, ax = plt.subplots(1, figsize=(10, 10))\n",
    "sns.barplot(x=\"value\", y=\"var\", hue=\"variable\", data=targets_corr_tidy,\n",
    "            palette=\"muted\", ax=ax)\n",
    "ax.set_ylabel(\"Features\", fontsize=16)\n",
    "ax.set_xlabel(\"Correlation coefficient\", fontsize=16)\n",
    "ax.set_title(\"Pearson correlation coefficient between features and target classes\", fontsize=16)\n",
    "ax.grid(True)\n",
    "ax.legend(loc='center right', fontsize=14)\n",
    "plt.xticks(fontsize=14)\n",
    "plt.savefig(\"../../results/plots/sbs30_features_lucr_corr.png\", dpi=300, bbox_inches='tight')"
   ]
  },
  {
   "cell_type": "markdown",
   "metadata": {},
   "source": [
    "## Prepare features"
   ]
  },
  {
   "cell_type": "markdown",
   "metadata": {},
   "source": [
    "#### Select features and target"
   ]
  },
  {
   "cell_type": "code",
   "execution_count": 23,
   "metadata": {},
   "outputs": [
    {
     "data": {
      "text/plain": [
       "Index(['pin_total_sales', 'xy_total_sales', 'pin_prev_sales', 'xy_prev_sales',\n",
       "       'xy_first_sale', 'pin_years_since_last_sale',\n",
       "       'xy_years_since_last_sale', 'xy_years_to_next_sale',\n",
       "       'da_days_since_last_sale', 'da_years_since_last_sale',\n",
       "       'xy_sale_next_6m', 'price_2016', 'pin_price_cum_sum',\n",
       "       'xy_price_cum_sum', 'pin_price_pct_change', 'xy_price_pct_change',\n",
       "       'price_da_pct_change', 'med_price_xy', 'med_price_year',\n",
       "       'price_to_med_xy', 'price_to_med_year', 'outlier_y_3', 'outlier_y_5',\n",
       "       'outlier_y_10', 'Avg_HHsize', 'Avg_rent', 'DwelDens', 'Sgl_det',\n",
       "       'CarTrVan_d', 'Pop_y'],\n",
       "      dtype='object')"
      ]
     },
     "execution_count": 23,
     "metadata": {},
     "output_type": "execute_result"
    }
   ],
   "source": [
    "target_cols = 5\n",
    "feat_cols = s.columns[:-target_cols]\n",
    "feat_cols"
   ]
  },
  {
   "cell_type": "code",
   "execution_count": 24,
   "metadata": {},
   "outputs": [
    {
     "name": "stdout",
     "output_type": "stream",
     "text": [
      "Features and target selected.\n"
     ]
    }
   ],
   "source": [
    "X = s[feat_cols].values\n",
    "X_val1 = s_val1[feat_cols].values\n",
    "X_val2 = s_val2[feat_cols].values\n",
    "y = s['lucr_e'].values\n",
    "y_val1 = s_val1['lucr_e'].values\n",
    "y_val2 = s_val2['lucr_e'].values\n",
    "print(\"Features and target selected.\")"
   ]
  },
  {
   "cell_type": "markdown",
   "metadata": {},
   "source": [
    "#### Perform train-test split"
   ]
  },
  {
   "cell_type": "code",
   "execution_count": 25,
   "metadata": {},
   "outputs": [
    {
     "name": "stdout",
     "output_type": "stream",
     "text": [
      "Performed train-test split.\n",
      "Labels counts in y: [45416 17484  5075 26758]\n",
      "Labels counts in y_train: [31791 12239  3552 18731]\n",
      "Labels counts in y_test: [13625  5245  1523  8027]\n",
      "Labels counts in y_val1: [45961 19888  5889 24434]\n",
      "Labels counts in y_val2: [41302 14895  4116 26329]\n"
     ]
    }
   ],
   "source": [
    "X_train, X_test, y_train, y_test = train_test_split(X, y, test_size=0.3, random_state=1, stratify=y)\n",
    "print(\"Performed train-test split.\")\n",
    "print('Labels counts in y:', np.bincount(y))\n",
    "print('Labels counts in y_train:', np.bincount(y_train))\n",
    "print('Labels counts in y_test:', np.bincount(y_test))\n",
    "print('Labels counts in y_val1:', np.bincount(y_val1))\n",
    "print('Labels counts in y_val2:', np.bincount(y_val2))"
   ]
  },
  {
   "cell_type": "markdown",
   "metadata": {},
   "source": [
    "#### Standardize features"
   ]
  },
  {
   "cell_type": "code",
   "execution_count": 26,
   "metadata": {},
   "outputs": [
    {
     "name": "stdout",
     "output_type": "stream",
     "text": [
      "Input features were standardized.\n"
     ]
    }
   ],
   "source": [
    "sc = StandardScaler()\n",
    "sc.fit(X_train)\n",
    "X_train_std = sc.transform(X_train)\n",
    "X_test_std = sc.transform(X_test)\n",
    "X_val1_std = sc.transform(X_val1)\n",
    "X_val2_std = sc.transform(X_val2)\n",
    "print(\"Input features were standardized.\")"
   ]
  },
  {
   "cell_type": "markdown",
   "metadata": {},
   "source": [
    "#### Normalize features"
   ]
  },
  {
   "cell_type": "code",
   "execution_count": 27,
   "metadata": {},
   "outputs": [
    {
     "name": "stdout",
     "output_type": "stream",
     "text": [
      "Input features were normalized.\n"
     ]
    }
   ],
   "source": [
    "sc = MinMaxScaler()\n",
    "sc.fit(X_train)\n",
    "X_train_norm = sc.transform(X_train)\n",
    "X_test_norm = sc.transform(X_test)\n",
    "X_val1_norm = sc.transform(X_val1)\n",
    "X_val2_norm = sc.transform(X_val2)\n",
    "print(\"Input features were normalized.\")"
   ]
  },
  {
   "cell_type": "markdown",
   "metadata": {},
   "source": [
    "## Apply Sequential Backwards Selection (SBS) algorithm"
   ]
  },
  {
   "cell_type": "code",
   "execution_count": 28,
   "metadata": {},
   "outputs": [
    {
     "data": {
      "text/plain": [
       "(66313, 30)"
      ]
     },
     "execution_count": 28,
     "metadata": {},
     "output_type": "execute_result"
    }
   ],
   "source": [
    "X_train.shape"
   ]
  },
  {
   "cell_type": "code",
   "execution_count": 31,
   "metadata": {},
   "outputs": [],
   "source": [
    "def fit_sbs(classifier, k_features, X, y, y_min=None, y_max=None, height=4, width=4,\n",
    "            title=\"SBS\", output='show', save_path='sbs.png', return_feats=True):\n",
    "    t = time()\n",
    "\n",
    "    sbs = SBS(classifier, k_features=k_features)\n",
    "\n",
    "    sbs.fit(X, y)\n",
    "\n",
    "    elapsed = time() - t\n",
    "    print(\"Sequential Backwards Selection algorithm was applied. Took {0:,.2f} seconds, ({1:,.2f} minutes).\"\n",
    "          .format(elapsed, elapsed / 60))\n",
    "\n",
    "    k_feat = [len(k) for k in sbs.subsets_]\n",
    "\n",
    "    f, ax = plt.subplots(1, figsize=(width, height))\n",
    "    plt.plot(k_feat, sbs.scores_, marker='o')\n",
    "    ax.set_ylim(bottom=y_min, top=y_max)\n",
    "    ax.set_title(title)\n",
    "    plt.ylabel('Accuracy')\n",
    "    plt.xlabel('Number of features')\n",
    "    plt.grid()\n",
    "    if output == 'show':\n",
    "        plt.show()\n",
    "    elif output == 'save':\n",
    "        f.savefig(save_path, dpi=300, bbox_inches='tight')\n",
    "    if return_feats:\n",
    "        return sbs.subsets_"
   ]
  },
  {
   "cell_type": "code",
   "execution_count": 35,
   "metadata": {},
   "outputs": [
    {
     "name": "stdout",
     "output_type": "stream",
     "text": [
      "Sequential Backwards Selection algorithm was applied. Took 94.37 seconds, (1.57 minutes).\n"
     ]
    },
    {
     "data": {
      "image/png": "[encoded data removed]",
      "text/plain": [
       "<Figure size 288x288 with 1 Axes>"
      ]
     },
     "metadata": {
      "needs_background": "light"
     },
     "output_type": "display_data"
    }
   ],
   "source": [
    "ppn = Perceptron(max_iter=100, eta0=0.01, random_state=1)\n",
    "k_features = 1\n",
    "model_name = \"Perceptron (normalized features)\"\n",
    "save_name = 'ppn'\n",
    "ppn_feats = fit_sbs(ppn, k_features, X_train_norm, y_train, output='save', \n",
    "            save_path='../../results/plots/sbs_sbs_{0}_kfeats_{1}.png'.format(save_name, k_features),\n",
    "            title=\"SBS applied to {0},\\nk_features={1}\".format(model_name, k_features))"
   ]
  },
  {
   "cell_type": "code",
   "execution_count": 39,
   "metadata": {},
   "outputs": [
    {
     "name": "stdout",
     "output_type": "stream",
     "text": [
      "Sequential Backwards Selection algorithm was applied. Took 193.92 seconds, (3.23 minutes).\n"
     ]
    },
    {
     "data": {
      "image/png": "[encoded data removed]",
      "text/plain": [
       "<Figure size 288x288 with 1 Axes>"
      ]
     },
     "metadata": {
      "needs_background": "light"
     },
     "output_type": "display_data"
    }
   ],
   "source": [
    "max_depth = 4\n",
    "k_features = 1\n",
    "tree = DecisionTreeClassifier(criterion='gini', max_depth=max_depth, random_state=1)\n",
    "model_name = 'Decision Tree (raw features, max depth {0})'.format(max_depth)\n",
    "save_name = 'tree{0}'.format(max_depth)\n",
    "tree_feats = fit_sbs(tree, k_features, X_train, y_train, output='save', \n",
    "                     save_path='../../results/plots/sbs_sbs_{0}_kfeats_{1}.png'.format(save_name, k_features),\n",
    "                     title=\"SBS applied to {0},\\nk_features={1}\".format(model_name, k_features))"
   ]
  },
  {
   "cell_type": "code",
   "execution_count": 40,
   "metadata": {},
   "outputs": [
    {
     "name": "stdout",
     "output_type": "stream",
     "text": [
      "Sequential Backwards Selection algorithm was applied. Took 430.17 seconds, (7.17 minutes).\n"
     ]
    },
    {
     "data": {
      "image/png": "[encoded data removed]",
      "text/plain": [
       "<Figure size 288x288 with 1 Axes>"
      ]
     },
     "metadata": {
      "needs_background": "light"
     },
     "output_type": "display_data"
    }
   ],
   "source": [
    "n_estimators = 25\n",
    "k_features = 1\n",
    "forest = RandomForestClassifier(criterion='gini', n_estimators=n_estimators, random_state=1, n_jobs=8)\n",
    "model_name = 'Random Forest (raw features, {0} estimators)'.format(n_estimators)\n",
    "save_name = 'forest{0}'.format(n_estimators)\n",
    "forest_feats = fit_sbs(forest, k_features, X_train, y_train, output='save', \n",
    "                       save_path='../../results/plots/sbs_sbs_{0}_kfeats_{1}.png'.format(save_name, k_features),\n",
    "                       title=\"SBS applied to {0},\\nk_features={1}\".format(model_name, k_features))"
   ]
  },
  {
   "cell_type": "markdown",
   "metadata": {},
   "source": [
    "### Try the model with a reduced feature selection"
   ]
  },
  {
   "cell_type": "code",
   "execution_count": 52,
   "metadata": {},
   "outputs": [
    {
     "data": {
      "text/plain": [
       "Index(['xy_total_sales', 'Avg_HHsize'], dtype='object')"
      ]
     },
     "execution_count": 52,
     "metadata": {},
     "output_type": "execute_result"
    }
   ],
   "source": [
    "reduced_feats = feat_cols[list(tree_feats[-2])]\n",
    "reduced_feats"
   ]
  },
  {
   "cell_type": "code",
   "execution_count": 46,
   "metadata": {},
   "outputs": [
    {
     "data": {
      "text/plain": [
       "Index(['xy_total_sales', 'pin_prev_sales', 'pin_years_since_last_sale',\n",
       "       'med_price_xy', 'Avg_HHsize', 'DwelDens', 'Sgl_det', 'CarTrVan_d',\n",
       "       'Pop_y'],\n",
       "      dtype='object')"
      ]
     },
     "execution_count": 46,
     "metadata": {},
     "output_type": "execute_result"
    }
   ],
   "source": [
    "reduced_feats = feat_cols[list(tree_feats[-9])]\n",
    "reduced_feats"
   ]
  },
  {
   "cell_type": "code",
   "execution_count": 47,
   "metadata": {},
   "outputs": [],
   "source": [
    "sbs9_cols = ['xy_total_sales', 'pin_prev_sales', 'pin_years_since_last_sale',\n",
    "             'med_price_xy', 'Avg_HHsize', 'DwelDens', 'Sgl_det', 'CarTrVan_d', 'Pop_y']"
   ]
  },
  {
   "cell_type": "code",
   "execution_count": 48,
   "metadata": {},
   "outputs": [
    {
     "name": "stdout",
     "output_type": "stream",
     "text": [
      "Features and target selected.\n"
     ]
    }
   ],
   "source": [
    "X_rf = s[reduced_feats].values\n",
    "X_rf_val1 = s_val1[reduced_feats].values\n",
    "X_rf_val2 = s_val2[reduced_feats].values\n",
    "y = s['lucr_e'].values\n",
    "y_val1 = s_val1['lucr_e'].values\n",
    "y_val2 = s_val2['lucr_e'].values\n",
    "print(\"Features and target selected.\")"
   ]
  },
  {
   "cell_type": "code",
   "execution_count": 49,
   "metadata": {},
   "outputs": [
    {
     "name": "stdout",
     "output_type": "stream",
     "text": [
      "Performed train-test split.\n",
      "Labels counts in y: [45416 17484  5075 26758]\n",
      "Labels counts in y_train: [31791 12239  3552 18731]\n",
      "Labels counts in y_test: [13625  5245  1523  8027]\n",
      "Labels counts in y_val1: [45961 19888  5889 24434]\n",
      "Labels counts in y_val2: [41302 14895  4116 26329]\n"
     ]
    }
   ],
   "source": [
    "X_rf_train, X_rf_test, y_rf_train, y_rf_test = train_test_split(X_rf, y, test_size=0.3, random_state=1, stratify=y)\n",
    "print(\"Performed train-test split.\")\n",
    "print('Labels counts in y:', np.bincount(y))\n",
    "print('Labels counts in y_train:', np.bincount(y_train))\n",
    "print('Labels counts in y_test:', np.bincount(y_test))\n",
    "print('Labels counts in y_val1:', np.bincount(y_val1))\n",
    "print('Labels counts in y_val2:', np.bincount(y_val2))"
   ]
  },
  {
   "cell_type": "code",
   "execution_count": 50,
   "metadata": {},
   "outputs": [
    {
     "name": "stdout",
     "output_type": "stream",
     "text": [
      "\n",
      "Decision Tree (reduced feature selection, max_depth=4) fit, took 0.34 seconds (0.01 minutes)\n",
      "accuracy: train=0.77, test=0.77, validation #1=0.76, validation #2=0.75\n"
     ]
    }
   ],
   "source": [
    "max_depth = 4\n",
    "model_name = 'Decision Tree (reduced feature selection, max_depth={0})'.format(max_depth)\n",
    "tree = DecisionTreeClassifier(criterion='gini', max_depth=max_depth, random_state=1)\n",
    "fit_model(tree, model_name, X_rf_train, y_train, X_rf_test, y_test, X_rf_val1, y_val1, X_rf_val2, y_val2)"
   ]
  },
  {
   "cell_type": "code",
   "execution_count": 51,
   "metadata": {},
   "outputs": [
    {
     "name": "stdout",
     "output_type": "stream",
     "text": [
      "\n",
      "Decision Tree (reduced feature selection, max_depth=20) fit, took 0.77 seconds (0.01 minutes)\n",
      "accuracy: train=0.99, test=0.93, validation #1=0.91, validation #2=0.91\n"
     ]
    }
   ],
   "source": [
    "max_depth = 20\n",
    "model_name = 'Decision Tree (reduced feature selection, max_depth={0})'.format(max_depth)\n",
    "tree = DecisionTreeClassifier(criterion='gini', max_depth=max_depth, random_state=1)\n",
    "fit_model(tree, model_name, X_rf_train, y_train, X_rf_test, y_test, X_rf_val1, y_val1, X_rf_val2, y_val2)"
   ]
  },
  {
   "cell_type": "code",
   "execution_count": 69,
   "metadata": {},
   "outputs": [
    {
     "name": "stdout",
     "output_type": "stream",
     "text": [
      "\n",
      "Random Forest (raw features, 25 estimators) fit, took 2.80 seconds (0.05 minutes)\n",
      "accuracy: train=1.00, test=0.95, validation #1=0.93, validation #2=0.92\n"
     ]
    }
   ],
   "source": [
    "n_estimators = 25\n",
    "model_name = 'Random Forest (raw features, {0} estimators)'.format(n_estimators)\n",
    "forest = RandomForestClassifier(criterion='gini', n_estimators=n_estimators, random_state=1, n_jobs=8)\n",
    "fit_model(forest, model_name, X_rf_train, y_train, X_rf_test, y_test, X_rf_val1, y_val1, X_rf_val2, y_val2)"
   ]
  }
 ],
 "metadata": {
  "kernelspec": {
   "display_name": "Python 3",
   "language": "python",
   "name": "python3"
  },
  "language_info": {
   "codemirror_mode": {
    "name": "ipython",
    "version": 3
   },
   "file_extension": ".py",
   "mimetype": "text/x-python",
   "name": "python",
   "nbconvert_exporter": "python",
   "pygments_lexer": "ipython3",
   "version": "3.6.9"
  }
 },
 "nbformat": 4,
 "nbformat_minor": 2
}
