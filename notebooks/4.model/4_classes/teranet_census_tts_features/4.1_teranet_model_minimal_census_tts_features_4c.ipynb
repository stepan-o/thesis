{
 "cells": [
  {
   "cell_type": "markdown",
   "metadata": {},
   "source": [
    "# GTHA housing market database\n",
    "# OSEMN methodology Step 4: Model\n",
    "# Predict land use from new features in Teranet\n",
    "# Manually selected features\n",
    "\n",
    "---\n",
    "\n",
    "This notebook describes _Step 4: Model_ of OSEMN methodology performed on the Teranet dataset."
   ]
  },
  {
   "cell_type": "markdown",
   "metadata": {},
   "source": [
    "## Import dependencies"
   ]
  },
  {
   "cell_type": "code",
   "execution_count": 1,
   "metadata": {},
   "outputs": [],
   "source": [
    "import numpy as np\n",
    "import matplotlib.pyplot as plt\n",
    "import matplotlib\n",
    "import seaborn as sns\n",
    "import pandas as pd\n",
    "import os\n",
    "from matplotlib.colors import ListedColormap\n",
    "from sklearn.model_selection import train_test_split\n",
    "from sklearn.preprocessing import StandardScaler, MinMaxScaler, LabelEncoder\n",
    "from sklearn.linear_model import Perceptron, LogisticRegression\n",
    "from sklearn.tree import DecisionTreeClassifier\n",
    "from sklearn.ensemble import RandomForestClassifier\n",
    "from sklearn.neighbors import KNeighborsClassifier\n",
    "from sklearn.metrics import accuracy_score\n",
    "from time import time\n",
    "\n",
    "sns.set()"
   ]
  },
  {
   "cell_type": "code",
   "execution_count": 2,
   "metadata": {},
   "outputs": [],
   "source": [
    "import sys\n",
    "\n",
    "sys.path.append('../../../../src')\n",
    "\n",
    "from io_utils import df_from_csv\n",
    "from plot_utils import plot_hist\n",
    "from model_utils import fit_model"
   ]
  },
  {
   "cell_type": "markdown",
   "metadata": {},
   "source": [
    "## Load Teranet data"
   ]
  },
  {
   "cell_type": "code",
   "execution_count": 3,
   "metadata": {},
   "outputs": [
    {
     "data": {
      "text/plain": [
       "['4_Teranet_lu_predict.csv',\n",
       " '1.1_Teranet_DA.csv',\n",
       " '1.3_Teranet_DA_TAZ_PG_FSA.csv',\n",
       " '2_Teranet_consistent.csv',\n",
       " 'parcel16_epoi13.csv',\n",
       " '1.2_Teranet_DA_TAZ.csv',\n",
       " '1.4_Teranet_DA_TAZ_FSA_LU_LUDMTI.csv',\n",
       " '1.4_Teranet_DA_TAZ_FSA_LU.csv',\n",
       " '.ipynb_checkpoints',\n",
       " 'ParcelLandUse.zip',\n",
       " 'ParcelLandUse',\n",
       " 'HHSaleHistory.csv',\n",
       " '3_Teranet_nonan_new_cols.csv',\n",
       " 'GTAjoinedLanduseSales']"
      ]
     },
     "execution_count": 3,
     "metadata": {},
     "output_type": "execute_result"
    }
   ],
   "source": [
    "data_path = '../../../../data/'\n",
    "teranet_path = data_path + 'teranet/'\n",
    "os.listdir(teranet_path)"
   ]
  },
  {
   "cell_type": "code",
   "execution_count": 4,
   "metadata": {},
   "outputs": [
    {
     "name": "stdout",
     "output_type": "stream",
     "text": [
      "----- DataFrame loaded\n",
      "in 103.58 seconds\n",
      "with 5,188,513 rows\n",
      "and 80 columns\n",
      "-- Column names:\n",
      " Index(['transaction_id', 'lro_num', 'pin', 'consideration_amt',\n",
      "       'registration_date', 'postal_code', 'unitno', 'street_name',\n",
      "       'street_designation', 'street_direction', 'municipality',\n",
      "       'street_number', 'x', 'y', 'dauid', 'csduid', 'csdname', 'taz_o', 'fsa',\n",
      "       'pca_id', 'postal_code_dmti', 'pin_lu', 'landuse', 'prop_code',\n",
      "       'dmti_lu', 'street_name_raw', 'year', 'year_month', 'year3',\n",
      "       'census_year', 'census2001_year', 'tts_year', 'tts1991_year', 'xy',\n",
      "       'pin_total_sales', 'xy_total_sales', 'pin_prev_sales', 'xy_prev_sales',\n",
      "       'xy_first_sale', 'pin_years_since_last_sale',\n",
      "       'xy_years_since_last_sale', 'xy_years_to_next_sale',\n",
      "       'da_days_since_last_sale', 'da_years_since_last_sale',\n",
      "       'xy_sale_next_6m', 'price_2016', 'pin_price_cum_sum',\n",
      "       'xy_price_cum_sum', 'pin_price_pct_change', 'xy_price_pct_change',\n",
      "       'price_da_pct_change', 'med_price_xy', 'med_price_year',\n",
      "       'price_to_med_xy', 'price_to_med_year', 'outlier_y_3', 'outlier_y_5',\n",
      "       'outlier_y_10', 'outlier_y_20', 'outlier_xy_2', 'outlier_xy_4',\n",
      "       'outlier_xy_10', 'code', 'lu_class', 'luc_detached', 'luc_condo',\n",
      "       'luc_strata', 'luc_duplex', 'luc_townhouse', 'luc_mixuse',\n",
      "       'luc_underdeveloped', 'luc_mixedcomplex', 'luc_industrial',\n",
      "       'luc_commercial', 'lucr_detached', 'lucr', 'lucr_duplex_townhouse',\n",
      "       'lucr_condo', 'lucr_other', 'lucr_predict'],\n",
      "      dtype='object')\n"
     ]
    }
   ],
   "source": [
    "teranet_df = df_from_csv(teranet_path + '4_Teranet_lu_predict.csv', parse_dates=['registration_date'])"
   ]
  },
  {
   "cell_type": "markdown",
   "metadata": {},
   "source": [
    "## Load Census data"
   ]
  },
  {
   "cell_type": "code",
   "execution_count": 5,
   "metadata": {},
   "outputs": [
    {
     "data": {
      "text/plain": [
       "['da_census_income.csv',\n",
       " 'Census data availability.xlsx',\n",
       " 'da_census.xls',\n",
       " 'da_census_select_tidy.csv',\n",
       " 'da_census_income_shapefile',\n",
       " 'da_census_select.csv']"
      ]
     },
     "execution_count": 5,
     "metadata": {},
     "output_type": "execute_result"
    }
   ],
   "source": [
    "census_path = data_path + 'census/'\n",
    "os.listdir(census_path)"
   ]
  },
  {
   "cell_type": "code",
   "execution_count": 6,
   "metadata": {},
   "outputs": [
    {
     "name": "stdout",
     "output_type": "stream",
     "text": [
      "----- DataFrame loaded\n",
      "in 0.18 seconds\n",
      "with 36,728 rows\n",
      "and 32 columns\n",
      "-- Column names:\n",
      " Index(['DAUID', 'year', 'Avg_HHsize', 'Avg_HHinc', 'Avg_own_payt',\n",
      "       'Avg_val_dwel', 'Avg_rent', 'Pop', 'PopDens', 'Dwel', 'DwelDens',\n",
      "       'Sgl_det', 'Apt_5plus', 'Sgl_att', 'Owned', 'Rented', 'CarTrVan_d',\n",
      "       'CarTrVan_p', 'PT', 'Walk', 'Bike', 'Lbrfrc', 'Emp', 'Unemp',\n",
      "       'Not_lbrfrc', 'Employee', 'Self_emp', 'At_home', 'No_fix_wkpl',\n",
      "       'Usl_wkpl', 'Blue_cljob', 'White_cljob'],\n",
      "      dtype='object')\n"
     ]
    }
   ],
   "source": [
    "census_df = df_from_csv(census_path + 'da_census_select_tidy.csv')"
   ]
  },
  {
   "cell_type": "markdown",
   "metadata": {},
   "source": [
    "## Load TTS data"
   ]
  },
  {
   "cell_type": "code",
   "execution_count": 7,
   "metadata": {},
   "outputs": [
    {
     "data": {
      "text/plain": [
       "['tts_num_jobs_tidy.csv',\n",
       " 'TAZ_2001shp.zip',\n",
       " 'TAZ_2001shp',\n",
       " 'taz_tts_tidy.csv',\n",
       " 'taz_info.csv',\n",
       " 'TTS_variables.xlsx',\n",
       " 'taz_tts.xlsx',\n",
       " 'Num_of_Jobs.xlsx']"
      ]
     },
     "execution_count": 7,
     "metadata": {},
     "output_type": "execute_result"
    }
   ],
   "source": [
    "tts_path = data_path + 'tts/'\n",
    "os.listdir(tts_path)"
   ]
  },
  {
   "cell_type": "code",
   "execution_count": 8,
   "metadata": {},
   "outputs": [
    {
     "name": "stdout",
     "output_type": "stream",
     "text": [
      "----- DataFrame loaded\n",
      "in 0.01 seconds\n",
      "with 12,012 rows\n",
      "and 8 columns\n",
      "-- Column names:\n",
      " Index(['TAZ_O', 'year', 'Pop', 'FT_wrk', 'Stu', 'HH', 'Jobs', 'Cars'], dtype='object')\n"
     ]
    }
   ],
   "source": [
    "tts_df = df_from_csv(tts_path + 'taz_tts_tidy.csv')"
   ]
  },
  {
   "cell_type": "markdown",
   "metadata": {},
   "source": [
    "## Join Census data to Teranet data"
   ]
  },
  {
   "cell_type": "code",
   "execution_count": 9,
   "metadata": {},
   "outputs": [
    {
     "name": "stdout",
     "output_type": "stream",
     "text": [
      "----- Census variables were joined to the DataFrame\n",
      "in 49.46 seconds (0.82 minutes)\n",
      "with 5,188,513 rows\n",
      "and 110 columns\n",
      "-- Column names:\n",
      " Index(['transaction_id', 'lro_num', 'pin', 'consideration_amt',\n",
      "       'registration_date', 'postal_code', 'unitno', 'street_name',\n",
      "       'street_designation', 'street_direction',\n",
      "       ...\n",
      "       'Emp', 'Unemp', 'Not_lbrfrc', 'Employee', 'Self_emp', 'At_home',\n",
      "       'No_fix_wkpl', 'Usl_wkpl', 'Blue_cljob', 'White_cljob'],\n",
      "      dtype='object', length=110)\n"
     ]
    }
   ],
   "source": [
    "t = time()\n",
    "df = pd.merge(teranet_df, census_df, how='left',\n",
    "              left_on=['dauid', 'census2001_year'], right_on=['DAUID', 'year'])\n",
    "df = df.drop(['DAUID', 'year_y'], axis=1).rename(columns={'year_x': 'year'})\n",
    "elapsed = time() - t\n",
    "print(\"----- Census variables were joined to the DataFrame\"\n",
    "      \"\\nin {0:,.2f} seconds ({1:.2f} minutes)\".format(elapsed, elapsed / 60) + \n",
    "      \"\\nwith {0:,} rows\\nand {1:,} columns\"\n",
    "      .format(df.shape[0], df.shape[1]) + \n",
    "      \"\\n-- Column names:\\n\", df.columns)"
   ]
  },
  {
   "cell_type": "markdown",
   "metadata": {},
   "source": [
    "## Join TTS data to Teranet data"
   ]
  },
  {
   "cell_type": "code",
   "execution_count": 10,
   "metadata": {},
   "outputs": [
    {
     "name": "stdout",
     "output_type": "stream",
     "text": [
      "----- TTS variables were joined to the DataFrame\n",
      "in 65.07 seconds (1.08 minutes)\n",
      "with 5,188,513 rows\n",
      "and 116 columns\n",
      "-- Column names:\n",
      " Index(['transaction_id', 'lro_num', 'pin', 'consideration_amt',\n",
      "       'registration_date', 'postal_code', 'unitno', 'street_name',\n",
      "       'street_designation', 'street_direction',\n",
      "       ...\n",
      "       'Usl_wkpl', 'Blue_cljob', 'White_cljob', 'TAZ_O', 'Pop_y', 'FT_wrk',\n",
      "       'Stu', 'HH', 'Jobs', 'Cars'],\n",
      "      dtype='object', length=116)\n"
     ]
    }
   ],
   "source": [
    "t = time()\n",
    "df = pd.merge(df, tts_df, how='left',\n",
    "              left_on=['taz_o', 'tts_year'], right_on=['TAZ_O', 'year'])\n",
    "df = df.drop(['taz_o', 'year_y'], axis=1).rename(columns={'year_x': 'year'})\n",
    "elapsed = time() - t\n",
    "print(\"----- TTS variables were joined to the DataFrame\"\n",
    "      \"\\nin {0:,.2f} seconds ({1:.2f} minutes)\".format(elapsed, elapsed / 60) + \n",
    "      \"\\nwith {0:,} rows\\nand {1:,} columns\"\n",
    "      .format(df.shape[0], df.shape[1]) + \n",
    "      \"\\n-- Column names:\\n\", df.columns)"
   ]
  },
  {
   "cell_type": "markdown",
   "metadata": {},
   "source": [
    "## Take a train-test subset of Teranet records"
   ]
  },
  {
   "cell_type": "code",
   "execution_count": 11,
   "metadata": {},
   "outputs": [
    {
     "name": "stdout",
     "output_type": "stream",
     "text": [
      "219,130 Teranet records in the train-test subset (records from 2011).\n",
      "216,492 Teranet records in the validation subset #1 (records from 2010).\n",
      "205,341 Teranet records in the validation subset #2 (records from 2012).\n"
     ]
    }
   ],
   "source": [
    "year_train_test = 2011\n",
    "year_val1 = 2010\n",
    "year_val2 = 2012\n",
    "\n",
    "s = df.query('year == @year_train_test')\n",
    "s_val1 = df.query('year == @year_val1')\n",
    "s_val2 = df.query('year == @year_val2')\n",
    "\n",
    "print(\"{0:,} Teranet records in the train-test subset (records from {1}).\".format(len(s), year_train_test))\n",
    "print(\"{0:,} Teranet records in the validation subset #1 (records from {1}).\".format(len(s_val1), year_val1))\n",
    "print(\"{0:,} Teranet records in the validation subset #2 (records from {1}).\".format(len(s_val2), year_val2))"
   ]
  },
  {
   "cell_type": "markdown",
   "metadata": {},
   "source": [
    "## Minimal features"
   ]
  },
  {
   "cell_type": "code",
   "execution_count": 13,
   "metadata": {},
   "outputs": [
    {
     "name": "stdout",
     "output_type": "stream",
     "text": [
      "<class 'pandas.core.frame.DataFrame'>\n",
      "Int64Index: 219130 entries, 4782975 to 5002104\n",
      "Data columns (total 60 columns):\n",
      "pin_prev_sales             219130 non-null int64\n",
      "xy_prev_sales              219130 non-null int64\n",
      "da_days_since_last_sale    219128 non-null float64\n",
      "xy_sale_next_6m            219130 non-null bool\n",
      "price_2016                 219130 non-null float64\n",
      "pin_price_cum_sum          219130 non-null float64\n",
      "xy_price_cum_sum           219130 non-null float64\n",
      "price_da_pct_change        219128 non-null float64\n",
      "med_price_xy               219130 non-null float64\n",
      "med_price_year             219130 non-null float64\n",
      "price_to_med_xy            219130 non-null float64\n",
      "price_to_med_year          219130 non-null float64\n",
      "outlier_y_3                219130 non-null bool\n",
      "outlier_y_5                219130 non-null bool\n",
      "outlier_y_10               219130 non-null bool\n",
      "outlier_y_20               219130 non-null bool\n",
      "outlier_xy_2               219130 non-null bool\n",
      "outlier_xy_4               219130 non-null bool\n",
      "outlier_xy_10              219130 non-null bool\n",
      "Avg_HHsize                 217955 non-null float64\n",
      "Avg_HHinc                  216546 non-null float64\n",
      "Avg_own_payt               217979 non-null float64\n",
      "Avg_val_dwel               217979 non-null float64\n",
      "Avg_rent                   217979 non-null float64\n",
      "Pop_x                      219130 non-null float64\n",
      "PopDens                    219130 non-null float64\n",
      "Dwel                       217955 non-null float64\n",
      "DwelDens                   219130 non-null float64\n",
      "Sgl_det                    217955 non-null float64\n",
      "Apt_5plus                  217955 non-null float64\n",
      "Sgl_att                    217955 non-null float64\n",
      "Owned                      217979 non-null float64\n",
      "Rented                     217979 non-null float64\n",
      "CarTrVan_d                 217979 non-null float64\n",
      "CarTrVan_p                 217979 non-null float64\n",
      "PT                         217979 non-null float64\n",
      "Walk                       217979 non-null float64\n",
      "Bike                       217979 non-null float64\n",
      "Lbrfrc                     217979 non-null float64\n",
      "Emp                        217979 non-null float64\n",
      "Unemp                      217979 non-null float64\n",
      "Not_lbrfrc                 217979 non-null float64\n",
      "Employee                   217979 non-null float64\n",
      "Self_emp                   217979 non-null float64\n",
      "At_home                    217979 non-null float64\n",
      "No_fix_wkpl                217979 non-null float64\n",
      "Usl_wkpl                   217979 non-null float64\n",
      "Blue_cljob                 217979 non-null float64\n",
      "White_cljob                217979 non-null float64\n",
      "Pop_y                      219118 non-null float64\n",
      "FT_wrk                     219118 non-null float64\n",
      "Stu                        219118 non-null float64\n",
      "HH                         216348 non-null float64\n",
      "Jobs                       219118 non-null float64\n",
      "Cars                       219118 non-null float64\n",
      "lucr_detached              219130 non-null bool\n",
      "lucr_duplex_townhouse      219130 non-null bool\n",
      "lucr                       219130 non-null object\n",
      "lucr_condo                 219130 non-null bool\n",
      "lucr_other                 219130 non-null bool\n",
      "dtypes: bool(12), float64(45), int64(2), object(1)\n",
      "memory usage: 84.4+ MB\n"
     ]
    }
   ],
   "source": [
    "feat_cols = ['pin_prev_sales', 'xy_prev_sales', 'da_days_since_last_sale',\n",
    "             'xy_sale_next_6m', 'price_2016', 'pin_price_cum_sum',\n",
    "             'xy_price_cum_sum', 'price_da_pct_change', 'med_price_xy', 'med_price_year',\n",
    "             'price_to_med_xy', 'price_to_med_year', 'outlier_y_3', 'outlier_y_5',\n",
    "             'outlier_y_10', 'outlier_y_20', 'outlier_xy_2', 'outlier_xy_4', 'outlier_xy_10',\n",
    "             'Avg_HHsize', 'Avg_HHinc', 'Avg_own_payt',\n",
    "             'Avg_val_dwel', 'Avg_rent', 'Pop_x', 'PopDens', 'Dwel', 'DwelDens',\n",
    "             'Sgl_det', 'Apt_5plus', 'Sgl_att', 'Owned', 'Rented', 'CarTrVan_d',\n",
    "             'CarTrVan_p', 'PT', 'Walk', 'Bike', 'Lbrfrc', 'Emp', 'Unemp',\n",
    "             'Not_lbrfrc', 'Employee', 'Self_emp', 'At_home', 'No_fix_wkpl',\n",
    "             'Usl_wkpl', 'Blue_cljob', 'White_cljob',\n",
    "             'Pop_y', 'FT_wrk', 'Stu', 'HH', 'Jobs', 'Cars',\n",
    "             'lucr_detached', 'lucr_duplex_townhouse', 'lucr', 'lucr_condo', 'lucr_other']\n",
    "s[feat_cols].info()"
   ]
  },
  {
   "cell_type": "code",
   "execution_count": 15,
   "metadata": {},
   "outputs": [
    {
     "name": "stdout",
     "output_type": "stream",
     "text": [
      "213,823 rows in train-test subset, 214,721 rows in validation subset #1, 202,979 rows in validation subset #2\n"
     ]
    }
   ],
   "source": [
    "s = s[feat_cols]\n",
    "s_val1 = s_val1[feat_cols]\n",
    "s_val2 = s_val2[feat_cols]\n",
    "s = s.dropna()\n",
    "s_val1 = s_val1.dropna()\n",
    "s_val2 = s_val2.dropna()\n",
    "print(\"{0:,} rows in train-test subset, {1:,} rows in validation subset #1, {2:,} rows in validation subset #2\"\n",
    "      .format(len(s), len(s_val1), len(s_val2)))"
   ]
  },
  {
   "cell_type": "markdown",
   "metadata": {},
   "source": [
    "## Encode target"
   ]
  },
  {
   "cell_type": "code",
   "execution_count": 16,
   "metadata": {},
   "outputs": [
    {
     "name": "stdout",
     "output_type": "stream",
     "text": [
      "condo               62618\n",
      "detached            59921\n",
      "duplex_townhouse    13642\n",
      "other               77642\n",
      "Name: lucr, dtype: int64\n",
      "0    62618\n",
      "1    59921\n",
      "2    13642\n",
      "3    77642\n",
      "Name: lucr_e, dtype: int64\n",
      "condo               66916\n",
      "detached            62625\n",
      "duplex_townhouse    14344\n",
      "other               70836\n",
      "Name: lucr, dtype: int64\n",
      "0    66916\n",
      "1    62625\n",
      "2    14344\n",
      "3    70836\n",
      "Name: lucr_e, dtype: int64\n",
      "condo               55501\n",
      "detached            59208\n",
      "duplex_townhouse    13188\n",
      "other               75082\n",
      "Name: lucr, dtype: int64\n",
      "0    55501\n",
      "1    59208\n",
      "2    13188\n",
      "3    75082\n",
      "Name: lucr_e, dtype: int64\n",
      "Land use encoded!\n"
     ]
    }
   ],
   "source": [
    "le = LabelEncoder()\n",
    "\n",
    "s['lucr_e'] = le.fit_transform(s['lucr'])\n",
    "s_val1['lucr_e'] = le.transform(s_val1['lucr'])\n",
    "s_val2['lucr_e'] = le.transform(s_val2['lucr'])\n",
    "\n",
    "s['lucr_detached_e'] = le.fit_transform(s['lucr_detached'])\n",
    "s_val1['lucr_detached_e'] = le.transform(s_val1['lucr_detached'])\n",
    "s_val2['lucr_detached_e'] = le.transform(s_val2['lucr_detached'])\n",
    "\n",
    "s['lucr_duplex_townhouse_e'] = le.fit_transform(s['lucr_duplex_townhouse'])\n",
    "s_val1['lucr_duplex_townhouse_e'] = le.transform(s_val1['lucr_duplex_townhouse'])\n",
    "s_val2['lucr_duplex_townhouse_e'] = le.transform(s_val2['lucr_duplex_townhouse'])\n",
    "\n",
    "s['lucr_condo_e'] = le.fit_transform(s['lucr_condo'])\n",
    "s_val1['lucr_condo_e'] = le.transform(s_val1['lucr_condo'])\n",
    "s_val2['lucr_condo_e'] = le.transform(s_val2['lucr_condo'])\n",
    "\n",
    "s['lucr_other_e'] = le.fit_transform(s['lucr_other'])\n",
    "s_val1['lucr_other_e'] = le.transform(s_val1['lucr_other'])\n",
    "s_val2['lucr_other_e'] = le.transform(s_val2['lucr_other'])\n",
    "\n",
    "print(s['lucr'].value_counts().sort_index())\n",
    "print(s['lucr_e'].value_counts().sort_index())\n",
    "print(s_val1['lucr'].value_counts().sort_index())\n",
    "print(s_val1['lucr_e'].value_counts().sort_index())\n",
    "print(s_val2['lucr'].value_counts().sort_index())\n",
    "print(s_val2['lucr_e'].value_counts().sort_index())\n",
    "\n",
    "s = s.drop(['lucr', 'lucr_detached', 'lucr_duplex_townhouse', 'lucr_condo', 'lucr_other'], axis=1)\n",
    "s_val1 = s_val1.drop(['lucr', 'lucr_detached', 'lucr_duplex_townhouse', 'lucr_condo', 'lucr_other'], axis=1)\n",
    "s_val2 = s_val2.drop(['lucr', 'lucr_detached', 'lucr_duplex_townhouse', 'lucr_condo', 'lucr_other'], axis=1)\n",
    "print(\"Land use encoded!\")\n",
    "labels_list = ['condo', 'detached', 'duplex_townhouse', 'other']"
   ]
  },
  {
   "cell_type": "markdown",
   "metadata": {},
   "source": [
    "## Exploratory Data Analysis (EDA)"
   ]
  },
  {
   "cell_type": "code",
   "execution_count": 17,
   "metadata": {},
   "outputs": [
    {
     "name": "stdout",
     "output_type": "stream",
     "text": [
      "----- Pearson correlation coefficient between features and target classes\n",
      "\n",
      "         strongest negative correlation (top 10):\n",
      "                  var                 variable     value\n",
      "3    xy_sale_next_6m          lucr_detached_e -0.650897\n",
      "23          Avg_rent          lucr_detached_e -0.442790\n",
      "29         Apt_5plus          lucr_detached_e -0.370939\n",
      "32            Rented          lucr_detached_e -0.352243\n",
      "26              Dwel          lucr_detached_e -0.335035\n",
      "1      xy_prev_sales          lucr_detached_e -0.330488\n",
      "35                PT          lucr_detached_e -0.307045\n",
      "129       Avg_HHsize             lucr_condo_e -0.287594\n",
      "48       White_cljob          lucr_detached_e -0.276524\n",
      "58   xy_sale_next_6m  lucr_duplex_townhouse_e -0.273396 \n",
      "\n",
      "         strongest positive correlation (top 10):\n",
      "                          var         variable     value\n",
      "113          xy_sale_next_6m     lucr_condo_e  0.564364\n",
      "19                Avg_HHsize  lucr_detached_e  0.368685\n",
      "201                     Walk     lucr_other_e  0.307263\n",
      "2    da_days_since_last_sale  lucr_detached_e  0.269075\n",
      "188                 Avg_rent     lucr_other_e  0.268919\n",
      "139                Apt_5plus     lucr_condo_e  0.255802\n",
      "213              White_cljob     lucr_other_e  0.249338\n",
      "111            xy_prev_sales     lucr_condo_e  0.245066\n",
      "209                  At_home     lucr_other_e  0.240046\n",
      "204                      Emp     lucr_other_e  0.237996\n"
     ]
    }
   ],
   "source": [
    "detached_corr = s.corr()['lucr_detached_e'].reset_index().rename(columns={'index': 'var', 'variable': 'class'})\n",
    "duplex_townhouse_corr = \\\n",
    "    s.corr()['lucr_duplex_townhouse_e'].reset_index().rename(columns={'index': 'var', 'variable': 'class'})\n",
    "condo_corr = s.corr()['lucr_condo_e'].reset_index().rename(columns={'index': 'var', 'variable': 'class'})\n",
    "other_corr = s.corr()['lucr_other_e'].reset_index().rename(columns={'index': 'var', 'variable': 'class'})\n",
    "\n",
    "targets_corr = pd.merge(\n",
    "    pd.merge(\n",
    "        pd.merge(detached_corr, duplex_townhouse_corr, on='var'), \n",
    "    condo_corr, on='var'), \n",
    "               other_corr, on='var')\n",
    "mask1 = targets_corr['var'].isin(['lucr_e', 'lucr_detached_e', 'lucr_duplex_townhouse_e', 'lucr_condo_e', 'lucr_other_e'])\n",
    "targets_corr = targets_corr[~mask1]\n",
    "targets_corr_tidy = pd.melt(targets_corr, id_vars='var').sort_values('var')\n",
    "\n",
    "print_top = 10\n",
    "print(\"----- Pearson correlation coefficient between features and target classes\"\n",
    "      \"\\n\\n         strongest negative correlation (top {0}):\\n\".format(print_top),\n",
    "      targets_corr_tidy.sort_values('value').head(print_top),\n",
    "      \"\\n\\n         strongest positive correlation (top {0}):\\n\".format(print_top),\n",
    "      targets_corr_tidy.sort_values('value', ascending=False).head(print_top))"
   ]
  },
  {
   "cell_type": "code",
   "execution_count": 18,
   "metadata": {},
   "outputs": [
    {
     "data": {
      "image/png": "[encoded data removed]",
      "text/plain": [
       "<Figure size 720x1440 with 1 Axes>"
      ]
     },
     "metadata": {
      "needs_background": "light"
     },
     "output_type": "display_data"
    }
   ],
   "source": [
    "f, ax = plt.subplots(1, figsize=(10, 20))\n",
    "sns.barplot(x=\"value\", y=\"var\", hue=\"variable\", data=targets_corr_tidy,\n",
    "            palette=\"muted\", ax=ax)\n",
    "ax.set_ylabel(\"Features\", fontsize=16)\n",
    "ax.set_xlabel(\"Correlation coefficient\", fontsize=16)\n",
    "ax.set_title(\"Pearson correlation coefficient between features and target classes\", fontsize=16)\n",
    "ax.grid(True)\n",
    "ax.legend(loc='center right', fontsize=14)\n",
    "plt.xticks(fontsize=14)\n",
    "plt.savefig(\"../../results/plots/minimal_features_lucr_corr.png\", dpi=300, bbox_inches='tight')"
   ]
  },
  {
   "cell_type": "markdown",
   "metadata": {},
   "source": [
    "## Prepare features"
   ]
  },
  {
   "cell_type": "markdown",
   "metadata": {},
   "source": [
    "#### Select features and target"
   ]
  },
  {
   "cell_type": "code",
   "execution_count": 19,
   "metadata": {},
   "outputs": [
    {
     "data": {
      "text/plain": [
       "Index(['pin_prev_sales', 'xy_prev_sales', 'da_days_since_last_sale',\n",
       "       'xy_sale_next_6m', 'price_2016', 'pin_price_cum_sum',\n",
       "       'xy_price_cum_sum', 'price_da_pct_change', 'med_price_xy',\n",
       "       'med_price_year', 'price_to_med_xy', 'price_to_med_year', 'outlier_y_3',\n",
       "       'outlier_y_5', 'outlier_y_10', 'outlier_y_20', 'outlier_xy_2',\n",
       "       'outlier_xy_4', 'outlier_xy_10', 'Avg_HHsize', 'Avg_HHinc',\n",
       "       'Avg_own_payt', 'Avg_val_dwel', 'Avg_rent', 'Pop_x', 'PopDens', 'Dwel',\n",
       "       'DwelDens', 'Sgl_det', 'Apt_5plus', 'Sgl_att', 'Owned', 'Rented',\n",
       "       'CarTrVan_d', 'CarTrVan_p', 'PT', 'Walk', 'Bike', 'Lbrfrc', 'Emp',\n",
       "       'Unemp', 'Not_lbrfrc', 'Employee', 'Self_emp', 'At_home', 'No_fix_wkpl',\n",
       "       'Usl_wkpl', 'Blue_cljob', 'White_cljob', 'Pop_y', 'FT_wrk', 'Stu', 'HH',\n",
       "       'Jobs', 'Cars'],\n",
       "      dtype='object')"
      ]
     },
     "execution_count": 19,
     "metadata": {},
     "output_type": "execute_result"
    }
   ],
   "source": [
    "target_cols = 5\n",
    "s.columns[:-target_cols]"
   ]
  },
  {
   "cell_type": "code",
   "execution_count": 20,
   "metadata": {},
   "outputs": [
    {
     "name": "stdout",
     "output_type": "stream",
     "text": [
      "Features and target selected.\n"
     ]
    }
   ],
   "source": [
    "X = s.iloc[:, :-target_cols].values\n",
    "X_val1 = s_val1.iloc[:, :-target_cols].values\n",
    "X_val2 = s_val2.iloc[:, :-target_cols].values\n",
    "y = s['lucr_e'].values\n",
    "y_val1 = s_val1['lucr_e'].values\n",
    "y_val2 = s_val2['lucr_e'].values\n",
    "print(\"Features and target selected.\")"
   ]
  },
  {
   "cell_type": "markdown",
   "metadata": {},
   "source": [
    "#### Perform train-test split"
   ]
  },
  {
   "cell_type": "code",
   "execution_count": 21,
   "metadata": {},
   "outputs": [
    {
     "name": "stdout",
     "output_type": "stream",
     "text": [
      "Performed train-test split.\n",
      "Labels counts in y: [62618 59921 13642 77642]\n",
      "Labels counts in y_train: [43833 41945  9549 54349]\n",
      "Labels counts in y_test: [18785 17976  4093 23293]\n",
      "Labels counts in y_val1: [66916 62625 14344 70836]\n",
      "Labels counts in y_val2: [55501 59208 13188 75082]\n"
     ]
    }
   ],
   "source": [
    "X_train, X_test, y_train, y_test = train_test_split(X, y, test_size=0.3, random_state=1, stratify=y)\n",
    "print(\"Performed train-test split.\")\n",
    "print('Labels counts in y:', np.bincount(y))\n",
    "print('Labels counts in y_train:', np.bincount(y_train))\n",
    "print('Labels counts in y_test:', np.bincount(y_test))\n",
    "print('Labels counts in y_val1:', np.bincount(y_val1))\n",
    "print('Labels counts in y_val2:', np.bincount(y_val2))"
   ]
  },
  {
   "cell_type": "markdown",
   "metadata": {},
   "source": [
    "#### Standardize features"
   ]
  },
  {
   "cell_type": "code",
   "execution_count": 22,
   "metadata": {},
   "outputs": [
    {
     "name": "stdout",
     "output_type": "stream",
     "text": [
      "Input features were standardized.\n"
     ]
    }
   ],
   "source": [
    "sc = StandardScaler()\n",
    "sc.fit(X_train)\n",
    "X_train_std = sc.transform(X_train)\n",
    "X_test_std = sc.transform(X_test)\n",
    "X_val1_std = sc.transform(X_val1)\n",
    "X_val2_std = sc.transform(X_val2)\n",
    "print(\"Input features were standardized.\")"
   ]
  },
  {
   "cell_type": "markdown",
   "metadata": {},
   "source": [
    "#### Normalize features"
   ]
  },
  {
   "cell_type": "code",
   "execution_count": 23,
   "metadata": {},
   "outputs": [
    {
     "name": "stdout",
     "output_type": "stream",
     "text": [
      "Input features were normalized.\n"
     ]
    }
   ],
   "source": [
    "sc = MinMaxScaler()\n",
    "sc.fit(X_train)\n",
    "X_train_norm = sc.transform(X_train)\n",
    "X_test_norm = sc.transform(X_test)\n",
    "X_val1_norm = sc.transform(X_val1)\n",
    "X_val2_norm = sc.transform(X_val2)\n",
    "print(\"Input features were normalized.\")"
   ]
  },
  {
   "cell_type": "markdown",
   "metadata": {},
   "source": [
    "### Train and test classification algorithms"
   ]
  },
  {
   "cell_type": "markdown",
   "metadata": {},
   "source": [
    "#### Perceptron learning algorithm"
   ]
  },
  {
   "cell_type": "code",
   "execution_count": 24,
   "metadata": {},
   "outputs": [
    {
     "name": "stdout",
     "output_type": "stream",
     "text": [
      "\n",
      "Perceptron (raw features) fit, took 5.69 seconds (0.09 minutes)\n",
      "accuracy: train=0.49, test=0.50, validation #1=0.47, validation #2=0.49\n",
      "\n",
      "Perceptron (standardized features) fit, took 2.44 seconds (0.04 minutes)\n",
      "accuracy: train=0.68, test=0.68, validation #1=0.33, validation #2=0.29\n",
      "\n",
      "Perceptron (normalized features) fit, took 2.04 seconds (0.03 minutes)\n",
      "accuracy: train=0.67, test=0.67, validation #1=0.69, validation #2=0.63\n"
     ]
    }
   ],
   "source": [
    "model_name = 'Perceptron (raw features)'\n",
    "ppn = Perceptron(max_iter=100, eta0=0.01, random_state=1)\n",
    "fit_model(ppn, model_name, X_train, y_train, X_test, y_test, X_val1, y_val1, X_val2, y_val2)\n",
    "\n",
    "model_name = 'Perceptron (standardized features)'\n",
    "ppn = Perceptron(max_iter=100, eta0=0.01, random_state=1)\n",
    "fit_model(ppn, model_name, X_train_std, y_train, X_test_std, y_test, X_val1_std, y_val1, X_val2_std, y_val2)\n",
    "\n",
    "model_name = 'Perceptron (normalized features)'\n",
    "ppn = Perceptron(max_iter=100, eta0=0.01, random_state=1)\n",
    "fit_model(ppn, model_name, X_train_norm, y_train, X_test_norm, y_test, X_val1_norm, y_val1, X_val2_norm, y_val2)"
   ]
  },
  {
   "cell_type": "markdown",
   "metadata": {},
   "source": [
    "#### Logistic regression"
   ]
  },
  {
   "cell_type": "code",
   "execution_count": 25,
   "metadata": {
    "scrolled": false
   },
   "outputs": [
    {
     "name": "stderr",
     "output_type": "stream",
     "text": [
      "/home/stepan/anaconda3/envs/gds/lib/python3.6/site-packages/sklearn/linear_model/logistic.py:947: ConvergenceWarning: lbfgs failed to converge. Increase the number of iterations.\n",
      "  \"of iterations.\", ConvergenceWarning)\n"
     ]
    },
    {
     "name": "stdout",
     "output_type": "stream",
     "text": [
      "\n",
      "Logistic regression (raw features) fit, took 13.75 seconds (0.23 minutes)\n",
      "accuracy: train=0.55, test=0.55, validation #1=0.53, validation #2=0.55\n"
     ]
    },
    {
     "name": "stderr",
     "output_type": "stream",
     "text": [
      "/home/stepan/anaconda3/envs/gds/lib/python3.6/site-packages/sklearn/linear_model/logistic.py:947: ConvergenceWarning: lbfgs failed to converge. Increase the number of iterations.\n",
      "  \"of iterations.\", ConvergenceWarning)\n"
     ]
    },
    {
     "name": "stdout",
     "output_type": "stream",
     "text": [
      "\n",
      "Logistic regression (standardized features) fit, took 5.06 seconds (0.08 minutes)\n",
      "accuracy: train=0.74, test=0.74, validation #1=0.33, validation #2=0.06\n"
     ]
    },
    {
     "name": "stderr",
     "output_type": "stream",
     "text": [
      "/home/stepan/anaconda3/envs/gds/lib/python3.6/site-packages/sklearn/linear_model/logistic.py:947: ConvergenceWarning: lbfgs failed to converge. Increase the number of iterations.\n",
      "  \"of iterations.\", ConvergenceWarning)\n"
     ]
    },
    {
     "name": "stdout",
     "output_type": "stream",
     "text": [
      "\n",
      "Logistic regression (normalized features) fit, took 4.67 seconds (0.08 minutes)\n",
      "accuracy: train=0.70, test=0.70, validation #1=0.69, validation #2=0.65\n"
     ]
    },
    {
     "data": {
      "image/png": "[encoded data removed]",
      "text/plain": [
       "<Figure size 576x864 with 1 Axes>"
      ]
     },
     "metadata": {
      "needs_background": "light"
     },
     "output_type": "display_data"
    }
   ],
   "source": [
    "model_name = 'Logistic regression (raw features)'\n",
    "lr = LogisticRegression(C=100.0, random_state=1, solver='lbfgs', multi_class='auto', max_iter=50)\n",
    "fit_model(lr, model_name, X_train, y_train, X_test, y_test, X_val1, y_val1, X_val2, y_val2)\n",
    "\n",
    "model_name = 'Logistic regression (standardized features)'\n",
    "lr = LogisticRegression(C=100.0, random_state=1, solver='lbfgs', multi_class='auto', max_iter=50)\n",
    "fit_model(lr, model_name, X_train_std, y_train, X_test_std, y_test, X_val1_std, y_val1, X_val2_std, y_val2)\n",
    "\n",
    "model_name = 'Logistic regression (normalized features)'\n",
    "lr = LogisticRegression(C=100.0, random_state=1, solver='lbfgs', multi_class='auto', max_iter=50)\n",
    "lr_coef = fit_model(lr, model_name, X_train_norm, y_train, X_test_norm, y_test, X_val1_norm, y_val1, X_val2_norm, y_val2,\n",
    "          return_coefs=True)\n",
    "\n",
    "# plot coefficients\n",
    "plt.figure(figsize=(8, 12))\n",
    "plt.barh(s.columns[:-target_cols], lr_coef)\n",
    "plt.title(\"{0} model coefficients\".format(model_name))\n",
    "plt.savefig('../../results/plots/lr_minimal_feats_norm_coefs.png', dpi=300)"
   ]
  },
  {
   "cell_type": "code",
   "execution_count": null,
   "metadata": {},
   "outputs": [
    {
     "name": "stderr",
     "output_type": "stream",
     "text": [
      "/home/stepan/anaconda3/envs/gds/lib/python3.6/site-packages/sklearn/svm/base.py:929: ConvergenceWarning: Liblinear failed to converge, increase the number of iterations.\n",
      "  \"the number of iterations.\", ConvergenceWarning)\n"
     ]
    },
    {
     "name": "stdout",
     "output_type": "stream",
     "text": [
      "\n",
      "Logistic regression with L1 regularization, C=1.0 (raw features) fit, took 148.24 seconds (2.47 minutes)\n",
      "accuracy: train=0.74, test=0.74, validation #1=0.75, validation #2=0.73\n"
     ]
    }
   ],
   "source": [
    "c = 1.0\n",
    "model_name = 'Logistic regression with L1 regularization, C={0} (raw features)'.format(c)\n",
    "lr = LogisticRegression(penalty='l1', C=c, random_state=1, solver='liblinear', multi_class='auto', max_iter=50)\n",
    "fit_model(lr, model_name, X_train, y_train, X_test, y_test, X_val1, y_val1, X_val2, y_val2)\n",
    "\n",
    "model_name = 'Logistic regression with L1 regularization, C={0} (standardized features)'.format(c)\n",
    "lr = LogisticRegression(penalty='l1', C=c, random_state=1, solver='liblinear', multi_class='auto', max_iter=50)\n",
    "lr_coef = fit_model(lr, model_name, X_train_std, y_train, X_test_std, y_test, X_val1_std, y_val1, X_val2_std, y_val2,\n",
    "                    return_coefs=True)\n",
    "\n",
    "# plot coefficients\n",
    "plt.figure(figsize=(8, 8))\n",
    "plt.barh(s.columns[:-target_cols], lr_coef)\n",
    "plt.title(\"{0} model coefficients\".format(model_name))\n",
    "\n",
    "model_name = 'Logistic regression with L1 regularization, C={0} (normalized features)'.format(c)\n",
    "lr = LogisticRegression(penalty='l1', C=c, random_state=1, solver='liblinear', multi_class='auto', max_iter=50)\n",
    "fit_model(lr, model_name, X_train_norm, y_train, X_test_norm, y_test, X_val1_std, y_val1, X_val2_std, y_val2)"
   ]
  },
  {
   "cell_type": "markdown",
   "metadata": {},
   "source": [
    "#### Decision Tree"
   ]
  },
  {
   "cell_type": "code",
   "execution_count": 26,
   "metadata": {},
   "outputs": [
    {
     "name": "stdout",
     "output_type": "stream",
     "text": [
      "\n",
      "Decision Tree (raw features) fit, took 6.60 seconds (0.11 minutes)\n",
      "accuracy: train=0.73, test=0.73, validation #1=0.71, validation #2=0.70\n",
      "\n",
      "Decision Tree (standardized features) fit, took 2.47 seconds (0.04 minutes)\n",
      "accuracy: train=0.73, test=0.73, validation #1=0.71, validation #2=0.70\n",
      "\n",
      "Decision Tree (normalized features) fit, took 2.32 seconds (0.04 minutes)\n",
      "accuracy: train=0.73, test=0.73, validation #1=0.71, validation #2=0.70\n"
     ]
    }
   ],
   "source": [
    "model_name = 'Decision Tree (raw features)'\n",
    "tree = DecisionTreeClassifier(criterion='gini', max_depth=4, random_state=1)\n",
    "fit_model(tree, model_name, X_train, y_train, X_test, y_test, X_val1, y_val1, X_val2, y_val2)\n",
    "\n",
    "model_name = 'Decision Tree (standardized features)'\n",
    "tree = DecisionTreeClassifier(criterion='gini', max_depth=4, random_state=1)\n",
    "fit_model(tree, model_name, X_train_std, y_train, X_test_std, y_test, X_val1_std, y_val1, X_val2_std, y_val2)\n",
    "\n",
    "model_name = 'Decision Tree (normalized features)'\n",
    "tree = DecisionTreeClassifier(criterion='gini', max_depth=4, random_state=1)\n",
    "fit_model(tree, model_name, X_train_norm, y_train, X_test_norm, y_test, X_val1_norm, y_val1, X_val2_norm, y_val2)"
   ]
  },
  {
   "cell_type": "code",
   "execution_count": 30,
   "metadata": {},
   "outputs": [
    {
     "name": "stdout",
     "output_type": "stream",
     "text": [
      "\n",
      "Decision Tree (raw features) fit, took 11.27 seconds (0.19 minutes)\n",
      "accuracy: train=0.98, test=0.92, validation #1=0.87, validation #2=0.82\n"
     ]
    }
   ],
   "source": [
    "model_name = 'Decision Tree (raw features)'\n",
    "tree = DecisionTreeClassifier(criterion='gini', max_depth=20, random_state=1)\n",
    "fit_model(tree, model_name, X_train, y_train, X_test, y_test, X_val1, y_val1, X_val2, y_val2)"
   ]
  },
  {
   "cell_type": "markdown",
   "metadata": {},
   "source": [
    "#### Random Forest"
   ]
  },
  {
   "cell_type": "code",
   "execution_count": 31,
   "metadata": {},
   "outputs": [
    {
     "name": "stdout",
     "output_type": "stream",
     "text": [
      "\n",
      "Random Forest (raw features) fit, took 8.99 seconds (0.15 minutes)\n",
      "accuracy: train=1.00, test=0.95, validation #1=0.92, validation #2=0.86\n",
      "\n",
      "Random Forest (standardized features) fit, took 5.33 seconds (0.09 minutes)\n",
      "accuracy: train=1.00, test=0.95, validation #1=0.92, validation #2=0.86\n",
      "\n",
      "Random Forest (normalized features) fit, took 5.31 seconds (0.09 minutes)\n",
      "accuracy: train=1.00, test=0.95, validation #1=0.92, validation #2=0.86\n"
     ]
    }
   ],
   "source": [
    "model_name = 'Random Forest (raw features)'\n",
    "forest = RandomForestClassifier(criterion='gini', n_estimators=25, random_state=1, n_jobs=8)\n",
    "fit_model(forest, model_name, X_train, y_train, X_test, y_test, X_val1, y_val1, X_val2, y_val2)\n",
    "\n",
    "model_name = 'Random Forest (standardized features)'\n",
    "forest = RandomForestClassifier(criterion='gini', n_estimators=25, random_state=1, n_jobs=8)\n",
    "fit_model(forest, model_name, X_train_std, y_train, X_test_std, y_test, X_val1_std, y_val1, X_val2_std, y_val2)\n",
    "\n",
    "model_name = 'Random Forest (normalized features)'\n",
    "forest = RandomForestClassifier(criterion='gini', n_estimators=25, random_state=1, n_jobs=8)\n",
    "fit_model(forest, model_name, X_train_norm, y_train, X_test_norm, y_test, X_val1_norm, y_val1, X_val2_norm, y_val2)"
   ]
  },
  {
   "cell_type": "code",
   "execution_count": 36,
   "metadata": {},
   "outputs": [
    {
     "name": "stdout",
     "output_type": "stream",
     "text": [
      "\n",
      "Random Forest (raw features) fit, took 354.34 seconds (5.91 minutes)\n",
      "accuracy: train=1.00, test=0.95, validation #1=0.92, validation #2=0.86\n"
     ]
    }
   ],
   "source": [
    "model_name = 'Random Forest (raw features)'\n",
    "forest = RandomForestClassifier(criterion='gini', n_estimators=2000, random_state=1, n_jobs=8)\n",
    "fit_model(forest, model_name, X_train, y_train, X_test, y_test, X_val1, y_val1, X_val2, y_val2)"
   ]
  },
  {
   "cell_type": "markdown",
   "metadata": {},
   "source": [
    "#### K-nearest neighbors"
   ]
  },
  {
   "cell_type": "code",
   "execution_count": null,
   "metadata": {},
   "outputs": [],
   "source": [
    "model_name = 'K-nearest neighbors (raw features)'\n",
    "knn = KNeighborsClassifier(n_neighbors=5, p=2, metric='minkowski')\n",
    "fit_model(knn, model_name, X_train, y_train, X_test, y_test, X_val1, y_val1, X_val2, y_val2)\n",
    "\n",
    "model_name = 'K-nearest neighbors (standardized features)'\n",
    "knn = KNeighborsClassifier(n_neighbors=5, p=2, metric='minkowski')\n",
    "fit_model(knn, model_name, X_train_std, y_train, X_test_std, y_test, X_val1_std, y_val1, X_val2_std, y_val2)\n",
    "\n",
    "model_name = 'K-nearest neighbors (normalized features)'\n",
    "knn = KNeighborsClassifier(n_neighbors=5, p=2, metric='minkowski')\n",
    "fit_model(knn, model_name, X_train_norm, y_train, X_test_norm, y_test, X_val1_norm, y_val1, X_val2_norm, y_val2)"
   ]
  }
 ],
 "metadata": {
  "kernelspec": {
   "display_name": "Python 3",
   "language": "python",
   "name": "python3"
  },
  "language_info": {
   "codemirror_mode": {
    "name": "ipython",
    "version": 3
   },
   "file_extension": ".py",
   "mimetype": "text/x-python",
   "name": "python",
   "nbconvert_exporter": "python",
   "pygments_lexer": "ipython3",
   "version": "3.6.9"
  }
 },
 "nbformat": 4,
 "nbformat_minor": 2
}
