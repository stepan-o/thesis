{
 "cells": [
  {
   "cell_type": "markdown",
   "metadata": {},
   "source": [
    "# GTHA housing market database\n",
    "# OSEMN methodology Step 4: Model\n",
    "# Predict land use from new features in Teranet\n",
    "# Feature Selection with NaN filled\n",
    "\n",
    "---\n",
    "\n",
    "This notebook describes _Step 4: Model_ of OSEMN methodology performed on the Teranet dataset."
   ]
  },
  {
   "cell_type": "markdown",
   "metadata": {},
   "source": [
    "## Import dependencies"
   ]
  },
  {
   "cell_type": "code",
   "execution_count": 1,
   "metadata": {},
   "outputs": [],
   "source": [
    "random_state = 1"
   ]
  },
  {
   "cell_type": "code",
   "execution_count": 2,
   "metadata": {},
   "outputs": [],
   "source": [
    "import numpy as np\n",
    "import matplotlib.pyplot as plt\n",
    "import matplotlib\n",
    "import seaborn as sns\n",
    "import pandas as pd\n",
    "import os\n",
    "from sklearn.feature_selection import VarianceThreshold, SelectKBest, SelectFromModel, RFE, RFECV,\\\n",
    "                                      chi2, f_classif, mutual_info_classif\n",
    "from sklearn.preprocessing import StandardScaler, MinMaxScaler, LabelEncoder\n",
    "from sklearn.model_selection import StratifiedKFold, train_test_split\n",
    "from sklearn.linear_model import Perceptron, LogisticRegression\n",
    "from sklearn.tree import DecisionTreeClassifier, export_graphviz\n",
    "from sklearn.ensemble import RandomForestClassifier, ExtraTreesClassifier\n",
    "# from pydotplus import graph_from_dot_data\n",
    "from time import time\n",
    "\n",
    "sns.set()"
   ]
  },
  {
   "cell_type": "code",
   "execution_count": 3,
   "metadata": {},
   "outputs": [],
   "source": [
    "import sys\n",
    "\n",
    "sys.path.append('../../../../src')\n",
    "\n",
    "from io_utils import df_from_csv\n",
    "from plot_utils import plot_hist\n",
    "from model_utils import fit_model, SBS, fit_sbs"
   ]
  },
  {
   "cell_type": "code",
   "execution_count": 4,
   "metadata": {},
   "outputs": [],
   "source": [
    "def fit_rfecv(classifier, X, y, model_name,\n",
    "              step=1, kfold=2, fig_width=6, fig_height=4):\n",
    "    t = time()\n",
    "\n",
    "    rfecv = RFECV(estimator=classifier, step=step, cv=StratifiedKFold(kfold),\n",
    "                  scoring='accuracy')\n",
    "    rfecv.fit(X, y)\n",
    "\n",
    "    print(\"{0} fit using RFE\".format(model_name))\n",
    "    print(\"Optimal number of features : %d\" % rfecv.n_features_)\n",
    "\n",
    "    # Plot number of features VS. cross-validation scores\n",
    "    f, ax = plt.subplots(1, figsize=(fig_width, fig_height))\n",
    "    plt.xlabel(\"Number of features selected\")\n",
    "    plt.ylabel(\"Cross validation score (nb of correct classifications)\")\n",
    "    plt.plot(range(1, len(rfecv.grid_scores_) + 1), rfecv.grid_scores_)\n",
    "    ax.set_title(model_name + '\\nRecursive Feature Elimination (RFE) with cross-validation')\n",
    "    plt.show()\n",
    "\n",
    "    elapsed = time() - t\n",
    "    print(\"RFE fit, took, {0:,.2f} seconds ({1:,.2f} minutes)\".format(elapsed, elapsed / 60))"
   ]
  },
  {
   "cell_type": "code",
   "execution_count": 5,
   "metadata": {},
   "outputs": [],
   "source": [
    "def fit_sbs(classifier, k_features, X, y, y_min=None, y_max=None, height=4, width=6,\n",
    "            title=\"SBS\", output='show', save_path='sbs.png', return_feats=True):\n",
    "    t = time()\n",
    "\n",
    "    sbs = SBS(classifier, k_features=k_features)\n",
    "\n",
    "    sbs.fit(X, y)\n",
    "\n",
    "    elapsed = time() - t\n",
    "    print(\"Sequential Backwards Selection algorithm was applied. Took {0:,.2f} seconds, ({1:,.2f} minutes).\"\n",
    "          .format(elapsed, elapsed / 60))\n",
    "\n",
    "    k_feat = [len(k) for k in sbs.subsets_]\n",
    "\n",
    "    f, ax = plt.subplots(1, figsize=(width, height))\n",
    "    plt.plot(k_feat, sbs.scores_, marker='o')\n",
    "    ax.set_ylim(bottom=y_min, top=y_max)\n",
    "    ax.set_title(title)\n",
    "    plt.ylabel('Accuracy')\n",
    "    plt.xlabel('Number of features')\n",
    "    if output == 'show':\n",
    "        plt.show()\n",
    "    elif output == 'save':\n",
    "        f.savefig(save_path, dpi=300, bbox_inches='tight')\n",
    "    if return_feats:\n",
    "        return sbs.subsets_"
   ]
  },
  {
   "cell_type": "markdown",
   "metadata": {},
   "source": [
    "## Load Teranet data"
   ]
  },
  {
   "cell_type": "code",
   "execution_count": 6,
   "metadata": {},
   "outputs": [
    {
     "data": {
      "text/plain": [
       "['4_Teranet_lu_predict.csv',\n",
       " '1.1_Teranet_DA.csv',\n",
       " '1.3_Teranet_DA_TAZ_PG_FSA.csv',\n",
       " '2_Teranet_consistent.csv',\n",
       " 'parcel16_epoi13.csv',\n",
       " '1.2_Teranet_DA_TAZ.csv',\n",
       " '1.4_Teranet_DA_TAZ_FSA_LU_LUDMTI.csv',\n",
       " '4_Teranet_lu_predict.zip',\n",
       " '1.4_Teranet_DA_TAZ_FSA_LU.csv',\n",
       " '.ipynb_checkpoints',\n",
       " 'ParcelLandUse.zip',\n",
       " 'ParcelLandUse',\n",
       " 'HHSaleHistory.csv',\n",
       " '3_Teranet_nonan_new_cols.csv',\n",
       " 'GTAjoinedLanduseSales']"
      ]
     },
     "execution_count": 6,
     "metadata": {},
     "output_type": "execute_result"
    }
   ],
   "source": [
    "data_path = '../../../../data/'\n",
    "teranet_path = data_path + 'teranet/'\n",
    "os.listdir(teranet_path)"
   ]
  },
  {
   "cell_type": "code",
   "execution_count": 7,
   "metadata": {},
   "outputs": [
    {
     "name": "stdout",
     "output_type": "stream",
     "text": [
      "----- DataFrame loaded\n",
      "in 96.27 seconds\n",
      "with 5,188,513 rows\n",
      "and 81 columns\n",
      "-- Column names:\n",
      " Index(['transaction_id', 'lro_num', 'pin', 'consideration_amt',\n",
      "       'registration_date', 'postal_code', 'unitno', 'street_name',\n",
      "       'street_designation', 'street_direction', 'municipality',\n",
      "       'street_number', 'x', 'y', 'dauid', 'csduid', 'csdname', 'taz_o', 'fsa',\n",
      "       'pca_id', 'postal_code_dmti', 'pin_lu', 'landuse', 'prop_code',\n",
      "       'dmti_lu', 'street_name_raw', 'year', 'year_month', 'year3',\n",
      "       'census_year', 'census2001_year', 'tts_year', 'tts1991_year', 'xy',\n",
      "       'pin_total_sales', 'xy_total_sales', 'pin_prev_sales', 'xy_prev_sales',\n",
      "       'xy_first_sale', 'pin_years_since_last_sale',\n",
      "       'xy_years_since_last_sale', 'xy_years_to_next_sale',\n",
      "       'da_days_since_last_sale', 'da_years_since_last_sale',\n",
      "       'xy_sale_next_6m', 'price_2016', 'pin_price_cum_sum',\n",
      "       'xy_price_cum_sum', 'pin_price_pct_change', 'xy_price_pct_change',\n",
      "       'price_da_pct_change', 'med_price_xy', 'med_price_year',\n",
      "       'price_to_med_xy', 'price_to_med_year', 'outlier_y_3', 'outlier_y_5',\n",
      "       'outlier_y_10', 'outlier_y_20', 'outlier_xy_2', 'outlier_xy_4',\n",
      "       'outlier_xy_10', 'code', 'lu_class', 'luc_detached', 'luc_condo',\n",
      "       'luc_strata', 'luc_duplex', 'luc_townhouse', 'luc_mixuse',\n",
      "       'luc_underdeveloped', 'luc_mixedcomplex', 'luc_industrial',\n",
      "       'luc_commercial', 'lucr_detached', 'lucr', 'lucr_duplex_townhouse',\n",
      "       'lucr_condo', 'lucr_other', 'lucr_predict_af', 'lucr_predict_9f'],\n",
      "      dtype='object')\n"
     ]
    }
   ],
   "source": [
    "teranet_df = df_from_csv(teranet_path + '4_Teranet_lu_predict.csv', parse_dates=['registration_date'])"
   ]
  },
  {
   "cell_type": "markdown",
   "metadata": {},
   "source": [
    "## Load Census data"
   ]
  },
  {
   "cell_type": "code",
   "execution_count": 8,
   "metadata": {},
   "outputs": [
    {
     "data": {
      "text/plain": [
       "['da_census_income.csv',\n",
       " 'Census data availability.xlsx',\n",
       " 'da_census.xls',\n",
       " 'da_census_select_tidy.csv',\n",
       " 'da_census_income_shapefile',\n",
       " 'da_census_select.csv']"
      ]
     },
     "execution_count": 8,
     "metadata": {},
     "output_type": "execute_result"
    }
   ],
   "source": [
    "census_path = data_path + 'census/'\n",
    "os.listdir(census_path)"
   ]
  },
  {
   "cell_type": "code",
   "execution_count": 9,
   "metadata": {},
   "outputs": [
    {
     "name": "stdout",
     "output_type": "stream",
     "text": [
      "----- DataFrame loaded\n",
      "in 0.16 seconds\n",
      "with 36,728 rows\n",
      "and 32 columns\n",
      "-- Column names:\n",
      " Index(['DAUID', 'year', 'Avg_HHsize', 'Avg_HHinc', 'Avg_own_payt',\n",
      "       'Avg_val_dwel', 'Avg_rent', 'Pop', 'PopDens', 'Dwel', 'DwelDens',\n",
      "       'Sgl_det', 'Apt_5plus', 'Sgl_att', 'Owned', 'Rented', 'CarTrVan_d',\n",
      "       'CarTrVan_p', 'PT', 'Walk', 'Bike', 'Lbrfrc', 'Emp', 'Unemp',\n",
      "       'Not_lbrfrc', 'Employee', 'Self_emp', 'At_home', 'No_fix_wkpl',\n",
      "       'Usl_wkpl', 'Blue_cljob', 'White_cljob'],\n",
      "      dtype='object')\n"
     ]
    }
   ],
   "source": [
    "census_df = df_from_csv(census_path + 'da_census_select_tidy.csv')"
   ]
  },
  {
   "cell_type": "markdown",
   "metadata": {},
   "source": [
    "## Load TTS data"
   ]
  },
  {
   "cell_type": "code",
   "execution_count": 10,
   "metadata": {},
   "outputs": [
    {
     "data": {
      "text/plain": [
       "['tts_num_jobs_tidy.csv',\n",
       " 'TAZ_2001shp.zip',\n",
       " 'TAZ_2001shp',\n",
       " 'taz_tts_tidy.csv',\n",
       " 'taz_info.csv',\n",
       " 'TTS_variables.xlsx',\n",
       " 'taz_tts.xlsx',\n",
       " 'Num_of_Jobs.xlsx']"
      ]
     },
     "execution_count": 10,
     "metadata": {},
     "output_type": "execute_result"
    }
   ],
   "source": [
    "tts_path = data_path + 'tts/'\n",
    "os.listdir(tts_path)"
   ]
  },
  {
   "cell_type": "code",
   "execution_count": 11,
   "metadata": {},
   "outputs": [
    {
     "name": "stdout",
     "output_type": "stream",
     "text": [
      "----- DataFrame loaded\n",
      "in 0.01 seconds\n",
      "with 12,012 rows\n",
      "and 8 columns\n",
      "-- Column names:\n",
      " Index(['TAZ_O', 'year', 'Pop', 'FT_wrk', 'Stu', 'HH', 'Jobs', 'Cars'], dtype='object')\n"
     ]
    }
   ],
   "source": [
    "tts_df = df_from_csv(tts_path + 'taz_tts_tidy.csv')"
   ]
  },
  {
   "cell_type": "markdown",
   "metadata": {},
   "source": [
    "## Join Census data to Teranet data"
   ]
  },
  {
   "cell_type": "code",
   "execution_count": 12,
   "metadata": {},
   "outputs": [
    {
     "name": "stdout",
     "output_type": "stream",
     "text": [
      "----- Census variables were joined to the DataFrame\n",
      "in 46.04 seconds (0.77 minutes)\n",
      "with 5,188,513 rows\n",
      "and 111 columns\n",
      "-- Column names:\n",
      " Index(['transaction_id', 'lro_num', 'pin', 'consideration_amt',\n",
      "       'registration_date', 'postal_code', 'unitno', 'street_name',\n",
      "       'street_designation', 'street_direction',\n",
      "       ...\n",
      "       'Emp', 'Unemp', 'Not_lbrfrc', 'Employee', 'Self_emp', 'At_home',\n",
      "       'No_fix_wkpl', 'Usl_wkpl', 'Blue_cljob', 'White_cljob'],\n",
      "      dtype='object', length=111)\n"
     ]
    }
   ],
   "source": [
    "t = time()\n",
    "df = pd.merge(teranet_df, census_df, how='left',\n",
    "              left_on=['dauid', 'census2001_year'], right_on=['DAUID', 'year'])\n",
    "df = df.drop(['DAUID', 'year_y'], axis=1).rename(columns={'year_x': 'year'})\n",
    "elapsed = time() - t\n",
    "print(\"----- Census variables were joined to the DataFrame\"\n",
    "      \"\\nin {0:,.2f} seconds ({1:.2f} minutes)\".format(elapsed, elapsed / 60) + \n",
    "      \"\\nwith {0:,} rows\\nand {1:,} columns\"\n",
    "      .format(df.shape[0], df.shape[1]) + \n",
    "      \"\\n-- Column names:\\n\", df.columns)"
   ]
  },
  {
   "cell_type": "markdown",
   "metadata": {},
   "source": [
    "## Join TTS data to Teranet data"
   ]
  },
  {
   "cell_type": "code",
   "execution_count": 13,
   "metadata": {},
   "outputs": [
    {
     "name": "stdout",
     "output_type": "stream",
     "text": [
      "----- TTS variables were joined to the DataFrame\n",
      "in 60.51 seconds (1.01 minutes)\n",
      "with 5,188,513 rows\n",
      "and 117 columns\n",
      "-- Column names:\n",
      " Index(['transaction_id', 'lro_num', 'pin', 'consideration_amt',\n",
      "       'registration_date', 'postal_code', 'unitno', 'street_name',\n",
      "       'street_designation', 'street_direction',\n",
      "       ...\n",
      "       'Usl_wkpl', 'Blue_cljob', 'White_cljob', 'TAZ_O', 'Pop_y', 'FT_wrk',\n",
      "       'Stu', 'HH', 'Jobs', 'Cars'],\n",
      "      dtype='object', length=117)\n"
     ]
    }
   ],
   "source": [
    "t = time()\n",
    "df = pd.merge(df, tts_df, how='left',\n",
    "              left_on=['taz_o', 'tts_year'], right_on=['TAZ_O', 'year'])\n",
    "df = df.drop(['taz_o', 'year_y'], axis=1).rename(columns={'year_x': 'year'})\n",
    "elapsed = time() - t\n",
    "print(\"----- TTS variables were joined to the DataFrame\"\n",
    "      \"\\nin {0:,.2f} seconds ({1:.2f} minutes)\".format(elapsed, elapsed / 60) + \n",
    "      \"\\nwith {0:,} rows\\nand {1:,} columns\"\n",
    "      .format(df.shape[0], df.shape[1]) + \n",
    "      \"\\n-- Column names:\\n\", df.columns)"
   ]
  },
  {
   "cell_type": "markdown",
   "metadata": {},
   "source": [
    "## Take a train-test subset of Teranet records"
   ]
  },
  {
   "cell_type": "code",
   "execution_count": 14,
   "metadata": {},
   "outputs": [
    {
     "name": "stdout",
     "output_type": "stream",
     "text": [
      "205,341 Teranet records in the train-test subset (records from 2012).\n",
      "219,130 Teranet records in the validation subset #1 (records from 2011).\n",
      "207,686 Teranet records in the validation subset #2 (records from 2013).\n"
     ]
    }
   ],
   "source": [
    "year_train_test = 2012\n",
    "year_val1 = 2011\n",
    "year_val2 = 2013\n",
    "\n",
    "s = df.query('year == @year_train_test')\n",
    "s_val1 = df.query('year == @year_val1')\n",
    "s_val2 = df.query('year == @year_val2')\n",
    "\n",
    "print(\"{0:,} Teranet records in the train-test subset (records from {1}).\".format(len(s), year_train_test))\n",
    "print(\"{0:,} Teranet records in the validation subset #1 (records from {1}).\".format(len(s_val1), year_val1))\n",
    "print(\"{0:,} Teranet records in the validation subset #2 (records from {1}).\".format(len(s_val2), year_val2))"
   ]
  },
  {
   "cell_type": "markdown",
   "metadata": {},
   "source": [
    "## Select features"
   ]
  },
  {
   "cell_type": "code",
   "execution_count": 15,
   "metadata": {},
   "outputs": [
    {
     "data": {
      "text/plain": [
       "Index(['transaction_id', 'lro_num', 'pin', 'consideration_amt',\n",
       "       'registration_date', 'postal_code', 'unitno', 'street_name',\n",
       "       'street_designation', 'street_direction',\n",
       "       ...\n",
       "       'Usl_wkpl', 'Blue_cljob', 'White_cljob', 'TAZ_O', 'Pop_y', 'FT_wrk',\n",
       "       'Stu', 'HH', 'Jobs', 'Cars'],\n",
       "      dtype='object', length=117)"
      ]
     },
     "execution_count": 15,
     "metadata": {},
     "output_type": "execute_result"
    }
   ],
   "source": [
    "s.columns"
   ]
  },
  {
   "cell_type": "code",
   "execution_count": 16,
   "metadata": {},
   "outputs": [
    {
     "name": "stdout",
     "output_type": "stream",
     "text": [
      "<class 'pandas.core.frame.DataFrame'>\n",
      "Int64Index: 205341 entries, 0 to 205340\n",
      "Data columns (total 69 columns):\n",
      "pin_total_sales              205341 non-null int64\n",
      "xy_total_sales               205341 non-null int64\n",
      "pin_prev_sales               205341 non-null int64\n",
      "xy_prev_sales                205341 non-null int64\n",
      "xy_first_sale                205341 non-null bool\n",
      "pin_years_since_last_sale    138498 non-null float64\n",
      "xy_years_since_last_sale     176503 non-null float64\n",
      "xy_years_to_next_sale        137302 non-null float64\n",
      "da_days_since_last_sale      205341 non-null float64\n",
      "da_years_since_last_sale     205341 non-null float64\n",
      "xy_sale_next_6m              205341 non-null bool\n",
      "price_2016                   205341 non-null float64\n",
      "pin_price_cum_sum            205341 non-null float64\n",
      "xy_price_cum_sum             205341 non-null float64\n",
      "pin_price_pct_change         138330 non-null float64\n",
      "xy_price_pct_change          176349 non-null float64\n",
      "price_da_pct_change          205340 non-null float64\n",
      "med_price_xy                 205341 non-null float64\n",
      "med_price_year               205341 non-null float64\n",
      "price_to_med_xy              205341 non-null float64\n",
      "price_to_med_year            205341 non-null float64\n",
      "outlier_y_3                  205341 non-null bool\n",
      "outlier_y_5                  205341 non-null bool\n",
      "outlier_y_10                 205341 non-null bool\n",
      "outlier_y_20                 205341 non-null bool\n",
      "outlier_xy_2                 205341 non-null bool\n",
      "outlier_xy_4                 205341 non-null bool\n",
      "outlier_xy_10                205341 non-null bool\n",
      "Avg_HHsize                   204722 non-null float64\n",
      "Avg_HHinc                    204147 non-null float64\n",
      "Avg_own_payt                 204736 non-null float64\n",
      "Avg_val_dwel                 204736 non-null float64\n",
      "Avg_rent                     204736 non-null float64\n",
      "Pop_x                        205341 non-null float64\n",
      "PopDens                      205341 non-null float64\n",
      "Dwel                         204722 non-null float64\n",
      "DwelDens                     205341 non-null float64\n",
      "Sgl_det                      204722 non-null float64\n",
      "Apt_5plus                    204722 non-null float64\n",
      "Sgl_att                      204722 non-null float64\n",
      "Owned                        204736 non-null float64\n",
      "Rented                       204736 non-null float64\n",
      "CarTrVan_d                   204736 non-null float64\n",
      "CarTrVan_p                   204736 non-null float64\n",
      "PT                           204736 non-null float64\n",
      "Walk                         204736 non-null float64\n",
      "Bike                         204736 non-null float64\n",
      "Lbrfrc                       204736 non-null float64\n",
      "Emp                          204736 non-null float64\n",
      "Unemp                        204736 non-null float64\n",
      "Not_lbrfrc                   204736 non-null float64\n",
      "Employee                     204736 non-null float64\n",
      "Self_emp                     204736 non-null float64\n",
      "At_home                      204736 non-null float64\n",
      "No_fix_wkpl                  204736 non-null float64\n",
      "Usl_wkpl                     204736 non-null float64\n",
      "Blue_cljob                   204736 non-null float64\n",
      "White_cljob                  204736 non-null float64\n",
      "Pop_y                        205324 non-null float64\n",
      "FT_wrk                       205324 non-null float64\n",
      "Stu                          205324 non-null float64\n",
      "HH                           204118 non-null float64\n",
      "Jobs                         205324 non-null float64\n",
      "Cars                         205324 non-null float64\n",
      "lucr_detached                205341 non-null bool\n",
      "lucr_duplex_townhouse        205341 non-null bool\n",
      "lucr                         205341 non-null object\n",
      "lucr_condo                   205341 non-null bool\n",
      "lucr_other                   205341 non-null bool\n",
      "dtypes: bool(13), float64(51), int64(4), object(1)\n",
      "memory usage: 91.8+ MB\n"
     ]
    }
   ],
   "source": [
    "all_feat_cols = ['pin_total_sales', 'xy_total_sales', 'pin_prev_sales', 'xy_prev_sales',\n",
    "                 'xy_first_sale', 'pin_years_since_last_sale',\n",
    "                 'xy_years_since_last_sale', 'xy_years_to_next_sale',\n",
    "                 'da_days_since_last_sale', 'da_years_since_last_sale',\n",
    "                 'xy_sale_next_6m', 'price_2016', 'pin_price_cum_sum',\n",
    "                 'xy_price_cum_sum', 'pin_price_pct_change', 'xy_price_pct_change',\n",
    "                 'price_da_pct_change', 'med_price_xy', 'med_price_year',\n",
    "                 'price_to_med_xy', 'price_to_med_year', 'outlier_y_3', 'outlier_y_5',\n",
    "                 'outlier_y_10', 'outlier_y_20', 'outlier_xy_2', 'outlier_xy_4',\n",
    "                 'outlier_xy_10', \n",
    "                 'Avg_HHsize', 'Avg_HHinc', 'Avg_own_payt',\n",
    "                 'Avg_val_dwel', 'Avg_rent', 'Pop_x', 'PopDens', 'Dwel', 'DwelDens',\n",
    "                 'Sgl_det', 'Apt_5plus', 'Sgl_att', 'Owned', 'Rented', 'CarTrVan_d',\n",
    "                 'CarTrVan_p', 'PT', 'Walk', 'Bike', 'Lbrfrc', 'Emp', 'Unemp',\n",
    "                 'Not_lbrfrc', 'Employee', 'Self_emp', 'At_home', 'No_fix_wkpl',\n",
    "                 'Usl_wkpl', 'Blue_cljob', 'White_cljob',\n",
    "                 'Pop_y', 'FT_wrk', 'Stu', 'HH', 'Jobs', 'Cars',\n",
    "                 'lucr_detached', 'lucr_duplex_townhouse', 'lucr', 'lucr_condo', 'lucr_other']\n",
    "s = s[all_feat_cols]\n",
    "s_val1 = s_val1[all_feat_cols]\n",
    "s_val2 = s_val2[all_feat_cols]\n",
    "s.info(null_counts=True)"
   ]
  },
  {
   "cell_type": "code",
   "execution_count": 17,
   "metadata": {},
   "outputs": [
    {
     "name": "stdout",
     "output_type": "stream",
     "text": [
      "For records with missing 'xy_years_to_next_sale', values of 'xy_years_since_last_sale' are: mean=7.59, median=5.89\n"
     ]
    }
   ],
   "source": [
    "col1 = 'xy_years_to_next_sale'\n",
    "col2 = 'xy_years_since_last_sale'\n",
    "mask1 = s[col1].isnull()\n",
    "print(\"For records with missing '{0}', values of '{1}' are: mean={2:,.2f}, median={3:,.2f}\"\n",
    "      .format(col1, col2, s.loc[mask1, col2].mean(), s.loc[mask1, col2].median()))"
   ]
  },
  {
   "cell_type": "code",
   "execution_count": 18,
   "metadata": {},
   "outputs": [
    {
     "name": "stdout",
     "output_type": "stream",
     "text": [
      "For records with missing 'xy_years_since_last_sale', values of 'xy_years_to_next_sale' are: mean=2.07, median=1.72\n"
     ]
    }
   ],
   "source": [
    "col1 = 'xy_years_since_last_sale'\n",
    "col2 = 'xy_years_to_next_sale'\n",
    "mask1 = s[col1].isnull()\n",
    "print(\"For records with missing '{0}', values of '{1}' are: mean={2:,.2f}, median={3:,.2f}\"\n",
    "      .format(col1, col2, s.loc[mask1, col2].mean(), s.loc[mask1, col2].median()))"
   ]
  },
  {
   "cell_type": "code",
   "execution_count": 19,
   "metadata": {},
   "outputs": [
    {
     "name": "stdout",
     "output_type": "stream",
     "text": [
      "<class 'pandas.core.frame.DataFrame'>\n",
      "Int64Index: 205341 entries, 0 to 205340\n",
      "Data columns (total 69 columns):\n",
      "pin_total_sales              205341 non-null int64\n",
      "xy_total_sales               205341 non-null int64\n",
      "pin_prev_sales               205341 non-null int64\n",
      "xy_prev_sales                205341 non-null int64\n",
      "xy_first_sale                205341 non-null bool\n",
      "pin_years_since_last_sale    138498 non-null float64\n",
      "xy_years_since_last_sale     205341 non-null float64\n",
      "xy_years_to_next_sale        205341 non-null float64\n",
      "da_days_since_last_sale      205341 non-null float64\n",
      "da_years_since_last_sale     205341 non-null float64\n",
      "xy_sale_next_6m              205341 non-null bool\n",
      "price_2016                   205341 non-null float64\n",
      "pin_price_cum_sum            205341 non-null float64\n",
      "xy_price_cum_sum             205341 non-null float64\n",
      "pin_price_pct_change         138330 non-null float64\n",
      "xy_price_pct_change          176349 non-null float64\n",
      "price_da_pct_change          205340 non-null float64\n",
      "med_price_xy                 205341 non-null float64\n",
      "med_price_year               205341 non-null float64\n",
      "price_to_med_xy              205341 non-null float64\n",
      "price_to_med_year            205341 non-null float64\n",
      "outlier_y_3                  205341 non-null bool\n",
      "outlier_y_5                  205341 non-null bool\n",
      "outlier_y_10                 205341 non-null bool\n",
      "outlier_y_20                 205341 non-null bool\n",
      "outlier_xy_2                 205341 non-null bool\n",
      "outlier_xy_4                 205341 non-null bool\n",
      "outlier_xy_10                205341 non-null bool\n",
      "Avg_HHsize                   204722 non-null float64\n",
      "Avg_HHinc                    204147 non-null float64\n",
      "Avg_own_payt                 204736 non-null float64\n",
      "Avg_val_dwel                 204736 non-null float64\n",
      "Avg_rent                     204736 non-null float64\n",
      "Pop_x                        205341 non-null float64\n",
      "PopDens                      205341 non-null float64\n",
      "Dwel                         204722 non-null float64\n",
      "DwelDens                     205341 non-null float64\n",
      "Sgl_det                      204722 non-null float64\n",
      "Apt_5plus                    204722 non-null float64\n",
      "Sgl_att                      204722 non-null float64\n",
      "Owned                        204736 non-null float64\n",
      "Rented                       204736 non-null float64\n",
      "CarTrVan_d                   204736 non-null float64\n",
      "CarTrVan_p                   204736 non-null float64\n",
      "PT                           204736 non-null float64\n",
      "Walk                         204736 non-null float64\n",
      "Bike                         204736 non-null float64\n",
      "Lbrfrc                       204736 non-null float64\n",
      "Emp                          204736 non-null float64\n",
      "Unemp                        204736 non-null float64\n",
      "Not_lbrfrc                   204736 non-null float64\n",
      "Employee                     204736 non-null float64\n",
      "Self_emp                     204736 non-null float64\n",
      "At_home                      204736 non-null float64\n",
      "No_fix_wkpl                  204736 non-null float64\n",
      "Usl_wkpl                     204736 non-null float64\n",
      "Blue_cljob                   204736 non-null float64\n",
      "White_cljob                  204736 non-null float64\n",
      "Pop_y                        205324 non-null float64\n",
      "FT_wrk                       205324 non-null float64\n",
      "Stu                          205324 non-null float64\n",
      "HH                           204118 non-null float64\n",
      "Jobs                         205324 non-null float64\n",
      "Cars                         205324 non-null float64\n",
      "lucr_detached                205341 non-null bool\n",
      "lucr_duplex_townhouse        205341 non-null bool\n",
      "lucr                         205341 non-null object\n",
      "lucr_condo                   205341 non-null bool\n",
      "lucr_other                   205341 non-null bool\n",
      "dtypes: bool(13), float64(51), int64(4), object(1)\n",
      "memory usage: 91.8+ MB\n"
     ]
    }
   ],
   "source": [
    "col1 = 'xy_years_to_next_sale'\n",
    "col2 = 'xy_years_since_last_sale'\n",
    "\n",
    "# missing year to next sale is replaced with median year since last sale and vice versa\n",
    "mask1 = s[col1].isnull()\n",
    "s.loc[mask1, col1] = s.loc[mask1, col2].median()\n",
    "mask1 = s_val1[col1].isnull()\n",
    "s_val1.loc[mask1, col1] = s_val1.loc[mask1, col2].median()\n",
    "mask1 = s_val2[col1].isnull()\n",
    "s_val2.loc[mask1, col1] = s_val2.loc[mask1, col2].median()\n",
    "\n",
    "mask1 = s[col2].isnull()\n",
    "s.loc[mask1, col2] = s.loc[mask1, col1].median()\n",
    "mask1 = s_val1[col2].isnull()\n",
    "s_val1.loc[mask1, col2] = s_val1.loc[mask1, col1].median()\n",
    "mask1 = s_val2[col2].isnull()\n",
    "s_val2.loc[mask1, col2] = s_val2.loc[mask1, col1].median()\n",
    "\n",
    "s.info(null_counts=True)"
   ]
  },
  {
   "cell_type": "code",
   "execution_count": 20,
   "metadata": {},
   "outputs": [
    {
     "name": "stdout",
     "output_type": "stream",
     "text": [
      "Rows with missing values were dropped.\n"
     ]
    }
   ],
   "source": [
    "target_cols = 5\n",
    "feat_cols = s.columns[:-target_cols]\n",
    "drop_cols = ['pin_price_pct_change', 'pin_price_pct_change', 'xy_price_pct_change', 'pin_years_since_last_sale']\n",
    "mask1 = feat_cols.isin(drop_cols)\n",
    "feat_cols = feat_cols[~mask1]\n",
    "feat_target_cols = \\\n",
    "    feat_cols.append(pd.Index(['lucr_detached', 'lucr_duplex_townhouse', 'lucr', 'lucr_condo', 'lucr_other']))\n",
    "s = s[feat_target_cols]\n",
    "s_val1 = s_val1[feat_target_cols]\n",
    "s_val2 = s_val2[feat_target_cols]\n",
    "print(\"Rows with missing values were dropped.\")"
   ]
  },
  {
   "cell_type": "code",
   "execution_count": 21,
   "metadata": {},
   "outputs": [
    {
     "name": "stdout",
     "output_type": "stream",
     "text": [
      "202,979 rows in train-test subset, 213,823 rows in validation subset #1, 203,473 rows in validation subset #2\n"
     ]
    }
   ],
   "source": [
    "s = s.dropna()\n",
    "s_val1 = s_val1.dropna()\n",
    "s_val2 = s_val2.dropna()\n",
    "print(\"{0:,} rows in train-test subset, {1:,} rows in validation subset #1, {2:,} rows in validation subset #2\"\n",
    "      .format(len(s), len(s_val1), len(s_val2)))"
   ]
  },
  {
   "cell_type": "markdown",
   "metadata": {},
   "source": [
    "## Encode target"
   ]
  },
  {
   "cell_type": "code",
   "execution_count": 22,
   "metadata": {},
   "outputs": [
    {
     "name": "stdout",
     "output_type": "stream",
     "text": [
      "condo               55501\n",
      "detached            59349\n",
      "duplex_townhouse    13200\n",
      "other               74929\n",
      "Name: lucr, dtype: int64\n",
      "0    55501\n",
      "1    59349\n",
      "2    13200\n",
      "3    74929\n",
      "Name: lucr_e, dtype: int64\n",
      "condo               62618\n",
      "detached            60038\n",
      "duplex_townhouse    13650\n",
      "other               77517\n",
      "Name: lucr, dtype: int64\n",
      "0    62618\n",
      "1    60038\n",
      "2    13650\n",
      "3    77517\n",
      "Name: lucr_e, dtype: int64\n",
      "condo               48257\n",
      "detached            56741\n",
      "duplex_townhouse    12481\n",
      "other               85994\n",
      "Name: lucr, dtype: int64\n",
      "0    48257\n",
      "1    56741\n",
      "2    12481\n",
      "3    85994\n",
      "Name: lucr_e, dtype: int64\n",
      "Land use encoded!\n"
     ]
    }
   ],
   "source": [
    "le = LabelEncoder()\n",
    "\n",
    "s['lucr_e'] = le.fit_transform(s['lucr'])\n",
    "s_val1['lucr_e'] = le.transform(s_val1['lucr'])\n",
    "s_val2['lucr_e'] = le.transform(s_val2['lucr'])\n",
    "\n",
    "s['lucr_detached_e'] = le.fit_transform(s['lucr_detached'])\n",
    "s_val1['lucr_detached_e'] = le.transform(s_val1['lucr_detached'])\n",
    "s_val2['lucr_detached_e'] = le.transform(s_val2['lucr_detached'])\n",
    "\n",
    "s['lucr_duplex_townhouse_e'] = le.fit_transform(s['lucr_duplex_townhouse'])\n",
    "s_val1['lucr_duplex_townhouse_e'] = le.transform(s_val1['lucr_duplex_townhouse'])\n",
    "s_val2['lucr_duplex_townhouse_e'] = le.transform(s_val2['lucr_duplex_townhouse'])\n",
    "\n",
    "s['lucr_condo_e'] = le.fit_transform(s['lucr_condo'])\n",
    "s_val1['lucr_condo_e'] = le.transform(s_val1['lucr_condo'])\n",
    "s_val2['lucr_condo_e'] = le.transform(s_val2['lucr_condo'])\n",
    "\n",
    "s['lucr_other_e'] = le.fit_transform(s['lucr_other'])\n",
    "s_val1['lucr_other_e'] = le.transform(s_val1['lucr_other'])\n",
    "s_val2['lucr_other_e'] = le.transform(s_val2['lucr_other'])\n",
    "\n",
    "print(s['lucr'].value_counts().sort_index())\n",
    "print(s['lucr_e'].value_counts().sort_index())\n",
    "print(s_val1['lucr'].value_counts().sort_index())\n",
    "print(s_val1['lucr_e'].value_counts().sort_index())\n",
    "print(s_val2['lucr'].value_counts().sort_index())\n",
    "print(s_val2['lucr_e'].value_counts().sort_index())\n",
    "\n",
    "s = s.drop(['lucr', 'lucr_detached', 'lucr_duplex_townhouse', 'lucr_condo', 'lucr_other'], axis=1)\n",
    "s_val1 = s_val1.drop(['lucr', 'lucr_detached', 'lucr_duplex_townhouse', 'lucr_condo', 'lucr_other'], axis=1)\n",
    "s_val2 = s_val2.drop(['lucr', 'lucr_detached', 'lucr_duplex_townhouse', 'lucr_condo', 'lucr_other'], axis=1)\n",
    "print(\"Land use encoded!\")\n",
    "labels_list = ['condo', 'detached', 'duplex_townhouse', 'other']"
   ]
  },
  {
   "cell_type": "markdown",
   "metadata": {},
   "source": [
    "## Prepare features"
   ]
  },
  {
   "cell_type": "markdown",
   "metadata": {},
   "source": [
    "#### Select features and target"
   ]
  },
  {
   "cell_type": "code",
   "execution_count": 23,
   "metadata": {},
   "outputs": [
    {
     "name": "stdout",
     "output_type": "stream",
     "text": [
      "Features and target selected.\n"
     ]
    }
   ],
   "source": [
    "X = s[feat_cols].values\n",
    "X_val1 = s_val1[feat_cols].values\n",
    "X_val2 = s_val2[feat_cols].values\n",
    "y = s['lucr_e'].values\n",
    "y_val1 = s_val1['lucr_e'].values\n",
    "y_val2 = s_val2['lucr_e'].values\n",
    "print(\"Features and target selected.\")"
   ]
  },
  {
   "cell_type": "markdown",
   "metadata": {},
   "source": [
    "#### Perform train-test split"
   ]
  },
  {
   "cell_type": "code",
   "execution_count": 24,
   "metadata": {},
   "outputs": [
    {
     "name": "stdout",
     "output_type": "stream",
     "text": [
      "Performed train-test split.\n",
      "Labels counts in y: [55501 59349 13200 74929]\n",
      "Labels counts in y_train: [38851 41544  9240 52450]\n",
      "Labels counts in y_test: [16650 17805  3960 22479]\n",
      "Labels counts in y_val1: [62618 60038 13650 77517]\n",
      "Labels counts in y_val2: [48257 56741 12481 85994]\n"
     ]
    }
   ],
   "source": [
    "X_train, X_test, y_train, y_test = train_test_split(X, y, test_size=0.3, random_state=random_state, stratify=y)\n",
    "print(\"Performed train-test split.\")\n",
    "print('Labels counts in y:', np.bincount(y))\n",
    "print('Labels counts in y_train:', np.bincount(y_train))\n",
    "print('Labels counts in y_test:', np.bincount(y_test))\n",
    "print('Labels counts in y_val1:', np.bincount(y_val1))\n",
    "print('Labels counts in y_val2:', np.bincount(y_val2))"
   ]
  },
  {
   "cell_type": "markdown",
   "metadata": {},
   "source": [
    "#### Standardize features"
   ]
  },
  {
   "cell_type": "code",
   "execution_count": 25,
   "metadata": {},
   "outputs": [
    {
     "name": "stdout",
     "output_type": "stream",
     "text": [
      "Input features were standardized.\n"
     ]
    }
   ],
   "source": [
    "sc = StandardScaler()\n",
    "sc.fit(X_train)\n",
    "X_train_std = sc.transform(X_train)\n",
    "X_test_std = sc.transform(X_test)\n",
    "X_val1_std = sc.transform(X_val1)\n",
    "X_val2_std = sc.transform(X_val2)\n",
    "print(\"Input features were standardized.\")"
   ]
  },
  {
   "cell_type": "markdown",
   "metadata": {},
   "source": [
    "#### Normalize features"
   ]
  },
  {
   "cell_type": "code",
   "execution_count": 26,
   "metadata": {},
   "outputs": [
    {
     "name": "stdout",
     "output_type": "stream",
     "text": [
      "Input features were normalized.\n"
     ]
    }
   ],
   "source": [
    "sc = MinMaxScaler()\n",
    "sc.fit(X_train)\n",
    "X_train_norm = sc.transform(X_train)\n",
    "X_test_norm = sc.transform(X_test)\n",
    "X_val1_norm = sc.transform(X_val1)\n",
    "X_val2_norm = sc.transform(X_val2)\n",
    "print(\"Input features were normalized.\")"
   ]
  },
  {
   "cell_type": "markdown",
   "metadata": {},
   "source": [
    "## Feature selection based on Variance Treshold\n",
    "\n",
    "[`VarianceThreshold`](https://scikit-learn.org/stable/modules/feature_selection.html) in `scikit-learn` is a simple baseline approach to feature selection. It removes all features whose variance doesn’t meet some threshold."
   ]
  },
  {
   "cell_type": "markdown",
   "metadata": {},
   "source": [
    "### Boolean features\n",
    "Boolean features are Bernoulli random variables, and the variance of such variables is given by:\n",
    "\n",
    "$Var[X] = p(1 - p)$"
   ]
  },
  {
   "cell_type": "code",
   "execution_count": 27,
   "metadata": {},
   "outputs": [],
   "source": [
    "def vt_bernoulli_selector(df, p=0.0):\n",
    "    \"\"\"\n",
    "    This function tests features as Bernoulli variables\n",
    "    for minimum variance using VarianceThreshold\n",
    "\n",
    "    Boolean features are Bernoulli random variables, \n",
    "    and the variance of such variables is given by:\n",
    "    \n",
    "    Var[X] = p(1 - p)\n",
    "    \"\"\"\n",
    "    selector = VarianceThreshold(threshold=(p * (1 - p)))\n",
    "    selector.fit(df)\n",
    "    new_feats = df.columns[selector.get_support(indices=True)]\n",
    "    print(\"----- Originally, {0} boolean features:\\n\\n\".format(df.shape[1]), df.columns)\n",
    "    print(\"\\n----- Using Variance Threshold with p={0}, {1} boolean features:\\n\\n{2}\\n\\n{3} have been filtered out\"\n",
    "          .format(p, len(new_feats), new_feats, df.columns.difference(new_feats)))"
   ]
  },
  {
   "cell_type": "markdown",
   "metadata": {},
   "source": [
    "#### Check variance of Boolean features"
   ]
  },
  {
   "cell_type": "code",
   "execution_count": 28,
   "metadata": {},
   "outputs": [
    {
     "name": "stdout",
     "output_type": "stream",
     "text": [
      "9 features have Boolean data type.\n"
     ]
    },
    {
     "data": {
      "text/plain": [
       "Index(['xy_first_sale', 'xy_sale_next_6m', 'outlier_y_3', 'outlier_y_5',\n",
       "       'outlier_y_10', 'outlier_y_20', 'outlier_xy_2', 'outlier_xy_4',\n",
       "       'outlier_xy_10'],\n",
       "      dtype='object')"
      ]
     },
     "execution_count": 28,
     "metadata": {},
     "output_type": "execute_result"
    }
   ],
   "source": [
    "mask1 = s[feat_cols].dtypes == 'bool'\n",
    "bool_cols = s[feat_cols].columns[mask1]\n",
    "print(\"{0} features have Boolean data type.\".format(len(bool_cols)))\n",
    "s_bool = s[bool_cols]\n",
    "s_bool.columns"
   ]
  },
  {
   "cell_type": "code",
   "execution_count": 29,
   "metadata": {},
   "outputs": [
    {
     "data": {
      "text/plain": [
       "outlier_xy_10      0.003975\n",
       "outlier_y_20       0.005643\n",
       "outlier_xy_4       0.005663\n",
       "outlier_y_10       0.008034\n",
       "outlier_y_5        0.016808\n",
       "outlier_xy_2       0.022553\n",
       "outlier_y_3        0.039495\n",
       "xy_first_sale      0.120833\n",
       "xy_sale_next_6m    0.250000\n",
       "dtype: float64"
      ]
     },
     "execution_count": 29,
     "metadata": {},
     "output_type": "execute_result"
    }
   ],
   "source": [
    "s_bool.var().sort_values()"
   ]
  },
  {
   "cell_type": "markdown",
   "metadata": {},
   "source": [
    "#### Filter out features with no variance"
   ]
  },
  {
   "cell_type": "code",
   "execution_count": 30,
   "metadata": {},
   "outputs": [
    {
     "name": "stdout",
     "output_type": "stream",
     "text": [
      "----- Originally, 9 boolean features:\n",
      "\n",
      " Index(['xy_first_sale', 'xy_sale_next_6m', 'outlier_y_3', 'outlier_y_5',\n",
      "       'outlier_y_10', 'outlier_y_20', 'outlier_xy_2', 'outlier_xy_4',\n",
      "       'outlier_xy_10'],\n",
      "      dtype='object')\n",
      "\n",
      "----- Using Variance Threshold with p=0.0, 9 boolean features:\n",
      "\n",
      "Index(['xy_first_sale', 'xy_sale_next_6m', 'outlier_y_3', 'outlier_y_5',\n",
      "       'outlier_y_10', 'outlier_y_20', 'outlier_xy_2', 'outlier_xy_4',\n",
      "       'outlier_xy_10'],\n",
      "      dtype='object')\n",
      "\n",
      "Index([], dtype='object') have been filtered out\n"
     ]
    }
   ],
   "source": [
    "vt_bernoulli_selector(s_bool)"
   ]
  },
  {
   "cell_type": "markdown",
   "metadata": {},
   "source": [
    "#### Filter out features with low variance\n",
    "Removing all features that have the same value more than 99% of the time."
   ]
  },
  {
   "cell_type": "code",
   "execution_count": 31,
   "metadata": {},
   "outputs": [
    {
     "name": "stdout",
     "output_type": "stream",
     "text": [
      "----- Originally, 9 boolean features:\n",
      "\n",
      " Index(['xy_first_sale', 'xy_sale_next_6m', 'outlier_y_3', 'outlier_y_5',\n",
      "       'outlier_y_10', 'outlier_y_20', 'outlier_xy_2', 'outlier_xy_4',\n",
      "       'outlier_xy_10'],\n",
      "      dtype='object')\n",
      "\n",
      "----- Using Variance Threshold with p=0.9, 2 boolean features:\n",
      "\n",
      "Index(['xy_first_sale', 'xy_sale_next_6m'], dtype='object')\n",
      "\n",
      "Index(['outlier_xy_10', 'outlier_xy_2', 'outlier_xy_4', 'outlier_y_10',\n",
      "       'outlier_y_20', 'outlier_y_3', 'outlier_y_5'],\n",
      "      dtype='object') have been filtered out\n"
     ]
    }
   ],
   "source": [
    "vt_bernoulli_selector(s_bool, p=0.9)"
   ]
  },
  {
   "cell_type": "markdown",
   "metadata": {},
   "source": [
    "## Tree-based feature selection from model"
   ]
  },
  {
   "cell_type": "code",
   "execution_count": 73,
   "metadata": {},
   "outputs": [
    {
     "name": "stdout",
     "output_type": "stream",
     "text": [
      "Feature DataFrame initiated, 61 features in total.\n"
     ]
    }
   ],
   "source": [
    "feat_df = pd.DataFrame(feat_cols).rename(columns={0: 'var'})\n",
    "print(\"Feature DataFrame initiated, {0} features in total.\".format(len(feat_df)))"
   ]
  },
  {
   "cell_type": "markdown",
   "metadata": {},
   "source": [
    "### Extra Trees Classifier"
   ]
  },
  {
   "cell_type": "code",
   "execution_count": 33,
   "metadata": {},
   "outputs": [
    {
     "name": "stdout",
     "output_type": "stream",
     "text": [
      "16 features selected from model, took 17.27 seconds (0.29 minutes).\n",
      "\n"
     ]
    },
    {
     "data": {
      "text/plain": [
       "Index(['xy_total_sales', 'pin_prev_sales', 'xy_prev_sales', 'xy_first_sale',\n",
       "       'xy_years_since_last_sale', 'xy_years_to_next_sale', 'xy_sale_next_6m',\n",
       "       'xy_price_cum_sum', 'med_price_xy', 'Avg_HHsize', 'PopDens', 'DwelDens',\n",
       "       'Sgl_det', 'Apt_5plus', 'Sgl_att', 'CarTrVan_d'],\n",
       "      dtype='object')"
      ]
     },
     "execution_count": 33,
     "metadata": {},
     "output_type": "execute_result"
    }
   ],
   "source": [
    "t = time()\n",
    "clf = ExtraTreesClassifier(n_estimators=50)\n",
    "clf = clf.fit(X, y)\n",
    "model = SelectFromModel(clf, prefit=True)\n",
    "elapsed = time() - t\n",
    "print(\"{0} features selected from model, took {1:,.2f} seconds ({2:,.2f} minutes).\"\n",
    "      .format(model.get_support().sum(), elapsed, elapsed / 60) + \"\\n\")\n",
    "etrees_feats = s.columns[model.get_support(indices=True)]\n",
    "etrees_feats"
   ]
  },
  {
   "cell_type": "code",
   "execution_count": 74,
   "metadata": {},
   "outputs": [
    {
     "data": {
      "text/plain": [
       "False    45\n",
       "True     16\n",
       "Name: etrees, dtype: int64"
      ]
     },
     "execution_count": 74,
     "metadata": {},
     "output_type": "execute_result"
    }
   ],
   "source": [
    "subset_name = 'etrees'\n",
    "sel_feats_df = pd.DataFrame(etrees_feats).rename(columns={0: 'var'})\n",
    "sel_feats_df[subset_name] = True\n",
    "\n",
    "feat_df = pd.merge(feat_df, sel_feats_df, how='left')\n",
    "feat_df[subset_name] = feat_df[subset_name].fillna(False)\n",
    "feat_df[subset_name].value_counts()"
   ]
  },
  {
   "cell_type": "markdown",
   "metadata": {},
   "source": [
    "### Random Forest Classifier"
   ]
  },
  {
   "cell_type": "code",
   "execution_count": 35,
   "metadata": {},
   "outputs": [
    {
     "name": "stdout",
     "output_type": "stream",
     "text": [
      "21 features selected from model\n",
      "\n"
     ]
    },
    {
     "data": {
      "text/plain": [
       "Index(['xy_total_sales', 'pin_prev_sales', 'xy_prev_sales',\n",
       "       'xy_years_since_last_sale', 'xy_years_to_next_sale',\n",
       "       'da_days_since_last_sale', 'da_years_since_last_sale',\n",
       "       'pin_price_cum_sum', 'xy_price_cum_sum', 'med_price_xy', 'Avg_own_payt',\n",
       "       'Avg_val_dwel', 'PopDens', 'Dwel', 'DwelDens', 'Sgl_det', 'Apt_5plus',\n",
       "       'Sgl_att', 'CarTrVan_d', 'Not_lbrfrc', 'Cars'],\n",
       "      dtype='object')"
      ]
     },
     "execution_count": 35,
     "metadata": {},
     "output_type": "execute_result"
    }
   ],
   "source": [
    "n_trees = 16\n",
    "clf = RandomForestClassifier(criterion='gini', n_estimators=n_trees, random_state=random_state, n_jobs=8)\n",
    "clf = clf.fit(X, y)\n",
    "model = SelectFromModel(clf, prefit=True)\n",
    "\n",
    "print(\"{0} features selected from model\".format(model.get_support().sum()) + \"\\n\")\n",
    "forest_feats = s.columns[model.get_support(indices=True)]\n",
    "forest_feats"
   ]
  },
  {
   "cell_type": "code",
   "execution_count": 75,
   "metadata": {},
   "outputs": [
    {
     "data": {
      "text/plain": [
       "False    40\n",
       "True     21\n",
       "Name: forest, dtype: int64"
      ]
     },
     "execution_count": 75,
     "metadata": {},
     "output_type": "execute_result"
    }
   ],
   "source": [
    "subset_name = 'forest'\n",
    "sel_feats_df = pd.DataFrame(forest_feats).rename(columns={0: 'var'})\n",
    "sel_feats_df[subset_name] = True\n",
    "\n",
    "feat_df = pd.merge(feat_df, sel_feats_df, how='left')\n",
    "feat_df[subset_name] = feat_df[subset_name].fillna(False)\n",
    "feat_df[subset_name].value_counts()"
   ]
  },
  {
   "cell_type": "markdown",
   "metadata": {},
   "source": [
    "Possible number of feature combinations\n",
    "$ \\large{ _nC_k = \\binom{n} {k} = \\frac{n!} {k!(n - k)!} } $"
   ]
  },
  {
   "cell_type": "code",
   "execution_count": 37,
   "metadata": {},
   "outputs": [
    {
     "name": "stdout",
     "output_type": "stream",
     "text": [
      "Possible number of ways to select 21 features out of 61: 12,176,310,231,149,296.\n"
     ]
    }
   ],
   "source": [
    "from math import factorial as fact\n",
    "\n",
    "n = len(feat_cols)\n",
    "k = len(forest_feats)\n",
    "nCk = fact(n) / (fact(k) * fact(n - k))\n",
    "print(\"Possible number of ways to select {0} features out of {1}: {2:,.0f}.\".format(len(forest_feats), len(feat_cols), nCk))"
   ]
  },
  {
   "cell_type": "code",
   "execution_count": 64,
   "metadata": {},
   "outputs": [
    {
     "name": "stdout",
     "output_type": "stream",
     "text": [
      "10,000,000,000,000,000\n"
     ]
    }
   ],
   "source": [
    "print('{0:,}'.format(10 ** 16))"
   ]
  },
  {
   "cell_type": "markdown",
   "metadata": {},
   "source": [
    "## Univariate feature selection: Select k Best (k=19)\n",
    "Univariate feature selection works by selecting the best features based on univariate statistical tests. It can be seen as a preprocessing step to an estimator. `SelectKBest` removes all but the $k$ highest scoring features based on the result of the selected statistical test."
   ]
  },
  {
   "cell_type": "markdown",
   "metadata": {},
   "source": [
    "### $\\chi^2$ test"
   ]
  },
  {
   "cell_type": "code",
   "execution_count": 39,
   "metadata": {},
   "outputs": [
    {
     "name": "stdout",
     "output_type": "stream",
     "text": [
      "Select k Best, k=21, chi-2 test\n"
     ]
    },
    {
     "data": {
      "text/plain": [
       "Index(['xy_total_sales', 'xy_prev_sales', 'xy_first_sale',\n",
       "       'xy_years_since_last_sale', 'xy_years_to_next_sale', 'xy_sale_next_6m',\n",
       "       'outlier_y_3', 'outlier_y_10', 'Avg_HHsize', 'Avg_rent', 'PopDens',\n",
       "       'Dwel', 'DwelDens', 'Sgl_det', 'Apt_5plus', 'Rented', 'PT', 'Walk',\n",
       "       'Not_lbrfrc', 'White_cljob', 'Jobs'],\n",
       "      dtype='object')"
      ]
     },
     "execution_count": 39,
     "metadata": {},
     "output_type": "execute_result"
    }
   ],
   "source": [
    "# Pearson's chi-2 test requires features to be non-negative\n",
    "sc = MinMaxScaler()\n",
    "X_norm = sc.fit_transform(X)\n",
    "\n",
    "selector_name = 'Select k Best, k={0}, chi-2 test'.format(k)\n",
    "selector = SelectKBest(chi2, k=k)\n",
    "selector.fit(X_norm, y)\n",
    "print(selector_name)\n",
    "kbest_chi2 = s.columns[selector.get_support(indices=True)]\n",
    "kbest_chi2"
   ]
  },
  {
   "cell_type": "code",
   "execution_count": 76,
   "metadata": {},
   "outputs": [
    {
     "data": {
      "text/plain": [
       "False    40\n",
       "True     21\n",
       "Name: kbest_chi-2, dtype: int64"
      ]
     },
     "execution_count": 76,
     "metadata": {},
     "output_type": "execute_result"
    }
   ],
   "source": [
    "subset_name = 'kbest_chi-2'\n",
    "sel_feats_df = pd.DataFrame(kbest_chi2).rename(columns={0: 'var'})\n",
    "sel_feats_df[subset_name] = True\n",
    "\n",
    "feat_df = pd.merge(feat_df, sel_feats_df, how='left')\n",
    "feat_df[subset_name] = feat_df[subset_name].fillna(False)\n",
    "feat_df[subset_name].value_counts()"
   ]
  },
  {
   "cell_type": "markdown",
   "metadata": {},
   "source": [
    "### ANOVA f-value test"
   ]
  },
  {
   "cell_type": "code",
   "execution_count": 41,
   "metadata": {},
   "outputs": [
    {
     "name": "stdout",
     "output_type": "stream",
     "text": [
      "Select k Best, k=21, ANOVA f-value test\n"
     ]
    },
    {
     "data": {
      "text/plain": [
       "Index(['xy_total_sales', 'xy_prev_sales', 'xy_first_sale',\n",
       "       'xy_years_since_last_sale', 'xy_years_to_next_sale',\n",
       "       'da_days_since_last_sale', 'da_years_since_last_sale',\n",
       "       'xy_sale_next_6m', 'Avg_HHsize', 'Avg_rent', 'PopDens', 'Dwel',\n",
       "       'DwelDens', 'Sgl_det', 'Apt_5plus', 'Rented', 'PT', 'Walk',\n",
       "       'Not_lbrfrc', 'White_cljob', 'Jobs'],\n",
       "      dtype='object')"
      ]
     },
     "execution_count": 41,
     "metadata": {},
     "output_type": "execute_result"
    }
   ],
   "source": [
    "selector_name = 'Select k Best, k={0}, ANOVA f-value test'.format(k)\n",
    "selector = SelectKBest(f_classif, k=k)\n",
    "selector.fit(X, y)\n",
    "print(selector_name)\n",
    "kbest_anova = s.columns[selector.get_support(indices=True)]\n",
    "kbest_anova"
   ]
  },
  {
   "cell_type": "code",
   "execution_count": 77,
   "metadata": {},
   "outputs": [
    {
     "data": {
      "text/plain": [
       "False    40\n",
       "True     21\n",
       "Name: kbest_anova, dtype: int64"
      ]
     },
     "execution_count": 77,
     "metadata": {},
     "output_type": "execute_result"
    }
   ],
   "source": [
    "subset_name = 'kbest_anova'\n",
    "sel_feats_df = pd.DataFrame(kbest_anova).rename(columns={0: 'var'})\n",
    "sel_feats_df[subset_name] = True\n",
    "\n",
    "feat_df = pd.merge(feat_df, sel_feats_df, how='left')\n",
    "feat_df[subset_name] = feat_df[subset_name].fillna(False)\n",
    "feat_df[subset_name].value_counts()"
   ]
  },
  {
   "cell_type": "markdown",
   "metadata": {},
   "source": [
    "### Mutual information test"
   ]
  },
  {
   "cell_type": "code",
   "execution_count": 43,
   "metadata": {},
   "outputs": [
    {
     "name": "stdout",
     "output_type": "stream",
     "text": [
      "Select k Best, k=21, mutual information test, took 251.68 seconds (4.19 minutes)\n"
     ]
    },
    {
     "data": {
      "text/plain": [
       "Index(['xy_total_sales', 'xy_prev_sales', 'xy_years_since_last_sale',\n",
       "       'xy_price_cum_sum', 'med_price_xy', 'Avg_HHinc', 'Avg_own_payt',\n",
       "       'Avg_val_dwel', 'Avg_rent', 'Pop_x', 'PopDens', 'Dwel', 'DwelDens',\n",
       "       'Lbrfrc', 'White_cljob', 'Pop_y', 'FT_wrk', 'Stu', 'HH', 'Jobs',\n",
       "       'Cars'],\n",
       "      dtype='object')"
      ]
     },
     "execution_count": 43,
     "metadata": {},
     "output_type": "execute_result"
    }
   ],
   "source": [
    "selector_name = 'Select k Best, k={0}, mutual information test'.format(k)\n",
    "t = time()\n",
    "selector = SelectKBest(mutual_info_classif, k=k)\n",
    "selector.fit(X, y)\n",
    "elapsed = time() - t\n",
    "print(selector_name + \", took {0:,.2f} seconds ({1:,.2f} minutes)\".format(elapsed, elapsed / 60))\n",
    "kbest_mit = s.columns[selector.get_support(indices=True)]\n",
    "kbest_mit"
   ]
  },
  {
   "cell_type": "code",
   "execution_count": 78,
   "metadata": {},
   "outputs": [
    {
     "data": {
      "text/plain": [
       "False    40\n",
       "True     21\n",
       "Name: kbest_mit, dtype: int64"
      ]
     },
     "execution_count": 78,
     "metadata": {},
     "output_type": "execute_result"
    }
   ],
   "source": [
    "subset_name = 'kbest_mit'\n",
    "sel_feats_df = pd.DataFrame(kbest_mit).rename(columns={0: 'var'})\n",
    "sel_feats_df[subset_name] = True\n",
    "\n",
    "feat_df = pd.merge(feat_df, sel_feats_df, how='left')\n",
    "feat_df[subset_name] = feat_df[subset_name].fillna(False)\n",
    "feat_df[subset_name].value_counts()"
   ]
  },
  {
   "cell_type": "markdown",
   "metadata": {},
   "source": [
    "## Recursive Feature Elimination (RFE) algorithm from `scikit-learn`\n",
    "Given an external estimator that assigns weights to features (e.g., the coefficients of a linear model), recursive feature elimination (RFE) is to select features by recursively considering smaller and smaller sets of features. First, the estimator is trained on the initial set of features and the importance of each feature is obtained either through a coef_ attribute or through a feature_importances_ attribute. Then, the least important features are pruned from current set of features.That procedure is recursively repeated on the pruned set until the desired number of features to select is eventually reached.\n",
    "\n",
    "RFECV performs RFE in a cross-validation loop to find the optimal number of features."
   ]
  },
  {
   "cell_type": "markdown",
   "metadata": {},
   "source": [
    "### RFE with Perceptron"
   ]
  },
  {
   "cell_type": "code",
   "execution_count": 45,
   "metadata": {
    "scrolled": true
   },
   "outputs": [
    {
     "name": "stderr",
     "output_type": "stream",
     "text": [
      "/home/stepan/anaconda3/envs/gds/lib/python3.6/site-packages/sklearn/linear_model/stochastic_gradient.py:561: ConvergenceWarning: Maximum number of iteration reached before convergence. Consider increasing max_iter to improve the fit.\n",
      "  ConvergenceWarning)\n",
      "/home/stepan/anaconda3/envs/gds/lib/python3.6/site-packages/sklearn/linear_model/stochastic_gradient.py:561: ConvergenceWarning: Maximum number of iteration reached before convergence. Consider increasing max_iter to improve the fit.\n",
      "  ConvergenceWarning)\n",
      "/home/stepan/anaconda3/envs/gds/lib/python3.6/site-packages/sklearn/linear_model/stochastic_gradient.py:561: ConvergenceWarning: Maximum number of iteration reached before convergence. Consider increasing max_iter to improve the fit.\n",
      "  ConvergenceWarning)\n",
      "/home/stepan/anaconda3/envs/gds/lib/python3.6/site-packages/sklearn/linear_model/stochastic_gradient.py:561: ConvergenceWarning: Maximum number of iteration reached before convergence. Consider increasing max_iter to improve the fit.\n",
      "  ConvergenceWarning)\n",
      "/home/stepan/anaconda3/envs/gds/lib/python3.6/site-packages/sklearn/linear_model/stochastic_gradient.py:561: ConvergenceWarning: Maximum number of iteration reached before convergence. Consider increasing max_iter to improve the fit.\n",
      "  ConvergenceWarning)\n",
      "/home/stepan/anaconda3/envs/gds/lib/python3.6/site-packages/sklearn/linear_model/stochastic_gradient.py:561: ConvergenceWarning: Maximum number of iteration reached before convergence. Consider increasing max_iter to improve the fit.\n",
      "  ConvergenceWarning)\n",
      "/home/stepan/anaconda3/envs/gds/lib/python3.6/site-packages/sklearn/linear_model/stochastic_gradient.py:561: ConvergenceWarning: Maximum number of iteration reached before convergence. Consider increasing max_iter to improve the fit.\n",
      "  ConvergenceWarning)\n",
      "/home/stepan/anaconda3/envs/gds/lib/python3.6/site-packages/sklearn/linear_model/stochastic_gradient.py:561: ConvergenceWarning: Maximum number of iteration reached before convergence. Consider increasing max_iter to improve the fit.\n",
      "  ConvergenceWarning)\n",
      "/home/stepan/anaconda3/envs/gds/lib/python3.6/site-packages/sklearn/linear_model/stochastic_gradient.py:561: ConvergenceWarning: Maximum number of iteration reached before convergence. Consider increasing max_iter to improve the fit.\n",
      "  ConvergenceWarning)\n",
      "/home/stepan/anaconda3/envs/gds/lib/python3.6/site-packages/sklearn/linear_model/stochastic_gradient.py:561: ConvergenceWarning: Maximum number of iteration reached before convergence. Consider increasing max_iter to improve the fit.\n",
      "  ConvergenceWarning)\n",
      "/home/stepan/anaconda3/envs/gds/lib/python3.6/site-packages/sklearn/linear_model/stochastic_gradient.py:561: ConvergenceWarning: Maximum number of iteration reached before convergence. Consider increasing max_iter to improve the fit.\n",
      "  ConvergenceWarning)\n",
      "/home/stepan/anaconda3/envs/gds/lib/python3.6/site-packages/sklearn/linear_model/stochastic_gradient.py:561: ConvergenceWarning: Maximum number of iteration reached before convergence. Consider increasing max_iter to improve the fit.\n",
      "  ConvergenceWarning)\n",
      "/home/stepan/anaconda3/envs/gds/lib/python3.6/site-packages/sklearn/linear_model/stochastic_gradient.py:561: ConvergenceWarning: Maximum number of iteration reached before convergence. Consider increasing max_iter to improve the fit.\n",
      "  ConvergenceWarning)\n",
      "/home/stepan/anaconda3/envs/gds/lib/python3.6/site-packages/sklearn/linear_model/stochastic_gradient.py:561: ConvergenceWarning: Maximum number of iteration reached before convergence. Consider increasing max_iter to improve the fit.\n",
      "  ConvergenceWarning)\n",
      "/home/stepan/anaconda3/envs/gds/lib/python3.6/site-packages/sklearn/linear_model/stochastic_gradient.py:561: ConvergenceWarning: Maximum number of iteration reached before convergence. Consider increasing max_iter to improve the fit.\n",
      "  ConvergenceWarning)\n",
      "/home/stepan/anaconda3/envs/gds/lib/python3.6/site-packages/sklearn/linear_model/stochastic_gradient.py:561: ConvergenceWarning: Maximum number of iteration reached before convergence. Consider increasing max_iter to improve the fit.\n",
      "  ConvergenceWarning)\n",
      "/home/stepan/anaconda3/envs/gds/lib/python3.6/site-packages/sklearn/linear_model/stochastic_gradient.py:561: ConvergenceWarning: Maximum number of iteration reached before convergence. Consider increasing max_iter to improve the fit.\n",
      "  ConvergenceWarning)\n",
      "/home/stepan/anaconda3/envs/gds/lib/python3.6/site-packages/sklearn/linear_model/stochastic_gradient.py:561: ConvergenceWarning: Maximum number of iteration reached before convergence. Consider increasing max_iter to improve the fit.\n",
      "  ConvergenceWarning)\n",
      "/home/stepan/anaconda3/envs/gds/lib/python3.6/site-packages/sklearn/linear_model/stochastic_gradient.py:561: ConvergenceWarning: Maximum number of iteration reached before convergence. Consider increasing max_iter to improve the fit.\n",
      "  ConvergenceWarning)\n",
      "/home/stepan/anaconda3/envs/gds/lib/python3.6/site-packages/sklearn/linear_model/stochastic_gradient.py:561: ConvergenceWarning: Maximum number of iteration reached before convergence. Consider increasing max_iter to improve the fit.\n",
      "  ConvergenceWarning)\n",
      "/home/stepan/anaconda3/envs/gds/lib/python3.6/site-packages/sklearn/linear_model/stochastic_gradient.py:561: ConvergenceWarning: Maximum number of iteration reached before convergence. Consider increasing max_iter to improve the fit.\n",
      "  ConvergenceWarning)\n",
      "/home/stepan/anaconda3/envs/gds/lib/python3.6/site-packages/sklearn/linear_model/stochastic_gradient.py:561: ConvergenceWarning: Maximum number of iteration reached before convergence. Consider increasing max_iter to improve the fit.\n",
      "  ConvergenceWarning)\n",
      "/home/stepan/anaconda3/envs/gds/lib/python3.6/site-packages/sklearn/linear_model/stochastic_gradient.py:561: ConvergenceWarning: Maximum number of iteration reached before convergence. Consider increasing max_iter to improve the fit.\n",
      "  ConvergenceWarning)\n",
      "/home/stepan/anaconda3/envs/gds/lib/python3.6/site-packages/sklearn/linear_model/stochastic_gradient.py:561: ConvergenceWarning: Maximum number of iteration reached before convergence. Consider increasing max_iter to improve the fit.\n",
      "  ConvergenceWarning)\n",
      "/home/stepan/anaconda3/envs/gds/lib/python3.6/site-packages/sklearn/linear_model/stochastic_gradient.py:561: ConvergenceWarning: Maximum number of iteration reached before convergence. Consider increasing max_iter to improve the fit.\n",
      "  ConvergenceWarning)\n",
      "/home/stepan/anaconda3/envs/gds/lib/python3.6/site-packages/sklearn/linear_model/stochastic_gradient.py:561: ConvergenceWarning: Maximum number of iteration reached before convergence. Consider increasing max_iter to improve the fit.\n",
      "  ConvergenceWarning)\n",
      "/home/stepan/anaconda3/envs/gds/lib/python3.6/site-packages/sklearn/linear_model/stochastic_gradient.py:561: ConvergenceWarning: Maximum number of iteration reached before convergence. Consider increasing max_iter to improve the fit.\n",
      "  ConvergenceWarning)\n",
      "/home/stepan/anaconda3/envs/gds/lib/python3.6/site-packages/sklearn/linear_model/stochastic_gradient.py:561: ConvergenceWarning: Maximum number of iteration reached before convergence. Consider increasing max_iter to improve the fit.\n",
      "  ConvergenceWarning)\n",
      "/home/stepan/anaconda3/envs/gds/lib/python3.6/site-packages/sklearn/linear_model/stochastic_gradient.py:561: ConvergenceWarning: Maximum number of iteration reached before convergence. Consider increasing max_iter to improve the fit.\n",
      "  ConvergenceWarning)\n",
      "/home/stepan/anaconda3/envs/gds/lib/python3.6/site-packages/sklearn/linear_model/stochastic_gradient.py:561: ConvergenceWarning: Maximum number of iteration reached before convergence. Consider increasing max_iter to improve the fit.\n",
      "  ConvergenceWarning)\n",
      "/home/stepan/anaconda3/envs/gds/lib/python3.6/site-packages/sklearn/linear_model/stochastic_gradient.py:561: ConvergenceWarning: Maximum number of iteration reached before convergence. Consider increasing max_iter to improve the fit.\n",
      "  ConvergenceWarning)\n",
      "/home/stepan/anaconda3/envs/gds/lib/python3.6/site-packages/sklearn/linear_model/stochastic_gradient.py:561: ConvergenceWarning: Maximum number of iteration reached before convergence. Consider increasing max_iter to improve the fit.\n",
      "  ConvergenceWarning)\n",
      "/home/stepan/anaconda3/envs/gds/lib/python3.6/site-packages/sklearn/linear_model/stochastic_gradient.py:561: ConvergenceWarning: Maximum number of iteration reached before convergence. Consider increasing max_iter to improve the fit.\n",
      "  ConvergenceWarning)\n"
     ]
    },
    {
     "name": "stderr",
     "output_type": "stream",
     "text": [
      "/home/stepan/anaconda3/envs/gds/lib/python3.6/site-packages/sklearn/linear_model/stochastic_gradient.py:561: ConvergenceWarning: Maximum number of iteration reached before convergence. Consider increasing max_iter to improve the fit.\n",
      "  ConvergenceWarning)\n",
      "/home/stepan/anaconda3/envs/gds/lib/python3.6/site-packages/sklearn/linear_model/stochastic_gradient.py:561: ConvergenceWarning: Maximum number of iteration reached before convergence. Consider increasing max_iter to improve the fit.\n",
      "  ConvergenceWarning)\n",
      "/home/stepan/anaconda3/envs/gds/lib/python3.6/site-packages/sklearn/linear_model/stochastic_gradient.py:561: ConvergenceWarning: Maximum number of iteration reached before convergence. Consider increasing max_iter to improve the fit.\n",
      "  ConvergenceWarning)\n",
      "/home/stepan/anaconda3/envs/gds/lib/python3.6/site-packages/sklearn/linear_model/stochastic_gradient.py:561: ConvergenceWarning: Maximum number of iteration reached before convergence. Consider increasing max_iter to improve the fit.\n",
      "  ConvergenceWarning)\n",
      "/home/stepan/anaconda3/envs/gds/lib/python3.6/site-packages/sklearn/linear_model/stochastic_gradient.py:561: ConvergenceWarning: Maximum number of iteration reached before convergence. Consider increasing max_iter to improve the fit.\n",
      "  ConvergenceWarning)\n",
      "/home/stepan/anaconda3/envs/gds/lib/python3.6/site-packages/sklearn/linear_model/stochastic_gradient.py:561: ConvergenceWarning: Maximum number of iteration reached before convergence. Consider increasing max_iter to improve the fit.\n",
      "  ConvergenceWarning)\n",
      "/home/stepan/anaconda3/envs/gds/lib/python3.6/site-packages/sklearn/linear_model/stochastic_gradient.py:561: ConvergenceWarning: Maximum number of iteration reached before convergence. Consider increasing max_iter to improve the fit.\n",
      "  ConvergenceWarning)\n",
      "/home/stepan/anaconda3/envs/gds/lib/python3.6/site-packages/sklearn/linear_model/stochastic_gradient.py:561: ConvergenceWarning: Maximum number of iteration reached before convergence. Consider increasing max_iter to improve the fit.\n",
      "  ConvergenceWarning)\n",
      "/home/stepan/anaconda3/envs/gds/lib/python3.6/site-packages/sklearn/linear_model/stochastic_gradient.py:561: ConvergenceWarning: Maximum number of iteration reached before convergence. Consider increasing max_iter to improve the fit.\n",
      "  ConvergenceWarning)\n",
      "/home/stepan/anaconda3/envs/gds/lib/python3.6/site-packages/sklearn/linear_model/stochastic_gradient.py:561: ConvergenceWarning: Maximum number of iteration reached before convergence. Consider increasing max_iter to improve the fit.\n",
      "  ConvergenceWarning)\n",
      "/home/stepan/anaconda3/envs/gds/lib/python3.6/site-packages/sklearn/linear_model/stochastic_gradient.py:561: ConvergenceWarning: Maximum number of iteration reached before convergence. Consider increasing max_iter to improve the fit.\n",
      "  ConvergenceWarning)\n",
      "/home/stepan/anaconda3/envs/gds/lib/python3.6/site-packages/sklearn/linear_model/stochastic_gradient.py:561: ConvergenceWarning: Maximum number of iteration reached before convergence. Consider increasing max_iter to improve the fit.\n",
      "  ConvergenceWarning)\n",
      "/home/stepan/anaconda3/envs/gds/lib/python3.6/site-packages/sklearn/linear_model/stochastic_gradient.py:561: ConvergenceWarning: Maximum number of iteration reached before convergence. Consider increasing max_iter to improve the fit.\n",
      "  ConvergenceWarning)\n",
      "/home/stepan/anaconda3/envs/gds/lib/python3.6/site-packages/sklearn/linear_model/stochastic_gradient.py:561: ConvergenceWarning: Maximum number of iteration reached before convergence. Consider increasing max_iter to improve the fit.\n",
      "  ConvergenceWarning)\n",
      "/home/stepan/anaconda3/envs/gds/lib/python3.6/site-packages/sklearn/linear_model/stochastic_gradient.py:561: ConvergenceWarning: Maximum number of iteration reached before convergence. Consider increasing max_iter to improve the fit.\n",
      "  ConvergenceWarning)\n",
      "/home/stepan/anaconda3/envs/gds/lib/python3.6/site-packages/sklearn/linear_model/stochastic_gradient.py:561: ConvergenceWarning: Maximum number of iteration reached before convergence. Consider increasing max_iter to improve the fit.\n",
      "  ConvergenceWarning)\n",
      "/home/stepan/anaconda3/envs/gds/lib/python3.6/site-packages/sklearn/linear_model/stochastic_gradient.py:561: ConvergenceWarning: Maximum number of iteration reached before convergence. Consider increasing max_iter to improve the fit.\n",
      "  ConvergenceWarning)\n",
      "/home/stepan/anaconda3/envs/gds/lib/python3.6/site-packages/sklearn/linear_model/stochastic_gradient.py:561: ConvergenceWarning: Maximum number of iteration reached before convergence. Consider increasing max_iter to improve the fit.\n",
      "  ConvergenceWarning)\n",
      "/home/stepan/anaconda3/envs/gds/lib/python3.6/site-packages/sklearn/linear_model/stochastic_gradient.py:561: ConvergenceWarning: Maximum number of iteration reached before convergence. Consider increasing max_iter to improve the fit.\n",
      "  ConvergenceWarning)\n",
      "/home/stepan/anaconda3/envs/gds/lib/python3.6/site-packages/sklearn/linear_model/stochastic_gradient.py:561: ConvergenceWarning: Maximum number of iteration reached before convergence. Consider increasing max_iter to improve the fit.\n",
      "  ConvergenceWarning)\n",
      "/home/stepan/anaconda3/envs/gds/lib/python3.6/site-packages/sklearn/linear_model/stochastic_gradient.py:561: ConvergenceWarning: Maximum number of iteration reached before convergence. Consider increasing max_iter to improve the fit.\n",
      "  ConvergenceWarning)\n",
      "/home/stepan/anaconda3/envs/gds/lib/python3.6/site-packages/sklearn/linear_model/stochastic_gradient.py:561: ConvergenceWarning: Maximum number of iteration reached before convergence. Consider increasing max_iter to improve the fit.\n",
      "  ConvergenceWarning)\n",
      "/home/stepan/anaconda3/envs/gds/lib/python3.6/site-packages/sklearn/linear_model/stochastic_gradient.py:561: ConvergenceWarning: Maximum number of iteration reached before convergence. Consider increasing max_iter to improve the fit.\n",
      "  ConvergenceWarning)\n",
      "/home/stepan/anaconda3/envs/gds/lib/python3.6/site-packages/sklearn/linear_model/stochastic_gradient.py:561: ConvergenceWarning: Maximum number of iteration reached before convergence. Consider increasing max_iter to improve the fit.\n",
      "  ConvergenceWarning)\n",
      "/home/stepan/anaconda3/envs/gds/lib/python3.6/site-packages/sklearn/linear_model/stochastic_gradient.py:561: ConvergenceWarning: Maximum number of iteration reached before convergence. Consider increasing max_iter to improve the fit.\n",
      "  ConvergenceWarning)\n"
     ]
    },
    {
     "name": "stdout",
     "output_type": "stream",
     "text": [
      "Perceptron, eta=0.22 fit using RFE\n",
      "Optimal number of features : 4\n"
     ]
    },
    {
     "data": {
      "image/png": "[encoded data removed]",
      "text/plain": [
       "<Figure size 432x288 with 1 Axes>"
      ]
     },
     "metadata": {
      "needs_background": "light"
     },
     "output_type": "display_data"
    },
    {
     "name": "stdout",
     "output_type": "stream",
     "text": [
      "RFE fit, took, 397.96 seconds (6.63 minutes)\n"
     ]
    }
   ],
   "source": [
    "eta = 0.22\n",
    "model_name = \"Perceptron, eta={0}\".format(eta)\n",
    "ppn = Perceptron(max_iter=100, eta0=eta, random_state=random_state)\n",
    "fit_rfecv(ppn, X, y, model_name)"
   ]
  },
  {
   "cell_type": "markdown",
   "metadata": {},
   "source": [
    "### RFE with Decision Tree"
   ]
  },
  {
   "cell_type": "code",
   "execution_count": 46,
   "metadata": {},
   "outputs": [
    {
     "name": "stdout",
     "output_type": "stream",
     "text": [
      "Decision Tree (raw features, gini criterion, max_depth=16) fit using RFE\n",
      "Optimal number of features : 56\n"
     ]
    },
    {
     "data": {
      "image/png": "[encoded data removed]",
      "text/plain": [
       "<Figure size 432x288 with 1 Axes>"
      ]
     },
     "metadata": {
      "needs_background": "light"
     },
     "output_type": "display_data"
    },
    {
     "name": "stdout",
     "output_type": "stream",
     "text": [
      "RFE fit, took, 297.75 seconds (4.96 minutes)\n"
     ]
    }
   ],
   "source": [
    "max_depth = 16\n",
    "criterion = 'gini'\n",
    "model_name = 'Decision Tree (raw features, {0} criterion, max_depth={1})'.format(criterion, max_depth)\n",
    "tree = DecisionTreeClassifier(criterion=criterion, max_depth=max_depth, random_state=random_state)\n",
    "fit_rfecv(tree, X, y, model_name)"
   ]
  },
  {
   "cell_type": "markdown",
   "metadata": {},
   "source": [
    "### RFE with Random Forest"
   ]
  },
  {
   "cell_type": "code",
   "execution_count": 47,
   "metadata": {},
   "outputs": [
    {
     "name": "stdout",
     "output_type": "stream",
     "text": [
      "Random Forest (raw features, gini criterion, n_estimators=16) fit using RFE\n",
      "Optimal number of features : 49\n"
     ]
    },
    {
     "data": {
      "image/png": "[encoded data removed]",
      "text/plain": [
       "<Figure size 432x288 with 1 Axes>"
      ]
     },
     "metadata": {
      "needs_background": "light"
     },
     "output_type": "display_data"
    },
    {
     "name": "stdout",
     "output_type": "stream",
     "text": [
      "RFE fit, took, 238.22 seconds (3.97 minutes)\n"
     ]
    }
   ],
   "source": [
    "n_trees = 16\n",
    "criterion = 'gini'\n",
    "model_name = 'Random Forest (raw features, {0} criterion, n_estimators={1})'.format(criterion, n_trees)\n",
    "forest = RandomForestClassifier(criterion=criterion, n_estimators=n_trees, random_state=1, n_jobs=8)\n",
    "fit_rfecv(forest, X, y, model_name)"
   ]
  },
  {
   "cell_type": "markdown",
   "metadata": {},
   "source": [
    "## Sequential Backwards Selection (SBS) algorithm"
   ]
  },
  {
   "cell_type": "code",
   "execution_count": 65,
   "metadata": {},
   "outputs": [],
   "source": [
    "teranet_subset_name = '2012fillna'"
   ]
  },
  {
   "cell_type": "markdown",
   "metadata": {},
   "source": [
    "### SBS with Perceptron"
   ]
  },
  {
   "cell_type": "code",
   "execution_count": 49,
   "metadata": {},
   "outputs": [
    {
     "name": "stdout",
     "output_type": "stream",
     "text": [
      "Sequential Backwards Selection algorithm was applied. Took 882.33 seconds, (14.71 minutes).\n"
     ]
    },
    {
     "data": {
      "image/png": "[encoded data removed]",
      "text/plain": [
       "<Figure size 432x288 with 1 Axes>"
      ]
     },
     "metadata": {
      "needs_background": "light"
     },
     "output_type": "display_data"
    }
   ],
   "source": [
    "ppn = Perceptron(max_iter=100, eta0=0.01, random_state=1, n_jobs=8)\n",
    "k_features = 1\n",
    "model_name = \"Perceptron (normalized features)\"\n",
    "save_name = 'ppn'\n",
    "ppn_feats = fit_sbs(ppn, k_features, X_train_norm, y_train, output='save', \n",
    "            save_path='../../results/plots/sbs_{0}_{1}_kfeats_{2}.png'.format(subset_name, save_name, k_features),\n",
    "            title=\"SBS applied to {0},\\nk_features={1}\".format(model_name, k_features))"
   ]
  },
  {
   "cell_type": "markdown",
   "metadata": {},
   "source": [
    "#### Best features"
   ]
  },
  {
   "cell_type": "code",
   "execution_count": 50,
   "metadata": {},
   "outputs": [
    {
     "data": {
      "text/plain": [
       "Index(['pin_total_sales', 'xy_total_sales', 'xy_first_sale',\n",
       "       'xy_years_to_next_sale', 'da_days_since_last_sale', 'price_2016',\n",
       "       'pin_price_cum_sum', 'med_price_xy', 'price_to_med_year',\n",
       "       'outlier_y_10', 'Avg_HHinc', 'Pop_x', 'PopDens', 'Sgl_det',\n",
       "       'CarTrVan_p', 'Walk', 'Lbrfrc', 'Not_lbrfrc', 'Pop_y', 'FT_wrk',\n",
       "       'Jobs'],\n",
       "      dtype='object')"
      ]
     },
     "execution_count": 50,
     "metadata": {},
     "output_type": "execute_result"
    }
   ],
   "source": [
    "sbs_ppn_k = feat_cols[list(ppn_feats[-k])]\n",
    "sbs_ppn_k"
   ]
  },
  {
   "cell_type": "code",
   "execution_count": 79,
   "metadata": {},
   "outputs": [
    {
     "data": {
      "text/plain": [
       "False    40\n",
       "True     21\n",
       "Name: sbs_ppn, dtype: int64"
      ]
     },
     "execution_count": 79,
     "metadata": {},
     "output_type": "execute_result"
    }
   ],
   "source": [
    "subset_name = 'sbs_ppn'\n",
    "sel_feats_df = pd.DataFrame(sbs_ppn_k).rename(columns={0: 'var'})\n",
    "sel_feats_df[subset_name] = True\n",
    "\n",
    "feat_df = pd.merge(feat_df, sel_feats_df, how='left')\n",
    "feat_df[subset_name] = feat_df[subset_name].fillna(False)\n",
    "feat_df[subset_name].value_counts()"
   ]
  },
  {
   "cell_type": "markdown",
   "metadata": {},
   "source": [
    "### SBS with Random Forest"
   ]
  },
  {
   "cell_type": "code",
   "execution_count": 52,
   "metadata": {},
   "outputs": [
    {
     "name": "stdout",
     "output_type": "stream",
     "text": [
      "Sequential Backwards Selection algorithm was applied. Took 4,338.86 seconds, (72.31 minutes).\n"
     ]
    },
    {
     "data": {
      "image/png": "[encoded data removed]",
      "text/plain": [
       "<Figure size 432x288 with 1 Axes>"
      ]
     },
     "metadata": {
      "needs_background": "light"
     },
     "output_type": "display_data"
    }
   ],
   "source": [
    "k_features = 1\n",
    "n_trees = 16\n",
    "forest = RandomForestClassifier(criterion='gini', n_estimators=n_trees, random_state=1, n_jobs=12)\n",
    "model_name = 'Random Forest (raw features, {0} estimators)'.format(n_trees)\n",
    "save_name = 'forest{0}'.format(n_trees)\n",
    "rf_feats = fit_sbs(forest, k_features, X_train, y_train, output='save', \n",
    "                   save_path='../../results/plots/sbs_{0}_{1}_kfeats_{2}.png'.format(subset_name, save_name, k_features),\n",
    "                   title=\"SBS applied to {0},\\nk_features={1}\".format(model_name, k_features))"
   ]
  },
  {
   "cell_type": "markdown",
   "metadata": {},
   "source": [
    "#### Best features"
   ]
  },
  {
   "cell_type": "code",
   "execution_count": 80,
   "metadata": {},
   "outputs": [
    {
     "data": {
      "text/plain": [
       "Index(['xy_total_sales', 'xy_prev_sales', 'xy_years_since_last_sale',\n",
       "       'price_2016', 'xy_price_cum_sum', 'med_price_xy', 'price_to_med_year',\n",
       "       'outlier_y_20', 'Avg_HHinc', 'Avg_own_payt', 'Avg_val_dwel', 'Avg_rent',\n",
       "       'Pop_x', 'PopDens', 'Sgl_det', 'Sgl_att', 'CarTrVan_d', 'Lbrfrc', 'Stu',\n",
       "       'HH', 'Jobs'],\n",
       "      dtype='object')"
      ]
     },
     "execution_count": 80,
     "metadata": {},
     "output_type": "execute_result"
    }
   ],
   "source": [
    "sbs_forest_k = feat_cols[list(rf_feats[-k])]\n",
    "sbs_forest_k"
   ]
  },
  {
   "cell_type": "code",
   "execution_count": 81,
   "metadata": {},
   "outputs": [
    {
     "data": {
      "text/plain": [
       "Index(['xy_prev_sales', 'xy_years_since_last_sale', 'med_price_xy',\n",
       "       'price_to_med_year', 'Avg_own_payt', 'Avg_val_dwel', 'PopDens',\n",
       "       'Sgl_det', 'CarTrVan_d', 'HH'],\n",
       "      dtype='object')"
      ]
     },
     "execution_count": 81,
     "metadata": {},
     "output_type": "execute_result"
    }
   ],
   "source": [
    "sbs_forest_10 = feat_cols[list(rf_feats[-10])]\n",
    "sbs_forest_10"
   ]
  },
  {
   "cell_type": "code",
   "execution_count": 82,
   "metadata": {},
   "outputs": [
    {
     "data": {
      "text/plain": [
       "False    40\n",
       "True     21\n",
       "Name: sbs_forest, dtype: int64"
      ]
     },
     "execution_count": 82,
     "metadata": {},
     "output_type": "execute_result"
    }
   ],
   "source": [
    "subset_name = 'sbs_forest'\n",
    "sel_feats_df = pd.DataFrame(sbs_forest_k).rename(columns={0: 'var'})\n",
    "sel_feats_df[subset_name] = True\n",
    "\n",
    "feat_df = pd.merge(feat_df, sel_feats_df, how='left')\n",
    "feat_df[subset_name] = feat_df[subset_name].fillna(False)\n",
    "feat_df[subset_name].value_counts()"
   ]
  },
  {
   "cell_type": "markdown",
   "metadata": {},
   "source": [
    "## Summarize feature importance"
   ]
  },
  {
   "cell_type": "code",
   "execution_count": 83,
   "metadata": {},
   "outputs": [],
   "source": [
    "feat_df = feat_df.set_index('var')"
   ]
  },
  {
   "cell_type": "code",
   "execution_count": 84,
   "metadata": {},
   "outputs": [
    {
     "name": "stdout",
     "output_type": "stream",
     "text": [
      "15 features that were selected by at least 4 different methods:\n",
      "\n"
     ]
    },
    {
     "data": {
      "text/plain": [
       "Index(['xy_total_sales', 'xy_prev_sales', 'xy_first_sale',\n",
       "       'xy_years_since_last_sale', 'xy_years_to_next_sale', 'xy_price_cum_sum',\n",
       "       'med_price_xy', 'Avg_rent', 'PopDens', 'Dwel', 'DwelDens', 'Sgl_det',\n",
       "       'Apt_5plus', 'Not_lbrfrc', 'Jobs'],\n",
       "      dtype='object')"
      ]
     },
     "execution_count": 84,
     "metadata": {},
     "output_type": "execute_result"
    }
   ],
   "source": [
    "min_selections = 4\n",
    "mask1 = feat_df.sum(axis=1) >= 4\n",
    "top_feats = feat_cols[mask1]\n",
    "print(\"{0} features that were selected by at least {1} different methods:\\n\".format(len(top_feats), min_selections))\n",
    "top_feats"
   ]
  },
  {
   "cell_type": "code",
   "execution_count": 85,
   "metadata": {},
   "outputs": [
    {
     "data": {
      "image/png": "[encoded data removed]",
      "text/plain": [
       "<Figure size 576x864 with 1 Axes>"
      ]
     },
     "metadata": {
      "needs_background": "light"
     },
     "output_type": "display_data"
    }
   ],
   "source": [
    "highlight_top = len(top_feats)\n",
    "\n",
    "idx_order = feat_df.sum(axis=1).sort_values(ascending=False).index\n",
    "\n",
    "f, ax = plt.subplots(1, figsize=(8, 12))\n",
    "\n",
    "feat_df.loc[idx_order].astype('int').plot(kind='barh', stacked=True, ax=ax)\n",
    "\n",
    "ax.set_title(\"Summary of all Feature Subset Selection methods\")\n",
    "ax.set_ylabel(\"All features\")\n",
    "ax.set_xlabel(\"Number of times this feature ranked in top {0}\".format(highlight_top))\n",
    "ax.axhline(highlight_top - 0.5, color='red')\n",
    "ax.text(4, highlight_top, \"Top {0} features\".format(highlight_top))\n",
    "plt.savefig('../../results/plots/feature_selection_summary_{0}_kfeats_{1}.png'.format(teranet_subset_name, k), \n",
    "            dpi=300)"
   ]
  },
  {
   "cell_type": "code",
   "execution_count": 86,
   "metadata": {},
   "outputs": [
    {
     "data": {
      "image/png": "[encoded data removed]",
      "text/plain": [
       "<Figure size 432x288 with 1 Axes>"
      ]
     },
     "metadata": {
      "needs_background": "light"
     },
     "output_type": "display_data"
    }
   ],
   "source": [
    "feat_df.loc[top_feats].sum().sort_values(ascending=False).plot(kind='barh', \n",
    "                                        title='Top {0} features, selections by method'.format(len(top_feats)));"
   ]
  },
  {
   "cell_type": "markdown",
   "metadata": {},
   "source": [
    "## Top selected features"
   ]
  },
  {
   "cell_type": "code",
   "execution_count": 87,
   "metadata": {},
   "outputs": [],
   "source": [
    "top15f = ['xy_total_sales', 'xy_prev_sales', 'xy_first_sale',\n",
    "          'xy_years_since_last_sale', 'xy_years_to_next_sale', 'xy_price_cum_sum',\n",
    "          'med_price_xy', 'Avg_rent', 'PopDens', 'Dwel', 'DwelDens', 'Sgl_det',\n",
    "          'Apt_5plus', 'Not_lbrfrc', 'Jobs']"
   ]
  },
  {
   "cell_type": "code",
   "execution_count": 68,
   "metadata": {},
   "outputs": [
    {
     "data": {
      "image/png": "[encoded data removed]",
      "text/plain": [
       "<Figure size 576x576 with 1 Axes>"
      ]
     },
     "metadata": {
      "needs_background": "light"
     },
     "output_type": "display_data"
    }
   ],
   "source": [
    "idx_order = feat_df.loc[top15f].sum(axis=1).sort_values(ascending=False).index\n",
    "f, ax = plt.subplots(1, figsize=(8, 8))\n",
    "\n",
    "feat_df.loc[idx_order].astype('int').plot(kind='barh', stacked=True, ax=ax)\n",
    "\n",
    "ax.set_title(\"{0} features selected by at least {1} different methods\".format(len(top_feats), min_selections))\n",
    "ax.set_ylabel(\"Top {0} features\".format(len(top_feats)))\n",
    "ax.set_xlabel(\"Number of times this feature ranked in top {0}\".format(highlight_top))\n",
    "plt.savefig('../../results/plots/feature_selection_summary_{0}_kfeats_{1}_top.png'.format(teranet_subset_name, k), dpi=300)"
   ]
  }
 ],
 "metadata": {
  "kernelspec": {
   "display_name": "Python 3",
   "language": "python",
   "name": "python3"
  },
  "language_info": {
   "codemirror_mode": {
    "name": "ipython",
    "version": 3
   },
   "file_extension": ".py",
   "mimetype": "text/x-python",
   "name": "python",
   "nbconvert_exporter": "python",
   "pygments_lexer": "ipython3",
   "version": "3.6.9"
  }
 },
 "nbformat": 4,
 "nbformat_minor": 2
}
