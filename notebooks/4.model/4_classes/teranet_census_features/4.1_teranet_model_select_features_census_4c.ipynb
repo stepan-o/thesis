{
 "cells": [
  {
   "cell_type": "markdown",
   "metadata": {},
   "source": [
    "# GTHA housing market database\n",
    "# OSEMN methodology Step 4: Model\n",
    "# Predict land use from new features in Teranet\n",
    "# Manually selected features\n",
    "\n",
    "---\n",
    "\n",
    "This notebook describes _Step 4: Model_ of OSEMN methodology performed on the Teranet dataset."
   ]
  },
  {
   "cell_type": "markdown",
   "metadata": {},
   "source": [
    "## Import dependencies"
   ]
  },
  {
   "cell_type": "code",
   "execution_count": 1,
   "metadata": {},
   "outputs": [],
   "source": [
    "import numpy as np\n",
    "import matplotlib.pyplot as plt\n",
    "import matplotlib\n",
    "import seaborn as sns\n",
    "import pandas as pd\n",
    "import os\n",
    "from sklearn.model_selection import train_test_split\n",
    "from sklearn.preprocessing import StandardScaler, MinMaxScaler, LabelEncoder\n",
    "from sklearn.linear_model import Perceptron, LogisticRegression\n",
    "from sklearn.tree import DecisionTreeClassifier\n",
    "from sklearn.ensemble import RandomForestClassifier\n",
    "from sklearn.neighbors import KNeighborsClassifier\n",
    "from sklearn.metrics import accuracy_score\n",
    "from time import time\n",
    "\n",
    "sns.set_style(\"whitegrid\", {\"axes.grid\": True})"
   ]
  },
  {
   "cell_type": "code",
   "execution_count": 2,
   "metadata": {},
   "outputs": [],
   "source": [
    "import sys\n",
    "\n",
    "sys.path.append('../../src')\n",
    "\n",
    "from plot_utils import plot_hist\n",
    "from model_utils import plot_decision_regions, fit_model"
   ]
  },
  {
   "cell_type": "markdown",
   "metadata": {},
   "source": [
    "## Load Teranet data"
   ]
  },
  {
   "cell_type": "code",
   "execution_count": 3,
   "metadata": {},
   "outputs": [
    {
     "data": {
      "text/plain": [
       "['1.1_Teranet_DA.csv',\n",
       " '1.3_Teranet_DA_TAZ_PG_FSA.csv',\n",
       " '2_Teranet_consistent.csv',\n",
       " 'parcel16_epoi13.csv',\n",
       " '1.2_Teranet_DA_TAZ.csv',\n",
       " '4_Teranet_lu_encode.csv',\n",
       " '1.4_Teranet_DA_TAZ_FSA_LU_LUDMTI.csv',\n",
       " '1.4_Teranet_DA_TAZ_FSA_LU.csv',\n",
       " '.ipynb_checkpoints',\n",
       " 'ParcelLandUse.zip',\n",
       " 'ParcelLandUse',\n",
       " 'HHSaleHistory.csv',\n",
       " '3_Teranet_nonan_new_cols.csv',\n",
       " 'GTAjoinedLanduseSales']"
      ]
     },
     "execution_count": 3,
     "metadata": {},
     "output_type": "execute_result"
    }
   ],
   "source": [
    "data_path = '../../data/'\n",
    "teranet_path = data_path + 'teranet/'\n",
    "os.listdir(teranet_path)"
   ]
  },
  {
   "cell_type": "code",
   "execution_count": 4,
   "metadata": {},
   "outputs": [
    {
     "name": "stdout",
     "output_type": "stream",
     "text": [
      "----- DataFrame loaded\n",
      "in 92.16 seconds (1.54 minutes)\n",
      "with 5,188,513 rows\n",
      "and 78 columns\n",
      "-- Column names:\n",
      " Index(['transaction_id', 'lro_num', 'pin', 'consideration_amt',\n",
      "       'registration_date', 'postal_code', 'unitno', 'street_name',\n",
      "       'street_designation', 'street_direction', 'municipality',\n",
      "       'street_number', 'x', 'y', 'dauid', 'csduid', 'csdname', 'taz_o', 'fsa',\n",
      "       'pca_id', 'postal_code_dmti', 'pin_lu', 'landuse', 'prop_code',\n",
      "       'dmti_lu', 'street_name_raw', 'year', 'year_month', 'year3',\n",
      "       'census_year', 'census2001_year', 'tts_year', 'tts1991_year', 'xy',\n",
      "       'pin_total_sales', 'xy_total_sales', 'pin_prev_sales', 'xy_prev_sales',\n",
      "       'xy_first_sale', 'pin_years_since_last_sale',\n",
      "       'xy_years_since_last_sale', 'xy_years_to_next_sale',\n",
      "       'da_days_since_last_sale', 'da_years_since_last_sale',\n",
      "       'xy_sale_next_6m', 'price_2016', 'pin_price_cum_sum',\n",
      "       'xy_price_cum_sum', 'pin_price_pct_change', 'xy_price_pct_change',\n",
      "       'price_da_pct_change', 'med_price_xy', 'med_price_year',\n",
      "       'price_to_med_xy', 'price_to_med_year', 'outlier_y_3', 'outlier_y_5',\n",
      "       'outlier_y_10', 'outlier_y_20', 'outlier_xy_2', 'outlier_xy_4',\n",
      "       'outlier_xy_10', 'code', 'lu_class', 'luc_detached', 'luc_condo',\n",
      "       'luc_strata', 'luc_duplex', 'luc_townhouse', 'luc_mixuse',\n",
      "       'luc_underdeveloped', 'luc_mixedcomplex', 'luc_industrial',\n",
      "       'luc_commercial', 'lucr_house', 'lucr', 'lucr_condo', 'lucr_other'],\n",
      "      dtype='object')\n"
     ]
    }
   ],
   "source": [
    "t = time()\n",
    "\n",
    "teranet_df = pd.read_csv(teranet_path + '4_Teranet_lu_encode.csv',\n",
    "                         parse_dates=['registration_date'], low_memory=False)\n",
    "elapsed = time() - t\n",
    "print(\"----- DataFrame loaded\"\n",
    "      \"\\nin {0:,.2f} seconds ({1:.2f} minutes)\".format(elapsed, elapsed / 60) + \n",
    "      \"\\nwith {0:,} rows\\nand {1:,} columns\"\n",
    "      .format(teranet_df.shape[0], teranet_df.shape[1]) + \n",
    "      \"\\n-- Column names:\\n\", teranet_df.columns)"
   ]
  },
  {
   "cell_type": "markdown",
   "metadata": {},
   "source": [
    "## Load Census data"
   ]
  },
  {
   "cell_type": "code",
   "execution_count": 5,
   "metadata": {},
   "outputs": [
    {
     "data": {
      "text/plain": [
       "['da_census_income.csv',\n",
       " 'Census data availability.xlsx',\n",
       " 'da_census.xls',\n",
       " 'da_census_select_tidy.csv',\n",
       " 'da_census_income_shapefile',\n",
       " '.ipynb_checkpoints',\n",
       " 'da_census_select.csv']"
      ]
     },
     "execution_count": 5,
     "metadata": {},
     "output_type": "execute_result"
    }
   ],
   "source": [
    "census_path = data_path + 'da_census/'\n",
    "os.listdir(census_path)"
   ]
  },
  {
   "cell_type": "code",
   "execution_count": 6,
   "metadata": {},
   "outputs": [
    {
     "name": "stdout",
     "output_type": "stream",
     "text": [
      "----- DataFrame loaded\n",
      "in 0.14 seconds (0.00 minutes)\n",
      "with 36,728 rows\n",
      "and 32 columns\n",
      "-- Column names:\n",
      " Index(['DAUID', 'year', 'Avg_HHsize', 'Avg_HHinc', 'Avg_own_payt',\n",
      "       'Avg_val_dwel', 'Avg_rent', 'Pop', 'PopDens', 'Dwel', 'DwelDens',\n",
      "       'Sgl_det', 'Apt_5plus', 'Sgl_att', 'Owned', 'Rented', 'CarTrVan_d',\n",
      "       'CarTrVan_p', 'PT', 'Walk', 'Bike', 'Lbrfrc', 'Emp', 'Unemp',\n",
      "       'Not_lbrfrc', 'Employee', 'Self_emp', 'At_home', 'No_fix_wkpl',\n",
      "       'Usl_wkpl', 'Blue_cljob', 'White_cljob'],\n",
      "      dtype='object')\n"
     ]
    }
   ],
   "source": [
    "t = time()\n",
    "\n",
    "census_df = pd.read_csv(census_path + 'da_census_select_tidy.csv')\n",
    "elapsed = time() - t\n",
    "print(\"----- DataFrame loaded\"\n",
    "      \"\\nin {0:,.2f} seconds ({1:.2f} minutes)\".format(elapsed, elapsed / 60) + \n",
    "      \"\\nwith {0:,} rows\\nand {1:,} columns\"\n",
    "      .format(census_df.shape[0], census_df.shape[1]) + \n",
    "      \"\\n-- Column names:\\n\", census_df.columns)"
   ]
  },
  {
   "cell_type": "markdown",
   "metadata": {},
   "source": [
    "## Join Census data to Teranet data"
   ]
  },
  {
   "cell_type": "code",
   "execution_count": 7,
   "metadata": {},
   "outputs": [
    {
     "name": "stdout",
     "output_type": "stream",
     "text": [
      "----- Census variables were joined to the DataFrame\n",
      "in 0.14 seconds (0.00 minutes)\n",
      "with 5,188,513 rows\n",
      "and 108 columns\n",
      "-- Column names:\n",
      " Index(['transaction_id', 'lro_num', 'pin', 'consideration_amt',\n",
      "       'registration_date', 'postal_code', 'unitno', 'street_name',\n",
      "       'street_designation', 'street_direction',\n",
      "       ...\n",
      "       'Emp', 'Unemp', 'Not_lbrfrc', 'Employee', 'Self_emp', 'At_home',\n",
      "       'No_fix_wkpl', 'Usl_wkpl', 'Blue_cljob', 'White_cljob'],\n",
      "      dtype='object', length=108)\n"
     ]
    }
   ],
   "source": [
    "df = pd.merge(teranet_df, census_df, how='left',\n",
    "              left_on=['dauid', 'census2001_year'], right_on=['DAUID', 'year'])\n",
    "df = df.drop(['DAUID', 'year_y'], axis=1).rename(columns={'year_x': 'year'})\n",
    "print(\"----- Census variables were joined to the DataFrame\"\n",
    "      \"\\nin {0:,.2f} seconds ({1:.2f} minutes)\".format(elapsed, elapsed / 60) + \n",
    "      \"\\nwith {0:,} rows\\nand {1:,} columns\"\n",
    "      .format(df.shape[0], df.shape[1]) + \n",
    "      \"\\n-- Column names:\\n\", df.columns)"
   ]
  },
  {
   "cell_type": "markdown",
   "metadata": {},
   "source": [
    "## Take a train-test subset from Teranet records"
   ]
  },
  {
   "cell_type": "code",
   "execution_count": 8,
   "metadata": {},
   "outputs": [
    {
     "name": "stdout",
     "output_type": "stream",
     "text": [
      "205,341 records in the subset\n"
     ]
    }
   ],
   "source": [
    "year = 2012\n",
    "s = df.query('year == @year')\n",
    "print(\"{0:,} records in the subset\".format(len(s)))"
   ]
  },
  {
   "cell_type": "markdown",
   "metadata": {},
   "source": [
    "## Take validation subsets from Teranet records"
   ]
  },
  {
   "cell_type": "code",
   "execution_count": 9,
   "metadata": {},
   "outputs": [
    {
     "name": "stdout",
     "output_type": "stream",
     "text": [
      "219,130 records in the subset\n"
     ]
    }
   ],
   "source": [
    "year_val1 = 2011\n",
    "s_val1 = df.query('year == @year_val1')\n",
    "print(\"{0:,} records in the subset\".format(len(s_val1)))"
   ]
  },
  {
   "cell_type": "code",
   "execution_count": 10,
   "metadata": {},
   "outputs": [
    {
     "name": "stdout",
     "output_type": "stream",
     "text": [
      "207,686 records in the subset\n"
     ]
    }
   ],
   "source": [
    "year_val2 = 2013\n",
    "s_val2 = df.query('year == @year_val2')\n",
    "print(\"{0:,} records in the subset\".format(len(s_val2)))"
   ]
  },
  {
   "cell_type": "markdown",
   "metadata": {},
   "source": [
    "## Select 20 features with strongest correlations with target classes\n",
    "Features selected based on the exploration done in notebook `4.1_teranet_model_all_taz_census.ipynb`."
   ]
  },
  {
   "cell_type": "code",
   "execution_count": 11,
   "metadata": {},
   "outputs": [
    {
     "data": {
      "text/plain": [
       "Index(['transaction_id', 'lro_num', 'pin', 'consideration_amt',\n",
       "       'registration_date', 'postal_code', 'unitno', 'street_name',\n",
       "       'street_designation', 'street_direction',\n",
       "       ...\n",
       "       'Emp', 'Unemp', 'Not_lbrfrc', 'Employee', 'Self_emp', 'At_home',\n",
       "       'No_fix_wkpl', 'Usl_wkpl', 'Blue_cljob', 'White_cljob'],\n",
       "      dtype='object', length=108)"
      ]
     },
     "execution_count": 11,
     "metadata": {},
     "output_type": "execute_result"
    }
   ],
   "source": [
    "s.columns"
   ]
  },
  {
   "cell_type": "code",
   "execution_count": 12,
   "metadata": {},
   "outputs": [
    {
     "name": "stdout",
     "output_type": "stream",
     "text": [
      "124,574 rows in train-test subset, 142,947 rows in validation subset #1, 125,796 rows in validation subset #2\n"
     ]
    }
   ],
   "source": [
    "select_feats = ['xy_sale_next_6m', 'xy_years_to_next_sale', 'xy_years_since_last_sale', 'xy_total_sales',\n",
    "                'da_days_since_last_sale',\n",
    "                'Avg_HHsize', 'Avg_rent', 'Apt_5plus', 'Rented', 'PT', 'Dwel', 'Walk', 'Sgl_det',\n",
    "                'lucr_house', 'lucr', 'lucr_condo', 'lucr_other']\n",
    "s = s[select_feats]\n",
    "s_val1 = s_val1[select_feats]\n",
    "s_val2 = s_val2[select_feats]\n",
    "s = s.dropna()\n",
    "s_val1 = s_val1.dropna()\n",
    "s_val2 = s_val2.dropna()\n",
    "print(\"{0:,} rows in train-test subset, {1:,} rows in validation subset #1, {2:,} rows in validation subset #2\"\n",
    "      .format(len(s), len(s_val1), len(s_val2)))"
   ]
  },
  {
   "cell_type": "markdown",
   "metadata": {},
   "source": [
    "## Encode target"
   ]
  },
  {
   "cell_type": "code",
   "execution_count": 13,
   "metadata": {},
   "outputs": [
    {
     "name": "stdout",
     "output_type": "stream",
     "text": [
      "Land use encoded!\n"
     ]
    },
    {
     "data": {
      "text/plain": [
       "0    55171\n",
       "1    19014\n",
       "2    50389\n",
       "Name: lucr_e, dtype: int64"
      ]
     },
     "execution_count": 13,
     "metadata": {},
     "output_type": "execute_result"
    }
   ],
   "source": [
    "le = LabelEncoder()\n",
    "s['lucr_e'] = le.fit_transform(s['lucr'])\n",
    "s['lucr_house_e'] = le.fit_transform(s['lucr_house'])\n",
    "s['lucr_condo_e'] = le.fit_transform(s['lucr_condo'])\n",
    "s['lucr_other_e'] = le.fit_transform(s['lucr_other'])\n",
    "s = s.drop(['lucr', 'lucr_house', 'lucr_condo', 'lucr_other'], axis=1)\n",
    "print(\"Land use encoded!\")\n",
    "labels = {0: 'condo', 1: 'house', 2: 'other'}\n",
    "labels_list = ['condo', 'house', 'other']\n",
    "s['lucr_e'].value_counts().sort_index()"
   ]
  },
  {
   "cell_type": "code",
   "execution_count": 14,
   "metadata": {},
   "outputs": [
    {
     "name": "stdout",
     "output_type": "stream",
     "text": [
      "Land use encoded!\n"
     ]
    },
    {
     "data": {
      "text/plain": [
       "0    62273\n",
       "1    22582\n",
       "2    58092\n",
       "Name: lucr_e, dtype: int64"
      ]
     },
     "execution_count": 14,
     "metadata": {},
     "output_type": "execute_result"
    }
   ],
   "source": [
    "le = LabelEncoder()\n",
    "s_val1['lucr_e'] = le.fit_transform(s_val1['lucr'])\n",
    "s_val1['lucr_house_e'] = le.fit_transform(s_val1['lucr_house'])\n",
    "s_val1['lucr_condo_e'] = le.fit_transform(s_val1['lucr_condo'])\n",
    "s_val1['lucr_other_e'] = le.fit_transform(s_val1['lucr_other'])\n",
    "s_val1 = s_val1.drop(['lucr', 'lucr_house', 'lucr_condo', 'lucr_other'], axis=1)\n",
    "print(\"Land use encoded!\")\n",
    "s_val1['lucr_e'].value_counts().sort_index()"
   ]
  },
  {
   "cell_type": "code",
   "execution_count": 15,
   "metadata": {},
   "outputs": [
    {
     "name": "stdout",
     "output_type": "stream",
     "text": [
      "Land use encoded!\n"
     ]
    },
    {
     "data": {
      "text/plain": [
       "0    47969\n",
       "1    14488\n",
       "2    63339\n",
       "Name: lucr_e, dtype: int64"
      ]
     },
     "execution_count": 15,
     "metadata": {},
     "output_type": "execute_result"
    }
   ],
   "source": [
    "le = LabelEncoder()\n",
    "s_val2['lucr_e'] = le.fit_transform(s_val2['lucr'])\n",
    "s_val2['lucr_house_e'] = le.fit_transform(s_val2['lucr_house'])\n",
    "s_val2['lucr_condo_e'] = le.fit_transform(s_val2['lucr_condo'])\n",
    "s_val2['lucr_other_e'] = le.fit_transform(s_val2['lucr_other'])\n",
    "s_val2 = s_val2.drop(['lucr', 'lucr_house', 'lucr_condo', 'lucr_other'], axis=1)\n",
    "print(\"Land use encoded!\")\n",
    "s_val2['lucr_e'].value_counts().sort_index()"
   ]
  },
  {
   "cell_type": "code",
   "execution_count": 16,
   "metadata": {},
   "outputs": [
    {
     "data": {
      "text/plain": [
       "{0: 'condo', 1: 'house', 2: 'other'}"
      ]
     },
     "execution_count": 16,
     "metadata": {},
     "output_type": "execute_result"
    }
   ],
   "source": [
    "labels"
   ]
  },
  {
   "cell_type": "code",
   "execution_count": 17,
   "metadata": {},
   "outputs": [
    {
     "name": "stdout",
     "output_type": "stream",
     "text": [
      "----- Pearson correlation coefficient between features and target classes\n",
      "\n",
      "         strongest negative correlation (top 10):\n",
      "                          var      variable     value\n",
      "0            xy_sale_next_6m  lucr_house_e -0.832755\n",
      "6                   Avg_rent  lucr_house_e -0.392540\n",
      "14     xy_years_to_next_sale  lucr_condo_e -0.355234\n",
      "3             xy_total_sales  lucr_house_e -0.333183\n",
      "7                  Apt_5plus  lucr_house_e -0.326893\n",
      "8                     Rented  lucr_house_e -0.297857\n",
      "15  xy_years_since_last_sale  lucr_condo_e -0.293926\n",
      "9                         PT  lucr_house_e -0.255764\n",
      "10                      Dwel  lucr_house_e -0.255552\n",
      "28  xy_years_since_last_sale  lucr_other_e -0.227788 \n",
      "\n",
      "         strongest positive correlation (top 10):\n",
      "                          var      variable     value\n",
      "1      xy_years_to_next_sale  lucr_house_e  0.794749\n",
      "2   xy_years_since_last_sale  lucr_house_e  0.716835\n",
      "5                 Avg_HHsize  lucr_house_e  0.429735\n",
      "13           xy_sale_next_6m  lucr_condo_e  0.375426\n",
      "4    da_days_since_last_sale  lucr_house_e  0.339563\n",
      "12                   Sgl_det  lucr_house_e  0.331738\n",
      "26           xy_sale_next_6m  lucr_other_e  0.230243\n",
      "37                      Walk  lucr_other_e  0.226228\n",
      "20                 Apt_5plus  lucr_condo_e  0.223146\n",
      "23                      Dwel  lucr_condo_e  0.179920\n"
     ]
    }
   ],
   "source": [
    "house_corr = s.corr()['lucr_house_e'].reset_index().rename(columns={'index': 'var', 'variable': 'class'})\n",
    "condo_corr = s.corr()['lucr_condo_e'].reset_index().rename(columns={'index': 'var', 'variable': 'class'})\n",
    "other_corr = s.corr()['lucr_other_e'].reset_index().rename(columns={'index': 'var', 'variable': 'class'})\n",
    "\n",
    "targets_corr = pd.merge(pd.merge(house_corr, condo_corr, on='var'), other_corr, on='var')\n",
    "mask1 = targets_corr['var'].isin(['lucr_e', 'lucr_house_e', 'lucr_condo_e', 'lucr_other_e'])\n",
    "targets_corr = targets_corr[~mask1]\n",
    "targets_corr_tidy = pd.melt(targets_corr, id_vars='var').sort_values('var')\n",
    "\n",
    "print_top = 10\n",
    "print(\"----- Pearson correlation coefficient between features and target classes\"\n",
    "      \"\\n\\n         strongest negative correlation (top {0}):\\n\".format(print_top),\n",
    "      targets_corr_tidy.sort_values('value').head(print_top),\n",
    "      \"\\n\\n         strongest positive correlation (top {0}):\\n\".format(print_top),\n",
    "      targets_corr_tidy.sort_values('value', ascending=False).head(print_top))"
   ]
  },
  {
   "cell_type": "markdown",
   "metadata": {},
   "source": [
    "## Exploratory Data Analysis (EDA)"
   ]
  },
  {
   "cell_type": "code",
   "execution_count": 18,
   "metadata": {},
   "outputs": [
    {
     "data": {
      "image/png": "[encoded data removed]",
      "text/plain": [
       "<Figure size 720x576 with 1 Axes>"
      ]
     },
     "metadata": {
      "needs_background": "light"
     },
     "output_type": "display_data"
    }
   ],
   "source": [
    "f, ax = plt.subplots(1, figsize=(10, 8))\n",
    "sns.barplot(x=\"value\", y=\"var\", hue=\"variable\", data=targets_corr_tidy,\n",
    "            palette=\"muted\", ax=ax)\n",
    "ax.set_ylabel(\"Features\", fontsize=16)\n",
    "ax.set_xlabel(\"Correlation coefficient\", fontsize=16)\n",
    "ax.set_title(\"Pearson correlation coefficient between features and target classes\", fontsize=16)\n",
    "ax.grid(True)\n",
    "ax.legend(loc='center right', fontsize=14)\n",
    "plt.xticks(fontsize=14)\n",
    "plt.savefig(\"results/plots/select_features_lucr_corr.png\", dpi=300, bbox_inches='tight')"
   ]
  },
  {
   "cell_type": "markdown",
   "metadata": {},
   "source": [
    "## Prepare features"
   ]
  },
  {
   "cell_type": "markdown",
   "metadata": {},
   "source": [
    "#### Select features and target"
   ]
  },
  {
   "cell_type": "code",
   "execution_count": 19,
   "metadata": {},
   "outputs": [
    {
     "data": {
      "text/plain": [
       "Index(['xy_sale_next_6m', 'xy_years_to_next_sale', 'xy_years_since_last_sale',\n",
       "       'xy_total_sales', 'da_days_since_last_sale', 'Avg_HHsize', 'Avg_rent',\n",
       "       'Apt_5plus', 'Rented', 'PT', 'Dwel', 'Walk', 'Sgl_det'],\n",
       "      dtype='object')"
      ]
     },
     "execution_count": 19,
     "metadata": {},
     "output_type": "execute_result"
    }
   ],
   "source": [
    "target_cols = 4\n",
    "s.columns[:-target_cols]"
   ]
  },
  {
   "cell_type": "code",
   "execution_count": 20,
   "metadata": {},
   "outputs": [
    {
     "name": "stdout",
     "output_type": "stream",
     "text": [
      "Features and target selected.\n"
     ]
    }
   ],
   "source": [
    "X = s.iloc[:, :-target_cols].values\n",
    "y = s['lucr_e'].values\n",
    "print(\"Features and target selected.\")"
   ]
  },
  {
   "cell_type": "code",
   "execution_count": 21,
   "metadata": {},
   "outputs": [
    {
     "name": "stdout",
     "output_type": "stream",
     "text": [
      "Features and target selected.\n"
     ]
    }
   ],
   "source": [
    "X_val1 = s_val1.iloc[:, :-target_cols].values\n",
    "y_val1 = s_val1['lucr_e'].values\n",
    "print(\"Features and target selected.\")"
   ]
  },
  {
   "cell_type": "code",
   "execution_count": 22,
   "metadata": {},
   "outputs": [
    {
     "name": "stdout",
     "output_type": "stream",
     "text": [
      "Features and target selected.\n"
     ]
    }
   ],
   "source": [
    "X_val2 = s_val2.iloc[:, :-target_cols].values\n",
    "y_val2 = s_val2['lucr_e'].values\n",
    "print(\"Features and target selected.\")"
   ]
  },
  {
   "cell_type": "markdown",
   "metadata": {},
   "source": [
    "#### Perform train-test split"
   ]
  },
  {
   "cell_type": "code",
   "execution_count": 23,
   "metadata": {},
   "outputs": [
    {
     "name": "stdout",
     "output_type": "stream",
     "text": [
      "Performed train-test split.\n"
     ]
    }
   ],
   "source": [
    "X_train, X_test, y_train, y_test = train_test_split(X, y, test_size=0.3, random_state=1, stratify=y)\n",
    "print(\"Performed train-test split.\")"
   ]
  },
  {
   "cell_type": "code",
   "execution_count": 24,
   "metadata": {},
   "outputs": [
    {
     "data": {
      "text/plain": [
       "87201"
      ]
     },
     "execution_count": 24,
     "metadata": {},
     "output_type": "execute_result"
    }
   ],
   "source": [
    "len(X_train)"
   ]
  },
  {
   "cell_type": "code",
   "execution_count": 25,
   "metadata": {},
   "outputs": [
    {
     "data": {
      "text/plain": [
       "87201"
      ]
     },
     "execution_count": 25,
     "metadata": {},
     "output_type": "execute_result"
    }
   ],
   "source": [
    "len(y_train)"
   ]
  },
  {
   "cell_type": "code",
   "execution_count": 26,
   "metadata": {},
   "outputs": [
    {
     "data": {
      "text/plain": [
       "37373"
      ]
     },
     "execution_count": 26,
     "metadata": {},
     "output_type": "execute_result"
    }
   ],
   "source": [
    "len(X_test)"
   ]
  },
  {
   "cell_type": "code",
   "execution_count": 27,
   "metadata": {},
   "outputs": [
    {
     "data": {
      "text/plain": [
       "37373"
      ]
     },
     "execution_count": 27,
     "metadata": {},
     "output_type": "execute_result"
    }
   ],
   "source": [
    "len(y_test)"
   ]
  },
  {
   "cell_type": "code",
   "execution_count": 28,
   "metadata": {},
   "outputs": [
    {
     "name": "stdout",
     "output_type": "stream",
     "text": [
      "Labels counts in y: [55171 19014 50389]\n",
      "Labels counts in y_train: [38619 13310 35272]\n",
      "Labels counts in y_test: [16552  5704 15117]\n",
      "Labels counts in y_val1: [62273 22582 58092]\n",
      "Labels counts in y_val2: [47969 14488 63339]\n"
     ]
    }
   ],
   "source": [
    "print('Labels counts in y:', np.bincount(y))\n",
    "print('Labels counts in y_train:', np.bincount(y_train))\n",
    "print('Labels counts in y_test:', np.bincount(y_test))\n",
    "print('Labels counts in y_val1:', np.bincount(y_val1))\n",
    "print('Labels counts in y_val2:', np.bincount(y_val2))"
   ]
  },
  {
   "cell_type": "markdown",
   "metadata": {},
   "source": [
    "#### Standardize features"
   ]
  },
  {
   "cell_type": "code",
   "execution_count": 29,
   "metadata": {},
   "outputs": [
    {
     "name": "stdout",
     "output_type": "stream",
     "text": [
      "Input features were standardized.\n"
     ]
    }
   ],
   "source": [
    "sc = StandardScaler()\n",
    "sc.fit(X_train)\n",
    "X_train_std = sc.transform(X_train)\n",
    "X_test_std = sc.transform(X_test)\n",
    "print(\"Input features were standardized.\")"
   ]
  },
  {
   "cell_type": "code",
   "execution_count": 30,
   "metadata": {},
   "outputs": [
    {
     "name": "stdout",
     "output_type": "stream",
     "text": [
      "Input features were standardized.\n"
     ]
    }
   ],
   "source": [
    "X_val1_std = sc.transform(X_val1)\n",
    "print(\"Input features were standardized.\")"
   ]
  },
  {
   "cell_type": "code",
   "execution_count": 31,
   "metadata": {},
   "outputs": [
    {
     "name": "stdout",
     "output_type": "stream",
     "text": [
      "Input features were standardized.\n"
     ]
    }
   ],
   "source": [
    "X_val2_std = sc.transform(X_val2)\n",
    "print(\"Input features were standardized.\")"
   ]
  },
  {
   "cell_type": "markdown",
   "metadata": {},
   "source": [
    "#### Normalize features"
   ]
  },
  {
   "cell_type": "code",
   "execution_count": 32,
   "metadata": {},
   "outputs": [
    {
     "name": "stdout",
     "output_type": "stream",
     "text": [
      "Input features were normalized.\n"
     ]
    }
   ],
   "source": [
    "sc = MinMaxScaler()\n",
    "sc.fit(X_train)\n",
    "X_train_norm = sc.transform(X_train)\n",
    "X_test_norm = sc.transform(X_test)\n",
    "print(\"Input features were normalized.\")"
   ]
  },
  {
   "cell_type": "code",
   "execution_count": 33,
   "metadata": {},
   "outputs": [
    {
     "name": "stdout",
     "output_type": "stream",
     "text": [
      "Input features were normalized.\n"
     ]
    }
   ],
   "source": [
    "X_val1_norm = sc.transform(X_val1)\n",
    "print(\"Input features were normalized.\")"
   ]
  },
  {
   "cell_type": "code",
   "execution_count": 34,
   "metadata": {},
   "outputs": [
    {
     "name": "stdout",
     "output_type": "stream",
     "text": [
      "Input features were normalized.\n"
     ]
    }
   ],
   "source": [
    "X_val2_norm = sc.transform(X_val2)\n",
    "print(\"Input features were normalized.\")"
   ]
  },
  {
   "cell_type": "markdown",
   "metadata": {},
   "source": [
    "#### Recombine inputs and targets"
   ]
  },
  {
   "cell_type": "code",
   "execution_count": 35,
   "metadata": {},
   "outputs": [
    {
     "name": "stdout",
     "output_type": "stream",
     "text": [
      "Input and target recombined.\n"
     ]
    }
   ],
   "source": [
    "X_combined_std = np.vstack((X_train_std, X_test_std))\n",
    "X_combined_norm = np.vstack((X_train_norm, X_test_norm))\n",
    "y_combined = np.hstack((y_train, y_test))\n",
    "print(\"Input and target recombined.\")"
   ]
  },
  {
   "cell_type": "markdown",
   "metadata": {},
   "source": [
    "### Train and test classification algorithms"
   ]
  },
  {
   "cell_type": "markdown",
   "metadata": {},
   "source": [
    "#### Perceptron learning algorithm"
   ]
  },
  {
   "cell_type": "code",
   "execution_count": 36,
   "metadata": {},
   "outputs": [
    {
     "name": "stdout",
     "output_type": "stream",
     "text": [
      "\n",
      "Perceptron (raw features) fit, took 0.88 seconds (0.01 minutes)\n",
      "accuracy: train=0.62, test=0.62, validation #1=0.64, validation #2=0.65\n",
      "\n",
      "Perceptron (standardized features) fit, took 0.20 seconds (0.00 minutes)\n",
      "accuracy: train=0.53, test=0.52, validation #1=0.51, validation #2=0.52\n",
      "\n",
      "Perceptron (normalized features) fit, took 0.23 seconds (0.00 minutes)\n",
      "accuracy: train=0.62, test=0.62, validation #1=0.62, validation #2=0.64\n"
     ]
    }
   ],
   "source": [
    "model_name = 'Perceptron (raw features)'\n",
    "ppn = Perceptron(max_iter=100, eta0=0.01, random_state=1)\n",
    "fit_model(ppn, model_name, X_train, y_train, X_test, y_test, X_val1, y_val1, X_val2, y_val2)\n",
    "\n",
    "model_name = 'Perceptron (standardized features)'\n",
    "ppn = Perceptron(max_iter=100, eta0=0.01, random_state=1)\n",
    "fit_model(ppn, model_name, X_train_std, y_train, X_test_std, y_test, X_val1_std, y_val1, X_val2_std, y_val2)\n",
    "\n",
    "model_name = 'Perceptron (normalized features)'\n",
    "ppn = Perceptron(max_iter=100, eta0=0.01, random_state=1)\n",
    "fit_model(ppn, model_name, X_train_norm, y_train, X_test_norm, y_test, X_val1_norm, y_val1, X_val2_norm, y_val2)"
   ]
  },
  {
   "cell_type": "markdown",
   "metadata": {},
   "source": [
    "#### Logistic regression"
   ]
  },
  {
   "cell_type": "code",
   "execution_count": 37,
   "metadata": {},
   "outputs": [
    {
     "name": "stderr",
     "output_type": "stream",
     "text": [
      "/home/stepan/anaconda3/envs/gds/lib/python3.6/site-packages/sklearn/linear_model/logistic.py:947: ConvergenceWarning: lbfgs failed to converge. Increase the number of iterations.\n",
      "  \"of iterations.\", ConvergenceWarning)\n"
     ]
    },
    {
     "name": "stdout",
     "output_type": "stream",
     "text": [
      "\n",
      "Logistic regression (raw features) fit, took 2.00 seconds (0.03 minutes)\n",
      "accuracy: train=0.72, test=0.71, validation #1=0.70, validation #2=0.67\n"
     ]
    },
    {
     "name": "stderr",
     "output_type": "stream",
     "text": [
      "/home/stepan/anaconda3/envs/gds/lib/python3.6/site-packages/sklearn/linear_model/logistic.py:947: ConvergenceWarning: lbfgs failed to converge. Increase the number of iterations.\n",
      "  \"of iterations.\", ConvergenceWarning)\n"
     ]
    },
    {
     "name": "stdout",
     "output_type": "stream",
     "text": [
      "\n",
      "Logistic regression (standardized features) fit, took 1.23 seconds (0.02 minutes)\n",
      "accuracy: train=0.72, test=0.72, validation #1=0.70, validation #2=0.70\n"
     ]
    },
    {
     "name": "stderr",
     "output_type": "stream",
     "text": [
      "/home/stepan/anaconda3/envs/gds/lib/python3.6/site-packages/sklearn/linear_model/logistic.py:947: ConvergenceWarning: lbfgs failed to converge. Increase the number of iterations.\n",
      "  \"of iterations.\", ConvergenceWarning)\n"
     ]
    },
    {
     "name": "stdout",
     "output_type": "stream",
     "text": [
      "\n",
      "Logistic regression (normalized features) fit, took 1.21 seconds (0.02 minutes)\n",
      "accuracy: train=0.68, test=0.68, validation #1=0.64, validation #2=0.57\n"
     ]
    },
    {
     "data": {
      "image/png": "[encoded data removed]",
      "text/plain": [
       "<Figure size 432x288 with 1 Axes>"
      ]
     },
     "metadata": {
      "needs_background": "light"
     },
     "output_type": "display_data"
    }
   ],
   "source": [
    "model_name = 'Logistic regression (raw features)'\n",
    "lr = LogisticRegression(C=100.0, random_state=1, solver='lbfgs', multi_class='auto', max_iter=50)\n",
    "fit_model(lr, model_name, X_train, y_train, X_test, y_test, X_val1, y_val1, X_val2, y_val2)\n",
    "\n",
    "model_name = 'Logistic regression (standardized features)'\n",
    "lr = LogisticRegression(C=100.0, random_state=1, solver='lbfgs', multi_class='auto', max_iter=50)\n",
    "lr_coef = fit_model(lr, model_name, X_train_std, y_train, X_test_std, y_test, X_val1_std, y_val1, X_val2_std, y_val2,\n",
    "                    return_coefs=True)\n",
    "plt.barh(s.columns[:-target_cols], lr_coef)\n",
    "plt.title(\"{0} model coefficients\".format(model_name))\n",
    "\n",
    "model_name = 'Logistic regression (normalized features)'\n",
    "lr = LogisticRegression(C=100.0, random_state=1, solver='lbfgs', multi_class='auto', max_iter=50)\n",
    "fit_model(lr, model_name, X_train_norm, y_train, X_test_norm, y_test, X_val1_std, y_val1, X_val2_std, y_val2)"
   ]
  },
  {
   "cell_type": "code",
   "execution_count": 38,
   "metadata": {},
   "outputs": [
    {
     "name": "stdout",
     "output_type": "stream",
     "text": [
      "\n",
      "Logistic regression, 1000 iterations (standardized features) fit, took 7.68 seconds (0.13 minutes)\n",
      "accuracy: train=0.72, test=0.72, validation #1=0.71, validation #2=0.70\n"
     ]
    },
    {
     "data": {
      "text/plain": [
       "Text(0.5, 1.0, 'Logistic regression, 1000 iterations (standardized features) model coefficients')"
      ]
     },
     "execution_count": 38,
     "metadata": {},
     "output_type": "execute_result"
    },
    {
     "data": {
      "image/png": "[encoded data removed]",
      "text/plain": [
       "<Figure size 432x288 with 1 Axes>"
      ]
     },
     "metadata": {
      "needs_background": "light"
     },
     "output_type": "display_data"
    }
   ],
   "source": [
    "model_name = 'Logistic regression, 1000 iterations (standardized features)'\n",
    "lr = LogisticRegression(C=100.0, random_state=1, solver='lbfgs', multi_class='auto', max_iter=1000)\n",
    "lr_coef = fit_model(lr, model_name, X_train_std, y_train, X_test_std, y_test, X_val1_std, y_val1, X_val2_std, y_val2,\n",
    "                    return_coefs=True)\n",
    "plt.barh(s.columns[:-target_cols], lr_coef)\n",
    "plt.title(\"{0} model coefficients\".format(model_name))"
   ]
  },
  {
   "cell_type": "code",
   "execution_count": 39,
   "metadata": {},
   "outputs": [
    {
     "name": "stdout",
     "output_type": "stream",
     "text": [
      "\n",
      "Logistic regression with L1 regularization, C=1.0 (raw features) fit, took 5.41 seconds (0.09 minutes)\n",
      "accuracy: train=0.72, test=0.73, validation #1=0.72, validation #2=0.71\n"
     ]
    },
    {
     "name": "stderr",
     "output_type": "stream",
     "text": [
      "/home/stepan/anaconda3/envs/gds/lib/python3.6/site-packages/sklearn/svm/base.py:929: ConvergenceWarning: Liblinear failed to converge, increase the number of iterations.\n",
      "  \"the number of iterations.\", ConvergenceWarning)\n"
     ]
    },
    {
     "name": "stdout",
     "output_type": "stream",
     "text": [
      "\n",
      "Logistic regression with L1 regularization, C=1.0 (standardized features) fit, took 57.00 seconds (0.95 minutes)\n",
      "accuracy: train=0.72, test=0.72, validation #1=0.72, validation #2=0.71\n",
      "\n",
      "Logistic regression with L1 regularization, C=1.0 (normalized features) fit, took 5.92 seconds (0.10 minutes)\n",
      "accuracy: train=0.72, test=0.72, validation #1=0.38, validation #2=0.34\n"
     ]
    },
    {
     "data": {
      "image/png": "[encoded data removed]",
      "text/plain": [
       "<Figure size 576x576 with 1 Axes>"
      ]
     },
     "metadata": {
      "needs_background": "light"
     },
     "output_type": "display_data"
    }
   ],
   "source": [
    "c = 1.0\n",
    "model_name = 'Logistic regression with L1 regularization, C={0} (raw features)'.format(c)\n",
    "lr = LogisticRegression(penalty='l1', C=c, random_state=1, solver='liblinear', multi_class='auto', max_iter=50)\n",
    "fit_model(lr, model_name, X_train, y_train, X_test, y_test, X_val1, y_val1, X_val2, y_val2)\n",
    "\n",
    "model_name = 'Logistic regression with L1 regularization, C={0} (standardized features)'.format(c)\n",
    "lr = LogisticRegression(penalty='l1', C=c, random_state=1, solver='liblinear', multi_class='auto', max_iter=50)\n",
    "lr_coef = fit_model(lr, model_name, X_train_std, y_train, X_test_std, y_test, X_val1_std, y_val1, X_val2_std, y_val2,\n",
    "                    return_coefs=True)\n",
    "\n",
    "# plot coefficients\n",
    "plt.figure(figsize=(8, 8))\n",
    "plt.barh(s.columns[:-target_cols], lr_coef)\n",
    "plt.title(\"{0} model coefficients\".format(model_name))\n",
    "\n",
    "model_name = 'Logistic regression with L1 regularization, C={0} (normalized features)'.format(c)\n",
    "lr = LogisticRegression(penalty='l1', C=c, random_state=1, solver='liblinear', multi_class='auto', max_iter=50)\n",
    "fit_model(lr, model_name, X_train_norm, y_train, X_test_norm, y_test, X_val1_std, y_val1, X_val2_std, y_val2)"
   ]
  },
  {
   "cell_type": "markdown",
   "metadata": {},
   "source": [
    "#### Decision Tree"
   ]
  },
  {
   "cell_type": "code",
   "execution_count": 40,
   "metadata": {},
   "outputs": [
    {
     "name": "stdout",
     "output_type": "stream",
     "text": [
      "\n",
      "Decision Tree (raw features) fit, took 0.75 seconds (0.01 minutes)\n",
      "accuracy: train=0.75, test=0.75, validation #1=0.70, validation #2=0.66\n",
      "\n",
      "Decision Tree (standardized features) fit, took 0.22 seconds (0.00 minutes)\n",
      "accuracy: train=0.75, test=0.75, validation #1=0.70, validation #2=0.66\n",
      "\n",
      "Decision Tree (normalized features) fit, took 0.22 seconds (0.00 minutes)\n",
      "accuracy: train=0.75, test=0.75, validation #1=0.70, validation #2=0.66\n"
     ]
    }
   ],
   "source": [
    "model_name = 'Decision Tree (raw features)'\n",
    "tree = DecisionTreeClassifier(criterion='gini', max_depth=4, random_state=1)\n",
    "fit_model(tree, model_name, X_train, y_train, X_test, y_test, X_val1, y_val1, X_val2, y_val2)\n",
    "\n",
    "model_name = 'Decision Tree (standardized features)'\n",
    "tree = DecisionTreeClassifier(criterion='gini', max_depth=4, random_state=1)\n",
    "fit_model(tree, model_name, X_train_std, y_train, X_test_std, y_test, X_val1_std, y_val1, X_val2_std, y_val2)\n",
    "\n",
    "model_name = 'Decision Tree (normalized features)'\n",
    "tree = DecisionTreeClassifier(criterion='gini', max_depth=4, random_state=1)\n",
    "fit_model(tree, model_name, X_train_norm, y_train, X_test_norm, y_test, X_val1_norm, y_val1, X_val2_norm, y_val2)"
   ]
  },
  {
   "cell_type": "markdown",
   "metadata": {},
   "source": [
    "#### Random Forest"
   ]
  },
  {
   "cell_type": "code",
   "execution_count": 41,
   "metadata": {},
   "outputs": [
    {
     "name": "stdout",
     "output_type": "stream",
     "text": [
      "\n",
      "Random Forest (raw features) fit, took 1.98 seconds (0.03 minutes)\n",
      "accuracy: train=1.00, test=0.98, validation #1=0.97, validation #2=0.82\n",
      "\n",
      "Random Forest (standardized features) fit, took 1.74 seconds (0.03 minutes)\n",
      "accuracy: train=1.00, test=0.98, validation #1=0.97, validation #2=0.82\n",
      "\n",
      "Random Forest (normalized features) fit, took 1.52 seconds (0.03 minutes)\n",
      "accuracy: train=1.00, test=0.98, validation #1=0.97, validation #2=0.82\n"
     ]
    }
   ],
   "source": [
    "model_name = 'Random Forest (raw features)'\n",
    "forest = RandomForestClassifier(criterion='gini', n_estimators=25, random_state=1, n_jobs=8)\n",
    "fit_model(forest, model_name, X_train, y_train, X_test, y_test, X_val1, y_val1, X_val2, y_val2)\n",
    "\n",
    "model_name = 'Random Forest (standardized features)'\n",
    "forest = RandomForestClassifier(criterion='gini', n_estimators=25, random_state=1, n_jobs=8)\n",
    "fit_model(forest, model_name, X_train_std, y_train, X_test_std, y_test, X_val1_std, y_val1, X_val2_std, y_val2)\n",
    "\n",
    "model_name = 'Random Forest (normalized features)'\n",
    "forest = RandomForestClassifier(criterion='gini', n_estimators=25, random_state=1, n_jobs=8)\n",
    "fit_model(forest, model_name, X_train_norm, y_train, X_test_norm, y_test, X_val1_norm, y_val1, X_val2_norm, y_val2)"
   ]
  },
  {
   "cell_type": "markdown",
   "metadata": {},
   "source": [
    "#### K-nearest neighbors"
   ]
  },
  {
   "cell_type": "code",
   "execution_count": 42,
   "metadata": {},
   "outputs": [
    {
     "name": "stdout",
     "output_type": "stream",
     "text": [
      "\n",
      "K-nearest neighbors (raw features) fit, took 34.68 seconds (0.58 minutes)\n",
      "accuracy: train=0.98, test=0.97, validation #1=0.96, validation #2=0.86\n",
      "\n",
      "K-nearest neighbors (standardized features) fit, took 69.64 seconds (1.16 minutes)\n",
      "accuracy: train=0.97, test=0.95, validation #1=0.95, validation #2=0.85\n",
      "\n",
      "K-nearest neighbors (normalized features) fit, took 67.03 seconds (1.12 minutes)\n",
      "accuracy: train=0.97, test=0.96, validation #1=0.95, validation #2=0.85\n"
     ]
    }
   ],
   "source": [
    "model_name = 'K-nearest neighbors (raw features)'\n",
    "knn = KNeighborsClassifier(n_neighbors=5, p=2, metric='minkowski')\n",
    "fit_model(knn, model_name, X_train, y_train, X_test, y_test, X_val1, y_val1, X_val2, y_val2)\n",
    "\n",
    "model_name = 'K-nearest neighbors (standardized features)'\n",
    "knn = KNeighborsClassifier(n_neighbors=5, p=2, metric='minkowski')\n",
    "fit_model(knn, model_name, X_train_std, y_train, X_test_std, y_test, X_val1_std, y_val1, X_val2_std, y_val2)\n",
    "\n",
    "model_name = 'K-nearest neighbors (normalized features)'\n",
    "knn = KNeighborsClassifier(n_neighbors=5, p=2, metric='minkowski')\n",
    "fit_model(knn, model_name, X_train_norm, y_train, X_test_norm, y_test, X_val1_norm, y_val1, X_val2_norm, y_val2)"
   ]
  }
 ],
 "metadata": {
  "kernelspec": {
   "display_name": "Python 3",
   "language": "python",
   "name": "python3"
  },
  "language_info": {
   "codemirror_mode": {
    "name": "ipython",
    "version": 3
   },
   "file_extension": ".py",
   "mimetype": "text/x-python",
   "name": "python",
   "nbconvert_exporter": "python",
   "pygments_lexer": "ipython3",
   "version": "3.6.9"
  }
 },
 "nbformat": 4,
 "nbformat_minor": 2
}
