{
 "cells": [
  {
   "cell_type": "markdown",
   "metadata": {
    "pycharm": {
     "name": "#%% md\n"
    }
   },
   "source": [
    "# GTHA housing market database\n",
    "# OSEMN methodology Step 2: Scrub\n",
    "# Step 2.3 Spatial join of Teranet points with parcel-level land use\n",
    "\n",
    "---\n",
    "\n",
    "This notebook describes Step 2.3 (part of _Step 2: Scrub_ of OSEMN methodology) performed on the Teranet dataset.\n",
    "\n",
    "Step 2.3 involves the spatial join of Teranet points with parcel-level land use.\n",
    "\n",
    "Previous steps included: \n",
    "\n",
    "* Step 2.1 \n",
    "\n",
    "    * the spatial join between the Teranet points and the polygons of GTHA Dissemination Areas (DAs)\n",
    "    \n",
    "    * During step 2.1, Teranet records whose coordinates fall outside of the GTHA boundary (as defined by the DA geometry) have been filtered out (6,803,691 of the original 9,039,241 Teranet records remain in the dataset)\n",
    "     \n",
    "    * In addition to that, three new columns (`OBJECTID`, `DAUID`, and `CSDNAME`) derived from DA attributes have been added to each Teranet transaction\n",
    "\n",
    "---\n",
    "\n",
    "For description of OSEMN methodology, see `methodology/0.osemn/osemn.pdf`.\n",
    "\n",
    "For background information, description of the Teranet dataset, and its attributes, see `methodology/1.obtain/obtain.pdf`.\n",
    "\n",
    "For description of _Step 2: Scrub_ of OSEMN methodology, see `methodology/2.scrub/scrub.pdf`.\n",
    "\n",
    "For description of the cleanup plan for Teranet dataset, see `methodology/2.scrub/teranet_cleanup_plan.pdf`.\n",
    "\n",
    "For description of Step 2.1 of the cleanup process, see `notebooks/2.scrub/2.1_teranet_gtha_spatial_join.ipynb`.\n",
    "\n",
    "\n",
    "## Import dependencies"
   ]
  },
  {
   "cell_type": "code",
   "execution_count": 1,
   "metadata": {
    "pycharm": {
     "is_executing": false,
     "name": "#%%\n"
    }
   },
   "outputs": [],
   "source": [
    "%matplotlib inline\n",
    "import pandas as pd \n",
    "import geopandas as gpd\n",
    "import os\n",
    "from shapely.geometry import Point\n",
    "from time import time"
   ]
  },
  {
   "cell_type": "code",
   "execution_count": 2,
   "metadata": {
    "pycharm": {
     "is_executing": false,
     "name": "#%%\n"
    }
   },
   "outputs": [
    {
     "data": {
      "text/plain": [
       "['3_Teranet_new_cols.csv',\n",
       " 'epoi_gtha13',\n",
       " '2_Teranet_consistent.csv',\n",
       " '1.2_Teranet_DA_TAZ_cols.csv',\n",
       " '1.1_Teranet_DA_cols.csv',\n",
       " '1.3_Teranet_DA_TAZ_LU.csv',\n",
       " 'ParcelLandUse.zip',\n",
       " 'ParcelLandUse',\n",
       " 'HHSaleHistory.csv',\n",
       " '3_Teranet_nonan_new_cols.csv',\n",
       " 'GTAjoinedLanduseSales']"
      ]
     },
     "execution_count": 2,
     "metadata": {},
     "output_type": "execute_result"
    }
   ],
   "source": [
    "data_path = '../../data/'\n",
    "teranet_path = data_path + 'teranet/'\n",
    "os.listdir(teranet_path)"
   ]
  },
  {
   "cell_type": "code",
   "execution_count": 3,
   "metadata": {
    "pycharm": {
     "is_executing": false,
     "name": "#%%\n"
    }
   },
   "outputs": [
    {
     "data": {
      "text/plain": [
       "['GTA_land_use_code.txt',\n",
       " 'GTAparcel16LU12.shx',\n",
       " 'with_epoi',\n",
       " 'GTAparcel16LU12.prj',\n",
       " 'GTAparcel16LU12.cpg',\n",
       " 'GTAparcel16LU12.shp',\n",
       " 'GTAparcel16LU12.dbf']"
      ]
     },
     "execution_count": 3,
     "metadata": {},
     "output_type": "execute_result"
    }
   ],
   "source": [
    "data_path = '../../data/'\n",
    "gta_lu_path = data_path + 'teranet/ParcelLandUse/GTA/'\n",
    "os.listdir(gta_lu_path)"
   ]
  },
  {
   "cell_type": "code",
   "execution_count": 4,
   "metadata": {
    "pycharm": {
     "is_executing": false,
     "name": "#%%\n"
    }
   },
   "outputs": [
    {
     "data": {
      "text/plain": [
       "['Hparcel16LU10.prj',\n",
       " 'Halmilton_Land_Use_Codes_2009_Original.pdf',\n",
       " 'with_epoi',\n",
       " 'HalLanduse_converted.csv',\n",
       " 'Hparcel16LU10.cpg',\n",
       " 'Hparcel16LU10.shp',\n",
       " 'Hparcel16LU10.dbf',\n",
       " 'Hparcel16LU10.shx']"
      ]
     },
     "execution_count": 4,
     "metadata": {},
     "output_type": "execute_result"
    }
   ],
   "source": [
    "ham_lu_path = data_path + 'teranet/ParcelLandUse/Halmilton/'\n",
    "os.listdir(ham_lu_path)"
   ]
  },
  {
   "cell_type": "markdown",
   "metadata": {
    "pycharm": {
     "name": "#%% md\n"
    }
   },
   "source": [
    "## Load geometry of land use"
   ]
  },
  {
   "cell_type": "code",
   "execution_count": 5,
   "metadata": {
    "pycharm": {
     "is_executing": false
    },
    "scrolled": false
   },
   "outputs": [
    {
     "name": "stdout",
     "output_type": "stream",
     "text": [
      "----- GeoDataFrame loaded\n",
      "in 123.62 seconds (2.06 minutes)\n",
      "with 1,490,138 rows\n",
      "and 13 columns\n",
      "-- Column names:\n",
      " Index(['FID_1', 'PIN', 'SHAPE_Leng', 'SHAPE_Area', 'FID_2', 'OBJECTID',\n",
      "       'PIN_1', 'municipali', 'LANDUSE', 'LengthM', 'AreaM2', 'Distance',\n",
      "       'geometry'],\n",
      "      dtype='object')\n",
      "Taking the subset with columns\n",
      ": ['PIN', 'LANDUSE', 'geometry']\n",
      "\n",
      "-- New column names:\n",
      " Index(['PIN', 'LANDUSE', 'geometry'], dtype='object')\n"
     ]
    },
    {
     "data": {
      "image/svg+xml": [
       "<svg xmlns=\"http://www.w3.org/2000/svg\" xmlns:xlink=\"http://www.w3.org/1999/xlink\" width=\"100.0\" height=\"100.0\" viewBox=\"1380362.9895703124 5511370.786384277 37.098435058724135 15.872055664658546\" preserveAspectRatio=\"xMinYMin meet\"><g transform=\"matrix(1,0,0,-1,0,11022757.444824219)\"><path fill-rule=\"evenodd\" fill=\"#66cc99\" stroke=\"#555555\" stroke-width=\"0.7419687011744827\" opacity=\"0.6\" d=\"M 1380364.8424072268,5511385.284423828 L 1380398.7139892578,5511381.011230469 L 1380398.2996215823,5511372.160400391 L 1380364.3635864258,5511375.098022461 L 1380364.7864379885,5511384.081604004 L 1380364.8424072268,5511385.284423828 z\" /></g></svg>"
      ],
      "text/plain": [
       "<shapely.geometry.polygon.Polygon at 0x7fd73055a860>"
      ]
     },
     "execution_count": 5,
     "metadata": {},
     "output_type": "execute_result"
    }
   ],
   "source": [
    "t = time()\n",
    "lu_gta_gdf = gpd.read_file(gta_lu_path + 'GTAparcel16LU12.shp')\n",
    "elapsed = time() - t\n",
    "\n",
    "print(\"----- GeoDataFrame loaded\"\n",
    "      \"\\nin {0:.2f} seconds ({1:.2f} minutes)\".format(elapsed, elapsed / 60) + \n",
    "      \"\\nwith {0:,} rows\\nand {1:,} columns\"\n",
    "      .format(lu_gta_gdf.shape[0], lu_gta_gdf.shape[1]) + \n",
    "      \"\\n-- Column names:\\n\", lu_gta_gdf.columns)\n",
    "\n",
    "cols = ['PIN', 'LANDUSE', 'geometry']\n",
    "\n",
    "print(\"Taking the subset with columns\\n:\", cols)\n",
    "\n",
    "lu_gta_gdf = lu_gta_gdf[cols]\n",
    "\n",
    "print(\"\\n-- New column names:\\n\", lu_gta_gdf.columns)\n",
    "     \n",
    "# lu_gta_gdf.plot(); # plotting the whole GeoDataFrame can take a very long time\n",
    "lu_gta_gdf.iloc[0].geometry"
   ]
  },
  {
   "cell_type": "code",
   "execution_count": 6,
   "metadata": {
    "pycharm": {
     "is_executing": false
    },
    "scrolled": false
   },
   "outputs": [
    {
     "name": "stdout",
     "output_type": "stream",
     "text": [
      "----- GeoDataFrame loaded\n",
      "in 13.97 seconds (0.23 minutes)\n",
      "with 174,729 rows\n",
      "and 13 columns\n",
      "-- Column names:\n",
      " Index(['FID_1', 'PIN', 'SHAPE_Area', 'OBJECTID', 'FRONTAGE', 'DEPTH',\n",
      "       'PROP_CODE', 'SITE_AREA', 'PIN_1', 'ID', 'Shape_Le_1', 'Shape_Ar_1',\n",
      "       'geometry'],\n",
      "      dtype='object')\n",
      "Taking the subset with columns\n",
      ": ['PIN', 'PROP_CODE', 'geometry']\n",
      "\n",
      "-- New column names:\n",
      " Index(['PIN', 'PROP_CODE', 'geometry'], dtype='object')\n"
     ]
    },
    {
     "data": {
      "image/svg+xml": [
       "<svg xmlns=\"http://www.w3.org/2000/svg\" xmlns:xlink=\"http://www.w3.org/1999/xlink\" width=\"100.0\" height=\"100.0\" viewBox=\"1354310.092878418 5440160.977705078 22.65549072250724 51.44943603500724\" preserveAspectRatio=\"xMinYMin meet\"><g transform=\"matrix(1,0,0,-1,0,10880373.404846191)\"><path fill-rule=\"evenodd\" fill=\"#66cc99\" stroke=\"#555555\" stroke-width=\"1.0289887207001447\" opacity=\"0.6\" d=\"M 1354323.998413086,5440210.521606445 L 1354325.814819336,5440210.045593262 L 1354330.8428344727,5440208.727416992 L 1354318.84362793,5440162.883239746 L 1354311.998413086,5440164.6748046875 L 1354323.998413086,5440210.521606445 z\" /></g></svg>"
      ],
      "text/plain": [
       "<shapely.geometry.polygon.Polygon at 0x7fd730564c88>"
      ]
     },
     "execution_count": 6,
     "metadata": {},
     "output_type": "execute_result"
    }
   ],
   "source": [
    "t = time()\n",
    "lu_ham_gdf = gpd.read_file(ham_lu_path + 'Hparcel16LU10.shp')\n",
    "elapsed = time() - t\n",
    "\n",
    "print(\"----- GeoDataFrame loaded\"\n",
    "      \"\\nin {0:.2f} seconds ({1:.2f} minutes)\".format(elapsed, elapsed / 60) + \n",
    "      \"\\nwith {0:,} rows\\nand {1:,} columns\"\n",
    "      .format(lu_ham_gdf.shape[0], lu_ham_gdf.shape[1]) + \n",
    "      \"\\n-- Column names:\\n\", lu_ham_gdf.columns)\n",
    "\n",
    "cols = ['PIN', 'PROP_CODE', 'geometry']\n",
    "\n",
    "print(\"Taking the subset with columns\\n:\", cols)\n",
    "\n",
    "lu_ham_gdf = lu_ham_gdf[cols]\n",
    "\n",
    "print(\"\\n-- New column names:\\n\", lu_ham_gdf.columns)\n",
    "     \n",
    "# lu_gta_gdf.plot(); # plotting the whole GeoDataFrame can take a very long time\n",
    "lu_ham_gdf.iloc[0].geometry"
   ]
  },
  {
   "cell_type": "markdown",
   "metadata": {
    "pycharm": {
     "name": "#%% md\n"
    }
   },
   "source": [
    "## Load Teranet data"
   ]
  },
  {
   "cell_type": "code",
   "execution_count": 7,
   "metadata": {
    "pycharm": {
     "is_executing": false,
     "name": "#%%\n"
    }
   },
   "outputs": [
    {
     "name": "stderr",
     "output_type": "stream",
     "text": [
      "/home/stepan/anaconda3/envs/gds/lib/python3.6/site-packages/IPython/core/interactiveshell.py:3058: DtypeWarning: Columns (9) have mixed types. Specify dtype option on import or set low_memory=False.\n",
      "  interactivity=interactivity, compiler=compiler, result=result)\n"
     ]
    },
    {
     "name": "stdout",
     "output_type": "stream",
     "text": [
      "----- DataFrame loaded\n",
      "in 19.71 seconds\n",
      "with 6,803,756 rows\n",
      "and 19 columns\n",
      "-- Column names:\n",
      " Index(['lro_num', 'pin', 'consideration_amt', 'registration_date',\n",
      "       'POSTAL_CODE', 'PROVINCE', 'UNITNO', 'STREET_NAME',\n",
      "       'STREET_DESIGNATION', 'STREET_DIRECTION', 'MUNICIPALITY',\n",
      "       'STREET_SUFFIX', 'STREET_NUMBER', 'X', 'Y', 'DAUID', 'CSDUID',\n",
      "       'CSDNAME', 'TAZ_O'],\n",
      "      dtype='object')\n",
      "\n",
      "----- Geometry generated from 'X' and 'Y' pairs, GeoDataFrame created!\n",
      "in 95.75 seconds (1.60 minutes)\n",
      "with 6,803,756 rows\n",
      "and 20 columns\n",
      "-- Column names:\n",
      " Index(['lro_num', 'pin', 'consideration_amt', 'registration_date',\n",
      "       'POSTAL_CODE', 'PROVINCE', 'UNITNO', 'STREET_NAME',\n",
      "       'STREET_DESIGNATION', 'STREET_DIRECTION', 'MUNICIPALITY',\n",
      "       'STREET_SUFFIX', 'STREET_NUMBER', 'X', 'Y', 'DAUID', 'CSDUID',\n",
      "       'CSDNAME', 'TAZ_O', 'geometry'],\n",
      "      dtype='object')\n",
      "\n",
      "----- CRS dictionary for WGS84 added to geo data frame 'teranet_gdf'!\n"
     ]
    }
   ],
   "source": [
    "t = time()\n",
    "teranet_df = pd.read_csv(teranet_path + '1.2_Teranet_DA_TAZ_cols.csv')\n",
    "elapsed = time() - t\n",
    "print(\"----- DataFrame loaded\"\n",
    "      \"\\nin {0:.2f} seconds\".format(elapsed) + \n",
    "      \"\\nwith {0:,} rows\\nand {1:,} columns\"\n",
    "      .format(teranet_df.shape[0], teranet_df.shape[1]) + \n",
    "      \"\\n-- Column names:\\n\", teranet_df.columns)\n",
    "\n",
    "t = time()\n",
    "# combine values in columns 'x' and 'y' into a POINT geometry object\n",
    "geometry = [Point(xy) for xy in zip(teranet_df['X'], teranet_df['Y'])]\n",
    "# generate a new GeoDataFrame by adding point geometry to data frame 'teranet_sales_data'\n",
    "teranet_gdf = gpd.GeoDataFrame(teranet_df, geometry=geometry)\n",
    "elapsed = time() - t\n",
    "print(\"\\n----- Geometry generated from 'X' and 'Y' pairs, GeoDataFrame created!\"\n",
    "      \"\\nin {0:.2f} seconds ({1:.2f} minutes)\".format(elapsed, elapsed / 60) + \n",
    "      \"\\nwith {0:,} rows\\nand {1:,} columns\"\n",
    "      .format(teranet_gdf.shape[0], teranet_gdf.shape[1]) + \n",
    "      \"\\n-- Column names:\\n\", teranet_gdf.columns)\n",
    "\n",
    "# add CRS for WGS84 (lat-long) to GeoDataFrame with Teranet records\n",
    "teranet_gdf.crs = {'proj': 'latlong', \n",
    "                   'ellps': 'WGS84', \n",
    "                   'datum': 'WGS84', \n",
    "                   'no_defs': True}\n",
    "print(\"\\n----- CRS dictionary for WGS84 added to geo data frame 'teranet_gdf'!\")"
   ]
  },
  {
   "cell_type": "markdown",
   "metadata": {
    "pycharm": {
     "name": "#%% md\n"
    }
   },
   "source": [
    "## Perform the spatial join of Teranet points with DA polygons\n",
    "### Validate projections"
   ]
  },
  {
   "cell_type": "code",
   "execution_count": 8,
   "metadata": {
    "pycharm": {
     "is_executing": false,
     "name": "#%%\n"
    }
   },
   "outputs": [
    {
     "data": {
      "text/plain": [
       "{'proj': 'latlong', 'ellps': 'WGS84', 'datum': 'WGS84', 'no_defs': True}"
      ]
     },
     "execution_count": 8,
     "metadata": {},
     "output_type": "execute_result"
    }
   ],
   "source": [
    "teranet_gdf.crs"
   ]
  },
  {
   "cell_type": "code",
   "execution_count": 9,
   "metadata": {
    "pycharm": {
     "is_executing": false,
     "name": "#%%\n"
    },
    "scrolled": true
   },
   "outputs": [
    {
     "data": {
      "text/plain": [
       "{'init': 'epsg:5320'}"
      ]
     },
     "execution_count": 9,
     "metadata": {},
     "output_type": "execute_result"
    }
   ],
   "source": [
    "lu_gta_gdf.crs"
   ]
  },
  {
   "cell_type": "code",
   "execution_count": 10,
   "metadata": {
    "pycharm": {
     "is_executing": false,
     "name": "#%%\n"
    },
    "scrolled": true
   },
   "outputs": [
    {
     "data": {
      "text/plain": [
       "{'init': 'epsg:5320'}"
      ]
     },
     "execution_count": 10,
     "metadata": {},
     "output_type": "execute_result"
    }
   ],
   "source": [
    "lu_ham_gdf.crs"
   ]
  },
  {
   "cell_type": "markdown",
   "metadata": {},
   "source": [
    "### Convert Land Use CRS to EPSG:4326"
   ]
  },
  {
   "cell_type": "code",
   "execution_count": 11,
   "metadata": {},
   "outputs": [
    {
     "name": "stdout",
     "output_type": "stream",
     "text": [
      "New CRS:\n",
      " {'init': 'epsg:4326', 'no_defs': True} \n",
      "took 221.61 seconds (3.69 minutes)\n"
     ]
    }
   ],
   "source": [
    "t = time()\n",
    "lu_gta_gdf = lu_gta_gdf.to_crs(epsg=4326)\n",
    "elapsed = time() - t\n",
    "print(\"New CRS:\\n\", lu_gta_gdf.crs, \"\\ntook {0:.2f} seconds ({1:.2f} minutes)\".format(elapsed, elapsed / 60))"
   ]
  },
  {
   "cell_type": "code",
   "execution_count": 12,
   "metadata": {},
   "outputs": [
    {
     "name": "stdout",
     "output_type": "stream",
     "text": [
      "New CRS:\n",
      " {'init': 'epsg:4326', 'no_defs': True} \n",
      "took 25.23 seconds (0.42 minutes)\n"
     ]
    }
   ],
   "source": [
    "t = time()\n",
    "lu_ham_gdf = lu_ham_gdf.to_crs(epsg=4326)\n",
    "elapsed = time() - t\n",
    "print(\"New CRS:\\n\", lu_ham_gdf.crs, \"\\ntook {0:.2f} seconds ({1:.2f} minutes)\".format(elapsed, elapsed / 60))"
   ]
  },
  {
   "cell_type": "markdown",
   "metadata": {},
   "source": [
    "### Perform the spatial join\n",
    ">Note: EPSG:4326 and WGS 84 represent the [same projection](https://spatialreference.org/ref/epsg/wgs-84/)."
   ]
  },
  {
   "cell_type": "code",
   "execution_count": 13,
   "metadata": {
    "pycharm": {
     "is_executing": true
    }
   },
   "outputs": [
    {
     "name": "stderr",
     "output_type": "stream",
     "text": [
      "/home/stepan/anaconda3/envs/gds/lib/python3.6/site-packages/geopandas/tools/sjoin.py:44: UserWarning: CRS of frames being joined does not match!\n",
      "  warn('CRS of frames being joined does not match!')\n"
     ]
    },
    {
     "name": "stdout",
     "output_type": "stream",
     "text": [
      "\n",
      "----- Spatial join completed, new GeoDataFrame created\n",
      "in 1163.14 seconds (19.39 minutes)\n",
      "with 6,803,767 rows\n",
      "and 22 columns\n",
      "-- Column names:\n",
      " Index(['lro_num', 'pin', 'consideration_amt', 'registration_date',\n",
      "       'POSTAL_CODE', 'PROVINCE', 'UNITNO', 'STREET_NAME',\n",
      "       'STREET_DESIGNATION', 'STREET_DIRECTION', 'MUNICIPALITY',\n",
      "       'STREET_SUFFIX', 'STREET_NUMBER', 'X', 'Y', 'DAUID', 'CSDUID',\n",
      "       'CSDNAME', 'TAZ_O', 'geometry', 'PIN', 'LANDUSE'],\n",
      "      dtype='object')\n"
     ]
    }
   ],
   "source": [
    "t = time()\n",
    "teranet_lu_gta_gdf = gpd.sjoin(teranet_gdf, lu_gta_gdf, \n",
    "                               how='left', op='within')\n",
    "teranet_lu_gta_gdf = teranet_lu_gta_gdf.drop('index_right', axis=1)\n",
    "elapsed = time() - t\n",
    "print(\"\\n----- Spatial join completed, new GeoDataFrame created\"\n",
    "      \"\\nin {0:.2f} seconds ({1:.2f} minutes)\".format(elapsed, elapsed / 60) + \n",
    "      \"\\nwith {0:,} rows\\nand {1:,} columns\"\n",
    "      .format(teranet_lu_gta_gdf.shape[0], teranet_lu_gta_gdf.shape[1]) + \n",
    "      \"\\n-- Column names:\\n\", teranet_lu_gta_gdf.columns)"
   ]
  },
  {
   "cell_type": "code",
   "execution_count": 14,
   "metadata": {
    "pycharm": {
     "is_executing": true
    }
   },
   "outputs": [
    {
     "name": "stdout",
     "output_type": "stream",
     "text": [
      "\n",
      "----- Spatial join completed, new GeoDataFrame created\n",
      "in 378.43 seconds (6.31 minutes)\n",
      "with 6,803,767 rows\n",
      "and 25 columns\n",
      "-- Column names:\n",
      " Index(['lro_num', 'pin', 'consideration_amt', 'registration_date',\n",
      "       'POSTAL_CODE', 'PROVINCE', 'UNITNO', 'STREET_NAME',\n",
      "       'STREET_DESIGNATION', 'STREET_DIRECTION', 'MUNICIPALITY',\n",
      "       'STREET_SUFFIX', 'STREET_NUMBER', 'X', 'Y', 'DAUID', 'CSDUID',\n",
      "       'CSDNAME', 'TAZ_O', 'geometry', 'PIN_left', 'LANDUSE', 'index_right',\n",
      "       'PIN_right', 'PROP_CODE'],\n",
      "      dtype='object')\n"
     ]
    }
   ],
   "source": [
    "t = time()\n",
    "teranet_lu_gta_ham_gdf = gpd.sjoin(teranet_lu_gta_gdf, lu_ham_gdf, \n",
    "                                   how='left', op='within')\n",
    "elapsed = time() - t\n",
    "print(\"\\n----- Spatial join completed, new GeoDataFrame created\"\n",
    "      \"\\nin {0:.2f} seconds ({1:.2f} minutes)\".format(elapsed, elapsed / 60) + \n",
    "      \"\\nwith {0:,} rows\\nand {1:,} columns\"\n",
    "      .format(teranet_lu_gta_ham_gdf.shape[0], teranet_lu_gta_ham_gdf.shape[1]) + \n",
    "      \"\\n-- Column names:\\n\", teranet_lu_gta_ham_gdf.columns)"
   ]
  },
  {
   "cell_type": "markdown",
   "metadata": {},
   "source": [
    "### Correct PINs\n",
    "#### Overlap of values in `PIN_left` and `PIN_right`\n",
    "Since the first spatial join affected Teranet records located in the GTA (GTA Land Use shapefile was being joined), and the second spatial join corresponded to Teranet records located in Hamilton (Hamilton Land Use shapefile was being joined), presence of values in resultant columns `PIN_left` and `PIN_right` overlaps (both `PIN_left` and `PIN_right` are not-null) only for 8 Teranet records, with actual PIN value being identical in both columns in each of these cases."
   ]
  },
  {
   "cell_type": "code",
   "execution_count": 15,
   "metadata": {},
   "outputs": [
    {
     "name": "stdout",
     "output_type": "stream",
     "text": [
      "8 records in the subset.\n"
     ]
    }
   ],
   "source": [
    "mask1 = teranet_lu_gta_ham_gdf['PIN_left'].isnull()\n",
    "mask2 = teranet_lu_gta_ham_gdf['PIN_right'].isnull()\n",
    "print(\"{0:,} records in the subset.\".format(len(teranet_lu_gta_ham_gdf[~mask1 & ~mask2])))"
   ]
  },
  {
   "cell_type": "code",
   "execution_count": 16,
   "metadata": {},
   "outputs": [
    {
     "data": {
      "text/html": [
       "<div>\n",
       "<style scoped>\n",
       "    .dataframe tbody tr th:only-of-type {\n",
       "        vertical-align: middle;\n",
       "    }\n",
       "\n",
       "    .dataframe tbody tr th {\n",
       "        vertical-align: top;\n",
       "    }\n",
       "\n",
       "    .dataframe thead th {\n",
       "        text-align: right;\n",
       "    }\n",
       "</style>\n",
       "<table border=\"1\" class=\"dataframe\">\n",
       "  <thead>\n",
       "    <tr style=\"text-align: right;\">\n",
       "      <th></th>\n",
       "      <th>lro_num</th>\n",
       "      <th>pin</th>\n",
       "      <th>consideration_amt</th>\n",
       "      <th>registration_date</th>\n",
       "      <th>POSTAL_CODE</th>\n",
       "      <th>PROVINCE</th>\n",
       "      <th>UNITNO</th>\n",
       "      <th>STREET_NAME</th>\n",
       "      <th>STREET_DESIGNATION</th>\n",
       "      <th>STREET_DIRECTION</th>\n",
       "      <th>...</th>\n",
       "      <th>DAUID</th>\n",
       "      <th>CSDUID</th>\n",
       "      <th>CSDNAME</th>\n",
       "      <th>TAZ_O</th>\n",
       "      <th>geometry</th>\n",
       "      <th>PIN_left</th>\n",
       "      <th>LANDUSE</th>\n",
       "      <th>index_right</th>\n",
       "      <th>PIN_right</th>\n",
       "      <th>PROP_CODE</th>\n",
       "    </tr>\n",
       "  </thead>\n",
       "  <tbody>\n",
       "    <tr>\n",
       "      <th>307580</th>\n",
       "      <td>20</td>\n",
       "      <td>70930070</td>\n",
       "      <td>525000.0</td>\n",
       "      <td>8/21/1992 0:00:00</td>\n",
       "      <td>L7T1W4</td>\n",
       "      <td>ON</td>\n",
       "      <td>NaN</td>\n",
       "      <td>NORTH SHORE</td>\n",
       "      <td>BLVD</td>\n",
       "      <td>E</td>\n",
       "      <td>...</td>\n",
       "      <td>35240398</td>\n",
       "      <td>3524002</td>\n",
       "      <td>Burlington</td>\n",
       "      <td>2051.0</td>\n",
       "      <td>POINT (-79.83925694622141 43.30428802107259)</td>\n",
       "      <td>070930070</td>\n",
       "      <td>99.0</td>\n",
       "      <td>6031.0</td>\n",
       "      <td>070930070</td>\n",
       "      <td>0.0</td>\n",
       "    </tr>\n",
       "    <tr>\n",
       "      <th>307772</th>\n",
       "      <td>20</td>\n",
       "      <td>70930070</td>\n",
       "      <td>1054000.0</td>\n",
       "      <td>11/30/2004 0:00:00</td>\n",
       "      <td>L7T1W4</td>\n",
       "      <td>ON</td>\n",
       "      <td>NaN</td>\n",
       "      <td>NORTH SHORE</td>\n",
       "      <td>BLVD</td>\n",
       "      <td>E</td>\n",
       "      <td>...</td>\n",
       "      <td>35240398</td>\n",
       "      <td>3524002</td>\n",
       "      <td>Burlington</td>\n",
       "      <td>2051.0</td>\n",
       "      <td>POINT (-79.83925694622141 43.30428802107259)</td>\n",
       "      <td>070930070</td>\n",
       "      <td>99.0</td>\n",
       "      <td>6031.0</td>\n",
       "      <td>070930070</td>\n",
       "      <td>0.0</td>\n",
       "    </tr>\n",
       "    <tr>\n",
       "      <th>427036</th>\n",
       "      <td>20</td>\n",
       "      <td>71940013</td>\n",
       "      <td>1.0</td>\n",
       "      <td>5/1/1964 0:00:00</td>\n",
       "      <td>L7P0T2</td>\n",
       "      <td>ON</td>\n",
       "      <td>NaN</td>\n",
       "      <td>RENNICK</td>\n",
       "      <td>RD</td>\n",
       "      <td>NaN</td>\n",
       "      <td>...</td>\n",
       "      <td>35250948</td>\n",
       "      <td>3525005</td>\n",
       "      <td>Hamilton</td>\n",
       "      <td>2630.0</td>\n",
       "      <td>POINT (-79.87683365507159 43.3289585264729)</td>\n",
       "      <td>071940013</td>\n",
       "      <td>1.0</td>\n",
       "      <td>507.0</td>\n",
       "      <td>071940013</td>\n",
       "      <td>0.0</td>\n",
       "    </tr>\n",
       "    <tr>\n",
       "      <th>427037</th>\n",
       "      <td>20</td>\n",
       "      <td>71940013</td>\n",
       "      <td>1.0</td>\n",
       "      <td>10/18/1965 0:00:00</td>\n",
       "      <td>L7P0T2</td>\n",
       "      <td>ON</td>\n",
       "      <td>NaN</td>\n",
       "      <td>RENNICK</td>\n",
       "      <td>RD</td>\n",
       "      <td>NaN</td>\n",
       "      <td>...</td>\n",
       "      <td>35250948</td>\n",
       "      <td>3525005</td>\n",
       "      <td>Hamilton</td>\n",
       "      <td>2630.0</td>\n",
       "      <td>POINT (-79.87683365507159 43.3289585264729)</td>\n",
       "      <td>071940013</td>\n",
       "      <td>1.0</td>\n",
       "      <td>507.0</td>\n",
       "      <td>071940013</td>\n",
       "      <td>0.0</td>\n",
       "    </tr>\n",
       "    <tr>\n",
       "      <th>427043</th>\n",
       "      <td>20</td>\n",
       "      <td>71940013</td>\n",
       "      <td>0.0</td>\n",
       "      <td>6/5/2017 0:00:00</td>\n",
       "      <td>L7P0T2</td>\n",
       "      <td>ON</td>\n",
       "      <td>NaN</td>\n",
       "      <td>RENNICK</td>\n",
       "      <td>RD</td>\n",
       "      <td>NaN</td>\n",
       "      <td>...</td>\n",
       "      <td>35250948</td>\n",
       "      <td>3525005</td>\n",
       "      <td>Hamilton</td>\n",
       "      <td>2630.0</td>\n",
       "      <td>POINT (-79.87683365507159 43.3289585264729)</td>\n",
       "      <td>071940013</td>\n",
       "      <td>1.0</td>\n",
       "      <td>507.0</td>\n",
       "      <td>071940013</td>\n",
       "      <td>0.0</td>\n",
       "    </tr>\n",
       "    <tr>\n",
       "      <th>2509726</th>\n",
       "      <td>20</td>\n",
       "      <td>71160056</td>\n",
       "      <td>25000.0</td>\n",
       "      <td>1/16/1987 0:00:00</td>\n",
       "      <td>L7T4G9</td>\n",
       "      <td>ON</td>\n",
       "      <td>NaN</td>\n",
       "      <td>LASALLE PARK</td>\n",
       "      <td>RD</td>\n",
       "      <td>NaN</td>\n",
       "      <td>...</td>\n",
       "      <td>35250496</td>\n",
       "      <td>3525005</td>\n",
       "      <td>Hamilton</td>\n",
       "      <td>2051.0</td>\n",
       "      <td>POINT (-79.8479414978225 43.3003977088099)</td>\n",
       "      <td>071160056</td>\n",
       "      <td>99.0</td>\n",
       "      <td>6030.0</td>\n",
       "      <td>071160056</td>\n",
       "      <td>0.0</td>\n",
       "    </tr>\n",
       "    <tr>\n",
       "      <th>2509777</th>\n",
       "      <td>20</td>\n",
       "      <td>71160056</td>\n",
       "      <td>3450000.0</td>\n",
       "      <td>6/30/2016 0:00:00</td>\n",
       "      <td>L7T4G9</td>\n",
       "      <td>ON</td>\n",
       "      <td>NaN</td>\n",
       "      <td>LASALLE PARK</td>\n",
       "      <td>RD</td>\n",
       "      <td>NaN</td>\n",
       "      <td>...</td>\n",
       "      <td>35250496</td>\n",
       "      <td>3525005</td>\n",
       "      <td>Hamilton</td>\n",
       "      <td>2051.0</td>\n",
       "      <td>POINT (-79.8479414978225 43.3003977088099)</td>\n",
       "      <td>071160056</td>\n",
       "      <td>99.0</td>\n",
       "      <td>6030.0</td>\n",
       "      <td>071160056</td>\n",
       "      <td>0.0</td>\n",
       "    </tr>\n",
       "    <tr>\n",
       "      <th>2509778</th>\n",
       "      <td>20</td>\n",
       "      <td>71160056</td>\n",
       "      <td>0.0</td>\n",
       "      <td>12/12/2006 0:00:00</td>\n",
       "      <td>L7T4G9</td>\n",
       "      <td>ON</td>\n",
       "      <td>NaN</td>\n",
       "      <td>LASALLE PARK</td>\n",
       "      <td>RD</td>\n",
       "      <td>NaN</td>\n",
       "      <td>...</td>\n",
       "      <td>35250496</td>\n",
       "      <td>3525005</td>\n",
       "      <td>Hamilton</td>\n",
       "      <td>2051.0</td>\n",
       "      <td>POINT (-79.8479414978225 43.3003977088099)</td>\n",
       "      <td>071160056</td>\n",
       "      <td>99.0</td>\n",
       "      <td>6030.0</td>\n",
       "      <td>071160056</td>\n",
       "      <td>0.0</td>\n",
       "    </tr>\n",
       "  </tbody>\n",
       "</table>\n",
       "<p>8 rows × 25 columns</p>\n",
       "</div>"
      ],
      "text/plain": [
       "         lro_num       pin  consideration_amt   registration_date POSTAL_CODE  \\\n",
       "307580        20  70930070           525000.0   8/21/1992 0:00:00      L7T1W4   \n",
       "307772        20  70930070          1054000.0  11/30/2004 0:00:00      L7T1W4   \n",
       "427036        20  71940013                1.0    5/1/1964 0:00:00      L7P0T2   \n",
       "427037        20  71940013                1.0  10/18/1965 0:00:00      L7P0T2   \n",
       "427043        20  71940013                0.0    6/5/2017 0:00:00      L7P0T2   \n",
       "2509726       20  71160056            25000.0   1/16/1987 0:00:00      L7T4G9   \n",
       "2509777       20  71160056          3450000.0   6/30/2016 0:00:00      L7T4G9   \n",
       "2509778       20  71160056                0.0  12/12/2006 0:00:00      L7T4G9   \n",
       "\n",
       "        PROVINCE  UNITNO   STREET_NAME STREET_DESIGNATION STREET_DIRECTION  \\\n",
       "307580        ON     NaN   NORTH SHORE               BLVD                E   \n",
       "307772        ON     NaN   NORTH SHORE               BLVD                E   \n",
       "427036        ON     NaN       RENNICK                 RD              NaN   \n",
       "427037        ON     NaN       RENNICK                 RD              NaN   \n",
       "427043        ON     NaN       RENNICK                 RD              NaN   \n",
       "2509726       ON     NaN  LASALLE PARK                 RD              NaN   \n",
       "2509777       ON     NaN  LASALLE PARK                 RD              NaN   \n",
       "2509778       ON     NaN  LASALLE PARK                 RD              NaN   \n",
       "\n",
       "         ...     DAUID   CSDUID     CSDNAME   TAZ_O  \\\n",
       "307580   ...  35240398  3524002  Burlington  2051.0   \n",
       "307772   ...  35240398  3524002  Burlington  2051.0   \n",
       "427036   ...  35250948  3525005    Hamilton  2630.0   \n",
       "427037   ...  35250948  3525005    Hamilton  2630.0   \n",
       "427043   ...  35250948  3525005    Hamilton  2630.0   \n",
       "2509726  ...  35250496  3525005    Hamilton  2051.0   \n",
       "2509777  ...  35250496  3525005    Hamilton  2051.0   \n",
       "2509778  ...  35250496  3525005    Hamilton  2051.0   \n",
       "\n",
       "                                             geometry   PIN_left  LANDUSE  \\\n",
       "307580   POINT (-79.83925694622141 43.30428802107259)  070930070     99.0   \n",
       "307772   POINT (-79.83925694622141 43.30428802107259)  070930070     99.0   \n",
       "427036    POINT (-79.87683365507159 43.3289585264729)  071940013      1.0   \n",
       "427037    POINT (-79.87683365507159 43.3289585264729)  071940013      1.0   \n",
       "427043    POINT (-79.87683365507159 43.3289585264729)  071940013      1.0   \n",
       "2509726    POINT (-79.8479414978225 43.3003977088099)  071160056     99.0   \n",
       "2509777    POINT (-79.8479414978225 43.3003977088099)  071160056     99.0   \n",
       "2509778    POINT (-79.8479414978225 43.3003977088099)  071160056     99.0   \n",
       "\n",
       "        index_right  PIN_right PROP_CODE  \n",
       "307580       6031.0  070930070       0.0  \n",
       "307772       6031.0  070930070       0.0  \n",
       "427036        507.0  071940013       0.0  \n",
       "427037        507.0  071940013       0.0  \n",
       "427043        507.0  071940013       0.0  \n",
       "2509726      6030.0  071160056       0.0  \n",
       "2509777      6030.0  071160056       0.0  \n",
       "2509778      6030.0  071160056       0.0  \n",
       "\n",
       "[8 rows x 25 columns]"
      ]
     },
     "execution_count": 16,
     "metadata": {},
     "output_type": "execute_result"
    }
   ],
   "source": [
    "teranet_lu_gta_ham_gdf[~mask1 & ~mask2]"
   ]
  },
  {
   "cell_type": "markdown",
   "metadata": {},
   "source": [
    "#### Collapse results of both joins into a single column 'pin_lu'\n",
    "Since the values in both columns do not overlap, columns `PIN_left` and `PIN_right` can be collpased into a single column `pin_lu` without any loss of information. This is performed simply by reassigning values of `PIN_right` to records with missing `PIN_left`, and renaming `PIN_left` to `pin_lu`."
   ]
  },
  {
   "cell_type": "code",
   "execution_count": 17,
   "metadata": {},
   "outputs": [
    {
     "data": {
      "text/plain": [
       "6321091"
      ]
     },
     "execution_count": 17,
     "metadata": {},
     "output_type": "execute_result"
    }
   ],
   "source": [
    "mask1 = teranet_lu_gta_ham_gdf['PIN_right'].isnull()\n",
    "len(teranet_lu_gta_ham_gdf[mask1])"
   ]
  },
  {
   "cell_type": "code",
   "execution_count": 18,
   "metadata": {},
   "outputs": [
    {
     "data": {
      "text/plain": [
       "794631"
      ]
     },
     "execution_count": 18,
     "metadata": {},
     "output_type": "execute_result"
    }
   ],
   "source": [
    "mask1 = teranet_lu_gta_ham_gdf['PIN_left'].isnull()\n",
    "len(teranet_lu_gta_ham_gdf[mask1])"
   ]
  },
  {
   "cell_type": "code",
   "execution_count": 19,
   "metadata": {},
   "outputs": [
    {
     "name": "stdout",
     "output_type": "stream",
     "text": [
      "482,668 values of `PIN_left` (previously missing) have been filled using `PIN_right`.\n",
      "311,963 values of `PIN_left` remain missing.\n"
     ]
    }
   ],
   "source": [
    "mask1 = teranet_lu_gta_ham_gdf['PIN_left'].isnull()\n",
    "old_nan = mask1.sum()\n",
    "teranet_lu_gta_ham_gdf.loc[mask1, 'PIN_left'] = \\\n",
    "    teranet_lu_gta_ham_gdf.loc[mask1, 'PIN_right']\n",
    "new_nan = teranet_lu_gta_ham_gdf['PIN_left'].isnull().sum()\n",
    "print(\"{0:,} values of `PIN_left` (previously missing) have been filled using `PIN_right`.\"\n",
    "      .format(old_nan - new_nan) +\n",
    "      \"\\n{0:,} values of `PIN_left` remain missing.\".format(new_nan))"
   ]
  },
  {
   "cell_type": "code",
   "execution_count": 20,
   "metadata": {},
   "outputs": [
    {
     "name": "stdout",
     "output_type": "stream",
     "text": [
      "Column `PIN_left` was renamed to `pin_lu`.\n"
     ]
    }
   ],
   "source": [
    "teranet_lu_gta_ham_gdf = teranet_lu_gta_ham_gdf.rename(columns={'PIN_left':'pin_lu'})\n",
    "print(\"Column `PIN_left` was renamed to `pin_lu`.\")"
   ]
  },
  {
   "cell_type": "markdown",
   "metadata": {},
   "source": [
    "### Save results to a .csv file"
   ]
  },
  {
   "cell_type": "code",
   "execution_count": 21,
   "metadata": {},
   "outputs": [
    {
     "data": {
      "text/plain": [
       "Index(['lro_num', 'pin', 'consideration_amt', 'registration_date',\n",
       "       'POSTAL_CODE', 'PROVINCE', 'UNITNO', 'STREET_NAME',\n",
       "       'STREET_DESIGNATION', 'STREET_DIRECTION', 'MUNICIPALITY',\n",
       "       'STREET_SUFFIX', 'STREET_NUMBER', 'X', 'Y', 'DAUID', 'CSDUID',\n",
       "       'CSDNAME', 'TAZ_O', 'geometry', 'pin_lu', 'LANDUSE', 'index_right',\n",
       "       'PIN_right', 'PROP_CODE'],\n",
       "      dtype='object')"
      ]
     },
     "execution_count": 21,
     "metadata": {},
     "output_type": "execute_result"
    }
   ],
   "source": [
    "teranet_lu_gta_ham_gdf.columns"
   ]
  },
  {
   "cell_type": "code",
   "execution_count": 22,
   "metadata": {
    "pycharm": {
     "is_executing": true
    }
   },
   "outputs": [
    {
     "name": "stdout",
     "output_type": "stream",
     "text": [
      "DataFrame saved to file:\n",
      " ../../data/teranet/1.3_Teranet_DA_TAZ_LU.csv \n",
      "took 150.65 seconds\n"
     ]
    }
   ],
   "source": [
    "save_path = teranet_path + '1.3_Teranet_DA_TAZ_LU.csv'\n",
    "t = time()\n",
    "teranet_lu_gta_ham_gdf.drop(['index_right', 'geometry', 'PIN_right'], axis=1).to_csv(save_path, index=False)\n",
    "elapsed = time() - t\n",
    "print(\"DataFrame saved to file:\\n\", save_path,\n",
    "      \"\\ntook {0:.2f} seconds\".format(elapsed))"
   ]
  }
 ],
 "metadata": {
  "kernelspec": {
   "display_name": "Python 3",
   "language": "python",
   "name": "python3"
  },
  "language_info": {
   "codemirror_mode": {
    "name": "ipython",
    "version": 3
   },
   "file_extension": ".py",
   "mimetype": "text/x-python",
   "name": "python",
   "nbconvert_exporter": "python",
   "pygments_lexer": "ipython3",
   "version": "3.6.9"
  },
  "pycharm": {
   "stem_cell": {
    "cell_type": "raw",
    "metadata": {
     "collapsed": false
    },
    "source": []
   }
  }
 },
 "nbformat": 4,
 "nbformat_minor": 1
}
