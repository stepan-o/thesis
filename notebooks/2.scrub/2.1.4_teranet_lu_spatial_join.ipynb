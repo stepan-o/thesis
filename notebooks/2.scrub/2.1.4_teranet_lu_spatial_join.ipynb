{
 "cells": [
  {
   "cell_type": "markdown",
   "metadata": {
    "pycharm": {
     "name": "#%% md\n"
    }
   },
   "source": [
    "# GTHA housing market database\n",
    "# OSEMN methodology Step 2: Scrub\n",
    "# Step 2.3 Spatial join of Teranet points with parcel-level land use\n",
    "\n",
    "---\n",
    "\n",
    "This notebook describes Step 2.3 (part of _Step 2: Scrub_ of OSEMN methodology) performed on the Teranet dataset.\n",
    "\n",
    "Step 2.3 involves the spatial join of Teranet points with parcel-level land use.\n",
    "\n",
    "Previous steps included: \n",
    "\n",
    "* Step 2.1 \n",
    "\n",
    "    * the spatial join between the Teranet points and the polygons of GTHA Dissemination Areas (DAs)\n",
    "    \n",
    "    * During step 2.1, Teranet records whose coordinates fall outside of the GTHA boundary (as defined by the DA geometry) have been filtered out (6,803,691 of the original 9,039,241 Teranet records remain in the dataset)\n",
    "     \n",
    "    * In addition to that, three new columns (`OBJECTID`, `DAUID`, and `CSDNAME`) derived from DA attributes have been added to each Teranet transaction\n",
    "\n",
    "---\n",
    "\n",
    "For description of OSEMN methodology, see `methodology/0.osemn/osemn.pdf`.\n",
    "\n",
    "For background information, description of the Teranet dataset, and its attributes, see `methodology/1.obtain/obtain.pdf`.\n",
    "\n",
    "For description of _Step 2: Scrub_ of OSEMN methodology, see `methodology/2.scrub/scrub.pdf`.\n",
    "\n",
    "For description of the cleanup plan for Teranet dataset, see `methodology/2.scrub/teranet_cleanup_plan.pdf`.\n",
    "\n",
    "For description of Step 2.1 of the cleanup process, see `notebooks/2.scrub/2.1_teranet_gtha_spatial_join.ipynb`.\n",
    "\n",
    "\n",
    "## Import dependencies"
   ]
  },
  {
   "cell_type": "code",
   "execution_count": 2,
   "metadata": {
    "pycharm": {
     "is_executing": false,
     "name": "#%%\n"
    }
   },
   "outputs": [],
   "source": [
    "%matplotlib inline\n",
    "import pandas as pd \n",
    "import geopandas as gpd\n",
    "import os\n",
    "from shapely.geometry import Point\n",
    "from time import time"
   ]
  },
  {
   "cell_type": "code",
   "execution_count": 3,
   "metadata": {
    "pycharm": {
     "is_executing": false,
     "name": "#%%\n"
    }
   },
   "outputs": [
    {
     "data": {
      "text/plain": [
       "['1.1_Teranet_DA.csv',\n",
       " 'epoi_gtha13',\n",
       " '1.2_Teranet_DA_TAZ.csv',\n",
       " '1.3_Teranet_DA_TAZ_FSA.csv',\n",
       " '.ipynb_checkpoints',\n",
       " 'ParcelLandUse.zip',\n",
       " 'ParcelLandUse',\n",
       " 'HHSaleHistory.csv',\n",
       " 'GTAjoinedLanduseSales']"
      ]
     },
     "execution_count": 3,
     "metadata": {},
     "output_type": "execute_result"
    }
   ],
   "source": [
    "data_path = '../../data/'\n",
    "teranet_path = data_path + 'teranet/'\n",
    "os.listdir(teranet_path)"
   ]
  },
  {
   "cell_type": "code",
   "execution_count": 4,
   "metadata": {
    "pycharm": {
     "is_executing": false,
     "name": "#%%\n"
    }
   },
   "outputs": [
    {
     "data": {
      "text/plain": [
       "['lu_gtha.dbf', 'lu_gtha.cpg', 'lu_gtha.shp', 'lu_gtha.prj', 'lu_gtha.shx']"
      ]
     },
     "execution_count": 4,
     "metadata": {},
     "output_type": "execute_result"
    }
   ],
   "source": [
    "data_path = '../../data/'\n",
    "lu_path = data_path + 'teranet/ParcelLandUse/lu_gtha_shapefile/'\n",
    "os.listdir(lu_path)"
   ]
  },
  {
   "cell_type": "markdown",
   "metadata": {
    "pycharm": {
     "name": "#%% md\n"
    }
   },
   "source": [
    "## Load geometry of land use"
   ]
  },
  {
   "cell_type": "code",
   "execution_count": 5,
   "metadata": {
    "pycharm": {
     "is_executing": false
    },
    "scrolled": false
   },
   "outputs": [
    {
     "name": "stdout",
     "output_type": "stream",
     "text": [
      "----- GeoDataFrame loaded\n",
      "in 160.09 seconds (2.67 minutes)\n",
      "with 1,664,862 rows\n",
      "and 18 columns\n",
      "-- Column names:\n",
      " Index(['AreaM2', 'DEPTH', 'Distance', 'FID_1', 'FID_2', 'FRONTAGE', 'ID',\n",
      "       'LANDUSE', 'LengthM', 'OBJECTID', 'PIN', 'PIN_1', 'PROP_CODE',\n",
      "       'SHAPE_Area', 'SHAPE_Leng', 'SITE_AREA', 'municipali', 'geometry'],\n",
      "      dtype='object')\n",
      "Taking the subset with columns\n",
      ": ['PIN', 'LANDUSE', 'PROP_CODE', 'geometry']\n",
      "\n",
      "-- New column names:\n",
      " Index(['PIN', 'LANDUSE', 'PROP_CODE', 'geometry'], dtype='object')\n"
     ]
    },
    {
     "data": {
      "image/svg+xml": [
       "<svg xmlns=\"http://www.w3.org/2000/svg\" xmlns:xlink=\"http://www.w3.org/1999/xlink\" width=\"100.0\" height=\"100.0\" viewBox=\"-79.27224352417663 43.83891160005582 0.0004648867404455359 0.00017108640603424874\" preserveAspectRatio=\"xMinYMin meet\"><g transform=\"matrix(1,0,0,-1,0,87.67799428651767)\"><path fill-rule=\"evenodd\" fill=\"#66cc99\" stroke=\"#555555\" stroke-width=\"9.297734808910719e-06\" opacity=\"0.6\" d=\"M -79.27221242610426,43.839065468434434 L -79.27179585546361,43.839008003601265 L -79.27180789550232,43.83892881808325 L -79.27222630614921,43.83897433501603 L -79.27221405800456,43.83905470699243 L -79.27221242610426,43.839065468434434 z\" /></g></svg>"
      ],
      "text/plain": [
       "<shapely.geometry.polygon.Polygon at 0x7f3d59cbb320>"
      ]
     },
     "execution_count": 5,
     "metadata": {},
     "output_type": "execute_result"
    }
   ],
   "source": [
    "t = time()\n",
    "lu_gdf = gpd.read_file(lu_path + 'lu_gtha.shp')\n",
    "elapsed = time() - t\n",
    "\n",
    "print(\"----- GeoDataFrame loaded\"\n",
    "      \"\\nin {0:.2f} seconds ({1:.2f} minutes)\".format(elapsed, elapsed / 60) + \n",
    "      \"\\nwith {0:,} rows\\nand {1:,} columns\"\n",
    "      .format(lu_gdf.shape[0], lu_gdf.shape[1]) + \n",
    "      \"\\n-- Column names:\\n\", lu_gdf.columns)\n",
    "\n",
    "cols = ['PIN', 'LANDUSE', 'PROP_CODE', 'geometry']\n",
    "\n",
    "print(\"Taking the subset with columns\\n:\", cols)\n",
    "\n",
    "lu_gdf = lu_gdf[cols]\n",
    "\n",
    "print(\"\\n-- New column names:\\n\", lu_gdf.columns)\n",
    "     \n",
    "# lu_gta_gdf.plot(); # plotting the whole GeoDataFrame can take a very long time\n",
    "lu_gdf.iloc[0].geometry"
   ]
  },
  {
   "cell_type": "markdown",
   "metadata": {
    "pycharm": {
     "name": "#%% md\n"
    }
   },
   "source": [
    "## Load Teranet data"
   ]
  },
  {
   "cell_type": "code",
   "execution_count": 6,
   "metadata": {
    "pycharm": {
     "is_executing": false,
     "name": "#%%\n"
    }
   },
   "outputs": [
    {
     "name": "stderr",
     "output_type": "stream",
     "text": [
      "/home/stepan/anaconda3/envs/gds/lib/python3.6/site-packages/IPython/core/interactiveshell.py:3058: DtypeWarning: Columns (9) have mixed types. Specify dtype option on import or set low_memory=False.\n",
      "  interactivity=interactivity, compiler=compiler, result=result)\n"
     ]
    },
    {
     "name": "stdout",
     "output_type": "stream",
     "text": [
      "----- DataFrame loaded\n",
      "in 22.84 seconds\n",
      "with 6,803,756 rows\n",
      "and 20 columns\n",
      "-- Column names:\n",
      " Index(['lro_num', 'pin', 'consideration_amt', 'registration_date',\n",
      "       'POSTAL_CODE', 'PROVINCE', 'UNITNO', 'STREET_NAME',\n",
      "       'STREET_DESIGNATION', 'STREET_DIRECTION', 'MUNICIPALITY',\n",
      "       'STREET_SUFFIX', 'STREET_NUMBER', 'X', 'Y', 'DAUID', 'CSDUID',\n",
      "       'CSDNAME', 'TAZ_O', 'FSA'],\n",
      "      dtype='object')\n",
      "\n",
      "----- Geometry generated from 'X' and 'Y' pairs, GeoDataFrame created!\n",
      "in 100.53 seconds (1.68 minutes)\n",
      "with 6,803,756 rows\n",
      "and 21 columns\n",
      "-- Column names:\n",
      " Index(['lro_num', 'pin', 'consideration_amt', 'registration_date',\n",
      "       'POSTAL_CODE', 'PROVINCE', 'UNITNO', 'STREET_NAME',\n",
      "       'STREET_DESIGNATION', 'STREET_DIRECTION', 'MUNICIPALITY',\n",
      "       'STREET_SUFFIX', 'STREET_NUMBER', 'X', 'Y', 'DAUID', 'CSDUID',\n",
      "       'CSDNAME', 'TAZ_O', 'FSA', 'geometry'],\n",
      "      dtype='object')\n",
      "\n",
      "----- CRS dictionary for WGS84 added to geo data frame 'teranet_gdf'!\n"
     ]
    }
   ],
   "source": [
    "t = time()\n",
    "teranet_df = pd.read_csv(teranet_path + '1.3_Teranet_DA_TAZ_FSA.csv')\n",
    "elapsed = time() - t\n",
    "print(\"----- DataFrame loaded\"\n",
    "      \"\\nin {0:.2f} seconds\".format(elapsed) + \n",
    "      \"\\nwith {0:,} rows\\nand {1:,} columns\"\n",
    "      .format(teranet_df.shape[0], teranet_df.shape[1]) + \n",
    "      \"\\n-- Column names:\\n\", teranet_df.columns)\n",
    "\n",
    "t = time()\n",
    "# combine values in columns 'x' and 'y' into a POINT geometry object\n",
    "geometry = [Point(xy) for xy in zip(teranet_df['X'], teranet_df['Y'])]\n",
    "# generate a new GeoDataFrame by adding point geometry to data frame 'teranet_sales_data'\n",
    "teranet_gdf = gpd.GeoDataFrame(teranet_df, geometry=geometry)\n",
    "elapsed = time() - t\n",
    "print(\"\\n----- Geometry generated from 'X' and 'Y' pairs, GeoDataFrame created!\"\n",
    "      \"\\nin {0:.2f} seconds ({1:.2f} minutes)\".format(elapsed, elapsed / 60) + \n",
    "      \"\\nwith {0:,} rows\\nand {1:,} columns\"\n",
    "      .format(teranet_gdf.shape[0], teranet_gdf.shape[1]) + \n",
    "      \"\\n-- Column names:\\n\", teranet_gdf.columns)\n",
    "\n",
    "# add CRS for WGS84 (lat-long) to GeoDataFrame with Teranet records\n",
    "teranet_gdf.crs = {'proj': 'latlong', \n",
    "                   'ellps': 'WGS84', \n",
    "                   'datum': 'WGS84', \n",
    "                   'no_defs': True}\n",
    "print(\"\\n----- CRS dictionary for WGS84 added to geo data frame 'teranet_gdf'!\")"
   ]
  },
  {
   "cell_type": "markdown",
   "metadata": {
    "pycharm": {
     "name": "#%% md\n"
    }
   },
   "source": [
    "## Perform the spatial join of Teranet points with DA polygons\n",
    "### Validate projections"
   ]
  },
  {
   "cell_type": "code",
   "execution_count": 7,
   "metadata": {
    "pycharm": {
     "is_executing": false,
     "name": "#%%\n"
    }
   },
   "outputs": [
    {
     "data": {
      "text/plain": [
       "{'proj': 'latlong', 'ellps': 'WGS84', 'datum': 'WGS84', 'no_defs': True}"
      ]
     },
     "execution_count": 7,
     "metadata": {},
     "output_type": "execute_result"
    }
   ],
   "source": [
    "teranet_gdf.crs"
   ]
  },
  {
   "cell_type": "code",
   "execution_count": 8,
   "metadata": {
    "pycharm": {
     "is_executing": false,
     "name": "#%%\n"
    },
    "scrolled": true
   },
   "outputs": [
    {
     "data": {
      "text/plain": [
       "{'init': 'epsg:4326'}"
      ]
     },
     "execution_count": 8,
     "metadata": {},
     "output_type": "execute_result"
    }
   ],
   "source": [
    "lu_gdf.crs"
   ]
  },
  {
   "cell_type": "markdown",
   "metadata": {},
   "source": [
    "### Perform the spatial join\n",
    ">Note: EPSG:4326 and WGS 84 represent the [same projection](https://spatialreference.org/ref/epsg/wgs-84/)."
   ]
  },
  {
   "cell_type": "code",
   "execution_count": 9,
   "metadata": {
    "pycharm": {
     "is_executing": true
    }
   },
   "outputs": [
    {
     "name": "stderr",
     "output_type": "stream",
     "text": [
      "/home/stepan/anaconda3/envs/gds/lib/python3.6/site-packages/geopandas/tools/sjoin.py:44: UserWarning: CRS of frames being joined does not match!\n",
      "  warn('CRS of frames being joined does not match!')\n"
     ]
    },
    {
     "name": "stdout",
     "output_type": "stream",
     "text": [
      "\n",
      "----- Spatial join completed, new GeoDataFrame created\n",
      "in 1205.81 seconds (20.10 minutes)\n",
      "with 6,803,767 rows\n",
      "and 25 columns\n",
      "-- Column names:\n",
      " Index(['lro_num', 'pin', 'consideration_amt', 'registration_date',\n",
      "       'POSTAL_CODE', 'PROVINCE', 'UNITNO', 'STREET_NAME',\n",
      "       'STREET_DESIGNATION', 'STREET_DIRECTION', 'MUNICIPALITY',\n",
      "       'STREET_SUFFIX', 'STREET_NUMBER', 'X', 'Y', 'DAUID', 'CSDUID',\n",
      "       'CSDNAME', 'TAZ_O', 'FSA', 'geometry', 'index_right', 'PIN', 'LANDUSE',\n",
      "       'PROP_CODE'],\n",
      "      dtype='object')\n"
     ]
    }
   ],
   "source": [
    "t = time()\n",
    "teranet_lu_gdf = gpd.sjoin(teranet_gdf, lu_gdf, \n",
    "                           how='left', op='within')\n",
    "elapsed = time() - t\n",
    "print(\"\\n----- Spatial join completed, new GeoDataFrame created\"\n",
    "      \"\\nin {0:.2f} seconds ({1:.2f} minutes)\".format(elapsed, elapsed / 60) + \n",
    "      \"\\nwith {0:,} rows\\nand {1:,} columns\"\n",
    "      .format(teranet_lu_gdf.shape[0], teranet_lu_gdf.shape[1]) + \n",
    "      \"\\n-- Column names:\\n\", teranet_lu_gdf.columns)"
   ]
  },
  {
   "cell_type": "markdown",
   "metadata": {},
   "source": [
    "#### Rename column 'PIN' to 'pin_lu'"
   ]
  },
  {
   "cell_type": "code",
   "execution_count": 10,
   "metadata": {},
   "outputs": [
    {
     "name": "stdout",
     "output_type": "stream",
     "text": [
      "Column was renamed.\n"
     ]
    }
   ],
   "source": [
    "teranet_lu_gdf = teranet_lu_gdf.rename(columns={'PIN': 'pin_lu'})\n",
    "print(\"Column was renamed.\")"
   ]
  },
  {
   "cell_type": "markdown",
   "metadata": {},
   "source": [
    "### Save results to a .csv file"
   ]
  },
  {
   "cell_type": "code",
   "execution_count": 11,
   "metadata": {},
   "outputs": [
    {
     "data": {
      "text/plain": [
       "Index(['lro_num', 'pin', 'consideration_amt', 'registration_date',\n",
       "       'POSTAL_CODE', 'PROVINCE', 'UNITNO', 'STREET_NAME',\n",
       "       'STREET_DESIGNATION', 'STREET_DIRECTION', 'MUNICIPALITY',\n",
       "       'STREET_SUFFIX', 'STREET_NUMBER', 'X', 'Y', 'DAUID', 'CSDUID',\n",
       "       'CSDNAME', 'TAZ_O', 'FSA', 'geometry', 'index_right', 'pin_lu',\n",
       "       'LANDUSE', 'PROP_CODE'],\n",
       "      dtype='object')"
      ]
     },
     "execution_count": 11,
     "metadata": {},
     "output_type": "execute_result"
    }
   ],
   "source": [
    "teranet_lu_gdf.columns"
   ]
  },
  {
   "cell_type": "code",
   "execution_count": 12,
   "metadata": {
    "pycharm": {
     "is_executing": true
    }
   },
   "outputs": [
    {
     "name": "stdout",
     "output_type": "stream",
     "text": [
      "DataFrame saved to file:\n",
      " ../../data/teranet/1.4_Teranet_DA_TAZ_FSA_LU.csv \n",
      "took 151.95 seconds (2.53 minutes)\n"
     ]
    }
   ],
   "source": [
    "save_path = teranet_path + '1.4_Teranet_DA_TAZ_FSA_LU.csv'\n",
    "t = time()\n",
    "teranet_lu_gdf.drop(['index_right', 'geometry'], axis=1).to_csv(save_path, index=False)\n",
    "elapsed = time() - t\n",
    "print(\"DataFrame saved to file:\\n\", save_path,\n",
    "      \"\\ntook {0:.2f} seconds ({1:.2f} minutes)\".format(elapsed, elapsed / 60))"
   ]
  }
 ],
 "metadata": {
  "kernelspec": {
   "display_name": "Python 3",
   "language": "python",
   "name": "python3"
  },
  "language_info": {
   "codemirror_mode": {
    "name": "ipython",
    "version": 3
   },
   "file_extension": ".py",
   "mimetype": "text/x-python",
   "name": "python",
   "nbconvert_exporter": "python",
   "pygments_lexer": "ipython3",
   "version": "3.6.9"
  },
  "pycharm": {
   "stem_cell": {
    "cell_type": "raw",
    "metadata": {
     "collapsed": false
    },
    "source": []
   }
  }
 },
 "nbformat": 4,
 "nbformat_minor": 1
}
