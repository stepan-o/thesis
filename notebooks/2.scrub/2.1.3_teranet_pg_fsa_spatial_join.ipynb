{
 "cells": [
  {
   "cell_type": "markdown",
   "metadata": {
    "pycharm": {
     "name": "#%% md\n"
    }
   },
   "source": [
    "# GTHA housing market database\n",
    "# OSEMN methodology Step 2: Scrub\n",
    "# Step 2.1.3 Spatial join of Teranet points \n",
    "# with Forward Sortation Areas (FSA) and Postal Geography geometry\n",
    "# from DMTI Spatial Inc.\n",
    "\n",
    "---\n",
    "\n",
    "This notebook describes Step 2.1.3 (part of _Step 2: Scrub_ of OSEMN methodology) performed on the Teranet dataset.\n",
    "\n",
    "Step 2.1.3 involves the spatial join of Teranet points with polygons of Postal Geography and Forward Sortation Areas (FSA) available from [DMTI Platinum Postal Code Suite](https://mdl.library.utoronto.ca/collections/geospatial-data/platinum-postal-code-suite-4). It is performed to add new columns to each Teranet transaction from the FSA in which it is located.\n",
    "\n",
    "Previous steps included: \n",
    "\n",
    "* Step 2.1 \n",
    "\n",
    "    * the spatial join between the Teranet points and the polygons of GTHA Dissemination Areas (DAs)\n",
    "    \n",
    "    * During step 2.1, Teranet records whose coordinates fall outside of the GTHA boundary (as defined by the DA geometry) have been filtered out (6,803,691 of the original 9,039,241 Teranet records remain in the dataset)\n",
    "     \n",
    "    * In addition to that, three new columns (`OBJECTID`, `DAUID`, and `CSDNAME`) derived from DA attributes have been added to each Teranet transaction\n",
    "\n",
    "---\n",
    "\n",
    "For description of OSEMN methodology, see `methodology/0.osemn/osemn.pdf`.\n",
    "\n",
    "For background information, description of the Teranet dataset, and its attributes, see `methodology/1.obtain/obtain.pdf`.\n",
    "\n",
    "For description of _Step 2: Scrub_ of OSEMN methodology, see `methodology/2.scrub/scrub.pdf`.\n",
    "\n",
    "For description of the cleanup plan for Teranet dataset, see `methodology/2.scrub/teranet_cleanup_plan.pdf`.\n",
    "\n",
    "For description of Step 2.1 of the cleanup process, see `notebooks/2.scrub/2.1_teranet_gtha_spatial_join.ipynb`.\n",
    "\n",
    "\n",
    "## Import dependencies"
   ]
  },
  {
   "cell_type": "code",
   "execution_count": 1,
   "metadata": {
    "pycharm": {
     "is_executing": false,
     "name": "#%%\n"
    }
   },
   "outputs": [],
   "source": [
    "%matplotlib inline\n",
    "import pandas as pd \n",
    "import geopandas as gpd\n",
    "import os\n",
    "from shapely.geometry import Point\n",
    "from time import time"
   ]
  },
  {
   "cell_type": "code",
   "execution_count": 2,
   "metadata": {
    "pycharm": {
     "is_executing": false,
     "name": "#%%\n"
    }
   },
   "outputs": [
    {
     "data": {
      "text/plain": [
       "['1.1_Teranet_DA.csv',\n",
       " 'epoi_gtha13',\n",
       " '1.2_Teranet_DA_TAZ.csv',\n",
       " '.ipynb_checkpoints',\n",
       " 'ParcelLandUse.zip',\n",
       " 'ParcelLandUse',\n",
       " 'HHSaleHistory.csv',\n",
       " 'GTAjoinedLanduseSales']"
      ]
     },
     "execution_count": 2,
     "metadata": {},
     "output_type": "execute_result"
    }
   ],
   "source": [
    "data_path = '../../data/'\n",
    "teranet_path = data_path + 'teranet/'\n",
    "os.listdir(teranet_path)"
   ]
  },
  {
   "cell_type": "code",
   "execution_count": 3,
   "metadata": {
    "pycharm": {
     "is_executing": false,
     "name": "#%%\n"
    }
   },
   "outputs": [
    {
     "data": {
      "text/plain": [
       "['onp2c.csv',\n",
       " 'CANp2c.zip',\n",
       " 'CANfsa.zip',\n",
       " 'CANp2c',\n",
       " 'ONldu',\n",
       " 'ONldu.zip',\n",
       " 'CANfsa']"
      ]
     },
     "execution_count": 3,
     "metadata": {},
     "output_type": "execute_result"
    }
   ],
   "source": [
    "dmti_path = data_path + 'dmti/'\n",
    "os.listdir(dmti_path)"
   ]
  },
  {
   "cell_type": "code",
   "execution_count": 4,
   "metadata": {
    "pycharm": {
     "is_executing": false,
     "name": "#%%\n"
    }
   },
   "outputs": [
    {
     "data": {
      "text/plain": [
       "['CANfsa.lyr',\n",
       " 'CANfsa.sbn',\n",
       " 'CANfsa.shp.xml',\n",
       " 'CANfsa.shx',\n",
       " 'CANfsa.shp',\n",
       " 'CANfsa.sbx',\n",
       " 'CANfsa.prj',\n",
       " 'CANfsa.dbf',\n",
       " 'CANfsa.htm']"
      ]
     },
     "execution_count": 4,
     "metadata": {},
     "output_type": "execute_result"
    }
   ],
   "source": [
    "fsa_path = dmti_path + 'CANfsa/'\n",
    "os.listdir(fsa_path)"
   ]
  },
  {
   "cell_type": "code",
   "execution_count": 5,
   "metadata": {
    "pycharm": {
     "is_executing": false,
     "name": "#%%\n"
    }
   },
   "outputs": [
    {
     "data": {
      "text/plain": [
       "['ONldu_nodup.prj',\n",
       " 'ONldu_nodup.cpg',\n",
       " 'ONldu_nodup.shp',\n",
       " 'ONldu_nodup.shx',\n",
       " 'ONldu_nodup.dbf']"
      ]
     },
     "execution_count": 5,
     "metadata": {},
     "output_type": "execute_result"
    }
   ],
   "source": [
    "ldu_path = dmti_path + 'ONldu/nodup/'\n",
    "os.listdir(ldu_path)"
   ]
  },
  {
   "cell_type": "markdown",
   "metadata": {
    "pycharm": {
     "name": "#%% md\n"
    }
   },
   "source": [
    "## Load geometry of Forward Sortation Areas (FSA)"
   ]
  },
  {
   "cell_type": "code",
   "execution_count": 6,
   "metadata": {
    "pycharm": {
     "is_executing": false
    },
    "scrolled": false
   },
   "outputs": [
    {
     "name": "stdout",
     "output_type": "stream",
     "text": [
      "----- GeoDataFrame loaded\n",
      "in 0.81 seconds\n",
      "with 1,642 rows\n",
      "and 3 columns\n",
      "-- Column names:\n",
      " Index(['FSA', 'PROV', 'geometry'], dtype='object')\n"
     ]
    },
    {
     "data": {
      "image/png": "[encoded data removed]",
      "text/plain": [
       "<Figure size 432x288 with 1 Axes>"
      ]
     },
     "metadata": {
      "needs_background": "light"
     },
     "output_type": "display_data"
    }
   ],
   "source": [
    "t = time()\n",
    "fsa_gdf = gpd.read_file(fsa_path + 'CANfsa.shp')\n",
    "elapsed = time() - t\n",
    "\n",
    "print(\"----- GeoDataFrame loaded\"\n",
    "      \"\\nin {0:.2f} seconds\".format(elapsed) + \n",
    "      \"\\nwith {0:,} rows\\nand {1:,} columns\"\n",
    "      .format(fsa_gdf.shape[0], fsa_gdf.shape[1]) + \n",
    "      \"\\n-- Column names:\\n\", fsa_gdf.columns)\n",
    "\n",
    "fsa_gdf.plot();"
   ]
  },
  {
   "cell_type": "code",
   "execution_count": 7,
   "metadata": {},
   "outputs": [
    {
     "name": "stdout",
     "output_type": "stream",
     "text": [
      "Taking the subset of FSAs for Ontario.\n",
      "525 rows in the subset. 525 unique keys 'FSA'\n",
      "\n",
      "Taking the subset with columns\n",
      ": ['FSA', 'geometry']\n",
      "\n",
      "-- New column names:\n",
      " Index(['FSA', 'geometry'], dtype='object')\n"
     ]
    },
    {
     "data": {
      "image/png": "[encoded data removed]",
      "text/plain": [
       "<Figure size 432x288 with 1 Axes>"
      ]
     },
     "metadata": {
      "needs_background": "light"
     },
     "output_type": "display_data"
    }
   ],
   "source": [
    "print(\"Taking the subset of FSAs for Ontario.\")\n",
    "fsa_gdf = fsa_gdf.query('PROV == \"ON\"')\n",
    "print(\"{0:,} rows in the subset. \".format(len(fsa_gdf)) + \n",
    "      \"{0:,} unique keys 'FSA'\".format(fsa_gdf['FSA'].nunique()))\n",
    "\n",
    "\n",
    "cols = ['FSA', 'geometry']\n",
    "print(\"\\nTaking the subset with columns\\n:\", cols)\n",
    "\n",
    "fsa_gdf = fsa_gdf[cols]\n",
    "\n",
    "print(\"\\n-- New column names:\\n\", fsa_gdf.columns)\n",
    "\n",
    "fsa_gdf.plot();"
   ]
  },
  {
   "cell_type": "markdown",
   "metadata": {
    "pycharm": {
     "name": "#%% md\n"
    }
   },
   "source": [
    "## Load Postal Geometry for Ontario"
   ]
  },
  {
   "cell_type": "code",
   "execution_count": 8,
   "metadata": {},
   "outputs": [
    {
     "name": "stdout",
     "output_type": "stream",
     "text": [
      "----- GeoDataFrame loaded\n",
      "in 48.66 seconds (0.81 minutes)\n",
      "with 555,668 rows\n",
      "and 12 columns\n",
      "-- Column names:\n",
      " Index(['PCA_ID', 'POSTALCODE', 'PROV', 'MAF_ID', 'PREC_CODE', 'PCA_COUNT',\n",
      "       'DOM_PCA', 'MULTI_PC', 'DEL_M_ID', 'LONGITUDE', 'LATITUDE', 'geometry'],\n",
      "      dtype='object')\n",
      "\n",
      "Taking the subset with columns\n",
      ": ['PCA_ID', 'POSTALCODE', 'MAF_ID', 'DEL_M_ID', 'geometry']\n",
      "555,668 unique keys 'PCA_ID'\n",
      "\n",
      "-- New column names:\n",
      " Index(['PCA_ID', 'POSTALCODE', 'MAF_ID', 'DEL_M_ID', 'geometry'], dtype='object')\n"
     ]
    }
   ],
   "source": [
    "t = time()\n",
    "ldu_gdf = gpd.read_file(ldu_path + 'ONldu_nodup.shp')\n",
    "elapsed = time() - t\n",
    "\n",
    "print(\"----- GeoDataFrame loaded\"\n",
    "      \"\\nin {0:.2f} seconds ({1:.2f} minutes)\".format(elapsed, elapsed / 60) + \n",
    "      \"\\nwith {0:,} rows\\nand {1:,} columns\"\n",
    "      .format(ldu_gdf.shape[0], ldu_gdf.shape[1]) + \n",
    "      \"\\n-- Column names:\\n\", ldu_gdf.columns)\n",
    "\n",
    "cols = ['PCA_ID', 'POSTALCODE', 'MAF_ID', 'DEL_M_ID', 'geometry']\n",
    "print(\"\\nTaking the subset with columns\\n:\", cols)\n",
    "\n",
    "ldu_gdf = ldu_gdf[cols]\n",
    "print(\"{0:,} unique keys 'PCA_ID'\".format(ldu_gdf['PCA_ID'].nunique()))\n",
    "\n",
    "print(\"\\n-- New column names:\\n\", ldu_gdf.columns)\n",
    "\n",
    "# ldu_gdf.plot(); # map takes several minutes to plot"
   ]
  },
  {
   "cell_type": "markdown",
   "metadata": {
    "pycharm": {
     "name": "#%% md\n"
    }
   },
   "source": [
    "## Load Teranet data"
   ]
  },
  {
   "cell_type": "code",
   "execution_count": 9,
   "metadata": {
    "pycharm": {
     "is_executing": false,
     "name": "#%%\n"
    }
   },
   "outputs": [
    {
     "name": "stderr",
     "output_type": "stream",
     "text": [
      "/home/stepan/anaconda3/envs/gds/lib/python3.6/site-packages/IPython/core/interactiveshell.py:3058: DtypeWarning: Columns (9) have mixed types. Specify dtype option on import or set low_memory=False.\n",
      "  interactivity=interactivity, compiler=compiler, result=result)\n"
     ]
    },
    {
     "name": "stdout",
     "output_type": "stream",
     "text": [
      "----- DataFrame loaded\n",
      "in 20.84 seconds\n",
      "with 6,803,756 rows\n",
      "and 19 columns\n",
      "-- Column names:\n",
      " Index(['lro_num', 'pin', 'consideration_amt', 'registration_date',\n",
      "       'POSTAL_CODE', 'PROVINCE', 'UNITNO', 'STREET_NAME',\n",
      "       'STREET_DESIGNATION', 'STREET_DIRECTION', 'MUNICIPALITY',\n",
      "       'STREET_SUFFIX', 'STREET_NUMBER', 'X', 'Y', 'DAUID', 'CSDUID',\n",
      "       'CSDNAME', 'TAZ_O'],\n",
      "      dtype='object')\n",
      "\n",
      "----- Geometry generated from 'X' and 'Y' pairs, GeoDataFrame created!\n",
      "in 93.46 seconds (1.56 minutes)\n",
      "with 6,803,756 rows\n",
      "and 20 columns\n",
      "-- Column names:\n",
      " Index(['lro_num', 'pin', 'consideration_amt', 'registration_date',\n",
      "       'POSTAL_CODE', 'PROVINCE', 'UNITNO', 'STREET_NAME',\n",
      "       'STREET_DESIGNATION', 'STREET_DIRECTION', 'MUNICIPALITY',\n",
      "       'STREET_SUFFIX', 'STREET_NUMBER', 'X', 'Y', 'DAUID', 'CSDUID',\n",
      "       'CSDNAME', 'TAZ_O', 'geometry'],\n",
      "      dtype='object')\n",
      "\n",
      "----- CRS dictionary for WGS84 added to geo data frame 'teranet_gdf'!\n"
     ]
    }
   ],
   "source": [
    "t = time()\n",
    "teranet_df = pd.read_csv(teranet_path + '1.2_Teranet_DA_TAZ.csv')\n",
    "elapsed = time() - t\n",
    "print(\"----- DataFrame loaded\"\n",
    "      \"\\nin {0:.2f} seconds\".format(elapsed) + \n",
    "      \"\\nwith {0:,} rows\\nand {1:,} columns\"\n",
    "      .format(teranet_df.shape[0], teranet_df.shape[1]) + \n",
    "      \"\\n-- Column names:\\n\", teranet_df.columns)\n",
    "\n",
    "t = time()\n",
    "# combine values in columns 'x' and 'y' into a POINT geometry object\n",
    "geometry = [Point(xy) for xy in zip(teranet_df['X'], teranet_df['Y'])]\n",
    "# generate a new GeoDataFrame by adding point geometry to data frame 'teranet_sales_data'\n",
    "teranet_gdf = gpd.GeoDataFrame(teranet_df, geometry=geometry)\n",
    "elapsed = time() - t\n",
    "print(\"\\n----- Geometry generated from 'X' and 'Y' pairs, GeoDataFrame created!\"\n",
    "      \"\\nin {0:.2f} seconds ({1:.2f} minutes)\".format(elapsed, elapsed / 60) + \n",
    "      \"\\nwith {0:,} rows\\nand {1:,} columns\"\n",
    "      .format(teranet_gdf.shape[0], teranet_gdf.shape[1]) + \n",
    "      \"\\n-- Column names:\\n\", teranet_gdf.columns)\n",
    "\n",
    "# add CRS for WGS84 (lat-long) to GeoDataFrame with Teranet records\n",
    "teranet_gdf.crs = {'proj': 'latlong', \n",
    "                   'ellps': 'WGS84', \n",
    "                   'datum': 'WGS84', \n",
    "                   'no_defs': True}\n",
    "print(\"\\n----- CRS dictionary for WGS84 added to geo data frame 'teranet_gdf'!\")"
   ]
  },
  {
   "cell_type": "markdown",
   "metadata": {
    "pycharm": {
     "name": "#%% md\n"
    }
   },
   "source": [
    "## Perform the spatial join of Teranet points with DA polygons\n",
    "### Validate projections"
   ]
  },
  {
   "cell_type": "code",
   "execution_count": 10,
   "metadata": {
    "pycharm": {
     "is_executing": false,
     "name": "#%%\n"
    }
   },
   "outputs": [
    {
     "data": {
      "text/plain": [
       "{'proj': 'latlong', 'ellps': 'WGS84', 'datum': 'WGS84', 'no_defs': True}"
      ]
     },
     "execution_count": 10,
     "metadata": {},
     "output_type": "execute_result"
    }
   ],
   "source": [
    "teranet_gdf.crs"
   ]
  },
  {
   "cell_type": "code",
   "execution_count": 11,
   "metadata": {
    "pycharm": {
     "is_executing": false,
     "name": "#%%\n"
    },
    "scrolled": true
   },
   "outputs": [
    {
     "data": {
      "text/plain": [
       "{'init': 'epsg:4326'}"
      ]
     },
     "execution_count": 11,
     "metadata": {},
     "output_type": "execute_result"
    }
   ],
   "source": [
    "fsa_gdf.crs"
   ]
  },
  {
   "cell_type": "code",
   "execution_count": 12,
   "metadata": {
    "pycharm": {
     "is_executing": false,
     "name": "#%%\n"
    },
    "scrolled": true
   },
   "outputs": [
    {
     "data": {
      "text/plain": [
       "{'init': 'epsg:4326'}"
      ]
     },
     "execution_count": 12,
     "metadata": {},
     "output_type": "execute_result"
    }
   ],
   "source": [
    "ldu_gdf.crs"
   ]
  },
  {
   "cell_type": "markdown",
   "metadata": {},
   "source": [
    "### Convert TAZ CRS to EPSG:4326"
   ]
  },
  {
   "cell_type": "code",
   "execution_count": 13,
   "metadata": {},
   "outputs": [
    {
     "data": {
      "text/plain": [
       "{'init': 'epsg:4326', 'no_defs': True}"
      ]
     },
     "execution_count": 13,
     "metadata": {},
     "output_type": "execute_result"
    }
   ],
   "source": [
    "fsa_gdf = fsa_gdf.to_crs(epsg=4326)\n",
    "fsa_gdf.crs"
   ]
  },
  {
   "cell_type": "markdown",
   "metadata": {},
   "source": [
    "### Perform the spatial join\n",
    ">Note: EPSG:4326 and WGS 84 represent the [same projection](https://spatialreference.org/ref/epsg/wgs-84/)."
   ]
  },
  {
   "cell_type": "code",
   "execution_count": 14,
   "metadata": {
    "pycharm": {
     "is_executing": true
    }
   },
   "outputs": [
    {
     "name": "stderr",
     "output_type": "stream",
     "text": [
      "/home/stepan/anaconda3/envs/gds/lib/python3.6/site-packages/geopandas/tools/sjoin.py:44: UserWarning: CRS of frames being joined does not match!\n",
      "  warn('CRS of frames being joined does not match!')\n"
     ]
    },
    {
     "name": "stdout",
     "output_type": "stream",
     "text": [
      "\n",
      "----- Spatial join completed, new GeoDataFrame created\n",
      "in 440.19 seconds (7.34 minutes)\n",
      "with 6,803,756 rows\n",
      "and 21 columns\n",
      "-- Column names:\n",
      " Index(['lro_num', 'pin', 'consideration_amt', 'registration_date',\n",
      "       'POSTAL_CODE', 'PROVINCE', 'UNITNO', 'STREET_NAME',\n",
      "       'STREET_DESIGNATION', 'STREET_DIRECTION', 'MUNICIPALITY',\n",
      "       'STREET_SUFFIX', 'STREET_NUMBER', 'X', 'Y', 'DAUID', 'CSDUID',\n",
      "       'CSDNAME', 'TAZ_O', 'geometry', 'FSA'],\n",
      "      dtype='object')\n"
     ]
    }
   ],
   "source": [
    "t = time()\n",
    "teranet_fsa_gdf = gpd.sjoin(teranet_gdf, fsa_gdf, \n",
    "                            how='left', op='within')\n",
    "teranet_fsa_gdf = teranet_fsa_gdf.drop('index_right', axis=1)\n",
    "elapsed = time() - t\n",
    "print(\"\\n----- Spatial join completed, new GeoDataFrame created\"\n",
    "      \"\\nin {0:.2f} seconds ({1:.2f} minutes)\".format(elapsed, elapsed / 60) + \n",
    "      \"\\nwith {0:,} rows\\nand {1:,} columns\"\n",
    "      .format(teranet_fsa_gdf.shape[0], teranet_fsa_gdf.shape[1]) + \n",
    "      \"\\n-- Column names:\\n\", teranet_fsa_gdf.columns)"
   ]
  },
  {
   "cell_type": "code",
   "execution_count": 15,
   "metadata": {
    "pycharm": {
     "is_executing": true
    }
   },
   "outputs": [
    {
     "name": "stdout",
     "output_type": "stream",
     "text": [
      "\n",
      "----- Spatial join completed, new GeoDataFrame created\n",
      "in 538.95 seconds (8.98 minutes)\n",
      "with 6,803,756 rows\n",
      "and 26 columns\n",
      "-- Column names:\n",
      " Index(['lro_num', 'pin', 'consideration_amt', 'registration_date',\n",
      "       'POSTAL_CODE', 'PROVINCE', 'UNITNO', 'STREET_NAME',\n",
      "       'STREET_DESIGNATION', 'STREET_DIRECTION', 'MUNICIPALITY',\n",
      "       'STREET_SUFFIX', 'STREET_NUMBER', 'X', 'Y', 'DAUID', 'CSDUID',\n",
      "       'CSDNAME', 'TAZ_O', 'geometry', 'FSA', 'index_right', 'PCA_ID',\n",
      "       'POSTALCODE', 'MAF_ID', 'DEL_M_ID'],\n",
      "      dtype='object')\n"
     ]
    }
   ],
   "source": [
    "t = time()\n",
    "teranet_fsa_pg_gdf = gpd.sjoin(teranet_fsa_gdf, ldu_gdf, \n",
    "                               how='left', op='within')\n",
    "elapsed = time() - t\n",
    "print(\"\\n----- Spatial join completed, new GeoDataFrame created\"\n",
    "      \"\\nin {0:.2f} seconds ({1:.2f} minutes)\".format(elapsed, elapsed / 60) + \n",
    "      \"\\nwith {0:,} rows\\nand {1:,} columns\"\n",
    "      .format(teranet_fsa_pg_gdf.shape[0], teranet_fsa_pg_gdf.shape[1]) + \n",
    "      \"\\n-- Column names:\\n\", teranet_fsa_pg_gdf.columns)"
   ]
  },
  {
   "cell_type": "markdown",
   "metadata": {},
   "source": [
    "### Rename 'POSTALCODE' to 'postal_code_dmti'"
   ]
  },
  {
   "cell_type": "code",
   "execution_count": 16,
   "metadata": {},
   "outputs": [
    {
     "name": "stdout",
     "output_type": "stream",
     "text": [
      "Column was renamed.\n"
     ]
    }
   ],
   "source": [
    "teranet_fsa_pg_gdf = teranet_fsa_pg_gdf.rename(columns={'POSTALCODE': 'postal_code_dmti'})\n",
    "print(\"Column was renamed.\")"
   ]
  },
  {
   "cell_type": "markdown",
   "metadata": {},
   "source": [
    "### Save results to a .csv file"
   ]
  },
  {
   "cell_type": "code",
   "execution_count": 17,
   "metadata": {
    "pycharm": {
     "is_executing": true
    }
   },
   "outputs": [
    {
     "name": "stdout",
     "output_type": "stream",
     "text": [
      "DataFrame saved to file:\n",
      " ../../data/teranet/1.3_Teranet_DA_TAZ_PG_FSA.csv \n",
      "took 159.88 seconds (2.66 minutes)\n"
     ]
    }
   ],
   "source": [
    "save_path = teranet_path + '1.3_Teranet_DA_TAZ_PG_FSA.csv'\n",
    "t = time()\n",
    "teranet_fsa_pg_gdf.drop(['index_right', 'geometry'], axis=1).to_csv(save_path, index=False)\n",
    "elapsed = time() - t\n",
    "print(\"DataFrame saved to file:\\n\", save_path,\n",
    "      \"\\ntook {0:.2f} seconds ({1:.2f} minutes)\".format(elapsed, elapsed / 60))"
   ]
  }
 ],
 "metadata": {
  "kernelspec": {
   "display_name": "Python 3",
   "language": "python",
   "name": "python3"
  },
  "language_info": {
   "codemirror_mode": {
    "name": "ipython",
    "version": 3
   },
   "file_extension": ".py",
   "mimetype": "text/x-python",
   "name": "python",
   "nbconvert_exporter": "python",
   "pygments_lexer": "ipython3",
   "version": "3.6.9"
  },
  "pycharm": {
   "stem_cell": {
    "cell_type": "raw",
    "metadata": {
     "collapsed": false
    },
    "source": []
   }
  }
 },
 "nbformat": 4,
 "nbformat_minor": 1
}
