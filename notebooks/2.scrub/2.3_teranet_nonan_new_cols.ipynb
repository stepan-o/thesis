{
 "cells": [
  {
   "cell_type": "markdown",
   "metadata": {},
   "source": [
    "# GTHA housing market database\n",
    "# OSEMN methodology Step 2: Scrub\n",
    "# Step 2.3 addition of new attributes to the Teranet dataset \n",
    "# (excluding records with  `consideration_amt` < 10'000)\n",
    "\n",
    "---\n",
    "\n",
    "This notebook describes Step 2.3 (part of _Step 2: Scrub_ of OSEMN methodology) performed on the Teranet dataset.\n",
    "\n",
    "It is identical to the notebook `notebooks/2.scrub/2.3_teranet_new_cols.ipynb`, with the only difference being that prior to the addition of new attributes, **all records with missing `consideration_amt` are removed from the dataset.** In addition, **all values of `consideration_amt` less than 10'000 CAD are reset to NaN,** to exclude transactions with unreasonably low `consideration_amt`.\n",
    "\n",
    "**_Surrogate key_** `transaction_id` is added prior to the removal of any records, so that the keys match between both versions of the Teranet dataset -- the one with unmodified `consideration_amt` and the one where records with `consideration_amt` < 10'000 CAD have been dropped.\n",
    "\n",
    "Step 2.3 focuses on the addition of several new attributes to the Teranet dataset. Plan for the addition of the new attributes is presented below.\n",
    "\n",
    "Previous steps included: \n",
    "\n",
    "* **Step 2.1:** spatial join between the Teranet points and the polygons of GTHA Dissemination Areas (DAs)\n",
    "    \n",
    "    * During step 2.1, Teranet records whose coordinates fall outside of the GTHA boundary (as defined by the DA geometry) have been filtered out (6,803,691 of the original 9,039,241 Teranet records remain in the dataset)\n",
    "     \n",
    "    * In addition to that, three new columns (`OBJECTID`, `DAUID`, and `CSDNAME`) derived from DA attributes have been added to each Teranet transaction\n",
    "\n",
    "    * for details, see `notebooks/2.scrub/2.1_teranet_gtha_spatial_join.ipynb`\n",
    "\n",
    "* **Step 2.2:** correction for consistency of the Teranet records\n",
    "\n",
    "    * column names were converted to lower case\n",
    "    \n",
    "    * inconsistent capitalizations were fixed for columns\n",
    "    \n",
    "        * `municipality`    \n",
    "        * `street_name`\n",
    "        * `street_designation`\n",
    "        * `postal_code` (did not show problems, converted as a preventive measure)\n",
    "        \n",
    "    * columns `province` and `street_suffix` were removed from the dataset\n",
    "    \n",
    "    * new column `street_name_raw` was created: reserve copy of unmodified `street_name`\n",
    "    \n",
    "    * column `street_name` was parsed and cleaned for:\n",
    "    \n",
    "        * `postal_code`\n",
    "        * `unitno`\n",
    "        * `street_number`\n",
    "        * `street_direction`\n",
    "        * `street_designation`\n",
    "        \n",
    "    * plots of the count and percentage of missing values per column were produced\n",
    "    \n",
    "    * inconsistent entries were fixed in the following columns:\n",
    "        \n",
    "        * `street_direction`\n",
    "        * `street_designation`\n",
    "        * `municipality`\n",
    "        * `street_name`\n",
    "        * `unitno`\n",
    "        \n",
    "    * for details, see `notebooks/2.scrub/2.2_teranet_consistency.ipynb`\n",
    "\n",
    "---\n",
    "\n",
    "For description of OSEMN methodology, see `methodology/0.osemn/osemn.pdf`.\n",
    "\n",
    "For background information, description of the Teranet dataset, and its attributes, see `methodology/1.obtain/obtain.pdf`.\n",
    "\n",
    "For description of _Step 2: Scrub_ of OSEMN methodology, see `methodology/2.scrub/scrub.pdf`.\n",
    "\n",
    "For description of the cleanup plan for the Teranet dataset, see `methodology/2.scrub/teranet_cleanup_plan.pdf`.\n",
    "\n",
    "For description of Step 2.1 of the cleanup process, see `notebooks/2.scrub/2.1_teranet_gtha_spatial_join.ipynb`.\n",
    "\n",
    "For description of Step 2.2 of the cleanup process, see `notebooks/2.scrub/2.2_teranet_consistency.ipynb`."
   ]
  },
  {
   "cell_type": "markdown",
   "metadata": {
    "pycharm": {
     "name": "#%% md\n"
    }
   },
   "source": [
    "## Plan for the addition of the new attributes\n",
    "\n",
    "**All Teranet records with missing `consideration_amt` are removed from the dataset.** The rest of this notebook is identical to the notebook `notebooks/2.scrub/2.3_teranet_new_cols`. **_Surrogate key_** `transaction_id` is added prior to the removal of any records, so that the keys match between both versions of the Teranet dataset -- the one with unmodified `consideration_amt` and the one where records with `consideration_amt` < 10'000 CAD have been dropped.\n",
    "\n",
    "### Previously added attributes\n",
    "\n",
    "Previously, the following new attributes were created in the Teranet dataset:\n",
    "\n",
    "* attributes produced from the spatial join with DA geometry:\n",
    "\n",
    "    * `objectid`: an identifier for Dissemination Areas (DAs), added as a backup identifier for DAs\n",
    "\n",
    "    * `dauid`: another identifier for Dissemination Areas, indented to be used as the **_foreign key_** linking Teranet records with DAs (will become the **_primary key_** of DA-level datasets (_e.g.,_ DA-level Census data)\n",
    "    \n",
    "    * `csdname`: municipality name according to Census data (DA-level)\n",
    "\n",
    "These attributes were added to each Teranet record via a spatial join of Teranet points with the polygons of Dissemination Areas (DAs) during Step 2.1 of the cleanup process\n",
    "\n",
    "* attributes produced during the correction of Teranet records for consistency:\n",
    "\n",
    "    * `street_name_raw`: unmodified reserve copy of the original `street_name` from the Teranet dataset\n",
    "\n",
    "### Attributes to be added in this step\n",
    "\n",
    "In this step, the following attributes will be added to the Teranet dataset:\n",
    "\n",
    "* surrogate key:\n",
    "\n",
    "    * `transaction_id`: unique identifier for each Teranet transaction \n",
    "    \n",
    "Essentially, a simple range index, which represents the row number of a record in the full Teranet dataset (filtered to include only GTHA records), ordered by date (from earliest to latest) and `pin`\n",
    "    \n",
    "* attributes for display\n",
    "\n",
    "    * `date_disp`: `registration_date` converted to `datetime.date` data type to exclude the timestamp (original `registration_date` is stored in NumPy's `datetime64` format to allow more efficient datetime operations)\n",
    "    \n",
    "    * `price_disp`: `consideration_amt` formatted to include thousands separator (_e.g.,_ '3,455,122') and stored as a string, for display purposes\n",
    "    \n",
    "* attributes for record grouping\n",
    "    \n",
    "    * `year`: year parsed from `registration_date`, to simplify record grouping\n",
    "    \n",
    "    * `year_month`: year and month parsed from `registration_date`, to simplify record grouping\n",
    "    \n",
    "    * `year3`: `registration_date` parsed for 3-year intervals (_e.g.,_ '2014-2016'), to simplify record grouping\n",
    "    \n",
    "    * `year5`: `registration_date` parsed for 5-year intervals (_e.g.,_ '2012-2016'), to simplify record grouping\n",
    "    \n",
    "    * `year10`: `registration_date` parsed for 3-year intervals (_e.g.,_ '2007-2017'), to simplify record grouping\n",
    "    \n",
    "    * `xy`: `x` and `y` coordinates concatenated together (_e.g.,_ '43.098324_-79.234235'), can be used to identify and group records by their coordinate pairs\n",
    "    \n",
    "* correction of `consideration_amt` for inflation    \n",
    "    \n",
    "    * `price_infl`: `consideration_amt` corrected for inflation\n",
    "    \n",
    "* exploratory attributes\n",
    "\n",
    "    * `pin/xy_total_sales`: total records for this `pin`/`xy`\n",
    "\n",
    "    * `pin/xy_prev_sales`: previous records from this `pin`/`xy` (not counting current transaction)\n",
    "\n",
    "    * `pin/xy_price_cum_sum`: cumulative price of all records to date from this `pin`/`xy`\n",
    "\n",
    "    * `pin/xy_price_pct_change`: price percentage change compared to previous record from this `pin`/`xy`\n",
    "\n",
    "    * `price_da_pct_change`: price percentage change compared to previous record from this DA (by `da_id`)\n",
    "\n",
    "    * `pin/xy_years_since_last_sale`: years since last sale from this `pin`/`xy`\n",
    "\n",
    "    * `da_days_since_last_sale`, `da_years_since_last_sale`: days or years since last sale from this DA (by `da_id`)\n",
    "\n",
    "    * `sale_next_6m/1y/3y`: \"looks into the future\" to see whether there is another transaction from this `pin`/`xy` within the given time horizon (6 months, 1 year, 3 years)\n",
    "    "
   ]
  },
  {
   "cell_type": "markdown",
   "metadata": {
    "pycharm": {
     "name": "#%% md\n"
    }
   },
   "source": [
    "## Import dependencies"
   ]
  },
  {
   "cell_type": "code",
   "execution_count": 1,
   "metadata": {
    "pycharm": {
     "is_executing": false,
     "name": "#%%\n"
    }
   },
   "outputs": [],
   "source": [
    "import numpy as np\n",
    "import matplotlib.pyplot as plt\n",
    "import matplotlib\n",
    "import seaborn as sns\n",
    "import pandas as pd\n",
    "import os\n",
    "from time import time\n",
    "\n",
    "sns.set()"
   ]
  },
  {
   "cell_type": "code",
   "execution_count": 2,
   "metadata": {
    "pycharm": {
     "is_executing": false,
     "name": "#%%\n"
    }
   },
   "outputs": [
    {
     "data": {
      "text/plain": [
       "['3_Teranet_new_cols.csv',\n",
       " 'epoi_gtha13',\n",
       " '2_Teranet_consistent.csv',\n",
       " '1.2_Teranet_DA_TAZ_cols.csv',\n",
       " '1.1_Teranet_DA_cols.csv',\n",
       " '1.3_Teranet_DA_TAZ_LU.csv',\n",
       " 'ParcelLandUse.zip',\n",
       " 'ParcelLandUse',\n",
       " 'HHSaleHistory.csv',\n",
       " '3_Teranet_nonan_new_cols.csv',\n",
       " 'GTAjoinedLanduseSales']"
      ]
     },
     "execution_count": 2,
     "metadata": {},
     "output_type": "execute_result"
    }
   ],
   "source": [
    "data_path = '../../data/teranet/'\n",
    "os.listdir(data_path)"
   ]
  },
  {
   "cell_type": "markdown",
   "metadata": {},
   "source": [
    "## Load Teranet data"
   ]
  },
  {
   "cell_type": "code",
   "execution_count": 3,
   "metadata": {
    "pycharm": {
     "is_executing": false,
     "name": "#%%\n"
    }
   },
   "outputs": [
    {
     "name": "stdout",
     "output_type": "stream",
     "text": [
      "----- DataFrame loaded\n",
      "in 1,144.37 seconds (19.07 minutes)\n",
      "with 6,803,767 rows\n",
      "and 21 columns\n",
      "-- Column names:\n",
      " Index(['lro_num', 'pin', 'consideration_amt', 'registration_date',\n",
      "       'postal_code', 'unitno', 'street_name', 'street_designation',\n",
      "       'street_direction', 'municipality', 'street_number', 'x', 'y', 'dauid',\n",
      "       'csduid', 'csdname', 'taz_o', 'pin_lu', 'landuse', 'prop_code',\n",
      "       'street_name_raw'],\n",
      "      dtype='object')\n"
     ]
    }
   ],
   "source": [
    "t = time()\n",
    "\n",
    "df = pd.read_csv(data_path + '2_Teranet_consistent.csv',\n",
    "                 parse_dates=['registration_date'], low_memory=False)\n",
    "elapsed = time() - t\n",
    "print(\"----- DataFrame loaded\"\n",
    "      \"\\nin {0:,.2f} seconds ({1:.2f} minutes)\".format(elapsed, elapsed / 60) + \n",
    "      \"\\nwith {0:,} rows\\nand {1:,} columns\"\n",
    "      .format(df.shape[0], df.shape[1]) + \n",
    "      \"\\n-- Column names:\\n\", df.columns)"
   ]
  },
  {
   "cell_type": "code",
   "execution_count": 4,
   "metadata": {
    "pycharm": {
     "is_executing": false,
     "name": "#%%\n"
    }
   },
   "outputs": [
    {
     "name": "stdout",
     "output_type": "stream",
     "text": [
      "<class 'pandas.core.frame.DataFrame'>\n",
      "RangeIndex: 6803767 entries, 0 to 6803766\n",
      "Data columns (total 21 columns):\n",
      "lro_num               6803767 non-null int64\n",
      "pin                   6803767 non-null int64\n",
      "consideration_amt     6803767 non-null float64\n",
      "registration_date     6803767 non-null datetime64[ns]\n",
      "postal_code           6233378 non-null object\n",
      "unitno                1572961 non-null object\n",
      "street_name           6598370 non-null object\n",
      "street_designation    6522471 non-null object\n",
      "street_direction      683462 non-null object\n",
      "municipality          6799752 non-null object\n",
      "street_number         6594376 non-null object\n",
      "x                     6803767 non-null float64\n",
      "y                     6803767 non-null float64\n",
      "dauid                 6803767 non-null int64\n",
      "csduid                6803767 non-null int64\n",
      "csdname               6803767 non-null object\n",
      "taz_o                 6802628 non-null float64\n",
      "pin_lu                6491804 non-null float64\n",
      "landuse               6009136 non-null float64\n",
      "prop_code             482676 non-null float64\n",
      "street_name_raw       6598370 non-null object\n",
      "dtypes: datetime64[ns](1), float64(7), int64(4), object(9)\n",
      "memory usage: 1.1+ GB\n"
     ]
    }
   ],
   "source": [
    "df.info(null_counts=True)"
   ]
  },
  {
   "cell_type": "markdown",
   "metadata": {
    "pycharm": {
     "name": "#%% md\n"
    }
   },
   "source": [
    "## Surrogate key\n",
    "\n",
    "### Add attribute `transaction_id`\n",
    "Attribute `transaction_id` is intended as a unique identifier for each record in the Teranet dataset. It will be used as the **_primary key_** for records in Teranet table in the proposed GTHA housing market database. It is produced as a surrogate key, as no other attribute or combination of attributes in the Teranet dataset allows the records to be uniquely identified. \n",
    "    \n",
    "`transaction_id` is essentially a simple range index, which represents the row number of a record in the full Teranet dataset (filtered to include only GTHA records), ordered by date (from earliest to latest) and `pin`\n",
    "\n",
    "**_Surrogate key_** `transaction_id` is added prior to the removal of any records, so that the keys match between both versions of the Teranet dataset -- the one with unmodified `consideration_amt` and the one where records with `consideration_amt` < 10'000 CAD have been dropped.\n",
    "\n",
    "#### Order Teranet records by `registration_date` and `pin`"
   ]
  },
  {
   "cell_type": "code",
   "execution_count": 5,
   "metadata": {
    "pycharm": {
     "is_executing": false,
     "name": "#%%\n"
    }
   },
   "outputs": [
    {
     "name": "stdout",
     "output_type": "stream",
     "text": [
      "DataFrame was resorted by 'registration_date' and 'pin'.\n"
     ]
    }
   ],
   "source": [
    "df = df.sort_values(['registration_date', 'pin'])\n",
    "print(\"DataFrame was resorted by 'registration_date' and 'pin'.\")"
   ]
  },
  {
   "cell_type": "markdown",
   "metadata": {
    "pycharm": {
     "name": "#%% md\n"
    }
   },
   "source": [
    "#### Insert the new column `transaction_id`"
   ]
  },
  {
   "cell_type": "code",
   "execution_count": 6,
   "metadata": {
    "pycharm": {
     "is_executing": false,
     "name": "#%%\n"
    }
   },
   "outputs": [
    {
     "name": "stdout",
     "output_type": "stream",
     "text": [
      "New column 'transaction_id' was added to the DataFrame.\n"
     ]
    }
   ],
   "source": [
    "df.insert(0, \"transaction_id\", np.arange(len(df)))\n",
    "print(\"New column 'transaction_id' was added to the DataFrame.\")"
   ]
  },
  {
   "cell_type": "markdown",
   "metadata": {},
   "source": [
    "## Reset all values of `consideration_amt` < 10'000 CAD to NaN\n",
    "All values of `consideration_amt` less than 10'000 CAD are reset to NaN. The boundary of 10'000 CAD has been selected fairly arbitrary, to cut off the spike of records with low values from the distribution of `consideration_amt` (presented below). On the charts below, values of `consideration_amt` greater than 1'000'000 are not displayed, but they are left in the Teranet dataset, only the values with low `consideration_amt` are removed."
   ]
  },
  {
   "cell_type": "markdown",
   "metadata": {},
   "source": [
    "#### Distribution of `consideration_amt`, from 0 to 2'000'000 CAD"
   ]
  },
  {
   "cell_type": "code",
   "execution_count": 7,
   "metadata": {},
   "outputs": [
    {
     "data": {
      "image/png": "[encoded data removed]",
      "text/plain": [
       "<Figure size 864x864 with 1 Axes>"
      ]
     },
     "metadata": {
      "needs_background": "light"
     },
     "output_type": "display_data"
    }
   ],
   "source": [
    "%matplotlib inline\n",
    "ax = df.query('consideration_amt < 2000000')['consideration_amt']\\\n",
    "    .hist(bins=100, figsize=(12,12))\n",
    "ax.get_xaxis().set_major_formatter(\n",
    "    matplotlib.ticker.FuncFormatter(lambda x, p: format(int(x), ',')))\n",
    "ax.get_yaxis().set_major_formatter(\n",
    "    matplotlib.ticker.FuncFormatter(lambda x, p: format(int(x), ',')))\n",
    "ax.set_xlabel(\"Consideration amount\", fontsize=16)\n",
    "ax.set_ylabel(\"Count of records\", fontsize=16)\n",
    "ax.set_title(\"Distribution of 'consideration_amt', from 0 to 2'000'000 CAD\", fontsize=20)\n",
    "plt.xticks(rotation=45, fontsize=16)\n",
    "plt.yticks(fontsize=14)\n",
    "plt.savefig('results/teranet_price_dist.png', dpi=300, bbox_inches='tight')"
   ]
  },
  {
   "cell_type": "markdown",
   "metadata": {},
   "source": [
    "#### Distribution of `consideration_amt`, from 10'000 to 2'000'000 CAD"
   ]
  },
  {
   "cell_type": "code",
   "execution_count": 8,
   "metadata": {},
   "outputs": [
    {
     "data": {
      "image/png": "[encoded data removed]",
      "text/plain": [
       "<Figure size 864x864 with 1 Axes>"
      ]
     },
     "metadata": {
      "needs_background": "light"
     },
     "output_type": "display_data"
    }
   ],
   "source": [
    "ax = df.query('consideration_amt < 2000000 & consideration_amt > 10000')['consideration_amt']\\\n",
    "    .hist(bins=100, figsize=(12,12))\n",
    "ax.get_xaxis().set_major_formatter(\n",
    "    matplotlib.ticker.FuncFormatter(lambda x, p: format(int(x), ',')))\n",
    "ax.get_yaxis().set_major_formatter(\n",
    "    matplotlib.ticker.FuncFormatter(lambda x, p: format(int(x), ',')))\n",
    "ax.set_xlabel(\"Consideration amount\", fontsize=16)\n",
    "ax.set_ylabel(\"Count of records\", fontsize=16)\n",
    "ax.set_title(\"Distribution of 'consideration_amt', from 10'000 to 2'000'000 CAD\", fontsize=20)\n",
    "plt.xticks(rotation=45, fontsize=16)\n",
    "plt.yticks(fontsize=14)\n",
    "plt.savefig('results/teranet_10000_price_dist.png', dpi=300, bbox_inches='tight')"
   ]
  },
  {
   "cell_type": "markdown",
   "metadata": {},
   "source": [
    "#### Reset all values of `consideration_amt` < 10'000 to NaN\n",
    "To eliminate the spike on the distribution of `consideration_amt` corresponding to records with unreasonably low values, all values of `consideration_amt` < 10'000 are reset to NaN. Records with `consideration_amt` > 2'000'000 are left in the Teranet dataset."
   ]
  },
  {
   "cell_type": "code",
   "execution_count": 9,
   "metadata": {},
   "outputs": [
    {
     "name": "stdout",
     "output_type": "stream",
     "text": [
      "Values of 'consideration_amt' of all records with price under 10,000 CAD were set to NaN!\n",
      "1,615,244 values (23.74% of the total) have been reset to NaN.\n",
      "'consideration_amt' now has 5,188,523 non-null entries.\n"
     ]
    }
   ],
   "source": [
    "min_price = 10000\n",
    "mask = df['consideration_amt'] < min_price\n",
    "df.loc[mask, 'consideration_amt'] = np.nan\n",
    "print(\"Values of 'consideration_amt' of all records with price under {0:,} CAD were set to NaN!\"\n",
    "     .format(min_price) + \n",
    "      \"\\n{0:,} values ({1:.2f}% of the total) have been reset to NaN.\"\n",
    "      .format(len(df) - df['consideration_amt'].count(),\n",
    "              (len(df) - df['consideration_amt'].count()) / len(df) * 100) +\n",
    "      \"\\n'consideration_amt' now has {0:,} non-null entries.\"\n",
    "       .format(df['consideration_amt'].count()))"
   ]
  },
  {
   "cell_type": "markdown",
   "metadata": {},
   "source": [
    "## Drop all records with missing `consideration_amt`\n",
    "All records with missing `consideration_amt` are removed from the Teranet dataset."
   ]
  },
  {
   "cell_type": "code",
   "execution_count": 10,
   "metadata": {},
   "outputs": [
    {
     "name": "stdout",
     "output_type": "stream",
     "text": [
      "1,615,244 records (23.74% of the total) with missing 'consideration_amt' have been removed from the dataset.\n",
      "5,188,523 records remaining.\n"
     ]
    }
   ],
   "source": [
    "old_len = len(df)\n",
    "df = df.dropna(subset=['consideration_amt'])\n",
    "print(\"{0:,} records ({1:,.2f}% of the total) with missing 'consideration_amt'\"\n",
    "      .format(old_len - len(df), (old_len - len(df)) / old_len * 100) +\n",
    "      \" have been removed from the dataset.\\n{0:,} records remaining.\"\n",
    "      .format(len(df)))"
   ]
  },
  {
   "cell_type": "code",
   "execution_count": 11,
   "metadata": {
    "pycharm": {
     "is_executing": false,
     "name": "#%%\n"
    }
   },
   "outputs": [
    {
     "name": "stdout",
     "output_type": "stream",
     "text": [
      "<class 'pandas.core.frame.DataFrame'>\n",
      "Int64Index: 5188523 entries, 793520 to 1218646\n",
      "Data columns (total 22 columns):\n",
      "transaction_id        5188523 non-null int64\n",
      "lro_num               5188523 non-null int64\n",
      "pin                   5188523 non-null int64\n",
      "consideration_amt     5188523 non-null float64\n",
      "registration_date     5188523 non-null datetime64[ns]\n",
      "postal_code           4881922 non-null object\n",
      "unitno                1332616 non-null object\n",
      "street_name           5144069 non-null object\n",
      "street_designation    5090461 non-null object\n",
      "street_direction      550657 non-null object\n",
      "municipality          5187171 non-null object\n",
      "street_number         5142798 non-null object\n",
      "x                     5188523 non-null float64\n",
      "y                     5188523 non-null float64\n",
      "dauid                 5188523 non-null int64\n",
      "csduid                5188523 non-null int64\n",
      "csdname               5188523 non-null object\n",
      "taz_o                 5188037 non-null float64\n",
      "pin_lu                4947273 non-null float64\n",
      "landuse               4614377 non-null float64\n",
      "prop_code             332900 non-null float64\n",
      "street_name_raw       5144069 non-null object\n",
      "dtypes: datetime64[ns](1), float64(7), int64(5), object(9)\n",
      "memory usage: 910.5+ MB\n"
     ]
    }
   ],
   "source": [
    "df.info(null_counts=True)"
   ]
  },
  {
   "cell_type": "markdown",
   "metadata": {},
   "source": [
    "## Attributes for display\n",
    "\n",
    "### Add attribute `date_disp`\n",
    "Since Teranet records do not carry any actual timestamp (each record has a timestamp of '00:00:00'), a new column `date_disp` is created from `registration_date` to show only dates. The new column `date_disp` has a data type of `datetime.date`, while the original column `registration_date` is stored in NumPy's `datetime64` data type, which allows more efficient datetime operations."
   ]
  },
  {
   "cell_type": "code",
   "execution_count": 12,
   "metadata": {
    "pycharm": {
     "is_executing": false,
     "name": "#%%\n"
    }
   },
   "outputs": [
    {
     "name": "stdout",
     "output_type": "stream",
     "text": [
      "New column 'date_disp' was added to the DataFrame.\n"
     ]
    }
   ],
   "source": [
    "df['date_disp'] = df['registration_date'].dt.date\n",
    "print(\"New column 'date_disp' was added to the DataFrame.\")"
   ]
  },
  {
   "cell_type": "markdown",
   "metadata": {
    "pycharm": {
     "name": "#%% md\n"
    }
   },
   "source": [
    "### Add attribute `price_disp`\n",
    "A new column `price_disp` is created from values of `consideration_amt` formatted to include thousands separator (_e.g.,_ '3,455,122') and stored as a string, for display purposes."
   ]
  },
  {
   "cell_type": "code",
   "execution_count": 13,
   "metadata": {
    "pycharm": {
     "is_executing": false,
     "name": "#%%\n"
    }
   },
   "outputs": [
    {
     "name": "stdout",
     "output_type": "stream",
     "text": [
      "New column 'price_disp' was added to the DataFrame.\n"
     ]
    }
   ],
   "source": [
    "df['price_disp'] = df['consideration_amt'].apply(lambda x: '{:,}'.format(x))\n",
    "print(\"New column 'price_disp' was added to the DataFrame.\")"
   ]
  },
  {
   "cell_type": "markdown",
   "metadata": {},
   "source": [
    "## Add attribute `year`\n",
    "The new attribute `year` is parsed from `registration_date` and stored as a string, to simplify record grouping."
   ]
  },
  {
   "cell_type": "code",
   "execution_count": 14,
   "metadata": {
    "pycharm": {
     "is_executing": false,
     "name": "#%%\n"
    },
    "scrolled": true
   },
   "outputs": [
    {
     "name": "stdout",
     "output_type": "stream",
     "text": [
      "New column 'year' was added to the DataFrame.\n"
     ]
    }
   ],
   "source": [
    "df['year'] = df['date_disp'].astype('str').apply(lambda x: x[:4])\n",
    "print(\"New column 'year' was added to the DataFrame.\")"
   ]
  },
  {
   "cell_type": "markdown",
   "metadata": {},
   "source": [
    "## Add attribute `year_month`\n",
    "The new attribute `year_month` is parsed from `date_disp` and stored as a string, to simplify record grouping."
   ]
  },
  {
   "cell_type": "code",
   "execution_count": 15,
   "metadata": {
    "pycharm": {
     "is_executing": false,
     "name": "#%%\n"
    },
    "scrolled": true
   },
   "outputs": [
    {
     "name": "stdout",
     "output_type": "stream",
     "text": [
      "New column 'year_month' was added to the DataFrame.\n"
     ]
    }
   ],
   "source": [
    "df['year_month'] = df['date_disp'].astype('str').apply(lambda x: x[:7])\n",
    "print(\"New column 'year_month' was added to the DataFrame.\")"
   ]
  },
  {
   "cell_type": "markdown",
   "metadata": {},
   "source": [
    "## Add attribute `year3`\n",
    "The new attribute `year3` is created from the column `year` parsed for 3-year intervals (_e.g.,_ '2014-2016') and stored as a string, to simplify record grouping."
   ]
  },
  {
   "cell_type": "code",
   "execution_count": 16,
   "metadata": {
    "pycharm": {
     "is_executing": false,
     "name": "#%%\n"
    }
   },
   "outputs": [
    {
     "name": "stdout",
     "output_type": "stream",
     "text": [
      "New column 'year3' was added to the DataFrame. Took 307.12 seconds (5.12 minutes).\n"
     ]
    },
    {
     "data": {
      "text/plain": [
       "1865-1872         6\n",
       "1873-1876         7\n",
       "1877-1880         6\n",
       "1882-1884         8\n",
       "1885-1887         8\n",
       "1888-1890        27\n",
       "1891-1895        10\n",
       "1897-1900        20\n",
       "1901-1903        14\n",
       "1904-1906        10\n",
       "1907-1909        28\n",
       "1910-1912        63\n",
       "1913-1915        56\n",
       "1916-1918        44\n",
       "1919-1921        65\n",
       "1922-1924        85\n",
       "1925-1927        76\n",
       "1928-1930        95\n",
       "1931-1933        56\n",
       "1934-1936        82\n",
       "1937-1939        78\n",
       "1940-1942        60\n",
       "1943-1945        67\n",
       "1946-1948       129\n",
       "1949-1951       407\n",
       "1952-1954       731\n",
       "1955-1957       927\n",
       "1958-1960       894\n",
       "1961-1963       963\n",
       "1964-1966      1148\n",
       "1967-1969      1001\n",
       "1970-1972      1024\n",
       "1973-1975       807\n",
       "1976-1978      1154\n",
       "1979-1981      1507\n",
       "1982-1984      1042\n",
       "1985-1987     91732\n",
       "1988-1990    213381\n",
       "1991-1993    249801\n",
       "1994-1996    330850\n",
       "1997-1999    466381\n",
       "2000-2002    562066\n",
       "2003-2005    656825\n",
       "2006-2008    655583\n",
       "2009-2011    629142\n",
       "2012-2014    638766\n",
       "2015-2017    681291\n",
       "Name: year3, dtype: int64"
      ]
     },
     "execution_count": 16,
     "metadata": {},
     "output_type": "execute_result"
    }
   ],
   "source": [
    "t = time()\n",
    "\n",
    "df['year3'] = df['year']\n",
    "\n",
    "year_list = df['year'].unique()\n",
    "\n",
    "i = 0\n",
    "ylist = []\n",
    "for year in year_list:\n",
    "    ylist.append(year)\n",
    "    i += 1\n",
    "    if i == 3:\n",
    "        df['year3'] = df['year3'].str.replace('^' + ylist[0] + '$|^' + ylist[1] + '$|^' + ylist[2] + '$', \n",
    "                                              ylist[0] + '-' + ylist[2])\n",
    "        ylist = []\n",
    "        i = 0\n",
    "\n",
    "elapsed = time() - t\n",
    "\n",
    "print(\"New column 'year3' was added to the DataFrame. Took {0:,.2f} seconds ({1:.2f} minutes).\"\n",
    "      .format(elapsed, elapsed / 60))\n",
    "df['year3'].value_counts().sort_index()"
   ]
  },
  {
   "cell_type": "markdown",
   "metadata": {
    "pycharm": {
     "name": "#%% md\n"
    }
   },
   "source": [
    "## Add attribute `year5`\n",
    "The new attribute `year5` is created from the column `year` parsed for 5-year intervals (_e.g.,_ '2012-2016') and stored as a string, to simplify record grouping."
   ]
  },
  {
   "cell_type": "code",
   "execution_count": 17,
   "metadata": {
    "pycharm": {
     "is_executing": false,
     "name": "#%%\n"
    }
   },
   "outputs": [
    {
     "name": "stdout",
     "output_type": "stream",
     "text": [
      "New column 'year5' was added to the DataFrame. Took 183.39 seconds (3.06 minutes).\n"
     ]
    },
    {
     "data": {
      "text/plain": [
       "1865               1\n",
       "1871-1876         12\n",
       "1877-1883         10\n",
       "1884-1888         18\n",
       "1889-1895         31\n",
       "1897-1902         29\n",
       "1903-1907         25\n",
       "1908-1912         81\n",
       "1913-1917         93\n",
       "1918-1922        101\n",
       "1923-1927        132\n",
       "1928-1932        140\n",
       "1933-1937        136\n",
       "1938-1942         95\n",
       "1943-1947        152\n",
       "1948-1952        650\n",
       "1953-1957       1459\n",
       "1958-1962       1502\n",
       "1963-1967       1855\n",
       "1968-1972       1673\n",
       "1973-1977       1692\n",
       "1978-1982       2224\n",
       "1983-1987      92326\n",
       "1988-1992     382246\n",
       "1993-1997     565976\n",
       "1998-2002     874257\n",
       "2003-2007    1110607\n",
       "2008-2012    1036284\n",
       "2013-2017    1114716\n",
       "Name: year5, dtype: int64"
      ]
     },
     "execution_count": 17,
     "metadata": {},
     "output_type": "execute_result"
    }
   ],
   "source": [
    "t = time()\n",
    "\n",
    "df['year5'] = df['year']\n",
    "\n",
    "year_list = df['year'].unique()[1:] # skipping first year (1805) to match the length of a 5-year window\n",
    "\n",
    "i = 0\n",
    "ylist = []\n",
    "for year in year_list:\n",
    "    ylist.append(year)\n",
    "    i += 1\n",
    "    if i == 5:\n",
    "        df['year5'] = df['year5'].str.replace('^' + ylist[0] + '$|^' + ylist[1] + '$|^' + ylist[2] + '$|^' +\n",
    "                                              ylist[3] + '$|^' + ylist[4] + '$', \n",
    "                                              ylist[0] + '-' + ylist[4])\n",
    "        ylist = []\n",
    "        i = 0\n",
    "\n",
    "elapsed = time() - t\n",
    "\n",
    "print(\"New column 'year5' was added to the DataFrame. Took {0:,.2f} seconds ({1:.2f} minutes).\"\n",
    "      .format(elapsed, elapsed / 60))\n",
    "df['year5'].value_counts().sort_index()"
   ]
  },
  {
   "cell_type": "markdown",
   "metadata": {},
   "source": [
    "## Add attribute `year10`\n",
    "The new attribute `year10` is created from the column `year` parsed for 5-year intervals (_e.g.,_ '2014-2017') and stored as a string, to simplify record grouping."
   ]
  },
  {
   "cell_type": "code",
   "execution_count": 18,
   "metadata": {
    "pycharm": {
     "is_executing": false,
     "name": "#%%\n"
    }
   },
   "outputs": [
    {
     "name": "stdout",
     "output_type": "stream",
     "text": [
      "New column 'year10' was added to the DataFrame. Took 93.34 seconds (1.56 minutes).\n"
     ]
    },
    {
     "data": {
      "text/plain": [
       "1865               1\n",
       "1871-1883         22\n",
       "1884-1895         49\n",
       "1897-1907         54\n",
       "1908-1917        174\n",
       "1918-1927        233\n",
       "1928-1937        276\n",
       "1938-1947        247\n",
       "1948-1957       2109\n",
       "1958-1967       3357\n",
       "1968-1977       3365\n",
       "1978-1987      94550\n",
       "1988-1997     948222\n",
       "1998-2007    1984864\n",
       "2008-2017    2151000\n",
       "Name: year10, dtype: int64"
      ]
     },
     "execution_count": 18,
     "metadata": {},
     "output_type": "execute_result"
    }
   ],
   "source": [
    "t = time()\n",
    "\n",
    "df['year10'] = df['year']\n",
    "\n",
    "year_list = df['year'].unique()[1:] # skipping first year (1805) to match the length of a 10-year window\n",
    "\n",
    "i = 0\n",
    "ylist = []\n",
    "for year in year_list:\n",
    "    ylist.append(year)\n",
    "    i += 1\n",
    "    if i == 10:\n",
    "        df['year10'] = df['year10'].str.replace('^' + ylist[0] + '$|^' + ylist[1] + '$|^' + ylist[2] + '$|^' +\n",
    "                                                ylist[3] + '$|^' + ylist[4] + '$|^' + ylist[5] + '$|^' + ylist[6] +\n",
    "                                                '$|^' + ylist[7] + '$|^' + ylist[8] + '$|^' + ylist[9] + '$', \n",
    "                                                ylist[0] + '-' + ylist[9])\n",
    "        ylist = []\n",
    "        i = 0\n",
    "\n",
    "elapsed = time() - t\n",
    "\n",
    "print(\"New column 'year10' was added to the DataFrame. Took {0:,.2f} seconds ({1:.2f} minutes).\"\n",
    "      .format(elapsed, elapsed / 60))\n",
    "df['year10'].value_counts().sort_index()"
   ]
  },
  {
   "cell_type": "markdown",
   "metadata": {
    "pycharm": {
     "is_executing": false,
     "name": "#%% md\n"
    }
   },
   "source": [
    "### Add attribute `xy`\n",
    "\n",
    "The new attribute `xy` is produced by concatenating `x` and `y` together (_e.g.,_ '-79.9774202446447_43.203290987723'), it can be used to identify and group records by their coordinate pairs."
   ]
  },
  {
   "cell_type": "code",
   "execution_count": 19,
   "metadata": {
    "pycharm": {
     "is_executing": false,
     "name": "#%%\n"
    }
   },
   "outputs": [
    {
     "name": "stdout",
     "output_type": "stream",
     "text": [
      "New column 'xy' was added to the DataFrame.\n"
     ]
    }
   ],
   "source": [
    "df['xy'] = df['x'].astype('str') + '_' + df['y'].astype('str')\n",
    "print(\"New column 'xy' was added to the DataFrame.\")"
   ]
  },
  {
   "cell_type": "markdown",
   "metadata": {},
   "source": [
    "## Correction of `consideration_amt` for inflation"
   ]
  },
  {
   "cell_type": "markdown",
   "metadata": {
    "pycharm": {
     "name": "#%% md\n"
    }
   },
   "source": [
    "## Exploratory attributes\n",
    "\n",
    "### Add column `total_sales`\n",
    "Total records for each pin, generated as a separate DataFrame `df_pin` which represents Teranet records grouped and indexed by `pin`.\n",
    "\n",
    "`total_sales_pin` is added as a new column for Teranet records via a merge operation on `pin`."
   ]
  },
  {
   "cell_type": "code",
   "execution_count": 20,
   "metadata": {
    "pycharm": {
     "is_executing": false,
     "name": "#%%\n"
    }
   },
   "outputs": [
    {
     "name": "stdout",
     "output_type": "stream",
     "text": [
      "\n",
      "New column 'pin_total_sales' added to the DataFrame!\n",
      "took 28.78 seconds.\n",
      "\n",
      "New column 'xy_total_sales' added to the DataFrame!\n",
      "took 28.24 seconds.\n"
     ]
    }
   ],
   "source": [
    "# group records by `pin`\n",
    "t = time()\n",
    "pin_counts = \\\n",
    "    df.groupby('pin')['consideration_amt'].count()\n",
    "pin_counts.name = 'pin_total_sales'\n",
    "df = pd.merge(df, pin_counts, on='pin')\n",
    "elapsed = time() - t\n",
    "print(\"\\nNew column 'pin_total_sales' \"\n",
    "      \"added to the DataFrame!\"\n",
    "      \"\\ntook {0:.2f} seconds.\".format(elapsed))\n",
    "\n",
    "# group records by `xy` coordinate pairs\n",
    "t = time()\n",
    "xy_counts = \\\n",
    "    df.groupby('xy')['consideration_amt'].count()\n",
    "xy_counts.name = 'xy_total_sales'\n",
    "df = pd.merge(df, xy_counts, on='xy')\n",
    "elapsed = time() - t\n",
    "print(\"\\nNew column 'xy_total_sales' \"\n",
    "      \"added to the DataFrame!\"\n",
    "      \"\\ntook {0:.2f} seconds.\".format(elapsed))"
   ]
  },
  {
   "cell_type": "markdown",
   "metadata": {},
   "source": [
    "### Add column `prev_sales`\n",
    "New columns are added to Teranet records capturing, for each transaction, a rolling count of previous records from this `pin` or `xy` coordinate pair."
   ]
  },
  {
   "cell_type": "code",
   "execution_count": 21,
   "metadata": {
    "pycharm": {
     "is_executing": false,
     "name": "#%%\n"
    }
   },
   "outputs": [
    {
     "name": "stdout",
     "output_type": "stream",
     "text": [
      "\n",
      "New column 'pin_prev_sales' added to the DataFrame!\n",
      "took 18.88 seconds.\n",
      "\n",
      "New column 'xy_prev_sales' added to the DataFrame!\n",
      "took 19.59 seconds.\n"
     ]
    }
   ],
   "source": [
    "df['count'] = 1 # used to produce rolling counts per `pin` and `xy`\n",
    "\n",
    "# group by `pin`\n",
    "t = time()\n",
    "df['pin_prev_sales'] = \\\n",
    "    df.sort_values(['pin', 'registration_date'])\\\n",
    "    .groupby('pin')['count'].cumsum() - 1\n",
    "elapsed = time() - t\n",
    "print(\"\\nNew column 'pin_prev_sales' \"\n",
    "      \"added to the DataFrame!\"\n",
    "      \"\\ntook {0:.2f} seconds.\".format(elapsed))\n",
    "\n",
    "# group by xy pairs\n",
    "t = time()\n",
    "df['xy_prev_sales'] = \\\n",
    "    df.sort_values(['xy', 'registration_date'])\\\n",
    "    .groupby('xy')['count'].cumsum() - 1\n",
    "elapsed = time() - t\n",
    "print(\"\\nNew column 'xy_prev_sales' \"\n",
    "      \"added to the DataFrame!\"\n",
    "      \"\\ntook {0:.2f} seconds.\".format(elapsed))\n",
    "\n",
    "df = df.drop('count', axis=1)"
   ]
  },
  {
   "cell_type": "markdown",
   "metadata": {},
   "source": [
    "### Add columns `price_cum_sum` and `price_pct_change`\n",
    "New columns are added to Teranet records capturing, for each transaction, a rolling sum of price from previous records from this `pin` or `xy` coordinate pair, and `pct_change` compared to previous transaction from this `pin` or `xy` pair."
   ]
  },
  {
   "cell_type": "code",
   "execution_count": 22,
   "metadata": {
    "pycharm": {
     "is_executing": false,
     "name": "#%%\n"
    }
   },
   "outputs": [
    {
     "name": "stdout",
     "output_type": "stream",
     "text": [
      "\n",
      "New column 'pin_price_cum_sum' added to the DataFrame!\n",
      "took 9.99 seconds.\n",
      "\n",
      "New column 'xy_price_cum_sum' added to the DataFrame!\n",
      "took 19.03 seconds.\n",
      "\n",
      "New column 'pin_price_pct_change' added to the DataFrame!\n",
      "took 11.75 seconds.\n",
      "\n",
      "New column 'xy_price_pct_change' added to the DataFrame!\n",
      "took 19.31 seconds.\n"
     ]
    }
   ],
   "source": [
    "# `price_cum_sum`\n",
    "# group records by `pin`\n",
    "t = time()\n",
    "df['pin_price_cum_sum'] = \\\n",
    "    df.sort_values(['pin', 'registration_date'])\\\n",
    "    .groupby('pin')['consideration_amt'].cumsum()\n",
    "elapsed = time() - t\n",
    "print(\"\\nNew column 'pin_price_cum_sum' \"\n",
    "      \"added to the DataFrame!\"\n",
    "      \"\\ntook {0:.2f} seconds.\".format(elapsed))\n",
    "# group records by `xy` pairs\n",
    "t = time()\n",
    "df['xy_price_cum_sum'] = \\\n",
    "    df.sort_values(['xy', 'registration_date'])\\\n",
    "    .groupby('xy')['consideration_amt'].cumsum()\n",
    "elapsed = time() - t\n",
    "print(\"\\nNew column 'xy_price_cum_sum' \"\n",
    "      \"added to the DataFrame!\"\n",
    "      \"\\ntook {0:.2f} seconds.\".format(elapsed))\n",
    "\n",
    "# `price_pct_change`\n",
    "# group records by `pin`\n",
    "t = time()\n",
    "df['pin_price_pct_change'] = \\\n",
    "    df.sort_values(['pin', 'registration_date'])\\\n",
    "    .groupby('pin')['consideration_amt'].pct_change()\n",
    "elapsed = time() - t\n",
    "print(\"\\nNew column 'pin_price_pct_change' \"\n",
    "      \"added to the DataFrame!\"\n",
    "      \"\\ntook {0:.2f} seconds.\".format(elapsed))\n",
    "# group records by `xy`\n",
    "t = time()\n",
    "df['xy_price_pct_change'] = \\\n",
    "    df.sort_values(['xy', 'registration_date'])\\\n",
    "    .groupby('xy')['consideration_amt'].pct_change()\n",
    "elapsed = time() - t\n",
    "print(\"\\nNew column 'xy_price_pct_change' \"\n",
    "      \"added to the DataFrame!\"\n",
    "      \"\\ntook {0:.2f} seconds.\".format(elapsed))"
   ]
  },
  {
   "cell_type": "markdown",
   "metadata": {},
   "source": [
    "## Add column `price_da_pct_change`\n",
    "New column is added to Teranet records capturing, for each transaction, percentage change in price compared to the previous record from this `da_id`."
   ]
  },
  {
   "cell_type": "code",
   "execution_count": 23,
   "metadata": {
    "pycharm": {
     "is_executing": false,
     "name": "#%%\n"
    }
   },
   "outputs": [
    {
     "name": "stdout",
     "output_type": "stream",
     "text": [
      "\n",
      "New column 'price_da_pct_change' added to the DataFrame!\n",
      "took 8.41 seconds.\n"
     ]
    }
   ],
   "source": [
    "# add column 'price_da_pct_change' to Teranet records DataFrame \n",
    "t = time()\n",
    "df['price_da_pct_change'] = \\\n",
    "    df.sort_values(['dauid', 'registration_date'])\\\n",
    "    .groupby('dauid')['consideration_amt'].pct_change()\n",
    "elapsed = time() - t\n",
    "print(\"\\nNew column 'price_da_pct_change' \"\n",
    "      \"added to the DataFrame!\"\n",
    "      \"\\ntook {0:.2f} seconds.\".format(elapsed))"
   ]
  },
  {
   "cell_type": "markdown",
   "metadata": {},
   "source": [
    "## Add columns `years_since_last_sale`\n",
    "New columns are added to Teranet records capturing, for each transaction, years passed since the previous record from this `pin` or `xy` coordinate pair."
   ]
  },
  {
   "cell_type": "code",
   "execution_count": 24,
   "metadata": {
    "pycharm": {
     "is_executing": false,
     "name": "#%%\n"
    }
   },
   "outputs": [
    {
     "name": "stdout",
     "output_type": "stream",
     "text": [
      "New column 'pin_years_since_last_sale' added to the DataFrame!\n",
      "took 1131.07 seconds (18.85 minutes).\n"
     ]
    }
   ],
   "source": [
    "t = time()\n",
    "df['pin_years_since_last_sale'] = \\\n",
    "    df.sort_values(['pin', 'registration_date'])\\\n",
    "      .groupby('pin')['registration_date']\\\n",
    "        .diff().dt.days / 365\n",
    "elapsed = time() - t\n",
    "print(\"New column 'pin_years_since_last_sale' \"\n",
    "      \"added to the DataFrame!\"\n",
    "      \"\\ntook {0:.2f} seconds ({1:.2f} minutes).\".format(elapsed, elapsed / 60))"
   ]
  },
  {
   "cell_type": "code",
   "execution_count": 25,
   "metadata": {
    "pycharm": {
     "name": "#%%\n"
    }
   },
   "outputs": [
    {
     "name": "stdout",
     "output_type": "stream",
     "text": [
      "New column 'xy_years_since_last_sale' added to the DataFrame!\n",
      "took 657.23 seconds (10.95 minutes).\n"
     ]
    }
   ],
   "source": [
    "t = time()\n",
    "df['xy_years_since_last_sale'] = \\\n",
    "    df.sort_values(['xy', 'registration_date'])\\\n",
    "      .groupby('xy')['registration_date']\\\n",
    "        .diff().dt.days / 365\n",
    "elapsed = time() - t\n",
    "print(\"New column 'xy_years_since_last_sale' \"\n",
    "      \"added to the DataFrame!\"\n",
    "      \"\\ntook {0:.2f} seconds ({1:.2f} minutes).\".format(elapsed, elapsed / 60))"
   ]
  },
  {
   "cell_type": "markdown",
   "metadata": {},
   "source": [
    "## Add columns `da_days_since_last_sale` and `da_years_since_last_sale`\n",
    "New columns are added to Teranet records capturing, for each transaction, years passed since the previous record from this `pin` or `xy` coordinate pair."
   ]
  },
  {
   "cell_type": "code",
   "execution_count": 26,
   "metadata": {
    "pycharm": {
     "name": "#%%\n"
    }
   },
   "outputs": [
    {
     "name": "stdout",
     "output_type": "stream",
     "text": [
      "New column 'da_days_since_last_sale' added to the DataFrame!\n",
      "took 14.00 seconds.\n",
      "New column 'da_years_since_last_sale' added to the DataFrame!\n",
      "took 13.40 seconds.\n"
     ]
    }
   ],
   "source": [
    "# add column 'da_days_since_last_sale' to Teranet records DataFrame \n",
    "t = time()\n",
    "df['da_days_since_last_sale'] = \\\n",
    "    df.sort_values(['dauid', 'registration_date'])\\\n",
    "      .groupby('dauid')['registration_date']\\\n",
    "        .diff().dt.days\n",
    "elapsed = time() - t\n",
    "print(\"New column 'da_days_since_last_sale' \"\n",
    "      \"added to the DataFrame!\"\n",
    "      \"\\ntook {0:.2f} seconds.\".format(elapsed))\n",
    "# add column 'da_years_since_last_sale' to Teranet records DataFrame \n",
    "t = time()\n",
    "df['da_years_since_last_sale'] = \\\n",
    "    df.sort_values(['dauid', 'registration_date'])\\\n",
    "      .groupby('dauid')['registration_date']\\\n",
    "        .diff().dt.days / 365\n",
    "elapsed = time() - t\n",
    "print(\"New column 'da_years_since_last_sale' \"\n",
    "      \"added to the DataFrame!\"\n",
    "      \"\\ntook {0:.2f} seconds.\".format(elapsed))"
   ]
  },
  {
   "cell_type": "markdown",
   "metadata": {},
   "source": [
    "## Add columns `sale_next_6m/1y/3y` per `pin` and `xy`\n",
    "New columns are added to Teranet records capturing, for each transaction, whether there would be another transaction in the future from this `pin`, `xy`, or `da_id`\n",
    "\n",
    "Time horizons used: 6 months, 1 year, 3 years."
   ]
  },
  {
   "cell_type": "code",
   "execution_count": 27,
   "metadata": {
    "pycharm": {
     "name": "#%%\n"
    }
   },
   "outputs": [
    {
     "name": "stdout",
     "output_type": "stream",
     "text": [
      "New columns 'pin_sale_next_..' added to the DataFrame!\n",
      "took 8.31 seconds.\n",
      "New columns 'xy_sale_next_..' added to the DataFrame!\n",
      "took 11.44 seconds.\n"
     ]
    }
   ],
   "source": [
    "# create a new column, marks True if next 'day_diff' <= 5\n",
    "# group records by `pin`\n",
    "t = time()\n",
    "df = df.sort_values(['pin', 'registration_date'])\n",
    "df['pin_sale_next_6m'] = \\\n",
    "    df['pin_years_since_last_sale'].shift(-1) <= 0.5\n",
    "df['pin_sale_next_1y'] = \\\n",
    "    df['pin_years_since_last_sale'].shift(-1) <= 1\n",
    "df['pin_sale_next_3y'] = \\\n",
    "    df['pin_years_since_last_sale'].shift(-1) <= 3\n",
    "elapsed = time() - t\n",
    "print(\"New columns 'pin_sale_next_..' \"\n",
    "      \"added to the DataFrame!\"\n",
    "      \"\\ntook {0:.2f} seconds.\".format(elapsed))\n",
    "\n",
    "# group records by `xy`\n",
    "t = time()\n",
    "df = df.sort_values(['xy', 'registration_date'])\n",
    "df['xy_sale_next_6m'] = \\\n",
    "    df['xy_years_since_last_sale'].shift(-1) <= 0.5\n",
    "df['xy_sale_next_1y'] = \\\n",
    "    df['xy_years_since_last_sale'].shift(-1) <= 1\n",
    "df['xy_sale_next_3y'] = \\\n",
    "    df['xy_years_since_last_sale'].shift(-1) <= 3\n",
    "elapsed = time() - t\n",
    "print(\"New columns 'xy_sale_next_..' \"\n",
    "      \"added to the DataFrame!\"\n",
    "      \"\\ntook {0:.2f} seconds.\".format(elapsed))"
   ]
  },
  {
   "cell_type": "markdown",
   "metadata": {},
   "source": [
    "## Price correction for inflation\n",
    "Transaction prices are corrected for inflation to 2016 prices using the guidelines provided in the [Inflation Calculator](https://www.bankofcanada.ca/rates/related/inflation-calculator/) supplied by the Bank of Canada."
   ]
  },
  {
   "cell_type": "markdown",
   "metadata": {},
   "source": [
    "### Load correction coefficients"
   ]
  },
  {
   "cell_type": "code",
   "execution_count": 28,
   "metadata": {},
   "outputs": [
    {
     "name": "stdout",
     "output_type": "stream",
     "text": [
      "YEAR\n",
      "Percentage change compared to 2016 prices (X)                            104.92\n",
      "Inflation adjusted value =                                        ((X/100)+1)*Y\n",
      "NaN                                              where Y = value to be adjusted\n",
      "Name: 1985, dtype: object\n"
     ]
    },
    {
     "data": {
      "text/plain": [
       "1985    104.92\n",
       "1986      97.4\n",
       "1987     88.47\n",
       "1988     81.32\n",
       "1989     72.36\n",
       "1990     65.09\n",
       "1991     55.35\n",
       "1992     53.69\n",
       "1993     51.17\n",
       "1994     51.17\n",
       "1995     47.21\n",
       "1996     45.06\n",
       "1997     42.65\n",
       "1998     41.25\n",
       "1999     38.97\n",
       "2000     35.18\n",
       "2001      30.8\n",
       "2002     29.23\n",
       "2003     25.95\n",
       "2004     22.84\n",
       "2005     20.77\n",
       "2006      17.9\n",
       "2007     15.37\n",
       "2008     11.87\n",
       "2009     12.16\n",
       "2010      11.1\n",
       "2011      7.76\n",
       "2012      6.17\n",
       "2013      4.96\n",
       "2014      2.54\n",
       "2015      1.49\n",
       "2016         0\n",
       "2017        -1\n",
       "2018     -3.37\n",
       "2019     -5.28\n",
       "Name: Percentage change compared to 2016 prices (X), dtype: object"
      ]
     },
     "execution_count": 28,
     "metadata": {},
     "output_type": "execute_result"
    }
   ],
   "source": [
    "infl_coefs = pd.read_excel(data_path + '../misc/Infl_adjustment.xlsx')\n",
    "infl_coefs = infl_coefs.T\n",
    "infl_coefs.columns = infl_coefs.iloc[0]\n",
    "infl_coefs = infl_coefs.drop('YEAR')\n",
    "print(infl_coefs.iloc[0])\n",
    "infl_coefs = infl_coefs.iloc[:, 0]\n",
    "infl_coefs"
   ]
  },
  {
   "cell_type": "markdown",
   "metadata": {},
   "source": [
    "### Correct consideration amount for inflation"
   ]
  },
  {
   "cell_type": "code",
   "execution_count": 29,
   "metadata": {},
   "outputs": [
    {
     "name": "stdout",
     "output_type": "stream",
     "text": [
      "Corrected prices from 1985 for inflation.\n",
      "Corrected prices from 1986 for inflation.\n",
      "Corrected prices from 1987 for inflation.\n",
      "Corrected prices from 1988 for inflation.\n",
      "Corrected prices from 1989 for inflation.\n",
      "Corrected prices from 1990 for inflation.\n",
      "Corrected prices from 1991 for inflation.\n",
      "Corrected prices from 1992 for inflation.\n",
      "Corrected prices from 1993 for inflation.\n",
      "Corrected prices from 1994 for inflation.\n",
      "Corrected prices from 1995 for inflation.\n",
      "Corrected prices from 1996 for inflation.\n",
      "Corrected prices from 1997 for inflation.\n",
      "Corrected prices from 1998 for inflation.\n",
      "Corrected prices from 1999 for inflation.\n",
      "Corrected prices from 2000 for inflation.\n",
      "Corrected prices from 2001 for inflation.\n",
      "Corrected prices from 2002 for inflation.\n",
      "Corrected prices from 2003 for inflation.\n",
      "Corrected prices from 2004 for inflation.\n",
      "Corrected prices from 2005 for inflation.\n",
      "Corrected prices from 2006 for inflation.\n",
      "Corrected prices from 2007 for inflation.\n",
      "Corrected prices from 2008 for inflation.\n",
      "Corrected prices from 2009 for inflation.\n",
      "Corrected prices from 2010 for inflation.\n",
      "Corrected prices from 2011 for inflation.\n",
      "Corrected prices from 2012 for inflation.\n",
      "Corrected prices from 2013 for inflation.\n",
      "Corrected prices from 2014 for inflation.\n",
      "Corrected prices from 2015 for inflation.\n",
      "Corrected prices from 2016 for inflation.\n",
      "Corrected prices from 2017 for inflation.\n",
      "Corrected prices from 2018 for inflation.\n",
      "Corrected prices from 2019 for inflation.\n"
     ]
    }
   ],
   "source": [
    "year_list = infl_coefs.index\n",
    "for year in year_list:\n",
    "    mask1 = df['year'] == str(year)\n",
    "    mask2 = df['consideration_amt'].isnull()\n",
    "    price_raw = df.loc[mask1 & ~mask2, 'consideration_amt']\n",
    "    df.loc[mask1 & ~mask2, 'price_2016'] = ((infl_coefs[year] / 100) + 1) * price_raw\n",
    "    print(\"Corrected prices from {0} for inflation.\".format(year))"
   ]
  },
  {
   "cell_type": "markdown",
   "metadata": {},
   "source": [
    "## Save results to a new .csv file\n",
    "Teranet dataset without NaN records and with new columns is saved as:\n",
    "`data/HHSaleHistory_cleaned_v0.9_GTHA_DA_with_cols_v0.9.csv`"
   ]
  },
  {
   "cell_type": "code",
   "execution_count": 30,
   "metadata": {},
   "outputs": [
    {
     "data": {
      "text/plain": [
       "Index(['transaction_id', 'lro_num', 'pin', 'consideration_amt',\n",
       "       'registration_date', 'postal_code', 'unitno', 'street_name',\n",
       "       'street_designation', 'street_direction', 'municipality',\n",
       "       'street_number', 'x', 'y', 'dauid', 'csduid', 'csdname', 'taz_o',\n",
       "       'pin_lu', 'landuse', 'prop_code', 'street_name_raw', 'date_disp',\n",
       "       'price_disp', 'year', 'year_month', 'year3', 'year5', 'year10', 'xy',\n",
       "       'pin_total_sales', 'xy_total_sales', 'pin_prev_sales', 'xy_prev_sales',\n",
       "       'pin_price_cum_sum', 'xy_price_cum_sum', 'pin_price_pct_change',\n",
       "       'xy_price_pct_change', 'price_da_pct_change',\n",
       "       'pin_years_since_last_sale', 'xy_years_since_last_sale',\n",
       "       'da_days_since_last_sale', 'da_years_since_last_sale',\n",
       "       'pin_sale_next_6m', 'pin_sale_next_1y', 'pin_sale_next_3y',\n",
       "       'xy_sale_next_6m', 'xy_sale_next_1y', 'xy_sale_next_3y', 'price_2016'],\n",
       "      dtype='object')"
      ]
     },
     "execution_count": 30,
     "metadata": {},
     "output_type": "execute_result"
    }
   ],
   "source": [
    "df.columns"
   ]
  },
  {
   "cell_type": "code",
   "execution_count": 31,
   "metadata": {
    "pycharm": {
     "name": "#%%\n"
    }
   },
   "outputs": [
    {
     "name": "stdout",
     "output_type": "stream",
     "text": [
      "DataFrame saved to file:\n",
      " ../../data/teranet/3_Teranet_nonan_new_cols.csv \n",
      "took 327.29 seconds (5.45 minutes).\n"
     ]
    }
   ],
   "source": [
    "save_path = data_path + '3_Teranet_nonan_new_cols.csv'\n",
    "t = time()\n",
    "df.to_csv(save_path, index=False)\n",
    "elapsed = time() - t\n",
    "print(\"DataFrame saved to file:\\n\", save_path,\n",
    "      \"\\ntook {0:.2f} seconds ({1:.2f} minutes).\".format(elapsed, elapsed / 60))"
   ]
  }
 ],
 "metadata": {
  "kernelspec": {
   "display_name": "Python 3",
   "language": "python",
   "name": "python3"
  },
  "language_info": {
   "codemirror_mode": {
    "name": "ipython",
    "version": 3
   },
   "file_extension": ".py",
   "mimetype": "text/x-python",
   "name": "python",
   "nbconvert_exporter": "python",
   "pygments_lexer": "ipython3",
   "version": "3.6.9"
  },
  "pycharm": {
   "stem_cell": {
    "cell_type": "raw",
    "metadata": {
     "collapsed": false
    },
    "source": []
   }
  }
 },
 "nbformat": 4,
 "nbformat_minor": 1
}
