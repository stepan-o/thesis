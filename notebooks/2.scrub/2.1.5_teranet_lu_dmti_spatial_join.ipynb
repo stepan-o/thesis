{
 "cells": [
  {
   "cell_type": "markdown",
   "metadata": {
    "pycharm": {
     "name": "#%% md\n"
    }
   },
   "source": [
    "# GTHA housing market database\n",
    "# OSEMN methodology Step 2: Scrub\n",
    "# Step 2.3 Spatial join of Teranet points with parcel-level land use from DMTI\n",
    "\n",
    "---\n",
    "\n",
    "This notebook describes Step 2.3 (part of _Step 2: Scrub_ of OSEMN methodology) performed on the Teranet dataset.\n",
    "\n",
    "Step 2.3 involves the spatial join of Teranet points with parcel-level land use from DMTI.\n",
    "\n",
    "Previous steps included: \n",
    "\n",
    "* Step 2.1 \n",
    "\n",
    "    * the spatial join between the Teranet points and the polygons of GTHA Dissemination Areas (DAs)\n",
    "    \n",
    "    * During step 2.1, Teranet records whose coordinates fall outside of the GTHA boundary (as defined by the DA geometry) have been filtered out (6,803,691 of the original 9,039,241 Teranet records remain in the dataset)\n",
    "     \n",
    "    * In addition to that, three new columns (`OBJECTID`, `DAUID`, and `CSDNAME`) derived from DA attributes have been added to each Teranet transaction\n",
    "\n",
    "---\n",
    "\n",
    "For description of OSEMN methodology, see `methodology/0.osemn/osemn.pdf`.\n",
    "\n",
    "For background information, description of the Teranet dataset, and its attributes, see `methodology/1.obtain/obtain.pdf`.\n",
    "\n",
    "For description of _Step 2: Scrub_ of OSEMN methodology, see `methodology/2.scrub/scrub.pdf`.\n",
    "\n",
    "For description of the cleanup plan for Teranet dataset, see `methodology/2.scrub/teranet_cleanup_plan.pdf`.\n",
    "\n",
    "For description of Step 2.1 of the cleanup process, see `notebooks/2.scrub/2.1_teranet_gtha_spatial_join.ipynb`.\n",
    "\n",
    "\n",
    "## Import dependencies"
   ]
  },
  {
   "cell_type": "code",
   "execution_count": 1,
   "metadata": {
    "pycharm": {
     "is_executing": false,
     "name": "#%%\n"
    }
   },
   "outputs": [],
   "source": [
    "%matplotlib inline\n",
    "import pandas as pd \n",
    "import geopandas as gpd\n",
    "import os\n",
    "from shapely.geometry import Point\n",
    "from glob import glob\n",
    "from time import time"
   ]
  },
  {
   "cell_type": "code",
   "execution_count": 2,
   "metadata": {
    "pycharm": {
     "is_executing": false,
     "name": "#%%\n"
    }
   },
   "outputs": [
    {
     "data": {
      "text/plain": [
       "['1.1_Teranet_DA.csv',\n",
       " '1.3_Teranet_DA_TAZ_PG_FSA.csv',\n",
       " 'parcel16_epoi13.csv',\n",
       " '1.2_Teranet_DA_TAZ.csv',\n",
       " '1.4_Teranet_DA_TAZ_FSA_LU_LUDMTI.csv',\n",
       " '1.4_Teranet_DA_TAZ_FSA_LU.csv',\n",
       " '.ipynb_checkpoints',\n",
       " 'ParcelLandUse.zip',\n",
       " 'ParcelLandUse',\n",
       " 'HHSaleHistory.csv',\n",
       " 'GTAjoinedLanduseSales']"
      ]
     },
     "execution_count": 2,
     "metadata": {},
     "output_type": "execute_result"
    }
   ],
   "source": [
    "data_path = '../../data/'\n",
    "teranet_path = data_path + 'teranet/'\n",
    "os.listdir(teranet_path)"
   ]
  },
  {
   "cell_type": "code",
   "execution_count": 3,
   "metadata": {},
   "outputs": [
    {
     "data": {
      "text/plain": [
       "['lu_gtha02.shx',\n",
       " 'lu_gtha10.shp',\n",
       " 'lu_gtha10.shx',\n",
       " 'lu_gtha03.sbx',\n",
       " 'lu_gtha12.shp.xml',\n",
       " 'lu_gtha02.prj',\n",
       " 'lu_gtha13.shp.xml',\n",
       " 'lu_gtha14.shp',\n",
       " 'lu_gtha12.shx',\n",
       " 'lu_gtha12.shp',\n",
       " 'lu_gtha05.shp',\n",
       " 'lu_gtha14.dbf',\n",
       " 'lu_gtha02.dbf',\n",
       " 'lu_gtha11.shp.xml',\n",
       " 'lu_gtha09.cpg',\n",
       " 'lu_gtha14.cpg',\n",
       " 'lu_gtha01.prj',\n",
       " 'lu_gtha11.cpg',\n",
       " 'lu_gtha07.dbf',\n",
       " 'lu_gtha14.sbn',\n",
       " 'lu_gtha14.shx',\n",
       " 'lu_gtha12.dbf',\n",
       " 'lu_gtha09.dbf',\n",
       " 'lu_gtha12.cpg',\n",
       " 'lu_gtha05.sbx',\n",
       " 'lu_gtha06.prj',\n",
       " 'lu_gtha11.sbn',\n",
       " 'lu_gtha10.sbx',\n",
       " 'lu_gtha01.sbn',\n",
       " 'lu_gtha08.cpg',\n",
       " 'lu_gtha09.prj',\n",
       " 'lu_gtha09.shp.xml',\n",
       " 'lu_gtha07.sbx',\n",
       " 'lu_gtha13.shp',\n",
       " 'lu_gtha10.shp.xml',\n",
       " 'lu_gtha12.prj',\n",
       " 'lu_gtha05.sbn',\n",
       " 'lu_gtha09.sbn',\n",
       " 'lu_gtha12.sbn',\n",
       " 'lu_gtha04.sbn',\n",
       " 'lu_gtha07.prj',\n",
       " 'lu_gtha08.sbx',\n",
       " 'lu_gtha11.shp',\n",
       " 'lu_gtha03.prj',\n",
       " 'lu_gtha13.dbf',\n",
       " 'lu_gtha03.shx',\n",
       " 'lu_gtha07.shp.xml',\n",
       " 'lu_gtha06.shp.xml',\n",
       " 'lu_gtha10.cpg',\n",
       " 'lu_gtha05.cpg',\n",
       " 'lu_gtha07.shx',\n",
       " 'lu_gtha01.shp.xml',\n",
       " 'lu_gtha04.shp.xml',\n",
       " 'lu_gtha04.prj',\n",
       " 'lu_gtha13.cpg',\n",
       " 'lu_gtha06.shx',\n",
       " 'lu_gtha03.cpg',\n",
       " 'lu_gtha03.dbf',\n",
       " 'lu_gtha14.prj',\n",
       " 'lu_gtha07.cpg',\n",
       " 'lu_gtha11.sbx',\n",
       " 'lu_gtha06.cpg',\n",
       " 'lu_gtha08.shp.xml',\n",
       " 'lu_gtha01.shp',\n",
       " 'lu_gtha01.shx',\n",
       " 'lu_gtha07.sbn',\n",
       " 'lu_gtha02.sbx',\n",
       " 'lu_gtha04.shp',\n",
       " 'lu_gtha13.prj',\n",
       " 'lu_gtha02.shp.xml',\n",
       " 'lu_gtha08.prj',\n",
       " 'lu_gtha02.shp',\n",
       " 'lu_gtha06.sbx',\n",
       " 'lu_gtha08.sbn',\n",
       " 'lu_gtha06.sbn',\n",
       " 'lu_gtha05.shp.xml',\n",
       " 'lu_gtha10.sbn',\n",
       " 'lu_gtha14.shp.xml',\n",
       " 'lu_gtha03.shp',\n",
       " 'lu_gtha10.dbf',\n",
       " 'lu_gtha14.sbx',\n",
       " 'lu_gtha08.shx',\n",
       " 'lu_gtha01.cpg',\n",
       " 'lu_gtha08.dbf',\n",
       " 'lu_gtha04.cpg',\n",
       " 'lu_gtha02.sbn',\n",
       " 'lu_gtha06.dbf',\n",
       " 'lu_gtha11.prj',\n",
       " 'lu_gtha11.shx',\n",
       " 'lu_gtha04.sbx',\n",
       " 'lu_gtha02.cpg',\n",
       " 'lu_gtha12.sbx',\n",
       " 'lu_gtha05.prj',\n",
       " 'lu_gtha03.sbn',\n",
       " 'lu_gtha10.prj',\n",
       " 'lu_gtha13.shx',\n",
       " 'lu_gtha13.sbn',\n",
       " 'lu_gtha01.dbf',\n",
       " 'lu_gtha04.dbf',\n",
       " 'lu_gtha09.shp',\n",
       " 'lu_gtha09.shx',\n",
       " 'lu_gtha04.shx',\n",
       " 'lu_gtha05.dbf',\n",
       " 'lu_gtha08.shp',\n",
       " 'lu_gtha09.sbx',\n",
       " 'lu_gtha07.shp',\n",
       " 'lu_gtha05.shx',\n",
       " 'lu_gtha11.dbf',\n",
       " 'lu_gtha03.shp.xml',\n",
       " 'lu_gtha13.sbx',\n",
       " 'lu_gtha06.shp',\n",
       " 'lu_gtha01.sbx']"
      ]
     },
     "execution_count": 3,
     "metadata": {},
     "output_type": "execute_result"
    }
   ],
   "source": [
    "dmti_lu_path = data_path + 'dmti/dmti_lu_gtha/'\n",
    "os.listdir(dmti_lu_path)"
   ]
  },
  {
   "cell_type": "code",
   "execution_count": 4,
   "metadata": {},
   "outputs": [
    {
     "data": {
      "text/plain": [
       "['../../data/dmti/dmti_lu_gtha/lu_gtha01.shp',\n",
       " '../../data/dmti/dmti_lu_gtha/lu_gtha02.shp',\n",
       " '../../data/dmti/dmti_lu_gtha/lu_gtha03.shp',\n",
       " '../../data/dmti/dmti_lu_gtha/lu_gtha04.shp',\n",
       " '../../data/dmti/dmti_lu_gtha/lu_gtha05.shp',\n",
       " '../../data/dmti/dmti_lu_gtha/lu_gtha06.shp',\n",
       " '../../data/dmti/dmti_lu_gtha/lu_gtha07.shp',\n",
       " '../../data/dmti/dmti_lu_gtha/lu_gtha08.shp',\n",
       " '../../data/dmti/dmti_lu_gtha/lu_gtha09.shp',\n",
       " '../../data/dmti/dmti_lu_gtha/lu_gtha10.shp',\n",
       " '../../data/dmti/dmti_lu_gtha/lu_gtha11.shp',\n",
       " '../../data/dmti/dmti_lu_gtha/lu_gtha12.shp',\n",
       " '../../data/dmti/dmti_lu_gtha/lu_gtha13.shp',\n",
       " '../../data/dmti/dmti_lu_gtha/lu_gtha14.shp']"
      ]
     },
     "execution_count": 4,
     "metadata": {},
     "output_type": "execute_result"
    }
   ],
   "source": [
    "dmti_lu_shapefile_list = glob(dmti_lu_path + '*.shp')\n",
    "dmti_lu_shapefile_list.sort()\n",
    "dmti_lu_shapefile_list"
   ]
  },
  {
   "cell_type": "markdown",
   "metadata": {
    "pycharm": {
     "name": "#%% md\n"
    }
   },
   "source": [
    "## Load Teranet data"
   ]
  },
  {
   "cell_type": "code",
   "execution_count": 5,
   "metadata": {
    "pycharm": {
     "is_executing": false,
     "name": "#%%\n"
    }
   },
   "outputs": [
    {
     "name": "stdout",
     "output_type": "stream",
     "text": [
      "----- DataFrame loaded\n",
      "in 34.96 seconds\n",
      "with 6,803,691 rows\n",
      "and 26 columns\n",
      "-- Column names:\n",
      " Index(['transaction_id', 'lro_num', 'pin', 'consideration_amt',\n",
      "       'registration_date', 'POSTAL_CODE', 'PROVINCE', 'UNITNO', 'STREET_NAME',\n",
      "       'STREET_DESIGNATION', 'STREET_DIRECTION', 'MUNICIPALITY',\n",
      "       'STREET_SUFFIX', 'STREET_NUMBER', 'X', 'Y', 'DAUID', 'CSDUID',\n",
      "       'CSDNAME', 'TAZ_O', 'FSA', 'PCA_ID', 'postal_code_dmti', 'pin_lu',\n",
      "       'LANDUSE', 'PROP_CODE'],\n",
      "      dtype='object')\n",
      "\n",
      "----- Geometry generated from 'X' and 'Y' pairs, GeoDataFrame created!\n",
      "in 90.33 seconds (1.51 minutes)\n",
      "with 6,803,691 rows\n",
      "and 27 columns\n",
      "-- Column names:\n",
      " Index(['transaction_id', 'lro_num', 'pin', 'consideration_amt',\n",
      "       'registration_date', 'POSTAL_CODE', 'PROVINCE', 'UNITNO', 'STREET_NAME',\n",
      "       'STREET_DESIGNATION', 'STREET_DIRECTION', 'MUNICIPALITY',\n",
      "       'STREET_SUFFIX', 'STREET_NUMBER', 'X', 'Y', 'DAUID', 'CSDUID',\n",
      "       'CSDNAME', 'TAZ_O', 'FSA', 'PCA_ID', 'postal_code_dmti', 'pin_lu',\n",
      "       'LANDUSE', 'PROP_CODE', 'geometry'],\n",
      "      dtype='object')\n",
      "\n",
      "----- CRS dictionary for WGS84 added to geo data frame 'teranet_gdf'!\n"
     ]
    }
   ],
   "source": [
    "t = time()\n",
    "teranet_df = pd.read_csv(teranet_path + '1.4_Teranet_DA_TAZ_FSA_LU.csv',\n",
    "                         parse_dates=['registration_date'])\n",
    "elapsed = time() - t\n",
    "print(\"----- DataFrame loaded\"\n",
    "      \"\\nin {0:.2f} seconds\".format(elapsed) + \n",
    "      \"\\nwith {0:,} rows\\nand {1:,} columns\"\n",
    "      .format(teranet_df.shape[0], teranet_df.shape[1]) + \n",
    "      \"\\n-- Column names:\\n\", teranet_df.columns)\n",
    "\n",
    "t = time()\n",
    "# combine values in columns 'x' and 'y' into a POINT geometry object\n",
    "geometry = [Point(xy) for xy in zip(teranet_df['X'], teranet_df['Y'])]\n",
    "# generate a new GeoDataFrame by adding point geometry to data frame 'teranet_sales_data'\n",
    "teranet_gdf = gpd.GeoDataFrame(teranet_df, geometry=geometry)\n",
    "elapsed = time() - t\n",
    "print(\"\\n----- Geometry generated from 'X' and 'Y' pairs, GeoDataFrame created!\"\n",
    "      \"\\nin {0:.2f} seconds ({1:.2f} minutes)\".format(elapsed, elapsed / 60) + \n",
    "      \"\\nwith {0:,} rows\\nand {1:,} columns\"\n",
    "      .format(teranet_gdf.shape[0], teranet_gdf.shape[1]) + \n",
    "      \"\\n-- Column names:\\n\", teranet_gdf.columns)\n",
    "\n",
    "# add CRS for WGS84 (lat-long) to GeoDataFrame with Teranet records\n",
    "teranet_gdf.crs = {'proj': 'latlong', \n",
    "                   'ellps': 'WGS84', \n",
    "                   'datum': 'WGS84', \n",
    "                   'no_defs': True}\n",
    "print(\"\\n----- CRS dictionary for WGS84 added to geo data frame 'teranet_gdf'!\")"
   ]
  },
  {
   "cell_type": "markdown",
   "metadata": {
    "pycharm": {
     "name": "#%% md\n"
    }
   },
   "source": [
    "## Perform the spatial join of Teranet points with DMTI land use parcels by year\n",
    "### Validate projections\n",
    ">Note: EPSG:4326 and WGS 84 represent the [same projection](https://spatialreference.org/ref/epsg/wgs-84/)."
   ]
  },
  {
   "cell_type": "code",
   "execution_count": 6,
   "metadata": {
    "scrolled": false
   },
   "outputs": [
    {
     "name": "stdout",
     "output_type": "stream",
     "text": [
      "\n",
      "----- 2001\n",
      "Joining 56,363 land use polygons from DMTI with 215,620 Teranet points...\n",
      "CRS of DMTI land use : {'proj': 'latlong', 'ellps': 'WGS84', 'datum': 'WGS84', 'no_defs': True} \n",
      "CRS of Teranet points: {'proj': 'latlong', 'ellps': 'WGS84', 'datum': 'WGS84', 'no_defs': True}\n",
      "\n",
      "Spatial join completed in 26.94 seconds (0.45 minutes)\n",
      "215,620 rows in the resultant GeoDataFrame\n",
      "\n",
      "----- 2002\n",
      "Joining 56,363 land use polygons from DMTI with 241,671 Teranet points...\n",
      "CRS of DMTI land use : {'proj': 'latlong', 'ellps': 'WGS84', 'datum': 'WGS84', 'no_defs': True} \n",
      "CRS of Teranet points: {'proj': 'latlong', 'ellps': 'WGS84', 'datum': 'WGS84', 'no_defs': True}\n",
      "\n",
      "Spatial join completed in 30.16 seconds (0.50 minutes)\n",
      "457,291 rows in the resultant GeoDataFrame\n",
      "\n",
      "----- 2003\n",
      "Joining 73,529 land use polygons from DMTI with 256,055 Teranet points...\n",
      "CRS of DMTI land use : {'proj': 'latlong', 'ellps': 'WGS84', 'datum': 'WGS84', 'no_defs': True} \n",
      "CRS of Teranet points: {'proj': 'latlong', 'ellps': 'WGS84', 'datum': 'WGS84', 'no_defs': True}\n",
      "\n",
      "Spatial join completed in 34.53 seconds (0.58 minutes)\n",
      "713,346 rows in the resultant GeoDataFrame\n",
      "\n",
      "----- 2004\n",
      "Joining 77,879 land use polygons from DMTI with 263,662 Teranet points...\n",
      "CRS of DMTI land use : {'proj': 'latlong', 'ellps': 'WGS84', 'datum': 'WGS84', 'no_defs': True} \n",
      "CRS of Teranet points: {'proj': 'latlong', 'ellps': 'WGS84', 'datum': 'WGS84', 'no_defs': True}\n",
      "\n",
      "Spatial join completed in 36.55 seconds (0.61 minutes)\n",
      "977,008 rows in the resultant GeoDataFrame\n",
      "\n",
      "----- 2005\n",
      "Joining 90,520 land use polygons from DMTI with 259,811 Teranet points...\n",
      "CRS of DMTI land use : {'proj': 'latlong', 'ellps': 'WGS84', 'datum': 'WGS84', 'no_defs': True} \n",
      "CRS of Teranet points: {'proj': 'latlong', 'ellps': 'WGS84', 'datum': 'WGS84', 'no_defs': True}\n",
      "\n",
      "Spatial join completed in 39.77 seconds (0.66 minutes)\n",
      "1,236,819 rows in the resultant GeoDataFrame\n",
      "\n",
      "----- 2006\n",
      "Joining 92,191 land use polygons from DMTI with 261,836 Teranet points...\n",
      "CRS of DMTI land use : {'proj': 'latlong', 'ellps': 'WGS84', 'datum': 'WGS84', 'no_defs': True} \n",
      "CRS of Teranet points: {'proj': 'latlong', 'ellps': 'WGS84', 'datum': 'WGS84', 'no_defs': True}\n",
      "\n",
      "Spatial join completed in 41.66 seconds (0.69 minutes)\n",
      "1,498,655 rows in the resultant GeoDataFrame\n",
      "\n",
      "----- 2007\n",
      "Joining 95,579 land use polygons from DMTI with 276,892 Teranet points...\n",
      "CRS of DMTI land use : {'proj': 'latlong', 'ellps': 'WGS84', 'datum': 'WGS84', 'no_defs': True} \n",
      "CRS of Teranet points: {'proj': 'latlong', 'ellps': 'WGS84', 'datum': 'WGS84', 'no_defs': True}\n",
      "\n",
      "Spatial join completed in 44.19 seconds (0.74 minutes)\n",
      "1,775,547 rows in the resultant GeoDataFrame\n",
      "\n",
      "----- 2008\n",
      "Joining 98,540 land use polygons from DMTI with 240,614 Teranet points...\n",
      "CRS of DMTI land use : {'proj': 'latlong', 'ellps': 'WGS84', 'datum': 'WGS84', 'no_defs': True} \n",
      "CRS of Teranet points: {'proj': 'latlong', 'ellps': 'WGS84', 'datum': 'WGS84', 'no_defs': True}\n",
      "\n",
      "Spatial join completed in 42.54 seconds (0.71 minutes)\n",
      "2,016,161 rows in the resultant GeoDataFrame\n",
      "\n",
      "----- 2009\n",
      "Joining 90,400 land use polygons from DMTI with 233,051 Teranet points...\n",
      "CRS of DMTI land use : {'proj': 'latlong', 'ellps': 'WGS84', 'datum': 'WGS84', 'no_defs': True} \n",
      "CRS of Teranet points: {'proj': 'latlong', 'ellps': 'WGS84', 'datum': 'WGS84', 'no_defs': True}\n",
      "\n",
      "Spatial join completed in 40.80 seconds (0.68 minutes)\n",
      "2,249,212 rows in the resultant GeoDataFrame\n",
      "\n",
      "----- 2010\n",
      "Joining 96,912 land use polygons from DMTI with 256,125 Teranet points...\n",
      "CRS of DMTI land use : {'proj': 'latlong', 'ellps': 'WGS84', 'datum': 'WGS84', 'no_defs': True} \n",
      "CRS of Teranet points: {'proj': 'latlong', 'ellps': 'WGS84', 'datum': 'WGS84', 'no_defs': True}\n",
      "\n",
      "Spatial join completed in 42.68 seconds (0.71 minutes)\n",
      "2,505,337 rows in the resultant GeoDataFrame\n",
      "\n",
      "----- 2011\n",
      "Joining 97,374 land use polygons from DMTI with 261,220 Teranet points...\n",
      "CRS of DMTI land use : {'proj': 'latlong', 'ellps': 'WGS84', 'datum': 'WGS84', 'no_defs': True} \n",
      "CRS of Teranet points: {'proj': 'latlong', 'ellps': 'WGS84', 'datum': 'WGS84', 'no_defs': True}\n",
      "\n",
      "Spatial join completed in 44.66 seconds (0.74 minutes)\n",
      "2,766,557 rows in the resultant GeoDataFrame\n",
      "\n",
      "----- 2012\n",
      "Joining 97,506 land use polygons from DMTI with 249,857 Teranet points...\n",
      "CRS of DMTI land use : {'proj': 'latlong', 'ellps': 'WGS84', 'datum': 'WGS84', 'no_defs': True} \n",
      "CRS of Teranet points: {'proj': 'latlong', 'ellps': 'WGS84', 'datum': 'WGS84', 'no_defs': True}\n",
      "\n",
      "Spatial join completed in 44.82 seconds (0.75 minutes)\n",
      "3,016,414 rows in the resultant GeoDataFrame\n",
      "\n",
      "----- 2013\n",
      "Joining 97,770 land use polygons from DMTI with 249,309 Teranet points...\n",
      "CRS of DMTI land use : {'proj': 'latlong', 'ellps': 'WGS84', 'datum': 'WGS84', 'no_defs': True} \n",
      "CRS of Teranet points: {'proj': 'latlong', 'ellps': 'WGS84', 'datum': 'WGS84', 'no_defs': True}\n",
      "\n",
      "Spatial join completed in 45.21 seconds (0.75 minutes)\n",
      "3,265,723 rows in the resultant GeoDataFrame\n",
      "\n",
      "----- 2014\n",
      "Joining 100,672 land use polygons from DMTI with 270,431 Teranet points...\n",
      "CRS of DMTI land use : {'proj': 'latlong', 'ellps': 'WGS84', 'datum': 'WGS84', 'no_defs': True} \n",
      "CRS of Teranet points: {'proj': 'latlong', 'ellps': 'WGS84', 'datum': 'WGS84', 'no_defs': True}\n",
      "\n",
      "Spatial join completed in 48.16 seconds (0.80 minutes)\n",
      "3,536,154 rows in the resultant GeoDataFrame\n"
     ]
    }
   ],
   "source": [
    "teranet_lu_gdf = gpd.GeoDataFrame()\n",
    "\n",
    "for shapefile in dmti_lu_shapefile_list:\n",
    "    # read one year of DMTI land use data\n",
    "    lu_gdf = gpd.read_file(shapefile)\n",
    "    cols = ['CATEGORY', 'geometry']\n",
    "    lu_gdf = lu_gdf[cols]\n",
    "    lu_gdf = lu_gdf.to_crs(teranet_gdf.crs)\n",
    "    \n",
    "    # take a subset of Teranet records for that year\n",
    "    year = int('20' + shapefile[-6:-4])\n",
    "    mask1 = teranet_gdf['registration_date'].dt.year == year\n",
    "    s = teranet_gdf[mask1]\n",
    "    \n",
    "    # perform the spatial join of Teranet points with DMTI land use polygons\n",
    "    print(\"\\n----- {0}\\nJoining {1:,} land use polygons from DMTI with {2:,} Teranet points...\"\n",
    "          .format(year, len(lu_gdf), len(s)) + \n",
    "         \"\\nCRS of DMTI land use :\", lu_gdf.crs, \"\\nCRS of Teranet points:\", s.crs)\n",
    "    t = time()\n",
    "    teranet_lu_sjoin_gdf = gpd.sjoin(s, lu_gdf, \n",
    "                                     how='left', op='within')\n",
    "    teranet_lu_gdf = teranet_lu_gdf.append(teranet_lu_sjoin_gdf)\n",
    "    elapsed = time() - t\n",
    "    print(\"\\nSpatial join completed in {0:,.2f} seconds ({1:,.2f} minutes)\\n{2:,} rows in the resultant GeoDataFrame\"\n",
    "          .format(elapsed, elapsed / 60, len(teranet_lu_gdf)))"
   ]
  },
  {
   "cell_type": "code",
   "execution_count": 7,
   "metadata": {},
   "outputs": [
    {
     "data": {
      "text/plain": [
       "Residential                     2205585\n",
       "Open Area                        584460\n",
       "Resource and Industrial          485892\n",
       "Commercial                       107305\n",
       "Government and Institutional      96255\n",
       "Parks and Recreational            53068\n",
       "Waterbody                          3492\n",
       "resource and Industrial              20\n",
       "Name: CATEGORY, dtype: int64"
      ]
     },
     "execution_count": 7,
     "metadata": {},
     "output_type": "execute_result"
    }
   ],
   "source": [
    "teranet_lu_gdf['CATEGORY'].value_counts()"
   ]
  },
  {
   "cell_type": "code",
   "execution_count": 8,
   "metadata": {},
   "outputs": [
    {
     "data": {
      "text/plain": [
       "2001    215620\n",
       "2002    241671\n",
       "2003    256055\n",
       "2004    263662\n",
       "2005    259811\n",
       "2006    261836\n",
       "2007    276892\n",
       "2008    240614\n",
       "2009    233051\n",
       "2010    256125\n",
       "2011    261220\n",
       "2012    249857\n",
       "2013    249309\n",
       "2014    270431\n",
       "Name: registration_date, dtype: int64"
      ]
     },
     "execution_count": 8,
     "metadata": {},
     "output_type": "execute_result"
    }
   ],
   "source": [
    "teranet_lu_gdf['registration_date'].dt.year.value_counts().sort_index()"
   ]
  },
  {
   "cell_type": "markdown",
   "metadata": {},
   "source": [
    "### Join DMTI land use columns back to the full Teranet dataset\n",
    "Teranet records from years for which there is no DMTI land use data available will have `dmti_lu` value of NaN."
   ]
  },
  {
   "cell_type": "code",
   "execution_count": 9,
   "metadata": {},
   "outputs": [
    {
     "name": "stdout",
     "output_type": "stream",
     "text": [
      "New columns were merged to the full Teranet GeoDataFrame.\n"
     ]
    }
   ],
   "source": [
    "teranet_lu_gdf = teranet_lu_gdf[['transaction_id', 'CATEGORY']].rename(columns={'CATEGORY': 'dmti_lu'})\n",
    "teranet_full_lu_df = pd.merge(teranet_gdf, teranet_lu_gdf, how='left', \n",
    "                               left_on='transaction_id', right_on='transaction_id')\n",
    "print(\"New columns were merged to the full Teranet GeoDataFrame.\")"
   ]
  },
  {
   "cell_type": "code",
   "execution_count": 10,
   "metadata": {},
   "outputs": [
    {
     "data": {
      "text/plain": [
       "Residential                     2205585\n",
       "Open Area                        584460\n",
       "Resource and Industrial          485892\n",
       "Commercial                       107305\n",
       "Government and Institutional      96255\n",
       "Parks and Recreational            53068\n",
       "Waterbody                          3492\n",
       "resource and Industrial              20\n",
       "Name: dmti_lu, dtype: int64"
      ]
     },
     "execution_count": 10,
     "metadata": {},
     "output_type": "execute_result"
    }
   ],
   "source": [
    "teranet_full_lu_df['dmti_lu'].value_counts()"
   ]
  },
  {
   "cell_type": "code",
   "execution_count": 11,
   "metadata": {},
   "outputs": [
    {
     "data": {
      "text/plain": [
       "2001    215620\n",
       "2002    241669\n",
       "2003    256053\n",
       "2004    263657\n",
       "2005    259809\n",
       "2006    261834\n",
       "2007    276891\n",
       "2008    240613\n",
       "2009    233051\n",
       "2010    256122\n",
       "2011    261219\n",
       "2012    249856\n",
       "2013    249307\n",
       "2014    270376\n",
       "Name: registration_date, dtype: int64"
      ]
     },
     "execution_count": 11,
     "metadata": {},
     "output_type": "execute_result"
    }
   ],
   "source": [
    "mask1 = teranet_full_lu_df['dmti_lu'].isnull()\n",
    "count_full = teranet_full_lu_df.loc[~mask1, 'registration_date'].dt.year.value_counts().sort_index()\n",
    "count_full"
   ]
  },
  {
   "cell_type": "markdown",
   "metadata": {},
   "source": [
    "### Validate results"
   ]
  },
  {
   "cell_type": "code",
   "execution_count": 12,
   "metadata": {},
   "outputs": [
    {
     "data": {
      "text/plain": [
       "3536154"
      ]
     },
     "execution_count": 12,
     "metadata": {},
     "output_type": "execute_result"
    }
   ],
   "source": [
    "len(teranet_lu_gdf)"
   ]
  },
  {
   "cell_type": "code",
   "execution_count": 13,
   "metadata": {},
   "outputs": [
    {
     "data": {
      "text/plain": [
       "3536154"
      ]
     },
     "execution_count": 13,
     "metadata": {},
     "output_type": "execute_result"
    }
   ],
   "source": [
    "teranet_lu_gdf['transaction_id'].nunique()"
   ]
  },
  {
   "cell_type": "code",
   "execution_count": 14,
   "metadata": {},
   "outputs": [
    {
     "data": {
      "text/plain": [
       "3536154"
      ]
     },
     "execution_count": 14,
     "metadata": {},
     "output_type": "execute_result"
    }
   ],
   "source": [
    "mask1 = teranet_lu_gdf['transaction_id'].isin(teranet_full_lu_df['transaction_id'])\n",
    "len(teranet_lu_gdf[mask1])"
   ]
  },
  {
   "cell_type": "code",
   "execution_count": 15,
   "metadata": {},
   "outputs": [
    {
     "data": {
      "text/plain": [
       "3536077"
      ]
     },
     "execution_count": 15,
     "metadata": {},
     "output_type": "execute_result"
    }
   ],
   "source": [
    "mask1 = teranet_full_lu_df['dmti_lu'].isnull()\n",
    "len(teranet_full_lu_df[~mask1])"
   ]
  },
  {
   "cell_type": "markdown",
   "metadata": {},
   "source": [
    "Slightly smaller number of Teranet records in the full merged dataset show non-null `dmti_lu` because 77 values of `CATEGORY` were null in the original DMTI shapefiles."
   ]
  },
  {
   "cell_type": "code",
   "execution_count": 16,
   "metadata": {},
   "outputs": [
    {
     "data": {
      "text/plain": [
       "77"
      ]
     },
     "execution_count": 16,
     "metadata": {},
     "output_type": "execute_result"
    }
   ],
   "source": [
    "teranet_lu_gdf['dmti_lu'].isnull().sum()"
   ]
  },
  {
   "cell_type": "markdown",
   "metadata": {},
   "source": [
    "### Save results to a .csv file"
   ]
  },
  {
   "cell_type": "code",
   "execution_count": 17,
   "metadata": {},
   "outputs": [
    {
     "data": {
      "text/plain": [
       "(6803691, 28)"
      ]
     },
     "execution_count": 17,
     "metadata": {},
     "output_type": "execute_result"
    }
   ],
   "source": [
    "teranet_full_lu_df.shape"
   ]
  },
  {
   "cell_type": "code",
   "execution_count": 18,
   "metadata": {},
   "outputs": [
    {
     "data": {
      "text/plain": [
       "Index(['transaction_id', 'lro_num', 'pin', 'consideration_amt',\n",
       "       'registration_date', 'POSTAL_CODE', 'PROVINCE', 'UNITNO', 'STREET_NAME',\n",
       "       'STREET_DESIGNATION', 'STREET_DIRECTION', 'MUNICIPALITY',\n",
       "       'STREET_SUFFIX', 'STREET_NUMBER', 'X', 'Y', 'DAUID', 'CSDUID',\n",
       "       'CSDNAME', 'TAZ_O', 'FSA', 'PCA_ID', 'postal_code_dmti', 'pin_lu',\n",
       "       'LANDUSE', 'PROP_CODE', 'geometry', 'dmti_lu'],\n",
       "      dtype='object')"
      ]
     },
     "execution_count": 18,
     "metadata": {},
     "output_type": "execute_result"
    }
   ],
   "source": [
    "teranet_full_lu_df.columns"
   ]
  },
  {
   "cell_type": "code",
   "execution_count": 19,
   "metadata": {
    "pycharm": {
     "is_executing": true
    }
   },
   "outputs": [
    {
     "name": "stdout",
     "output_type": "stream",
     "text": [
      "DataFrame saved to file:\n",
      " ../../data/teranet/1.4_Teranet_DA_TAZ_FSA_LU_LUDMTI.csv \n",
      "took 248.09 seconds (4.13 minutes)\n"
     ]
    }
   ],
   "source": [
    "save_path = teranet_path + '1.4_Teranet_DA_TAZ_FSA_LU_LUDMTI.csv'\n",
    "t = time()\n",
    "teranet_full_lu_df.drop('geometry', axis=1).to_csv(save_path, index=False)\n",
    "elapsed = time() - t\n",
    "print(\"DataFrame saved to file:\\n\", save_path,\n",
    "      \"\\ntook {0:.2f} seconds ({1:.2f} minutes)\".format(elapsed, elapsed / 60))"
   ]
  }
 ],
 "metadata": {
  "kernelspec": {
   "display_name": "Python 3",
   "language": "python",
   "name": "python3"
  },
  "language_info": {
   "codemirror_mode": {
    "name": "ipython",
    "version": 3
   },
   "file_extension": ".py",
   "mimetype": "text/x-python",
   "name": "python",
   "nbconvert_exporter": "python",
   "pygments_lexer": "ipython3",
   "version": "3.6.9"
  },
  "pycharm": {
   "stem_cell": {
    "cell_type": "raw",
    "metadata": {
     "collapsed": false
    },
    "source": []
   }
  }
 },
 "nbformat": 4,
 "nbformat_minor": 1
}
